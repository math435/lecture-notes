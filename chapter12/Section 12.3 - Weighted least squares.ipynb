{
 "cells": [
  {
   "cell_type": "markdown",
   "metadata": {},
   "source": [
    "---\n",
    "Some useful $\\LaTeX$ commands are defined in this cell:\n",
    "$$\n",
    "\\newcommand{\\abs}[1]{\\left\\lvert#1\\right\\rvert}\n",
    "\\newcommand{\\norm}[1]{\\left\\lVert#1\\right\\rVert}\n",
    "\\newcommand{\\set}[1]{\\left\\{#1\\right\\}}\n",
    "\\newcommand{\\paren}[1]{\\left(#1\\right)}\n",
    "\\newcommand{\\brack}[1]{\\left[#1\\right]}\n",
    "\\newcommand{\\ip}[2]{\\left\\langle#1,#2\\right\\rangle}\n",
    "\\DeclareMathOperator{\\span}{span}\n",
    "\\abs{x}, \\norm{x}, \\set{x}, \\paren{x}, \\brack{x}, \\ip{x}{y}, \\span\n",
    "$$\n",
    "\n",
    "---"
   ]
  },
  {
   "cell_type": "markdown",
   "metadata": {},
   "source": [
    "---\n",
    "# 12.3 Weighted least squares\n",
    "---"
   ]
  },
  {
   "cell_type": "markdown",
   "metadata": {},
   "source": [
    "## The $w$-inner-product and $w$-norm\n",
    "We now consider using a different inner-product to obtain different families of orthogonal polynomials.\n",
    "\n",
    "Let $w(x) \\in C[a,b]$ be a function that satisfies\n",
    "\n",
    "$$w(x) \\geq 0, \\quad x \\in [a,b].$$\n",
    "\n",
    "We then define the **$w$-inner-product**,\n",
    "\n",
    "$$\\ip{f}{g}_w := \\int_a^b w(x) f(x) g(x)\\,dx, $$\n",
    "\n",
    "and the corresponding **$w$-norm**,\n",
    "\n",
    "$$\\norm{f}_w := \\sqrt{\\ip{f}{f}_w} = \\paren{\\int_a^b w(x) \\brack{f(x)}^2 \\,dx}^\\frac12.$$"
   ]
  },
  {
   "cell_type": "markdown",
   "metadata": {},
   "source": [
    "## The weighted least-squares problem\n",
    "\n",
    "Using the $w$-norm, we get the **weighted least-squares problem**:\n",
    "\n",
    "$$\\min_{p \\in S} \\norm{f - p}_w^2 = \\int_a^b w(x) \\brack{f(x) - p(x)}^2\\,dx,$$\n",
    "\n",
    "where $S = \\span\\set{\\phi_0,\\ldots,\\phi_n}$.\n",
    "\n",
    "Thus, the **weight function** $w(x)$ can be used to put more or less emphasisis on having $p(x)$ approximate $f(x)$ over the interval $[a,b]$.\n",
    "\n",
    "For example, for $x \\in [a,b]$ where $w(x) \\approx 0$, we do not need $p(x)$ to approximate $f(x)$ very well.\n",
    "\n",
    "For $x \\in [a,b]$ where $w(x) \\gg 0$, we will need $p(x)$ to approximate $f(x)$ very closely.\n",
    "\n",
    "\n"
   ]
  },
  {
   "cell_type": "markdown",
   "metadata": {},
   "source": [
    "## Solving the weighted least-squares problem\n",
    "\n",
    "Using exactly the same reasoning as in Section 12.3, we can compute the least-squares solution \n",
    "\n",
    "$$p = \\sum_{j=0}^n c_j \\phi_j$$\n",
    "\n",
    "by solving the **normal equations** $Bc = b$, where now we have\n",
    "\n",
    "$$\n",
    "B := \n",
    "\\begin{bmatrix}\n",
    "\\ip{\\phi_0}{\\phi_0}_w & \\cdots & \\ip{\\phi_0}{\\phi_n}_w \\\\\n",
    "\\vdots & \\ddots & \\vdots\\\\\n",
    "\\ip{\\phi_n}{\\phi_0}_w & \\cdots & \\ip{\\phi_n}{\\phi_n}_w \\\\\n",
    "\\end{bmatrix},\n",
    "\\qquad\n",
    "b := \n",
    "\\begin{bmatrix}\n",
    "\\ip{f}{\\phi_0}_w\\\\\n",
    "\\vdots\\\\\n",
    "\\ip{f}{\\phi_n}_w\\\\\n",
    "\\end{bmatrix}.\n",
    "$$\n"
   ]
  },
  {
   "cell_type": "markdown",
   "metadata": {},
   "source": [
    "## Orthogonal basis\n",
    "\n",
    "As in the previous section, we would like to find an basis $\\set{\\phi_0,\\ldots,\\phi_n}$ that is orthogonal with respect to the $w$-inner-product:\n",
    "\n",
    "$$\\ip{\\phi_i}{\\phi_j}_w = 0, \\quad i \\neq j.$$\n",
    "\n",
    "We can obtain this by applying the **Gram-Schmidt process** to the monomial basis $\\set{1,x,\\ldots,x^n}$."
   ]
  },
  {
   "cell_type": "markdown",
   "metadata": {},
   "source": [
    "## Three-term recurrence relation\n",
    "\n",
    "As with the Legendre polynomials, we also obtain a three-term recurrence relation when using the $w$-inner-product:\n",
    "\n",
    "$$\n",
    "\\begin{align}\n",
    "\\phi_0(x) &= 1\\\\\n",
    "\\phi_1(x) &= x - \\beta_1\\\\\n",
    "\\phi_k(x) &= (x - \\beta_k)\\phi_{k-1}(x) - \\gamma_k\\phi_{k-2}(x), \\quad k \\geq 2\\\\\n",
    "\\end{align}\n",
    "$$\n",
    "\n",
    "where\n",
    "\n",
    "$$\n",
    "\\beta_k = \\frac{\\ip{x\\phi_{k-1}}{\\phi_{k-1}}_w}{\\ip{\\phi_{k-1}}{\\phi_{k-1}}_w}, \\quad k \\geq 1,\n",
    "$$\n",
    "\n",
    "and \n",
    "\n",
    "$$\n",
    "\\gamma_k = \\frac{\\ip{x\\phi_{k-1}}{\\phi_{k-2}}_w}{\\ip{\\phi_{k-2}}{\\phi_{k-2}}_w}, \\quad k \\geq 2.\n",
    "$$\n",
    "\n",
    "It can be proven using mathematical induction that these polynomials $\\phi_0,\\ldots,\\phi_n$ are pairwise-orthogonal."
   ]
  },
  {
   "cell_type": "markdown",
   "metadata": {},
   "source": [
    "## **Legendre polynomials**:  $w(x) = 1$ over $[-1, 1]$\n",
    "\n",
    "$$\n",
    "\\begin{align}\n",
    "\\phi_0(x) &= 1,\\\\\n",
    "\\phi_1(x) &= x,\\\\\n",
    "\\phi_{k+1}(x) &= \\frac{2k+1}{k+1} x \\phi_k(x) - \\frac{k}{k+1} \\phi_{k-1}(x), \\quad k = 1,\\ldots,n-1.\\\\\n",
    "\\end{align}\n",
    "$$"
   ]
  },
  {
   "cell_type": "markdown",
   "metadata": {},
   "source": [
    "## **Laguerre polynomials**:  $w(x) = e^{-x}$ over $[0,\\infty)$\n",
    "\n",
    "$$\\begin{align}\n",
    "\\phi_0(x) &= 1\\\\\n",
    "\\phi_1(x) &= 1 - x\\\\\n",
    "\\phi_{k+1}(x) &= \\frac{2k+1 - x}{k+1} \\phi_k(x) - \\frac{k}{k+1}\\phi_{k-1}(x), \\quad k = 1,2,\\ldots,n-1.\n",
    "\\end{align}\n",
    "$$\n",
    "  "
   ]
  },
  {
   "cell_type": "markdown",
   "metadata": {},
   "source": [
    "## **Hermite polynomials**:  $w(x) = e^{-x^2}$ over $(-\\infty, \\infty)$\n",
    "\n",
    "$$\\begin{align}\n",
    "\\phi_0(x) &= 1\\\\\n",
    "\\phi_1(x) &= 2x\\\\\n",
    "\\phi_{k+1}(x) &= 2x\\phi_k(x) - 2k\\phi_{k-1}(x), \\quad k = 1,2,\\ldots,n-1.\n",
    "\\end{align}\n",
    "$$"
   ]
  },
  {
   "cell_type": "markdown",
   "metadata": {},
   "source": [
    "## **Chebyshev polynomials**: $w(x) = \\frac{1}{\\sqrt{1-x^2}}$ over $[-1,1]$\n",
    "\n",
    "$$\\begin{align}\n",
    "\\phi_0(x) &= 1\\\\\n",
    "\\phi_1(x) &= x\\\\\n",
    "\\phi_{k+1}(x) &= 2x\\phi_k(x) - \\phi_{k-1}(x), \\quad k = 1,2,\\ldots,n-1.\n",
    "\\end{align}\n",
    "$$"
   ]
  },
  {
   "cell_type": "markdown",
   "metadata": {},
   "source": [
    "---"
   ]
  },
  {
   "cell_type": "markdown",
   "metadata": {},
   "source": [
    "## Laguerre polynomials"
   ]
  },
  {
   "cell_type": "code",
   "execution_count": null,
   "metadata": {},
   "outputs": [],
   "source": [
    "using Plots, LaTeXStrings\n",
    "using SymPy, LinearAlgebra\n",
    "using QuadGK"
   ]
  },
  {
   "cell_type": "code",
   "execution_count": null,
   "metadata": {},
   "outputs": [],
   "source": [
    "n = 4\n",
    "\n",
    "xx = range(0, 5, length=1000)\n",
    "\n",
    "ϕ0, ϕ1 = ones(length(xx)), xx\n",
    "plot(legend=:bottomleft, title=\"Laguerre polynomials\")\n",
    "plot!(xx, ϕ0, label=L\"\\phi_0\")\n",
    "plot!(xx, ϕ1, label=L\"\\phi_1\")\n",
    "\n",
    "ϕolder, ϕold = ϕ0, ϕ1\n",
    "for k = 1:n-1\n",
    "    ϕ = ((2k + 1 .- xx).*ϕold .- k*ϕolder)/(k+1)\n",
    "    plot!(xx, ϕ, label=latexstring(\"\\\\phi_$(k+1)\"))\n",
    "    ϕolder, ϕold = ϕold, ϕ\n",
    "end\n",
    "hline!([0], c=:black, label=:none)"
   ]
  },
  {
   "cell_type": "markdown",
   "metadata": {},
   "source": [
    "---"
   ]
  },
  {
   "cell_type": "markdown",
   "metadata": {},
   "source": [
    "## Example\n",
    "\n",
    "Let's use the **Laguerre basis** to find an **exact representation** of the polynomial of degree at most **four** that best fits $f(x) = \\cos(x)$ over the interval $[0, \\infty)$ with respect to the $w$-norm, where $w(x) = e^{-x}$."
   ]
  },
  {
   "cell_type": "code",
   "execution_count": null,
   "metadata": {},
   "outputs": [],
   "source": [
    "n = 4\n",
    "\n",
    "x = symbols(\"x\")\n",
    "w = exp(-x)  # Define the weight function"
   ]
  },
  {
   "cell_type": "code",
   "execution_count": null,
   "metadata": {},
   "outputs": [],
   "source": [
    "ϕ = zeros(Sym, n+1)\n",
    "\n",
    "ϕ[1] = 1\n",
    "ϕ[2] = 1 - x\n",
    "for k = 1:n-1\n",
    "    ϕ[k+2] = expand(((2k + 1 - x)*ϕ[k+1] - k*ϕ[k])/(k+1))\n",
    "end\n",
    "\n",
    "ϕ"
   ]
  },
  {
   "cell_type": "code",
   "execution_count": null,
   "metadata": {},
   "outputs": [],
   "source": [
    "oo"
   ]
  },
  {
   "cell_type": "code",
   "execution_count": null,
   "metadata": {},
   "outputs": [],
   "source": [
    "B = Sym[integrate(w*ϕ[i]*ϕ[j], (x, 0, oo)) for i=1:n+1, j=1:n+1]"
   ]
  },
  {
   "cell_type": "code",
   "execution_count": null,
   "metadata": {},
   "outputs": [],
   "source": [
    "b = Sym[integrate(w*ϕ[i]*cos(x), (x, 0, oo)) for i=1:n+1]"
   ]
  },
  {
   "cell_type": "code",
   "execution_count": null,
   "metadata": {},
   "outputs": [],
   "source": [
    "c = b\n",
    "p = expand(dot(c,ϕ))"
   ]
  },
  {
   "cell_type": "code",
   "execution_count": null,
   "metadata": {},
   "outputs": [],
   "source": [
    "xx = range(0, 4π, length=1000)\n",
    "yy = Float64[subs(p, x, xi) for xi in xx]\n",
    "\n",
    "plot(legend=:bottomleft)\n",
    "plot!(xx, cos.(xx), label=L\"y = \\cos x\")\n",
    "plot!(xx, yy, label=L\"y = p(x)\")"
   ]
  },
  {
   "cell_type": "markdown",
   "metadata": {},
   "source": [
    "---"
   ]
  },
  {
   "cell_type": "markdown",
   "metadata": {},
   "source": [
    "## Hermite polynomials"
   ]
  },
  {
   "cell_type": "code",
   "execution_count": null,
   "metadata": {},
   "outputs": [],
   "source": [
    "n = 4\n",
    "\n",
    "xx = range(-1, 1, length=1000)\n",
    "\n",
    "ϕ0 = ones(length(xx))\n",
    "ϕ1 = 2xx\n",
    "\n",
    "plot(legend=:topright, title=\"Hermite polynomials\")\n",
    "plot!(xx, ϕ0, label=L\"\\phi_0\")\n",
    "plot!(xx, ϕ1, label=L\"\\phi_1\")\n",
    "\n",
    "ϕolder, ϕold = ϕ0, ϕ1\n",
    "for k = 1:n-1\n",
    "    ϕ = 2xx.*ϕold - 2k*ϕolder\n",
    "    plot!(xx, ϕ, label=latexstring(\"\\\\phi_$(k+1)\"))\n",
    "    ϕolder, ϕold = ϕold, ϕ\n",
    "end\n",
    "hline!([0], c=:black, label=:none)"
   ]
  },
  {
   "cell_type": "markdown",
   "metadata": {},
   "source": [
    "---"
   ]
  },
  {
   "cell_type": "markdown",
   "metadata": {},
   "source": [
    "## Example\n",
    "\n",
    "Let's use the **Hermite basis** to find an **exact representation** of the polynomial of degree at most **four** that best fits $f(x) = \\cos(x)$ over the interval $(-\\infty, \\infty)$ with respect to the $w$-norm, where $w(x) = e^{-x^2}$."
   ]
  },
  {
   "cell_type": "code",
   "execution_count": null,
   "metadata": {},
   "outputs": [],
   "source": [
    "n = 4\n",
    "\n",
    "x = symbols(\"x\")\n",
    "w = exp(-x^2)  # Define the weight function"
   ]
  },
  {
   "cell_type": "code",
   "execution_count": null,
   "metadata": {},
   "outputs": [],
   "source": [
    "ϕ = zeros(Sym, n+1)\n",
    "\n",
    "ϕ[1] = 1\n",
    "ϕ[2] = 2x\n",
    "for k = 1:n-1\n",
    "    ϕ[k+2] = expand(2x*ϕ[k+1] - 2k*ϕ[k])\n",
    "end\n",
    "\n",
    "ϕ"
   ]
  },
  {
   "cell_type": "code",
   "execution_count": null,
   "metadata": {},
   "outputs": [],
   "source": [
    "B = Sym[integrate(w*ϕ[i]*ϕ[j], (x, -oo, oo)) for i=1:n+1, j=1:n+1]"
   ]
  },
  {
   "cell_type": "markdown",
   "metadata": {},
   "source": [
    "The **Hermite polynomials** satisfy\n",
    "\n",
    "$$\\ip{\\phi_k}{\\phi_k}_w = 2^k k! \\sqrt{\\pi}, \\quad k=0,\\ldots,n.$$\n",
    "\n",
    "(See [Hermite polynomials](http://en.wikipedia.org/wiki/Hermite_polynomials))"
   ]
  },
  {
   "cell_type": "code",
   "execution_count": null,
   "metadata": {},
   "outputs": [],
   "source": [
    "d = Float64[2^k*factorial(k)*√PI for k=0:n]"
   ]
  },
  {
   "cell_type": "code",
   "execution_count": null,
   "metadata": {},
   "outputs": [],
   "source": [
    "b = Float64[\n",
    "    quadgk(x̄ -> subs(w*ϕ[i]*cos(x), x, x̄), -Inf, 0)[1] +\n",
    "    quadgk(x̄ -> subs(w*ϕ[i]*cos(x), x, x̄), 0, Inf)[1] \n",
    "    for i=1:n+1]"
   ]
  },
  {
   "cell_type": "code",
   "execution_count": null,
   "metadata": {},
   "outputs": [],
   "source": [
    "c = b./d"
   ]
  },
  {
   "cell_type": "code",
   "execution_count": null,
   "metadata": {},
   "outputs": [],
   "source": [
    "p = expand(c ⋅ ϕ)"
   ]
  },
  {
   "cell_type": "code",
   "execution_count": null,
   "metadata": {},
   "outputs": [],
   "source": [
    "xx = range(-3π/2, 3π/2, length=1000)\n",
    "yy = Float64[subs(p, x, xi) for xi in xx]\n",
    "\n",
    "plot(legend=:top)\n",
    "plot!(xx, cos.(xx), label=L\"y = \\cos x\")\n",
    "plot!(xx, yy, label=L\"y = p(x)\")"
   ]
  },
  {
   "cell_type": "markdown",
   "metadata": {},
   "source": [
    "---"
   ]
  },
  {
   "cell_type": "markdown",
   "metadata": {},
   "source": [
    "## Chebyshev polynomials"
   ]
  },
  {
   "cell_type": "code",
   "execution_count": null,
   "metadata": {},
   "outputs": [],
   "source": [
    "using Plots\n",
    "\n",
    "n = 4\n",
    "\n",
    "xx = range(-1, 1, length=1000)\n",
    "\n",
    "ϕ0 = ones(length(xx))\n",
    "ϕ1 = xx\n",
    "plot(legend=:topright, title=\"Chebyshev polynomials\")\n",
    "plot!(xx, ϕ0, label=L\"\\phi_0\")\n",
    "plot!(xx, ϕ1, label=L\"\\phi_1\")\n",
    "\n",
    "ϕolder, ϕold = ϕ0, ϕ1\n",
    "for k = 1:n-1\n",
    "    ϕ = 2xx.*ϕold - 2ϕolder\n",
    "    plot!(xx, ϕ, label=latexstring(\"\\\\phi_$(k+1)\"))\n",
    "    ϕolder, ϕold = ϕold, ϕ\n",
    "end\n",
    "hline!([0], c=:black, label=:none)"
   ]
  },
  {
   "cell_type": "markdown",
   "metadata": {},
   "source": [
    "---"
   ]
  },
  {
   "cell_type": "markdown",
   "metadata": {},
   "source": [
    "## Example\n",
    "\n",
    "Let's use the **Chebyshev basis** to find an **exact representation** of the polynomial of degree at most **two** that best fits $f(x) = \\cos(x)$ over the interval $[-1,1]$ with respect to the $w$-norm, where $w(x) = \\frac{1}{\\sqrt{1-x^2}}$."
   ]
  },
  {
   "cell_type": "code",
   "execution_count": null,
   "metadata": {},
   "outputs": [],
   "source": [
    "using SymPy\n",
    "\n",
    "n = 2\n",
    "\n",
    "x, t = symbols(\"x, t\")\n",
    "w = 1/√(1-x^2)  # Define the weight function"
   ]
  },
  {
   "cell_type": "code",
   "execution_count": null,
   "metadata": {},
   "outputs": [],
   "source": [
    "ϕ = zeros(Sym, n+1)\n",
    "\n",
    "ϕ[1] = 1\n",
    "ϕ[2] = x\n",
    "for k = 1:n-1\n",
    "    ϕ[k+2] = expand(2x*ϕ[k+1] - ϕ[k])\n",
    "end\n",
    "\n",
    "ϕ"
   ]
  },
  {
   "cell_type": "markdown",
   "metadata": {},
   "source": [
    "The **Chebyshev polynomials** satisfy\n",
    "\n",
    "$$\n",
    "\\begin{align}\n",
    "\\ip{\\phi_0}{\\phi_0}_w &= \\pi,\\\\\n",
    "\\ip{\\phi_k}{\\phi_k}_w &= \\frac{\\pi}{2}, \\quad k=1,\\ldots,n.\n",
    "\\end{align}$$"
   ]
  },
  {
   "cell_type": "code",
   "execution_count": null,
   "metadata": {},
   "outputs": [],
   "source": [
    "d = [PI; PI/2*ones(Sym, n)]"
   ]
  },
  {
   "cell_type": "markdown",
   "metadata": {},
   "source": [
    "Now we need to compute\n",
    "\n",
    "$$\\ip{\\phi_k}{\\cos}_w = \\int_{-1}^1 \\frac{\\phi_k(x) \\cos(x)}{\\sqrt{1-x^2}} dx.$$\n",
    "\n",
    "Let $x = \\cos(\\theta)$. Then $dx = -\\sin(\\theta) d\\theta$.\n",
    "\n",
    "Therfore,\n",
    "\n",
    "$$\\ip{\\phi_k}{\\cos}_w = \\int_{0}^\\pi \\cos(k\\theta) \\cos(\\cos(\\theta))\\,d\\theta.$$\n"
   ]
  },
  {
   "cell_type": "code",
   "execution_count": null,
   "metadata": {},
   "outputs": [],
   "source": [
    "b = Sym[integrate(cos(k*t)*cos(cos(t)), (t, 0, PI)) for k=0:n]"
   ]
  },
  {
   "cell_type": "code",
   "execution_count": null,
   "metadata": {},
   "outputs": [],
   "source": [
    "b = float(b)"
   ]
  },
  {
   "cell_type": "code",
   "execution_count": null,
   "metadata": {},
   "outputs": [],
   "source": [
    "c = b./float(d)"
   ]
  },
  {
   "cell_type": "code",
   "execution_count": null,
   "metadata": {},
   "outputs": [],
   "source": [
    "p = expand(c ⋅ ϕ)"
   ]
  },
  {
   "cell_type": "code",
   "execution_count": null,
   "metadata": {},
   "outputs": [],
   "source": [
    "xx = range(-1, 1, length=1000)\n",
    "yy = Float64[subs(p, x, xi) for xi in xx]\n",
    "\n",
    "plot(legend=:topright)\n",
    "plot!(xx, cos.(xx), label=L\"y = \\cos x\")\n",
    "plot!(xx, yy, label=L\"y = p(x)\")"
   ]
  },
  {
   "cell_type": "markdown",
   "metadata": {},
   "source": [
    "---"
   ]
  }
 ],
 "metadata": {
  "@webio": {
   "lastCommId": null,
   "lastKernelId": null
  },
  "kernelspec": {
   "display_name": "Julia 1.5.3",
   "language": "julia",
   "name": "julia-1.5"
  },
  "language_info": {
   "file_extension": ".jl",
   "mimetype": "application/julia",
   "name": "julia",
   "version": "1.5.3"
  }
 },
 "nbformat": 4,
 "nbformat_minor": 1
}
