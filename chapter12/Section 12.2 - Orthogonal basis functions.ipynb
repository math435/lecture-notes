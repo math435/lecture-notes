{
 "cells": [
  {
   "cell_type": "markdown",
   "metadata": {},
   "source": [
    "---\n",
    "Some useful $\\LaTeX$ commands are defined in this cell:\n",
    "$$\n",
    "\\newcommand{\\abs}[1]{\\left\\lvert#1\\right\\rvert}\n",
    "\\newcommand{\\norm}[1]{\\left\\lVert#1\\right\\rVert}\n",
    "\\newcommand{\\set}[1]{\\left\\{#1\\right\\}}\n",
    "\\newcommand{\\paren}[1]{\\left(#1\\right)}\n",
    "\\newcommand{\\brack}[1]{\\left[#1\\right]}\n",
    "\\newcommand{\\ip}[2]{\\left\\langle#1,#2\\right\\rangle}\n",
    "\\DeclareMathOperator{\\span}{span}\n",
    "\\abs{x}, \\norm{x}, \\set{x}, \\paren{x}, \\brack{x}, \\ip{x}{y}, \\span\n",
    "$$\n",
    "\n",
    "---"
   ]
  },
  {
   "cell_type": "markdown",
   "metadata": {},
   "source": [
    "---\n",
    "# 12.2 Orthogonal basis functions\n",
    "---"
   ]
  },
  {
   "cell_type": "markdown",
   "metadata": {},
   "source": [
    "It would be great if we could find a basis $\\phi_0,\\ldots,\\phi_n$ for which solving $Bc = b$, where \n",
    "\n",
    "$$\n",
    "B := \n",
    "\\begin{bmatrix}\n",
    "\\ip{\\phi_0}{\\phi_0} & \\cdots & \\ip{\\phi_0}{\\phi_n} \\\\\n",
    "\\vdots & \\ddots & \\vdots\\\\\n",
    "\\ip{\\phi_n}{\\phi_0} & \\cdots & \\ip{\\phi_n}{\\phi_n} \\\\\n",
    "\\end{bmatrix},\n",
    "\\qquad\n",
    "b := \n",
    "\\begin{bmatrix}\n",
    "\\ip{f}{\\phi_0}\\\\\n",
    "\\vdots\\\\\n",
    "\\ip{f}{\\phi_n}\\\\\n",
    "\\end{bmatrix}.\n",
    "$$\n",
    "\n",
    "is trivial.\n",
    "\n",
    "The best case is when $B = I$, but having $B$ **diagonal** would also be great."
   ]
  },
  {
   "cell_type": "markdown",
   "metadata": {},
   "source": [
    "## Orthogonal basis\n",
    "\n",
    "We want a basis that satisfies:\n",
    "\n",
    "$$\\ip{\\phi_i}{\\phi_j} = 0, \\quad i \\neq j.$$\n",
    "\n",
    "That is, we want $\\phi_0,\\ldots,\\phi_n$ to be **pairwise orthognal**.\n",
    "\n",
    "An **orthogonal basis** is a basis that is pairwise orthogonal.\n",
    "\n",
    "If $\\set{\\phi_0,\\ldots,\\phi_n}$ is an orthogonal basis and\n",
    "\n",
    "$$\\ip{\\phi_i}{\\phi_i} = 1, \\quad i = 0,\\ldots,n,$$\n",
    "\n",
    "we say that $\\set{\\phi_0,\\ldots,\\phi_n}$ is an **orthonormal basis**."
   ]
  },
  {
   "cell_type": "markdown",
   "metadata": {},
   "source": [
    "Note that\n",
    "\n",
    "$$B_{ii} = \\ip{\\phi_i}{\\phi_i} = \\norm{\\phi_i}_2^2.$$\n",
    "\n",
    "Thus, to solve $Bc = b$ for an orthogonal basis $\\set{\\phi_0,\\ldots,\\phi_n}$ we simply set\n",
    "\n",
    "$$ c_i = \\frac{b_i}{\\norm{\\phi_i}_2^2}, \\quad i=0,\\ldots,n.$$\n",
    "\n",
    "If the basis is orthonormal, then $B = I$, so we have $c = b$."
   ]
  },
  {
   "cell_type": "markdown",
   "metadata": {},
   "source": [
    "## Gram-Schmidt orthogonalization\n",
    "\n",
    "Given a basis $\\set{\\psi_0,\\ldots,\\psi_n}$, we can create an **orthogonal basis** for \n",
    "\n",
    "$$\\span\\set{\\psi_0,\\ldots,\\psi_n}$$\n",
    "\n",
    "using the [Gram-Schmidt process](http://en.wikipedia.org/wiki/Gram%E2%80%93Schmidt_process).\n",
    "\n",
    "Suppose we have just two functions $\\set{\\psi_0,\\psi_1}$. First we set \n",
    "\n",
    "$$\\fbox{$\\phi_0 := \\psi_0$}$$\n",
    "\n",
    "Now let $p$ be the orthogonal projection of $\\psi_1$ onto $\\span\\set{\\phi_0}$.\n",
    "\n",
    "That is, $p = c_0 \\phi_0$, where $c_0$ is found by solving $Bc = b$.\n",
    "\n",
    "Since $B = \\begin{bmatrix} \\ip{\\phi_0}{\\phi_0} \\end{bmatrix}$ and $b = \\begin{bmatrix} \\ip{\\psi_1}{\\phi_0} \\end{bmatrix}$, we have $c_0 = \\ip{\\psi_1}{\\phi_0} \\big/ \\ip{\\phi_0}{\\phi_0}$, so\n",
    "\n",
    "$$p = \\frac{\\ip{\\psi_1}{\\phi_0}}{\\ip{\\phi_0}{\\phi_0}} \\phi_0.$$"
   ]
  },
  {
   "cell_type": "markdown",
   "metadata": {},
   "source": [
    "Then we let $\\phi_1 = \\psi_1 - p$, which is the residual of the projection of $\\psi_1$ onto $\\span\\set{\\phi_0}$.\n",
    "\n",
    "That is,\n",
    "\n",
    "$$\\phi_1 := \\psi_1 - \\frac{\\ip{\\psi_1}{\\phi_0}}{\\ip{\\phi_0}{\\phi_0}} \\phi_0.$$\n",
    "\n",
    "Recall that the residual of an orthogonal projection is orthogonal to every basis vector.\n",
    "\n",
    "Thus, $\\ip{\\phi_1}{\\phi_0} = 0$, so we have an orthogonal basis. \n",
    "\n",
    "Additionally, it can be shown that\n",
    "\n",
    "$$\\span\\set{\\phi_0,\\phi_1} = \\span\\set{\\psi_0,\\psi_1}.$$"
   ]
  },
  {
   "cell_type": "markdown",
   "metadata": {},
   "source": [
    "### Induction step\n",
    "\n",
    "Suppose after $k$ steps we have computed an orthogonal basis $\\set{\\phi_0,\\ldots,\\phi_k}$ that satisfies\n",
    "\n",
    "$$\\span\\set{\\phi_0,\\ldots,\\phi_k} = \\span\\set{\\psi_0,\\ldots,\\psi_k}.$$\n",
    "\n",
    "As before, we let $p = \\sum_{j=0}^k c_j \\phi_j$ be the projection of $\\psi_{k+1}$ onto $\\span\\set{\\phi_0,\\ldots,\\phi_k}$.\n",
    "\n",
    "To do this, we need to solve $Bc = b$:\n",
    "\n",
    "$$\n",
    "\\begin{bmatrix}\n",
    "\\ip{\\phi_0}{\\phi_0}\\\\\n",
    "&\\ip{\\phi_1}{\\phi_1}\\\\\n",
    "&&\\ddots\\\\\n",
    "&&&\\ip{\\phi_k}{\\phi_k}\\\\\n",
    "\\end{bmatrix}\n",
    "\\begin{bmatrix}\n",
    "c_0\\\\\n",
    "c_1\\\\\n",
    "\\vdots\\\\\n",
    "c_k\\\\\n",
    "\\end{bmatrix}  \n",
    "= \n",
    "\\begin{bmatrix}\n",
    "\\ip{\\psi_{k+1}}{\\phi_0}\\\\\n",
    "\\ip{\\psi_{k+1}}{\\phi_1}\\\\\n",
    "\\vdots\\\\\n",
    "\\ip{\\psi_{k+1}}{\\phi_k}\\\\\n",
    "\\end{bmatrix}\n",
    "$$\n",
    "\n",
    "Therefore, we have\n",
    "\n",
    "$$p = \\sum_{j=0}^k c_j\\phi_j = \\sum_{j=0}^k \\frac{\\ip{\\psi_{k+1}}{\\phi_j}}{\\ip{\\phi_j}{\\phi_j}} \\phi_j.$$"
   ]
  },
  {
   "cell_type": "markdown",
   "metadata": {},
   "source": [
    "Letting $\\phi_{k+1}$ be the residual of the projection of $\\psi_{k+1}$ onto $\\span\\set{\\phi_0,\\ldots,\\phi_k}$ (i.e., $\\phi_{k+1} = \\psi_{k+1} - p$), we obtain\n",
    "\n",
    "$$\\fbox{${\\displaystyle \\phi_{k+1} := \\psi_{k+1} - \\sum_{j=0}^k \\frac{\\ip{\\psi_{k+1}}{\\phi_j}}{\\ip{\\phi_j}{\\phi_j}} \\phi_j}$}$$\n",
    "\n",
    "Since the residual of an orthogonal projection is orthogonal to every basis vector, we have that $\\set{\\phi_0,\\ldots,\\phi_{k+1}}$ is orthogonal.\n",
    "\n",
    "Additionally, we can show that\n",
    "\n",
    "$$\\span\\set{\\phi_0,\\ldots,\\phi_{k+1}} = \\span\\set{\\psi_0,\\ldots,\\psi_{k+1}}.$$"
   ]
  },
  {
   "cell_type": "markdown",
   "metadata": {},
   "source": [
    "### Summary\n",
    "\n",
    "Given a basis $\\set{\\psi_0,\\ldots,\\psi_n}$, we can create an orthogonal basis $\\set{\\phi_0,\\ldots,\\phi_n}$ that satisfies\n",
    "\n",
    "$$\\span\\set{\\phi_0,\\ldots,\\phi_n} = \\span\\set{\\psi_0,\\ldots,\\psi_n}$$\n",
    "\n",
    "using the **Gram-Schmidt process**:\n",
    "\n",
    "$$\\fbox{\n",
    "${\\displaystyle\n",
    "\\phi_{k} := \\psi_{k} - \\sum_{j=0}^{k-1} \\frac{\\ip{\\psi_{k}}{\\phi_j}}{\\ip{\\phi_j}{\\phi_j}} \\phi_j, \\quad k=0,\\ldots,n.\n",
    "}$\n",
    "}\n",
    "$$\n"
   ]
  },
  {
   "cell_type": "markdown",
   "metadata": {},
   "source": [
    "### An orthonormal basis\n",
    "\n",
    "To obtain an orthonormal basis, we just need to **normalize** each vector by dividing it by its norm:\n",
    "\n",
    "$$\\phi_k \\gets \\frac{1}{\\norm{\\phi_k}_2}\\phi_k, \\quad k=0,\\ldots,n.$$"
   ]
  },
  {
   "cell_type": "markdown",
   "metadata": {},
   "source": [
    "## Legendre polynomial basis\n",
    "\n",
    "The **[Legendre polynomials](http://en.wikipedia.org/wiki/Legendre_polynomials)**, named after [Adrien-Marie Legendre](http://en.wikipedia.org/wiki/Adrien-Marie_Legendre), form an othogonal basis for the space of polynomials having degree at most $n$.\n",
    "\n",
    "These polynomials are defined on the interval $[-1,1]$ and are obtained by performing the **Gram-Schmidt process** on the monomial basis $\\set{1,x,x^2,\\ldots,x^n}$."
   ]
  },
  {
   "cell_type": "code",
   "execution_count": null,
   "metadata": {},
   "outputs": [],
   "source": [
    "using SymPy, LinearAlgebra\n",
    "using Plots, LaTeXStrings"
   ]
  },
  {
   "cell_type": "code",
   "execution_count": null,
   "metadata": {},
   "outputs": [],
   "source": [
    "n = 5\n",
    "\n",
    "# Define ψ = [1, x, ..., x^n]\n",
    "x = symbols(\"x\")\n",
    "ψ = [x^i for i=0:n]"
   ]
  },
  {
   "cell_type": "code",
   "execution_count": null,
   "metadata": {},
   "outputs": [],
   "source": [
    "# Perform Gram-Schmidt to obtain ϕ\n",
    "ϕ = zeros(Sym, length(ψ))\n",
    "for k=0:n\n",
    "    ϕ[k+1] = ψ[k+1]\n",
    "    for j=0:k-1\n",
    "        ψϕ = integrate(ψ[k+1]*ϕ[j+1], (x, -1, 1))\n",
    "        ϕϕ = integrate(ϕ[j+1]*ϕ[j+1], (x, -1, 1))\n",
    "        ϕ[k+1] -= (ψϕ/ϕϕ)*ϕ[j+1]\n",
    "    end\n",
    "end\n",
    "ϕ"
   ]
  },
  {
   "cell_type": "code",
   "execution_count": null,
   "metadata": {},
   "outputs": [],
   "source": [
    "# Plot all functions in ϕ\n",
    "xx = range(-1, 1, length=1000)\n",
    "\n",
    "plt = plot(legend=:bottomright, aspect_ratio=:equal, size=(600,600))\n",
    "for k=0:n\n",
    "    yy = [subs(ϕ[k+1], x, xi) for xi in xx]\n",
    "    plot!(xx, yy, label=latexstring(\"\\\\phi_$k\"))\n",
    "end\n",
    "hline!([0], c=:black, label=:none)"
   ]
  },
  {
   "cell_type": "code",
   "execution_count": null,
   "metadata": {},
   "outputs": [],
   "source": [
    "B = [integrate(ϕ[i]*ϕ[j], (x, -1, 1)) for i=1:n+1, j=1:n+1]"
   ]
  },
  {
   "cell_type": "markdown",
   "metadata": {},
   "source": [
    "## A three-term recurrence relation for Legendre polynomials\n",
    "\n",
    "The Legendre polynomials (normalized so that $\\phi_k(1) = 1$, for all $k$) can be described using the following **three-term recurrence relation**:\n",
    "\n",
    "$$\n",
    "\\begin{align}\n",
    "\\phi_0(x) &= 1,\\\\\n",
    "\\phi_1(x) &= x,\\\\\n",
    "\\phi_{k+1}(x) &= \\frac{2k+1}{k+1} x \\phi_k(x) - \\frac{k}{k+1} \\phi_{k-1}(x), \\quad k = 1,\\ldots,n-1.\\\\\n",
    "\\end{align}\n",
    "$$\n",
    "\n",
    "This remarkable fact means that we only need the previous two polynomials to determine the next polynomial."
   ]
  },
  {
   "cell_type": "markdown",
   "metadata": {},
   "source": [
    "---"
   ]
  },
  {
   "cell_type": "code",
   "execution_count": null,
   "metadata": {},
   "outputs": [],
   "source": [
    "n = 5\n",
    "\n",
    "x = symbols(\"x\")\n",
    "\n",
    "ϕ = zeros(Sym, n+1)\n",
    "ϕ[1] = 1\n",
    "ϕ[2] = x\n",
    "for k=1:n-1\n",
    "    ϕ[k+2] = expand(((2k+1)*x*ϕ[k+1] - k*ϕ[k])/(k+1))\n",
    "end\n",
    "ϕ"
   ]
  },
  {
   "cell_type": "code",
   "execution_count": null,
   "metadata": {},
   "outputs": [],
   "source": [
    "B = [integrate(ϕ[i]*ϕ[j], (x, -1, 1)) for i=1:n+1, j=1:n+1]"
   ]
  },
  {
   "cell_type": "markdown",
   "metadata": {},
   "source": [
    "Moreover,\n",
    "\n",
    "$$\\ip{\\phi_k}{\\phi_k} = \\norm{\\phi_k}_2^2 = \\frac{2}{2k + 1}, \\quad k=0,\\ldots,n,$$\n",
    "\n",
    "as observed in the above matrix."
   ]
  },
  {
   "cell_type": "code",
   "execution_count": null,
   "metadata": {},
   "outputs": [],
   "source": [
    "# Plot all functions in ϕ\n",
    "xx = range(-1, 1, length=1000)\n",
    "\n",
    "plt = plot(legend=:bottomright, aspect_ratio=:equal, size=(600,600))\n",
    "for k=0:n\n",
    "    yy = [subs(ϕ[k+1], x, xi) for xi in xx]\n",
    "    plot!(xx, yy, label=latexstring(\"\\\\phi_$k\"))\n",
    "end\n",
    "hline!([0], c=:black, label=:none)"
   ]
  },
  {
   "cell_type": "code",
   "execution_count": null,
   "metadata": {},
   "outputs": [],
   "source": [
    "n = 5\n",
    "\n",
    "xx = range(-1, 1, length=1000)\n",
    "\n",
    "ϕ0, ϕ1 = ones(length(xx)), xx\n",
    "plot(legend=:bottomright, aspect_ratio=:equal, xlims=(-1,1), size=(600,600))\n",
    "plot!(xx, ϕ0, label=L\"\\phi_0\")\n",
    "plot!(xx, ϕ1, label=L\"\\phi_1\")\n",
    "\n",
    "# Using the three-term recurrence relation to compute Legendre polynomials\n",
    "ϕolder, ϕold = ϕ0, ϕ1\n",
    "for k=1:n-1\n",
    "    ϕ = ((2k+1)*xx.*ϕold - k*ϕolder)/(k+1)\n",
    "    ϕolder, ϕold = ϕold, ϕ\n",
    "    plot!(xx, ϕ, label=latexstring(\"\\\\phi_$(k+1)\"))\n",
    "end\n",
    "hline!([0], c=:black, label=:none)"
   ]
  },
  {
   "cell_type": "markdown",
   "metadata": {},
   "source": [
    "---"
   ]
  },
  {
   "cell_type": "markdown",
   "metadata": {},
   "source": [
    "## Best approximation on $[a,b]$\n",
    "\n",
    "We go between $x \\in [-1,1]$ and $t \\in [a,b]$ using\n",
    "\n",
    "$$t = \\frac12 \\brack{(b-a)x + (a+b)} \\quad \\text{and} \\quad x = \\frac{2t - a -b}{b-a}.$$\n",
    "\n",
    "Define \n",
    "\n",
    "$$\\hat\\phi_i(t) = \\phi_i\\paren{\\frac{2t - a -b}{b-a}}.$$\n",
    "\n",
    "Then it can be shown that\n",
    "\n",
    "$$\\ip{\\hat\\phi_i}{\\hat\\phi_j} = \n",
    "\\begin{cases}\n",
    "0, & i \\neq j,\\\\\\\\\n",
    "\\displaystyle\\frac{b-a}{2i+1}, & i=j.\n",
    "\\end{cases}\n",
    "$$"
   ]
  },
  {
   "cell_type": "markdown",
   "metadata": {},
   "source": [
    "---"
   ]
  },
  {
   "cell_type": "markdown",
   "metadata": {},
   "source": [
    "## Example\n",
    "\n",
    "Let's use the **Legendre basis** to find an **exact representation** of the polynomial of degree at most **four** that best fits $f(t) = \\cos(t)$ over the interval $[0, 2\\pi]$."
   ]
  },
  {
   "cell_type": "code",
   "execution_count": null,
   "metadata": {},
   "outputs": [],
   "source": [
    "a, b, n = 0, 2PI, 4\n",
    "\n",
    "t = symbols(\"t\")\n",
    "x = (2t - a - b)/(b - a)"
   ]
  },
  {
   "cell_type": "code",
   "execution_count": null,
   "metadata": {},
   "outputs": [],
   "source": [
    "ϕ = zeros(Sym, n+1)\n",
    "ϕ[1] = 1\n",
    "ϕ[2] = x\n",
    "for k=1:n-1\n",
    "    ϕ[k+2] = expand(((2k+1)*x*ϕ[k+1] - k*ϕ[k])/(k+1))\n",
    "end\n",
    "\n",
    "ϕ"
   ]
  },
  {
   "cell_type": "code",
   "execution_count": null,
   "metadata": {},
   "outputs": [],
   "source": [
    "bsym = [integrate(ϕk*cos(t), (t, 0, 2PI)) for ϕk in ϕ ]"
   ]
  },
  {
   "cell_type": "code",
   "execution_count": null,
   "metadata": {},
   "outputs": [],
   "source": [
    "dd = [(b - a)/(2i + 1) for i=0:n]  # B = Diag(dd)"
   ]
  },
  {
   "cell_type": "code",
   "execution_count": null,
   "metadata": {},
   "outputs": [],
   "source": [
    "csym = expand.(bsym./dd)"
   ]
  },
  {
   "cell_type": "code",
   "execution_count": null,
   "metadata": {},
   "outputs": [],
   "source": [
    "psym = expand(dot(csym,ϕ))"
   ]
  },
  {
   "cell_type": "code",
   "execution_count": null,
   "metadata": {},
   "outputs": [],
   "source": [
    "# Get the coefficients of psym\n",
    "\n",
    "coef = zeros(Sym, n+1)\n",
    "for i = 1:length(csym)\n",
    "    coef[i] = subs(psym, t, 0)\n",
    "    psym = diff(psym, t)/i\n",
    "end\n",
    "coef"
   ]
  },
  {
   "cell_type": "code",
   "execution_count": null,
   "metadata": {},
   "outputs": [],
   "source": [
    "cf = float(coef)"
   ]
  },
  {
   "cell_type": "code",
   "execution_count": null,
   "metadata": {},
   "outputs": [],
   "source": [
    "tt = range(0, 2π, length=1000)\n",
    "\n",
    "plot(legend=:bottomright, aspect_ratio=:equal, xlabel=L\"t\", ylabel=L\"y\", size=(600,400))\n",
    "plot!(tt, cos.(tt), label=L\"y = \\cos(t)\")\n",
    "\n",
    "# Evaluate p using Horner's rule\n",
    "p = zeros(length(tt))\n",
    "for i=n+1:-1:1\n",
    "    p = p.*tt .+ cf[i]\n",
    "end\n",
    "\n",
    "plot!(tt, p, label=L\"y = p(t)\")"
   ]
  },
  {
   "cell_type": "markdown",
   "metadata": {},
   "source": [
    "---"
   ]
  }
 ],
 "metadata": {
  "@webio": {
   "lastCommId": null,
   "lastKernelId": null
  },
  "kernelspec": {
   "display_name": "Julia 1.8.5",
   "language": "julia",
   "name": "julia-1.8"
  },
  "language_info": {
   "file_extension": ".jl",
   "mimetype": "application/julia",
   "name": "julia",
   "version": "1.8.5"
  }
 },
 "nbformat": 4,
 "nbformat_minor": 4
}
