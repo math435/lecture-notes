{
 "cells": [
  {
   "cell_type": "markdown",
   "metadata": {},
   "source": [
    "---\n",
    "# 3.2 Bisection method\n",
    "---"
   ]
  },
  {
   "cell_type": "markdown",
   "metadata": {},
   "source": [
    "Suppose $f \\in C[a,b]$ and that $f(a)$ and $f(b)$ have opposite signs; i.e.,\n",
    "\n",
    "$$\n",
    "f(a) \\cdot f(b) < 0.\n",
    "$$\n",
    "\n",
    "Recall the following important theorem from calculus.\n",
    "\n",
    "> ### Intermediate Value Theorem\n",
    ">\n",
    "> If $f \\in C[a,b]$ and $f(a) \\leq s \\leq f(b)$, then there exists a real number $c \\in [a,b]$ such that $f(c) = s$.\n",
    "\n",
    "Since $f$ changes sign over $[a,b]$, the Intermediate Value Theorem implies that there is some $x^* \\in [a,b]$ such that $f(x^*) = 0$.\n",
    "\n",
    "The **bisection method** searches for a root of $f$ in $[a,b]$ as follows.\n",
    "\n",
    "1. Let $p = (a+b)/2$ be the **midpoint** of $[a,b]$.\n",
    "2. If $f(a) \\cdot f(p) < 0$, then there is a root in $[a,p]$.\n",
    "3. If $f(a) \\cdot f(p) = 0$, then $p$ is a root.\n",
    "4. If $f(a) \\cdot f(p) > 0$, then there is a root in $[p,b]$.\n",
    "\n",
    "Each time we apply the above, we get a subinterval that contains a root that is **half the size** of the interval $[a,b]$."
   ]
  },
  {
   "cell_type": "code",
   "execution_count": null,
   "metadata": {},
   "outputs": [],
   "source": [
    "using Printf\n",
    "\n",
    "# Code the bisection method\n",
    "function bisect(f, a, b, tol=1e-8)\n",
    "    fa, fb = f(a), f(b)\n",
    "    \n",
    "    if fa == 0.0\n",
    "        return a\n",
    "    elseif fb == 0.0\n",
    "        return b\n",
    "    end\n",
    "        \n",
    "    if fa*fb > 0\n",
    "        error(\"The sign of f(a) and f(b) must be different.\")\n",
    "    end\n",
    "    \n",
    "    k = 0\n",
    "    p = (a + b)/2\n",
    "    oldp = Inf\n",
    "    @printf \"%4s %12s %12s %12s\\n\" \"k\" \"a\" \"p\" \"b\"\n",
    "    @printf \"%4d %12.8f %12.8f %12.8f\\n\" k a p b\n",
    "    while abs(p - oldp) > tol*(1 + abs(p))\n",
    "        k += 1\n",
    "        fp = f(p)\n",
    "        if fp == 0.0\n",
    "            return p\n",
    "        end\n",
    "\n",
    "        if fa*fp < 0\n",
    "            b = p\n",
    "        else\n",
    "            a = p\n",
    "        end\n",
    "        oldp = p\n",
    "        p = (a + b)/2\n",
    "        @printf \"%4d %12.8f %12.8f %12.8f\\n\" k a p b\n",
    "    end\n",
    "    \n",
    "    return p\n",
    "    \n",
    "end"
   ]
  },
  {
   "cell_type": "code",
   "execution_count": null,
   "metadata": {},
   "outputs": [],
   "source": [
    "f(x) = x - 2"
   ]
  },
  {
   "cell_type": "code",
   "execution_count": null,
   "metadata": {},
   "outputs": [],
   "source": [
    "bisect(f, 0., 1.)"
   ]
  },
  {
   "cell_type": "code",
   "execution_count": null,
   "metadata": {},
   "outputs": [],
   "source": [
    "bisect(f, 1., 2.)"
   ]
  },
  {
   "cell_type": "code",
   "execution_count": null,
   "metadata": {},
   "outputs": [],
   "source": [
    "xs = 2.0\n",
    "\n",
    "rt = bisect(f, 1., 100.)"
   ]
  },
  {
   "cell_type": "code",
   "execution_count": null,
   "metadata": {},
   "outputs": [],
   "source": [
    "abs(rt - xs)"
   ]
  },
  {
   "cell_type": "markdown",
   "metadata": {},
   "source": [
    "---"
   ]
  },
  {
   "cell_type": "markdown",
   "metadata": {},
   "source": [
    "### Example\n",
    "\n",
    "We will now use the above `bisect` function to find the root of\n",
    "\n",
    "$$\n",
    "f(x) = 2 \\cosh(x/4) - x\n",
    "$$\n",
    "\n",
    "that lies in the interval $[5,10]$."
   ]
  },
  {
   "cell_type": "code",
   "execution_count": null,
   "metadata": {},
   "outputs": [],
   "source": [
    "rt = bisect(x -> 2cosh(x/4) - x, 5., 10.)"
   ]
  },
  {
   "cell_type": "code",
   "execution_count": null,
   "metadata": {},
   "outputs": [],
   "source": [
    "2cosh(rt/4) - rt"
   ]
  },
  {
   "cell_type": "markdown",
   "metadata": {},
   "source": [
    "---"
   ]
  },
  {
   "cell_type": "markdown",
   "metadata": {},
   "source": [
    "### Example\n",
    "\n",
    "Let's try to find the value of $y_0$ such that the solution $y(t)$ of the ordinary differential equation \n",
    "\n",
    "$$\n",
    "\\frac{dy}{dt} = t - 5 + \\frac{y^2}{100}\n",
    "$$\n",
    "\n",
    "with initial value $y(0) = y_0$ satisfies $y(10) = 20$."
   ]
  },
  {
   "cell_type": "code",
   "execution_count": null,
   "metadata": {},
   "outputs": [],
   "source": [
    "using OrdinaryDiffEq  # Package for solving ordinary differential equations\n",
    "using Plots"
   ]
  },
  {
   "cell_type": "code",
   "execution_count": null,
   "metadata": {},
   "outputs": [],
   "source": [
    "F(y, p, t) = t - 5 + y^2/100"
   ]
  },
  {
   "cell_type": "code",
   "execution_count": null,
   "metadata": {},
   "outputs": [],
   "source": [
    "tspan = (0.0, 10.0)\n",
    "\n",
    "y0vals = [5, 10, 15]\n",
    "plt = plot(legend=:topleft)\n",
    "for tt = enumerate(y0vals)\n",
    "    n, y0 = tt\n",
    "    prob = ODEProblem(F, y0, tspan)\n",
    "    sol = solve(prob, Tsit5())\n",
    "    yval = round(sol(10), digits=2)\n",
    "    plot!(sol, label=\"y(10) = $yval\", color=n)\n",
    "    scatter!([0.0, 10.0], [y0, sol(10.0)], color=n, label=:none)\n",
    "end\n",
    "scatter!([10.0], [20.0], color=4, label=:none)\n",
    "xlims!(-2, 12)\n",
    "plt"
   ]
  },
  {
   "cell_type": "code",
   "execution_count": null,
   "metadata": {},
   "outputs": [],
   "source": [
    "function foo(y0)\n",
    "    tspan = (0.0, 10.0)\n",
    "    prob = ODEProblem(F, y0, tspan)\n",
    "    sol = solve(prob, Tsit5())\n",
    "    return sol(10.0)\n",
    "end"
   ]
  },
  {
   "cell_type": "code",
   "execution_count": null,
   "metadata": {},
   "outputs": [],
   "source": [
    "@time foo(5.)"
   ]
  },
  {
   "cell_type": "code",
   "execution_count": null,
   "metadata": {},
   "outputs": [],
   "source": [
    "foo(10.)"
   ]
  },
  {
   "cell_type": "code",
   "execution_count": null,
   "metadata": {},
   "outputs": [],
   "source": [
    "foo(15.)"
   ]
  },
  {
   "cell_type": "code",
   "execution_count": null,
   "metadata": {},
   "outputs": [],
   "source": [
    "@time y0 = bisect(y0 -> foo(y0) - 20, 10., 15.)"
   ]
  },
  {
   "cell_type": "code",
   "execution_count": null,
   "metadata": {},
   "outputs": [],
   "source": [
    "foo(y0)"
   ]
  },
  {
   "cell_type": "code",
   "execution_count": null,
   "metadata": {},
   "outputs": [],
   "source": [
    "tspan = (0.0, 10.0)\n",
    "prob = ODEProblem(F, y0, tspan)\n",
    "sol = solve(prob, Tsit5())\n",
    "yval = round(sol(10), digits=2)\n",
    "plot!(sol, label=\"y(10) = $yval\", color=4)\n",
    "scatter!([0.0, 10.0], [y0, sol(10.0)], color=4, label=:none)\n",
    "xlims!(-2, 12)"
   ]
  },
  {
   "cell_type": "markdown",
   "metadata": {},
   "source": [
    "---"
   ]
  },
  {
   "cell_type": "markdown",
   "metadata": {},
   "source": [
    "## Analyzing the bisection method\n",
    "\n",
    "Initially, we know a root $x^*$ is somewhere in the interval $[a,b]$. If we let $x_k$ be the midpoint of the $k$th subinterval, then\n",
    "\n",
    "$$\\left|x^* - x_0\\right| \\leq \\frac{b-a}{2}.$$\n",
    "\n",
    "In the next iteration, \n",
    "\n",
    "$$\\left|x^* - x_1\\right| \\leq \\frac{b-a}{4},$$\n",
    "\n",
    "and in the following iteration,\n",
    "\n",
    "$$\\left|x^* - x_2\\right| \\leq \\frac{b-a}{8},$$\n",
    "\n",
    "and so on, each time reducing our error by a factor of $2$.\n",
    "\n",
    "In general,\n",
    "\n",
    "$$\\left|x^* - x_k\\right| \\leq \\frac{b-a}{2} \\cdot 2^{-k}, \n",
    "\\qquad \\text{for $k = 0,1,2,\\ldots$}.$$\n",
    "\n",
    "Suppose we want to compute $x_k$ such that \n",
    "\n",
    "$$\\left|x^* - x_k\\right| \\leq \\mathtt{atol}.$$\n",
    "\n",
    "Then we just need to find the smallest positive integer $k$ such that\n",
    "\n",
    "$$\\frac{b-a}{2} \\cdot 2^{-k} \\leq \\mathtt{atol}.$$\n",
    "\n",
    "That is,\n",
    "\n",
    "$$\\frac{b-a}{2\\mathtt{atol}} \\leq 2^k,$$\n",
    "\n",
    "which gives us\n",
    "\n",
    "$$\\log_2\\left(\\frac{b-a}{2\\mathtt{atol}}\\right) \\leq k,$$\n",
    "\n",
    "so we just need the first integer $k$ that is larger than $\\log_2\\left(\\frac{b-a}{2\\mathtt{atol}}\\right)$. Therefore, \n",
    "\n",
    "$$k = \\left\\lceil \\log_2\\left(\\frac{b-a}{2\\mathtt{atol}}\\right) \\right\\rceil.$$"
   ]
  },
  {
   "cell_type": "code",
   "execution_count": null,
   "metadata": {},
   "outputs": [],
   "source": [
    "atol = 1e-8\n",
    "a, b = 10., 15.\n",
    "\n",
    "k = ceil(log2((b - a)/2atol))"
   ]
  },
  {
   "cell_type": "markdown",
   "metadata": {},
   "source": [
    "---"
   ]
  },
  {
   "cell_type": "markdown",
   "metadata": {},
   "source": [
    "## Pros and cons of the bisection method\n",
    "\n",
    "Pros:\n",
    "\n",
    "1. **Simple:** The bisection method only requires function values, is easy to understand and implement, and it is easy to analyze.\n",
    "\n",
    "2. **Robust:** The bisection method is guaranteed to work, provided that $f$ is continuous and changes sign on the interval $[a,b]$.\n",
    "\n",
    "Cons:\n",
    "\n",
    "1. **Slow to converge:** The bisection method often requires many function evaluations.\n",
    "\n",
    "2. **Does not generalize:** The bisection method only applies to solving equations involving one variable; it does not generalize to solving equations involving multiple variables.\n",
    "\n"
   ]
  },
  {
   "cell_type": "markdown",
   "metadata": {},
   "source": [
    "---"
   ]
  }
 ],
 "metadata": {
  "anaconda-cloud": {},
  "kernelspec": {
   "display_name": "Julia 1.5.3",
   "language": "julia",
   "name": "julia-1.5"
  },
  "language_info": {
   "file_extension": ".jl",
   "mimetype": "application/julia",
   "name": "julia",
   "version": "1.5.3"
  }
 },
 "nbformat": 4,
 "nbformat_minor": 1
}
