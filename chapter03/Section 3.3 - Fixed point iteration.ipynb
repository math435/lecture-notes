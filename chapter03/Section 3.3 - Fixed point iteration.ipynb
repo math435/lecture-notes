{
 "cells": [
  {
   "cell_type": "markdown",
   "metadata": {},
   "source": [
    "---\n",
    "# 3.3 Fixed point iteration\n",
    "---"
   ]
  },
  {
   "cell_type": "markdown",
   "metadata": {},
   "source": [
    "Another simple approach to solving \n",
    "\n",
    "$$f(x) = 0$$\n",
    "\n",
    "is to re-write it as\n",
    "\n",
    "$$x = g(x)$$\n",
    "\n",
    "for some continuous function $g$. We call a point $x$ a **fixed-point** of $g$ if $x = g(x)$."
   ]
  },
  {
   "cell_type": "markdown",
   "metadata": {},
   "source": [
    "---"
   ]
  },
  {
   "cell_type": "markdown",
   "metadata": {},
   "source": [
    "### Example\n",
    "\n",
    "If we let \n",
    "$$g(x) = x - f(x),$$ \n",
    "then\n",
    "$$x = g(x) \\quad \\Rightarrow \\quad x = x - f(x) \\quad \\Rightarrow \\quad f(x) = 0.$$\n",
    "\n",
    "Let's plot these functions using $f(x) = x^2 - 2.$"
   ]
  },
  {
   "cell_type": "code",
   "execution_count": null,
   "metadata": {},
   "outputs": [],
   "source": [
    "using Plots, LaTeXStrings"
   ]
  },
  {
   "cell_type": "code",
   "execution_count": null,
   "metadata": {},
   "outputs": [],
   "source": [
    "f(x) = x^2 - 2\n",
    "g(x) = x - f(x)"
   ]
  },
  {
   "cell_type": "code",
   "execution_count": null,
   "metadata": {},
   "outputs": [],
   "source": [
    "a, b = -2.0, 2.0\n",
    "\n",
    "plot(legend=:bottomright)\n",
    "plot!(f, a, b, label=L\"y = f(x)\")\n",
    "plot!(g, a, b, label=L\"y = g(x)\")\n",
    "plot!(x -> x, a, b, label=L\"y = x\")\n",
    "plot!([-sqrt(2), -sqrt(2)], [0, -sqrt(2)], linestyles=:dot, color=:black, label=:none)\n",
    "plot!([sqrt(2), sqrt(2)], [0, sqrt(2)], linestyles=:dot, color=:black, label=:none)\n",
    "hline!([0], color=:black, label=:none)\n",
    "xlabel!(L\"x\"); ylabel!(L\"y\")"
   ]
  },
  {
   "cell_type": "markdown",
   "metadata": {},
   "source": [
    "---"
   ]
  },
  {
   "cell_type": "markdown",
   "metadata": {},
   "source": [
    "### Choices of $g$\n",
    "\n",
    "There are many possible choices for $g$:\n",
    "\n",
    "- $g(x) = x - f(x)$\n",
    "- $g(x) = x + cf(x)$, for some nonzero constant $c$\n",
    "- $g(x) = x - f(x)\\big/f'(x)$\n",
    "\n",
    "Some choices for $g$ will be better than others."
   ]
  },
  {
   "cell_type": "markdown",
   "metadata": {},
   "source": [
    "---"
   ]
  },
  {
   "cell_type": "markdown",
   "metadata": {},
   "source": [
    "## Fixed point iteration\n",
    "\n",
    "Given some initial guess $x_0$, we can use the function $g$ to generate a sequence of iterates as follows:\n",
    "\n",
    "$$x_{k+1} = g(x_{k}), \\qquad k = 0, 1, 2, \\ldots.$$\n",
    "\n",
    "If the sequence $\\{x_k\\}$ converges to some point $x^*$, then we must have $x^* = g(x^*)$, so $f(x^*) = 0$."
   ]
  },
  {
   "cell_type": "markdown",
   "metadata": {},
   "source": [
    "---"
   ]
  },
  {
   "cell_type": "code",
   "execution_count": null,
   "metadata": {},
   "outputs": [],
   "source": [
    "function fixedPointPlot(g, a, b, x0; num=5, usequiver=false)\n",
    "\n",
    "    plt = plot(g, a, b, label=L\"y = g(x)\", color=:blue)\n",
    "    plot!(x -> x, a, b, label=L\"y = x\", color=:green)\n",
    "    \n",
    "    x = x0\n",
    "    for i = 1:num\n",
    "        if usequiver\n",
    "            quiver!([x, x], [x, g(x)],\n",
    "                quiver=([0, g(x)-x], [g(x)-x, 0]))\n",
    "        else\n",
    "            plot!([x, x], [x, g(x)], color=i, label=\"$i\")\n",
    "            plot!([x, g(x)], [g(x), g(x)], color=i, label=:none)\n",
    "        end\n",
    "        x = g(x)\n",
    "    end\n",
    "    \n",
    "    scatter!([x0], [x0], label=:none, color=:lime)\n",
    "    scatter!([x], [x], label=:none, color=:red)\n",
    "    \n",
    "    xlabel!(L\"x\")\n",
    "    ylabel!(L\"y\")\n",
    "    plot!(legend=:outertopright)\n",
    "    title!(\"Fixed-point iteration\")\n",
    "    \n",
    "    return plt\n",
    "end"
   ]
  },
  {
   "cell_type": "markdown",
   "metadata": {},
   "source": [
    "### Example (continued)\n",
    "\n",
    "Let's try $f(x) = x^2 - 2$ and $g(x) = x - f(x)$."
   ]
  },
  {
   "cell_type": "code",
   "execution_count": null,
   "metadata": {},
   "outputs": [],
   "source": [
    "g1(x) = x - f(x)"
   ]
  },
  {
   "cell_type": "code",
   "execution_count": null,
   "metadata": {},
   "outputs": [],
   "source": [
    "using Printf\n",
    "\n",
    "x0 = -1.2\n",
    "\n",
    "x = x0\n",
    "@printf(\"%4s %12s\\n\", \"k\", \"xk\")\n",
    "for k = 1:20\n",
    "    x = g1(x)\n",
    "    @printf(\"%4d %12.4e\\n\", k, x)\n",
    "end"
   ]
  },
  {
   "cell_type": "code",
   "execution_count": null,
   "metadata": {},
   "outputs": [],
   "source": [
    "fixedPointPlot(g1, -2, 3, x0, num=5)"
   ]
  },
  {
   "cell_type": "code",
   "execution_count": null,
   "metadata": {},
   "outputs": [],
   "source": [
    "fixedPointPlot(g1, -2, 3, x0, num=5, usequiver=true)"
   ]
  },
  {
   "cell_type": "code",
   "execution_count": null,
   "metadata": {},
   "outputs": [],
   "source": [
    "fixedPointPlot(g1, -2, 3, 1.0, num=5)"
   ]
  },
  {
   "cell_type": "code",
   "execution_count": null,
   "metadata": {},
   "outputs": [],
   "source": [
    "fixedPointPlot(g1, -2, 3, 1.0, num=5, usequiver=true)"
   ]
  },
  {
   "cell_type": "markdown",
   "metadata": {},
   "source": [
    "It does not seem to be converging to anything.\n",
    "\n",
    "Now let's try $g(x) = x - f(x)\\big/f'(x)$."
   ]
  },
  {
   "cell_type": "code",
   "execution_count": null,
   "metadata": {},
   "outputs": [],
   "source": [
    "fp(x) = 2x\n",
    "\n",
    "g2(x) = x - f(x)/fp(x)"
   ]
  },
  {
   "cell_type": "code",
   "execution_count": null,
   "metadata": {},
   "outputs": [],
   "source": [
    "x = 10.\n",
    "xs = sqrt(2)\n",
    "\n",
    "@printf(\"%4s %12s\\n\", \"k\", \"error\")\n",
    "for k = 1:8\n",
    "    x = g2(x)\n",
    "    @printf(\"%4d %12.4e\\n\", k, x - xs)\n",
    "end"
   ]
  },
  {
   "cell_type": "code",
   "execution_count": null,
   "metadata": {},
   "outputs": [],
   "source": [
    "fixedPointPlot(g2, -11, -1, -10, usequiver=true)"
   ]
  },
  {
   "cell_type": "code",
   "execution_count": null,
   "metadata": {},
   "outputs": [],
   "source": [
    "fixedPointPlot(g2, 1, 3, 1.1, usequiver=true)"
   ]
  },
  {
   "cell_type": "markdown",
   "metadata": {},
   "source": [
    "It converges very rapidly! We will see why this is happening."
   ]
  },
  {
   "cell_type": "markdown",
   "metadata": {},
   "source": [
    "Now let's try $g(x) = x - \\cos(x) f(x)$."
   ]
  },
  {
   "cell_type": "code",
   "execution_count": null,
   "metadata": {},
   "outputs": [],
   "source": [
    "g3(x) = x - cos(x)*f(x)"
   ]
  },
  {
   "cell_type": "code",
   "execution_count": null,
   "metadata": {},
   "outputs": [],
   "source": [
    "x = 1.5\n",
    "xs = sqrt(2)\n",
    "\n",
    "@printf(\"%4s %12s\\n\", \"k\", \"error\")\n",
    "for k = 1:8\n",
    "    x = g3(x)\n",
    "    @printf(\"%4d %12.4e\\n\", k, x - xs)\n",
    "end"
   ]
  },
  {
   "cell_type": "code",
   "execution_count": null,
   "metadata": {},
   "outputs": [],
   "source": [
    "fixedPointPlot(g3, 1.4, 1.6, 1.5, num=10, usequiver=true)"
   ]
  },
  {
   "cell_type": "markdown",
   "metadata": {},
   "source": [
    "This fixed point iteration converges, but very slowly."
   ]
  },
  {
   "cell_type": "markdown",
   "metadata": {},
   "source": [
    "---"
   ]
  },
  {
   "cell_type": "markdown",
   "metadata": {},
   "source": [
    "## Existence and uniqueness of a fixed point\n",
    "\n",
    "A fixed point may not exist in $[a,b]$, and if it does, it may not be unique.\n"
   ]
  },
  {
   "cell_type": "markdown",
   "metadata": {},
   "source": [
    "> ### Fixed Point Theorem\n",
    "> Let $g \\in C[a,b]$ such that one of the two following conditions hold:\n",
    "> 1. $g(a) \\geq a$ and $g(b) \\leq b$;\n",
    "> 2. $g(a) \\leq a$ and $g(b) \\geq b$.\n",
    ">\n",
    "> Then $\\exists x^* \\in [a,b]$ such that $g(x^*) = x^*$.\n",
    ">\n",
    "> In addition, if $g$ is differentiable on the open interval $(a,b)$ and \n",
    ">\n",
    "> $$\\left|g'(x)\\right| \\leq \\rho, \\quad \\forall x \\in (a,b),$$\n",
    ">\n",
    "> for some $\\rho < 1$, then $x^*$ is the *unique* fixed point in $[a,b]$."
   ]
  },
  {
   "cell_type": "markdown",
   "metadata": {},
   "source": [
    "To prove the fixed point theorem, we will use the following:\n",
    "\n",
    "> ## Mean Value Theorem\n",
    ">\n",
    "> If $f \\in C[a,b]$ and $f$ is differentiable on the open interval $(a,b)$, then there exists a number $c \\in (a,b)$ such that \n",
    ">\n",
    "> $$f'(c) = \\frac{f(b)-f(a)}{b-a}.$$"
   ]
  },
  {
   "cell_type": "markdown",
   "metadata": {},
   "source": [
    "### Proof of the Fixed Point Theorem:\n",
    "\n",
    "Suppose $g(a) \\geq a$ and $g(b) \\leq b$. If $g(a) = a$ or $g(b) = b$, then we are done. Otherwise we have $g(a) > a$ and $g(b) < b$.\n",
    "Let\n",
    "\n",
    "$$\\phi(x) = g(x) - x.$$\n",
    "\n",
    "Then $\\phi(a) > 0$ and $\\phi(b) < 0$. Thus, since $\\phi$ is continuous, the **Intermediate Value Theorem** tells us that there is an $x^* \\in [a,b]$ such that $\\phi(x^*) = 0$. Thus $x^* = g(x^*)$.\n",
    "\n",
    "The other case of $g(a) \\leq a$ and $g(b) \\geq b$ can be proven similarly."
   ]
  },
  {
   "cell_type": "markdown",
   "metadata": {},
   "source": [
    "Now suppose $g$ is differentiable and there is a $\\rho < 1$ such that $\\left|g'(x)\\right| \\leq \\rho$ for all $x \\in (a,b)$. Suppose, **for the sake of contradiciton**, that $x^*$ is not the only fixed point of $g$ in $[a,b]$. Then, there is a $y^* \\in [a,b]$ such that $g(y^*) = y^*$ and $y^* \\neq x^*$. \n",
    "\n",
    "By the **Mean Value Theorem**, there is a $\\xi$ strictly between $x^*$ and $y^*$ such that\n",
    "\n",
    "$$  g'(\\xi) = \\frac{g(x^*) - g(y^*)}{x^* - y^*} = \\frac{x^* - y^*}{x^* - y^*} = 1.$$\n",
    "\n",
    "Note that $\\xi \\in (a,b)$. This contradicts our assumption that $\\left|g'(x)\\right| \\leq \\rho < 1$, for all $x \\in (a,b)$. Therefore, the fixed point of $g$ in $[a,b]$ must be unique. $\\blacksquare$"
   ]
  },
  {
   "cell_type": "markdown",
   "metadata": {},
   "source": [
    "---"
   ]
  },
  {
   "cell_type": "markdown",
   "metadata": {},
   "source": [
    "## Convergence\n",
    "\n",
    "We have seen that the fixed point iteration does not always converge. \n",
    "\n",
    "> ### Theorem: (Convergence of the Fixed Point Iteration)\n",
    ">\n",
    "> Let $g \\in C[a,b]$. If \n",
    "> - $a \\leq g(x) \\leq b$, for all $x \\in [a,b]$, and\n",
    "> - there is a $\\rho < 1$ such that $\\left|g'(x)\\right| \\leq \\rho$ for all $x \\in (a,b),$\n",
    ">\n",
    "> then the iteration \n",
    ">\n",
    "> $$x_{k+1} = g(x_{k}), \\qquad k = 0, 1, 2, \\ldots$$\n",
    ">\n",
    "> converges to the unique fixed point $x^* \\in [a,b]$ starting from any $x_0 \\in [a,b]$."
   ]
  },
  {
   "cell_type": "markdown",
   "metadata": {},
   "source": [
    "### Proof:\n",
    "\n",
    "First of all, since $g(x) \\in [a,b]$ for all $x \\in [a,b]$, and since $x_0 \\in [a,b]$, we have $x_k \\in [a,b]$, for all $k = 0, 1, 2, \\ldots$. Moreover, by the **Fixed Point Theorem**, our assumptions imply that there is a unique fixed point $x^* \\in [a,b]$. \n",
    "\n",
    "Let $k \\in \\{1,2,\\ldots\\}$. If $x_{k-1} = x^*$, then we have already converged to the fixed point. Otherwise, suppose that $x_{k-1} \\neq x^*$. By the **Taylor Series Theorem** (could also use the **Mean Value Theorem** like above), there exists a $\\xi$ strictly between $x_{k-1}$ and $x^*$ such that \n",
    "\n",
    "$$ g(x_{k-1}) = g(x^* + (x_{k-1} - x^*)) = g(x^*) + g'(\\xi) (x_{k-1} - x^*).$$\n",
    "\n",
    "Note that $\\xi \\in (a,b)$. Thus,\n",
    "\n",
    "$$ \\left|x_k - x^*\\right| = \\left|g(x_{k-1}) - g(x^*)\\right| = \\left|g'(\\xi)(x_{k-1} - x^*)\\right| = \\left|g'(\\xi)\\right|\\left|x_{k-1} - x^*\\right| \\leq \\rho \\left|x_{k-1} - x^*\\right|. $$\n",
    "\n",
    "So $\\left|x_k - x^*\\right| \\leq \\rho \\left|x_{k-1} - x^*\\right|$ for $k = 1, 2, \\ldots$, which implies that\n",
    "\n",
    "$$ 0 \\le \\left|x_k - x^*\\right| \\leq \\rho \\left|x_{k-1} - x^*\\right| \\leq \\rho^2 \\left|x_{k-2} - x^*\\right| \\leq \\cdots \\leq \\rho^k \\left|x_{0} - x^*\\right|.$$\n",
    "\n",
    "Since $\\rho < 1$, the right-hand-side converges to $0$ as $k \\to \\infty$. Therefore,\n",
    "\n",
    "$$ \\lim_{k \\to \\infty} \\left|x_k - x^*\\right| = 0,$$\n",
    "\n",
    "so $x_k$ converges to $x^*$. $\\blacksquare$"
   ]
  },
  {
   "cell_type": "markdown",
   "metadata": {},
   "source": [
    "### Notes:\n",
    "\n",
    "- $\\rho$ is called the **contraction factor**.\n",
    "- The smaller $\\rho$ is, the faster the convergence will be."
   ]
  },
  {
   "cell_type": "markdown",
   "metadata": {},
   "source": [
    "---"
   ]
  },
  {
   "cell_type": "markdown",
   "metadata": {},
   "source": [
    "## Example\n",
    "\n",
    "The first $g$ we considered was\n",
    "\n",
    "$$g(x) = x - x^2 + 2$$\n",
    "\n",
    "which has the fixed points $x_1^* = -\\sqrt{2}$ and $x_2^* = \\sqrt{2}$. Note that\n",
    "\n",
    "$$g'(x) = 1 - 2x$$\n",
    "\n",
    "and that \n",
    "\n",
    "$$\\begin{align}\n",
    "g'(x_1^*) & = 1 + 2\\sqrt{2} = 3.8284271247461903\\ldots, \\\\\n",
    "g'(x_2^*) & = 1 - 2\\sqrt{2} = -1.8284271247461903\\ldots. \\\\\n",
    "\\end{align}\n",
    "$$\n",
    "\n",
    "So, $\\left|g'(x_i^*)\\right| > 1$ for $i=1,2$, which explains why the fixed point iteration would not converge to either fixed point."
   ]
  },
  {
   "cell_type": "markdown",
   "metadata": {},
   "source": [
    "---"
   ]
  },
  {
   "cell_type": "markdown",
   "metadata": {},
   "source": [
    "## Example\n",
    "\n",
    "The second $g$ we considered was\n",
    "\n",
    "$$g(x) = x - \\frac{x^2 - 2}{2x} = \\frac{x}{2} + \\frac{1}{x},$$\n",
    "\n",
    "which has the fixed points $x_1^* = -\\sqrt{2}$ and $x_2^* = \\sqrt{2}$. Now the derivative is\n",
    "\n",
    "$$g'(x) = \\frac{1}{2} - \\frac{1}{x^2},$$\n",
    "\n",
    "and so\n",
    "\n",
    "$$g'(x_i^*) = 0, \\quad i=1,2.$$\n",
    "\n",
    "Thus, for $i=1,2$, we have $\\left|g'(x_i^*)\\right| < \\rho$, for any $\\rho \\in (0,1)$. This explains why the fixed point iteration converged rapidly to $x_2^*$ from $x_0 = 1.1$; we also expect rapid convergence to $x_1^*$ from suitable $x_0$."
   ]
  },
  {
   "cell_type": "markdown",
   "metadata": {},
   "source": [
    "---"
   ]
  },
  {
   "cell_type": "markdown",
   "metadata": {},
   "source": [
    "## Example\n",
    "\n",
    "We also considered\n",
    "\n",
    "$$ g(x) = x - \\cos(x)(x^2 - 2),$$\n",
    "\n",
    "which has the fixed points $x_1^* = -\\sqrt{2}$ and $x_2^* = \\sqrt{2}$. The derivative is\n",
    "\n",
    "$$ g'(x) = 1 + \\sin(x)(x^2-2) - 2x\\cos(x). $$"
   ]
  },
  {
   "cell_type": "code",
   "execution_count": null,
   "metadata": {},
   "outputs": [],
   "source": [
    "gp(x) = 1 + sin(x)*(x^2 - 2) - 2x*cos(x)"
   ]
  },
  {
   "cell_type": "code",
   "execution_count": null,
   "metadata": {},
   "outputs": [],
   "source": [
    "gp(sqrt(2))"
   ]
  },
  {
   "cell_type": "code",
   "execution_count": null,
   "metadata": {},
   "outputs": [],
   "source": [
    "gp(-sqrt(2))"
   ]
  },
  {
   "cell_type": "markdown",
   "metadata": {},
   "source": [
    "Thus, we expect the fixed point iteration to converge to $x_2^*$ from a suitable $x_0$ at a rate of $\\rho \\approx 0.5589$. However, no fixed point iteration will converge to $x_1^*$."
   ]
  },
  {
   "cell_type": "markdown",
   "metadata": {},
   "source": [
    "---"
   ]
  }
 ],
 "metadata": {
  "anaconda-cloud": {},
  "kernelspec": {
   "display_name": "Julia 1.5.3",
   "language": "julia",
   "name": "julia-1.5"
  },
  "language_info": {
   "file_extension": ".jl",
   "mimetype": "application/julia",
   "name": "julia",
   "version": "1.5.3"
  }
 },
 "nbformat": 4,
 "nbformat_minor": 1
}
