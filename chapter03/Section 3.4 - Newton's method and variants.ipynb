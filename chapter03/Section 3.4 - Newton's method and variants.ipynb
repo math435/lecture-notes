{
 "cells": [
  {
   "cell_type": "markdown",
   "metadata": {},
   "source": [
    "---\n",
    "\n",
    "# 3.4 Newton's method and variants\n",
    "---"
   ]
  },
  {
   "cell_type": "markdown",
   "metadata": {},
   "source": [
    "Let \n",
    "\n",
    "$$f \\in C^2[a,b].$$ \n",
    "\n",
    "That is, $f$ is a **twice-continuously differentiable** function over $[a,b]$, which means that the **first** and **second** derivatives of $f$ **exist** and are **continuous** on the open interval $(a,b)$. **Newton's method** is defined as:\n",
    "\n",
    "$$ x_{k+1} = x_k - \\frac{f(x_k)}{f'(x_k)}, \\quad k = 0, 1, 2, \\ldots.$$\n",
    "\n",
    "This is the fixed point iteration using the function $g(x) = x - f(x)\\big/f'(x)$.\n",
    "\n",
    "We have already seen above that this iteration can converge very fast. This is why Newton's method is one of the most popular methods for root finding."
   ]
  },
  {
   "cell_type": "markdown",
   "metadata": {},
   "source": [
    "## Formulating Newton's method\n",
    "\n",
    "Suppose that $f(x^*) = 0$ and that we are at the iterate $x_k$. By the **Taylor Series Theorem**, we have\n",
    "\n",
    "$$\n",
    "f(x^*) = f(x_k) + f'(x_k)(x^* - x_k) + \\frac{f''(\\xi)}{2}(x^* - x_k)^2,\n",
    "$$\n",
    "\n",
    "for some point $\\xi$ between $x^*$ and $x_k$. If $x_k$ is already fairly close to $x^*$, then $(x^* - x_k)^2$ will be very small, so we have\n",
    "\n",
    "$$0 \\approx f(x_k) + f'(x_k)(x^* - x_k).$$\n",
    "\n",
    "Solving for $x^*$, we obtain\n",
    "\n",
    "$$x^* \\approx x_k - \\frac{f(x_k)}{f'(x_k)}.$$\n",
    "\n",
    "Therefore, it makes sense to define our next iterate $x_{k+1}$ using this approximation."
   ]
  },
  {
   "cell_type": "markdown",
   "metadata": {},
   "source": [
    "## Another formulation\n",
    "\n",
    "Another way to obtain Newton's method is as follows. Consider the **first-order (linear) approximation** of $f$ around the point $x_k$:\n",
    "\n",
    "$$f(x) \\approx f(x_k) + f'(x_k)(x - x_k), \\quad \\text{for all $x \\approx x_k$}.$$\n",
    "\n",
    "Suppose that $x_k$ is close to $x^*$, and that $f(x^*) = 0$. Then\n",
    "\n",
    "$$f(x^*) \\approx f(x_k) + f'(x_k)(x^* - x_k),$$\n",
    "\n",
    "which implies that\n",
    "\n",
    "$$x^* \\approx x_k - \\frac{f(x_k)}{f'(x_k)}.$$\n",
    "\n",
    "Therefore, our next iterate should be \n",
    "\n",
    "$$x_{k+1} = x_k - \\frac{f(x_k)}{f'(x_k)}.$$"
   ]
  },
  {
   "cell_type": "markdown",
   "metadata": {},
   "source": [
    "---"
   ]
  },
  {
   "cell_type": "markdown",
   "metadata": {},
   "source": [
    "## An implementation of Newton's Method: `plotnewton`"
   ]
  },
  {
   "cell_type": "code",
   "execution_count": null,
   "metadata": {},
   "outputs": [],
   "source": [
    "using Plots, Printf\n",
    "\n",
    "function plotnewton(f, fp, x0, a, b; tol=1e-6, maxiter=10)\n",
    "    \n",
    "    plt = plot(f, a, b, color=:blue, label=:none)\n",
    "    hline!([0], color=:black, label=:none)\n",
    "    \n",
    "    k = 0\n",
    "    x = x0\n",
    "    fx = f(x)\n",
    "    xold, xnew = x, Inf\n",
    "    @printf \"%4s %22s %22s\\n\" \"k\" \"x\" \"f(x)\"\n",
    "    while abs(xnew - xold) > tol*(1 + abs(xold)) && k < maxiter\n",
    "        k += 1\n",
    "        xnew = x - fx/fp(x)\n",
    "        \n",
    "        # Plotting stuff\n",
    "        plot!([x, x], [0, fx], ls=:dot, c=:black, label=:none)\n",
    "        plot!([xnew, x], [0, fx], c=:red, label=:none)\n",
    "        scatter!([x], [fx], c=:blue, label=:none)\n",
    "        \n",
    "        xold = x\n",
    "        x = xnew\n",
    "        fx = f(x)\n",
    "        @printf \"%4d %22.15e %22.15e\\n\" k x fx\n",
    "    end\n",
    "    flush(stdout)\n",
    "    display(plt)\n",
    "    \n",
    "    return x\n",
    "    \n",
    "end"
   ]
  },
  {
   "cell_type": "markdown",
   "metadata": {},
   "source": [
    "---"
   ]
  },
  {
   "cell_type": "markdown",
   "metadata": {},
   "source": [
    "## Example\n",
    "\n",
    "Let's see how Newton's method works on $f(x) = \\sin(x)$."
   ]
  },
  {
   "cell_type": "code",
   "execution_count": null,
   "metadata": {},
   "outputs": [],
   "source": [
    "x = plotnewton(sin, cos, 4.3, 0, 2π)"
   ]
  },
  {
   "cell_type": "code",
   "execution_count": null,
   "metadata": {},
   "outputs": [],
   "source": [
    "π"
   ]
  },
  {
   "cell_type": "markdown",
   "metadata": {},
   "source": [
    "---"
   ]
  },
  {
   "cell_type": "markdown",
   "metadata": {},
   "source": [
    "## Example\n",
    "\n",
    "Let's use the above code to plot Newton's method using \n",
    "\n",
    "$$f(x) = 2\\cosh(x/4) - x,$$\n",
    "\n",
    "which has two roots,\n",
    "\n",
    "$$x_1^* \\approx 2.3575510538774020 \\qquad \\text{and} \\qquad x_2^* \\approx 8.5071995707130270.$$\n",
    "\n",
    "Which root do you converge to starting at $x_0 = 2, 4, 8, 10$?"
   ]
  },
  {
   "cell_type": "code",
   "execution_count": null,
   "metadata": {},
   "outputs": [],
   "source": [
    "xbad = 4asinh(2.)"
   ]
  },
  {
   "cell_type": "code",
   "execution_count": null,
   "metadata": {},
   "outputs": [],
   "source": [
    "x = plotnewton(\n",
    "    x -> 2cosh(x/4) - x,  # f(x)\n",
    "    x -> .5sinh(x/4) - 1, # f'(x)\n",
    "    4.0, 1, 9)"
   ]
  },
  {
   "cell_type": "markdown",
   "metadata": {},
   "source": [
    "---"
   ]
  },
  {
   "cell_type": "markdown",
   "metadata": {},
   "source": [
    "## Example (The Babylonian method for computing $\\sqrt{a}$)\n",
    "\n",
    "Let $f(x) = x^2 - a$. Newton's method gives us the iteration:\n",
    "\n",
    "$$ x_{k+1} = x_k - \\frac{x_k^2 - a}{2x_k} = \\frac{1}{2}\\left(x_k + \\frac{a}{x_k}\\right).$$\n",
    "\n",
    "This is known as the [Babylonian method](http://en.wikipedia.org/wiki/Methods_of_computing_square_roots#Babylonian_method) for computing square roots. This method only requires addition and division, and converges rapidly."
   ]
  },
  {
   "cell_type": "code",
   "execution_count": null,
   "metadata": {},
   "outputs": [],
   "source": [
    "# Let's do this using BigFloat\n",
    "\n",
    "setprecision(256)\n",
    "a = big\"10.\"\n",
    "x = a\n",
    "@printf \"%4s %10s\\n\" \"k\" \"|xk - √a|\"\n",
    "for k = 1:8\n",
    "    x = (x + a/x)/2\n",
    "    @printf \"%4d %10.1e\\n\" k abs(x - sqrt(a))\n",
    "end"
   ]
  },
  {
   "cell_type": "code",
   "execution_count": null,
   "metadata": {},
   "outputs": [],
   "source": [
    "x"
   ]
  },
  {
   "cell_type": "code",
   "execution_count": null,
   "metadata": {},
   "outputs": [],
   "source": [
    "sqrt(10.0)"
   ]
  },
  {
   "cell_type": "markdown",
   "metadata": {},
   "source": [
    "---"
   ]
  },
  {
   "cell_type": "markdown",
   "metadata": {},
   "source": [
    "## Speed of Convergence\n",
    "\n",
    "If $x_k \\to x^*$, we can measure the speed of the convergence as follows.\n",
    "\n",
    "- **Linear convergence** means there is a constant $0 < \\rho < 1$ such that\n",
    "\n",
    "  $$\\left|x_{k+1}-x^*\\right| \\leq \\rho \\left|x_k - x^*\\right|, \\quad \\text{for all $k$ sufficiently large};$$\n",
    "  \n",
    "  that is,\n",
    "  \n",
    "  $$ \\lim_{k \\to \\infty} \\frac{\\left|x_{k+1}-x^*\\right|}{\\left|x_k - x^*\\right|} = \\rho < 1.$$\n",
    "  \n",
    "\n",
    "- **Superlinear convergence** means there is a sequence $\\rho_k \\to 0$ such that\n",
    "\n",
    "  $$\\left|x_{k+1}-x^*\\right| \\leq \\rho_k \\left|x_k - x^*\\right|, \\quad \\text{for all $k$ sufficiently large};$$\n",
    "\n",
    "  that is,\n",
    "  \n",
    "  $$ \\lim_{k \\to \\infty} \\frac{\\left|x_{k+1}-x^*\\right|}{\\left|x_k - x^*\\right|} = 0.$$\n",
    "  \n",
    "\n",
    "- **Quadratic convergence** means there is a constant $M$ such that\n",
    "\n",
    "  $$\\left|x_{k+1}-x^*\\right| \\leq M \\left|x_k - x^*\\right|^2, \\quad \\text{for all $k$ sufficiently large};$$\n",
    "  \n",
    "  that is,\n",
    "  \n",
    "  $$ \\lim_{k \\to \\infty} \\frac{\\left|x_{k+1}-x^*\\right|}{\\left|x_k - x^*\\right|^2} = M < \\infty.$$\n",
    "\n",
    "\n",
    "Note that **quadratic convergence** is an example of **superlinear convergence** with $\\rho_k = M \\left|x_k - x^*\\right|$."
   ]
  },
  {
   "cell_type": "markdown",
   "metadata": {},
   "source": [
    "---"
   ]
  },
  {
   "cell_type": "markdown",
   "metadata": {},
   "source": [
    "> ## Theorem (Quadratic convergence of Newton's Method):\n",
    "Let $f \\in C^2[a,b]$. If $f$ has a root $x^* \\in (a,b)$ such that $f'(x^*) \\neq 0$, then there is a $\\delta > 0$ such that Newton's method **converges quadratically** to $x^*$ from any $x_0 \\in [x^*-\\delta, x^*+\\delta]$."
   ]
  },
  {
   "cell_type": "markdown",
   "metadata": {},
   "source": [
    "## Proof:\n",
    "\n",
    "Since:\n",
    "\n",
    "- $f \\in C^2[a,b]$ \n",
    "- $x^* \\in (a,b)$\n",
    "- $f'(x^*) \\neq 0$\n",
    "\n",
    "there are positive constants $\\delta_1$, $\\varepsilon$, and $M$ such that\n",
    "\n",
    "- $\\left|f'(x)\\right| \\geq \\varepsilon$ \n",
    "- $\\left|f''(x)\\right| \\leq M$\n",
    "\n",
    "for all $x \\in [x^*-\\delta_1, x^*+\\delta_1] \\subset (a,b)$."
   ]
  },
  {
   "cell_type": "markdown",
   "metadata": {},
   "source": [
    "Suppose $x_k \\in [x^*-\\delta_1, x^*+\\delta_1]$. Then, there is a $\\xi_k$ between $x^*$ and $x_k$ such that\n",
    "\n",
    "$$ f(x^*) = f(x_k) + f'(x_k) (x^* - x_k) + \\frac{f''(\\xi_k)}{2} (x^* - x_k)^2.$$\n",
    "\n",
    "Using the fact that $f(x^*) = 0$ and $f'(x_k) \\neq 0$, we can rearrange this equation to get\n",
    "\n",
    "$$ -\\frac{f(x_k)}{f'(x_k)} - x^* + x_k =  \\frac{f''(\\xi_k)}{2f'(x_k)} (x^* - x_k)^2.$$\n",
    "\n",
    "Since $x_{k+1} = x_k - f(x_k)\\big/f'(x_k)$, we have \n",
    "\n",
    "$$x^* - x_{k+1} = -\\frac{f''(\\xi_k)}{2f'(x_k)} (x^* - x_k)^2.$$\n",
    "\n",
    "Thus,\n",
    "\n",
    "$$\\left|x^* - x_{k+1}\\right| = \\left|\\frac{f''(\\xi_k)}{2f'(x_k)}\\right| \\left|x^* - x_k\\right|^2 \\leq \\frac{M}{2\\varepsilon} \\left|x^* - x_k\\right|^2,$$\n",
    "\n",
    "so if $x_k \\to x^*$, then the **convergence will be quadratic**."
   ]
  },
  {
   "cell_type": "markdown",
   "metadata": {},
   "source": [
    "We just need to find $\\delta > 0$ so that if $x_0 \\in [x^* - \\delta, x^* + \\delta]$, then $x_k \\to x^*$.\n",
    "\n",
    "Let $\\lambda \\in (0, 1)$ and let\n",
    "\n",
    "$$\\delta = \\min\\left\\{\\frac{2\\varepsilon\\lambda}{M}, \\delta_1\\right\\}.$$\n",
    "\n",
    "Suppose that $x_k \\in [x^* - \\delta, x^* + \\delta]$. Then\n",
    "\n",
    "$$\n",
    "\\begin{split}\n",
    "\\left|x^* - x_{k+1}\\right| \n",
    "&\\leq \\frac{M}{2\\varepsilon} \\left|x^* - x_k\\right|^2 \\\\\n",
    "&\\leq \\frac{M}{2\\varepsilon} \\delta \\left|x^* - x_k\\right| \\\\\n",
    "&\\leq \\lambda \\left|x^* - x_k\\right| \\\\\n",
    "&< \\delta,\n",
    "\\end{split}\n",
    "$$\n",
    "\n",
    "so $x_{k+1} \\in [x^* - \\delta, x^* + \\delta]$ as well. Thus, if $x_0 \\in [x^* - \\delta, x^* + \\delta]$, we have $x_k \\in [x^* - \\delta, x^* + \\delta]$ for $k = 0, 1, 2, \\ldots$. "
   ]
  },
  {
   "cell_type": "markdown",
   "metadata": {},
   "source": [
    "Moreover,\n",
    "\n",
    "$$0 \\leq \\left|x^* - x_k\\right| \\leq \\lambda \\left|x^* - x_{k-1}\\right| \\leq \\lambda^2 \\left|x^* - x_{k-2}\\right| \\leq \\cdots \\leq \\lambda^k \\left|x^* - x_{0}\\right|.$$\n",
    "\n",
    "Since $\\lambda \\in (0,1)$, we have $\\lambda^k \\left|x^* - x_{0}\\right| \\to 0$ as $k \\to \\infty$. Thus, if $x_0 \\in [x^* - \\delta, x^* + \\delta]$ then $x_k$ converges to $x^*$ quadratically. $\\blacksquare$"
   ]
  },
  {
   "cell_type": "markdown",
   "metadata": {},
   "source": [
    "---"
   ]
  },
  {
   "cell_type": "markdown",
   "metadata": {},
   "source": [
    "## Pros and cons of Newton's method\n",
    "\n",
    "Pros:\n",
    "\n",
    "1. **Fast to converge:** Newton's method enjoys quadratic convergence near the root when $f'(x^*) \\neq 0$.\n",
    "\n",
    "2. **Generalizes to multiple variables:** Let $\\mathbf{F} \\colon \\mathbb{R}^n \\to \\mathbb{R}^n$. Newton's method for solving \n",
    "   \n",
    "   $$\\mathbf{F}(\\mathbf{x}) = \\mathbf{0}$$ \n",
    "   \n",
    "   (i.e., $n$ nonlinear equations with $n$ unknowns) is\n",
    "\n",
    "   $$ \\mathbf{x}_{k+1} = \\mathbf{x}_k - \\mathbf{J}(\\mathbf{x}_k)^{-1} \\mathbf{F}(\\mathbf{x}_k),$$\n",
    "\n",
    "   where $\\mathbf{J}(\\mathbf{x})$ is the $n \\times n$ **Jacobian** of $\\mathbf{F}$:\n",
    "   \n",
    "   $$\n",
    "   \\mathbf{J}(\\mathbf{x}) = \n",
    "   \\begin{bmatrix}\n",
    "   \\frac{\\partial F_1}{\\partial x_1}& \\cdots &\n",
    "   \\frac{\\partial F_1}{\\partial x_n}\\\\\n",
    "   \\vdots & \\ddots & \\vdots \\\\\n",
    "   \\frac{\\partial F_n}{\\partial x_1}& \\cdots &\n",
    "   \\frac{\\partial F_n}{\\partial x_n}\\\\\n",
    "   \\end{bmatrix}$$\n",
    "\n",
    "\n",
    "Cons:\n",
    "\n",
    "1. **Requires the derivative:** We must give Newton's method both the function $f$ and its derivative $f'$. This may not always be possible or easy.\n",
    "\n",
    "2. **Need to start close to $x^*$:** Newton's method is a **local method**. When $x_0$ is far from $x^*$, Newton's method may not converge to $x^*$, or may require many iterations before quadratic convergence begins.\n"
   ]
  },
  {
   "cell_type": "markdown",
   "metadata": {},
   "source": [
    "---"
   ]
  },
  {
   "cell_type": "markdown",
   "metadata": {},
   "source": [
    "## Secant method\n",
    "\n",
    "Sometimes it is not possible to evaluate the derivative $f'$:\n",
    "\n",
    "- $f'$ is unknown or difficult to obtain\n",
    "- evaluating $f'$ takes too much time\n",
    "\n",
    "Instead, we can use the **secant approximation** of the derivative. When $x_k \\approx x_{k-1}$, we have\n",
    "\n",
    "$$ f'(x_k) \\approx \\frac{f(x_k) - f(x_{k-1})}{x_k - x_{k-1}}.$$\n",
    "\n",
    "Plugging this approximation into the formula for Newton's method, we get:\n",
    "\n",
    "$$x_{k+1} = x_k - \\frac{f(x_k)(x_k - x_{k-1})}{f(x_k) - f(x_{k-1})}$$\n",
    "\n",
    "The secant method is an example of a [quasi-Newton](http://en.wikipedia.org/wiki/Quasi-Newton_method) method since we are replacing $f'$ with an approximation of $f'$.\n",
    "\n",
    "When $f'(x^*) \\neq 0$, the secant method will converge **superlinearly**, so it may not be as fast as Newton's method."
   ]
  },
  {
   "cell_type": "markdown",
   "metadata": {},
   "source": [
    "---"
   ]
  },
  {
   "cell_type": "markdown",
   "metadata": {},
   "source": [
    "## An implementation of the secant method: `plotsecant`"
   ]
  },
  {
   "cell_type": "code",
   "execution_count": null,
   "metadata": {},
   "outputs": [],
   "source": [
    "using Plots, Printf\n",
    "\n",
    "function plotsecant(f, x0, x1, a, b; tol=1e-6, maxiter=10, doplot=true)\n",
    "    \n",
    "    if doplot\n",
    "        plt = plot(f, a, b, color=:blue, label=:none)\n",
    "        hline!([0], color=:black, label=:none)\n",
    "    end\n",
    "    \n",
    "    k = 0\n",
    "    xprev = x0\n",
    "    x = x1\n",
    "    fxprev = f(xprev)\n",
    "    fx = f(x)\n",
    "    \n",
    "    if doplot\n",
    "        plot!([xprev, xprev], [0, fxprev], ls=:dot, c=:black, label=:none)\n",
    "        scatter!([xprev], [fxprev], c=:blue, label=:none)\n",
    "    end\n",
    "    \n",
    "    @printf \"%4s %22s %22s\\n\" \"k\" \"x\" \"f(x)\"\n",
    "    while abs(x - xprev) > tol*(1 + abs(x)) && k < maxiter\n",
    "        k += 1\n",
    "        xnew = x - fx*(x - xprev)/(fx - fxprev)\n",
    "        \n",
    "        # Plotting stuff\n",
    "        if doplot\n",
    "            plot!([x, x], [0, fx], ls=:dot, c=:black, label=:none)\n",
    "            plot!([xnew, xprev, x], [0, fxprev, fx], c=:red, label=:none)\n",
    "            scatter!([xprev], [fxprev], c=:blue, label=:none)\n",
    "        end\n",
    "        \n",
    "        xprev = x\n",
    "        x = xnew\n",
    "        fxprev = f(xprev)\n",
    "        fx = f(x)\n",
    "        @printf \"%4d %22.15e %22.15e\\n\" k x fx\n",
    "    end\n",
    "    flush(stdout)\n",
    "    if doplot\n",
    "        display(plt)\n",
    "    end\n",
    "    \n",
    "    return x\n",
    "end"
   ]
  },
  {
   "cell_type": "markdown",
   "metadata": {},
   "source": [
    "---"
   ]
  },
  {
   "cell_type": "markdown",
   "metadata": {},
   "source": [
    "## Example\n",
    "\n",
    "Let's see how the secant method works on $f(x) = \\sin(x)$."
   ]
  },
  {
   "cell_type": "code",
   "execution_count": null,
   "metadata": {},
   "outputs": [],
   "source": [
    "x = plotsecant(sin, 1.0, 4.3, 0, 2π, maxiter=100)"
   ]
  },
  {
   "cell_type": "code",
   "execution_count": null,
   "metadata": {},
   "outputs": [],
   "source": [
    "abs(x - pi)"
   ]
  },
  {
   "cell_type": "markdown",
   "metadata": {},
   "source": [
    "---"
   ]
  },
  {
   "cell_type": "markdown",
   "metadata": {},
   "source": [
    "## Example\n",
    "\n",
    "Recall the example of finding the value of $y_0$ such that the solution $y(t)$ of the ordinary differential equation \n",
    "\n",
    "$$\n",
    "\\frac{dy}{dt} = t - 5 + \\frac{y^2}{100}\n",
    "$$\n",
    "\n",
    "with initial value $y(0) = y_0$ satisfies $y(10) = 20$."
   ]
  },
  {
   "cell_type": "code",
   "execution_count": null,
   "metadata": {},
   "outputs": [],
   "source": [
    "using OrdinaryDiffEq\n",
    "\n",
    "F(y, p, t) = t - 5 + y^2/100\n",
    "\n",
    "function foo(y0)\n",
    "    tspan = (0.0, 10.0)\n",
    "    prob = ODEProblem(F, y0, tspan)\n",
    "    sol = solve(prob, Tsit5())\n",
    "    return sol(10.0)\n",
    "end"
   ]
  },
  {
   "cell_type": "code",
   "execution_count": null,
   "metadata": {},
   "outputs": [],
   "source": [
    "foo(10.0)"
   ]
  },
  {
   "cell_type": "code",
   "execution_count": null,
   "metadata": {},
   "outputs": [],
   "source": [
    "foo(15.0)"
   ]
  },
  {
   "cell_type": "code",
   "execution_count": null,
   "metadata": {},
   "outputs": [],
   "source": [
    "x = plotsecant(y0 -> foo(y0) - 20, 10.0, 15.0, 10, 15, tol=1e-10)"
   ]
  },
  {
   "cell_type": "code",
   "execution_count": null,
   "metadata": {},
   "outputs": [],
   "source": [
    "foo(x)"
   ]
  },
  {
   "cell_type": "markdown",
   "metadata": {},
   "source": [
    "---"
   ]
  },
  {
   "cell_type": "markdown",
   "metadata": {},
   "source": [
    "## The case of a multiple root\n",
    "\n",
    "When $f'(x^*) = 0$, we are no longer guaranteed to obtain superlinear convergence of the secant method, nor quadratic convergence of Newton's method. In this case, both methods will be merely **linearly convergent**.\n",
    "\n",
    "Let's try these methods on the function\n",
    "\n",
    "$$f(x) = x^2$$\n",
    "\n",
    "for which $x^* = 0$ is a root of **multiplicity** 2."
   ]
  },
  {
   "cell_type": "code",
   "execution_count": null,
   "metadata": {},
   "outputs": [],
   "source": [
    "x = plotnewton(x -> x^2, x -> 2x, 4.0, -1, 5, maxiter=100)"
   ]
  },
  {
   "cell_type": "code",
   "execution_count": null,
   "metadata": {},
   "outputs": [],
   "source": [
    "x = plotsecant(x -> x^2, 4.0, 3.0, -1, 5, maxiter=100)"
   ]
  },
  {
   "cell_type": "markdown",
   "metadata": {},
   "source": [
    "---"
   ]
  }
 ],
 "metadata": {
  "kernelspec": {
   "display_name": "Julia 1.8.5",
   "language": "julia",
   "name": "julia-1.8"
  },
  "language_info": {
   "file_extension": ".jl",
   "mimetype": "application/julia",
   "name": "julia",
   "version": "1.8.5"
  }
 },
 "nbformat": 4,
 "nbformat_minor": 4
}
