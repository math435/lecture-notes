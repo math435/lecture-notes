{
 "cells": [
  {
   "cell_type": "markdown",
   "metadata": {},
   "source": [
    "---\n",
    "\n",
    "# 3.5 Minimizing a function in one variable\n",
    "\n",
    "---"
   ]
  },
  {
   "cell_type": "markdown",
   "metadata": {},
   "source": [
    "We can use the root-finding methods described above to find the **minimum** or **maximum** value of a function $\\phi \\in C^2[a,b]$.\n",
    "\n",
    "Recall that $x^* \\in (a,b)$ is a **critical point** of $\\phi$ if \n",
    "\n",
    "$$\\phi'(x^*) = 0.$$\n",
    "\n",
    "We can find $x^*$ by applying Newton's method to this nonlinear equation to obtain:\n",
    "\n",
    "$$x_{k+1} = x_k - \\frac{\\phi'(x_k)}{\\phi''(x_k)}.$$"
   ]
  },
  {
   "cell_type": "markdown",
   "metadata": {},
   "source": [
    "## Another interpretation\n",
    "\n",
    "We can also obtain this by considering the **second-order (quadratic) approximation** of $\\phi$ around the point $x_k$:\n",
    "\n",
    "$$\\phi(x) \\approx \\phi(x_k) + \\phi'(x_k)(x-x_k) + \\frac{\\phi''(x_k)}{2}(x-x_k)^2, \\quad \\text{for all $x \\approx x_k$}.$$\n",
    "\n",
    "If $x_k$ is close to $x^*$, we expect the minimum/maximum of $\\phi$ to be near the minimum/maximum of the **quadratic approximation** of $\\phi$:\n",
    "\n",
    "$$q(x) = \\phi(x_k) + \\phi'(x_k)(x-x_k) + \\frac{\\phi''(x_k)}{2}(x-x_k)^2.$$\n",
    "\n",
    "Thus we should choose $x_{k+1}$ to be the critical point of $q$, so we want to find $x_{k+1}$ such that $q'(x_{k+1}) = 0$. Note that\n",
    "\n",
    "$$q'(x) = \\phi'(x_k) + \\phi''(x_k)(x-x_k).$$\n",
    "\n",
    "Thus $q'(x_{k+1}) = 0$ gives us\n",
    "\n",
    "$$x_{k+1} = x_k - \\frac{\\phi'(x_k)}{\\phi''(x_k)}.$$"
   ]
  },
  {
   "cell_type": "markdown",
   "metadata": {},
   "source": [
    "---"
   ]
  },
  {
   "cell_type": "markdown",
   "metadata": {},
   "source": [
    "## Example\n",
    "\n",
    "Let's find the minimum value of \n",
    "\n",
    "$$\\phi(x) = 10\\cosh(x/4) - x$$\n",
    "\n",
    "by applying Newton's method."
   ]
  },
  {
   "cell_type": "code",
   "execution_count": null,
   "metadata": {},
   "outputs": [],
   "source": [
    "using Plots, Printf\n",
    "\n",
    "function plotnewton(f, fp, x0, a, b; tol=1e-6, maxiter=10)\n",
    "    \n",
    "    plt = plot(f, a, b, color=:blue, label=:none)\n",
    "    hline!([0], color=:black, label=:none)\n",
    "    \n",
    "    k = 0\n",
    "    x = x0\n",
    "    fx = f(x)\n",
    "    xold, xnew = x, Inf\n",
    "    @printf \"%4s %22s %22s\\n\" \"k\" \"x\" \"f(x)\"\n",
    "    while abs(xnew - xold) > tol*(1 + abs(xold)) && k < maxiter\n",
    "        k += 1\n",
    "        xnew = x - fx/fp(x)\n",
    "        \n",
    "        # Plotting stuff\n",
    "        plot!([x, x], [0, fx], ls=:dot, c=:black, label=:none)\n",
    "        plot!([xnew, x], [0, fx], c=:red, label=:none)\n",
    "        scatter!([x], [fx], c=:blue, label=:none)\n",
    "        \n",
    "        xold = x\n",
    "        x = xnew\n",
    "        fx = f(x)\n",
    "        @printf \"%4d %22.15e %22.15e\\n\" k x fx\n",
    "    end\n",
    "    flush(stdout)\n",
    "    display(plt)\n",
    "    \n",
    "    return x\n",
    "    \n",
    "end"
   ]
  },
  {
   "cell_type": "code",
   "execution_count": null,
   "metadata": {},
   "outputs": [],
   "source": [
    "ϕ(x) = 10cosh(x/4) - x"
   ]
  },
  {
   "cell_type": "code",
   "execution_count": null,
   "metadata": {},
   "outputs": [],
   "source": [
    "ϕp(x) = 2.5sinh(x/4) - 1"
   ]
  },
  {
   "cell_type": "code",
   "execution_count": null,
   "metadata": {},
   "outputs": [],
   "source": [
    "ϕpp(x) = 0.625cosh(x/4)"
   ]
  },
  {
   "cell_type": "code",
   "execution_count": null,
   "metadata": {},
   "outputs": [],
   "source": [
    "x0, a, b = 10., 0., 10.\n",
    "\n",
    "x = plotnewton(ϕp, ϕpp, x0, a, b)"
   ]
  },
  {
   "cell_type": "code",
   "execution_count": null,
   "metadata": {},
   "outputs": [],
   "source": [
    "ϕpp(x)"
   ]
  },
  {
   "cell_type": "code",
   "execution_count": null,
   "metadata": {},
   "outputs": [],
   "source": [
    "plot(ϕ, -3, 7, c=:blue, legend=:none)\n",
    "scatter!([x], [ϕ(x)], c=:red)"
   ]
  },
  {
   "cell_type": "markdown",
   "metadata": {},
   "source": [
    "Thus \n",
    "\n",
    "$$x^* = 1.560141279082861\\ldots.$$ \n",
    "\n",
    "Note that $\\phi'(x^*) = 0$, as required. Since $\\phi''(x^*) > 0$, we know that \n",
    "\n",
    "$$\\phi(x^*) = 9.210188335186146\\ldots$$ \n",
    "\n",
    "is a **local minimum value** of $\\phi$.\n",
    "\n",
    "In fact, since $\\phi''(x) > 0$ for all $x$, we know that $\\phi(x^*)$ is the **global minimum value** of $\\phi$."
   ]
  },
  {
   "cell_type": "markdown",
   "metadata": {},
   "source": [
    "---"
   ]
  }
 ],
 "metadata": {
  "anaconda-cloud": {},
  "kernelspec": {
   "display_name": "Julia 1.8.5",
   "language": "julia",
   "name": "julia-1.8"
  },
  "language_info": {
   "file_extension": ".jl",
   "mimetype": "application/julia",
   "name": "julia",
   "version": "1.8.5"
  }
 },
 "nbformat": 4,
 "nbformat_minor": 4
}
