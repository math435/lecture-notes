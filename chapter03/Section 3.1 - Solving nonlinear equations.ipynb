{
 "cells": [
  {
   "cell_type": "markdown",
   "metadata": {},
   "source": [
    "---\n",
    "# 3.1 Solving nonlinear equations\n",
    "---"
   ]
  },
  {
   "cell_type": "markdown",
   "metadata": {},
   "source": [
    "In many applications, one needs the solution to a **nonlinear equation** for which there is no closed formula.\n",
    "\n",
    "- Suppose you do not have a cube-root function, but only the operations $+$, $-$, $\\times$, $\\div$:  \n",
    "\n",
    "$$\n",
    "x^3 = a\n",
    "$$\n",
    "\n",
    "- Polynomials with degree at least five have no general algebraic solution ([Abel-Ruffini Theorem](http://en.wikipedia.org/wiki/Abel%E2%80%93Ruffini_theorem)): \n",
    "\n",
    "$$\n",
    "x^5 - 5x^4 + 5x^3 + 5x^2 - 6x - 1 = 0\n",
    "$$\n",
    "\n",
    "- General nonlinear equations:\n",
    "\n",
    "$$\n",
    "10\\cosh(x/4) = x\n",
    "\\qquad \\text{and} \\qquad\n",
    "2\\cosh(x/4) = x\n",
    "$$\n",
    "\n",
    "**Note:** The **hyperbolic sine**, **hyperbolic cosine**, and **hyperbolic tangent** functions are defined as\n",
    "\n",
    "$$\n",
    "\\sinh(t) = \\frac{e^t - e^{-t}}{2},\n",
    "\\qquad\n",
    "\\cosh(t) = \\frac{e^t + e^{-t}}{2},\n",
    "\\qquad\n",
    "\\tanh(t) = \\frac{e^t - e^{-t}}{e^t + e^{-t}}.\n",
    "$$\n",
    "\n",
    "Thus $\\tanh(t) = \\frac{\\sinh(t)}{\\cosh(t)}$, $\\frac{d}{dt} \\sinh(t) = \\cosh(t)$, and $\\frac{d}{dt} \\cosh(t) = \\sinh(t)$."
   ]
  },
  {
   "cell_type": "markdown",
   "metadata": {},
   "source": [
    "---"
   ]
  },
  {
   "cell_type": "markdown",
   "metadata": {},
   "source": [
    "## Problem statement\n",
    "\n",
    "Given $f \\in C[a,b]$ (i.e., a *continuous* function $f \\colon [a,b] \\to \\mathbb{R}$) and we want to find $x^* \\in [a, b]$ such that\n",
    "\n",
    "$$\n",
    "f(x^*) = 0.\n",
    "$$\n",
    "\n",
    "The solution $x^*$ is called a **root** or **zero** of the function $f$. There could be exactly one root, many roots, or no roots at all."
   ]
  },
  {
   "cell_type": "code",
   "execution_count": null,
   "metadata": {
    "jupyter": {
     "outputs_hidden": true
    }
   },
   "outputs": [],
   "source": [
    "# Plot the above functions and their roots\n",
    "\n",
    "using Plots  # Package for plotting\n",
    "using Roots  # Package for finding roots of functions"
   ]
  },
  {
   "cell_type": "code",
   "execution_count": null,
   "metadata": {
    "jupyter": {
     "outputs_hidden": false
    }
   },
   "outputs": [],
   "source": [
    "p(x) = x^5 - 5x^4 + 5x^3 + 5x^2 - 6x - 1"
   ]
  },
  {
   "cell_type": "code",
   "execution_count": null,
   "metadata": {
    "jupyter": {
     "outputs_hidden": false
    }
   },
   "outputs": [],
   "source": [
    "a, b = -1.25, 3.25\n",
    "\n",
    "plot(p, a, b, label=\"p(x)\")\n",
    "hline!([0], c=\"black\", label=:none)\n",
    "vline!([0], c=\"black\", label=:none)"
   ]
  },
  {
   "cell_type": "code",
   "execution_count": null,
   "metadata": {
    "jupyter": {
     "outputs_hidden": false
    }
   },
   "outputs": [],
   "source": [
    "fzero(p, a, b)"
   ]
  },
  {
   "cell_type": "code",
   "execution_count": null,
   "metadata": {
    "jupyter": {
     "outputs_hidden": false
    }
   },
   "outputs": [],
   "source": [
    "fzeros(p, a, b)"
   ]
  },
  {
   "cell_type": "code",
   "execution_count": null,
   "metadata": {
    "jupyter": {
     "outputs_hidden": false
    }
   },
   "outputs": [],
   "source": [
    "f(x) = 10cosh(x/4) - x"
   ]
  },
  {
   "cell_type": "code",
   "execution_count": null,
   "metadata": {
    "jupyter": {
     "outputs_hidden": false
    }
   },
   "outputs": [],
   "source": [
    "a, b = -5, 10\n",
    "\n",
    "plot(f, a, b, label=\"f(x)\")\n",
    "hline!([0], c=\"black\", label=:none)\n",
    "vline!([0], c=\"black\", label=:none)"
   ]
  },
  {
   "cell_type": "code",
   "execution_count": null,
   "metadata": {
    "jupyter": {
     "outputs_hidden": false
    }
   },
   "outputs": [],
   "source": [
    "fzeros(f, a, b)"
   ]
  },
  {
   "cell_type": "code",
   "execution_count": null,
   "metadata": {
    "jupyter": {
     "outputs_hidden": false
    }
   },
   "outputs": [],
   "source": [
    "g(x) = 2cosh(x/4) - x"
   ]
  },
  {
   "cell_type": "code",
   "execution_count": null,
   "metadata": {
    "jupyter": {
     "outputs_hidden": false
    }
   },
   "outputs": [],
   "source": [
    "a, b = -5, 10\n",
    "\n",
    "plot(g, a, b, label=\"g(x)\")\n",
    "hline!([0], c=\"black\", label=:none)\n",
    "vline!([0], c=\"black\", label=:none)"
   ]
  },
  {
   "cell_type": "code",
   "execution_count": null,
   "metadata": {
    "jupyter": {
     "outputs_hidden": false
    }
   },
   "outputs": [],
   "source": [
    "fzeros(g, a, b)"
   ]
  },
  {
   "cell_type": "markdown",
   "metadata": {},
   "source": [
    "---"
   ]
  },
  {
   "cell_type": "markdown",
   "metadata": {},
   "source": [
    "## Iterative methods\n",
    "\n",
    "Often there is no closed formula for a root $x^*$ of the function $f$. Instead of using a formula to compute a root $x^*$, we will start with an **initial guess** $x_0$ and generate a **sequence of iterates**\n",
    "\n",
    "$$ x_1, x_2, x_3, \\ldots, x_k, \\ldots $$\n",
    "\n",
    "that we hope **converges** to $x^*$; i.e.,\n",
    "\n",
    "$$\\lim_{k \\to \\infty} x_k = x^*.$$\n",
    "\n",
    "**Note:** Different initial guesses $x_0$ may generate sequences of iterates that converge to different roots. We will see how to deal with this issue."
   ]
  },
  {
   "cell_type": "markdown",
   "metadata": {},
   "source": [
    "---"
   ]
  },
  {
   "cell_type": "markdown",
   "metadata": {},
   "source": [
    "## When to stop\n",
    "\n",
    "Since the sequence of iterates is infinite, we must decide when we are close enough to a root $x^*$. However, we do not know $x^*$, so how can we decide when we are close enough?\n",
    "\n",
    "Some options are to stop when:\n",
    "\n",
    "1. The function value is small:\n",
    "\n",
    "  $$\\left|f(x_k)\\right| < \\mathtt{ftol}.$$\n",
    "  \n",
    "  A problem with this test is that $\\left|f(x_k)\\right|$ may be very small although $x_k$ is still very far from a root.\n",
    "    \n",
    "2. Consecutive iterates are very close to each other:\n",
    "\n",
    "   $$\\left|x_k - x_{k-1}\\right| < \\mathtt{atol}.$$\n",
    "   \n",
    "   A problem with this test is that `atol` must take into account the magnitude of the iterates.\n",
    "\n",
    "3. Consecutive iterates are *relatively* close to each other:\n",
    "\n",
    "   $$\\left|x_k - x_{k-1}\\right| < \\mathtt{rtol} \\left|x_k\\right|.$$\n",
    "   \n",
    "   Usually this is more robust than the above absolute test.\n",
    "   \n",
    "Often a combination of the above conditions is used. For example, items 2 and 3 can be combined:   \n",
    "\n",
    "$$\\left|x_k - x_{k-1}\\right| < \\mathtt{tol}(1 + \\left|x_k\\right|).$$"
   ]
  },
  {
   "cell_type": "markdown",
   "metadata": {},
   "source": [
    "---"
   ]
  }
 ],
 "metadata": {
  "anaconda-cloud": {},
  "kernelspec": {
   "display_name": "Julia 1.5.3",
   "language": "julia",
   "name": "julia-1.5"
  },
  "language_info": {
   "file_extension": ".jl",
   "mimetype": "application/julia",
   "name": "julia",
   "version": "1.5.3"
  }
 },
 "nbformat": 4,
 "nbformat_minor": 4
}
