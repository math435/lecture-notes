{
 "cells": [
  {
   "cell_type": "markdown",
   "metadata": {},
   "source": [
    "---\n",
    "Some useful $\\LaTeX$ commands are defined in this cell:\n",
    "$$\n",
    "\\newcommand{\\abs}[1]{\\left\\lvert#1\\right\\rvert}\n",
    "\\newcommand{\\norm}[1]{\\left\\lVert#1\\right\\rVert}\n",
    "\\newcommand{\\set}[1]{\\left\\{#1\\right\\}}\n",
    "\\newcommand{\\paren}[1]{\\left(#1\\right)}\n",
    "\\newcommand{\\brack}[1]{\\left[#1\\right]}\n",
    "\\newcommand{\\ip}[2]{\\left\\langle#1,#2\\right\\rangle}\n",
    "\\DeclareMathOperator{\\span}{span}\n",
    "\\DeclareMathOperator{\\fl}{fl}\n",
    "\\abs{x}, \\norm{x}, \\set{x}, \\paren{x}, \\brack{x}, \\ip{x}{y}, \\span, \\fl\n",
    "$$\n",
    "\n",
    "---"
   ]
  },
  {
   "cell_type": "markdown",
   "metadata": {},
   "source": [
    "---\n",
    "# 15.1 Basic quadrature algorithms\n",
    "---"
   ]
  },
  {
   "cell_type": "markdown",
   "metadata": {},
   "source": [
    "The goal of this chapter is to determine \n",
    "<a href=https://en.wikipedia.org/wiki/Quadrature_(mathematics)>quadrature</a> formulas for approximating\n",
    "\n",
    "$$\n",
    "I_f = \\int_a^b f(x)\\,dx \\approx \\sum_{j=0}^n a_j f(x_j).\n",
    "$$\n",
    "\n",
    "We just need to determine the **quadrature weights** $a_j$ and **points** $x_j$."
   ]
  },
  {
   "cell_type": "markdown",
   "metadata": {},
   "source": [
    "---"
   ]
  },
  {
   "cell_type": "markdown",
   "metadata": {},
   "source": [
    "### A simple approach\n",
    "\n",
    "1. Compute the value of the function $f$ at a few points $x_0,\\ldots,x_n \\in [a,b]$.\n",
    "2. Interpolate $(x_0,f(x_0)),\\ldots,(x_n,f(x_n))$ with a polynomial $p_n$ written in Lagrange form:\n",
    "$$\n",
    "p_n(x) = \\sum_{j=0}^n f(x_j) L_j(x).\n",
    "$$\n",
    "3. Then the integral of the polynomial $p_n$,\n",
    "$$\n",
    "\\int_a^b p_n(x)\\,dx = \\sum_{j=0}^n a_j f(x_j), \\quad a_j = \\int_a^b L_j(x)\\,dx,\n",
    "$$\n",
    "approximates the integral of $f$."
   ]
  },
  {
   "cell_type": "markdown",
   "metadata": {},
   "source": [
    "---"
   ]
  },
  {
   "cell_type": "markdown",
   "metadata": {},
   "source": [
    "### Quadrature error\n",
    "\n",
    "Recall that\n",
    "\n",
    "$$\n",
    "f(x) - p_n(x) = f[x_0,\\ldots,x_n,x] \\prod_{j=0}^n (x - x_j).\n",
    "$$\n",
    "\n",
    "Therefore, the **quadrature error** is\n",
    "\n",
    "$$\n",
    "\\begin{align}\n",
    "E(f) \n",
    "&= \\int_a^b f(x)\\,dx - \\sum_{j=0}^n a_j f(x_j) \\\\\n",
    "&= \\int_a^b f(x)\\,dx - \\int_a^b p_n(x)\\,dx \\\\\n",
    "&= \\int_a^b \\bigl(f(x) - p_n(x)\\bigr)\\,dx \\\\\n",
    "&= \\int_a^b f[x_0,\\ldots,x_n,x] \\prod_{j=0}^n (x - x_j)\\,dx.\n",
    "\\end{align}\n",
    "$$"
   ]
  },
  {
   "cell_type": "markdown",
   "metadata": {},
   "source": [
    "---"
   ]
  },
  {
   "cell_type": "markdown",
   "metadata": {},
   "source": [
    "## Trapezoidal rule\n",
    "\n",
    "Let $x_0 = a$ and $x_1 = b$. Then\n",
    "\n",
    "$$\n",
    "L_0(x) = \\frac{x - b}{a - b}, \\quad L_1(x) = \\frac{x - a}{b - a}.\n",
    "$$\n",
    "\n",
    "Thus,\n",
    "\n",
    "$$\n",
    "a_0 = \\int_a^b L_0(x)\\,dx = \\frac{b - a}{2}, \\quad \n",
    "a_1 = \\int_a^b L_1(x)\\,dx = \\frac{b - a}{2}.\n",
    "$$\n",
    "\n",
    "Therefore, the **trapezoidal rule** is\n",
    "\n",
    "$$\n",
    "\\begin{align}\n",
    "I_f \\approx \\sum_{j=0}^1 a_j f(x_j) \n",
    "&= \\frac{b - a}{2} f(a) + \\frac{b - a}{2} f(b)\\\\\n",
    "&= \\frac{b - a}{2} \\bigl[f(a) + f(b)\\bigr] =: I_{\\mathrm{trap}}.\n",
    "\\end{align}\n",
    "$$"
   ]
  },
  {
   "cell_type": "markdown",
   "metadata": {},
   "source": [
    "---\n",
    "## Example\n",
    "\n",
    "$$\n",
    "I_f = \\int_0^1 \\paren{\\frac{4}{1+x^2}} dx = \\pi\n",
    "$$\n",
    "\n",
    "Determine $I_{\\mathrm{trap}}$."
   ]
  },
  {
   "cell_type": "code",
   "execution_count": null,
   "metadata": {},
   "outputs": [],
   "source": [
    "f(x) = 4/(1 + x^2)"
   ]
  },
  {
   "cell_type": "code",
   "execution_count": null,
   "metadata": {},
   "outputs": [],
   "source": [
    "a, b = 0., 1.\n",
    "If = π"
   ]
  },
  {
   "cell_type": "code",
   "execution_count": null,
   "metadata": {},
   "outputs": [],
   "source": [
    "Itrap = (b - a)/2 *(f(a) + f(b))"
   ]
  },
  {
   "cell_type": "code",
   "execution_count": null,
   "metadata": {},
   "outputs": [],
   "source": [
    "Ef = If - Itrap"
   ]
  },
  {
   "cell_type": "code",
   "execution_count": null,
   "metadata": {},
   "outputs": [],
   "source": [
    "p1(x) = f(a)*(x - b)/(a - b) + f(b)*(x - a)/(b - a)"
   ]
  },
  {
   "cell_type": "code",
   "execution_count": null,
   "metadata": {},
   "outputs": [],
   "source": [
    "using Plots, LaTeXStrings\n",
    "\n",
    "xx = range(a, b, length=100)\n",
    "\n",
    "plot(axes_style=:zerolines, title=\"Trapezoidal rule\", xlabel=L\"x\", ylabel=L\"y\")\n",
    "plot!(xx, f.(xx), ribbon=(f.(xx),zeros(length(xx))), label=L\"y = f(x)\")\n",
    "plot!(xx, p1.(xx), ribbon=(p1.(xx),zeros(length(xx))), label=L\"y = p_1(x)\")\n",
    "scatter!([a,b], [f(a),f(b)], c=2, label=:none)"
   ]
  },
  {
   "cell_type": "markdown",
   "metadata": {},
   "source": [
    "---"
   ]
  },
  {
   "cell_type": "markdown",
   "metadata": {},
   "source": [
    "Recall:\n",
    "\n",
    "> ## Theorem: (Intermediate Value Theorem)\n",
    "> If $f \\in C[a,b]$ and $s$ is a value such that $f(\\alpha) \\leq s \\leq f(\\beta)$ for some $\\alpha, \\beta \\in [a,b]$, then there exists a $c \\in [a,b]$ such that $f(c) = s$."
   ]
  },
  {
   "cell_type": "markdown",
   "metadata": {},
   "source": [
    "We will use the Intermediate Value Theorem to prove:\n",
    "\n",
    "> ## Theorem: (Mean Value Theorem for Integrals)\n",
    "> If $g \\in C[a,b]$ and $\\psi$ is an integrable function such that $\\psi(x) \\geq 0$ for all $x \\in [a,b]$ or $\\psi(x) \\leq 0$ for all $x \\in [a,b].$ Then there exists $\\xi \\in [a,b]$ such that\n",
    "$$\n",
    "\\int_a^b g(x) \\psi(x)\\,dx = g(\\xi) \\int_a^b \\psi(x)\\,dx.\n",
    "$$"
   ]
  },
  {
   "cell_type": "markdown",
   "metadata": {},
   "source": [
    "### Proof.\n",
    "\n",
    "First observe that there exist $\\alpha, \\beta \\in [a,b]$ such that $g(\\alpha) = \\min_{x \\in [a,b]} g(x)$ and $g(\\beta) = \\max_{x \\in [a,b]} g(x)$. Then\n",
    "\n",
    "$$\n",
    "g(\\alpha) \\leq g(x) \\leq g(\\beta), \\quad \\forall x \\in [a,b].\n",
    "$$\n",
    "\n",
    "Suppose that $\\psi(x) \\geq 0$ for all $x \\in [a,b]$. Then\n",
    "\n",
    "$$\n",
    "g(\\alpha)\\psi(x) \\leq g(x)\\psi(x) \\leq g(\\beta)\\psi(x), \\quad \\forall x \\in [a,b].\n",
    "$$\n",
    "\n",
    "Thus,\n",
    "\n",
    "$$\n",
    "\\int_a^b g(\\alpha)\\psi(x)\\,dx \\leq \\int_a^b g(x)\\psi(x)\\,dx \\leq \\int_a^b g(\\beta)\\psi(x)\\,dx.\n",
    "$$\n",
    "\n",
    "Letting $s = \\int_a^b g(x)\\psi(x)\\,dx$, we have\n",
    "\n",
    "$$\n",
    "g(\\alpha) \\int_a^b \\psi(x)\\,dx \\leq s \\leq g(\\beta) \\int_a^b \\psi(x)\\,dx.\n",
    "$$\n",
    "\n",
    "Let $f(x) = g(x) \\int_a^b \\psi(x)\\,dx$. Then $f \\in C[a,b]$ and $f(\\alpha) \\leq s \\leq f(\\beta)$, so by the Intermediate Value Theorem, there is a $\\xi \\in [a,b]$ such that $f(\\xi) = s$; that is,\n",
    "\n",
    "$$\n",
    "g(\\xi) \\int_a^b \\psi(x)\\,dx = \\int_a^b g(x) \\psi(x)\\,dx.\n",
    "$$\n",
    "\n",
    "The other case of $\\psi(x) \\leq 0$ for all $x \\in [a,b]$ can be proven in a similar way. $\\blacksquare$"
   ]
  },
  {
   "cell_type": "markdown",
   "metadata": {},
   "source": [
    "---"
   ]
  },
  {
   "cell_type": "markdown",
   "metadata": {},
   "source": [
    "## Trapezoidal rule error\n",
    "\n",
    "Recall that the error is\n",
    "\n",
    "$$\n",
    "E(f) = \\int_a^b f[x_0,\\ldots,x_n,x] \\prod_{j=0}^n (x - x_j)\\,dx.\n",
    "$$\n",
    "\n",
    "For the Trapezoidal rule, we have\n",
    "\n",
    "$$\n",
    "E(f) = \\int_a^b f[a,b,x] (x - a)(x - b)\\,dx.\n",
    "$$\n",
    "\n",
    "Let $\\psi(x) = (x - a)(x - b)$. Then $\\psi(x) \\leq 0$ for all $x \\in [a,b]$. Therefore, by the **Mean Value Theorem for Integrals** we have\n",
    "\n",
    "$$\n",
    "E(f) = f[a,b,\\xi_1] \\int_a^b (x - a)(x - b)\\,dx.\n",
    "$$\n",
    "\n",
    "By the **Divided Difference and Derivative Theorem** from Section 10.5, there is a $\\xi \\in (a, b)$ such that $f[a,b,\\xi_1] = \\frac{f''(\\xi)}{2}$. Also, \n",
    "\n",
    "$$\n",
    "\\int_a^b (x - a)(x - b)\\,dx = -\\frac{(b - a)^3}{6}.\n",
    "$$\n",
    "\n",
    "Therefore,\n",
    "\n",
    "$$\n",
    "E(f) = I_f - I_{\\mathrm{trap}} =  -\\frac{f''(\\xi)}{12}(b - a)^3,\n",
    "$$\n",
    "\n",
    "for some $\\xi \\in (a,b)$."
   ]
  },
  {
   "cell_type": "markdown",
   "metadata": {},
   "source": [
    "---"
   ]
  },
  {
   "cell_type": "markdown",
   "metadata": {},
   "source": [
    "## Midpoint rule\n",
    "\n",
    "Let $x_0 = \\frac{a+b}{2}$. Then\n",
    "\n",
    "$$\n",
    "L_0(x) = 1.\n",
    "$$\n",
    "\n",
    "Thus,\n",
    "\n",
    "$$\n",
    "a_0 = \\int_a^b L_0(x)\\,dx = b - a, \\quad \n",
    "$$\n",
    "\n",
    "Therefore, the **midpoint rule** is\n",
    "\n",
    "$$\n",
    "\\begin{align}\n",
    "I_f \\approx \\sum_{j=0}^0 a_j f(x_j) \n",
    "&= (b - a)\\;f\\paren{\\frac{a+b}{2}} =: I_{\\mathrm{mid}}.\n",
    "\\end{align}\n",
    "$$\n",
    "\n",
    "The error is given by\n",
    "\n",
    "$$\n",
    "E(f) = I_f - I_{\\mathrm{mid}} = \\frac{f''(\\xi)}{24}(b - a)^3,\n",
    "$$\n",
    "\n",
    "for some $\\xi \\in (a,b)$."
   ]
  },
  {
   "cell_type": "markdown",
   "metadata": {},
   "source": [
    "---\n",
    "## Example\n",
    "\n",
    "$$\n",
    "I_f = \\int_0^1 \\paren{\\frac{4}{1+x^2}} dx = \\pi\n",
    "$$\n",
    "\n",
    "Determine $I_{\\mathrm{mid}}$."
   ]
  },
  {
   "cell_type": "code",
   "execution_count": null,
   "metadata": {},
   "outputs": [],
   "source": [
    "Imid = (b - a) * f((a+b)/2)"
   ]
  },
  {
   "cell_type": "code",
   "execution_count": null,
   "metadata": {},
   "outputs": [],
   "source": [
    "Ef = If - Imid"
   ]
  },
  {
   "cell_type": "code",
   "execution_count": null,
   "metadata": {},
   "outputs": [],
   "source": [
    "p0(x) = f((a + b)/2)"
   ]
  },
  {
   "cell_type": "code",
   "execution_count": null,
   "metadata": {},
   "outputs": [],
   "source": [
    "xx = range(a, b, length=100)\n",
    "\n",
    "plot(axes_style=:zerolines, title=\"Midpoint rule\", xlabel=L\"x\", ylabel=L\"y\")\n",
    "plot!(xx, f.(xx), ribbon=(f.(xx),zeros(length(xx))), label=L\"y = f(x)\")\n",
    "plot!(xx, p0.(xx), ribbon=(p0.(xx),zeros(length(xx))), label=L\"y = p_0(x)\")\n",
    "scatter!([(a+b)/2], [f((a+b)/2)], c=2, label=:none)"
   ]
  },
  {
   "cell_type": "markdown",
   "metadata": {},
   "source": [
    "---"
   ]
  },
  {
   "cell_type": "markdown",
   "metadata": {},
   "source": [
    "## Simpson rule\n",
    "\n",
    "Let $x_0 = a$, $x_1 = x_m$, and $x_2 = b$, where $x_m = \\frac{a+b}{2}$. Then\n",
    "\n",
    "$$\n",
    "L_0(x) = \\frac{(x - x_m)(x - b)}{(a - x_m)(a - b)}, \\quad \n",
    "L_1(x) = \\frac{(x - a)(x - b)}{(x_m - a)(x_m - b)}, \\quad\n",
    "L_2(x) = \\frac{(x - a)(x - x_m)}{(b - a)(b - x_m)}.\n",
    "$$\n",
    "\n",
    "Thus,\n",
    "\n",
    "$$\n",
    "a_0 = \\int_a^b L_0(x)\\,dx = \\frac{1}{6}(b-a), \\quad \n",
    "a_1 = \\int_a^b L_1(x)\\,dx = \\frac{2}{3}(b-a), \\quad\n",
    "a_2 = \\int_a^b L_2(x)\\,dx = \\frac{1}{6}(b-a). \\quad \n",
    "$$\n",
    "\n",
    "Therefore, the **Simpson rule** is\n",
    "\n",
    "$$\n",
    "\\begin{align}\n",
    "I_f \\approx \\sum_{j=0}^2 a_j f(x_j) \n",
    "&= \\frac{1}{6}(b-a) f(a) + \\frac{2}{3}(b-a) f(x_m) + \\frac{1}{6}(b-a) f(b)\\\\\n",
    "&= \\frac{b - a}{6} \\brack{f(a) + 4f\\paren{\\frac{b+a}{2}} + f(b)}=: I_{\\mathrm{Simp}}.\n",
    "\\end{align}\n",
    "$$\n",
    "\n",
    "The error is given by\n",
    "\n",
    "$$\n",
    "E(f) = I_f - I_{\\mathrm{Simp}} = -\\frac{f''''(\\xi)}{90}\\paren{\\frac{b - a}{2}}^5,\n",
    "$$\n",
    "\n",
    "for some $\\xi \\in (a,b)$."
   ]
  },
  {
   "cell_type": "markdown",
   "metadata": {},
   "source": [
    "---\n",
    "## Example\n",
    "\n",
    "$$\n",
    "I_f = \\int_0^1 \\paren{\\frac{4}{1+x^2}} dx = \\pi\n",
    "$$\n",
    "\n",
    "Determine $I_{\\mathrm{Simp}}$."
   ]
  },
  {
   "cell_type": "code",
   "execution_count": null,
   "metadata": {},
   "outputs": [],
   "source": [
    "ISimp = (b - a)/6 * (f(a) + 4f((a+b)/2) + f(b))"
   ]
  },
  {
   "cell_type": "code",
   "execution_count": null,
   "metadata": {},
   "outputs": [],
   "source": [
    "Ef = If - ISimp"
   ]
  },
  {
   "cell_type": "code",
   "execution_count": null,
   "metadata": {},
   "outputs": [],
   "source": [
    "m = (a + b)/2\n",
    "p2(x) = \n",
    "    f(a)*(x - m)*(x - b)/(a - m)/(a - b) + \n",
    "    f(m)*(x - a)*(x - b)/(m - a)/(m - b) + \n",
    "    f(b)*(x - a)*(x - m)/(b - a)/(b - m)"
   ]
  },
  {
   "cell_type": "code",
   "execution_count": null,
   "metadata": {},
   "outputs": [],
   "source": [
    "xx = range(a, b, length=100)\n",
    "\n",
    "plot(axes_style=:zerolines, title=\"Simpson rule\", xlabel=L\"x\", ylabel=L\"y\")\n",
    "plot!(xx, f.(xx), ribbon=(f.(xx),zeros(length(xx))), label=L\"y = f(x)\")\n",
    "plot!(xx, p2.(xx), ribbon=(p2.(xx),zeros(length(xx))), label=L\"y = p_2(x)\")\n",
    "hline!([0],c=:black, label=:none)\n",
    "vline!([0],c=:black, label=:none)\n",
    "scatter!([a,m,b], [f(a),f(m),f(b)], c=2, label=:none)"
   ]
  },
  {
   "cell_type": "markdown",
   "metadata": {},
   "source": [
    "---"
   ]
  },
  {
   "cell_type": "markdown",
   "metadata": {},
   "source": [
    "## Quadrature rules\n",
    "\n",
    "$$\n",
    "\\begin{align}\n",
    "\\\\\n",
    "\\int_a^b f(x)\\,dx &= (b - a)\\;f\\paren{\\frac{a+b}{2}} + \\frac{f''(\\xi)}{24} (b - a)^3 \\quad &\\text{(Midpoint)} \\\\\\\\\n",
    "\\int_a^b f(x)\\,dx &= \\frac{b - a}{2}\\brack{f(a) + f(b)} -\\frac{f''(\\xi)}{12} (b - a)^3 \\quad &\\text{(Trapezoidal)} \\\\\\\\\n",
    "\\int_a^b f(x)\\,dx &= \\frac{b - a}{6}\\brack{f(a) + 4f\\paren{\\frac{a+b}{2}} + f(b)} -\\frac{f''''(\\xi)}{90} \\paren{\\frac{b - a}{2}}^5\\quad &\\text{(Simpson)} \\\\\\\\\n",
    "\\end{align}\n",
    "$$\n",
    "\n",
    "In each case, $\\xi$ is some unknown point in the interval $(a,b)$."
   ]
  },
  {
   "cell_type": "markdown",
   "metadata": {},
   "source": [
    "## Precision\n",
    "\n",
    "-   If $f$ is a polynomial of degree at most **one**, then the **midpoint and trapezoidal rules  are exact**, so we say that these rules have **precision 1**.\n",
    "\n",
    "-   If $f$ is a polynomial of degree at most **three**, then the **Simpson rule is exact**, so we say that the Simpson rule has **precision 3**."
   ]
  },
  {
   "cell_type": "markdown",
   "metadata": {},
   "source": [
    "---"
   ]
  },
  {
   "cell_type": "markdown",
   "metadata": {},
   "source": [
    "## Example\n",
    "\n",
    "Let \n",
    "\n",
    "$$f(x) = x^3 - 14x^2 + 49x + 14,$$\n",
    "\n",
    "so we have\n",
    "\n",
    "$$\\int_0^{10} f(x)\\,dx = \\left. \\frac{x^4}{4} - \\frac{14x^3}{3} + \\frac{49x^2}{2} + 14x \\right |_0^{10} = \\frac{1270}{3}.$$"
   ]
  },
  {
   "cell_type": "markdown",
   "metadata": {},
   "source": [
    "By the **Simpson rule**, we have\n",
    "\n",
    "$$\n",
    "\\begin{split}\n",
    "\\int_0^{10} f(x)\\,dx \n",
    "& = \\frac{10}{6}( f(0) + 4f(5) + f(10) ) - \\frac{f''''(\\xi)}{90}5^5 \\\\\n",
    "& = \\frac{10}{6}( 14 + 4 \\cdot 34 + 104 ) - 0 \\\\\n",
    "& = \\frac{1270}{3}.\n",
    "\\end{split}\n",
    "$$"
   ]
  },
  {
   "cell_type": "markdown",
   "metadata": {},
   "source": [
    "This implies that the area under the graph of the quadratic polynomial that interpolates the data $(0,14)$, $(5,34)$, and $(10,104)$,\n",
    "\n",
    "$$p_2(x) = x^2 - x + 14,$$\n",
    "\n",
    "is equal to the area under the cubic polynomial $f(x)$."
   ]
  },
  {
   "cell_type": "code",
   "execution_count": null,
   "metadata": {},
   "outputs": [],
   "source": [
    "f(x) = x^3 - 14x^2 + 49x + 14\n",
    "p2(x) = x^2 - x + 14"
   ]
  },
  {
   "cell_type": "code",
   "execution_count": null,
   "metadata": {},
   "outputs": [],
   "source": [
    "a, b = 0, 10\n",
    "\n",
    "# Plot the cubic function f and the interpolating polynomial p2\n",
    "xx = range(a, b, length=100)\n",
    "\n",
    "plot(axes_style=:zerolines, legend=:topleft, xlabel=L\"x\", ylabel=L\"y\")\n",
    "plot!(xx, f.(xx), ribbon=(f.(xx),zeros(length(xx))), label=L\"y = f(x)\")\n",
    "plot!(xx, p2.(xx), ribbon=(p2.(xx),zeros(length(xx))), label=L\"y = p_2(x)\")\n",
    "hline!([0],c=:black, label=:none)\n",
    "vline!([0],c=:black, label=:none)\n",
    "scatter!([a, (a+b)/2, b], [f(a), f((a+b)/2), f(b)], c=2, label=:none)"
   ]
  },
  {
   "cell_type": "markdown",
   "metadata": {},
   "source": [
    "The area under the blue and red curves are equal, although the blue curve is the graph of a cubic polynomial and the red curve is the graph of a quadratic polynomial."
   ]
  },
  {
   "cell_type": "markdown",
   "metadata": {},
   "source": [
    "---"
   ]
  }
 ],
 "metadata": {
  "kernelspec": {
   "display_name": "Julia 1.8.5",
   "language": "julia",
   "name": "julia-1.8"
  },
  "language_info": {
   "file_extension": ".jl",
   "mimetype": "application/julia",
   "name": "julia",
   "version": "1.8.5"
  }
 },
 "nbformat": 4,
 "nbformat_minor": 4
}
