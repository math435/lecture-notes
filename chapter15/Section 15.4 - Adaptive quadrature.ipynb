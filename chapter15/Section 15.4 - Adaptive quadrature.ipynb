{
 "cells": [
  {
   "cell_type": "markdown",
   "metadata": {},
   "source": [
    "---\n",
    "Some useful $\\LaTeX$ commands are defined in this cell:\n",
    "$$\n",
    "\\newcommand{\\abs}[1]{\\left\\lvert#1\\right\\rvert}\n",
    "\\newcommand{\\norm}[1]{\\left\\lVert#1\\right\\rVert}\n",
    "\\newcommand{\\set}[1]{\\left\\{#1\\right\\}}\n",
    "\\newcommand{\\paren}[1]{\\left(#1\\right)}\n",
    "\\newcommand{\\brack}[1]{\\left[#1\\right]}\n",
    "\\newcommand{\\ip}[2]{\\left\\langle#1,#2\\right\\rangle}\n",
    "\\DeclareMathOperator{\\span}{span}\n",
    "\\DeclareMathOperator{\\fl}{fl}\n",
    "\\abs{x}, \\norm{x}, \\set{x}, \\paren{x}, \\brack{x}, \\ip{x}{y}, \\span, \\fl\n",
    "$$\n",
    "\n",
    "---"
   ]
  },
  {
   "cell_type": "markdown",
   "metadata": {},
   "source": [
    "---\n",
    "# 15.4 Adaptive quadrature\n",
    "---"
   ]
  },
  {
   "cell_type": "markdown",
   "metadata": {},
   "source": [
    "## Example\n",
    "\n",
    "Let \n",
    "\n",
    "$$f(x) = e^{-3x} \\sin 4x$$\n",
    "\n",
    "and suppose we need to calculate $\\int_0^4 f(x)\\,dx$."
   ]
  },
  {
   "cell_type": "code",
   "execution_count": null,
   "metadata": {},
   "outputs": [],
   "source": [
    "f(x) = exp(-3x).*sin(4x)"
   ]
  },
  {
   "cell_type": "code",
   "execution_count": null,
   "metadata": {},
   "outputs": [],
   "source": [
    "using Plots, LaTeXStrings\n",
    "\n",
    "a, b = 0, 4\n",
    "\n",
    "xx = range(a, b, length=200)\n",
    "\n",
    "plot(legend=:none)\n",
    "plot!(xx, f.(xx), ribbon=(f.(xx), zeros(length(xx))))\n",
    "hline!([0], c=:black)"
   ]
  },
  {
   "cell_type": "markdown",
   "metadata": {},
   "source": [
    "Notice how $f(x)$ varies dramatically for $x < 1$ and then has very small variation for $x > 1$.\n",
    "\n",
    "It would be better to divide the interval $[0,4]$ into many smaller subintervals in the region $[0,1]$ and fewer subintervals in the region $[1,4]$.\n",
    "\n",
    "We will do this subdivision **adaptively**, only when it helps improve the accuracy of numerical integration.\n",
    "\n",
    "To do this, we need to obtain a good estimate of the error."
   ]
  },
  {
   "cell_type": "markdown",
   "metadata": {},
   "source": [
    "---"
   ]
  },
  {
   "cell_type": "markdown",
   "metadata": {},
   "source": [
    "## Computing an error estimate via Richardson extrapolation\n",
    "\n",
    "Let $I_f = \\int_a^b f(x) \\,dx$ and consider the **Simpson rule** \n",
    "\n",
    "$$S(a,b) = \\frac{h}{3} \\brack{f(a) + 4f(a+h) + f(b)},$$\n",
    "\n",
    "where $h = (b - a)/2$. \n",
    "\n",
    "Let $S_1 = S(a,b)$.\n",
    "\n",
    "Since the composite Simpson rule is a **fourth-order accurate** method, we have\n",
    "\n",
    "$$I_f = S_1 + Kh^4 + \\mathcal{O}(h^5).$$"
   ]
  },
  {
   "cell_type": "markdown",
   "metadata": {},
   "source": [
    "Now consider using the **composite Simpson rule** with a step-size of $h/2$ on the subintervals $[a,a+h]$ and $[a+h,b]$:\n",
    "\n",
    "$$\n",
    "\\begin{align}\n",
    "S(a,a+h) &= \\frac{h}{6}\\brack{f(a) + 4f(a + h/2) + f(a + h)},\\\\\n",
    "\\\\\n",
    "S(a+h,b) &= \\frac{h}{6}\\brack{f(a+h) + 4f(a + 3h/2) + f(b)}.\\\\\n",
    "\\end{align}\n",
    "$$\n",
    "\n",
    "Let $S_2 = S(a,a+h) + S(a+h,b)$.\n",
    "\n",
    "Then we have\n",
    "\n",
    "$$I_f = S_2 + K\\paren{\\frac{h}{2}}^4 + \\mathcal{O}(h^5).$$"
   ]
  },
  {
   "cell_type": "markdown",
   "metadata": {},
   "source": [
    "Therefore,\n",
    "\n",
    "$$S_1 + Kh^4 + \\mathcal{O}(h^5) = S_2 + K\\paren{\\frac{h}{2}}^4 + \\mathcal{O}(h^5).$$\n",
    "\n",
    "Then we solve for the error term $Kh^4$:\n",
    "\n",
    "$$Kh^4 = \\frac{16}{15}\\brack{S_2 - S_1} + \\mathcal{O}(h^5).$$"
   ]
  },
  {
   "cell_type": "markdown",
   "metadata": {},
   "source": [
    "From this we conclude that\n",
    "\n",
    "$$ \n",
    "\\begin{align}\n",
    "I_f - S_1 &= \\frac{16}{15}\\brack{S_2 - S_1} + \\mathcal{O}(h^5),\\\\\n",
    "\\\\\n",
    "I_f - S_2 &= \\frac{1}{15}\\brack{S_2 - S_1} + \\mathcal{O}(h^5).\\\\\n",
    "\\end{align}\n",
    "$$"
   ]
  },
  {
   "cell_type": "markdown",
   "metadata": {},
   "source": [
    "---"
   ]
  },
  {
   "cell_type": "markdown",
   "metadata": {},
   "source": [
    "## Example\n",
    "\n",
    "Consider\n",
    "\n",
    "$$I_f = \\int_{-1}^1 \\cos\\paren{\\frac{\\pi}{2} x} \\,dx = \\frac{4}{\\pi} = \\underline{1.2732395447351628} \\ldots .$$\n",
    "\n",
    "The **Simpson rule** gives us:\n",
    "\n",
    "$$S_1 = \\frac{2}{6}\\paren{0 + 4 \\cdot 1 + 0} = \\frac{4}{3} =  \\underline{1.3}333333333333333 \\ldots .$$\n",
    "\n",
    "Thus, the error is \n",
    "\n",
    "$$\\abs{I_f - S_1} = 0.060093788598170494\\ldots.$$"
   ]
  },
  {
   "cell_type": "code",
   "execution_count": null,
   "metadata": {},
   "outputs": [],
   "source": [
    "f(x) = cos(pi/2*x)"
   ]
  },
  {
   "cell_type": "code",
   "execution_count": null,
   "metadata": {},
   "outputs": [],
   "source": [
    "If = 4/pi\n",
    "S1 = (f(-1) + 4f(0) + f(1))/3\n",
    "\n",
    "@show If\n",
    "@show S1\n",
    "@show abs(If - S1);"
   ]
  },
  {
   "cell_type": "markdown",
   "metadata": {},
   "source": [
    "Now let's compute $S_2$:\n",
    "\n",
    "$$\n",
    "\\begin{align}\n",
    "S_2 \n",
    "&= \\frac{1}{6}\\paren{f(-1) + 4f(-.5) + 2f(0) + 4f(.5) + f(1)} \\\\\n",
    "&= \\frac{1}{6}\\paren{0 + \\frac{4}{\\sqrt{2}} + 2 + \\frac{4}{\\sqrt{2}} + 0} \\\\\n",
    "&= \\underline{1.27}61423749153966\\ldots.\\\\\n",
    "\\end{align}\n",
    "$$\n",
    "\n",
    "The error is\n",
    "\n",
    "$$\\abs{I_f - S_2} = 0.0029028301802338508\\ldots.$$"
   ]
  },
  {
   "cell_type": "code",
   "execution_count": null,
   "metadata": {},
   "outputs": [],
   "source": [
    "S2 = (f(-1) + 4f(-.5) + 2f(0) + 4f(.5) + f(1))/6\n",
    "\n",
    "@show If\n",
    "@show S2\n",
    "@show abs(If - S2);"
   ]
  },
  {
   "cell_type": "markdown",
   "metadata": {},
   "source": [
    "Now, let's compare our error estimates. We have\n",
    "\n",
    "$$\n",
    "\\begin{align}\n",
    "\\abs{I_f - S_1} &\\approx \\frac{16}{15}\\abs{S_2 - S_1} = \\underline{0.06}100368897913242\\ldots,\\\\\n",
    "\\\\\n",
    "\\abs{I_f - S_2} &\\approx \\frac{1}{15}\\abs{S_2 - S_1} = \\underline{0.003}8127305611957763\\ldots.\\\\\n",
    "\\end{align}\n",
    "$$\n",
    "\n",
    "Thus, the error estimates are fairly accurate."
   ]
  },
  {
   "cell_type": "code",
   "execution_count": null,
   "metadata": {},
   "outputs": [],
   "source": [
    "@show 16/15*abs(S2 - S1)\n",
    "@show 1/15*abs(S2 - S1);"
   ]
  },
  {
   "cell_type": "markdown",
   "metadata": {},
   "source": [
    "---"
   ]
  },
  {
   "cell_type": "markdown",
   "metadata": {},
   "source": [
    "## Divide-and-conquer\n",
    "\n",
    "We now describe a **divide-and-conquer** approach to obtain a quadrature approximation $Q_f$ of $I_f = \\int_a^b f(x)\\,dx$ such that\n",
    "\n",
    "$$\\abs{Q_f - I_f} < \\mathtt{tol},$$\n",
    "\n",
    "where $\\mathtt{tol}$ is some user-specified tolerance."
   ]
  },
  {
   "cell_type": "markdown",
   "metadata": {},
   "source": [
    "The idea is to do an **adaptive local refinement** of the grid of points on which we perform the composite Simpson rule (or any other quadrature rule):\n",
    "\n",
    "$$a = t_0 < t_1 < \\cdots < t_r = b.$$\n",
    "\n",
    "Over each subinterval $[t_{i-1}, t_i]$, we compute $Q_i \\approx I_i = \\int_{t_{i-1}}^{t_i} f(x)\\,dx$ such that\n",
    "\n",
    "$$\\abs{Q_i - I_i} < \\frac{h_i}{b-a}\\mathtt{tol},$$\n",
    "\n",
    "where $h_i = t_i - t_{i-1}$, and then let\n",
    "\n",
    "$$Q_f = \\sum_{i=1}^r Q_i.$$"
   ]
  },
  {
   "cell_type": "markdown",
   "metadata": {},
   "source": [
    "Then,\n",
    "\n",
    "$$\\begin{split}\n",
    "\\abs{Q_f - I_f}\n",
    "&= \\abs{\\sum_{i=1}^r Q_i - \\sum_{i=1}^r I_i} \\\\\n",
    "&= \\abs{\\sum_{i=1}^r (Q_i - I_i)} \\\\\n",
    "&\\leq \\sum_{i=1}^r \\abs{ Q_i - I_i} \\qquad \\text{(by the Triangle Inequality)}\\\\\n",
    "&< \\sum_{i=1}^r \\frac{h_i}{b - a} \\mathtt{tol} \\\\\n",
    "&= \\frac{\\mathtt{tol}}{b - a}  \\sum_{i=1}^r h_i \\\\\n",
    "&= \\mathtt{tol}.\n",
    "\\end{split}\n",
    "$$"
   ]
  },
  {
   "cell_type": "markdown",
   "metadata": {},
   "source": [
    "Thus, we just need to check that our error estimate for the current subinterval is small enough.\n",
    "\n",
    "If the error estimate is not small enough, we divide the current subinterval into two equal pieces and repeat (recursively)."
   ]
  },
  {
   "cell_type": "markdown",
   "metadata": {},
   "source": [
    "---"
   ]
  },
  {
   "cell_type": "markdown",
   "metadata": {},
   "source": [
    "## A simple recursive implementation"
   ]
  },
  {
   "cell_type": "code",
   "execution_count": null,
   "metadata": {},
   "outputs": [],
   "source": [
    "############################################################\n",
    "function Simp1(f::Function, a::Float64, b::Float64)\n",
    "    h = (b - a)/2\n",
    "    return h/3*(f(a) + 4f(a + h) + f(b))\n",
    "end\n",
    "\n",
    "############################################################\n",
    "Simp2(f, a::Float64, b::Float64) = Simp1(f, a, (a+b)/2) + Simp1(f, (a+b)/2, b)\n",
    "\n",
    "############################################################\n",
    "function quadsimp(f::Function, a::Float64, b::Float64, tol::Float64)\n",
    "    \n",
    "    h = (b - a)/2\n",
    "    \n",
    "    S1 = Simp1(f, a, b)\n",
    "    S2 = Simp2(f, a, b)\n",
    "    \n",
    "    E2 = abs(S2 - S1)/15\n",
    "    \n",
    "    if E2 < tol\n",
    "        Q = S2\n",
    "        mesh = [a, a+h/2, a+h, a+3h/2, b]\n",
    "    else\n",
    "        Q1, mesh1 = quadsimp(f, a, (a+b)/2, tol/2)\n",
    "        Q2, mesh2 = quadsimp(f, (a+b)/2, b, tol/2)\n",
    "        Q = Q1 + Q2\n",
    "        mesh = vcat(mesh1, mesh2[2:end])\n",
    "    end\n",
    "    \n",
    "    return Q, mesh\n",
    "end"
   ]
  },
  {
   "cell_type": "code",
   "execution_count": null,
   "metadata": {},
   "outputs": [],
   "source": [
    "f(x) = exp(-3x).*sin(4x)"
   ]
  },
  {
   "cell_type": "code",
   "execution_count": null,
   "metadata": {},
   "outputs": [],
   "source": [
    "using SymPy\n",
    "\n",
    "intval = Float64(integrate(f, a, b))"
   ]
  },
  {
   "cell_type": "code",
   "execution_count": null,
   "metadata": {},
   "outputs": [],
   "source": [
    "integrate(f, a, b)"
   ]
  },
  {
   "cell_type": "code",
   "execution_count": null,
   "metadata": {},
   "outputs": [],
   "source": [
    "a, b, tol = 0., 4., 1e-4\n",
    "Q, mesh = quadsimp(f, a, b, tol)\n",
    "\n",
    "@show tol\n",
    "@show abs(intval - Q);"
   ]
  },
  {
   "cell_type": "code",
   "execution_count": null,
   "metadata": {},
   "outputs": [],
   "source": [
    "xx = range(a, b, length=200)\n",
    "\n",
    "plot(legend=:none, title=\"Adaptive quadrature\")\n",
    "plot!(xx, f.(xx), ribbon=(f.(xx), zeros(length(xx))))\n",
    "hline!([0], c=:black)\n",
    "plot!(mesh, zeros(length(mesh)), m=:+, c=:red)"
   ]
  },
  {
   "cell_type": "code",
   "execution_count": null,
   "metadata": {},
   "outputs": [],
   "source": [
    "using Printf\n",
    "\n",
    "tols = [10.0^(-k) for k=1:16]\n",
    "\n",
    "quads = Float64[]\n",
    "fevals = Int64[]\n",
    "tt = Float64[]\n",
    "for tol in tols\n",
    "    t = @elapsed Q, mesh = quadsimp(f, a, b, tol)\n",
    "    push!(quads, Q)\n",
    "    push!(fevals, length(mesh))\n",
    "    push!(tt, t)\n",
    "end\n",
    "    \n",
    "abserr = abs.(quads .- intval)\n",
    "\n",
    "@printf \"%6s %10s %7s %10s\\n\" \"tol\" \"abserr\" \"fevals\" \"time\"\n",
    "for k = 1:length(tols)\n",
    "    @printf \"%6.0e %10.2e %7d %10.6f\\n\" tols[k] abserr[k] fevals[k] tt[k]\n",
    "end"
   ]
  },
  {
   "cell_type": "markdown",
   "metadata": {},
   "source": [
    "---"
   ]
  },
  {
   "cell_type": "markdown",
   "metadata": {},
   "source": [
    "## Example\n",
    "\n",
    "The number of prime numbers less or equal to $x$ is denoted $\\pi(x)$.\n",
    "\n",
    "The [prime number theorem](https://en.wikipedia.org/wiki/Prime_number_theorem#Prime-counting_function_in_terms_of_the_logarithmic_integral) states that\n",
    "\n",
    "$$\n",
    "\\pi(x) \\sim \\int_2^x \\frac{dt}{\\log t}.\n",
    "$$"
   ]
  },
  {
   "cell_type": "code",
   "execution_count": null,
   "metadata": {},
   "outputs": [],
   "source": [
    "using Primes\n",
    "\n",
    "x = 200\n",
    "\n",
    "primes(x)"
   ]
  },
  {
   "cell_type": "code",
   "execution_count": null,
   "metadata": {},
   "outputs": [],
   "source": [
    "f(t) = 1/log(t)\n",
    "a, b, tol = 2., Float64(x), 1e-6\n",
    "\n",
    "Q, mesh = quadsimp(f, a, b, tol)\n",
    "\n",
    "length(primes(x)), Q, length(mesh)"
   ]
  },
  {
   "cell_type": "code",
   "execution_count": null,
   "metadata": {},
   "outputs": [],
   "source": [
    "n = 10000\n",
    "\n",
    "px = [length(primes(k)) for k=2:n];\n",
    "Li = [quadsimp(f, 2., Float64(k), tol)[1] for k=2:n];\n",
    "\n",
    "plot(legend=:topleft)\n",
    "#plot!(px, label=L\"\\pi(x)\")\n",
    "#plot!(Li, label=L\"\\mathrm{Li}(x)\")\n",
    "plot!(Li./px, label=L\"\\mathrm{Li}(x)/\\pi(x)\")"
   ]
  },
  {
   "cell_type": "markdown",
   "metadata": {},
   "source": [
    "---"
   ]
  },
  {
   "cell_type": "code",
   "execution_count": null,
   "metadata": {},
   "outputs": [],
   "source": [
    "using QuadGK"
   ]
  },
  {
   "cell_type": "code",
   "execution_count": null,
   "metadata": {},
   "outputs": [],
   "source": [
    "?quadgk"
   ]
  },
  {
   "cell_type": "markdown",
   "metadata": {},
   "source": [
    "---"
   ]
  }
 ],
 "metadata": {
  "@webio": {
   "lastCommId": null,
   "lastKernelId": null
  },
  "kernelspec": {
   "display_name": "Julia 1.8.5",
   "language": "julia",
   "name": "julia-1.8"
  },
  "language_info": {
   "file_extension": ".jl",
   "mimetype": "application/julia",
   "name": "julia",
   "version": "1.8.5"
  }
 },
 "nbformat": 4,
 "nbformat_minor": 4
}
