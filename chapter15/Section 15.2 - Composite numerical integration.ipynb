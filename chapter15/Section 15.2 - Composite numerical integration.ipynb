{
 "cells": [
  {
   "cell_type": "markdown",
   "metadata": {
    "collapsed": true
   },
   "source": [
    "---\n",
    "Some useful $\\LaTeX$ commands are defined in this cell:\n",
    "$$\n",
    "\\newcommand{\\abs}[1]{\\left\\lvert#1\\right\\rvert}\n",
    "\\newcommand{\\norm}[1]{\\left\\lVert#1\\right\\rVert}\n",
    "\\newcommand{\\set}[1]{\\left\\{#1\\right\\}}\n",
    "\\newcommand{\\paren}[1]{\\left(#1\\right)}\n",
    "\\newcommand{\\brack}[1]{\\left[#1\\right]}\n",
    "\\newcommand{\\ip}[2]{\\left\\langle#1,#2\\right\\rangle}\n",
    "\\DeclareMathOperator{\\span}{span}\n",
    "\\DeclareMathOperator{\\fl}{fl}\n",
    "\\abs{x}, \\norm{x}, \\set{x}, \\paren{x}, \\brack{x}, \\ip{x}{y}, \\span, \\fl\n",
    "$$\n",
    "\n",
    "---"
   ]
  },
  {
   "cell_type": "markdown",
   "metadata": {},
   "source": [
    "---\n",
    "# 15.2 Composite numerical integration\n",
    "---"
   ]
  },
  {
   "cell_type": "markdown",
   "metadata": {},
   "source": [
    "## Composite quadrature methods\n",
    "\n",
    "We can obtain improved approximations of $\\int_a^b f(x)\\,dx$ by dividing the interval $[a,b]$ into $r$ equal subintervals:\n",
    "\n",
    "$$[t_0,t_1], \\quad [t_1,t_2], \\quad \\ldots, \\quad [t_{r-1},t_r],$$\n",
    "\n",
    "where $t_0 = a$ and $t_r = b$.  Then\n",
    "\n",
    "$$\n",
    "\\int_a^b f(x)\\,dx = \\sum_{i=1}^r \\int_{t_{i-1}}^{t_i} f(x)\\,dx.\n",
    "$$\n",
    "\n",
    "The length of each subinterval is\n",
    "\n",
    "$$ h = \\frac{b - a}{r},$$\n",
    "\n",
    "and $t_i = a + ih$, for $i = 0, 1, \\ldots, r$."
   ]
  },
  {
   "cell_type": "markdown",
   "metadata": {},
   "source": [
    "---"
   ]
  },
  {
   "cell_type": "markdown",
   "metadata": {},
   "source": [
    "### Composite midpoint rule\n",
    "\n",
    "From the midpoint rule for the $i^{\\mathrm{th}}$ interval $[t_{i-1},t_i]$, we have\n",
    "\n",
    "$$\n",
    "\\begin{split}\n",
    "\\int_{t_{i-1}}^{t_i} f(x)\\,dx \n",
    "& = (t_i - t_{i-1})\\,f\\paren{\\frac{t_{i-1} + t_i}{2}} + \\frac{f''(\\xi_i)}{24}(t_i - t_{i-1})^3 \\\\\n",
    "& = h f(a + (i - 1/2)h) + \\frac{f''(\\xi_i)}{24} h^3, \\\\\n",
    "\\end{split}\n",
    "$$\n",
    "\n",
    "for some $\\xi_i \\in [t_{i-1},t_i]$."
   ]
  },
  {
   "cell_type": "markdown",
   "metadata": {},
   "source": [
    "Thus, we have:\n",
    "\n",
    "$$\n",
    "\\begin{split}\n",
    "\\int_a^b f(x)\\,dx \n",
    "&= \\sum_{i=1}^r \\int_{t_{i-1}}^{t_i} f(x)\\,dx \\\\\n",
    "&= \\sum_{i=1}^r \\brack{ h f(a + (i - 1/2)h) + \\frac{f''(\\xi_i)}{24} h^3 }\\\\\n",
    "&= h \\sum_{i=1}^r f(a + (i - 1/2)h) + \\paren{\\frac{1}{r} \\sum_{i=1}^r f''(\\xi_i)} \\frac{r h^3}{24} .\\\\\n",
    "\\end{split}\n",
    "$$"
   ]
  },
  {
   "cell_type": "markdown",
   "metadata": {},
   "source": [
    "By the **Intermediate Value Theorem**, there is a $\\xi \\in [a,b]$ such that\n",
    "\n",
    "$$f''(\\xi) = \\frac{1}{r} \\sum_{i=1}^r f''(\\xi_i).$$\n",
    "\n",
    "Therefore, we obtain the **composite midpoint rule**:\n",
    "\n",
    "$$\n",
    "\\fbox{${\\displaystyle\n",
    "\\int_a^b f(x)\\,dx = h \\sum_{i=1}^r f(a + (i - 1/2)h) + \\frac{f''(\\xi)}{24} (b - a) h^2, \n",
    "\\quad \\xi \\in [a,b],\n",
    "}$}\n",
    "$$\n",
    "\n",
    "which has **order two accuracy**:\n",
    "\n",
    "$$\n",
    "\\fbox{${\\displaystyle\n",
    "\\abs{\\int_a^b f(x)\\,dx - h \\sum_{i=1}^r f(a + (i - 1/2)h)} \\leq \\frac{\\norm{f''}}{24} (b - a) h^2 = \\mathcal{O}(h^2).\n",
    "}$}\n",
    "$$"
   ]
  },
  {
   "cell_type": "raw",
   "metadata": {},
   "source": [
    "r function evaluations"
   ]
  },
  {
   "cell_type": "markdown",
   "metadata": {},
   "source": [
    "---\n",
    "## Example\n",
    "\n",
    "$$\n",
    "\\int_0^1 \\paren{\\frac{4}{1+x^2}} dx = \\pi\n",
    "$$"
   ]
  },
  {
   "cell_type": "code",
   "execution_count": null,
   "metadata": {},
   "outputs": [],
   "source": [
    "using Printf\n",
    "\n",
    "function midpointrule()\n",
    "    a, b = 0., 1.\n",
    "    f(x) = 4/(1 + x^2)\n",
    "    intf = pi\n",
    "\n",
    "    @printf \"%5s %14s %12s %10s\\n\" \"h\" \"approx\" \"error\" \"time\"\n",
    "    for r = [1e1 1e2 1e3 1e4 1e5 1e6 1e7]\n",
    "        start = time()\n",
    "        h = (b - a)/r\n",
    "\n",
    "        # Using the Midpoint Rule\n",
    "        #=\n",
    "        approx = 0.0\n",
    "        for i = 1:r\n",
    "            approx += f(a + (i - 1/2)*h)\n",
    "        end\n",
    "        approx *= h\n",
    "        =#\n",
    "\n",
    "        # Generator expression\n",
    "        approx = h*sum(f(a + (i - 1/2)*h) for i=1:r)\n",
    "\n",
    "        err = abs(intf - approx)\n",
    "        @printf \"%5.0e %14.10f %12.5e %10.8f\\n\" h approx err time()-start\n",
    "    end\n",
    "end"
   ]
  },
  {
   "cell_type": "code",
   "execution_count": null,
   "metadata": {},
   "outputs": [],
   "source": [
    "midpointrule()  # for loop version"
   ]
  },
  {
   "cell_type": "code",
   "execution_count": null,
   "metadata": {},
   "outputs": [],
   "source": [
    "midpointrule()  # generator expression"
   ]
  },
  {
   "cell_type": "markdown",
   "metadata": {},
   "source": [
    "---"
   ]
  },
  {
   "cell_type": "markdown",
   "metadata": {},
   "source": [
    "### Composite trapezoidal rule\n",
    "\n",
    "From the trapezoidal rule for the $i^{\\mathrm{th}}$ interval $[t_{i-1},t_i]$, we have\n",
    "\n",
    "$$\n",
    "\\begin{split}\n",
    "\\int_{t_{i-1}}^{t_i} f(x)\\,dx \n",
    "& = \\frac{t_i - t_{i-1}}{2}\\brack{f(t_{i-1}) + f(t_i)} - \\frac{f''(\\xi_i)}{12}(t_i - t_{i-1})^3 \\\\\n",
    "& = \\frac{h}{2}\\brack{f(t_{i-1}) + f(t_i)} - \\frac{f''(\\xi_i)}{12}h^3 \\\\\n",
    "\\end{split}\n",
    "$$\n",
    "\n",
    "for some $\\xi_i \\in [t_{i-1},t_i]$."
   ]
  },
  {
   "cell_type": "markdown",
   "metadata": {},
   "source": [
    "Thus, we have:\n",
    "\n",
    "$$\n",
    "\\begin{split}\n",
    "\\int_a^b f(x)\\,dx \n",
    "&= \\sum_{i=1}^r \\int_{t_{i-1}}^{t_i} f(x)\\,dx \\\\\n",
    "&= \\sum_{i=1}^r \\brack{ \\frac{h}{2}\\brack{f(t_{i-1}) + f(t_i)} - \\frac{f''(\\xi_i)}{12}h^3 }\\\\\n",
    "&= \\frac{h}{2} \\brack{f(t_0) + 2f(t_1) + \\cdots + 2f(t_{r-1}) + f(t_r)} \\\\\n",
    "&\\quad -  \\frac{1}{r} \\paren{\\sum_{i=1}^r f''(\\xi_i)} \\frac{rh^3}{12}. \\\\\n",
    "\\end{split}\n",
    "$$"
   ]
  },
  {
   "cell_type": "markdown",
   "metadata": {},
   "source": [
    "Again, by the **Intermediate Value Theorem**, there is a $\\xi \\in [a,b]$ such that\n",
    "\n",
    "$$f''(\\xi) = \\frac{1}{r} \\sum_{i=1}^r f''(\\xi_i).$$\n",
    "\n",
    "Therefore, we obtain the **composite trapezoidal rule**:\n",
    "\n",
    "$$\n",
    "\\fbox{${\\displaystyle\n",
    "\\int_a^b f(x)\\,dx = \\frac{h}{2}\\brack{f(a) + 2 \\sum_{i=1}^{r-1} f(a + ih) + f(b)} - \\frac{f''(\\xi)}{12} (b - a) h^2, \n",
    "\\quad \\xi \\in [a,b],\n",
    "}$}\n",
    "$$\n",
    "\n",
    "which has **order two accuracy**:\n",
    "\n",
    "$$\n",
    "\\fbox{${\\displaystyle\n",
    "\\abs{\\int_a^b f(x)\\,dx - \\frac{h}{2}\\brack{f(a) + 2 \\sum_{i=1}^{r-1} f(a + ih) + f(b)}} \\leq  \\frac{\\norm{f''}}{12} (b - a) h^2 = \\mathcal{O}(h^2).\n",
    "}$}\n",
    "$$"
   ]
  },
  {
   "cell_type": "raw",
   "metadata": {},
   "source": [
    "(r - 1) + 2 = r + 1 function evaluations"
   ]
  },
  {
   "cell_type": "markdown",
   "metadata": {},
   "source": [
    "---\n",
    "## Example\n",
    "\n",
    "The [error function](https://en.wikipedia.org/wiki/Error_function) is\n",
    "\n",
    "$$\n",
    "\\mathrm{erf}(x) = \\frac{2}{\\sqrt{\\pi}} \\int_0^x e^{-t^2} dt.\n",
    "$$\n",
    "\n",
    "Thus, \n",
    "\n",
    "$$\n",
    "\\int_0^1 e^{-x^2} dx = \\frac{\\sqrt{\\pi}}{2}\\mathrm{erf}(1).\n",
    "$$"
   ]
  },
  {
   "cell_type": "code",
   "execution_count": null,
   "metadata": {},
   "outputs": [],
   "source": [
    "using SpecialFunctions\n",
    "\n",
    "function traprule()\n",
    "    a, b = 0., 1.\n",
    "    f(x) = exp(-x^2)\n",
    "    intf = √π/2*erf(1.)\n",
    "\n",
    "    @printf \"%5s %14s %12s %10s\\n\" \"h\" \"approx\" \"error\" \"time\"\n",
    "    for r = [1e1 1e2 1e3 1e4 1e5 1e6 1e7]\n",
    "        start = time()\n",
    "        h = (b - a)/r\n",
    "\n",
    "        # Using the Trapezoidal Rule\n",
    "        approx = f(a)\n",
    "        for i = 1:r-1\n",
    "            approx += 2f(a + i*h)\n",
    "        end\n",
    "        approx += f(b)\n",
    "        approx *= h/2\n",
    "\n",
    "        err = abs(intf - approx)\n",
    "        @printf \"%5.0e %14.10f %12.5e %10.5f\\n\" h approx err time()-start\n",
    "    end\n",
    "end"
   ]
  },
  {
   "cell_type": "code",
   "execution_count": null,
   "metadata": {},
   "outputs": [],
   "source": [
    "traprule()"
   ]
  },
  {
   "cell_type": "markdown",
   "metadata": {},
   "source": [
    "---"
   ]
  },
  {
   "cell_type": "markdown",
   "metadata": {},
   "source": [
    "### Composite Simpson rule\n",
    "\n",
    "The Simpson rule for the $k^{\\mathrm{th}}$ _pair_ of intervals $[t_{2k-2},t_{2k}]$ gives us\n",
    "\n",
    "$$\n",
    "\\begin{split}\n",
    "\\int_{t_{2k-2}}^{t_{2k}} f(x)\\,dx \n",
    "& = \\frac{t_{2k} - t_{2k-2}}{6}\\brack{f(t_{2k-2}) + 4f\\paren{\\frac{t_{2k-2} + t_{2k}}{2}} + f(t_{2k})} -\\frac{f''''(\\xi_k)}{90} \\paren{\\frac{t_{2k} - t_{2k-2}}{2}}^5 \\\\\n",
    "& = \\frac{h}{3}\\brack{f(t_{2k-2}) + 4f(t_{2k-1}) + f(t_{2k})} -\\frac{f''''(\\xi_k)}{90} h^5 \\\\\n",
    "\\end{split}\n",
    "$$\n",
    "\n",
    "for some $\\xi_k \\in [t_{2k-2},t_{2k}]$."
   ]
  },
  {
   "cell_type": "markdown",
   "metadata": {},
   "source": [
    "Thus, we have ($r$ must be even):\n",
    "\n",
    "$$\n",
    "\\begin{split}\n",
    "\\int_a^b f(x)\\,dx \n",
    "&= \\sum_{k=1}^{r/2} \\int_{t_{2k-2}}^{t_{2k}} f(x)\\,dx \\\\\n",
    "&= \\sum_{k=1}^{r/2} \\brack{\\frac{h}{3}\\brack{f(t_{2k-2}) + 4f(t_{2k-1}) + f(t_{2k})} -\\frac{f''''(\\xi_k)}{90} h^5} \\\\\n",
    "&= \\frac{h}{3} \\brack{f(t_0) + 4f(t_1) + 2f(t_2) + \\cdots + 2f(t_{r-2}) + 4f(t_{r-1}) + f(t_r) } \n",
    "\\\\\n",
    "& \\qquad -\\frac{1}{r/2}\\paren{\\sum_{k=1}^{r/2} f''''(\\xi_k)} \\frac{h^5}{90}\\frac{r}{2}. \\\\\n",
    "\\end{split}\n",
    "$$"
   ]
  },
  {
   "cell_type": "markdown",
   "metadata": {},
   "source": [
    "Once more, by the **Intermediate Value Theorem**, there is a $\\xi \\in [a,b]$ such that\n",
    "\n",
    "$$f''''(\\xi) = \\frac{1}{r/2} \\sum_{i=1}^{r/2} f''''(\\xi_i).$$\n",
    "\n",
    "Therefore, we obtain the **composite Simpson rule**:\n",
    "\n",
    "$$\n",
    "\\fbox{${\\displaystyle\n",
    "\\int_a^b f(x)\\,dx = \\frac{h}{3}\\brack{f(a) + 4 \\sum_{k=1}^{r/2} f(t_{2k-1}) + 2 \\sum_{k=1}^{r/2-1} f(t_{2k}) + f(b)}\n",
    "- \\frac{f''''(\\xi)}{180} (b - a) h^4\n",
    "}$}\n",
    "$$\n",
    "\n",
    "for some $\\xi \\in [a,b]$, which has **order four accuracy**:\n",
    "\n",
    "$$\n",
    "\\fbox{${\\displaystyle\n",
    "\\abs{\\int_a^b f(x)\\,dx - \\frac{h}{3}\\brack{f(a) + 4 \\sum_{k=1}^{r/2} f(t_{2k-1}) + 2 \\sum_{k=1}^{r/2-1} f(t_{2k}) + f(b)}} \\leq\n",
    "\\frac{\\norm{f''''}}{180} (b - a) h^4 = \\mathcal{O}(h^4).\n",
    "}$}\n",
    "$$"
   ]
  },
  {
   "cell_type": "markdown",
   "metadata": {},
   "source": [
    "---\n",
    "## Example\n",
    "\n",
    "$$\n",
    "\\int_0^1 e^x\\,dx = e - 1\n",
    "$$"
   ]
  },
  {
   "cell_type": "code",
   "execution_count": null,
   "metadata": {},
   "outputs": [],
   "source": [
    "function simpsonrule()\n",
    "    a, b = 0., 1.\n",
    "    f(x) = exp(x)\n",
    "    intf = exp(one(a)) - 1\n",
    "\n",
    "    @printf \"%5s %14s %12s %10s\\n\" \"h\" \"approx\" \"error\" \"time\"\n",
    "    for r = [1e1 1e2 1e3 1e4 1e5]\n",
    "        start = time()\n",
    "        h = (b - a)/r\n",
    "\n",
    "        # Using the Simpson Rule\n",
    "        approx = f(a)\n",
    "        for k = 1:r/2-1\n",
    "            approx += 4f(a + (2k-1)*h)\n",
    "            approx += 2f(a + (2k)*h)\n",
    "        end\n",
    "        approx += 4f(a + (r-1)*h)\n",
    "        approx += f(b)\n",
    "        approx *= h/3\n",
    "\n",
    "        err = abs(intf - approx)\n",
    "        @printf \"%5.0e %14.10f %12.5e %10.5f\\n\" h approx err time()-start\n",
    "    end\n",
    "end"
   ]
  },
  {
   "cell_type": "code",
   "execution_count": null,
   "metadata": {},
   "outputs": [],
   "source": [
    "simpsonrule()"
   ]
  },
  {
   "cell_type": "code",
   "execution_count": null,
   "metadata": {},
   "outputs": [],
   "source": [
    "traprule()"
   ]
  },
  {
   "cell_type": "code",
   "execution_count": null,
   "metadata": {},
   "outputs": [],
   "source": [
    "midpointrule()"
   ]
  },
  {
   "cell_type": "markdown",
   "metadata": {},
   "source": [
    "---"
   ]
  },
  {
   "cell_type": "markdown",
   "metadata": {},
   "source": [
    "## Composite quadrature rules summary\n",
    "\n",
    "$$\n",
    "\\begin{align}\n",
    "\\\\\n",
    "\\int_a^b f(x)\\,dx &= h \\sum_{i=1}^r f(a + (i - 1/2)h) + \\frac{f''(\\xi)}{24} (b - a) h^2 \n",
    " \\quad &\\text{(Midpoint)} \\\\\\\\\n",
    "\\int_a^b f(x)\\,dx &= \\frac{h}{2}\\brack{f(a) + 2 \\sum_{i=1}^{r-1} f(a + ih) + f(b)} - \\frac{f''(\\xi)}{12} (b - a) h^2  \n",
    "\\quad &\\text{(Trapezoidal)} \\\\\\\\\n",
    "\\int_a^b f(x)\\,dx &= \\frac{h}{3}\\brack{f(a) + 4 \\sum_{k=1}^{r/2} f(t_{2k-1}) + 2 \\sum_{k=1}^{r/2-1} f(t_{2k}) + f(b)} - \\frac{f''''(\\xi)}{180} (b - a) h^4\n",
    "\\quad &\\text{(Simpson)} \\\\\\\\\n",
    "\\end{align}\n",
    "$$\n",
    "\n",
    "In each case, $\\xi$ is some unknown point in the interval $[a,b]$."
   ]
  },
  {
   "cell_type": "markdown",
   "metadata": {},
   "source": [
    "---"
   ]
  },
  {
   "cell_type": "markdown",
   "metadata": {
    "collapsed": true
   },
   "source": [
    "## Computational cost\n",
    "\n",
    "We measure the computational cost of a quadrature rule by counting the number of function evaluations required.\n",
    "\n",
    "As $h$ gets smaller, the number of subintervals $r$ gets larger.\n",
    "\n",
    "We can see from the above quadrature rules that we need:\n",
    "\n",
    "- $r$ function evaluations for the Midpoint rule;\n",
    "- $r + 1$ function evaluations for the Trapezoidal rule;\n",
    "- $r + 1$ function evaluations for the Simpson rule.\n",
    "\n",
    "Thus, the Simpson rule is the most efficient in terms of number of function evaluations versus the order of accuracy."
   ]
  },
  {
   "cell_type": "markdown",
   "metadata": {},
   "source": [
    "---"
   ]
  },
  {
   "cell_type": "markdown",
   "metadata": {},
   "source": [
    "## Numerical integration of noisy data\n",
    "\n",
    "Numerical integration is not sensitive to random noise in the function values.\n",
    "\n",
    "Let \n",
    "\n",
    "$$f(x) = e^x \\sin(3x).$$ \n",
    "\n",
    "Then\n",
    "\n",
    "$$ \\int_0^x f'(t)\\, dt = f(x) - f(0) = f(x) . $$"
   ]
  },
  {
   "cell_type": "code",
   "execution_count": null,
   "metadata": {},
   "outputs": [],
   "source": [
    "using Plots, LaTeXStrings\n",
    "\n",
    "f(x)  = exp(x)*(                sin(3x))\n",
    "f1(x) = exp(x)*(  3cos(3x) +    sin(3x))\n",
    "\n",
    "a, b, r = 0, 1, 200\n",
    "\n",
    "xx = range(a, b, length=r)\n",
    "h = xx[2] - xx[1]\n",
    "\n",
    "yyp = f1.(xx)\n",
    "\n",
    "yypn = yyp + 2*randn(size(yyp))  # add noise to derivative values\n",
    "\n",
    "# Using the composite trapezoid rule on the noisy data\n",
    "yyn = h/2*[yypn[1] + 2*sum(yypn[2:k-1]) + yypn[k] for k=1:r]\n",
    "\n",
    "yytrue = f.(xx)\n",
    "\n",
    "plot(title=\"Noisy integration\", legend=:bottomleft)\n",
    "plot!(xx, yyp, label=L\"f'(x)\")\n",
    "plot!(xx, yypn, label=\"Noisy derivative\")\n",
    "plot!(xx, yyn, label=\"Numerical integral of noisy derivative\")\n",
    "plot!(xx, yytrue, label=L\"f(x)\")"
   ]
  },
  {
   "cell_type": "markdown",
   "metadata": {},
   "source": [
    "---"
   ]
  }
 ],
 "metadata": {
  "kernelspec": {
   "display_name": "Julia 1.5.4",
   "language": "julia",
   "name": "julia-1.5"
  },
  "language_info": {
   "file_extension": ".jl",
   "mimetype": "application/julia",
   "name": "julia",
   "version": "1.5.4"
  }
 },
 "nbformat": 4,
 "nbformat_minor": 1
}
