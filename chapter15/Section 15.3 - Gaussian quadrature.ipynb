{
 "cells": [
  {
   "cell_type": "markdown",
   "metadata": {
    "collapsed": true
   },
   "source": [
    "---\n",
    "Some useful $\\LaTeX$ commands are defined in this cell:\n",
    "$$\n",
    "\\newcommand{\\abs}[1]{\\left\\lvert#1\\right\\rvert}\n",
    "\\newcommand{\\norm}[1]{\\left\\lVert#1\\right\\rVert}\n",
    "\\newcommand{\\set}[1]{\\left\\{#1\\right\\}}\n",
    "\\newcommand{\\paren}[1]{\\left(#1\\right)}\n",
    "\\newcommand{\\brack}[1]{\\left[#1\\right]}\n",
    "\\newcommand{\\ip}[2]{\\left\\langle#1,#2\\right\\rangle}\n",
    "\\DeclareMathOperator{\\span}{span}\n",
    "\\DeclareMathOperator{\\fl}{fl}\n",
    "\\abs{x}, \\norm{x}, \\set{x}, \\paren{x}, \\brack{x}, \\ip{x}{y}, \\span, \\fl\n",
    "$$\n",
    "\n",
    "---"
   ]
  },
  {
   "cell_type": "markdown",
   "metadata": {},
   "source": [
    "---\n",
    "# 15.3 Gaussian quadrature\n",
    "---"
   ]
  },
  {
   "cell_type": "markdown",
   "metadata": {},
   "source": [
    "The composite quadrature rules in the previous section all used points that were **equally spaced**. Such rules are called **Newton-Cotes formulas**.\n",
    "\n",
    "In this section, we consider numerical methods for integration that use any choice of points $\\set{x_0,\\ldots,x_n}$.\n",
    "\n",
    "We will see that by choosing the points $x_0,\\ldots,x_n$ wisely, we will be able to obtain higher precision methods.\n",
    "\n",
    "The goal is to have a formula that is **exact** for higher degree polynomials."
   ]
  },
  {
   "cell_type": "markdown",
   "metadata": {},
   "source": [
    "---"
   ]
  },
  {
   "cell_type": "markdown",
   "metadata": {},
   "source": [
    "## Example\n",
    "\n",
    "Consider approximating the area under the graph of $f(x) = \\cos\\paren{\\frac{\\pi}{2} x}$ over the interval $[-1, 1]$:\n",
    "\n",
    "$$\\int_{-1}^1 \\cos\\paren{\\frac{\\pi}{2} x} dx = \\frac{4}{\\pi} = \\underline{1.2732395447351628} \\ldots .$$\n",
    "\n",
    "The **Simpson rule** gives us:\n",
    "\n",
    "$$\\int_{-1}^1 \\cos\\paren{\\frac{\\pi}{2} x} dx \\approx \\frac{2}{6}\\paren{0 + 4 \\cdot 1 + 0} = \\underline{1.3}333333333333333 \\ldots .$$\n",
    "\n",
    "Recall that the Simpson rule is obtained by integrating the quadratic that interpolates the points $(-1, 0)$, $(0, 1)$, and $(1, 0)$:\n",
    "\n",
    "$$p_2(x) = 1 - x^2.$$"
   ]
  },
  {
   "cell_type": "markdown",
   "metadata": {},
   "source": [
    "If $q_2$ is the quadratic polynomial that interpolates \n",
    "\n",
    "$$\\paren{-\\sqrt{\\frac35},\\, f\\paren{-\\sqrt{\\frac35}}}, \\quad (0,\\,f(0)), \\quad \\paren{\\sqrt{\\frac35},\\, f\\paren{\\sqrt{\\frac35}}},$$\n",
    "\n",
    "then we have a more accurate approximation:\n",
    "\n",
    "$$\\int_{-1}^1 q_2(x)\\,dx = \\underline{1.27}41237545999626  \\ldots.$$"
   ]
  },
  {
   "cell_type": "code",
   "execution_count": null,
   "metadata": {},
   "outputs": [],
   "source": [
    "using SymPy\n",
    "\n",
    "f(x) = cos(PI/2*x)\n",
    "a, b = -sqrt(Sym(3//5)), sqrt(Sym(3//5))\n",
    "\n",
    "t = symbols(\"t\")\n",
    "\n",
    "L0 = (t - (a+b)/2)*(t - b)/(a - (a+b)/2)/(a - b)\n",
    "L1 = (t - a)*(t - b)/((a+b)/2 - a)/((a+b)/2 - b)\n",
    "L2 = (t - a)*(t - (a+b)/2)/(b - a)/(b - (a+b)/2)\n",
    "\n",
    "q = expand(f(a)*L0 + f((a+b)/2)*L1 + f(b)*L2)"
   ]
  },
  {
   "cell_type": "code",
   "execution_count": null,
   "metadata": {},
   "outputs": [],
   "source": [
    "Float64(integrate(q, (t, -1, 1)))"
   ]
  },
  {
   "cell_type": "code",
   "execution_count": null,
   "metadata": {},
   "outputs": [],
   "source": [
    "f(x) = cos(pi/2*x)\n",
    "a, b = -sqrt(3/5), sqrt(3/5)\n",
    "\n",
    "p2(x) = 1 - x.^2\n",
    "\n",
    "q2(x) = \n",
    "f(a)*(x - (a+b)/2).*(x - b)/(a - (a+b)/2)/(a - b) + \n",
    "f((a+b)/2)*(x - a).*(x - b)/((a+b)/2 - a)/((a+b)/2 - b) +\n",
    "f(b)*(x - a).*(x - (a+b)/2)/(b - a)/(b - (a+b)/2)"
   ]
  },
  {
   "cell_type": "code",
   "execution_count": null,
   "metadata": {},
   "outputs": [],
   "source": [
    "using Plots, LaTeXStrings\n",
    "\n",
    "xx = range(-1, 1, length=100)\n",
    "\n",
    "plot(layout=(2,1), legend=:bottom)\n",
    "plot!(subplot=1, title=\"Newton-Cotes quadrature\")\n",
    "plot!(xx, f.(xx), c=1, label=L\"y = f(x)\")\n",
    "plot!(xx, p2.(xx), c=2, ribbon=(p2.(xx)-f.(xx), zeros(length(xx))), \n",
    "    label=L\"y = p_2(x)\")\n",
    "scatter!([-1, 0, 1], [f(-1), f(0), f(1)], c=2, label=:none)\n",
    "\n",
    "plot!(subplot=2, title=\"Gaussian quadrature\")\n",
    "plot!(xx, f.(xx), c=1, label=L\"y = f(x)\", subplot=2)\n",
    "plot!(xx, q2.(xx), c=3, ribbon=(q2.(xx)-f.(xx), zeros(length(xx))),\n",
    "    label=L\"y = q_2(x)\", subplot=2)\n",
    "scatter!([a, 0, b], [f(a), f(0), f(b)], c=3, label=:none, subplot=2)"
   ]
  },
  {
   "cell_type": "markdown",
   "metadata": {},
   "source": [
    "---"
   ]
  },
  {
   "cell_type": "markdown",
   "metadata": {},
   "source": [
    "## Legendre polynomials\n",
    "\n",
    "**Gaussian quadrature** uses the roots of the Legendre polynomials.\n",
    "\n",
    "The Legendre polynomials (normalized so that $\\phi_k(1) = 1$, for all $k$) can be described as follows:\n",
    "\n",
    "$$\n",
    "\\begin{align}\n",
    "\\phi_0(x) &= 1,\\\\\n",
    "\\phi_1(x) &= x,\\\\\n",
    "\\phi_{k+1}(x) &= \\paren{\\frac{2k+1}{k+1}} x \\phi_k(x) - \\paren{\\frac{k}{k+1}} \\phi_{k-1}(x), \\quad k = 1,2,\\ldots.\\\\\n",
    "\\end{align}\n",
    "$$\n",
    "\n",
    "The Legendre polynomial $\\phi_k$ is of degree $k$ and has the property that if $p(x)$ is a polynomial of degree at most $k-1$, then\n",
    "\n",
    "$$\\int_{-1}^1 \\phi_k(x) p(x)\\, dx = 0.$$"
   ]
  },
  {
   "cell_type": "code",
   "execution_count": null,
   "metadata": {},
   "outputs": [],
   "source": [
    "# Generating the Legendre polynomials\n",
    "\n",
    "using SymPy\n",
    "\n",
    "n = 4\n",
    "\n",
    "x = symbols(\"x\")\n",
    "\n",
    "ϕ = zeros(Sym, n+1)\n",
    "ϕ[1] = 1\n",
    "ϕ[2] = x\n",
    "for k=1:n-1\n",
    "    ϕ[k+2] = expand(((2k+1)*x*ϕ[k+1] - k*ϕ[k])/(k+1))\n",
    "end\n",
    "\n",
    "ϕ"
   ]
  },
  {
   "cell_type": "code",
   "execution_count": null,
   "metadata": {},
   "outputs": [],
   "source": [
    "n = 3\n",
    "\n",
    "xx = range(-1, 1, length=100)\n",
    "\n",
    "ϕ0, ϕ1 = ones(length(xx)), xx\n",
    "plot(legend=:bottomright, aspect_ratio=:equal, \n",
    "    xlims=(-1,1), size=(600,600),\n",
    "    title=\"The Legendre Polynomials\")\n",
    "plot!(xx, ϕ0, label=L\"\\phi_0\")\n",
    "plot!(xx, ϕ1, label=L\"\\phi_1\")\n",
    "\n",
    "# Using the three-term recurrence relation to compute Legendre polynomials\n",
    "ϕolder, ϕold = ϕ0, ϕ1\n",
    "for k=1:n-1\n",
    "    ϕ = ((2k+1)*xx.*ϕold - k*ϕolder)/(k+1)\n",
    "    ϕolder, ϕold = ϕold, ϕ\n",
    "    plot!(xx, ϕ, label=latexstring(\"\\\\phi_$(k+1)\"))\n",
    "end\n",
    "hline!([0], c=:black, label=:none)"
   ]
  },
  {
   "cell_type": "markdown",
   "metadata": {},
   "source": [
    "---"
   ]
  },
  {
   "cell_type": "markdown",
   "metadata": {},
   "source": [
    "## Gauss points\n",
    "\n",
    "Let $x_0, \\ldots, x_n$ be the roots of the Legendre polynomial $\\phi_{n+1}$; these points are known as the **Gauss points**.\n",
    "\n",
    "Let $p_n$ be the polynomial that interpolates the points\n",
    "\n",
    "$$(x_0, f(x_0)), \\ldots, (x_n, f(x_n)).$$\n",
    "\n",
    "We can write $p_n$ in **Lagrange form** as\n",
    "\n",
    "$$p_n(x) = \\sum_{i=0}^n f(x_i) L_i(x),$$\n",
    "\n",
    "where the Lagrange polynomials are given by\n",
    "\n",
    "$$L_i(x) = \\prod_{\\substack{j = 1 \\\\ j \\neq i}}^n \\frac{x - x_j}{x_i - x_j}, \\quad i = 0,\\ldots,n.$$"
   ]
  },
  {
   "cell_type": "markdown",
   "metadata": {},
   "source": [
    "## Gaussian quadrature\n",
    "\n",
    "We approximate the integral as\n",
    "\n",
    "$$\\int_{-1}^1 f(x)\\,dx \\approx \\int_{-1}^1 p_n(x)\\,dx = \\sum_{i=0}^n c_i f(x_i),$$\n",
    "\n",
    "where\n",
    "\n",
    "$$c_i = \\int_{-1}^1 L_i(x)\\, dx, \\quad i = 0,\\ldots,n.$$"
   ]
  },
  {
   "cell_type": "markdown",
   "metadata": {},
   "source": [
    "> ### Theorem: (Precision of Gaussian quadrature is $2n+1$)\n",
    "> If $f(x)$ is any polynomial having degree at most $2n + 1$, then\n",
    "> $$\\int_{-1}^1 f(x)\\, dx = \\int_{-1}^1 p_n(x)\\,dx,$$\n",
    "> where $p_n$ is the polynomial that interpolates $f$ at the roots of the Legendre polynomial $\\phi_{n+1}$ (i.e., at the **Gauss points** $x_0,\\ldots,x_n$)."
   ]
  },
  {
   "cell_type": "markdown",
   "metadata": {},
   "source": [
    "### Proof:\n",
    "\n",
    "We follow the proof from the book _Numerical Analysis_ by Burden and Faires.\n",
    "\n",
    "By the Polynomial Interpolation Error Theorem we have that for each $x \\in [-1,1]$, there is a $\\xi(x) \\in (-1,1)$ such that\n",
    "\n",
    "$$f(x) = p_n(x) + \\frac{f^{(n+1)}(\\xi(x))}{(n+1)!} \\prod_{i=0}^n (x - x_i).$$"
   ]
  },
  {
   "cell_type": "markdown",
   "metadata": {},
   "source": [
    "First we will suppose that $f(x)$ is a polynomial having degree at most $n$. Then $f^{(n+1)} \\equiv 0$, so we have that $f(x) = p_n(x)$, for all $x \\in [-1,1]$. Therefore,\n",
    "\n",
    "$$\\int_{-1}^1 f(x)\\,dx = \\int_{-1}^1 p_n(x)\\,dx = \\sum_{i=0}^n c_i f(x_i),$$\n",
    "\n",
    "where\n",
    "\n",
    "$$c_i = \\int_{-1}^1 \\prod_{\\substack{j = 1 \\\\ j \\neq i}}^n \\frac{x - x_j}{x_i - x_j} dx, \\quad i = 0,\\ldots,n.$$"
   ]
  },
  {
   "cell_type": "markdown",
   "metadata": {},
   "source": [
    "Now we suppose that $n+1 \\leq \\deg(f) \\leq 2n + 1$. Dividing $f(x)$ by $\\phi_{n+1}(x)$, we will obtain a polynomial **quotient** of $q(x)$ and a polynomial **remainder** of $r(x)$ such that\n",
    "\n",
    "$$f(x) = q(x) \\phi_{n+1}(x) + r(x)$$\n",
    "\n",
    "and $\\deg(r) < \\deg(\\phi_{n+1}) = n+1$; thus, $\\deg(r) \\leq n$."
   ]
  },
  {
   "cell_type": "markdown",
   "metadata": {},
   "source": [
    "Since\n",
    "\n",
    "$$\n",
    "\\begin{split}\n",
    "f(x_i) \n",
    "&= q(x_i) \\phi_{n+1}(x_i) + r(x_i) \\\\\n",
    "&= q(x_i) \\cdot 0 + r(x_i) \\\\\n",
    "&= r(x_i),\n",
    "\\end{split}\n",
    "$$\n",
    "\n",
    "for $i = 0,\\ldots, n$, the first part of the proof then implies that \n",
    "\n",
    "$$\\int_{-1}^1 r(x)\\,dx = \\sum_{i=0}^n c_i r(x_i) = \\sum_{i=0}^n c_i f(x_i) = \\int_{-1}^1 p_n(x)\\,dx.$$"
   ]
  },
  {
   "cell_type": "markdown",
   "metadata": {},
   "source": [
    "In addition, we have\n",
    "\n",
    "$$\\deg(f) = \\deg(q) + \\deg(\\phi_{n+1}),$$\n",
    "\n",
    "so\n",
    "\n",
    "$$n+1 \\leq \\deg(q) + \\deg(\\phi_{n+1}) \\leq 2n + 1,$$\n",
    "\n",
    "which implies that\n",
    "\n",
    "$$ 0 \\leq \\deg(q) \\leq n.$$"
   ]
  },
  {
   "cell_type": "markdown",
   "metadata": {},
   "source": [
    "Thus, we have that\n",
    "\n",
    "$$\n",
    "\\begin{split}\n",
    "\\int_{-1}^1 f(x)\\,dx \n",
    "&= \\int_{-1}^1 q(x) \\phi_{n+1}(x)\\, dx + \\int_{-1}^1 r(x)\\, dx \\\\\n",
    "&= 0 + \\int_{-1}^1 r(x)\\, dx \\\\\n",
    "&= \\int_{-1}^1 p_n(x)\\, dx, \\\\\n",
    "\\end{split}\n",
    "$$\n",
    "\n",
    "which completes the proof. $\\blacksquare$"
   ]
  },
  {
   "cell_type": "markdown",
   "metadata": {},
   "source": [
    "---"
   ]
  },
  {
   "cell_type": "markdown",
   "metadata": {},
   "source": [
    "## Gauss quadrature\n",
    "\n",
    "-   For $n = 0$, the only root of $\\phi_1(x) = x$ is:\n",
    "\n",
    "    $$x_0 = 0$$\n",
    "    \n",
    "    Then\n",
    "    \n",
    "    $$ \\int_{-1}^1 f(x) \\,dx \\approx 2 f(0). $$\n",
    "    \n",
    "    Thus, we obtain the **midpoint rule** which has **precision 1**.\n",
    "    "
   ]
  },
  {
   "cell_type": "markdown",
   "metadata": {},
   "source": [
    "-   For $n = 1$, the roots of $\\phi_2(x) = \\frac{1}{2}(3x^2 - 1)$ are:\n",
    "\n",
    "    $$x_0, x_1 = -\\frac{1}{\\sqrt{3}}, \\frac{1}{\\sqrt{3}}$$\n",
    "    \n",
    "    Then\n",
    "    \n",
    "    $$ \\int_{-1}^1 f(x)\\, dx \\approx f\\paren{-\\frac{1}{\\sqrt{3}}} + f\\paren{\\frac{1}{\\sqrt{3}}}.$$\n",
    "    \n",
    "    This is a rule that has **precision 3**."
   ]
  },
  {
   "cell_type": "markdown",
   "metadata": {},
   "source": [
    "-   For $n = 2$, the roots of $\\phi_3(x) = \\frac{1}{2}(5x^3 - 3x)$ are:\n",
    "\n",
    "    $$x_0, x_1, x_2 = -\\sqrt{\\frac{3}{5}}, 0, \\sqrt{\\frac{3}{5}}$$\n",
    "    \n",
    "    In this case, we have the **precision 5** rule:\n",
    "    \n",
    "    $$ \\int_{-1}^{1} f(x)\\, dx \\approx \\frac{1}{9} \\paren{5f\\paren{-\\sqrt{\\frac{3}{5}}} + 8f(0) + 5f\\paren{\\sqrt{\\frac{3}{5}}} }.$$"
   ]
  },
  {
   "cell_type": "markdown",
   "metadata": {},
   "source": [
    "- In general, we have the formula\n",
    "    \n",
    "    $$ \\int_{-1}^1 f(x) \\,dx = \\sum_{i=0}^n c_i f(x_i) + \\frac{2^{2n+3}[(n+1)!]^4}{(2n+3)![(2n+2)!]^2} f^{(2n+2)}(\\xi), $$\n",
    "    \n",
    "     for some $\\xi \\in [-1,1]$, where\n",
    "    \n",
    "    $$ c_i = \\frac{2(1 - x_i^2)}{\\brack{(n+1)\\phi_n(x_i)}^2}, \\quad i=0,\\ldots,n. $$"
   ]
  },
  {
   "cell_type": "markdown",
   "metadata": {},
   "source": [
    "---"
   ]
  },
  {
   "cell_type": "markdown",
   "metadata": {},
   "source": [
    "## Composite Gaussian quadrature\n",
    "\n",
    "We will now approximate $\\int_a^b f(x)\\,dx$ by dividing the interval $[a,b]$ into $r$  subintervals:\n",
    "\n",
    "$$[t_0,t_1], \\quad [t_1,t_2], \\quad \\ldots, \\quad [t_{r-1},t_r],$$\n",
    "\n",
    "where $a = t_0 < t_1 < \\cdots < t_r = b$."
   ]
  },
  {
   "cell_type": "markdown",
   "metadata": {},
   "source": [
    "In order to use Gaussian quadrature on interval $[t_{k-1},t_k]$, we need to make a change of variables:\n",
    "\n",
    "$$ t = \\frac{t_k - t_{k-1}}{2} (x + 1) + t_{k-1}, \\quad -1 \\leq x \\leq 1. $$\n",
    "\n",
    "Then,\n",
    "\n",
    "$$\n",
    "\\begin{split}\n",
    "\\int_{t_{k-1}}^{t_k} f(t) dt \n",
    "&= \\int_{-1}^1 f\\paren{\\frac{t_k - t_{k-1}}{2} (x + 1) + t_{k-1}} \\frac{t_k - t_{k-1}}{2} dx \\\\\n",
    "&\\approx \\sum_{i=0}^n c_i f\\paren{\\frac{t_k - t_{k-1}}{2} (x_i + 1) + t_{k-1}} \\frac{t_k - t_{k-1}}{2},\\\\\n",
    "\\end{split}\n",
    "$$\n",
    "\n",
    "where $x_0,\\ldots,x_n$ are the **Gauss points** and \n",
    "\n",
    "$$c_i = \\int_{-1}^1 \\prod_{\\substack{j = 1 \\\\ j \\neq i}}^n \\frac{x - x_j}{x_i - x_j} dx = \\frac{2(1 - x_i^2)}{\\brack{(n+1)\\phi_n(x_i)}^2}, \\quad i = 0,\\ldots,n.$$"
   ]
  },
  {
   "cell_type": "markdown",
   "metadata": {},
   "source": [
    "We can simplify this formula by defining\n",
    "\n",
    "$$\n",
    "\\begin{align}\n",
    "t_{k,i} &= \\frac{t_k - t_{k-1}}{2} (x_i + 1) + t_{k-1}, \\\\\n",
    "\\\\\n",
    "b_{k,i} &= c_i \\frac{t_k - t_{k-1}}{2}, \\\\\n",
    "\\end{align}\n",
    "$$\n",
    "\n",
    "for $i = 0,\\ldots,n$.\n",
    "\n",
    "Then we have\n",
    "\n",
    "$$\\int_a^b f(x)\\, dx \\approx \\sum_{k=1}^r \\sum_{i=0}^n b_{k,i} f(t_{k,i}).$$"
   ]
  },
  {
   "cell_type": "markdown",
   "metadata": {},
   "source": [
    "### Uniform mesh\n",
    "\n",
    "If $[a,b]$ is divided into $r$ equal subintervals with $h = (b - a)/r$ and $t_k = a + kh$, for $k = 0, \\ldots, r$, then we define\n",
    "\n",
    "$$\n",
    "t_{k,i} = \\frac{h}{2} (x_i + 1) + t_{k-1}, \\qquad b_i = c_i \\frac{h}{2},\n",
    "$$\n",
    "\n",
    "and it can be shown that \n",
    "\n",
    "$$\\int_a^b f(x)\\, dx = \\sum_{k=1}^r \\sum_{i=0}^n b_i f(t_{k,i}) + \\frac{(b - a)((n+1)!)^4}{(2n+3)!((2n+2)!)^2} f^{(2n+2)}(\\xi) h^{2n+2},$$\n",
    "\n",
    "for some $\\xi \\in [a,b]$.\n",
    "\n",
    "Thus, we have an accuracy of $\\mathcal{O}(h^{2n+2})$ and the number of function evaluations is $r(n+1)$."
   ]
  },
  {
   "cell_type": "code",
   "execution_count": null,
   "metadata": {},
   "outputs": [],
   "source": [
    "using QuadGK"
   ]
  },
  {
   "cell_type": "code",
   "execution_count": null,
   "metadata": {},
   "outputs": [],
   "source": [
    "?quadgk"
   ]
  },
  {
   "cell_type": "markdown",
   "metadata": {},
   "source": [
    "---"
   ]
  },
  {
   "cell_type": "markdown",
   "metadata": {},
   "source": [
    "## Example\n",
    "\n",
    "Let's use **composite Gaussian quadrature** to approximate\n",
    "\n",
    "$$\\int_0^1 e^{-x^2} dx = \\frac{\\sqrt{\\pi}}{2}\\mathrm{erf}(1) = 0.746824132812427\\ldots.$$"
   ]
  },
  {
   "cell_type": "code",
   "execution_count": null,
   "metadata": {},
   "outputs": [],
   "source": [
    "import Polynomials\n",
    "\n",
    "##################################################\n",
    "function mylegendre(n, x)\n",
    "    \n",
    "    ϕk, ϕkp1 = 1, x\n",
    "    for k=1:n-1\n",
    "        ϕkp2 = (2k+1)//(k+1)*x*ϕkp1 - k//(k+1)*ϕk\n",
    "        ϕk, ϕkp1 = ϕkp1, ϕkp2\n",
    "    end\n",
    "    \n",
    "    if n==0\n",
    "        1\n",
    "    else\n",
    "        ϕkp1\n",
    "    end\n",
    "    \n",
    "end\n",
    "\n",
    "##################################################\n",
    "function gauss_points(n)\n",
    "\n",
    "    x = Polynomials.Polynomial([0, 1])\n",
    "\n",
    "    p = Polynomials.roots(mylegendre(n, x))\n",
    "\n",
    "    sort(p)\n",
    "\n",
    "end\n",
    "\n",
    "##################################################\n",
    "gauss_points(5)"
   ]
  },
  {
   "cell_type": "code",
   "execution_count": null,
   "metadata": {},
   "outputs": [],
   "source": [
    "##################################################\n",
    "function gaussquad(f, a, b, r, n)\n",
    "\n",
    "    h = (b - a)/r\n",
    "    tt = a:h:b\n",
    "    \n",
    "    # Get the roots of the (n+1)st Legendre polynomial\n",
    "    xx = gauss_points(n+1)\n",
    "\n",
    "    # Compute the matrix of remapped Gauss points\n",
    "    T = Float64[h/2*(xi + 1) + tkm1 for tkm1 in tt[1:end-1], xi in xx]\n",
    "    fT = f.(T)\n",
    "\n",
    "    # Compute the quadrature weights\n",
    "    cc = Float64[2*(1-xi^2)/((n+1)*mylegendre(n,xi))^2 for xi in xx]\n",
    "    bb = cc*h/2\n",
    "\n",
    "    # Compute the composite Gaussian quadrature\n",
    "    sum(fT*bb)\n",
    "end"
   ]
  },
  {
   "cell_type": "code",
   "execution_count": null,
   "metadata": {},
   "outputs": [],
   "source": [
    "Int <: Integer"
   ]
  },
  {
   "cell_type": "code",
   "execution_count": null,
   "metadata": {},
   "outputs": [],
   "source": [
    "using SpecialFunctions, Printf\n",
    "\n",
    "##################################################\n",
    "f(x) = exp(-x^2)\n",
    "a, b = 0, 1\n",
    "\n",
    "rr = 1:8\n",
    "nn = 0:6\n",
    "\n",
    "vals = Float64[gaussquad(f, a, b, r, n) for r = rr, n = nn]\n",
    "\n",
    "intval = √π/2*erf(1.)\n",
    "abserr = abs.(vals .- intval)\n",
    "\n",
    "function printarray(data::Matrix{T}, rr, nn) where T\n",
    "    m, n = length(rr), length(nn)\n",
    "    @printf(\"%6s\", \"\")\n",
    "    for j=1:n\n",
    "        @printf(\" %4s%2d\", \"n =\", nn[j])\n",
    "    end\n",
    "    println()\n",
    "    for i=1:m\n",
    "        @printf(\"%4s%2d\", \"r =\", rr[i])\n",
    "        for j=1:n\n",
    "            if T <: Integer\n",
    "                @printf(\" %6d\", data[i,j])\n",
    "            else\n",
    "                @printf(\" %6.0e\", data[i,j])\n",
    "            end\n",
    "        end\n",
    "        println()\n",
    "    end\n",
    "end\n",
    "\n",
    "printarray(abserr, rr, nn)"
   ]
  },
  {
   "cell_type": "code",
   "execution_count": null,
   "metadata": {},
   "outputs": [],
   "source": [
    "nfevals = [r*(n+1) for r in rr, n in nn]\n",
    "printarray(nfevals, rr, nn)"
   ]
  },
  {
   "cell_type": "code",
   "execution_count": null,
   "metadata": {},
   "outputs": [],
   "source": [
    "plt = plot(title=\"Composite Gaussian quadrature error\",\n",
    "    xlabel=\"number of function evaluations\",\n",
    "    ylabel=\"absolute error\",\n",
    "    yscale=:log)\n",
    "for ii = 1:size(abserr, 2)\n",
    "    plot!(nfevals[:,ii], abserr[:,ii], m=:dot, label=\"n = $(nn[ii])\")\n",
    "end\n",
    "plt"
   ]
  },
  {
   "cell_type": "markdown",
   "metadata": {},
   "source": [
    "---"
   ]
  }
 ],
 "metadata": {
  "@webio": {
   "lastCommId": null,
   "lastKernelId": null
  },
  "kernelspec": {
   "display_name": "Julia 1.5.4",
   "language": "julia",
   "name": "julia-1.5"
  },
  "language_info": {
   "file_extension": ".jl",
   "mimetype": "application/julia",
   "name": "julia",
   "version": "1.5.4"
  }
 },
 "nbformat": 4,
 "nbformat_minor": 1
}
