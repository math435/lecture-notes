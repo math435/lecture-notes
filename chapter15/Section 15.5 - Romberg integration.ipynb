{
 "cells": [
  {
   "cell_type": "markdown",
   "metadata": {},
   "source": [
    "---\n",
    "Some useful $\\LaTeX$ commands are defined in this cell:\n",
    "$$\n",
    "\\newcommand{\\abs}[1]{\\left\\lvert#1\\right\\rvert}\n",
    "\\newcommand{\\norm}[1]{\\left\\lVert#1\\right\\rVert}\n",
    "\\newcommand{\\set}[1]{\\left\\{#1\\right\\}}\n",
    "\\newcommand{\\paren}[1]{\\left(#1\\right)}\n",
    "\\newcommand{\\brack}[1]{\\left[#1\\right]}\n",
    "\\newcommand{\\ip}[2]{\\left\\langle#1,#2\\right\\rangle}\n",
    "\\DeclareMathOperator{\\span}{span}\n",
    "\\DeclareMathOperator{\\fl}{fl}\n",
    "\\abs{x}, \\norm{x}, \\set{x}, \\paren{x}, \\brack{x}, \\ip{x}{y}, \\span, \\fl\n",
    "$$\n",
    "\n",
    "---"
   ]
  },
  {
   "cell_type": "markdown",
   "metadata": {},
   "source": [
    "---\n",
    "# 15.5 Romberg integration\n",
    "---"
   ]
  },
  {
   "cell_type": "markdown",
   "metadata": {},
   "source": [
    "In this section, we consider adaptively selecting the **order of the numerical quadrature method**.\n",
    "\n",
    "**Richardson extrapolation** gave us a systematic way to obtain higher order numerical differentiation methods.\n",
    "\n",
    "Richardson extrapolation can also be used to obtain higher order numerical quadrature methods."
   ]
  },
  {
   "cell_type": "markdown",
   "metadata": {},
   "source": [
    "---"
   ]
  },
  {
   "cell_type": "markdown",
   "metadata": {},
   "source": [
    "## Richardson extrapolation for numerical integration\n",
    "\n",
    "It can be shown that the **composite trapezoidal rule** with step-size $h$ \n",
    "\n",
    "$$\n",
    "\\fbox{${\\displaystyle\n",
    "\\int_a^b f(x) \\,dx = \\frac{h}{2}\\brack{f(a) + 2 \\sum_{i=1}^{r-1} f(a + ih) + f(b)} - \\frac{f''(\\xi)}{12} (b - a) h^2, \n",
    "\\quad \\xi \\in [a,b],\n",
    "}$}\n",
    "$$\n",
    "\n",
    "gives an approximation $Q_h$ of $I_f = \\int_a^b f(x) \\,dx$ such that\n",
    "\n",
    "$$I_f = Q_h + Kh^2 + \\mathcal{O}(h^4).$$\n",
    "\n",
    "Therefore, dividing the step-size by $2$ gives us:\n",
    "\n",
    "$$I_f = Q_{h/2} + K(h/2)^2 + \\mathcal{O}(h^4).$$\n",
    "\n",
    "Multiplying this equation by $4$ and subtracting the first equation, we have\n",
    "\n",
    "$$3I_f = 4 Q_{h/2} - Q_h + \\mathcal{O}(h^4).$$\n",
    "\n",
    "Thus, we obtain \n",
    "\n",
    "$$I_f = \\frac{4 Q_{h/2} - Q_h}{3} + \\mathcal{O}(h^4).$$\n",
    "\n"
   ]
  },
  {
   "cell_type": "markdown",
   "metadata": {},
   "source": [
    "---"
   ]
  },
  {
   "cell_type": "markdown",
   "metadata": {},
   "source": [
    "## Example\n",
    "\n",
    "Let's use Richardson extrapolation to approximate\n",
    "\n",
    "$$\\int_0^1 e^{-x^2} \\,dx = 0.746824132812427\\ldots.$$"
   ]
  },
  {
   "cell_type": "code",
   "execution_count": null,
   "metadata": {},
   "outputs": [],
   "source": [
    "using SymPy\n",
    "\n",
    "t = symbols(\"t\")\n",
    "\n",
    "f(x) = exp(-x^2)\n",
    "a, b = 0, 1\n",
    "\n",
    "inttrue = Float64(integrate(f(t), (t, a, b)))"
   ]
  },
  {
   "cell_type": "code",
   "execution_count": null,
   "metadata": {},
   "outputs": [],
   "source": [
    "using Printf\n",
    "\n",
    "@printf \"%6s %10s %10s %10s %10s %10s %10s\\n\" \"h\" \"Q1\" \"Q1err\" \"Q2\" \"Q2err\" \"R\" \"Rerr\"\n",
    "for k = 0:4\n",
    "    r = 10^k\n",
    "    \n",
    "    h1 = (b - a)/r\n",
    "    tt1 = a:h1:b\n",
    "    ft1 = f.(tt1)\n",
    "    Q1 = (sum(ft1[1:end-1]) + sum(ft1[2:end]))*h1/2\n",
    "    \n",
    "    h2 = h1/2\n",
    "    tt2 = a:h2:b\n",
    "    ft2 = f.(tt2)\n",
    "    Q2 = (sum(ft2[1:end-1]) + sum(ft2[2:end]))*h2/2\n",
    "    \n",
    "    R = (4Q2 - Q1)/3\n",
    "    \n",
    "    @printf \"%6.0e %10f %10.2e %10f %10.2e %10f %10.2e\\n\" h1 Q1 abs(Q1 - inttrue) Q2 abs(Q2 - inttrue) R abs(R - inttrue)\n",
    "end"
   ]
  },
  {
   "cell_type": "markdown",
   "metadata": {},
   "source": [
    "We see numerically that the composite trapezoid rule `Q1` is $\\mathcal{O}(h^2)$ and that the Richardson extrapolation rule `R` gives us an $\\mathcal{O}(h^4)$ method."
   ]
  },
  {
   "cell_type": "markdown",
   "metadata": {},
   "source": [
    "---"
   ]
  },
  {
   "cell_type": "markdown",
   "metadata": {},
   "source": [
    "## A second step of Richardson extrapolation\n",
    "\n",
    "Let's define\n",
    "\n",
    "$$R_{1,1} = Q_h = \\frac{h}{2}\\brack{f(a) + 2 \\sum_{i=1}^{r-1} f(a + ih) + f(b)},$$\n",
    "\n",
    "and\n",
    "\n",
    "$$\n",
    "\\begin{split}\n",
    "R_{2,1} = Q_{h/2} \n",
    "&= \\frac{h/2}{2}\\brack{f(a) + 2 \\sum_{i=1}^{2r-1} f(a + i(h/2)) + f(b)}\\\\\n",
    "&= \\frac{1}{2}\\brack{R_{1,1} + h \\sum_{i=1}^{r} f(a + (2i-1)(h/2))}.\\\\\n",
    "\\end{split}\n",
    "$$\n",
    "\n",
    "Then we let \n",
    "\n",
    "$$R_{2,2} = \\frac{4 Q_{h/2} - Q_h}{3} = \\frac{4 R_{2,1} - R_{1,1}}{3}.$$\n",
    "\n",
    "\n"
   ]
  },
  {
   "cell_type": "markdown",
   "metadata": {},
   "source": [
    "Next, we go one step further to obtain\n",
    "\n",
    "$$\n",
    "\\begin{split}\n",
    "R_{3,1} = Q_{h/4} \n",
    "&= \\frac{h/4}{2}\\brack{f(a) + 2 \\sum_{i=1}^{4r-1} f(a + i(h/4)) + f(b)}\\\\\n",
    "&= \\frac{1}{2}\\brack{R_{2,1} + \\frac{h}{2} \\sum_{i=1}^{2r} f(a + (2i - 1)(h/4))}.\\\\\n",
    "\\end{split}\n",
    "$$\n",
    "\n",
    "Then we let \n",
    "\n",
    "$$R_{3,2} = \\frac{4 Q_{h/4} - Q_{h/2}}{3} = \\frac{4 R_{3,1} - R_{2,1}}{3}.$$\n"
   ]
  },
  {
   "cell_type": "markdown",
   "metadata": {},
   "source": [
    "We can show that\n",
    "\n",
    "$$\n",
    "\\begin{align}\n",
    "I_f &= R_{2,2} + Kh^4 + \\mathcal{O}(h^6)\\\\\n",
    "I_f &= R_{3,2} + K(h/2)^4 + \\mathcal{O}(h^6)\\\\\n",
    "\\end{align}\n",
    "$$\n",
    "\n",
    "Thus,\n",
    "\n",
    "$$\n",
    "I_f = \\frac{16R_{3,2} - R_{2,2}}{15} + \\mathcal{O}(h^6).\n",
    "$$\n",
    "\n",
    "Let \n",
    "\n",
    "$$\n",
    "R_{3,3} = \\frac{16R_{3,2} - R_{2,2}}{15}.\n",
    "$$"
   ]
  },
  {
   "cell_type": "code",
   "execution_count": null,
   "metadata": {},
   "outputs": [],
   "source": [
    "using SymPy\n",
    "\n",
    "t = symbols(\"t\")\n",
    "\n",
    "f(x) = exp(-x^2)\n",
    "a, b = 0, 1\n",
    "\n",
    "inttrue = Float64(integrate(f(t), (t, a, b)))\n",
    "\n",
    "@printf(\"%6s %10s %10s %10s %10s %10s %10s\\n\", \"h\",\n",
    "        \"R11\", \"R11err\", \n",
    "        \"R22\", \"R22err\",\n",
    "        \"R33\", \"R33err\")\n",
    "for k = 0:4\n",
    "    r = 10^k\n",
    "    \n",
    "    h1 = (b - a)/r\n",
    "    tt1 = a:h1:b\n",
    "    ft1 = f.(tt1)\n",
    "    R11 = (sum(ft1[1:end-1]) + sum(ft1[2:end]))*h1/2\n",
    "    \n",
    "    h2 = h1/2\n",
    "    tt2 = a:h2:b\n",
    "    ft2 = f.(tt2)\n",
    "    R21 = (sum(ft2[1:end-1]) + sum(ft2[2:end]))*h2/2\n",
    "\n",
    "    h3 = h1/4\n",
    "    tt3 = a:h3:b\n",
    "    ft3 = f.(tt3)\n",
    "    R31 = (sum(ft3[1:end-1]) + sum(ft3[2:end]))*h3/2\n",
    "\n",
    "    R22 = (4R21 - R11)/3\n",
    "    R32 = (4R31 - R21)/3\n",
    "    \n",
    "    R33 = (16R32 - R22)/15\n",
    "    \n",
    "    @printf(\"%6.0e %10f %10.2e %10f %10.2e %10f %10.2e\\n\", h1, \n",
    "            R11, abs(R11 - inttrue), \n",
    "            R22, abs(R22 - inttrue),\n",
    "            R33, abs(R33 - inttrue))\n",
    "end"
   ]
  },
  {
   "cell_type": "markdown",
   "metadata": {},
   "source": [
    "---"
   ]
  },
  {
   "cell_type": "markdown",
   "metadata": {},
   "source": [
    "## The general algorithm\n"
   ]
  },
  {
   "cell_type": "code",
   "execution_count": null,
   "metadata": {},
   "outputs": [],
   "source": [
    "using LinearAlgebra\n",
    "\n",
    "##################################################\n",
    "function romberg(f, a, b, r, s)\n",
    "    h = (b - a)/r\n",
    "    tt = a:h:b\n",
    "    R = zeros(s,s)\n",
    "    R[1,1] = h/2*( f(a) + 2sum(f.(tt[2:end-1])) + f(b) )\n",
    "          \n",
    "    for j = 2:s\n",
    "        h = h/2\n",
    "        tt = a:h:b\n",
    "        R[j,1] = 1/2*( R[j-1,1] + h*2sum(f.(tt[2:2:end-1])) )\n",
    "        \n",
    "        for k = 2:j\n",
    "            R[j,k] = (4^(k-1)*R[j,k-1] - R[j-1,k-1])/(4^(k-1) - 1)\n",
    "        end\n",
    "    end\n",
    "    \n",
    "    LowerTriangular(R)\n",
    "end\n",
    "\n",
    "##################################################\n",
    "using SymPy\n",
    "\n",
    "t = symbols(\"t\")\n",
    "\n",
    "f(x) = exp(-x^2)\n",
    "a, b = 0, 1\n",
    "r, s = 8, 4\n",
    "\n",
    "inttrue = Float64(integrate(f(t), (t, a, b)))\n",
    "\n",
    "R = romberg(f, a, b, r, s)"
   ]
  },
  {
   "cell_type": "code",
   "execution_count": null,
   "metadata": {},
   "outputs": [],
   "source": [
    "LowerTriangular(abs.(R .- inttrue))"
   ]
  },
  {
   "cell_type": "markdown",
   "metadata": {},
   "source": [
    "The **Romberg** table of values is completed one row at a time and gives increasing order of accuracy:\n",
    "\n",
    "$$\n",
    "\\begin{array}{cccc}\n",
    "\\mathcal{O}(h^2) & \\mathcal{O}(h^4) & \\mathcal{O}(h^6) & \\mathcal{O}(h^8) \\\\\n",
    "\\hline\n",
    "R_{1,1} \\\\\n",
    "R_{2,1} & R_{2,2} \\\\\n",
    "R_{3,1} & R_{3,2} & R_{3,3} \\\\\n",
    "R_{4,1} & R_{4,2} & R_{4,3} & R_{4,4} \\\\\n",
    "\\end{array}\n",
    "$$\n",
    "\n",
    "Computing a table with $s$ rows requires $r2^{s} + 1$ function evaluations."
   ]
  },
  {
   "cell_type": "code",
   "execution_count": null,
   "metadata": {},
   "outputs": [],
   "source": [
    "r*[2^s for s = 1:4] .+ 1"
   ]
  },
  {
   "cell_type": "markdown",
   "metadata": {},
   "source": [
    "## Note\n",
    "\n",
    "In order for Romberg integration to be effective, the integrand should be very smooth and the initial $h$ should be quite small."
   ]
  },
  {
   "cell_type": "markdown",
   "metadata": {},
   "source": [
    "---"
   ]
  }
 ],
 "metadata": {
  "@webio": {
   "lastCommId": null,
   "lastKernelId": null
  },
  "kernelspec": {
   "display_name": "Julia 1.8.5",
   "language": "julia",
   "name": "julia-1.8"
  },
  "language_info": {
   "file_extension": ".jl",
   "mimetype": "application/julia",
   "name": "julia",
   "version": "1.8.5"
  }
 },
 "nbformat": 4,
 "nbformat_minor": 4
}
