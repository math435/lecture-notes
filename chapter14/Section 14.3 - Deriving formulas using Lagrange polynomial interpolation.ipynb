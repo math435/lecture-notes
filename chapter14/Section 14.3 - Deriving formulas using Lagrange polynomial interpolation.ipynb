{
 "cells": [
  {
   "cell_type": "markdown",
   "metadata": {},
   "source": [
    "---\n",
    "Some useful $\\LaTeX$ commands are defined in this cell:\n",
    "$$\n",
    "\\newcommand{\\abs}[1]{\\left\\lvert#1\\right\\rvert}\n",
    "\\newcommand{\\norm}[1]{\\left\\lVert#1\\right\\rVert}\n",
    "\\newcommand{\\set}[1]{\\left\\{#1\\right\\}}\n",
    "\\newcommand{\\paren}[1]{\\left(#1\\right)}\n",
    "\\newcommand{\\brack}[1]{\\left[#1\\right]}\n",
    "\\newcommand{\\ip}[2]{\\left\\langle#1,#2\\right\\rangle}\n",
    "\\DeclareMathOperator{\\span}{span}\n",
    "\\DeclareMathOperator{\\fl}{fl}\n",
    "\\abs{x}, \\norm{x}, \\set{x}, \\paren{x}, \\brack{x}, \\ip{x}{y}, \\span, \\fl\n",
    "$$\n",
    "\n",
    "---"
   ]
  },
  {
   "cell_type": "markdown",
   "metadata": {},
   "source": [
    "---\n",
    "# 14.3 Deriving formulas using Lagrange polynomial interpolation\n",
    "---"
   ]
  },
  {
   "cell_type": "markdown",
   "metadata": {},
   "source": [
    "### A simple approach\n",
    "\n",
    "In this section, we will approximate the derivative of a function $f$ at a point $x_0$ using the following simple recipe:\n",
    "\n",
    "1. Compute the value of the function at a few nearby points.\n",
    "\n",
    "2. Interpolate the points with a polynomial.\n",
    "\n",
    "3. Use the derivative(s) of the polynomial at $x_0$ to approximate the derivative(s) of $f$ at $x_0$."
   ]
  },
  {
   "cell_type": "markdown",
   "metadata": {},
   "source": [
    "---"
   ]
  },
  {
   "cell_type": "markdown",
   "metadata": {},
   "source": [
    "We will extensively use the following theorem from Section 10.5:\n",
    "\n",
    "> ### Theorem: (Polynomial Interpolation Error)\n",
    ">\n",
    "> Suppose $x_0, x_1, \\ldots, x_n \\in [a,b]$ are distinct and $f \\in C^{n+1}[a,b]$. Then, for each $x \\in [a,b]$, there is a $\\xi(x) \\in (a,b)$ such that\n",
    ">\n",
    "> $$f(x) = p_n(x) + \\frac{f^{(n+1)}(\\xi(x))}{(n+1)!} \\prod_{i=0}^n (x - x_i),$$\n",
    ">\n",
    "> where $p_n$ is the polynomial interpolating the points $(x_0,f(x_0)),\\ldots,(x_n,f(x_n))$.\n",
    ">\n",
    "> Given in Lagrange form, we have\n",
    ">\n",
    "> $$p_n(x) = f(x_0)L_0(x) + \\cdots + f(x_n)L_n(x),$$\n",
    ">\n",
    "> where \n",
    ">\n",
    "> $$L_j(x) = \\prod_{\\substack{i=0 \\\\ i \\neq j}}^n \\frac{(x - x_i)}{(x_j - x_i)}, \\quad j = 0,\\ldots,n.$$"
   ]
  },
  {
   "cell_type": "markdown",
   "metadata": {},
   "source": [
    "---"
   ]
  },
  {
   "cell_type": "markdown",
   "metadata": {},
   "source": [
    "## Deriving the one-sided three-point approximation for $f'(x_0)$\n",
    "\n",
    "We will use the following points\n",
    "\n",
    "$$x_0, \\quad x_1 = x_0 + h, \\quad x_2 = x_0 + 2h.$$\n",
    "\n",
    "By the **Polynomial Interpolation Error Theorem** we have that\n",
    "\n",
    "$$f(x) = p_2(x) + \\frac{f^{(3)}(\\xi(x))}{3!}(x-x_0)(x-x_1)(x-x_2),$$\n",
    "\n",
    "which implies that\n",
    "\n",
    "$$\n",
    "\\begin{split}\n",
    "f'(x) &= p_2'(x) + \\frac{d}{dx}\\frac{f^{(3)}(\\xi(x))}{3!} (x-x_0)(x-x_1)(x-x_2) \\\\\n",
    "& \\quad + \\frac{f^{(3)}(\\xi(x))}{3!}\\big((x-x_1)(x-x_2) + (x-x_0)(x-x_2) + (x-x_0)(x-x_1)\\big).\n",
    "\\end{split}\n",
    "$$"
   ]
  },
  {
   "cell_type": "markdown",
   "metadata": {},
   "source": [
    "Now we just substitute $x = x_0$ to obtain\n",
    "\n",
    "$$f'(x_0) = p_2'(x_0) + \\frac{f^{(3)}(\\xi)}{3!}(x_0 - x_1)(x_0 - x_2),$$\n",
    "\n",
    "for some $\\xi \\in (x_0, x_0 + 2h)$."
   ]
  },
  {
   "cell_type": "markdown",
   "metadata": {},
   "source": [
    "### Computing $p_2'(x_0)$\n",
    "\n",
    "Note that \n",
    "\n",
    "$$p_2(x) = \n",
    "f(x_0) \\frac{(x - x_1)(x - x_2)}{(x_0 - x_1)(x_0 - x_2)} + \n",
    "f(x_1) \\frac{(x - x_0)(x - x_2)}{(x_1 - x_0)(x_1 - x_2)} + \n",
    "f(x_2) \\frac{(x - x_0)(x - x_1)}{(x_2 - x_0)(x_2 - x_1)}.$$\n",
    "\n",
    "Thus,\n",
    "\n",
    "$$p_2'(x) = \n",
    "f(x_0) \\frac{(x - x_1) + (x - x_2)}{(x_0 - x_1)(x_0 - x_2)} + \n",
    "f(x_1) \\frac{(x - x_0) + (x - x_2)}{(x_1 - x_0)(x_1 - x_2)} + \n",
    "f(x_2) \\frac{(x - x_0) + (x - x_1)}{(x_2 - x_0)(x_2 - x_1)},$$\n",
    "\n",
    "and\n",
    "\n",
    "$$p_2'(x_0) = \n",
    "f(x_0) \\frac{(x_0 - x_1) + (x_0 - x_2)}{(x_0 - x_1)(x_0 - x_2)} + \n",
    "f(x_1) \\frac{(x_0 - x_2)}{(x_1 - x_0)(x_1 - x_2)} + \n",
    "f(x_2) \\frac{(x_0 - x_1)}{(x_2 - x_0)(x_2 - x_1)}.$$"
   ]
  },
  {
   "cell_type": "markdown",
   "metadata": {},
   "source": [
    "Using the fact that $x_1 = x_0 + h$ and $x_2 = x_0 + 2h$, we can greatly simplify this as\n",
    "\n",
    "$$p_2'(x_0) = \n",
    "f(x_0) \\frac{-h -2h}{(-h)(-2h)} + \n",
    "f(x_0 + h) \\frac{-2h}{(h)(-h)} + \n",
    "f(x_0 + 2h) \\frac{-h}{(2h)(h)}.$$\n",
    "\n",
    "Therefore,\n",
    "\n",
    "$$p_2'(x_0) = - f(x_0) \\frac{3}{2h} + f(x_0 + h) \\frac{2}{h} - f(x_0 + 2h) \\frac{1}{2h},$$\n",
    "\n",
    "which gives us the familiar formula\n",
    "\n",
    "$$p_2'(x_0) = \\frac{- 3f(x_0) + 4f(x_0 + h) - f(x_0 + 2h)}{2h}.$$\n"
   ]
  },
  {
   "cell_type": "markdown",
   "metadata": {},
   "source": [
    "Thus,\n",
    "\n",
    "$$\n",
    "\\begin{split}\n",
    "f'(x_0) \n",
    "&= p_2'(x_0) + \\frac{f^{(3)}(\\xi)}{3!}(x_0 - x_1)(x_0 - x_2) \\\\\n",
    "&= \\frac{- 3f(x_0) + 4f(x_0 + h) - f(x_0 + 2h)}{2h} + \\frac{f^{(3)}(\\xi)}{3!}(-h)(-2h) \\\\\n",
    "&= \\frac{- 3f(x_0) + 4f(x_0 + h) - f(x_0 + 2h)}{2h} + \\frac{h^2}{3} f^{(3)}(\\xi). \\\\\n",
    "\\end{split}\n",
    "$$\n",
    "\n",
    "Summarizing,\n",
    "\n",
    "$$\n",
    "\\fbox{$\n",
    "{\\displaystyle\n",
    "f'(x_0) = \\frac{- 3f(x_0) + 4f(x_0 + h) - f(x_0 + 2h)}{2h} + \\frac{h^2}{3} f^{(3)}(\\xi)}, \\quad$ for some $\\xi \\in (x_0, x_0 + 2h).$}\n",
    "$$\n",
    "\n",
    "This is the same formula we obtained in Section 14.1, but this time we have a rigorous proof of the existence of $\\xi$."
   ]
  },
  {
   "cell_type": "markdown",
   "metadata": {},
   "source": [
    "---"
   ]
  },
  {
   "cell_type": "markdown",
   "metadata": {},
   "source": [
    "## Nonuniformly spaced points\n",
    "\n",
    "Suppose we would like to approximate $f'(x_0)$ using the values of $f$ at the three points:\n",
    "\n",
    "$$x_{-1} = x_0 - h_0, \\qquad x_0, \\qquad x_1 = x_0 + h_1,$$\n",
    "\n",
    "where $h_0 \\neq h_1$.\n",
    "\n",
    "You may guess that we should use the formula\n",
    "\n",
    "$$\\frac{f(x_0 + h_1) - f(x_0 - h_0)}{h_0 + h_1},$$\n",
    "\n",
    "but this turns out to be **incorrect**!"
   ]
  },
  {
   "cell_type": "markdown",
   "metadata": {},
   "source": [
    "Using polynomial interpolation, we can obtain a better approximation of $f'(x_0)$.\n",
    "\n",
    "Let $p_2(x)$ be the polynomial that interpolates $(x_{-1},f(x_{-1}))$, $(x_0, f(x_0))$, and $(x_1, f(x_1))$.\n",
    "\n",
    "Then\n",
    "\n",
    "$$p_2(x) = \n",
    "f(x_{-1}) \\frac{(x - x_0)(x - x_1)}{(x_{-1} - x_0)(x_{-1} - x_1)} + \n",
    "f(x_0) \\frac{(x - x_{-1})(x - x_1)}{(x_0 - x_{-1})(x_0 - x_1)} + \n",
    "f(x_1) \\frac{(x - x_{-1})(x - x_0)}{(x_1 - x_{-1})(x_1 - x_0)},$$\n",
    "\n",
    "so we have\n",
    "\n",
    "$$p_2'(x) = \n",
    "f(x_{-1}) \\frac{(x - x_0) + (x - x_1)}{(x_{-1} - x_0)(x_{-1} - x_1)} + \n",
    "f(x_0) \\frac{(x - x_{-1})+(x - x_1)}{(x_0 - x_{-1})(x_0 - x_1)} + \n",
    "f(x_1) \\frac{(x - x_{-1})+(x - x_0)}{(x_1 - x_{-1})(x_1 - x_0)}.$$"
   ]
  },
  {
   "cell_type": "markdown",
   "metadata": {},
   "source": [
    "Thus,\n",
    "\n",
    "$$p_2'(x_0) = \n",
    "f(x_{-1}) \\frac{x_0 - x_1}{(x_{-1} - x_0)(x_{-1} - x_1)} + \n",
    "f(x_0) \\frac{(x_0 - x_{-1})+(x_0 - x_1)}{(x_0 - x_{-1})(x_0 - x_1)} + \n",
    "f(x_1) \\frac{x_0 - x_{-1}}{(x_1 - x_{-1})(x_1 - x_0)},$$\n",
    "\n",
    "and so\n",
    "\n",
    "$$p_2'(x_0) = \n",
    "f(x_{-1}) \\frac{-h_1}{(-h_0)(-h_0-h_1)} + \n",
    "f(x_0) \\frac{h_0-h_1}{(h_0)(-h_1)} + \n",
    "f(x_1) \\frac{h_0}{(h_0+h_1)(h_1)},$$\n",
    "\n",
    "which simplifies to\n",
    "\n",
    "$$p_2'(x_0) = \n",
    "\\frac{h_1-h_0}{h_0 h_1} f(x_0)  +\n",
    "\\frac{1}{h_0+h_1}\n",
    "\\left(\n",
    "\\frac{h_0}{h_1} f(x_1) - \\frac{h_1}{h_0} f(x_{-1})\n",
    "\\right).$$\n"
   ]
  },
  {
   "cell_type": "markdown",
   "metadata": {},
   "source": [
    "The **Polynomial Interpolation Error Theorem** tells us that\n",
    "\n",
    "$$f(x) = p_2(x) + \\frac{f^{(3)}(\\xi(x))}{3!}(x-x_{-1})(x-x_0)(x-x_1),$$\n",
    "\n",
    "and so \n",
    "\n",
    "$$f'(x_0) = p_2'(x_0) + \\frac{f^{(3)}(\\xi)}{3!}(x_0 - x_{-1})(x_0 - x_1),$$\n",
    "\n",
    "for some $\\xi \\in (x_0 - h_0, x_0 + h_1)$."
   ]
  },
  {
   "cell_type": "markdown",
   "metadata": {},
   "source": [
    "Therefore,\n",
    "\n",
    "$$\n",
    "\\fbox{$\n",
    "{\\displaystyle\n",
    "f'(x_0) = \\frac{h_1-h_0}{h_0 h_1} f(x_0)  +\n",
    "\\frac{1}{h_0+h_1}\n",
    "\\left(\n",
    "\\frac{h_0}{h_1} f(x_1) - \\frac{h_1}{h_0} f(x_{-1})\n",
    "\\right)\n",
    "- \\frac{f^{(3)}(\\xi)}{6}h_0h_1,\n",
    "}\n",
    "$}\n",
    "$$\n",
    "\n",
    "for some $\\xi \\in (x_0 - h_0, x_0 + h_1)$."
   ]
  },
  {
   "cell_type": "code",
   "execution_count": 1,
   "metadata": {},
   "outputs": [
    {
     "data": {
      "text/plain": [
       "f5 (generic function with 1 method)"
      ]
     },
     "execution_count": 1,
     "metadata": {},
     "output_type": "execute_result"
    }
   ],
   "source": [
    "f(x)  = exp(x)*(                sin(3x))\n",
    "f1(x) = exp(x)*(  3cos(3x) +    sin(3x))\n",
    "f2(x) = exp(x)*(  6cos(3x) -   8sin(3x))\n",
    "f3(x) = exp(x)*(-18cos(3x) -  26sin(3x))\n",
    "f4(x) = exp(x)*(-96cos(3x) +  28sin(3x))\n",
    "f5(x) = exp(x)*(-12cos(3x) + 316sin(3x))"
   ]
  },
  {
   "cell_type": "code",
   "execution_count": 3,
   "metadata": {},
   "outputs": [
    {
     "name": "stdout",
     "output_type": "stream",
     "text": [
      "    h0     h1    approx1     error1    approx2     error2    err_est\n",
      " 5e-01  1e+00  -2.178011   5.19e+00   0.568831   2.44e+00   3.82e+00\n",
      " 5e-02  1e-01   2.757727   2.54e-01   2.973931   3.82e-02   3.82e-02\n",
      " 5e-03  1e-02   2.991888   2.03e-02   3.011779   3.82e-04   3.82e-04\n",
      " 5e-04  1e-03   3.010186   1.98e-03   3.012158   3.82e-06   3.82e-06\n",
      " 5e-05  1e-04   3.011965   1.97e-04   3.012162   3.82e-08   3.82e-08\n",
      " 5e-06  1e-05   3.012142   1.97e-05   3.012162   3.85e-10   3.82e-10\n",
      " 5e-07  1e-06   3.012160   1.97e-06   3.012162   1.09e-10   3.82e-12\n",
      " 5e-08  1e-07   3.012161   1.97e-07   3.012162   1.97e-09   3.82e-14\n",
      " 5e-09  1e-08   3.012162   9.30e-09   3.012162   1.97e-09   3.82e-16\n",
      " 5e-10  1e-09   3.012162   1.09e-07   3.012161   1.77e-07   3.82e-18\n",
      " 5e-11  1e-10   3.012162   7.01e-07   3.012161   4.15e-07   3.82e-20\n"
     ]
    }
   ],
   "source": [
    "using Printf\n",
    "\n",
    "x0 = .4\n",
    "\n",
    "@printf(\"%6s %6s %10s %10s %10s %10s %10s\\n\", \n",
    "        \"h0\", \"h1\", \"approx1\", \"error1\", \"approx2\", \"error2\", \"err_est\")\n",
    "for i = 0:10\n",
    "    h = 10.0^-i\n",
    "    h0, h1 = 0.5h, h\n",
    "    \n",
    "    # the bad approximation:\n",
    "    approx1 = (f(x0 + h1) - f(x0 - h0))/(h0+h1)\n",
    "    \n",
    "    # the good approximation:\n",
    "    approx2 = (h1-h0)/(h0*h1)*f(x0) + \n",
    "                (h0/h1*f(x0+h1) - h1/h0*f(x0-h0))/(h0+h1)\n",
    "    \n",
    "    err1 = abs(approx1 - f1(x0))\n",
    "    err2 = abs(approx2 - f1(x0))\n",
    "    err_est = abs(f3(x0))/6*h0*h1\n",
    "    @printf(\"%6.0e %6.0e %10.6f %10.2e %10.6f %10.2e %10.2e\\n\", \n",
    "            h0, h1, approx1, err1, approx2, err2, err_est)\n",
    "end"
   ]
  },
  {
   "cell_type": "markdown",
   "metadata": {},
   "source": [
    "---"
   ]
  }
 ],
 "metadata": {
  "kernelspec": {
   "display_name": "Julia 1.5.3",
   "language": "julia",
   "name": "julia-1.5"
  },
  "language_info": {
   "file_extension": ".jl",
   "mimetype": "application/julia",
   "name": "julia",
   "version": "1.5.3"
  }
 },
 "nbformat": 4,
 "nbformat_minor": 1
}
