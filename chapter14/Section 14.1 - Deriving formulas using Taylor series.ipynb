{
 "cells": [
  {
   "cell_type": "markdown",
   "metadata": {},
   "source": [
    "---\n",
    "Some useful $\\LaTeX$ commands are defined in this cell:\n",
    "$$\n",
    "\\newcommand{\\abs}[1]{\\left\\lvert#1\\right\\rvert}\n",
    "\\newcommand{\\norm}[1]{\\left\\lVert#1\\right\\rVert}\n",
    "\\newcommand{\\set}[1]{\\left\\{#1\\right\\}}\n",
    "\\newcommand{\\paren}[1]{\\left(#1\\right)}\n",
    "\\newcommand{\\brack}[1]{\\left[#1\\right]}\n",
    "\\newcommand{\\ip}[2]{\\left\\langle#1,#2\\right\\rangle}\n",
    "\\DeclareMathOperator{\\span}{span}\n",
    "\\DeclareMathOperator{\\fl}{fl}\n",
    "\\abs{x}, \\norm{x}, \\set{x}, \\paren{x}, \\brack{x}, \\ip{x}{y}, \\span, \\fl\n",
    "$$\n",
    "\n",
    "---"
   ]
  },
  {
   "cell_type": "markdown",
   "metadata": {},
   "source": [
    "---\n",
    "# 14.1 Deriving formulas using Taylor series\n",
    "---"
   ]
  },
  {
   "cell_type": "markdown",
   "metadata": {},
   "source": [
    "## A first-order method\n",
    "\n",
    "In Chapter 1, we experimented with the approximation\n",
    "\n",
    "$$ \n",
    "f'(x_0) \\approx \\frac{f(x_0 + h) - f(x_0)}{h}\n",
    "$$\n",
    "\n",
    "and saw that the **discretization error** (a.k.a. **truncation error**) satisfies\n",
    "\n",
    "$$\n",
    "\\abs{f'(x_0) - \\frac{f(x_0+h)-f(x_0)}{h}} \\approx \\frac{h}{2}\\abs{ f''(x_0) } = \\mathcal{O}(h)\n",
    "$$\n",
    "\n",
    "when $h$ is small enough and $f''(x_0) \\neq 0$. We say that this approximation is **first-order accurate**."
   ]
  },
  {
   "cell_type": "markdown",
   "metadata": {},
   "source": [
    "---"
   ]
  },
  {
   "cell_type": "markdown",
   "metadata": {},
   "source": [
    "For the numerical experiments in this section, we will use the function\n",
    "\n",
    "$$f(x) = e^x \\sin(3x).$$"
   ]
  },
  {
   "cell_type": "code",
   "execution_count": null,
   "metadata": {},
   "outputs": [],
   "source": [
    "using SymPy\n",
    "t = symbols(\"t\")\n",
    "ft = exp(t)*sin(3t)\n",
    "Sym[simplify(diff(ft, t, k)) for k=0:6]"
   ]
  },
  {
   "cell_type": "code",
   "execution_count": null,
   "metadata": {},
   "outputs": [],
   "source": [
    "f(x)  = exp(x)*(                sin(3x))\n",
    "f1(x) = exp(x)*(  3cos(3x) +    sin(3x))\n",
    "f2(x) = exp(x)*(  6cos(3x) -   8sin(3x))\n",
    "f3(x) = exp(x)*(-18cos(3x) -  26sin(3x))\n",
    "f4(x) = exp(x)*(-96cos(3x) +  28sin(3x))\n",
    "f5(x) = exp(x)*(-12cos(3x) + 316sin(3x))\n",
    "f6(x) = exp(x)*(936cos(3x) + 352sin(3x))"
   ]
  },
  {
   "cell_type": "code",
   "execution_count": null,
   "metadata": {},
   "outputs": [],
   "source": [
    "using Printf\n",
    "\n",
    "x0 = .4\n",
    "\n",
    "@printf \"%5s %14s %12s\\n\" \"h\" \"approx\" \"error\"\n",
    "for i = 0:8\n",
    "    h = 10.0^-i\n",
    "    approx = (f(x0+h) - f(x0))/h\n",
    "    err = abs(approx - f1(x0))\n",
    "    @printf \"%5.0e %14.10f %12.5e\\n\" h approx err\n",
    "end\n",
    "\n",
    "abs(f2(x0))/2"
   ]
  },
  {
   "cell_type": "markdown",
   "metadata": {},
   "source": [
    "---"
   ]
  },
  {
   "cell_type": "markdown",
   "metadata": {},
   "source": [
    "## A second-order method\n",
    "\n",
    "We also saw in Exercise 1.2 from HW1 that \n",
    "\n",
    "$$ f'(x_0) \\approx \\frac{f(x_0 + h) - f(x_0 - h)}{2h} $$\n",
    "\n",
    "and that the truncation error satisfies\n",
    "\n",
    "$$ \\abs{f'(x_0) - \\frac{f(x_0 + h) - f(x_0 - h)}{2h}} \\approx \\frac{h^2}{6}\\abs{f'''(x_0)} = \\mathcal{O}(h^2) $$\n",
    "\n",
    "when $h$ is small enough and $f'''(x_0) \\neq 0$. Thus, this approximation is **second-order accurate**."
   ]
  },
  {
   "cell_type": "code",
   "execution_count": null,
   "metadata": {},
   "outputs": [],
   "source": [
    "x0 = .4\n",
    "\n",
    "@printf \"%5s %14s %12s\\n\" \"h\" \"approx\" \"error\"\n",
    "for i = 0:8\n",
    "    h = 10.0^-i\n",
    "    approx = (f(x0+h) - f(x0-h))/(2h)\n",
    "    err = abs(approx - f1(x0))\n",
    "    @printf \"%5.0e %14.10f %12.5e\\n\" h approx err\n",
    "end\n",
    "\n",
    "abs(f3(x0))/6"
   ]
  },
  {
   "cell_type": "markdown",
   "metadata": {},
   "source": [
    "---"
   ]
  },
  {
   "cell_type": "markdown",
   "metadata": {},
   "source": [
    "## Overview\n",
    "\n",
    "In this section, we will use the **Taylor series** of $f(x)$ derive these and other formulas to approximate the first and second derivatives of a function $f(x)$.\n",
    "\n",
    "These approximations will use the value of $f(x)$ at evenly-spaced points:\n",
    "\n",
    "$$\\ldots, \\quad x_0 - 2h, \\quad x_0 - h, \\quad x_0, \\quad x_0 + h, \\quad x_0 + 2h, \\quad \\ldots$$\n",
    "\n"
   ]
  },
  {
   "cell_type": "markdown",
   "metadata": {},
   "source": [
    "## Recall:\n",
    "\n",
    "> ## Theorem: (Taylor Series)\n",
    ">\n",
    "> If $f$ is a function that is $(k+1)$-differentiable on an interval containing $x_0$ and $x_0 + h$, then\n",
    ">\n",
    "> $$\n",
    "f(x_0 + h) = f(x_0) + h f'(x_0) + \\frac{h^2}{2} f''(x_0) + \\cdots + \\frac{h^k}{k!} f^{(k)}(x_0) + \\frac{h^{k+1}}{(k+1)!} f^{(k+1)}(\\xi),\n",
    "$$\n",
    ">\n",
    "> for some $\\xi \\in (x_0, x_0 + h)$."
   ]
  },
  {
   "cell_type": "markdown",
   "metadata": {},
   "source": [
    "---\n",
    "\n",
    "## Two-point formulas\n",
    "\n",
    "---"
   ]
  },
  {
   "cell_type": "markdown",
   "metadata": {},
   "source": [
    "### Forward difference approximation for $f'(x_0)$\n",
    "\n",
    "Let $f$ be twice-differentiable on an interval containing $x_0$ and $x_0 + h$. From the Taylor series, we have\n",
    "\n",
    "$$f(x_0 + h) = f(x_0) + hf'(x_0) + \\frac{h^2}{2}f''(\\xi), \\quad \\text{for some $\\xi \\in (x_0,x_0+h).$}$$\n",
    "\n",
    "Solving for $f'(x_0)$, we obtain\n",
    "\n",
    "$$f'(x_0) = \\frac{f(x_0+h) - f(x_0)}{h} - \\frac{h}{2}f''(\\xi).$$\n",
    "\n",
    "Thus, the **forward** difference formula \n",
    "\n",
    "$$\\fbox{${\\displaystyle\\frac{f(x_0+h) - f(x_0)}{h}}$}$$\n",
    "\n",
    "gives a first order (i.e., $\\mathcal{O}(h)$) approximation of $f'(x_0)$:\n",
    "\n",
    "$$\\abs{f'(x_0) - \\frac{f(x_0+h) - f(x_0)}{h}} = \\frac{h}{2}\\abs{f''(\\xi)}, \\quad \\text{for some $\\xi \\in (x_0,x_0+h).$}$$"
   ]
  },
  {
   "cell_type": "markdown",
   "metadata": {},
   "source": [
    "### Exercise: Backward difference approximation for $f'(x_0)$\n",
    "\n",
    "Let $f$ be twice-differentiable on an interval containing $x_0$ and $x_0-h$. From the Taylor series, we have\n",
    "\n",
    "$$f(x_0 - h) = f(x_0) - hf'(x_0) + \\frac{h^2}{2}f''(\\xi), \\quad \\text{for some $\\xi \\in (x_0-h,x_0).$}$$\n",
    "\n",
    "Use this Taylor series to obtain the **backward** difference approximation of $f'(x_0)$. Show that this approximation is also first order."
   ]
  },
  {
   "cell_type": "markdown",
   "metadata": {},
   "source": [
    "$$\n",
    "\\abs{f'(x_0) - \\frac{f(x_0) - f(x_0 - h)}{h}} = \\frac{h}{2}\\abs{f''(\\xi)}\n",
    "$$"
   ]
  },
  {
   "cell_type": "markdown",
   "metadata": {},
   "source": [
    "Thus, the **backward** difference formula is\n",
    "\n",
    "$$\\fbox{${\\displaystyle\\frac{f(x_0) - f(x_0 - h)}{h}}.$}$$"
   ]
  },
  {
   "cell_type": "code",
   "execution_count": null,
   "metadata": {},
   "outputs": [],
   "source": [
    "using Printf\n",
    "\n",
    "x0 = .4\n",
    "\n",
    "@printf \"%5s %14s %12s\\n\" \"h\" \"approx\" \"error\"\n",
    "for i = 0:8\n",
    "    h = 10.0^-i\n",
    "    approx = (f(x0) - f(x0 - h))/h\n",
    "    err = abs(approx - f1(x0))\n",
    "    @printf \"%5.0e %14.10f %12.5e\\n\" h approx err\n",
    "end\n",
    "\n",
    "abs(f2(x0))/2"
   ]
  },
  {
   "cell_type": "markdown",
   "metadata": {},
   "source": [
    "---\n",
    "\n",
    "## Three-point formulas\n",
    "\n",
    "---"
   ]
  },
  {
   "cell_type": "markdown",
   "metadata": {},
   "source": [
    "### Centered difference approximation for $f'(x_0)$\n",
    "\n",
    "Let $f$ be thrice-*continuously*-differentiable on an interval containing $x_0-h$ and $x_0+h$. From the Taylor series, we have\n",
    "\n",
    "$$\n",
    "\\begin{align}\n",
    "f(x_0 + h) &= f(x_0) + hf'(x_0) + \\frac{h^2}{2}f''(x_0) + \\frac{h^3}{6}f'''(\\xi_1), \\quad \\text{for some $\\xi_1 \\in (x_0,x_0+h),$} \\\\\n",
    "f(x_0 - h) &= f(x_0) - hf'(x_0) + \\frac{h^2}{2}f''(x_0) - \\frac{h^3}{6}f'''(\\xi_2), \\quad \\text{for some $\\xi_2 \\in (x_0-h,x_0).$}\\\\\n",
    "\\end{align}\n",
    "$$\n",
    "\n",
    "Subtracting the second from the first, we get\n",
    "\n",
    "$$f(x_0 + h) - f(x_0 - h) = 2hf'(x_0) + \\frac{h^3}{6}\\paren{f'''(\\xi_1) + f'''(\\xi_2)}.$$"
   ]
  },
  {
   "cell_type": "markdown",
   "metadata": {},
   "source": [
    "Since $f'''$ is continous, the Intermediate Value Theorem tells us that there exists $\\xi$ strictly between $\\xi_1$ and $\\xi_2$ such that\n",
    "\n",
    "$$f'''(\\xi) = \\frac12\\paren{f'''(\\xi_1) + f'''(\\xi_2)}.$$\n",
    "\n",
    "Therefore, we have\n",
    "\n",
    "$$f(x_0 + h) - f(x_0 - h) = 2hf'(x_0) + \\frac{h^3}{3}f'''(\\xi),$$\n",
    "\n",
    "and solving for $f'(x_0)$ gives us\n",
    "\n",
    "$$f'(x_0) = \\frac{f(x_0 + h) - f(x_0 - h)}{2h} - \\frac{h^2}{6}f'''(\\xi).$$"
   ]
  },
  {
   "cell_type": "markdown",
   "metadata": {},
   "source": [
    "Thus, the **centered** difference formula\n",
    "\n",
    "$$\\fbox{${\\displaystyle \\frac{f(x_0 + h) - f(x_0 - h)}{2h}}$}$$\n",
    "\n",
    "gives a second order (i.e., $\\mathcal{O}(h^2)$) approximation of $f'(x_0)$:\n",
    "\n",
    "$$\\abs{f'(x_0) -  \\frac{f(x_0 + h) - f(x_0 - h)}{2h}} = \\frac{h^2}{6}\\abs{f'''(\\xi)}, \\quad \\text{for some $\\xi \\in (x_0-h,x_0+h).$}$$"
   ]
  },
  {
   "cell_type": "markdown",
   "metadata": {},
   "source": [
    "---"
   ]
  },
  {
   "cell_type": "markdown",
   "metadata": {},
   "source": [
    "### One-sided three-point approximation for $f'(x_0)$\n",
    "\n",
    "Let $f$ be four-times differentiable on an interval containing $x_0$ and $x_0 + 2h$. From the Taylor series, we have\n",
    "\n",
    "$$\n",
    "\\begin{align}\n",
    "f(x_0 + h) &= f(x_0) + hf'(x_0) + \\frac{h^2}{2}f''(x_0) + \\frac{h^3}{6}f'''(x_0) + \\mathcal{O}(h^4), \\\\\n",
    "f(x_0 + 2h) &= f(x_0) + 2hf'(x_0) + 2h^2f''(x_0) + \\frac{4h^3}{3}f'''(x_0) + \\mathcal{O}(h^4). \\\\\n",
    "\\end{align}\n",
    "$$"
   ]
  },
  {
   "cell_type": "markdown",
   "metadata": {},
   "source": [
    "Let's take $y_1$ times the first equation *plus* $y_2$ times the second equation:\n",
    "\n",
    "$$\n",
    "y_1 f(x_0 + h) + y_2 f(x_0 + 2h) = \\\\ \n",
    "(y_1 + y_2) f(x_0)  \\\\\n",
    "+ (y_1 + 2y_2)hf'(x_0) \\\\\n",
    "+\\paren{\\frac{1}{2}y_1 + 2y_2} h^2f''(x_0) \\\\\n",
    "+\\paren{\\frac{1}{6}y_1 + \\frac{4}{3} y_2} h^3f'''(x_0) +\\mathcal{O}(h^4).\n",
    "$$"
   ]
  },
  {
   "cell_type": "markdown",
   "metadata": {},
   "source": [
    "To keep the $f'(x_0)$ term and delete the $f''(x_0)$ term, we choose $y_1$ and $y_2$ such that\n",
    "\n",
    "$$\n",
    "\\begin{align}\n",
    "y_1 + 2 y_2 &= 1, \\\\\n",
    "\\frac{1}{2} y_1 + 2y_2 &= 0.\\\\\n",
    "\\end{align}\n",
    "$$\n",
    "\n",
    "Thus, we just need to solve the linear system\n",
    "\n",
    "$$\n",
    "\\begin{bmatrix}\n",
    "1 & 2 \\\\\n",
    "\\frac12 & 2 \\\\\n",
    "\\end{bmatrix}\n",
    "\\begin{bmatrix}\n",
    "y_1 \\\\\n",
    "y_2 \\\\\n",
    "\\end{bmatrix}\n",
    "=\n",
    "\\begin{bmatrix}\n",
    "1 \\\\\n",
    "0 \\\\\n",
    "\\end{bmatrix}.\n",
    "A$$"
   ]
  },
  {
   "cell_type": "code",
   "execution_count": null,
   "metadata": {},
   "outputs": [],
   "source": [
    "A = [\n",
    "    1     2\n",
    "    1//2  2\n",
    "]\n",
    "b = [1, 0]\n",
    "\n",
    "y1, y2 = A\\b"
   ]
  },
  {
   "cell_type": "code",
   "execution_count": null,
   "metadata": {},
   "outputs": [],
   "source": [
    "y1 + y2"
   ]
  },
  {
   "cell_type": "code",
   "execution_count": null,
   "metadata": {},
   "outputs": [],
   "source": [
    "y1/6 + 4//3*y2"
   ]
  },
  {
   "cell_type": "markdown",
   "metadata": {},
   "source": [
    "Therefore, $y_1 = 2$ and $y_2 = -\\frac12$. Thus,\n",
    "\n",
    "$$\n",
    "2 f(x_0 + h) -\\frac12 f(x_0 + 2h) \n",
    "= \\frac32 f(x_0) + hf'(x_0) -\\frac{h^3}{3}f'''(x_0) + \\mathcal{O}(h^4).\n",
    "$$\n",
    "\n",
    "Then multiplying both sides by 2, we get\n",
    "\n",
    "$$\n",
    "4 f(x_0 + h) - f(x_0 + 2h) \n",
    "= 3 f(x_0) + 2hf'(x_0) -\\frac{2h^3}{3}f'''(x_0) + \\mathcal{O}(h^4).\n",
    "$$\n",
    "\n",
    "\n",
    "\n",
    "Solving for $f'(x_0)$, we obtain\n",
    "\n",
    "$$ f'(x_0) =  \\frac{- 3f(x_0) + 4f(x_0 + h) - f(x_0 + 2h)}{2h} + \\frac{h^2}{3} f'''(x_0) + \\mathcal{O}(h^3). $$"
   ]
  },
  {
   "cell_type": "markdown",
   "metadata": {},
   "source": [
    "Thus, the **one-sided three-point** difference formula\n",
    "\n",
    "$$\\fbox{${\\displaystyle \\frac{- 3f(x_0) + 4f(x_0 + h) - f(x_0 + 2h)}{2h}}$}$$\n",
    "\n",
    "gives a second order (i.e., $\\mathcal{O}(h^2)$) approximation of $f'(x_0)$:\n",
    "\n",
    "$$\\abs{f'(x_0) -  \\frac{- 3f(x_0) + 4f(x_0 + h) - f(x_0 + 2h)}{2h}} \\leq \\frac{h^2}{3}\\abs{f'''(x_0)} + \\mathcal{O}(h^3).$$"
   ]
  },
  {
   "cell_type": "code",
   "execution_count": null,
   "metadata": {},
   "outputs": [],
   "source": [
    "x0 = .4\n",
    "\n",
    "@printf \"%5s %14s %12s\\n\" \"h\" \"approx\" \"error\"\n",
    "for i = 0:10\n",
    "    h = 10.0^-i\n",
    "    approx = (-3f(x0) + 4f(x0 + h) - f(x0 + 2h))/(2h)\n",
    "    err = abs(approx - f1(x0))\n",
    "    @printf \"%5.0e %14.10f %12.5e\\n\" h approx err\n",
    "end\n",
    "\n",
    "abs(f3(x0))/3"
   ]
  },
  {
   "cell_type": "markdown",
   "metadata": {},
   "source": [
    "### Note:\n",
    "\n",
    "It can be shown using a more complicated argument that if $f$ is thrice-continuously-differentiable on an interval containing $x_0$ and $x_0 + 2h$, then\n",
    "\n",
    "$$\\abs{f'(x_0) -  \\frac{- 3f(x_0) + 4f(x_0 + h) - f(x_0 + 2h)}{2h}} = \\frac{h^2}{3}\\abs{f'''(\\xi)}, \\quad \\text{for some $\\xi \\in (x_0,x_0+2h).$}$$"
   ]
  },
  {
   "cell_type": "markdown",
   "metadata": {},
   "source": [
    "---"
   ]
  },
  {
   "cell_type": "markdown",
   "metadata": {},
   "source": [
    "### Centered three-point approximation for $f''(x_0)$\n",
    "\n",
    "Let $f$ be four-times continuously-differentiable on an interval containing $x_0 - h$ and $x_0 + h$. From the Taylor series, we have\n",
    "\n",
    "$$\n",
    "\\begin{align}\n",
    "f(x_0 + h) &= f(x_0) + hf'(x_0) + \\frac{h^2}{2}f''(x_0) + \\frac{h^3}{6}f'''(x_0) + \\frac{h^4}{24} f^{(iv)}(\\xi_1), \\quad \\text{for some $\\xi_1 \\in (x_0,x_0+h),$} \\\\\n",
    "f(x_0 - h) &= f(x_0) - hf'(x_0) + \\frac{h^2}{2}f''(x_0) - \\frac{h^3}{6}f'''(x_0) + \\frac{h^4}{24} f^{(iv)}(\\xi_2), \\quad \\text{for some $\\xi_2 \\in (x_0-h,x_0).$}\\\\\n",
    "\\end{align}\n",
    "$$\n",
    "\n",
    "This time we add the Taylor expansions to obtain\n",
    "\n",
    "$$\n",
    "f(x_0 + h) + f(x_0 - h) = 2f(x_0) + h^2f''(x_0) + \\frac{h^4}{24} \\left( f^{(iv)}(\\xi_1) + f^{(iv)}(\\xi_2) \\right)\n",
    "$$"
   ]
  },
  {
   "cell_type": "markdown",
   "metadata": {},
   "source": [
    "Since $f^{(iv)}$ is continous, the Intermediate Value Theorem tells us that there exists $\\xi$ strictly between $\\xi_1$ and $\\xi_2$ such that\n",
    "\n",
    "$$f^{(iv)}(\\xi) = \\frac12\\paren{f^{(iv)}(\\xi_1) + f^{(iv)}(\\xi_2)}.$$\n",
    "\n",
    "Therefore, we have\n",
    "\n",
    "$$\n",
    "f(x_0 + h) + f(x_0 - h) = 2f(x_0) + h^2f''(x_0) + \\frac{h^4}{12} f^{(iv)}(\\xi),\n",
    "$$\n",
    "\n",
    "and solving for $f''(x_0)$ gives us\n",
    "\n",
    "$$f''(x_0) = \\frac{f(x_0 - h) - 2f(x_0) + f(x_0 + h)}{h^2} - \\frac{h^2}{12}f^{(iv)}(\\xi).$$"
   ]
  },
  {
   "cell_type": "markdown",
   "metadata": {},
   "source": [
    "Thus, the **centered** difference formula\n",
    "\n",
    "$$\\fbox{${\\displaystyle \\frac{f(x_0 - h) - 2f(x_0) + f(x_0 + h)}{h^2}}$}$$\n",
    "\n",
    "gives a second order (i.e., $\\mathcal{O}(h^2)$) approximation of $f''(x_0)$:\n",
    "\n",
    "$$\\abs{f''(x_0) -  \\frac{f(x_0 - h) - 2f(x_0) + f(x_0 + h)}{h^2}} = \\frac{h^2}{12}\\abs{f^{(iv)}(\\xi)}, \\quad \\text{for some $\\xi \\in (x_0-h,x_0+h).$}$$"
   ]
  },
  {
   "cell_type": "code",
   "execution_count": null,
   "metadata": {},
   "outputs": [],
   "source": [
    "x0 = .4\n",
    "\n",
    "@printf \"%5s %14s %12s\\n\" \"h\" \"approx\" \"error\"\n",
    "for i = 0:8\n",
    "    h = 10.0^-i\n",
    "    approx = (f(x0 - h) - 2f(x0) + f(x0 + h))/h^2\n",
    "    err = abs(approx - f2(x0))\n",
    "    @printf \"%5.0e %14.10f %12.5e\\n\" h approx err\n",
    "end\n",
    "\n",
    "abs(f4(x0))/12"
   ]
  },
  {
   "cell_type": "markdown",
   "metadata": {},
   "source": [
    "---\n",
    "\n",
    "## Five-point formulas\n",
    "\n",
    "---"
   ]
  },
  {
   "cell_type": "markdown",
   "metadata": {},
   "source": [
    "### Centered five-point approximation for $f'(x_0)$\n",
    "\n",
    "Let $f$ be seven-times differentiable on an interval containing $x_0-2h$ and $x_0 + 2h$. From the Taylor series, we have\n",
    "\n",
    "$$\n",
    "\\begin{align}\n",
    "f(x_0 + h) &= k_0 + hk_1 + h^2k_2 + h^3k_3 + h^4k_4 + h^5k_5 + h^6k_6 + \\mathcal{O}(h^7), \\\\ \n",
    "f(x_0 - h) &= k_0 - hk_1 + h^2k_2 - h^3k_3 + h^4k_4 - h^5k_5 + h^6k_6 + \\mathcal{O}(h^7), \\\\\n",
    "f(x_0 + 2h) &= k_0 + 2hk_1 + 4h^2k_2 + 8h^3k_3 + 16h^4k_4 + 32h^5k_5 + 64h^6k_6 + \\mathcal{O}(h^7), \\\\ \n",
    "f(x_0 - 2h) &= k_0 - 2hk_1 + 4h^2k_2 - 8h^3k_3 + 16h^4k_4 - 32h^5k_5 + 64h^6k_6 + \\mathcal{O}(h^7), \\\\\n",
    "\\end{align}\n",
    "$$\n",
    "\n",
    "where $k_n = \\frac{f^{(n)}(x_0)}{n!}$, for $n = 0,\\ldots,6$."
   ]
  },
  {
   "cell_type": "markdown",
   "metadata": {},
   "source": [
    "We multiple the above equations respectively by $y_1, y_2, y_3, y_4$ and add them to obtain\n",
    "\n",
    "$$\n",
    "y_1f(x_0 + h) + y_2f(x_0 - h) + y_3f(x_0 - 2h) + y_4f(x_0 + 2h) = \\\\\n",
    "(y_1 + y_2 + y_3 + y_4)k_0 \\\\\n",
    "+ (y_1 - y_2 + 2y_3 - 2y_4)hk_1 \\\\\n",
    "+ (y_1 + y_2 + 4y_3 + 4y_4)h^2k_2 \\\\\n",
    "+ (y_1 - y_2 + 8y_3 - 8y_4)h^3k_3 \\\\\n",
    "+ (y_1 + y_2 + 16y_3 + 16y_4)h^4k_4 \\\\\n",
    "+ (y_1 - y_2 + 32y_3 - 32y_4)h^5k_5 \\\\\n",
    "+ (y_1 + y_2 + 64y_3 + 64y_4)h^6k_6 + \\mathcal{O}(h^7).\n",
    "$$"
   ]
  },
  {
   "cell_type": "markdown",
   "metadata": {},
   "source": [
    "We can specify four conditions to solve for $y_1, y_2, y_3, y_4$. We want to keep the $f'(x_0)$ term, and get the highest accuracy possible. Thus, we want\n",
    "\n",
    "$$\n",
    "\\begin{align}\n",
    "y_1 - y_2 + 2 y_3 - 2y_4 &= 12,\\\\\n",
    "y_1 + y_2 + 4y_3 + 4y_4 &= 0,\\\\\n",
    "y_1 - y_2 + 8 y_3 - 8y_4 &= 0,\\\\\n",
    "y_1 + y_2 + 16y_3 + 16y_4 &= 0.\\\\\n",
    "\\end{align}\n",
    "$$"
   ]
  },
  {
   "cell_type": "code",
   "execution_count": null,
   "metadata": {},
   "outputs": [],
   "source": [
    "y = [1 -1 2 -2; 1 1 4 4; 1 -1 8 -8; 1 1 16 16//1]\\[1,0,0,0]"
   ]
  },
  {
   "cell_type": "code",
   "execution_count": null,
   "metadata": {},
   "outputs": [],
   "source": [
    "y = [1 -1 2 -2; 1 1 4 4; 1 -1 8 -8; 1 1 16 16//1]\\[12,0,0,0]"
   ]
  },
  {
   "cell_type": "code",
   "execution_count": null,
   "metadata": {},
   "outputs": [],
   "source": [
    "y[1] + y[2] + y[3] + y[4]"
   ]
  },
  {
   "cell_type": "code",
   "execution_count": null,
   "metadata": {},
   "outputs": [],
   "source": [
    "y[1] - y[2] + 32y[3] -32y[4]"
   ]
  },
  {
   "cell_type": "code",
   "execution_count": null,
   "metadata": {},
   "outputs": [],
   "source": [
    "y[1] + y[2] + 64y[3] + 64y[4]"
   ]
  },
  {
   "cell_type": "markdown",
   "metadata": {},
   "source": [
    "Thus, we have\n",
    "\n",
    "$$\n",
    "8f(x_0 + h) - 8f(x_0 - h) - f(x_0 - 2h) + f(x_0 + 2h) = \\\\\n",
    "12hf'(x_0) - 48h^5\\frac{f^{(v)}(x_0)}{120} + \\mathcal{O}(h^7).\n",
    "$$"
   ]
  },
  {
   "cell_type": "markdown",
   "metadata": {},
   "source": [
    "Solving for $f'(x_0)$, we obtain:\n",
    "\n",
    "$$\n",
    "f'(x_0) =  \\frac{f(x_0 - 2h) - 8f(x_0 - h)  + 8f(x_0 + h) - f(x_0 + 2h)}{12h} \\\\\n",
    "+ \\frac{h^4}{30} f^{(v)}(x_0) + \\mathcal{O}(h^6)\n",
    "$$"
   ]
  },
  {
   "cell_type": "markdown",
   "metadata": {},
   "source": [
    "Thus, the **centered five-point** difference formula\n",
    "\n",
    "$$\\fbox{${\\displaystyle \\frac{f(x_0 - 2h) - 8f(x_0 - h)  + 8f(x_0 + h) - f(x_0 + 2h)}{12h}}$}$$\n",
    "\n",
    "gives a fourth order (i.e., $\\mathcal{O}(h^4)$) approximation of $f'(x_0)$:\n",
    "\n",
    "$$\\abs{f'(x_0) -  \\frac{f(x_0 - 2h) - 8f(x_0 - h)  + 8f(x_0 + h) - f(x_0 + 2h)}{12h}} \\\\\n",
    "\\leq \\frac{h^4}{30}\\abs{f^{(v)}(x_0)} + \\mathcal{O}(h^6).$$"
   ]
  },
  {
   "cell_type": "code",
   "execution_count": null,
   "metadata": {},
   "outputs": [],
   "source": [
    "#x0 = 0.4\n",
    "x0 = big\".4\"\n",
    "\n",
    "@printf \"%5s %14s %12s\\n\" \"h\" \"approx\" \"error\"\n",
    "for i = 0:20\n",
    "#    h = 10.0^-i\n",
    "    h = BigFloat(\"10.0\")^-i\n",
    "    approx = (f(x0 - 2h) - 8f(x0 - h) + 8f(x0 + h) - f(x0 + 2h))/(12h)\n",
    "    err = abs(approx - f1(x0))\n",
    "    @printf \"%5.0e %14.10f %12.5e\\n\" h approx err\n",
    "end\n",
    "\n",
    "abs(f5(x0))/30"
   ]
  },
  {
   "cell_type": "markdown",
   "metadata": {},
   "source": [
    "### Note:\n",
    "\n",
    "It can be shown using a more complicated argument that if $f$ is five-times-continuously-differentiable on an interval containing $x_0-2h$ and $x_0 + 2h$, then\n",
    "\n",
    "$$\\abs{f'(x_0) -  \\frac{f(x_0 - 2h) - 8f(x_0 - h)  + 8f(x_0 + h) - f(x_0 + 2h)}{12h}} = \\frac{h^4}{30}\\abs{f^{(v)}(\\xi)}, \\quad \\text{for some $\\xi \\in (x_0-2h,x_0+2h).$}$$"
   ]
  },
  {
   "cell_type": "markdown",
   "metadata": {},
   "source": [
    "---"
   ]
  },
  {
   "cell_type": "markdown",
   "metadata": {},
   "source": [
    "### Exercise:\n",
    "\n",
    "Derive a difference formula for the **fourth** derivative of $f$ at $x_0$ using Taylor's expansions at $x_0 \\pm h$ and $x_0 \\pm 2h$. How many points will be used in total and what is the expected order of the resulting formula?"
   ]
  },
  {
   "cell_type": "markdown",
   "metadata": {},
   "source": [
    "Recall that\n",
    "\n",
    "$$\n",
    "\\begin{align}\n",
    "f(x_0 + h) &= k_0 + hk_1 + h^2k_2 + h^3k_3 + h^4k_4 + h^5k_5 + h^6k_6 + h^7k_7 + \\mathcal{O}(h^8), \\\\ \n",
    "f(x_0 - h) &= k_0 - hk_1 + h^2k_2 - h^3k_3 + h^4k_4 - h^5k_5 + h^6k_6 - h^7k_7 + \\mathcal{O}(h^8), \\\\\n",
    "f(x_0 + 2h) &= k_0 + 2hk_1 + 4h^2k_2 + 8h^3k_3 + 16h^4k_4 + 32h^5k_5 + 64h^6k_6 + 128h^7k_7 + \\mathcal{O}(h^8), \\\\ \n",
    "f(x_0 - 2h) &= k_0 - 2hk_1 + 4h^2k_2 - 8h^3k_3 + 16h^4k_4 - 32h^5k_5 + 64h^6k_6 - 128h^7k_7 + \\mathcal{O}(h^8), \\\\\n",
    "\\end{align}\n",
    "$$\n",
    "\n",
    "where $k_n = \\frac{f^{(n)}(x_0)}{n!}$, for $n = 0,\\ldots,6$."
   ]
  },
  {
   "cell_type": "markdown",
   "metadata": {},
   "source": [
    "We can specify four conditions to solve for $y_1, y_2, y_3, y_4$. We want to keep the $f^{(4)}(x_0)$ term, and get the highest accuracy possible. Thus, we want\n",
    "\n",
    "$$\n",
    "\\begin{align}\n",
    "y_1 - y_2 + 2 y_3 - 2y_4 &= 0,\\\\\n",
    "y_1 + y_2 + 4y_3 + 4y_4 &= 0,\\\\\n",
    "y_1 - y_2 + 8 y_3 - 8y_4 &= 0,\\\\\n",
    "y_1 + y_2 + 16y_3 + 16y_4 &= 24.\\\\\n",
    "\\end{align}\n",
    "$$"
   ]
  },
  {
   "cell_type": "code",
   "execution_count": null,
   "metadata": {},
   "outputs": [],
   "source": [
    "y = [1 -1 2 -2; 1 1 4 4; 1 -1 8 -8; 1 1 16 16//1]\\[0,0,0,1]"
   ]
  },
  {
   "cell_type": "code",
   "execution_count": null,
   "metadata": {},
   "outputs": [],
   "source": [
    "y = [1 -1 2 -2; 1 1 4 4; 1 -1 8 -8; 1 1 16 16//1]\\[0,0,0,24]"
   ]
  },
  {
   "cell_type": "code",
   "execution_count": null,
   "metadata": {},
   "outputs": [],
   "source": [
    "sum(y)"
   ]
  },
  {
   "cell_type": "code",
   "execution_count": null,
   "metadata": {},
   "outputs": [],
   "source": [
    "using LinearAlgebra\n",
    "\n",
    "dot([1, -1, -32, 32], y)"
   ]
  },
  {
   "cell_type": "code",
   "execution_count": null,
   "metadata": {},
   "outputs": [],
   "source": [
    "dot([1, 1, 64, 64], y)"
   ]
  },
  {
   "cell_type": "code",
   "execution_count": null,
   "metadata": {},
   "outputs": [],
   "source": [
    "dot([1, -1, 128, -128], y)"
   ]
  },
  {
   "cell_type": "markdown",
   "metadata": {},
   "source": [
    "$$\n",
    "-4f(x_0 + h) - 4f(x_0 - h) + f(x_0 - 2h) + f(x_0 + 2h) = -6k_0 + 24h^4k_4\n",
    "+ 120h^6k_6 + \\mathcal{O}(h^8).\n",
    "$$"
   ]
  },
  {
   "cell_type": "markdown",
   "metadata": {},
   "source": [
    "$$\n",
    "-4f(x_0 + h) - 4f(x_0 - h) + f(x_0 - 2h) + f(x_0 + 2h) = -6f(x_0) + 24\\frac{h^4}{24}f''''(x_0)\n",
    "+ 120\\frac{h^6}{720}f^{(vi)}(x_0) + \\mathcal{O}(h^8).\n",
    "$$"
   ]
  },
  {
   "cell_type": "markdown",
   "metadata": {},
   "source": [
    "$$\n",
    "-4f(x_0 + h) - 4f(x_0 - h) + f(x_0 - 2h) + f(x_0 + 2h) = -6f(x_0) + h^4f''''(x_0)\n",
    "+ \\frac{h^6}{6}f^{(vi)}(x_0) + \\mathcal{O}(h^8).\n",
    "$$"
   ]
  },
  {
   "cell_type": "markdown",
   "metadata": {},
   "source": [
    "### Solution:\n",
    "\n",
    "$$\n",
    "f''''(x_0) =  \\frac{f(x_0 - 2h) - 4f(x_0 - h) + 6f(x_0) - 4f(x_0 + h) + f(x_0 + 2h)}{h^4} \\\\\n",
    "- \\frac{h^2}{6} f^{(vi)}(x_0) + \\mathcal{O}(h^4)\n",
    "$$"
   ]
  },
  {
   "cell_type": "markdown",
   "metadata": {},
   "source": [
    "Thus, the **centered five-point** difference formula\n",
    "\n",
    "$$\\fbox{${\\displaystyle \\frac{f(x_0 - 2h) - 4f(x_0 - h) + 6f(x_0) - 4f(x_0 + h) + f(x_0 + 2h)}{h^4}}$}$$\n",
    "\n",
    "gives a second-order (i.e., $\\mathcal{O}(h^2)$) approximation of $f''''(x_0)$:\n",
    "\n",
    "$$\\abs{f''''(x_0) -  \\frac{f(x_0 - 2h) - 4f(x_0 - h) + 6f(x_0) - 4f(x_0 + h) + f(x_0 + 2h)}{h^4}} \\\\\n",
    "\\leq \\frac{h^2}{6}\\abs{f^{(vi)}(x_0)} + \\mathcal{O}(h^4).$$"
   ]
  },
  {
   "cell_type": "code",
   "execution_count": null,
   "metadata": {},
   "outputs": [],
   "source": [
    "x0 = big\".4\"\n",
    "\n",
    "@printf \"%5s %14s %12s\\n\" \"h\" \"approx\" \"error\"\n",
    "for i = 0:8\n",
    "    h = big\"10.0\"^-i\n",
    "    approx = (f(x0 - 2h) - 4f(x0 - h) + 6f(x0) - 4f(x0 + h) + f(x0 + 2h))/h^4\n",
    "    err = abs(approx - f4(x0))\n",
    "    @printf \"%5.0e %14.10f %12.5e\\n\" h approx err\n",
    "end\n",
    "\n",
    "abs(f6(x0))/6"
   ]
  },
  {
   "cell_type": "markdown",
   "metadata": {},
   "source": [
    "---"
   ]
  }
 ],
 "metadata": {
  "@webio": {
   "lastCommId": null,
   "lastKernelId": null
  },
  "kernelspec": {
   "display_name": "Julia 1.5.3",
   "language": "julia",
   "name": "julia-1.5"
  },
  "language_info": {
   "file_extension": ".jl",
   "mimetype": "application/julia",
   "name": "julia",
   "version": "1.5.3"
  }
 },
 "nbformat": 4,
 "nbformat_minor": 1
}
