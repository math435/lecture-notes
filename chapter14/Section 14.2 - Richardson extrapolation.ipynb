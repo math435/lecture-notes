{
 "cells": [
  {
   "cell_type": "markdown",
   "metadata": {},
   "source": [
    "---\n",
    "Some useful $\\LaTeX$ commands are defined in this cell:\n",
    "$$\n",
    "\\newcommand{\\abs}[1]{\\left\\lvert#1\\right\\rvert}\n",
    "\\newcommand{\\norm}[1]{\\left\\lVert#1\\right\\rVert}\n",
    "\\newcommand{\\set}[1]{\\left\\{#1\\right\\}}\n",
    "\\newcommand{\\paren}[1]{\\left(#1\\right)}\n",
    "\\newcommand{\\brack}[1]{\\left[#1\\right]}\n",
    "\\newcommand{\\ip}[2]{\\left\\langle#1,#2\\right\\rangle}\n",
    "\\DeclareMathOperator{\\span}{span}\n",
    "\\DeclareMathOperator{\\fl}{fl}\n",
    "\\abs{x}, \\norm{x}, \\set{x}, \\paren{x}, \\brack{x}, \\ip{x}{y}, \\span, \\fl\n",
    "$$\n",
    "\n",
    "---"
   ]
  },
  {
   "cell_type": "code",
   "execution_count": null,
   "metadata": {},
   "outputs": [],
   "source": [
    "using Printf\n",
    "\n",
    "f(x)  = exp(x)*(                sin(3x))\n",
    "f1(x) = exp(x)*(  3cos(3x) +    sin(3x))\n",
    "f2(x) = exp(x)*(  6cos(3x) -   8sin(3x))\n",
    "f3(x) = exp(x)*(-18cos(3x) -  26sin(3x))\n",
    "f4(x) = exp(x)*(-96cos(3x) +  28sin(3x))\n",
    "f5(x) = exp(x)*(-12cos(3x) + 316sin(3x))\n",
    "f6(x) = exp(x)*(936cos(3x) + 352sin(3x))"
   ]
  },
  {
   "cell_type": "markdown",
   "metadata": {},
   "source": [
    "---\n",
    "# 14.2 Richardson extrapolation\n",
    "---"
   ]
  },
  {
   "cell_type": "markdown",
   "metadata": {},
   "source": [
    "**Richardson extrapolation** is a simple technique for generating higher order numerical methods from lower order methods.\n",
    "\n",
    "For example, let's look at our **first-order accurate** method for approximating $f'(x_0)$. Letting\n",
    "\n",
    "$$\n",
    "S(h) = \\frac{f(x_0+h)-f(x_0)}{h},\n",
    "\\quad\n",
    "C = -\\frac{f''(x_0)}{2},\n",
    "\\quad\\text{and}\\quad\n",
    "D = -\\frac{f'''(x_0)}{6},\n",
    "$$\n",
    "\n",
    "we have\n",
    "\n",
    "$$\n",
    "f'(x_0) - S(h) = Ch + Dh^2 + \\mathcal{O}(h^3).\n",
    "$$"
   ]
  },
  {
   "cell_type": "markdown",
   "metadata": {},
   "source": [
    "---\n",
    "\n",
    "## Approximation error\n",
    "\n",
    "Let \n",
    "\n",
    "$$e(h) = f'(x_0) - S(h)$$\n",
    "\n",
    "be the **approximation error**.\n",
    "\n",
    "If we could compute the exact value of $e(h)$, then we could compute the exact value of \n",
    "\n",
    "$$f'(x_0) = S(h) + e(h).$$ \n",
    "\n",
    "Instead of getting the exact value of $e(h)$, we can use the fact that \n",
    "\n",
    "$$e(h) = Ch + Dh^2 + \\mathcal{O}(h^3)$$ \n",
    "\n",
    "to get an *approximation* of $e(h)$."
   ]
  },
  {
   "cell_type": "markdown",
   "metadata": {},
   "source": [
    "---\n",
    "\n",
    "## Error estimation\n",
    "\n",
    "We can approximate $e(h)$ by computing $S(h)$ and $S(h/2)$. Notice that\n",
    "\n",
    "\\begin{align}\n",
    "f'(x_0) - S(h) &= Ch + Dh^2 + \\mathcal{O}(h^3), \\\\\n",
    "f'(x_0) - S(h/2) &= \\frac{C}{2}h + \\frac{D}{4}h^2 + \\mathcal{O}(h^3). \\\\\n",
    "\\end{align}"
   ]
  },
  {
   "cell_type": "markdown",
   "metadata": {},
   "source": [
    "Subtracting these equations the unknown $f'(x_0)$ terms cancel, and we get\n",
    "\n",
    "$$\n",
    "S(h/2) - S(h) = \\frac{C}{2}h + \\frac{3}{4}Dh^2 + \\mathcal{O}(h^3),\n",
    "$$\n",
    "\n",
    "which implies that\n",
    "\n",
    "$$\n",
    "2(S(h/2) - S(h)) = Ch + \\frac{3}{2}Dh^2 + \\mathcal{O}(h^3).\n",
    "$$"
   ]
  },
  {
   "cell_type": "markdown",
   "metadata": {},
   "source": [
    "Since $e(h) = Ch + Dh^2 + \\mathcal{O}(h^3)$, we have that\n",
    "\n",
    "$$\n",
    "2(S(h/2) - S(h)) - e(h) = \\frac{D}{2}h^2 + \\mathcal{O}(h^3)\n",
    "$$\n",
    "\n",
    "which implies that\n",
    "\n",
    "$$\n",
    "e(h) = 2(S(h/2) - S(h)) - \\frac{D}{2}h^2 + \\mathcal{O}(h^3).\n",
    "$$\n",
    "\n",
    "Therefore,\n",
    "\n",
    "$$\n",
    "\\fbox{$e(h) \\approx 2(S(h/2) - S(h)).$}\n",
    "$$"
   ]
  },
  {
   "cell_type": "markdown",
   "metadata": {},
   "source": [
    "---\n",
    "\n",
    "## Improving the approximation\n",
    "\n",
    "We can now use our error approximation to improve the approximation of $f'(x_0)$. \n",
    "\n",
    "Since $f'(x_0) = S(h) + e(h)$, we have that\n",
    "\n",
    "$$\n",
    "f'(x_0) = \\fbox{$2S(h/2) - S(h)$} - \\frac{D}{2}h^2 + \\mathcal{O}(h^3),\n",
    "$$\n",
    "\n",
    "which gives us a **second-order accurate** method from a **first-order accurate** method!"
   ]
  },
  {
   "cell_type": "markdown",
   "metadata": {},
   "source": [
    "---"
   ]
  },
  {
   "cell_type": "code",
   "execution_count": null,
   "metadata": {},
   "outputs": [],
   "source": [
    "x0 = .4\n",
    "\n",
    "S(h) = (f(x0 + h) - f(x0))/h  # First-order method\n",
    "\n",
    "D = -f3(x0)/6\n",
    "\n",
    "@printf(\"%5s %14s %14s %14s\\n\", \n",
    "    \"h\", \"approx\", \"error\", \"trunc. error\")\n",
    "for i = 0:8\n",
    "    h = 10.0^-i\n",
    "    approx = 2S(h/2) - S(h)  # Second-order method\n",
    "    err = f1(x0) - approx\n",
    "    truncation_error = -D/2*h^2\n",
    "    @printf(\"%5.0e %14.10f %14.5e %14.5e\\n\",\n",
    "        h, approx, err, truncation_error)\n",
    "end"
   ]
  },
  {
   "cell_type": "markdown",
   "metadata": {},
   "source": [
    "---\n",
    "\n",
    "## Simplifying the approximation\n",
    "\n",
    "Computing $S(h)$ and $S(h/2)$ will evaluate $f(x_0)$ twice. We can avoid this by simplifying the approximation formula:\n",
    "\n",
    "\\begin{align}\n",
    "2S(h/2) - S(h) \n",
    "&= 2\\frac{f(x_0 + h/2) - f(x_0)}{h/2} - \\frac{f(x_0 + h) - f(x_0)}{h} \\\\\n",
    "&= \\frac{4f(x_0 + h/2) - 4f(x_0) - f(x_0 + h) + f(x_0)}{h} \\\\\n",
    "&= \\frac{-3f(x_0) + 4f(x_0 + h/2) - f(x_0 + h)}{h}. \\\\\n",
    "\\end{align}\n",
    "\n",
    "This is just the **one-sided three-point** difference formula,\n",
    "\n",
    "$$\\fbox{${\\displaystyle \\frac{- 3f(x_0) + 4f(x_0 + h) - f(x_0 + 2h)}{2h}},$}$$\n",
    "\n",
    "replacing $h$ with $h/2$."
   ]
  },
  {
   "cell_type": "markdown",
   "metadata": {},
   "source": [
    "---\n",
    "\n",
    "## From second-order to third-order\n",
    "\n",
    "Suppose we have a **second-order** numerical method, $S(h)$, for approximating $\\bar{x}$:\n",
    "\n",
    "$$\n",
    "\\bar{x} = S(h) + Ch^2 + \\mathcal{O}(h^3).\n",
    "$$\n",
    "\n",
    "Then,\n",
    "\n",
    "$$\n",
    "\\bar{x} = S(h/2) + \\frac{C}{4}h^2 + \\mathcal{O}(h^3).\n",
    "$$\n",
    "\n",
    "We can cancel the $h^2$ terms by multiplying the second equation by **four** and subtracting the first equation, which gives us\n",
    "\n",
    "$$\n",
    "3\\bar{x} = 4S(h/2) - S(h) + \\mathcal{O}(h^3).\n",
    "$$\n",
    "\n",
    "Thus,\n",
    "\n",
    "$$\n",
    "\\bar{x} = \\fbox{$\\frac{4S(h/2) - S(h)}{3}$} + \\mathcal{O}(h^3),\n",
    "$$\n",
    "\n",
    "giving us a **third-order** numerical method for approximating $\\bar{x}$."
   ]
  },
  {
   "cell_type": "markdown",
   "metadata": {},
   "source": [
    "---\n",
    "\n",
    "## The general technique\n",
    "\n",
    "In general, **Richardson extrapolation** can be used to obtain an $(n+1)^\\text{st}$-order method from an $n^\\text{th}$-order method.\n",
    "\n",
    "Suppose that our $n^\\text{th}$-order method for approximating $\\bar{x}$ is given by\n",
    "\n",
    "$$\n",
    "\\bar{x} = S(h) + Ch^n + \\mathcal{O}(h^{n+1}).\n",
    "$$\n",
    "\n",
    "Substituting $h$ with $h/2$, we have\n",
    "\n",
    "$$\n",
    "\\bar{x} = S(h/2) + \\frac{C}{2^n}h^n + \\mathcal{O}(h^{n+1}).\n",
    "$$\n",
    "\n",
    "We then multiply the second equation by $2^n$ and subtract the first equation to cancel the $h^n$ terms:\n",
    "\n",
    "$$\n",
    "(2^n - 1)\\bar{x} = 2^n S(h/2) - S(h) + \\mathcal{O}(h^{n+1}).\n",
    "$$\n",
    "\n",
    "This gives us\n",
    "\n",
    "$$\n",
    "\\bar{x} = \\fbox{$\\frac{2^n S(h/2) - S(h)}{2^n - 1}$} + \\mathcal{O}(h^{n+1}),\n",
    "$$\n",
    "\n",
    "which is an $(n+1)^\\text{st}$-order method for approximating $\\bar{x}$."
   ]
  },
  {
   "cell_type": "markdown",
   "metadata": {},
   "source": [
    "---"
   ]
  }
 ],
 "metadata": {
  "kernelspec": {
   "display_name": "Julia 1.8.5",
   "language": "julia",
   "name": "julia-1.8"
  },
  "language_info": {
   "file_extension": ".jl",
   "mimetype": "application/julia",
   "name": "julia",
   "version": "1.8.5"
  }
 },
 "nbformat": 4,
 "nbformat_minor": 4
}
