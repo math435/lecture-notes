{
 "cells": [
  {
   "cell_type": "markdown",
   "metadata": {},
   "source": [
    "---"
   ]
  },
  {
   "cell_type": "markdown",
   "metadata": {},
   "source": [
    "## Floating-point arithmetic\n",
    "\n",
    "Real numbers are stored on a computer following the IEEE floating-point standard:\n",
    "\n",
    "1. **half precision** using 16 bits (Julia type: `Float16`)\n",
    "2. **single precision** using 32 bits (Julia type: `Float32`)\n",
    "3. **double precision** using 64 bits (Julia type: `Float64`)\n",
    "\n",
    "Julia also has an **arbitrary precision** floating-point data type called `BigFloat`. It is excellent if you need more precision, but it is also much slower."
   ]
  },
  {
   "cell_type": "code",
   "execution_count": 1,
   "metadata": {},
   "outputs": [
    {
     "name": "stdout",
     "output_type": "stream",
     "text": [
      "search: \u001b[0m\u001b[1mA\u001b[22m\u001b[0m\u001b[1mb\u001b[22m\u001b[0m\u001b[1ms\u001b[22m\u001b[0m\u001b[1mt\u001b[22m\u001b[0m\u001b[1mr\u001b[22m\u001b[0m\u001b[1ma\u001b[22m\u001b[0m\u001b[1mc\u001b[22m\u001b[0m\u001b[1mt\u001b[22m\u001b[0m\u001b[1mF\u001b[22m\u001b[0m\u001b[1ml\u001b[22m\u001b[0m\u001b[1mo\u001b[22m\u001b[0m\u001b[1ma\u001b[22m\u001b[0m\u001b[1mt\u001b[22m\n",
      "\n"
     ]
    },
    {
     "data": {
      "text/latex": [
       "\\begin{verbatim}\n",
       "AbstractFloat <: Real\n",
       "\\end{verbatim}\n",
       "Abstract supertype for all floating point numbers.\n",
       "\n"
      ],
      "text/markdown": [
       "```\n",
       "AbstractFloat <: Real\n",
       "```\n",
       "\n",
       "Abstract supertype for all floating point numbers.\n"
      ],
      "text/plain": [
       "\u001b[36m  AbstractFloat <: Real\u001b[39m\n",
       "\n",
       "  Abstract supertype for all floating point numbers."
      ]
     },
     "execution_count": 1,
     "metadata": {},
     "output_type": "execute_result"
    }
   ],
   "source": [
    "?AbstractFloat"
   ]
  },
  {
   "cell_type": "code",
   "execution_count": 2,
   "metadata": {},
   "outputs": [
    {
     "data": {
      "text/plain": [
       "4-element Array{Any,1}:\n",
       " BigFloat\n",
       " Float16\n",
       " Float32\n",
       " Float64"
      ]
     },
     "execution_count": 2,
     "metadata": {},
     "output_type": "execute_result"
    }
   ],
   "source": [
    "subtypes(AbstractFloat)"
   ]
  },
  {
   "cell_type": "markdown",
   "metadata": {},
   "source": [
    "---"
   ]
  },
  {
   "cell_type": "markdown",
   "metadata": {},
   "source": [
    "## Description of IEEE double floating-point format (`Float64`)\n",
    "\n",
    "Suppose $x$ is a floating-point number stored in the following 64-bits:\n",
    "\n",
    "$$\n",
    "\\begin{array}{|c|c|c|c|c|c|c|}\n",
    "\\hline\n",
    "1 & 2 & \\cdots & 12 & 13 & \\cdots & 64 \\\\\n",
    "\\hline\n",
    "s & e_{10} & \\cdots & e_0 & f_1 & \\cdots & f_{52} \\\\\n",
    "\\hline\n",
    "\\end{array}\n",
    "$$\n",
    "\n",
    "- 1 bit $s$ represents the **sign**\n",
    "- 11 bits $e_{10} \\cdots e_{0}$ represent the **exponent**\n",
    "- 52 bits $f_1 \\cdots f_{52}$ represent the **fraction** (a.k.a. the mantissa or significand)\n",
    "\n",
    "Then\n",
    "\n",
    "$$ x = (-1)^s \\left[1.f_1 \\cdots f_{52}\\right]_2 \\times 2^{(e-1023)}.$$\n",
    "\n",
    "Notes: \n",
    "\n",
    "- $x$ is **normalized** to have its first digit nonzero.\n",
    "- $e = \\left[e_{10} \\cdots e_{0}\\right]_2 = e_{10} 2^{10} + \\cdots + e_1 2^1 + e_0 2^0 \\in \\left[0, 2^{11}-1\\right] = [0, 2047]$\n",
    "- $e = 0$ and $e = 2047$ are reserved for special floating-point values, so \n",
    "\n",
    "$$e \\in [1, 2046]$$\n",
    "\n",
    "- the \"$-1023$\" in the exponent is called the **bias**:  $e-1023 \\in [-1022,1023]$\n",
    "- $\\left[1.f_1 \\cdots f_{52}\\right]_2 = 1 + \\frac{f_1}{2^1} + \\frac{f_2}{2^2} + \\cdots + \\frac{f_{52}}{2^{52}}$\n"
   ]
  },
  {
   "cell_type": "markdown",
   "metadata": {},
   "source": [
    "---"
   ]
  },
  {
   "cell_type": "markdown",
   "metadata": {},
   "source": [
    "## Example\n",
    "\n",
    "$$\n",
    "\\begin{split}\n",
    "x & = -[1.101101]_2 \\times 2^{(1026-1023)} \\\\\n",
    "  & = -[1.101101]_2 \\times 2^{3} \\\\\n",
    "  & = -[1101.101]_2 \\\\\n",
    "  & = -\\left(1 \\cdot 8 + 1 \\cdot 4 + 0 \\cdot 2 + 1 \\cdot 1 + 1 \\cdot \\frac{1}{2} + 0 \\cdot \\frac{1}{4} + 1 \\cdot \\frac{1}{8}\\right)  \\\\\n",
    "  & = -13.625\n",
    "\\end{split}\n",
    "$$"
   ]
  },
  {
   "cell_type": "code",
   "execution_count": 3,
   "metadata": {},
   "outputs": [
    {
     "name": "stdout",
     "output_type": "stream",
     "text": [
      "search: \u001b[0m\u001b[1mb\u001b[22m\u001b[0m\u001b[1mi\u001b[22m\u001b[0m\u001b[1mt\u001b[22m\u001b[0m\u001b[1ms\u001b[22m\u001b[0m\u001b[1mt\u001b[22m\u001b[0m\u001b[1mr\u001b[22m\u001b[0m\u001b[1mi\u001b[22m\u001b[0m\u001b[1mn\u001b[22m\u001b[0m\u001b[1mg\u001b[22m Su\u001b[0m\u001b[1mb\u001b[22mst\u001b[0m\u001b[1mi\u001b[22m\u001b[0m\u001b[1mt\u001b[22mution\u001b[0m\u001b[1mS\u001b[22m\u001b[0m\u001b[1mt\u001b[22m\u001b[0m\u001b[1mr\u001b[22m\u001b[0m\u001b[1mi\u001b[22m\u001b[0m\u001b[1mn\u001b[22m\u001b[0m\u001b[1mg\u001b[22m\n",
      "\n"
     ]
    },
    {
     "data": {
      "text/latex": [
       "\\begin{verbatim}\n",
       "bitstring(n)\n",
       "\\end{verbatim}\n",
       "A string giving the literal bit representation of a number.\n",
       "\n",
       "\\section{Examples}\n",
       "\\begin{verbatim}\n",
       "julia> bitstring(4)\n",
       "\"0000000000000000000000000000000000000000000000000000000000000100\"\n",
       "\n",
       "julia> bitstring(2.2)\n",
       "\"0100000000000001100110011001100110011001100110011001100110011010\"\n",
       "\\end{verbatim}\n"
      ],
      "text/markdown": [
       "```\n",
       "bitstring(n)\n",
       "```\n",
       "\n",
       "A string giving the literal bit representation of a number.\n",
       "\n",
       "# Examples\n",
       "\n",
       "```jldoctest\n",
       "julia> bitstring(4)\n",
       "\"0000000000000000000000000000000000000000000000000000000000000100\"\n",
       "\n",
       "julia> bitstring(2.2)\n",
       "\"0100000000000001100110011001100110011001100110011001100110011010\"\n",
       "```\n"
      ],
      "text/plain": [
       "\u001b[36m  bitstring(n)\u001b[39m\n",
       "\n",
       "  A string giving the literal bit representation of a number.\n",
       "\n",
       "\u001b[1m  Examples\u001b[22m\n",
       "\u001b[1m  ≡≡≡≡≡≡≡≡≡≡\u001b[22m\n",
       "\n",
       "\u001b[36m  julia> bitstring(4)\u001b[39m\n",
       "\u001b[36m  \"0000000000000000000000000000000000000000000000000000000000000100\"\u001b[39m\n",
       "\u001b[36m  \u001b[39m\n",
       "\u001b[36m  julia> bitstring(2.2)\u001b[39m\n",
       "\u001b[36m  \"0100000000000001100110011001100110011001100110011001100110011010\"\u001b[39m"
      ]
     },
     "execution_count": 3,
     "metadata": {},
     "output_type": "execute_result"
    }
   ],
   "source": [
    "?bitstring"
   ]
  },
  {
   "cell_type": "code",
   "execution_count": 1,
   "metadata": {},
   "outputs": [
    {
     "data": {
      "text/plain": [
       "\"1100000000101011010000000000000000000000000000000000000000000000\""
      ]
     },
     "execution_count": 1,
     "metadata": {},
     "output_type": "execute_result"
    }
   ],
   "source": [
    "s = bitstring(-13.625)"
   ]
  },
  {
   "cell_type": "code",
   "execution_count": 2,
   "metadata": {},
   "outputs": [
    {
     "data": {
      "text/plain": [
       "('1', \"10000000010\", \"1011010000000000000000000000000000000000000000000000\")"
      ]
     },
     "execution_count": 2,
     "metadata": {},
     "output_type": "execute_result"
    }
   ],
   "source": [
    "s[1], s[2:12], s[13:64]"
   ]
  },
  {
   "cell_type": "code",
   "execution_count": 3,
   "metadata": {},
   "outputs": [
    {
     "data": {
      "text/plain": [
       "1026"
      ]
     },
     "execution_count": 3,
     "metadata": {},
     "output_type": "execute_result"
    }
   ],
   "source": [
    "Int(0b10000000010)"
   ]
  },
  {
   "cell_type": "code",
   "execution_count": 4,
   "metadata": {},
   "outputs": [
    {
     "data": {
      "text/plain": [
       "mybitstring (generic function with 1 method)"
      ]
     },
     "execution_count": 4,
     "metadata": {},
     "output_type": "execute_result"
    }
   ],
   "source": [
    "function mybitstring(x::Float64)\n",
    "    s = bitstring(x)\n",
    "    return s[1], s[2:12], s[13:64]\n",
    "end"
   ]
  },
  {
   "cell_type": "code",
   "execution_count": 5,
   "metadata": {},
   "outputs": [
    {
     "data": {
      "text/plain": [
       "('1', \"10000000010\", \"1011010000000000000000000000000000000000000000000000\")"
      ]
     },
     "execution_count": 5,
     "metadata": {},
     "output_type": "execute_result"
    }
   ],
   "source": [
    "mybitstring(-13.625)"
   ]
  },
  {
   "cell_type": "code",
   "execution_count": 7,
   "metadata": {},
   "outputs": [
    {
     "data": {
      "text/html": [
       "# 1 method for generic function <b>mybitstring</b>:<ul><li> mybitstring(x::<b>Float64</b>) in Main at In[4]:1</li> </ul>"
      ],
      "text/plain": [
       "# 1 method for generic function \"mybitstring\":\n",
       "[1] mybitstring(x::Float64) in Main at In[4]:1"
      ]
     },
     "execution_count": 7,
     "metadata": {},
     "output_type": "execute_result"
    }
   ],
   "source": [
    "methods(mybitstring)"
   ]
  },
  {
   "cell_type": "code",
   "execution_count": 8,
   "metadata": {},
   "outputs": [
    {
     "ename": "LoadError",
     "evalue": "MethodError: no method matching mybitstring(::Int64)\nClosest candidates are:\n  mybitstring(!Matched::Float64) at In[4]:1",
     "output_type": "error",
     "traceback": [
      "MethodError: no method matching mybitstring(::Int64)\nClosest candidates are:\n  mybitstring(!Matched::Float64) at In[4]:1",
      "",
      "Stacktrace:",
      " [1] top-level scope at In[8]:1",
      " [2] include_string(::Function, ::Module, ::String, ::String) at ./loading.jl:1091"
     ]
    }
   ],
   "source": [
    "mybitstring(10)"
   ]
  },
  {
   "cell_type": "markdown",
   "metadata": {},
   "source": [
    "---"
   ]
  },
  {
   "cell_type": "markdown",
   "metadata": {},
   "source": [
    "## Example\n",
    "\n",
    "Even if a number can be represented exactly in base-10 with a finite number of digits, it may require an infinite number of digits in base-2.\n",
    "\n",
    "$$\n",
    "0.1 = \\left[0.000110011001\\ldots\\right]_2 = \\left[1.\\overline{1001}\\right]_2 \\times 2^{-4}\n",
    "$$\n",
    "\n",
    "Therefore, $0.1$ cannot be represented exactly as a floating-point number."
   ]
  },
  {
   "cell_type": "code",
   "execution_count": 14,
   "metadata": {},
   "outputs": [
    {
     "data": {
      "text/plain": [
       "('0', \"01111111011\", \"1001100110011001100110011001100110011001100110011010\")"
      ]
     },
     "execution_count": 14,
     "metadata": {},
     "output_type": "execute_result"
    }
   ],
   "source": [
    "# Show that 0.1 is not represented exactly as a Float64\n",
    "\n",
    "x = 0.1\n",
    "mybitstring(x)"
   ]
  },
  {
   "cell_type": "code",
   "execution_count": 15,
   "metadata": {},
   "outputs": [
    {
     "data": {
      "text/plain": [
       "0.1000000000000000055511151231257827021181583404541015625"
      ]
     },
     "execution_count": 15,
     "metadata": {},
     "output_type": "execute_result"
    }
   ],
   "source": [
    "y = BigFloat(x)"
   ]
  },
  {
   "cell_type": "code",
   "execution_count": 17,
   "metadata": {},
   "outputs": [
    {
     "data": {
      "text/plain": [
       "0.1000000000000000000000000000000000000000000000000000000000000000000000000000002"
      ]
     },
     "execution_count": 17,
     "metadata": {},
     "output_type": "execute_result"
    }
   ],
   "source": [
    "BigFloat(\"0.1\")"
   ]
  },
  {
   "cell_type": "code",
   "execution_count": 18,
   "metadata": {},
   "outputs": [
    {
     "data": {
      "text/plain": [
       "-5.551115123125782702118158340454101562499999999999999999999999784095786122638884e-18"
      ]
     },
     "execution_count": 18,
     "metadata": {},
     "output_type": "execute_result"
    }
   ],
   "source": [
    "BigFloat(\"0.1\") - 0.1"
   ]
  },
  {
   "cell_type": "markdown",
   "metadata": {},
   "source": [
    "---"
   ]
  },
  {
   "cell_type": "markdown",
   "metadata": {},
   "source": [
    "## Limits of floating-point numbers\n",
    "\n",
    "- **Largest** `Float64` $= \\left(2 - 2^{-52}\\right) \\times 2^{1023} \\approx 2 \\times 10^{308}$\n",
    "- **Smallest positive normalized** `Float64` $= 2^{-1022} \\approx 2 \\times 10^{-308}$"
   ]
  },
  {
   "cell_type": "code",
   "execution_count": 19,
   "metadata": {},
   "outputs": [
    {
     "name": "stdout",
     "output_type": "stream",
     "text": [
      "search: \u001b[0m\u001b[1mf\u001b[22m\u001b[0m\u001b[1ml\u001b[22m\u001b[0m\u001b[1mo\u001b[22m\u001b[0m\u001b[1ma\u001b[22m\u001b[0m\u001b[1mt\u001b[22m\u001b[0m\u001b[1mm\u001b[22m\u001b[0m\u001b[1ma\u001b[22m\u001b[0m\u001b[1mx\u001b[22m \u001b[0m\u001b[1mf\u001b[22m\u001b[0m\u001b[1ml\u001b[22m\u001b[0m\u001b[1mo\u001b[22m\u001b[0m\u001b[1ma\u001b[22m\u001b[0m\u001b[1mt\u001b[22m\u001b[0m\u001b[1mm\u001b[22min\n",
      "\n"
     ]
    },
    {
     "data": {
      "text/latex": [
       "\\begin{verbatim}\n",
       "floatmax(T = Float64)\n",
       "\\end{verbatim}\n",
       "Return the largest finite number representable by the floating-point type \\texttt{T}.\n",
       "\n",
       "\\section{Examples}\n",
       "\\begin{verbatim}\n",
       "julia> floatmax(Float16)\n",
       "Float16(6.55e4)\n",
       "\n",
       "julia> floatmax(Float32)\n",
       "3.4028235f38\n",
       "\n",
       "julia> floatmax()\n",
       "1.7976931348623157e308\n",
       "\\end{verbatim}\n"
      ],
      "text/markdown": [
       "```\n",
       "floatmax(T = Float64)\n",
       "```\n",
       "\n",
       "Return the largest finite number representable by the floating-point type `T`.\n",
       "\n",
       "# Examples\n",
       "\n",
       "```jldoctest\n",
       "julia> floatmax(Float16)\n",
       "Float16(6.55e4)\n",
       "\n",
       "julia> floatmax(Float32)\n",
       "3.4028235f38\n",
       "\n",
       "julia> floatmax()\n",
       "1.7976931348623157e308\n",
       "```\n"
      ],
      "text/plain": [
       "\u001b[36m  floatmax(T = Float64)\u001b[39m\n",
       "\n",
       "  Return the largest finite number representable by the floating-point type \u001b[36mT\u001b[39m.\n",
       "\n",
       "\u001b[1m  Examples\u001b[22m\n",
       "\u001b[1m  ≡≡≡≡≡≡≡≡≡≡\u001b[22m\n",
       "\n",
       "\u001b[36m  julia> floatmax(Float16)\u001b[39m\n",
       "\u001b[36m  Float16(6.55e4)\u001b[39m\n",
       "\u001b[36m  \u001b[39m\n",
       "\u001b[36m  julia> floatmax(Float32)\u001b[39m\n",
       "\u001b[36m  3.4028235f38\u001b[39m\n",
       "\u001b[36m  \u001b[39m\n",
       "\u001b[36m  julia> floatmax()\u001b[39m\n",
       "\u001b[36m  1.7976931348623157e308\u001b[39m"
      ]
     },
     "execution_count": 19,
     "metadata": {},
     "output_type": "execute_result"
    }
   ],
   "source": [
    "?floatmax"
   ]
  },
  {
   "cell_type": "code",
   "execution_count": 31,
   "metadata": {},
   "outputs": [
    {
     "data": {
      "text/plain": [
       "1.7976931348623157e308"
      ]
     },
     "execution_count": 31,
     "metadata": {},
     "output_type": "execute_result"
    }
   ],
   "source": [
    "# Experiment with floatmax\n",
    "x = floatmax(Float64)"
   ]
  },
  {
   "cell_type": "code",
   "execution_count": 21,
   "metadata": {},
   "outputs": [
    {
     "data": {
      "text/plain": [
       "('0', \"11111111110\", \"1111111111111111111111111111111111111111111111111111\")"
      ]
     },
     "execution_count": 21,
     "metadata": {},
     "output_type": "execute_result"
    }
   ],
   "source": [
    "mybitstring(x)"
   ]
  },
  {
   "cell_type": "code",
   "execution_count": 23,
   "metadata": {},
   "outputs": [
    {
     "data": {
      "text/plain": [
       "0.0"
      ]
     },
     "execution_count": 23,
     "metadata": {},
     "output_type": "execute_result"
    }
   ],
   "source": [
    "(x + 1.0) - x"
   ]
  },
  {
   "cell_type": "code",
   "execution_count": 24,
   "metadata": {},
   "outputs": [
    {
     "data": {
      "text/plain": [
       "Inf"
      ]
     },
     "execution_count": 24,
     "metadata": {},
     "output_type": "execute_result"
    }
   ],
   "source": [
    "10.0*x"
   ]
  },
  {
   "cell_type": "code",
   "execution_count": 25,
   "metadata": {},
   "outputs": [
    {
     "data": {
      "text/plain": [
       "Inf"
      ]
     },
     "execution_count": 25,
     "metadata": {},
     "output_type": "execute_result"
    }
   ],
   "source": [
    "(10.0*x)/10.0"
   ]
  },
  {
   "cell_type": "code",
   "execution_count": 32,
   "metadata": {},
   "outputs": [
    {
     "data": {
      "text/plain": [
       "-Inf"
      ]
     },
     "execution_count": 32,
     "metadata": {},
     "output_type": "execute_result"
    }
   ],
   "source": [
    "-10.0*x"
   ]
  },
  {
   "cell_type": "markdown",
   "metadata": {},
   "source": [
    "---"
   ]
  },
  {
   "cell_type": "code",
   "execution_count": 26,
   "metadata": {
    "scrolled": true
   },
   "outputs": [
    {
     "name": "stdout",
     "output_type": "stream",
     "text": [
      "search: \u001b[0m\u001b[1mf\u001b[22m\u001b[0m\u001b[1ml\u001b[22m\u001b[0m\u001b[1mo\u001b[22m\u001b[0m\u001b[1ma\u001b[22m\u001b[0m\u001b[1mt\u001b[22m\u001b[0m\u001b[1mm\u001b[22m\u001b[0m\u001b[1mi\u001b[22m\u001b[0m\u001b[1mn\u001b[22m \u001b[0m\u001b[1mf\u001b[22m\u001b[0m\u001b[1ml\u001b[22m\u001b[0m\u001b[1mo\u001b[22m\u001b[0m\u001b[1ma\u001b[22m\u001b[0m\u001b[1mt\u001b[22m\u001b[0m\u001b[1mm\u001b[22max\n",
      "\n"
     ]
    },
    {
     "data": {
      "text/latex": [
       "\\begin{verbatim}\n",
       "floatmin(T = Float64)\n",
       "\\end{verbatim}\n",
       "Return the smallest positive normal number representable by the floating-point type \\texttt{T}.\n",
       "\n",
       "\\section{Examples}\n",
       "\\begin{verbatim}\n",
       "julia> floatmin(Float16)\n",
       "Float16(6.104e-5)\n",
       "\n",
       "julia> floatmin(Float32)\n",
       "1.1754944f-38\n",
       "\n",
       "julia> floatmin()\n",
       "2.2250738585072014e-308\n",
       "\\end{verbatim}\n"
      ],
      "text/markdown": [
       "```\n",
       "floatmin(T = Float64)\n",
       "```\n",
       "\n",
       "Return the smallest positive normal number representable by the floating-point type `T`.\n",
       "\n",
       "# Examples\n",
       "\n",
       "```jldoctest\n",
       "julia> floatmin(Float16)\n",
       "Float16(6.104e-5)\n",
       "\n",
       "julia> floatmin(Float32)\n",
       "1.1754944f-38\n",
       "\n",
       "julia> floatmin()\n",
       "2.2250738585072014e-308\n",
       "```\n"
      ],
      "text/plain": [
       "\u001b[36m  floatmin(T = Float64)\u001b[39m\n",
       "\n",
       "  Return the smallest positive normal number representable by the\n",
       "  floating-point type \u001b[36mT\u001b[39m.\n",
       "\n",
       "\u001b[1m  Examples\u001b[22m\n",
       "\u001b[1m  ≡≡≡≡≡≡≡≡≡≡\u001b[22m\n",
       "\n",
       "\u001b[36m  julia> floatmin(Float16)\u001b[39m\n",
       "\u001b[36m  Float16(6.104e-5)\u001b[39m\n",
       "\u001b[36m  \u001b[39m\n",
       "\u001b[36m  julia> floatmin(Float32)\u001b[39m\n",
       "\u001b[36m  1.1754944f-38\u001b[39m\n",
       "\u001b[36m  \u001b[39m\n",
       "\u001b[36m  julia> floatmin()\u001b[39m\n",
       "\u001b[36m  2.2250738585072014e-308\u001b[39m"
      ]
     },
     "execution_count": 26,
     "metadata": {},
     "output_type": "execute_result"
    }
   ],
   "source": [
    "?floatmin"
   ]
  },
  {
   "cell_type": "code",
   "execution_count": 33,
   "metadata": {},
   "outputs": [
    {
     "data": {
      "text/plain": [
       "2.2250738585072014e-308"
      ]
     },
     "execution_count": 33,
     "metadata": {},
     "output_type": "execute_result"
    }
   ],
   "source": [
    "# Experiment with floatmin\n",
    "x = floatmin(Float64)"
   ]
  },
  {
   "cell_type": "code",
   "execution_count": 28,
   "metadata": {},
   "outputs": [
    {
     "data": {
      "text/plain": [
       "('0', \"00000000001\", \"0000000000000000000000000000000000000000000000000000\")"
      ]
     },
     "execution_count": 28,
     "metadata": {},
     "output_type": "execute_result"
    }
   ],
   "source": [
    "mybitstringing(x)"
   ]
  },
  {
   "cell_type": "code",
   "execution_count": 29,
   "metadata": {},
   "outputs": [
    {
     "data": {
      "text/plain": [
       "2.225073858507203e-309"
      ]
     },
     "execution_count": 29,
     "metadata": {},
     "output_type": "execute_result"
    }
   ],
   "source": [
    "x/10.0"
   ]
  },
  {
   "cell_type": "code",
   "execution_count": 30,
   "metadata": {},
   "outputs": [
    {
     "data": {
      "text/plain": [
       "('0', \"00000000000\", \"0001100110011001100110011001100110011001100110011010\")"
      ]
     },
     "execution_count": 30,
     "metadata": {},
     "output_type": "execute_result"
    }
   ],
   "source": [
    "mybitstring(x/10.0)"
   ]
  },
  {
   "cell_type": "code",
   "execution_count": 39,
   "metadata": {},
   "outputs": [
    {
     "data": {
      "text/plain": [
       "0.0"
      ]
     },
     "execution_count": 39,
     "metadata": {},
     "output_type": "execute_result"
    }
   ],
   "source": [
    "x/1e16"
   ]
  },
  {
   "cell_type": "code",
   "execution_count": 40,
   "metadata": {},
   "outputs": [
    {
     "data": {
      "text/plain": [
       "0.0"
      ]
     },
     "execution_count": 40,
     "metadata": {},
     "output_type": "execute_result"
    }
   ],
   "source": [
    "(x/1e16)*1e16"
   ]
  },
  {
   "cell_type": "markdown",
   "metadata": {},
   "source": [
    "---"
   ]
  },
  {
   "cell_type": "markdown",
   "metadata": {},
   "source": [
    "## De-normalized floating-point numbers\n",
    "\n",
    "The IEEE floating-point standard also allows **de-normalized** numbers that are smaller than `floatmin(Float64)`. De-normalized floats are represented by $e = 0$."
   ]
  },
  {
   "cell_type": "code",
   "execution_count": 44,
   "metadata": {},
   "outputs": [
    {
     "data": {
      "text/plain": [
       "(0.0, -1075)"
      ]
     },
     "execution_count": 44,
     "metadata": {},
     "output_type": "execute_result"
    }
   ],
   "source": [
    "# Compute the smallest Float64 that is not zero\n",
    "\n",
    "x = 1.0\n",
    "n = 0\n",
    "while x != 0.0\n",
    "    x /= 2.0\n",
    "    n -= 1\n",
    "end\n",
    "\n",
    "x, n"
   ]
  },
  {
   "cell_type": "code",
   "execution_count": 45,
   "metadata": {},
   "outputs": [
    {
     "data": {
      "text/plain": [
       "0.0"
      ]
     },
     "execution_count": 45,
     "metadata": {},
     "output_type": "execute_result"
    }
   ],
   "source": [
    "2.0^-1075"
   ]
  },
  {
   "cell_type": "code",
   "execution_count": 47,
   "metadata": {},
   "outputs": [
    {
     "data": {
      "text/plain": [
       "5.0e-324"
      ]
     },
     "execution_count": 47,
     "metadata": {},
     "output_type": "execute_result"
    }
   ],
   "source": [
    "x = 2.0^-1074"
   ]
  },
  {
   "cell_type": "code",
   "execution_count": 48,
   "metadata": {},
   "outputs": [
    {
     "data": {
      "text/plain": [
       "('0', \"00000000000\", \"0000000000000000000000000000000000000000000000000001\")"
      ]
     },
     "execution_count": 48,
     "metadata": {},
     "output_type": "execute_result"
    }
   ],
   "source": [
    "mybitstring(x)"
   ]
  },
  {
   "cell_type": "code",
   "execution_count": 50,
   "metadata": {},
   "outputs": [
    {
     "data": {
      "text/plain": [
       "false"
      ]
     },
     "execution_count": 50,
     "metadata": {},
     "output_type": "execute_result"
    }
   ],
   "source": [
    "(x/2.0)*2.0 == x"
   ]
  },
  {
   "cell_type": "markdown",
   "metadata": {},
   "source": [
    "---"
   ]
  },
  {
   "cell_type": "markdown",
   "metadata": {},
   "source": [
    "## Other special floats\n",
    "\n",
    "- `0.0` and `-0.0`: $$e_{10} \\cdots e_0 = 0 \\cdots 0 \\quad \\text{and} \\quad f_1 \\cdots f_{52} = 0 \\cdots 0$$\n",
    "- `Inf` and `-Inf`: $$e_{10} \\cdots e_0 = 1 \\cdots 1 \\quad \\text{and} \\quad f_1 \\cdots f_{52} = 0 \\cdots 0$$\n",
    "- `NaN` (not-a-number): $$e_{10} \\cdots e_0 = 1 \\cdots 1 \\quad \\text{and} \\quad f_1 \\cdots f_{52} \\neq 0$$\n",
    "\n",
    "From [Julia Manual: Mathematical Operations and Elementary Functions](https://docs.julialang.org/en/v1/manual/mathematical-operations/):\n",
    "\n",
    "- `Inf` is equal to itself and greater than everything else except `NaN`.\n",
    "- `-Inf` is equal to itself and less then everything else except `NaN`.\n",
    "- `NaN` is not equal to, not less than, and not greater than anything, including itself."
   ]
  },
  {
   "cell_type": "code",
   "execution_count": 51,
   "metadata": {},
   "outputs": [
    {
     "data": {
      "text/plain": [
       "('0', \"00000000000\", \"0000000000000000000000000000000000000000000000000000\")"
      ]
     },
     "execution_count": 51,
     "metadata": {},
     "output_type": "execute_result"
    }
   ],
   "source": [
    "# Experiment with 0.0, -0.0, Inf, -Inf, and NaN\n",
    "\n",
    "mybitstring(0.0)"
   ]
  },
  {
   "cell_type": "code",
   "execution_count": 52,
   "metadata": {},
   "outputs": [
    {
     "data": {
      "text/plain": [
       "('1', \"00000000000\", \"0000000000000000000000000000000000000000000000000000\")"
      ]
     },
     "execution_count": 52,
     "metadata": {},
     "output_type": "execute_result"
    }
   ],
   "source": [
    "mybitstring(-0.0)"
   ]
  },
  {
   "cell_type": "code",
   "execution_count": 53,
   "metadata": {},
   "outputs": [
    {
     "data": {
      "text/plain": [
       "NaN"
      ]
     },
     "execution_count": 53,
     "metadata": {},
     "output_type": "execute_result"
    }
   ],
   "source": [
    "Inf - Inf"
   ]
  },
  {
   "cell_type": "code",
   "execution_count": 54,
   "metadata": {},
   "outputs": [
    {
     "data": {
      "text/plain": [
       "NaN"
      ]
     },
     "execution_count": 54,
     "metadata": {},
     "output_type": "execute_result"
    }
   ],
   "source": [
    "0.0*Inf"
   ]
  },
  {
   "cell_type": "code",
   "execution_count": 55,
   "metadata": {},
   "outputs": [
    {
     "data": {
      "text/plain": [
       "Inf"
      ]
     },
     "execution_count": 55,
     "metadata": {},
     "output_type": "execute_result"
    }
   ],
   "source": [
    "1.0/0.0"
   ]
  },
  {
   "cell_type": "code",
   "execution_count": 56,
   "metadata": {},
   "outputs": [
    {
     "data": {
      "text/plain": [
       "('0', \"11111111111\", \"1000000000000000000000000000000000000000000000000000\")"
      ]
     },
     "execution_count": 56,
     "metadata": {},
     "output_type": "execute_result"
    }
   ],
   "source": [
    "mybitstring(NaN)"
   ]
  },
  {
   "cell_type": "code",
   "execution_count": 57,
   "metadata": {},
   "outputs": [
    {
     "data": {
      "text/plain": [
       "false"
      ]
     },
     "execution_count": 57,
     "metadata": {},
     "output_type": "execute_result"
    }
   ],
   "source": [
    "-0.0 < 0.0"
   ]
  },
  {
   "cell_type": "code",
   "execution_count": 58,
   "metadata": {},
   "outputs": [
    {
     "data": {
      "text/plain": [
       "true"
      ]
     },
     "execution_count": 58,
     "metadata": {},
     "output_type": "execute_result"
    }
   ],
   "source": [
    "-0.0 == 0.0"
   ]
  },
  {
   "cell_type": "code",
   "execution_count": 59,
   "metadata": {},
   "outputs": [
    {
     "data": {
      "text/plain": [
       "false"
      ]
     },
     "execution_count": 59,
     "metadata": {},
     "output_type": "execute_result"
    }
   ],
   "source": [
    "-0.0 === 0.0"
   ]
  },
  {
   "cell_type": "code",
   "execution_count": 60,
   "metadata": {},
   "outputs": [
    {
     "name": "stdout",
     "output_type": "stream",
     "text": [
      "search: \u001b[0m\u001b[1m=\u001b[22m\u001b[0m\u001b[1m=\u001b[22m\u001b[0m\u001b[1m=\u001b[22m \u001b[0m\u001b[1m=\u001b[22m\u001b[0m\u001b[1m=\u001b[22m !\u001b[0m\u001b[1m=\u001b[22m\u001b[0m\u001b[1m=\u001b[22m\n",
      "\n"
     ]
    },
    {
     "data": {
      "text/latex": [
       "\\begin{verbatim}\n",
       "===(x,y) -> Bool\n",
       "≡(x,y) -> Bool\n",
       "\\end{verbatim}\n",
       "Determine whether \\texttt{x} and \\texttt{y} are identical, in the sense that no program could distinguish them. First the types of \\texttt{x} and \\texttt{y} are compared. If those are identical, mutable objects are compared by address in memory and immutable objects (such as numbers) are compared by contents at the bit level. This function is sometimes called \"egal\". It always returns a \\texttt{Bool} value.\n",
       "\n",
       "\\section{Examples}\n",
       "\\begin{verbatim}\n",
       "julia> a = [1, 2]; b = [1, 2];\n",
       "\n",
       "julia> a == b\n",
       "true\n",
       "\n",
       "julia> a === b\n",
       "false\n",
       "\n",
       "julia> a === a\n",
       "true\n",
       "\\end{verbatim}\n"
      ],
      "text/markdown": [
       "```\n",
       "===(x,y) -> Bool\n",
       "≡(x,y) -> Bool\n",
       "```\n",
       "\n",
       "Determine whether `x` and `y` are identical, in the sense that no program could distinguish them. First the types of `x` and `y` are compared. If those are identical, mutable objects are compared by address in memory and immutable objects (such as numbers) are compared by contents at the bit level. This function is sometimes called \"egal\". It always returns a `Bool` value.\n",
       "\n",
       "# Examples\n",
       "\n",
       "```jldoctest\n",
       "julia> a = [1, 2]; b = [1, 2];\n",
       "\n",
       "julia> a == b\n",
       "true\n",
       "\n",
       "julia> a === b\n",
       "false\n",
       "\n",
       "julia> a === a\n",
       "true\n",
       "```\n"
      ],
      "text/plain": [
       "\u001b[36m  ===(x,y) -> Bool\u001b[39m\n",
       "\u001b[36m  ≡(x,y) -> Bool\u001b[39m\n",
       "\n",
       "  Determine whether \u001b[36mx\u001b[39m and \u001b[36my\u001b[39m are identical, in the sense that no program could\n",
       "  distinguish them. First the types of \u001b[36mx\u001b[39m and \u001b[36my\u001b[39m are compared. If those are\n",
       "  identical, mutable objects are compared by address in memory and immutable\n",
       "  objects (such as numbers) are compared by contents at the bit level. This\n",
       "  function is sometimes called \"egal\". It always returns a \u001b[36mBool\u001b[39m value.\n",
       "\n",
       "\u001b[1m  Examples\u001b[22m\n",
       "\u001b[1m  ≡≡≡≡≡≡≡≡≡≡\u001b[22m\n",
       "\n",
       "\u001b[36m  julia> a = [1, 2]; b = [1, 2];\u001b[39m\n",
       "\u001b[36m  \u001b[39m\n",
       "\u001b[36m  julia> a == b\u001b[39m\n",
       "\u001b[36m  true\u001b[39m\n",
       "\u001b[36m  \u001b[39m\n",
       "\u001b[36m  julia> a === b\u001b[39m\n",
       "\u001b[36m  false\u001b[39m\n",
       "\u001b[36m  \u001b[39m\n",
       "\u001b[36m  julia> a === a\u001b[39m\n",
       "\u001b[36m  true\u001b[39m"
      ]
     },
     "execution_count": 60,
     "metadata": {},
     "output_type": "execute_result"
    }
   ],
   "source": [
    "?==="
   ]
  },
  {
   "cell_type": "markdown",
   "metadata": {},
   "source": [
    "---"
   ]
  },
  {
   "cell_type": "markdown",
   "metadata": {},
   "source": [
    "## Machine epsilon `eps(Float64)` and the unit roundoff $\\eta$\n",
    "\n",
    "- `1.0 + eps(Float64)` is the first `Float64` that is larger than `1.0`\n",
    "\n",
    "$$\\mathtt{eps(Float64)} = 2^{-52} \\approx 2.2 \\times 10^{-16}$$\n",
    "\n",
    "- $\\eta = $ `eps(Float64)/2.0` is the largest possible **relative error** due to roundoff\n",
    "\n",
    "$$\\eta = 2^{-53} \\approx 1.1 \\times 10^{-16}$$"
   ]
  },
  {
   "cell_type": "code",
   "execution_count": 61,
   "metadata": {},
   "outputs": [
    {
     "name": "stdout",
     "output_type": "stream",
     "text": [
      "search: \u001b[0m\u001b[1me\u001b[22m\u001b[0m\u001b[1mp\u001b[22m\u001b[0m\u001b[1ms\u001b[22m @\u001b[0m\u001b[1me\u001b[22mla\u001b[0m\u001b[1mp\u001b[22m\u001b[0m\u001b[1ms\u001b[22med \u001b[0m\u001b[1me\u001b[22mx\u001b[0m\u001b[1mp\u001b[22mandu\u001b[0m\u001b[1ms\u001b[22mer sup\u001b[0m\u001b[1me\u001b[22mrty\u001b[0m\u001b[1mp\u001b[22me\u001b[0m\u001b[1ms\u001b[22m \u001b[0m\u001b[1me\u001b[22msca\u001b[0m\u001b[1mp\u001b[22me_\u001b[0m\u001b[1ms\u001b[22mtring s\u001b[0m\u001b[1me\u001b[22mt\u001b[0m\u001b[1mp\u001b[22mreci\u001b[0m\u001b[1ms\u001b[22mion p\u001b[0m\u001b[1me\u001b[22makflo\u001b[0m\u001b[1mp\u001b[22m\u001b[0m\u001b[1ms\u001b[22m\n",
      "\n"
     ]
    },
    {
     "data": {
      "text/latex": [
       "\\begin{verbatim}\n",
       "eps(::Type{T}) where T<:AbstractFloat\n",
       "eps()\n",
       "\\end{verbatim}\n",
       "Return the \\emph{machine epsilon} of the floating point type \\texttt{T} (\\texttt{T = Float64} by default). This is defined as the gap between 1 and the next largest value representable by \\texttt{typeof(one(T))}, and is equivalent to \\texttt{eps(one(T))}.  (Since \\texttt{eps(T)} is a bound on the \\emph{relative error} of \\texttt{T}, it is a \"dimensionless\" quantity like \\href{@ref}{\\texttt{one}}.)\n",
       "\n",
       "\\section{Examples}\n",
       "\\begin{verbatim}\n",
       "julia> eps()\n",
       "2.220446049250313e-16\n",
       "\n",
       "julia> eps(Float32)\n",
       "1.1920929f-7\n",
       "\n",
       "julia> 1.0 + eps()\n",
       "1.0000000000000002\n",
       "\n",
       "julia> 1.0 + eps()/2\n",
       "1.0\n",
       "\\end{verbatim}\n",
       "\\rule{\\textwidth}{1pt}\n",
       "\\begin{verbatim}\n",
       "eps(x::AbstractFloat)\n",
       "\\end{verbatim}\n",
       "Return the \\emph{unit in last place} (ulp) of \\texttt{x}. This is the distance between consecutive representable floating point values at \\texttt{x}. In most cases, if the distance on either side of \\texttt{x} is different, then the larger of the two is taken, that is\n",
       "\n",
       "\\begin{verbatim}\n",
       "eps(x) == max(x-prevfloat(x), nextfloat(x)-x)\n",
       "\\end{verbatim}\n",
       "The exceptions to this rule are the smallest and largest finite values (e.g. \\texttt{nextfloat(-Inf)} and \\texttt{prevfloat(Inf)} for \\href{@ref}{\\texttt{Float64}}), which round to the smaller of the values.\n",
       "\n",
       "The rationale for this behavior is that \\texttt{eps} bounds the floating point rounding error. Under the default \\texttt{RoundNearest} rounding mode, if $y$ is a real number and $x$ is the nearest floating point number to $y$, then\n",
       "\n",
       "$$|y-x| \\leq \\operatorname{eps}(x)/2.$$\n",
       "\\section{Examples}\n",
       "\\begin{verbatim}\n",
       "julia> eps(1.0)\n",
       "2.220446049250313e-16\n",
       "\n",
       "julia> eps(prevfloat(2.0))\n",
       "2.220446049250313e-16\n",
       "\n",
       "julia> eps(2.0)\n",
       "4.440892098500626e-16\n",
       "\n",
       "julia> x = prevfloat(Inf)      # largest finite Float64\n",
       "1.7976931348623157e308\n",
       "\n",
       "julia> x + eps(x)/2            # rounds up\n",
       "Inf\n",
       "\n",
       "julia> x + prevfloat(eps(x)/2) # rounds down\n",
       "1.7976931348623157e308\n",
       "\\end{verbatim}\n",
       "\\rule{\\textwidth}{1pt}\n",
       "\\begin{verbatim}\n",
       "eps(::Type{DateTime}) -> Millisecond\n",
       "eps(::Type{Date}) -> Day\n",
       "eps(::Type{Time}) -> Nanosecond\n",
       "eps(::TimeType) -> Period\n",
       "\\end{verbatim}\n",
       "Return the smallest unit value supported by the \\texttt{TimeType}.\n",
       "\n",
       "\\section{Examples}\n",
       "\\begin{verbatim}\n",
       "julia> eps(DateTime)\n",
       "1 millisecond\n",
       "\n",
       "julia> eps(Date)\n",
       "1 day\n",
       "\n",
       "julia> eps(Time)\n",
       "1 nanosecond\n",
       "\\end{verbatim}\n"
      ],
      "text/markdown": [
       "```\n",
       "eps(::Type{T}) where T<:AbstractFloat\n",
       "eps()\n",
       "```\n",
       "\n",
       "Return the *machine epsilon* of the floating point type `T` (`T = Float64` by default). This is defined as the gap between 1 and the next largest value representable by `typeof(one(T))`, and is equivalent to `eps(one(T))`.  (Since `eps(T)` is a bound on the *relative error* of `T`, it is a \"dimensionless\" quantity like [`one`](@ref).)\n",
       "\n",
       "# Examples\n",
       "\n",
       "```jldoctest\n",
       "julia> eps()\n",
       "2.220446049250313e-16\n",
       "\n",
       "julia> eps(Float32)\n",
       "1.1920929f-7\n",
       "\n",
       "julia> 1.0 + eps()\n",
       "1.0000000000000002\n",
       "\n",
       "julia> 1.0 + eps()/2\n",
       "1.0\n",
       "```\n",
       "\n",
       "---\n",
       "\n",
       "```\n",
       "eps(x::AbstractFloat)\n",
       "```\n",
       "\n",
       "Return the *unit in last place* (ulp) of `x`. This is the distance between consecutive representable floating point values at `x`. In most cases, if the distance on either side of `x` is different, then the larger of the two is taken, that is\n",
       "\n",
       "```\n",
       "eps(x) == max(x-prevfloat(x), nextfloat(x)-x)\n",
       "```\n",
       "\n",
       "The exceptions to this rule are the smallest and largest finite values (e.g. `nextfloat(-Inf)` and `prevfloat(Inf)` for [`Float64`](@ref)), which round to the smaller of the values.\n",
       "\n",
       "The rationale for this behavior is that `eps` bounds the floating point rounding error. Under the default `RoundNearest` rounding mode, if $y$ is a real number and $x$ is the nearest floating point number to $y$, then\n",
       "\n",
       "$$\n",
       "|y-x| \\leq \\operatorname{eps}(x)/2.\n",
       "$$\n",
       "\n",
       "# Examples\n",
       "\n",
       "```jldoctest\n",
       "julia> eps(1.0)\n",
       "2.220446049250313e-16\n",
       "\n",
       "julia> eps(prevfloat(2.0))\n",
       "2.220446049250313e-16\n",
       "\n",
       "julia> eps(2.0)\n",
       "4.440892098500626e-16\n",
       "\n",
       "julia> x = prevfloat(Inf)      # largest finite Float64\n",
       "1.7976931348623157e308\n",
       "\n",
       "julia> x + eps(x)/2            # rounds up\n",
       "Inf\n",
       "\n",
       "julia> x + prevfloat(eps(x)/2) # rounds down\n",
       "1.7976931348623157e308\n",
       "```\n",
       "\n",
       "---\n",
       "\n",
       "```\n",
       "eps(::Type{DateTime}) -> Millisecond\n",
       "eps(::Type{Date}) -> Day\n",
       "eps(::Type{Time}) -> Nanosecond\n",
       "eps(::TimeType) -> Period\n",
       "```\n",
       "\n",
       "Return the smallest unit value supported by the `TimeType`.\n",
       "\n",
       "# Examples\n",
       "\n",
       "```jldoctest\n",
       "julia> eps(DateTime)\n",
       "1 millisecond\n",
       "\n",
       "julia> eps(Date)\n",
       "1 day\n",
       "\n",
       "julia> eps(Time)\n",
       "1 nanosecond\n",
       "```\n"
      ],
      "text/plain": [
       "\u001b[36m  eps(::Type{T}) where T<:AbstractFloat\u001b[39m\n",
       "\u001b[36m  eps()\u001b[39m\n",
       "\n",
       "  Return the \u001b[4mmachine epsilon\u001b[24m of the floating point type \u001b[36mT\u001b[39m (\u001b[36mT = Float64\u001b[39m by\n",
       "  default). This is defined as the gap between 1 and the next largest value\n",
       "  representable by \u001b[36mtypeof(one(T))\u001b[39m, and is equivalent to \u001b[36meps(one(T))\u001b[39m. (Since\n",
       "  \u001b[36meps(T)\u001b[39m is a bound on the \u001b[4mrelative error\u001b[24m of \u001b[36mT\u001b[39m, it is a \"dimensionless\"\n",
       "  quantity like \u001b[36mone\u001b[39m.)\n",
       "\n",
       "\u001b[1m  Examples\u001b[22m\n",
       "\u001b[1m  ≡≡≡≡≡≡≡≡≡≡\u001b[22m\n",
       "\n",
       "\u001b[36m  julia> eps()\u001b[39m\n",
       "\u001b[36m  2.220446049250313e-16\u001b[39m\n",
       "\u001b[36m  \u001b[39m\n",
       "\u001b[36m  julia> eps(Float32)\u001b[39m\n",
       "\u001b[36m  1.1920929f-7\u001b[39m\n",
       "\u001b[36m  \u001b[39m\n",
       "\u001b[36m  julia> 1.0 + eps()\u001b[39m\n",
       "\u001b[36m  1.0000000000000002\u001b[39m\n",
       "\u001b[36m  \u001b[39m\n",
       "\u001b[36m  julia> 1.0 + eps()/2\u001b[39m\n",
       "\u001b[36m  1.0\u001b[39m\n",
       "\n",
       "  ────────────────────────────────────────────────────────────────────────────\n",
       "\n",
       "\u001b[36m  eps(x::AbstractFloat)\u001b[39m\n",
       "\n",
       "  Return the \u001b[4munit in last place\u001b[24m (ulp) of \u001b[36mx\u001b[39m. This is the distance between\n",
       "  consecutive representable floating point values at \u001b[36mx\u001b[39m. In most cases, if the\n",
       "  distance on either side of \u001b[36mx\u001b[39m is different, then the larger of the two is\n",
       "  taken, that is\n",
       "\n",
       "\u001b[36m  eps(x) == max(x-prevfloat(x), nextfloat(x)-x)\u001b[39m\n",
       "\n",
       "  The exceptions to this rule are the smallest and largest finite values (e.g.\n",
       "  \u001b[36mnextfloat(-Inf)\u001b[39m and \u001b[36mprevfloat(Inf)\u001b[39m for \u001b[36mFloat64\u001b[39m), which round to the smaller\n",
       "  of the values.\n",
       "\n",
       "  The rationale for this behavior is that \u001b[36meps\u001b[39m bounds the floating point\n",
       "  rounding error. Under the default \u001b[36mRoundNearest\u001b[39m rounding mode, if \u001b[35my\u001b[39m is a real\n",
       "  number and \u001b[35mx\u001b[39m is the nearest floating point number to \u001b[35my\u001b[39m, then\n",
       "\n",
       "\u001b[35m  |y-x| \\leq \\operatorname{eps}(x)/2.\u001b[39m\n",
       "\n",
       "\u001b[1m  Examples\u001b[22m\n",
       "\u001b[1m  ≡≡≡≡≡≡≡≡≡≡\u001b[22m\n",
       "\n",
       "\u001b[36m  julia> eps(1.0)\u001b[39m\n",
       "\u001b[36m  2.220446049250313e-16\u001b[39m\n",
       "\u001b[36m  \u001b[39m\n",
       "\u001b[36m  julia> eps(prevfloat(2.0))\u001b[39m\n",
       "\u001b[36m  2.220446049250313e-16\u001b[39m\n",
       "\u001b[36m  \u001b[39m\n",
       "\u001b[36m  julia> eps(2.0)\u001b[39m\n",
       "\u001b[36m  4.440892098500626e-16\u001b[39m\n",
       "\u001b[36m  \u001b[39m\n",
       "\u001b[36m  julia> x = prevfloat(Inf)      # largest finite Float64\u001b[39m\n",
       "\u001b[36m  1.7976931348623157e308\u001b[39m\n",
       "\u001b[36m  \u001b[39m\n",
       "\u001b[36m  julia> x + eps(x)/2            # rounds up\u001b[39m\n",
       "\u001b[36m  Inf\u001b[39m\n",
       "\u001b[36m  \u001b[39m\n",
       "\u001b[36m  julia> x + prevfloat(eps(x)/2) # rounds down\u001b[39m\n",
       "\u001b[36m  1.7976931348623157e308\u001b[39m\n",
       "\n",
       "  ────────────────────────────────────────────────────────────────────────────\n",
       "\n",
       "\u001b[36m  eps(::Type{DateTime}) -> Millisecond\u001b[39m\n",
       "\u001b[36m  eps(::Type{Date}) -> Day\u001b[39m\n",
       "\u001b[36m  eps(::Type{Time}) -> Nanosecond\u001b[39m\n",
       "\u001b[36m  eps(::TimeType) -> Period\u001b[39m\n",
       "\n",
       "  Return the smallest unit value supported by the \u001b[36mTimeType\u001b[39m.\n",
       "\n",
       "\u001b[1m  Examples\u001b[22m\n",
       "\u001b[1m  ≡≡≡≡≡≡≡≡≡≡\u001b[22m\n",
       "\n",
       "\u001b[36m  julia> eps(DateTime)\u001b[39m\n",
       "\u001b[36m  1 millisecond\u001b[39m\n",
       "\u001b[36m  \u001b[39m\n",
       "\u001b[36m  julia> eps(Date)\u001b[39m\n",
       "\u001b[36m  1 day\u001b[39m\n",
       "\u001b[36m  \u001b[39m\n",
       "\u001b[36m  julia> eps(Time)\u001b[39m\n",
       "\u001b[36m  1 nanosecond\u001b[39m"
      ]
     },
     "execution_count": 61,
     "metadata": {},
     "output_type": "execute_result"
    }
   ],
   "source": [
    "?eps"
   ]
  },
  {
   "cell_type": "code",
   "execution_count": 62,
   "metadata": {},
   "outputs": [
    {
     "data": {
      "text/plain": [
       "2.220446049250313e-16"
      ]
     },
     "execution_count": 62,
     "metadata": {},
     "output_type": "execute_result"
    }
   ],
   "source": [
    "# Experiment with eps\n",
    "ϵ = eps()"
   ]
  },
  {
   "cell_type": "code",
   "execution_count": 65,
   "metadata": {},
   "outputs": [
    {
     "data": {
      "text/plain": [
       "1.1102230246251565e-16"
      ]
     },
     "execution_count": 65,
     "metadata": {},
     "output_type": "execute_result"
    }
   ],
   "source": [
    "η = ϵ/2.0"
   ]
  },
  {
   "cell_type": "code",
   "execution_count": 63,
   "metadata": {},
   "outputs": [
    {
     "data": {
      "text/plain": [
       "1.0000000000000002"
      ]
     },
     "execution_count": 63,
     "metadata": {},
     "output_type": "execute_result"
    }
   ],
   "source": [
    "1.0 + ϵ"
   ]
  },
  {
   "cell_type": "code",
   "execution_count": 64,
   "metadata": {},
   "outputs": [
    {
     "data": {
      "text/plain": [
       "2.220446049250313e-16"
      ]
     },
     "execution_count": 64,
     "metadata": {},
     "output_type": "execute_result"
    }
   ],
   "source": [
    "(1.0 + ϵ) - 1.0"
   ]
  },
  {
   "cell_type": "code",
   "execution_count": 66,
   "metadata": {},
   "outputs": [
    {
     "data": {
      "text/plain": [
       "1.0"
      ]
     },
     "execution_count": 66,
     "metadata": {},
     "output_type": "execute_result"
    }
   ],
   "source": [
    "1.0 + η"
   ]
  },
  {
   "cell_type": "code",
   "execution_count": 67,
   "metadata": {},
   "outputs": [
    {
     "data": {
      "text/plain": [
       "0.0"
      ]
     },
     "execution_count": 67,
     "metadata": {},
     "output_type": "execute_result"
    }
   ],
   "source": [
    "(1.0 + η) - 1.0"
   ]
  },
  {
   "cell_type": "code",
   "execution_count": 68,
   "metadata": {},
   "outputs": [
    {
     "name": "stdout",
     "output_type": "stream",
     "text": [
      "search: \u001b[0m\u001b[1mn\u001b[22m\u001b[0m\u001b[1me\u001b[22m\u001b[0m\u001b[1mx\u001b[22m\u001b[0m\u001b[1mt\u001b[22m\u001b[0m\u001b[1mf\u001b[22m\u001b[0m\u001b[1ml\u001b[22m\u001b[0m\u001b[1mo\u001b[22m\u001b[0m\u001b[1ma\u001b[22m\u001b[0m\u001b[1mt\u001b[22m\n",
      "\n"
     ]
    },
    {
     "data": {
      "text/latex": [
       "\\begin{verbatim}\n",
       "nextfloat(x::AbstractFloat, n::Integer)\n",
       "\\end{verbatim}\n",
       "The result of \\texttt{n} iterative applications of \\texttt{nextfloat} to \\texttt{x} if \\texttt{n >= 0}, or \\texttt{-n} applications of \\texttt{prevfloat} if \\texttt{n < 0}.\n",
       "\n",
       "\\rule{\\textwidth}{1pt}\n",
       "\\begin{verbatim}\n",
       "nextfloat(x::AbstractFloat)\n",
       "\\end{verbatim}\n",
       "Return the smallest floating point number \\texttt{y} of the same type as \\texttt{x} such \\texttt{x < y}. If no such \\texttt{y} exists (e.g. if \\texttt{x} is \\texttt{Inf} or \\texttt{NaN}), then return \\texttt{x}.\n",
       "\n"
      ],
      "text/markdown": [
       "```\n",
       "nextfloat(x::AbstractFloat, n::Integer)\n",
       "```\n",
       "\n",
       "The result of `n` iterative applications of `nextfloat` to `x` if `n >= 0`, or `-n` applications of `prevfloat` if `n < 0`.\n",
       "\n",
       "---\n",
       "\n",
       "```\n",
       "nextfloat(x::AbstractFloat)\n",
       "```\n",
       "\n",
       "Return the smallest floating point number `y` of the same type as `x` such `x < y`. If no such `y` exists (e.g. if `x` is `Inf` or `NaN`), then return `x`.\n"
      ],
      "text/plain": [
       "\u001b[36m  nextfloat(x::AbstractFloat, n::Integer)\u001b[39m\n",
       "\n",
       "  The result of \u001b[36mn\u001b[39m iterative applications of \u001b[36mnextfloat\u001b[39m to \u001b[36mx\u001b[39m if \u001b[36mn >= 0\u001b[39m, or \u001b[36m-n\u001b[39m\n",
       "  applications of \u001b[36mprevfloat\u001b[39m if \u001b[36mn < 0\u001b[39m.\n",
       "\n",
       "  ────────────────────────────────────────────────────────────────────────────\n",
       "\n",
       "\u001b[36m  nextfloat(x::AbstractFloat)\u001b[39m\n",
       "\n",
       "  Return the smallest floating point number \u001b[36my\u001b[39m of the same type as \u001b[36mx\u001b[39m such \u001b[36mx <\n",
       "  y\u001b[39m. If no such \u001b[36my\u001b[39m exists (e.g. if \u001b[36mx\u001b[39m is \u001b[36mInf\u001b[39m or \u001b[36mNaN\u001b[39m), then return \u001b[36mx\u001b[39m."
      ]
     },
     "execution_count": 68,
     "metadata": {},
     "output_type": "execute_result"
    }
   ],
   "source": [
    "?nextfloat"
   ]
  },
  {
   "cell_type": "code",
   "execution_count": 69,
   "metadata": {},
   "outputs": [
    {
     "name": "stdout",
     "output_type": "stream",
     "text": [
      "search: \u001b[0m\u001b[1mp\u001b[22m\u001b[0m\u001b[1mr\u001b[22m\u001b[0m\u001b[1me\u001b[22m\u001b[0m\u001b[1mv\u001b[22m\u001b[0m\u001b[1mf\u001b[22m\u001b[0m\u001b[1ml\u001b[22m\u001b[0m\u001b[1mo\u001b[22m\u001b[0m\u001b[1ma\u001b[22m\u001b[0m\u001b[1mt\u001b[22m\n",
      "\n"
     ]
    },
    {
     "data": {
      "text/latex": [
       "\\begin{verbatim}\n",
       "prevfloat(x::AbstractFloat, n::Integer)\n",
       "\\end{verbatim}\n",
       "The result of \\texttt{n} iterative applications of \\texttt{prevfloat} to \\texttt{x} if \\texttt{n >= 0}, or \\texttt{-n} applications of \\texttt{nextfloat} if \\texttt{n < 0}.\n",
       "\n",
       "\\rule{\\textwidth}{1pt}\n",
       "\\begin{verbatim}\n",
       "prevfloat(x::AbstractFloat)\n",
       "\\end{verbatim}\n",
       "Return the largest floating point number \\texttt{y} of the same type as \\texttt{x} such \\texttt{y < x}. If no such \\texttt{y} exists (e.g. if \\texttt{x} is \\texttt{-Inf} or \\texttt{NaN}), then return \\texttt{x}.\n",
       "\n"
      ],
      "text/markdown": [
       "```\n",
       "prevfloat(x::AbstractFloat, n::Integer)\n",
       "```\n",
       "\n",
       "The result of `n` iterative applications of `prevfloat` to `x` if `n >= 0`, or `-n` applications of `nextfloat` if `n < 0`.\n",
       "\n",
       "---\n",
       "\n",
       "```\n",
       "prevfloat(x::AbstractFloat)\n",
       "```\n",
       "\n",
       "Return the largest floating point number `y` of the same type as `x` such `y < x`. If no such `y` exists (e.g. if `x` is `-Inf` or `NaN`), then return `x`.\n"
      ],
      "text/plain": [
       "\u001b[36m  prevfloat(x::AbstractFloat, n::Integer)\u001b[39m\n",
       "\n",
       "  The result of \u001b[36mn\u001b[39m iterative applications of \u001b[36mprevfloat\u001b[39m to \u001b[36mx\u001b[39m if \u001b[36mn >= 0\u001b[39m, or \u001b[36m-n\u001b[39m\n",
       "  applications of \u001b[36mnextfloat\u001b[39m if \u001b[36mn < 0\u001b[39m.\n",
       "\n",
       "  ────────────────────────────────────────────────────────────────────────────\n",
       "\n",
       "\u001b[36m  prevfloat(x::AbstractFloat)\u001b[39m\n",
       "\n",
       "  Return the largest floating point number \u001b[36my\u001b[39m of the same type as \u001b[36mx\u001b[39m such \u001b[36my < x\u001b[39m.\n",
       "  If no such \u001b[36my\u001b[39m exists (e.g. if \u001b[36mx\u001b[39m is \u001b[36m-Inf\u001b[39m or \u001b[36mNaN\u001b[39m), then return \u001b[36mx\u001b[39m."
      ]
     },
     "execution_count": 69,
     "metadata": {},
     "output_type": "execute_result"
    }
   ],
   "source": [
    "?prevfloat"
   ]
  },
  {
   "cell_type": "code",
   "execution_count": 71,
   "metadata": {},
   "outputs": [
    {
     "data": {
      "text/plain": [
       "('0', \"01111111111\", \"0000000000000000000000000000000000000000000000000000\")"
      ]
     },
     "execution_count": 71,
     "metadata": {},
     "output_type": "execute_result"
    }
   ],
   "source": [
    "mybitstring(1.0)"
   ]
  },
  {
   "cell_type": "code",
   "execution_count": 72,
   "metadata": {},
   "outputs": [
    {
     "data": {
      "text/plain": [
       "('0', \"01111111111\", \"0000000000000000000000000000000000000000000000000001\")"
      ]
     },
     "execution_count": 72,
     "metadata": {},
     "output_type": "execute_result"
    }
   ],
   "source": [
    "mybitstring(1.0 + eps())"
   ]
  },
  {
   "cell_type": "code",
   "execution_count": 73,
   "metadata": {},
   "outputs": [
    {
     "data": {
      "text/plain": [
       "2.220446049250313e-16"
      ]
     },
     "execution_count": 73,
     "metadata": {},
     "output_type": "execute_result"
    }
   ],
   "source": [
    "nextfloat(1.0) - 1.0"
   ]
  },
  {
   "cell_type": "code",
   "execution_count": 74,
   "metadata": {},
   "outputs": [
    {
     "data": {
      "text/plain": [
       "2.220446049250313e-16"
      ]
     },
     "execution_count": 74,
     "metadata": {},
     "output_type": "execute_result"
    }
   ],
   "source": [
    "2.0 - prevfloat(2.0)"
   ]
  },
  {
   "cell_type": "code",
   "execution_count": 75,
   "metadata": {},
   "outputs": [
    {
     "data": {
      "text/plain": [
       "4.440892098500626e-16"
      ]
     },
     "execution_count": 75,
     "metadata": {},
     "output_type": "execute_result"
    }
   ],
   "source": [
    "nextfloat(2.0) - 2.0"
   ]
  },
  {
   "cell_type": "code",
   "execution_count": 76,
   "metadata": {},
   "outputs": [
    {
     "data": {
      "text/plain": [
       "0.25"
      ]
     },
     "execution_count": 76,
     "metadata": {},
     "output_type": "execute_result"
    }
   ],
   "source": [
    "x = 2.0^50.0\n",
    "nextfloat(x) - x"
   ]
  },
  {
   "cell_type": "code",
   "execution_count": 77,
   "metadata": {},
   "outputs": [
    {
     "data": {
      "text/plain": [
       "0.5"
      ]
     },
     "execution_count": 77,
     "metadata": {},
     "output_type": "execute_result"
    }
   ],
   "source": [
    "x = 2.0^51.0\n",
    "nextfloat(x) - x"
   ]
  },
  {
   "cell_type": "code",
   "execution_count": 78,
   "metadata": {},
   "outputs": [
    {
     "data": {
      "text/plain": [
       "1.0"
      ]
     },
     "execution_count": 78,
     "metadata": {},
     "output_type": "execute_result"
    }
   ],
   "source": [
    "x = 2.0^52.0\n",
    "nextfloat(x) - x"
   ]
  },
  {
   "cell_type": "code",
   "execution_count": 79,
   "metadata": {},
   "outputs": [
    {
     "data": {
      "text/plain": [
       "2.0"
      ]
     },
     "execution_count": 79,
     "metadata": {},
     "output_type": "execute_result"
    }
   ],
   "source": [
    "x = 2.0^53.0\n",
    "nextfloat(x) - x"
   ]
  },
  {
   "cell_type": "markdown",
   "metadata": {},
   "source": [
    "---"
   ]
  },
  {
   "cell_type": "markdown",
   "metadata": {},
   "source": [
    "## Roundoff error example\n",
    "\n",
    "Suppose we are using a base-10 floating-point system with 4 significant digits, using `RoundNearest`:\n",
    "\n",
    "$$\n",
    "\\begin{split}\n",
    "\\left( 1.112 \\times 10^1 \\right) \\times \\left( 1.112 \\times 10^2 \\right)\n",
    "& = 1.236544 \\times 10^3 \\\\\n",
    "& \\rightarrow 1.237 \\times 10^3 = 1237\n",
    "\\end{split}\n",
    "$$\n",
    "\n",
    "The absolute error is $1237 - 1236.544 = 0.456$.\n",
    "\n",
    "The relative error is $$\\frac{0.456}{1236.544} \\approx 0.0004 = 0.04 \\%$$"
   ]
  },
  {
   "cell_type": "markdown",
   "metadata": {},
   "source": [
    "The default rounding mode is `RoundNearest` (round to the nearest floating-point number). This implies that\n",
    "\n",
    "$$ \\frac{|x - \\mathrm{fl}(x)|}{|x|} \\leq \\eta.$$\n",
    "\n",
    "If `RoundToZero` is used (a.k.a. **chopping**), then\n",
    "\n",
    "$$ \\frac{|x - \\mathrm{fl}(x)|}{|x|} \\leq 2 \\eta.$$\n",
    "\n",
    "`RoundNearest` is used since it produces smaller roundoff errors."
   ]
  },
  {
   "cell_type": "markdown",
   "metadata": {},
   "source": [
    "---"
   ]
  },
  {
   "cell_type": "markdown",
   "metadata": {},
   "source": [
    "## Roundoff error accumulation\n",
    "\n",
    "When performing arithmetic operations on floats, extra **guard digits** are used to ensure **exact rounding**. This guarantees that the relative error of a floating-point operation (**flop**) is small. More precisely, for floating-point numbers $x$ and $y$, we have\n",
    "\n",
    "$$\n",
    "\\begin{split}\n",
    "\\mathrm{fl}(x \\pm y) &= (x \\pm y)(1 + \\varepsilon_1) \\\\\n",
    "\\mathrm{fl}(x \\times y) &= (x \\times y)(1 + \\varepsilon_2) \\\\\n",
    "\\mathrm{fl}(x \\div y) &= (x \\div y)(1 + \\varepsilon_3) \\\\\n",
    "\\end{split}\n",
    "$$\n",
    "\n",
    "where $|\\varepsilon_i| \\leq \\eta$, for $i = 1,2,3$, where $\\eta$ is the unit roundoff.\n",
    "\n",
    "Although the relative error of each flop is small, it is possible to have the roundoff error accumulate and create significant error in the final result. If $E_n$ is the error after $n$ flops, then:\n",
    "\n",
    "- **linear roundoff error accumulation** is when $E_n \\approx c_0 n E_0$\n",
    "- **exponential roundoff error accumulation** is when $E_n \\approx c_1^n E_0$, for some $c_1 > 1$\n",
    "\n",
    "In general, linear roundoff error accumulation is unavoidable. On the other hand, exponential roundoff error accumulation is not acceptable and is an indication of an **unstable algorithm**. (See Example 1.6 in Ascher-Greif for an example of exponential roundoff error accumulation, and see Exercise 5 in Section 1.4 for a numerically stable method to accomplish the same task.)"
   ]
  },
  {
   "cell_type": "markdown",
   "metadata": {},
   "source": [
    "---"
   ]
  },
  {
   "cell_type": "markdown",
   "metadata": {},
   "source": [
    "## General advice\n",
    "\n",
    "1. Adding $x + y$ when $|x| \\gg |y|$ can cause the information in $y$ to be 'lost' in the summation.\n",
    "\n",
    "2. Dividing by very small numbers or multiplying by very large numbers can **magnify error**.\n",
    "\n",
    "3. Subtracting numbers that are almost equal produces **cancellation error**.\n",
    "\n",
    "4. An **overflow** occurs when the result is too large in magnitude to be representable as a float. Result will become either `Inf` or `-Inf`. Overflows should be avoided.\n",
    "\n",
    "4. An **underflow** occurs when the result is too small in magnitude to be representable as a float. Result will become either `0.0` or `-0.0`.\n"
   ]
  },
  {
   "cell_type": "markdown",
   "metadata": {},
   "source": [
    "---"
   ]
  },
  {
   "cell_type": "markdown",
   "metadata": {},
   "source": [
    "## Example (summation order)\n",
    "\n",
    "This next example shows that summation order can make a difference. We will compute\n",
    "\n",
    "$$\n",
    "s = \\sum_{n = 1}^{1,000,000} \\frac{1}{n}\n",
    "$$\n",
    "\n",
    "in two different ways: from largest to smallest and from smallest to largest."
   ]
  },
  {
   "cell_type": "code",
   "execution_count": null,
   "metadata": {},
   "outputs": [],
   "source": [
    "# Sum from largest to smallest\n"
   ]
  },
  {
   "cell_type": "code",
   "execution_count": null,
   "metadata": {},
   "outputs": [],
   "source": [
    "# Sum from smallest to largest\n"
   ]
  },
  {
   "cell_type": "markdown",
   "metadata": {},
   "source": [
    "---"
   ]
  },
  {
   "cell_type": "markdown",
   "metadata": {},
   "source": [
    "## Example (cancellation error)\n",
    "\n",
    "Show that \n",
    "\n",
    "$$\n",
    "\\ln\\left( x - \\sqrt{x^2-1} \\right) = -\\ln\\left( x + \\sqrt{x^2-1} \\right).\n",
    "$$\n",
    "\n",
    "Which formula is more suitable for numerical computation?"
   ]
  },
  {
   "cell_type": "code",
   "execution_count": null,
   "metadata": {},
   "outputs": [],
   "source": [
    "# Experiment with both formulas\n"
   ]
  },
  {
   "cell_type": "markdown",
   "metadata": {},
   "source": [
    "---"
   ]
  },
  {
   "cell_type": "markdown",
   "metadata": {},
   "source": [
    "## Example (avoiding overflow)\n",
    "\n",
    "Overflow is possible when squaring a large number. This needs to be avoided when computing the Euclidean norm (a.k.a. the $2$-norm) of a vector $x$:\n",
    "\n",
    "$$\n",
    "\\|x\\|_2 = \\sqrt{x_1^2 + x_2^2 + \\cdots + x_n^2}.\n",
    "$$\n",
    "\n",
    "If some $x_i$ is very large, it is possible that $x_i^2$ will overflow, causing the final result to be `Inf`. We can avoid this as follows.\n",
    "\n",
    "Let \n",
    "$$\\bar{x} = \\max_{i=1:n} |x_i|.$$\n",
    "Then\n",
    "$$\n",
    "\\|x\\|_2 = \\bar{x} \\sqrt{\\left(\\frac{x_1}{\\bar{x}}\\right)^2 + \\left(\\frac{x_2}{\\bar{x}}\\right)^2 + \\cdots + \\left(\\frac{x_n}{\\bar{x}}\\right)^2}.\n",
    "$$\n",
    "Since $|x_i/\\bar{x}| \\leq 1$ for all $i$, no overflow will occur. Underflow may occur, but this is harmless.\n"
   ]
  },
  {
   "cell_type": "code",
   "execution_count": null,
   "metadata": {},
   "outputs": [],
   "source": [
    "# Experiment with both formulas\n",
    "n = 100\n",
    "\n",
    "x = randn(n)\n",
    "x[1] = 1e200\n",
    "\n",
    "using LinearAlgebra\n",
    "norm(x)"
   ]
  },
  {
   "cell_type": "markdown",
   "metadata": {},
   "source": [
    "---"
   ]
  }
 ],
 "metadata": {
  "anaconda-cloud": {},
  "kernelspec": {
   "display_name": "Julia 1.5.3",
   "language": "julia",
   "name": "julia-1.5"
  },
  "language_info": {
   "file_extension": ".jl",
   "mimetype": "application/julia",
   "name": "julia",
   "version": "1.5.3"
  }
 },
 "nbformat": 4,
 "nbformat_minor": 1
}
