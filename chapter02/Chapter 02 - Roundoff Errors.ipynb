{
 "cells": [
  {
   "cell_type": "markdown",
   "metadata": {},
   "source": [
    "---"
   ]
  },
  {
   "cell_type": "markdown",
   "metadata": {},
   "source": [
    "## Floating-point arithmetic\n",
    "\n",
    "Real numbers are stored on a computer following the IEEE floating-point standard:\n",
    "\n",
    "1. **half precision** using 16 bits (Julia type: `Float16`)\n",
    "2. **single precision** using 32 bits (Julia type: `Float32`)\n",
    "3. **double precision** using 64 bits (Julia type: `Float64`)\n",
    "\n",
    "Julia also has an **arbitrary precision** floating-point data type called `BigFloat`. It is excellent if you need more precision, but it is also much slower."
   ]
  },
  {
   "cell_type": "code",
   "execution_count": null,
   "metadata": {},
   "outputs": [],
   "source": [
    "?AbstractFloat"
   ]
  },
  {
   "cell_type": "code",
   "execution_count": null,
   "metadata": {},
   "outputs": [],
   "source": [
    "subtypes(AbstractFloat)"
   ]
  },
  {
   "cell_type": "markdown",
   "metadata": {},
   "source": [
    "---"
   ]
  },
  {
   "cell_type": "markdown",
   "metadata": {},
   "source": [
    "## Description of IEEE double floating-point format (`Float64`)\n",
    "\n",
    "Suppose $x$ is a floating-point number stored in the following 64-bits:\n",
    "\n",
    "$$\n",
    "\\begin{array}{|c|c|c|c|c|c|c|}\n",
    "\\hline\n",
    "1 & 2 & \\cdots & 12 & 13 & \\cdots & 64 \\\\\n",
    "\\hline\n",
    "s & e_{10} & \\cdots & e_0 & f_1 & \\cdots & f_{52} \\\\\n",
    "\\hline\n",
    "\\end{array}\n",
    "$$\n",
    "\n",
    "- 1 bit $s$ represents the **sign**\n",
    "- 11 bits $e_{10} \\cdots e_{0}$ represent the **exponent**\n",
    "- 52 bits $f_1 \\cdots f_{52}$ represent the **fraction** (a.k.a. the mantissa or significand)\n",
    "\n",
    "Then\n",
    "\n",
    "$$ x = (-1)^s \\left[1.f_1 \\cdots f_{52}\\right]_2 \\times 2^{(e-1023)}.$$\n",
    "\n",
    "Notes: \n",
    "\n",
    "- $x$ is **normalized** to have its first digit nonzero.\n",
    "- $e = \\left[e_{10} \\cdots e_{0}\\right]_2 = e_{10} 2^{10} + \\cdots + e_1 2^1 + e_0 2^0 \\in \\left[0, 2^{11}-1\\right] = [0, 2047]$\n",
    "- $e = 0$ and $e = 2047$ are reserved for special floating-point values, so \n",
    "\n",
    "$$e \\in [1, 2046]$$\n",
    "\n",
    "- the \"$-1023$\" in the exponent is called the **bias**:  $e-1023 \\in [-1022,1023]$\n",
    "- $\\left[1.f_1 \\cdots f_{52}\\right]_2 = 1 + \\frac{f_1}{2^1} + \\frac{f_2}{2^2} + \\cdots + \\frac{f_{52}}{2^{52}}$\n"
   ]
  },
  {
   "cell_type": "markdown",
   "metadata": {},
   "source": [
    "---"
   ]
  },
  {
   "cell_type": "markdown",
   "metadata": {},
   "source": [
    "## Example\n",
    "\n",
    "$$\n",
    "\\begin{split}\n",
    "x & = -[1.101101]_2 \\times 2^{(1026-1023)} \\\\\n",
    "  & = -[1.101101]_2 \\times 2^{3} \\\\\n",
    "  & = -[1101.101]_2 \\\\\n",
    "  & = -\\left(1 \\cdot 8 + 1 \\cdot 4 + 0 \\cdot 2 + 1 \\cdot 1 + 1 \\cdot \\frac{1}{2} + 0 \\cdot \\frac{1}{4} + 1 \\cdot \\frac{1}{8}\\right)  \\\\\n",
    "  & = -13.625\n",
    "\\end{split}\n",
    "$$"
   ]
  },
  {
   "cell_type": "code",
   "execution_count": null,
   "metadata": {},
   "outputs": [],
   "source": [
    "?bitstring"
   ]
  },
  {
   "cell_type": "code",
   "execution_count": null,
   "metadata": {},
   "outputs": [],
   "source": [
    "s = bitstring(-13.625)"
   ]
  },
  {
   "cell_type": "code",
   "execution_count": null,
   "metadata": {},
   "outputs": [],
   "source": [
    "s[1], s[2:12], s[13:64]"
   ]
  },
  {
   "cell_type": "code",
   "execution_count": null,
   "metadata": {},
   "outputs": [],
   "source": [
    "Int(0b10000000010)"
   ]
  },
  {
   "cell_type": "code",
   "execution_count": null,
   "metadata": {},
   "outputs": [],
   "source": [
    "function mybitstring(x::Float64)\n",
    "    s = bitstring(x)\n",
    "    return s[1], s[2:12], s[13:64]\n",
    "end"
   ]
  },
  {
   "cell_type": "code",
   "execution_count": null,
   "metadata": {},
   "outputs": [],
   "source": [
    "mybitstring(-13.625)"
   ]
  },
  {
   "cell_type": "code",
   "execution_count": null,
   "metadata": {},
   "outputs": [],
   "source": [
    "methods(mybitstring)"
   ]
  },
  {
   "cell_type": "code",
   "execution_count": null,
   "metadata": {},
   "outputs": [],
   "source": [
    "mybitstring(10)"
   ]
  },
  {
   "cell_type": "markdown",
   "metadata": {},
   "source": [
    "---"
   ]
  },
  {
   "cell_type": "markdown",
   "metadata": {},
   "source": [
    "## Example\n",
    "\n",
    "Even if a number can be represented exactly in base-10 with a finite number of digits, it may require an infinite number of digits in base-2.\n",
    "\n",
    "$$\n",
    "0.1 = \\left[0.000110011001\\ldots\\right]_2 = \\left[1.\\overline{1001}\\right]_2 \\times 2^{-4}\n",
    "$$\n",
    "\n",
    "Therefore, $0.1$ cannot be represented exactly as a floating-point number."
   ]
  },
  {
   "cell_type": "code",
   "execution_count": null,
   "metadata": {},
   "outputs": [],
   "source": [
    "# Show that 0.1 is not represented exactly as a Float64\n",
    "\n",
    "x = 0.1\n",
    "mybitstring(x)"
   ]
  },
  {
   "cell_type": "code",
   "execution_count": null,
   "metadata": {},
   "outputs": [],
   "source": [
    "y = BigFloat(x)"
   ]
  },
  {
   "cell_type": "code",
   "execution_count": null,
   "metadata": {},
   "outputs": [],
   "source": [
    "BigFloat(\"0.1\")"
   ]
  },
  {
   "cell_type": "code",
   "execution_count": null,
   "metadata": {},
   "outputs": [],
   "source": [
    "BigFloat(\"0.1\") - 0.1"
   ]
  },
  {
   "cell_type": "markdown",
   "metadata": {},
   "source": [
    "---"
   ]
  },
  {
   "cell_type": "markdown",
   "metadata": {},
   "source": [
    "## Limits of floating-point numbers\n",
    "\n",
    "- **Largest** `Float64` $= \\left(2 - 2^{-52}\\right) \\times 2^{1023} \\approx 2 \\times 10^{308}$\n",
    "- **Smallest positive normalized** `Float64` $= 2^{-1022} \\approx 2 \\times 10^{-308}$"
   ]
  },
  {
   "cell_type": "code",
   "execution_count": null,
   "metadata": {},
   "outputs": [],
   "source": [
    "?floatmax"
   ]
  },
  {
   "cell_type": "code",
   "execution_count": null,
   "metadata": {},
   "outputs": [],
   "source": [
    "# Experiment with floatmax\n",
    "x = floatmax(Float64)"
   ]
  },
  {
   "cell_type": "code",
   "execution_count": null,
   "metadata": {},
   "outputs": [],
   "source": [
    "mybitstring(x)"
   ]
  },
  {
   "cell_type": "code",
   "execution_count": null,
   "metadata": {},
   "outputs": [],
   "source": [
    "(x + 1.0) - x"
   ]
  },
  {
   "cell_type": "code",
   "execution_count": null,
   "metadata": {},
   "outputs": [],
   "source": [
    "10.0*x"
   ]
  },
  {
   "cell_type": "code",
   "execution_count": null,
   "metadata": {},
   "outputs": [],
   "source": [
    "(10.0*x)/10.0"
   ]
  },
  {
   "cell_type": "code",
   "execution_count": null,
   "metadata": {},
   "outputs": [],
   "source": [
    "-10.0*x"
   ]
  },
  {
   "cell_type": "markdown",
   "metadata": {},
   "source": [
    "---"
   ]
  },
  {
   "cell_type": "code",
   "execution_count": null,
   "metadata": {
    "scrolled": true
   },
   "outputs": [],
   "source": [
    "?floatmin"
   ]
  },
  {
   "cell_type": "code",
   "execution_count": null,
   "metadata": {},
   "outputs": [],
   "source": [
    "# Experiment with floatmin\n",
    "x = floatmin(Float64)"
   ]
  },
  {
   "cell_type": "code",
   "execution_count": null,
   "metadata": {},
   "outputs": [],
   "source": [
    "mybitstring(x)"
   ]
  },
  {
   "cell_type": "code",
   "execution_count": null,
   "metadata": {},
   "outputs": [],
   "source": [
    "x/10.0"
   ]
  },
  {
   "cell_type": "code",
   "execution_count": null,
   "metadata": {},
   "outputs": [],
   "source": [
    "mybitstring(x/10.0)"
   ]
  },
  {
   "cell_type": "code",
   "execution_count": null,
   "metadata": {},
   "outputs": [],
   "source": [
    "x/1e16"
   ]
  },
  {
   "cell_type": "code",
   "execution_count": null,
   "metadata": {},
   "outputs": [],
   "source": [
    "(x/1e16)*1e16"
   ]
  },
  {
   "cell_type": "markdown",
   "metadata": {},
   "source": [
    "---"
   ]
  },
  {
   "cell_type": "markdown",
   "metadata": {},
   "source": [
    "## De-normalized floating-point numbers\n",
    "\n",
    "The IEEE floating-point standard also allows **de-normalized** numbers that are smaller than `floatmin(Float64)`. De-normalized floats are represented by $e = 0$."
   ]
  },
  {
   "cell_type": "code",
   "execution_count": null,
   "metadata": {},
   "outputs": [],
   "source": [
    "# Compute the smallest Float64 that is not zero\n",
    "\n",
    "x = 1.0\n",
    "n = 0\n",
    "while x != 0.0\n",
    "    x /= 2.0\n",
    "    n -= 1\n",
    "end\n",
    "\n",
    "x, n"
   ]
  },
  {
   "cell_type": "code",
   "execution_count": null,
   "metadata": {},
   "outputs": [],
   "source": [
    "2.0^-1075"
   ]
  },
  {
   "cell_type": "code",
   "execution_count": null,
   "metadata": {},
   "outputs": [],
   "source": [
    "x = 2.0^-1074"
   ]
  },
  {
   "cell_type": "code",
   "execution_count": null,
   "metadata": {},
   "outputs": [],
   "source": [
    "mybitstring(x)"
   ]
  },
  {
   "cell_type": "code",
   "execution_count": null,
   "metadata": {},
   "outputs": [],
   "source": [
    "(x/2.0)*2.0 == x"
   ]
  },
  {
   "cell_type": "markdown",
   "metadata": {},
   "source": [
    "---"
   ]
  },
  {
   "cell_type": "markdown",
   "metadata": {},
   "source": [
    "## Other special floats\n",
    "\n",
    "- `0.0` and `-0.0`: $$e_{10} \\cdots e_0 = 0 \\cdots 0 \\quad \\text{and} \\quad f_1 \\cdots f_{52} = 0 \\cdots 0$$\n",
    "- `Inf` and `-Inf`: $$e_{10} \\cdots e_0 = 1 \\cdots 1 \\quad \\text{and} \\quad f_1 \\cdots f_{52} = 0 \\cdots 0$$\n",
    "- `NaN` (not-a-number): $$e_{10} \\cdots e_0 = 1 \\cdots 1 \\quad \\text{and} \\quad f_1 \\cdots f_{52} \\neq 0$$\n",
    "\n",
    "From [Julia Manual: Mathematical Operations and Elementary Functions](https://docs.julialang.org/en/v1/manual/mathematical-operations/):\n",
    "\n",
    "- `Inf` is equal to itself and greater than everything else except `NaN`.\n",
    "- `-Inf` is equal to itself and less then everything else except `NaN`.\n",
    "- `NaN` is not equal to, not less than, and not greater than anything, including itself."
   ]
  },
  {
   "cell_type": "code",
   "execution_count": null,
   "metadata": {},
   "outputs": [],
   "source": [
    "# Experiment with 0.0, -0.0, Inf, -Inf, and NaN\n",
    "\n",
    "mybitstring(0.0)"
   ]
  },
  {
   "cell_type": "code",
   "execution_count": null,
   "metadata": {},
   "outputs": [],
   "source": [
    "mybitstring(-0.0)"
   ]
  },
  {
   "cell_type": "code",
   "execution_count": null,
   "metadata": {},
   "outputs": [],
   "source": [
    "Inf - Inf"
   ]
  },
  {
   "cell_type": "code",
   "execution_count": null,
   "metadata": {},
   "outputs": [],
   "source": [
    "0.0*Inf"
   ]
  },
  {
   "cell_type": "code",
   "execution_count": null,
   "metadata": {},
   "outputs": [],
   "source": [
    "1.0/0.0"
   ]
  },
  {
   "cell_type": "code",
   "execution_count": null,
   "metadata": {},
   "outputs": [],
   "source": [
    "mybitstring(NaN)"
   ]
  },
  {
   "cell_type": "code",
   "execution_count": null,
   "metadata": {},
   "outputs": [],
   "source": [
    "-0.0 < 0.0"
   ]
  },
  {
   "cell_type": "code",
   "execution_count": null,
   "metadata": {},
   "outputs": [],
   "source": [
    "-0.0 == 0.0"
   ]
  },
  {
   "cell_type": "code",
   "execution_count": null,
   "metadata": {},
   "outputs": [],
   "source": [
    "-0.0 === 0.0"
   ]
  },
  {
   "cell_type": "code",
   "execution_count": null,
   "metadata": {},
   "outputs": [],
   "source": [
    "?==="
   ]
  },
  {
   "cell_type": "markdown",
   "metadata": {},
   "source": [
    "---"
   ]
  },
  {
   "cell_type": "markdown",
   "metadata": {},
   "source": [
    "## Machine epsilon `eps(Float64)` and the unit roundoff $\\eta$\n",
    "\n",
    "- `1.0 + eps(Float64)` is the first `Float64` that is larger than `1.0`\n",
    "\n",
    "$$\\mathtt{eps(Float64)} = 2^{-52} \\approx 2.2 \\times 10^{-16}$$\n",
    "\n",
    "- $\\eta = $ `eps(Float64)/2.0` is the largest possible **relative error** due to roundoff\n",
    "\n",
    "$$\\eta = 2^{-53} \\approx 1.1 \\times 10^{-16}$$"
   ]
  },
  {
   "cell_type": "code",
   "execution_count": null,
   "metadata": {},
   "outputs": [],
   "source": [
    "?eps"
   ]
  },
  {
   "cell_type": "code",
   "execution_count": null,
   "metadata": {},
   "outputs": [],
   "source": [
    "# Experiment with eps\n",
    "ϵ = eps()"
   ]
  },
  {
   "cell_type": "code",
   "execution_count": null,
   "metadata": {},
   "outputs": [],
   "source": [
    "η = ϵ/2.0"
   ]
  },
  {
   "cell_type": "code",
   "execution_count": null,
   "metadata": {},
   "outputs": [],
   "source": [
    "1.0 + ϵ"
   ]
  },
  {
   "cell_type": "code",
   "execution_count": null,
   "metadata": {},
   "outputs": [],
   "source": [
    "(1.0 + ϵ) - 1.0"
   ]
  },
  {
   "cell_type": "code",
   "execution_count": null,
   "metadata": {},
   "outputs": [],
   "source": [
    "1.0 + η"
   ]
  },
  {
   "cell_type": "code",
   "execution_count": null,
   "metadata": {},
   "outputs": [],
   "source": [
    "(1.0 + η) - 1.0"
   ]
  },
  {
   "cell_type": "code",
   "execution_count": null,
   "metadata": {},
   "outputs": [],
   "source": [
    "?nextfloat"
   ]
  },
  {
   "cell_type": "code",
   "execution_count": null,
   "metadata": {},
   "outputs": [],
   "source": [
    "?prevfloat"
   ]
  },
  {
   "cell_type": "code",
   "execution_count": null,
   "metadata": {},
   "outputs": [],
   "source": [
    "mybitstring(1.0)"
   ]
  },
  {
   "cell_type": "code",
   "execution_count": null,
   "metadata": {},
   "outputs": [],
   "source": [
    "mybitstring(1.0 + eps())"
   ]
  },
  {
   "cell_type": "code",
   "execution_count": null,
   "metadata": {},
   "outputs": [],
   "source": [
    "nextfloat(1.0) - 1.0"
   ]
  },
  {
   "cell_type": "code",
   "execution_count": null,
   "metadata": {},
   "outputs": [],
   "source": [
    "2.0 - prevfloat(2.0)"
   ]
  },
  {
   "cell_type": "code",
   "execution_count": null,
   "metadata": {},
   "outputs": [],
   "source": [
    "nextfloat(2.0) - 2.0"
   ]
  },
  {
   "cell_type": "code",
   "execution_count": null,
   "metadata": {},
   "outputs": [],
   "source": [
    "x = 2.0^50.0\n",
    "nextfloat(x) - x"
   ]
  },
  {
   "cell_type": "code",
   "execution_count": null,
   "metadata": {},
   "outputs": [],
   "source": [
    "x = 2.0^51.0\n",
    "nextfloat(x) - x"
   ]
  },
  {
   "cell_type": "code",
   "execution_count": null,
   "metadata": {},
   "outputs": [],
   "source": [
    "x = 2.0^52.0\n",
    "nextfloat(x) - x"
   ]
  },
  {
   "cell_type": "code",
   "execution_count": null,
   "metadata": {},
   "outputs": [],
   "source": [
    "x = 2.0^53.0\n",
    "nextfloat(x) - x"
   ]
  },
  {
   "cell_type": "markdown",
   "metadata": {},
   "source": [
    "---"
   ]
  },
  {
   "cell_type": "markdown",
   "metadata": {},
   "source": [
    "## Roundoff error example\n",
    "\n",
    "Suppose we are using a base-10 floating-point system with 4 significant digits, using `RoundNearest`:\n",
    "\n",
    "$$\n",
    "\\begin{split}\n",
    "\\left( 1.112 \\times 10^1 \\right) \\times \\left( 1.112 \\times 10^2 \\right)\n",
    "& = 1.236544 \\times 10^3 \\\\\n",
    "& \\rightarrow 1.237 \\times 10^3 = 1237\n",
    "\\end{split}\n",
    "$$\n",
    "\n",
    "The absolute error is $1237 - 1236.544 = 0.456$.\n",
    "\n",
    "The relative error is $$\\frac{0.456}{1236.544} \\approx 0.0004 = 0.04 \\%$$"
   ]
  },
  {
   "cell_type": "markdown",
   "metadata": {},
   "source": [
    "The default rounding mode is `RoundNearest` (round to the nearest floating-point number). This implies that\n",
    "\n",
    "$$ \\frac{|x - \\mathrm{fl}(x)|}{|x|} \\leq \\eta.$$\n",
    "\n",
    "If `RoundToZero` is used (a.k.a. **chopping**), then\n",
    "\n",
    "$$ \\frac{|x - \\mathrm{fl}(x)|}{|x|} \\leq 2 \\eta.$$\n",
    "\n",
    "`RoundNearest` is used since it produces smaller roundoff errors."
   ]
  },
  {
   "cell_type": "markdown",
   "metadata": {},
   "source": [
    "---"
   ]
  },
  {
   "cell_type": "markdown",
   "metadata": {},
   "source": [
    "## Roundoff error accumulation\n",
    "\n",
    "When performing arithmetic operations on floats, extra **guard digits** are used to ensure **exact rounding**. This guarantees that the relative error of a floating-point operation (**flop**) is small. More precisely, for floating-point numbers $x$ and $y$, we have\n",
    "\n",
    "$$\n",
    "\\begin{split}\n",
    "\\mathrm{fl}(x \\pm y) &= (x \\pm y)(1 + \\varepsilon_1) \\\\\n",
    "\\mathrm{fl}(x \\times y) &= (x \\times y)(1 + \\varepsilon_2) \\\\\n",
    "\\mathrm{fl}(x \\div y) &= (x \\div y)(1 + \\varepsilon_3) \\\\\n",
    "\\end{split}\n",
    "$$\n",
    "\n",
    "where $|\\varepsilon_i| \\leq \\eta$, for $i = 1,2,3$, where $\\eta$ is the unit roundoff.\n",
    "\n",
    "Although the relative error of each flop is small, it is possible to have the roundoff error accumulate and create significant error in the final result. If $E_n$ is the error after $n$ flops, then:\n",
    "\n",
    "- **linear roundoff error accumulation** is when $E_n \\approx c_0 n E_0$\n",
    "- **exponential roundoff error accumulation** is when $E_n \\approx c_1^n E_0$, for some $c_1 > 1$\n",
    "\n",
    "In general, linear roundoff error accumulation is unavoidable. On the other hand, exponential roundoff error accumulation is not acceptable and is an indication of an **unstable algorithm**. (See Example 1.6 in Ascher-Greif for an example of exponential roundoff error accumulation, and see Exercise 5 in Section 1.4 for a numerically stable method to accomplish the same task.)"
   ]
  },
  {
   "cell_type": "markdown",
   "metadata": {},
   "source": [
    "---"
   ]
  },
  {
   "cell_type": "markdown",
   "metadata": {},
   "source": [
    "## General advice\n",
    "\n",
    "1. Adding $x + y$ when $|x| \\gg |y|$ can cause the information in $y$ to be 'lost' in the summation.\n",
    "\n",
    "2. Dividing by very small numbers or multiplying by very large numbers can **magnify error**.\n",
    "\n",
    "3. Subtracting numbers that are almost equal produces **cancellation error**.\n",
    "\n",
    "4. An **overflow** occurs when the result is too large in magnitude to be representable as a float. Result will become either `Inf` or `-Inf`. Overflows should be avoided.\n",
    "\n",
    "4. An **underflow** occurs when the result is too small in magnitude to be representable as a float. Result will become either `0.0` or `-0.0`.\n"
   ]
  },
  {
   "cell_type": "markdown",
   "metadata": {},
   "source": [
    "---"
   ]
  },
  {
   "cell_type": "markdown",
   "metadata": {},
   "source": [
    "## Example (summation order)\n",
    "\n",
    "This next example shows that summation order can make a difference. We will compute\n",
    "\n",
    "$$\n",
    "s = \\sum_{n = 1}^{1,000,000} \\frac{1}{n}\n",
    "$$\n",
    "\n",
    "in two different ways: from largest to smallest and from smallest to largest."
   ]
  },
  {
   "cell_type": "code",
   "execution_count": null,
   "metadata": {},
   "outputs": [],
   "source": [
    "# Sum from largest to smallest\n",
    "\n",
    "s1 = 0.0\n",
    "for n = 1:1_000_000\n",
    "    s1 += 1/n\n",
    "end\n",
    "s1"
   ]
  },
  {
   "cell_type": "code",
   "execution_count": null,
   "metadata": {},
   "outputs": [],
   "source": [
    "# Sum from smallest to largest\n",
    "\n",
    "s2 = 0.0\n",
    "for n = 1_000_000:-1:1\n",
    "    s2 += 1/n\n",
    "end\n",
    "s2"
   ]
  },
  {
   "cell_type": "code",
   "execution_count": null,
   "metadata": {},
   "outputs": [],
   "source": [
    "s = BigFloat(0)\n",
    "for n = 1_000_000:-1:1\n",
    "    s += BigFloat(1)/n\n",
    "end\n",
    "Float64(s)\n",
    "s"
   ]
  },
  {
   "cell_type": "markdown",
   "metadata": {},
   "source": [
    "```\n",
    "14.392726722865723 63138112749318858767664480001374431165341843304581295850751387\n",
    "\n",
    "14.39272672286 5724 (BigFloat)\n",
    "14.39272672286 4989 (small to large)\n",
    "14.39272672286 5772 (large to small)\n",
    "```"
   ]
  },
  {
   "cell_type": "code",
   "execution_count": null,
   "metadata": {},
   "outputs": [],
   "source": [
    "abs(Float64(s) - s1)"
   ]
  },
  {
   "cell_type": "code",
   "execution_count": null,
   "metadata": {},
   "outputs": [],
   "source": [
    "abs(Float64(s) - s2)"
   ]
  },
  {
   "cell_type": "markdown",
   "metadata": {},
   "source": [
    "---"
   ]
  },
  {
   "cell_type": "markdown",
   "metadata": {},
   "source": [
    "## Example (cancellation error)\n",
    "\n",
    "Show that \n",
    "\n",
    "$$\n",
    "\\ln\\left( x - \\sqrt{x^2-1} \\right) = -\\ln\\left( x + \\sqrt{x^2-1} \\right).\n",
    "$$\n",
    "\n",
    "Which formula is more suitable for numerical computation?"
   ]
  },
  {
   "cell_type": "code",
   "execution_count": null,
   "metadata": {},
   "outputs": [],
   "source": [
    "# Experiment with both formulas\n",
    "\n",
    "x = 1e6\n",
    "fl = log(x - sqrt(x^2 - 1))\n",
    "fr = -log(x + sqrt(x^2 - 1))\n",
    "fl, fr"
   ]
  },
  {
   "cell_type": "code",
   "execution_count": null,
   "metadata": {},
   "outputs": [],
   "source": [
    "x = BigFloat(\"1e6\")\n",
    "fl = log(x - sqrt(x^2 - 1))\n",
    "fr = -log(x + sqrt(x^2 - 1))\n",
    "fl, fr"
   ]
  },
  {
   "cell_type": "markdown",
   "metadata": {},
   "source": [
    "### Float64:\n",
    "```\n",
    "fl = -14.50865_012405984\n",
    "fr = -14.50865_7738523969\n",
    "```\n",
    "### BigFloat:\n",
    "```\n",
    "fl = -14.50865773852396941352518075581436181363002573279952559729981405735_302986080484\n",
    "fr = -14.50865773852396941352518075581436181363002573279952559729981405735_612094668172\n",
    "```\n",
    "### Comparison:\n",
    "```\n",
    "fr = -14.508657738523969\n",
    "fr = -14.50865773852396941352518075581436181363002573279952559729981405735_612094668172\n",
    "```"
   ]
  },
  {
   "cell_type": "markdown",
   "metadata": {},
   "source": [
    "---"
   ]
  },
  {
   "cell_type": "markdown",
   "metadata": {},
   "source": [
    "## Example (avoiding overflow)\n",
    "\n",
    "Overflow is possible when squaring a large number. This needs to be avoided when computing the Euclidean norm (a.k.a. the $2$-norm) of a vector $x$:\n",
    "\n",
    "$$\n",
    "\\|x\\|_2 = \\sqrt{x_1^2 + x_2^2 + \\cdots + x_n^2}.\n",
    "$$\n",
    "\n",
    "If some $x_i$ is very large, it is possible that $x_i^2$ will overflow, causing the final result to be `Inf`. We can avoid this as follows.\n",
    "\n",
    "Let \n",
    "$$\\bar{x} = \\max_{i=1:n} |x_i|.$$\n",
    "Then\n",
    "$$\n",
    "\\|x\\|_2 = \\bar{x} \\sqrt{\\left(\\frac{x_1}{\\bar{x}}\\right)^2 + \\left(\\frac{x_2}{\\bar{x}}\\right)^2 + \\cdots + \\left(\\frac{x_n}{\\bar{x}}\\right)^2}.\n",
    "$$\n",
    "Since $|x_i/\\bar{x}| \\leq 1$ for all $i$, no overflow will occur. Underflow may occur, but this is harmless.\n"
   ]
  },
  {
   "cell_type": "code",
   "execution_count": null,
   "metadata": {},
   "outputs": [],
   "source": [
    "# Experiment with both formulas\n",
    "n = 100\n",
    "\n",
    "x = rand(n)\n",
    "x[1] = 1e200\n",
    "\n",
    "using LinearAlgebra\n",
    "norm(x)"
   ]
  },
  {
   "cell_type": "code",
   "execution_count": null,
   "metadata": {},
   "outputs": [],
   "source": [
    "s = 0.0\n",
    "for i = 1:n\n",
    "    s += x[i]^2\n",
    "end\n",
    "s = sqrt(s)"
   ]
  },
  {
   "cell_type": "code",
   "execution_count": null,
   "metadata": {},
   "outputs": [],
   "source": [
    "x̄ = maximum(abs.(x))\n",
    "\n",
    "s = 0.0\n",
    "for i = 1:n\n",
    "    s += (x[i]/x̄)^2\n",
    "end\n",
    "s = x̄*sqrt(s)"
   ]
  },
  {
   "cell_type": "markdown",
   "metadata": {},
   "source": [
    "---"
   ]
  }
 ],
 "metadata": {
  "anaconda-cloud": {},
  "kernelspec": {
   "display_name": "Julia 1.5.3",
   "language": "julia",
   "name": "julia-1.5"
  },
  "language_info": {
   "file_extension": ".jl",
   "mimetype": "application/julia",
   "name": "julia",
   "version": "1.5.3"
  }
 },
 "nbformat": 4,
 "nbformat_minor": 1
}
