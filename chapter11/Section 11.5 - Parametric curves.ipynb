{
 "cells": [
  {
   "cell_type": "markdown",
   "metadata": {},
   "source": [
    "---\n",
    "# 11.5 Parametric curves\n",
    "---"
   ]
  },
  {
   "cell_type": "markdown",
   "metadata": {},
   "source": [
    "In this last section, we look at interpolating a set of points \n",
    "\n",
    "$$(x_0, y_0), \\ldots, (x_n, y_n)$$\n",
    "\n",
    "by a **parametric curve**\n",
    "\n",
    "$$x = x(t), \\quad y = y(t), \\quad t \\in [a,b].$$\n",
    "\n",
    "A simple approach is to separately interpolate the $x$-coordinate data\n",
    "\n",
    "$$(t_0, x_0), \\ldots, (t_n, x_n)$$\n",
    "\n",
    "and the $y$-coordinate data\n",
    "\n",
    "$$(t_0, y_0), \\ldots, (t_n, y_n)$$\n",
    "\n",
    "where $t_i = i/n \\in [0, 1]$."
   ]
  },
  {
   "cell_type": "markdown",
   "metadata": {},
   "source": [
    "---"
   ]
  },
  {
   "cell_type": "markdown",
   "metadata": {},
   "source": [
    "## Example\n",
    "\n",
    "Let's try interpolating a number of randomly generated points.\n",
    "\n",
    "**Lagrange interpolation** is ideal here since we have two sets of data having the same $t$-values. Thus, we only need to compute the Lagrange weights once to do polynomial interpolation twice."
   ]
  },
  {
   "cell_type": "code",
   "execution_count": null,
   "metadata": {},
   "outputs": [],
   "source": [
    "# Defining the Lagrange interpolation functions\n",
    "\n",
    "function lagrangeweights(x::Vector{T}) where T\n",
    "\n",
    "    n = length(x) - 1\n",
    "    \n",
    "    w = ones(T, n+1)  # An array of ones, the same size and type as x\n",
    "    for j=1:n+1\n",
    "        for i=1:n+1\n",
    "            if i ≠ j\n",
    "                w[j] *= (x[j] - x[i]) \n",
    "            end\n",
    "        end\n",
    "        try \n",
    "            # If w is an Integer array, \n",
    "            # this will throw an InexactError\n",
    "            w[j] = 1/w[j] \n",
    "        catch\n",
    "            # We give a useful warning here\n",
    "            error(\"Must use either AbstractFloat or Rational array.\")\n",
    "        end\n",
    "    end\n",
    "    \n",
    "    return w\n",
    "end\n",
    "\n",
    "function lagrangeeval(xspan::AbstractVector, w::Vector, x::AbstractVector, y::Vector)\n",
    "    \n",
    "    n = length(x)\n",
    "    \n",
    "    top = zero(xspan)\n",
    "    bottom = zero(xspan)\n",
    "    exact = zeros(Int, length(xspan))\n",
    "\n",
    "    for j=1:n\n",
    "        xdiff = xspan .- x[j]\n",
    "        temp = w[j]./xdiff\n",
    "        top += temp*y[j]\n",
    "        bottom += temp\n",
    "        \n",
    "        exact[xdiff .== 0.0] .= j  # exact[i] = j if xspan[i] = x[j]\n",
    "    end\n",
    "    \n",
    "    p = top./bottom\n",
    "\n",
    "    iinds = findall(exact .!= 0)  # gives the indices i of xspan that equal some x[j]\n",
    "    jinds = exact[iinds]          # gives the corresponding j indices\n",
    "    p[iinds] = y[jinds]           # sets any NaNs in p to the correct values from y\n",
    "    \n",
    "    return p  \n",
    "end\n",
    "\n",
    "lagrangeeval(xx::Real, w::Vector, x::AbstractVector, y::Vector) = lagrangeeval([xx], w, x, y)[1]"
   ]
  },
  {
   "cell_type": "code",
   "execution_count": null,
   "metadata": {},
   "outputs": [],
   "source": [
    "using Plots\n",
    "\n",
    "n = 1\n",
    "x, y = rand(n+1), rand(n+1)\n",
    "t = range(0, 1, length=n+1)\n",
    "t = collect(t)\n",
    "\n",
    "tt = range(0, 1, length=1000)\n",
    "w = lagrangeweights(t)  # Just need to compute weights once\n",
    "px = lagrangeeval(tt, w, t, x)\n",
    "py = lagrangeeval(tt, w, t, y)\n",
    "\n",
    "plot(legend=:none)\n",
    "plot!(px, py)\n",
    "scatter!(x, y, c=:blue)\n",
    "scatter!([x[1]], [y[1]], c=:lime)\n",
    "scatter!([x[end]], [y[end]], c=:red)"
   ]
  },
  {
   "cell_type": "markdown",
   "metadata": {},
   "source": [
    "---"
   ]
  },
  {
   "cell_type": "markdown",
   "metadata": {},
   "source": [
    "# Parametric piecewise cubic Hermite polynomials\n",
    "\n",
    "Piecewise interpolation using cubic Hermite polynomials provides a much better solution.\n",
    "\n",
    "We will draw a curve between two points $(x_0,y_0)$ and $(x_1,y_1)$, and we will use **two guidepoints** $(x_0+\\alpha_0,y_0+\\beta_0)$ and $(x_1-\\alpha_1,y_1-\\beta_1)$ to specify the slope of the curve at the endpoints.\n",
    "\n",
    "Specifically, **Bézier polynomials** are cubic Hermite polynomials $p_x(t)$ and $p_y(t)$ that satisfy\n",
    "\n",
    "$$\n",
    "\\begin{align}\n",
    "p_x(0) &= x_0, &p_x(1) &= x_1, &p_x'(0) &= 3\\alpha_0, &p_x'(1) &= 3\\alpha_1\\\\\n",
    "p_y(0) &= y_0, &p_y(1) &= y_1, &p_y'(0) &= 3\\beta_0,  &p_y'(1) &= 3\\beta_1\\\\\n",
    "\\end{align}\n",
    "$$\n",
    "\n",
    "The factor of 3 is there to ensure that the curve lies within the convex hull of the four points.\n",
    "\n",
    "It can be shown that\n",
    "\n",
    "$$\n",
    "\\begin{align}\n",
    "p_x(t) &= \\big(2(x_0 - x_1) + 3(\\alpha_0 + \\alpha_1)\\big) t^3 + \\big(3(x_1 - x_0) - 3(\\alpha_1 + 2\\alpha_0)\\big) t^2 + 3\\alpha_0 t + x_0\\\\\n",
    "p_y(t) &= \\big(2(y_0 - y_1) + 3(\\beta_0 + \\beta_1)\\big) t^3 + \\big(3(y_1 - y_0) - 3(\\beta_1 + 2\\beta_0)\\big) t^2 + 3\\beta_0 t + y_0\\\\\n",
    "\\end{align}\n",
    "$$\n"
   ]
  },
  {
   "cell_type": "markdown",
   "metadata": {},
   "source": [
    "---"
   ]
  },
  {
   "cell_type": "markdown",
   "metadata": {},
   "source": [
    "## Example\n",
    "\n",
    "Let's form the Bézier curve from four random points."
   ]
  },
  {
   "cell_type": "code",
   "execution_count": null,
   "metadata": {
    "scrolled": false
   },
   "outputs": [],
   "source": [
    "using Plots\n",
    "\n",
    "x, y = rand(2), rand(2)\n",
    "α, β = rand(2), rand(2)\n",
    "\n",
    "tt = range(0, 1, length=1000)\n",
    "\n",
    "plot(legend=:none)\n",
    "\n",
    "plot!([x[1], x[1]+α[1]], [y[1], y[1]+β[1]], c=:green)\n",
    "plot!([x[2], x[2]-α[2]], [y[2], y[2]-β[2]], c=:green)\n",
    "\n",
    "px = (2(x[1]-x[2]) .+ 3(α[1]+α[2]))*tt.^3 .+ (3(x[2]-x[1]) .- 3(α[2]+2α[1]))*tt.^2 .+ 3α[1]*tt .+ x[1]\n",
    "py = (2(y[1]-y[2]) .+ 3(β[1]+β[2]))*tt.^3 .+ (3(y[2]-y[1]) .- 3(β[2]+2β[1]))*tt.^2 .+ 3β[1]*tt .+ y[1]\n",
    "\n",
    "plot!(px, py, c=:blue)"
   ]
  },
  {
   "cell_type": "markdown",
   "metadata": {},
   "source": [
    "---"
   ]
  },
  {
   "cell_type": "markdown",
   "metadata": {},
   "source": [
    "## `bezier.jl`: an interactive example\n",
    "\n",
    "---\n",
    "\n",
    "Save the following code in a file called `bezier.jl`.\n",
    "\n",
    "---"
   ]
  },
  {
   "cell_type": "markdown",
   "metadata": {},
   "source": [
    "```julia\n",
    "using PyPlot\n",
    "\n",
    "# This function creates a blank figure\n",
    "function figreset()\n",
    "    ax = [0, 1, 0, 1]\n",
    "    clf(); axis(ax)\n",
    "    title(\"Click to place guidepoints\")\n",
    "end\n",
    "\n",
    "# Create the initial figure window\n",
    "figreset()\n",
    "\n",
    "# Tell user what to do\n",
    "println(\"Click figure to place guidepoints.\")\n",
    "\n",
    "# Keep doing this forever\n",
    "while true\n",
    "\n",
    "    # Collect the four guidepoints from user input\n",
    "    gp = zeros(4, 2)\n",
    "    for i=1:4\n",
    "        p = ginput()[1]\n",
    "        gp[i, :] = [p[1], p[2]]\n",
    "        figreset()\n",
    "        if i < 3\n",
    "            plot(gp[1:i,1], gp[1:i,2], \"go-\")\n",
    "        else\n",
    "            plot(gp[1:2,1], gp[1:2,2], \"go-\")\n",
    "            plot(gp[3:i,1], gp[3:i,2], \"go-\")\n",
    "        end\n",
    "    end\n",
    "\n",
    "    # Define x and y\n",
    "    x = gp[[1,3],1]\n",
    "    y = gp[[1,3],2]\n",
    "\n",
    "    # Define α and β\n",
    "    α = [gp[2,1] - x[1], x[2] - gp[4,1]]\n",
    "    β = [gp[2,2] - y[1], y[2] - gp[4,2]]\n",
    "\n",
    "    # Plot the guidepoints\n",
    "    figreset()\n",
    "    plot([x[1], x[1]+α[1]], [y[1], y[1]+β[1]], \"g-\")\n",
    "    plot([x[2], x[2]-α[2]], [y[2], y[2]-β[2]], \"g-\")\n",
    "\n",
    "    # Plot Bézier curve\n",
    "    tt = range(0, 1, length=1000)\n",
    "    px = (2(x[1]-x[2]) .+ 3(α[1]+α[2]))*tt.^3 .+\n",
    "         (3(x[2]-x[1]) .- 3(α[2]+2α[1]))*tt.^2 .+\n",
    "         3α[1]*tt .+ x[1]\n",
    "    py = (2(y[1]-y[2]) .+ 3(β[1]+β[2]))*tt.^3 .+\n",
    "         (3(y[2]-y[1]) .- 3(β[2]+2β[1]))*tt.^2 .+\n",
    "         3β[1]*tt .+ y[1]\n",
    "    plot(px, py)\n",
    "\n",
    "end\n",
    "```"
   ]
  },
  {
   "cell_type": "markdown",
   "metadata": {},
   "source": [
    "---\n",
    "\n",
    " Start an interactive Julia session and execute `include(\"bezier.jl\")` at the `julia>` prompt.\n",
    "\n",
    "---"
   ]
  },
  {
   "cell_type": "markdown",
   "metadata": {},
   "source": [
    "                   _\n",
    "       _       _ _(_)_     |  A fresh approach to technical computing\n",
    "      (_)     | (_) (_)    |  Documentation: http://docs.julialang.org\n",
    "       _ _   _| |_  __ _   |  Type \"help()\" for help.\n",
    "      | | | | | | |/ _` |  |\n",
    "      | | |_| | | | (_| |  |  Version 0.3.12 (2015-10-26 12:41 UTC)\n",
    "     _/ |\\__'_|_|_|\\__'_|  |  Official http://julialang.org/ release\n",
    "    |__/                   |  x86_64-apple-darwin13.4.0\n",
    "\n",
    "    julia> include(\"bezier.jl\")\n",
    "    INFO: Loading help data...\n",
    "    Click figure to place guidepoints."
   ]
  },
  {
   "cell_type": "markdown",
   "metadata": {},
   "source": [
    "---"
   ]
  },
  {
   "cell_type": "markdown",
   "metadata": {},
   "source": [
    "[SVG Cubic Bezier Commands](https://www.w3.org/TR/SVG/paths.html#PathDataCubicBezierCommands)"
   ]
  },
  {
   "cell_type": "markdown",
   "metadata": {},
   "source": [
    "---"
   ]
  },
  {
   "cell_type": "markdown",
   "metadata": {},
   "source": [
    "# Celeste\n",
    "\n",
    "The hanging cables in the first chapter of Celeste are drawn and animated using Bézier curves.\n",
    "\n",
    "[Celeste YouTube video](https://youtu.be/HV0yJ2cae9Q?t=20) showing the animation of the hanging cables.\n",
    "\n",
    "[YouTube video](https://youtu.be/u-nSjhIgmXc?t=2967): Celeste devs discuss using Bézier curves draw and animate hanging cables.\n",
    "\n",
    "![Celeste](https://oyster.ignimgs.com/mediawiki/apis.ign.com/celeste/a/ac/180124_CI_C1_S2.png?width=960)"
   ]
  },
  {
   "cell_type": "markdown",
   "metadata": {},
   "source": [
    "---"
   ]
  }
 ],
 "metadata": {
  "@webio": {
   "lastCommId": null,
   "lastKernelId": null
  },
  "kernelspec": {
   "display_name": "Julia 1.5.3",
   "language": "julia",
   "name": "julia-1.5"
  },
  "language_info": {
   "file_extension": ".jl",
   "mimetype": "application/julia",
   "name": "julia",
   "version": "1.5.3"
  }
 },
 "nbformat": 4,
 "nbformat_minor": 1
}
