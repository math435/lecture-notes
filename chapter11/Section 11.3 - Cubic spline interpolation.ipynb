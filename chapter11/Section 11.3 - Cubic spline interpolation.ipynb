{
 "cells": [
  {
   "cell_type": "markdown",
   "metadata": {},
   "source": [
    "---\n",
    "# 11.3 Cubic spline interpolation\n",
    "---"
   ]
  },
  {
   "cell_type": "markdown",
   "metadata": {},
   "source": [
    "## Introduction\n",
    "\n",
    "Suppose now that we do not have access to $f'$.\n",
    "\n",
    "What additional conditions should we use to determine the piecewise cubic polynomial?\n",
    "\n",
    "Each cubic piece is determined by four coefficients:\n",
    "\n",
    "$$p_i(x) = a_i + b_i(x-x_i) + c_i(x-x_i)^2 + d_i(x-x_i)^3, \\quad x \\in [x_i,x_{i+1}], \\quad i=0,\\ldots,n-1.$$\n",
    "\n",
    "There are $n$ subintervals, so we have a total of $4n$ coefficients to determine.\n",
    "\n",
    "Thus, we will need a total of $4n$ equations to determine all coefficients."
   ]
  },
  {
   "cell_type": "markdown",
   "metadata": {},
   "source": [
    "---"
   ]
  },
  {
   "cell_type": "markdown",
   "metadata": {},
   "source": [
    "## Continuity and differentiability conditions\n",
    "\n",
    "Enforcing **continuity** (i.e., $p \\in C^0[a,b]$) gives us $2n$ equations:\n",
    "\n",
    "$$\n",
    "\\begin{align}\n",
    "p_i(x_i) &= f(x_i), \\quad i = 0, \\dots, n-1 \\quad \\text{(left)}\\\\\n",
    "p_i(x_{i+1}) &= f(x_{i+1}), \\quad i = 0, \\dots, n-1 \\quad \\text{(right)}\\\\\n",
    "\\end{align}\n",
    "$$\n",
    "\n",
    "Enforcing **first derivative continuity** (i.e., $p \\in C^1[a,b]$) gives us $n-1$ equations:\n",
    "\n",
    "$$\n",
    "p_i'(x_{i+1}) = p_{i+1}'(x_{i+1}), \\quad i = 0, \\dots, n-2\n",
    "$$\n",
    "\n",
    "Enforcing **second derivative continuity** (i.e., $p \\in C^2[a,b]$) gives us another $n-1$ equations:\n",
    "\n",
    "$$\n",
    "p_i''(x_{i+1}) = p_{i+1}''(x_{i+1}), \\quad i = 0, \\dots, n-2\n",
    "$$\n",
    "\n",
    "Thus, we have a total of $4n - 2$ equations. This is not enough to determine the $4n$ coefficients, so we need to choose two more conditions."
   ]
  },
  {
   "cell_type": "markdown",
   "metadata": {},
   "source": [
    "---"
   ]
  },
  {
   "cell_type": "markdown",
   "metadata": {},
   "source": [
    "## Two additional conditions\n",
    "\n",
    "1. **Free boundary**:\n",
    "\n",
    "    $$p''(x_0) = p''(x_n) = 0$$\n",
    "\n",
    "    Gives us the **natural spline**. Often it is not a good choice since it is usually unreasonable to assume that $f''(x_0) = f''(x_n) = 0$.\n",
    "\n",
    "2. **Clamped boundary**:\n",
    "\n",
    "    $$p'(x_0) = f'(x_0), \\quad p'(x_n) = f'(x_n)$$\n",
    "\n",
    "    Gives us the **complete spline**. However, this option is not possible if the values of $f'(x_0)$ and $f'(x_n)$ are unknown.\n",
    "\n",
    "3. **Not-a-knot**:\n",
    "\n",
    "    $$p_0'''(x_1) = p_1'''(x_1), \\quad p_{n-2}'''(x_{n-1}) = p_{n-1}'''(x_{n-1})$$\n",
    "\n",
    "    This means that $x_1$ and $x_{n-1}$ are no longer knots (i.e., break points) since $p_0$ and $p_1$ become a single cubic polynomial, as do $p_{n-2}$ and $p_{n-1}$."
   ]
  },
  {
   "cell_type": "markdown",
   "metadata": {},
   "source": [
    "---"
   ]
  },
  {
   "cell_type": "markdown",
   "metadata": {},
   "source": [
    "## Computing the Cubic Spline\n",
    "\n",
    "We start with\n",
    "\n",
    "$$\n",
    "\\begin{align}\n",
    "p_i(x) &= a_i + b_i(x-x_i) + c_i(x-x_i)^2 + d_i(x-x_i)^3\\\\\n",
    "p_i'(x) &= b_i + 2c_i(x-x_i) + 3d_i(x-x_i)^2\\\\\n",
    "p_i''(x) &= 2c_i + 6d_i(x-x_i)\\\\\n",
    "\\end{align}\n",
    "$$"
   ]
  },
  {
   "cell_type": "markdown",
   "metadata": {},
   "source": [
    "### Solving for $a_i$\n",
    "\n",
    "The **left continuity equations** $p_i(x_i) = f(x_i)$ imply that\n",
    "\n",
    "$$\\fbox{$a_i = f(x_i), \\quad i=0,\\ldots,n-1.$}$$"
   ]
  },
  {
   "cell_type": "markdown",
   "metadata": {},
   "source": [
    "### Solving for $d_i$\n",
    "\n",
    "The **second derivative continuity equations** $p_i''(x_{i+1}) = p_{i+1}''(x_{i+1})$ become\n",
    "\n",
    "$$2c_i + 6d_i(x_{i+1}-x_i) = 2c_{i+1} + 6d_{i+1}(x_{i+1}-x_{i+1}), \\quad i=0,\\ldots,n-2.$$\n",
    "\n",
    " We let \n",
    "\n",
    "$$h_i = x_{i+1} - x_i, \\quad i=0,\\ldots,n-1.$$ \n",
    "\n",
    "Therefore,\n",
    "\n",
    "$$c_i + 3d_i h_i = c_{i+1}, \\quad i=0,\\ldots,n-2.$$\n",
    "\n",
    "We define \n",
    "\n",
    "$$c_n = c_{n-1} + 3d_{n-1} h_{n-1}.$$ \n",
    "\n",
    "Then\n",
    "\n",
    "$$\\fbox{$d_i = \\displaystyle{\\frac{c_{i+1} - c_i}{3 h_i}}, \\quad i=0,\\ldots,n-1.$}$$\n",
    "\n"
   ]
  },
  {
   "cell_type": "markdown",
   "metadata": {},
   "source": [
    "### Solving for $b_i$\n",
    "\n",
    "The **right interpolation equations** $p_i(x_{i+1}) = f(x_{i+1})$ imply that\n",
    "\n",
    "$$a_i + b_i (x_{i+1}-x_i) + c_i (x_{i+1}-x_i)^2 + d_i (x_{i+1}-x_i)^3 = f(x_{i+1}), \\quad i=0,\\ldots,n-1.$$\n",
    "\n",
    "Since $a_i = f(x_i)$, we have\n",
    "\n",
    "$$f(x_i) + b_i h_i + c_i h_i^2 + d_i h_i^3 = f(x_{i+1}), \\quad i=0,\\ldots,n-1.$$\n",
    "\n",
    "Simplifying and substituting formula for $d_i$, we obtain\n",
    "\n",
    "$$b_i + c_i h_i +  \\frac{c_{i+1} - c_i}{3 h_i} h_i^2 = \\frac{f(x_{i+1}) - f(x_i)}{h_i}, \\quad i=0,\\ldots,n-1.$$\n",
    "\n",
    "This further simplifies to\n",
    "\n",
    "$$b_i + \\frac{h_i}{3}(c_{i+1} + 2c_i) = f[x_i,x_{i+1}], \\quad i=0,\\ldots,n-1.$$\n",
    "\n",
    "Therefore,\n",
    "\n",
    "$$\\fbox{$b_i = f[x_i,x_{i+1}] - \\displaystyle{\\frac{h_i}{3}}(c_{i+1} + 2c_i), \\quad i=0,\\ldots,n-1.$}$$"
   ]
  },
  {
   "cell_type": "markdown",
   "metadata": {},
   "source": [
    "### Solving for $c_i$\n",
    "\n",
    "The **first derivative continuity equations** $p_i'(x_{i+1}) = p_{i+1}'(x_{i+1})$ become\n",
    "\n",
    "$$b_i + 2c_i(x_{i+1}-x_i) + 3d_i(x_{i+1}-x_i)^2 = b_{i+1} + 2c_{i+1}(x_{i+1}-x_{i+1}) + 3d_{i+1}(x_{i+1}-x_{i+1})^2, \\quad i = 0,\\ldots,n-2.$$\n",
    "\n",
    "Again substituting the formula for $d_i$, we get\n",
    "\n",
    "$$b_i + 2c_i h_i + 3\\frac{c_{i+1}-c_i}{3h_i} h_i^2 = b_{i+1}, \\quad i=0,\\ldots,n-2.$$\n",
    "\n",
    "Simplifying,\n",
    "\n",
    "$$b_i + (c_{i+1}+c_i) h_i = b_{i+1}, \\quad i=0,\\ldots,n-2.$$"
   ]
  },
  {
   "cell_type": "markdown",
   "metadata": {},
   "source": [
    "Shifting the index, we have\n",
    "\n",
    "$$b_{i-1} + (c_{i}+c_{i-1}) h_{i-1} = b_{i}, \\quad i=1,\\ldots,n-1.$$\n",
    "\n",
    "Substituting the formula for $b_i$ and $b_{i-1}$, we obtain\n",
    "\n",
    "$$f[x_{i-1},x_{i}] - \\displaystyle{\\frac{h_{i-1}}{3}}(c_{i} + 2c_{i-1}) + (c_{i}+c_{i-1}) h_{i-1} = f[x_i,x_{i+1}] - \\displaystyle{\\frac{h_i}{3}}(c_{i+1} + 2c_i), \\quad i=1,\\ldots,n-1.$$"
   ]
  },
  {
   "cell_type": "markdown",
   "metadata": {},
   "source": [
    "Moving the $c$ terms to the LHS and everything else to the RHS, we obtain\n",
    "\n",
    "$$ h_i(c_{i+1} + 2c_i) - h_{i-1}(c_{i} + 2c_{i-1}) + 3 h_{i-1}(c_{i}+c_{i-1}) = 3\\left(f[x_i,x_{i+1}] - f[x_{i-1},x_{i}]\\right), \\quad i=1,\\ldots,n-1.$$\n",
    "\n",
    " Combining common terms, we have\n",
    "\n",
    "$$\\fbox{$h_{i-1}c_{i-1} + 2(h_{i-1} + h_i )c_i + h_i c_{i+1} = 3\\left(f[x_i,x_{i+1}] - f[x_{i-1},x_{i}]\\right), \\quad i=1,\\ldots,n-1.$}$$"
   ]
  },
  {
   "cell_type": "markdown",
   "metadata": {},
   "source": [
    "---"
   ]
  },
  {
   "cell_type": "markdown",
   "metadata": {},
   "source": [
    "### Summary\n",
    "\n",
    "$$a_i = f(x_i), \\quad i=0,\\ldots,n-1$$\n",
    "\n",
    "$$b_i = f[x_i,x_{i+1}] - \\displaystyle{\\frac{h_i}{3}}(c_{i+1} + 2c_i), \\quad i=0,\\ldots,n-1$$\n",
    "\n",
    "$$h_{i-1}c_{i-1} + 2(h_{i-1} + h_i )c_i + h_i c_{i+1} = 3\\left(f[x_i,x_{i+1}] - f[x_{i-1},x_{i}]\\right), \\quad i=1,\\ldots,n-1$$\n",
    "\n",
    "$$d_i = \\displaystyle{\\frac{c_{i+1} - c_i}{3 h_i}}, \\quad i=0,\\ldots,n-1$$"
   ]
  },
  {
   "cell_type": "markdown",
   "metadata": {},
   "source": [
    "---"
   ]
  },
  {
   "cell_type": "markdown",
   "metadata": {},
   "source": [
    "## Free boundary: $p_0''(x_0) = p_{n-1}''(x_n) = 0$\n",
    "\n",
    "The condition $p_0''(x_0) = 0$ gives us \n",
    "\n",
    "$$2 c_0 + 6 d_0 (x_0 - x_0) = 0 \\quad \\implies \\quad c_0 = 0.$$\n",
    "\n",
    "The condition $p_{n-1}''(x_n) = 0$ gives us\n",
    "\n",
    "$$2 c_{n-1} + 6 d_{n-1} (x_n - x_{n-1}) = 0 \\quad \\implies \\quad c_n = c_{n-1} + 3d_{n-1} h_{n-1} = 0.$$"
   ]
  },
  {
   "cell_type": "markdown",
   "metadata": {},
   "source": [
    "The linear system \n",
    "\n",
    "$$\\fbox{$h_{i-1}c_{i-1} + 2(h_{i-1} + h_i )c_i + h_i c_{i+1} = 3\\left(f[x_i,x_{i+1}] - f[x_{i-1},x_{i}]\\right), \\quad i=1,\\ldots,n-1$}$$\n",
    "\n",
    "can thus be written as\n",
    "\n",
    "$$\n",
    "\\begin{bmatrix}\n",
    "2(h_0 + h_1) & h_1 \\\\\n",
    "h_1 & 2(h_1 + h_2) & h_2 \\\\\n",
    "&\\ddots & \\ddots & \\ddots \\\\\n",
    "&& h_{n-3} & 2(h_{n-3} + h_{n-2}) & h_{n-2} \\\\\n",
    "&&& h_{n-2} & 2(h_{n-2} + h_{n-1}) \\\\\n",
    "\\end{bmatrix}\n",
    "\\begin{bmatrix}\n",
    "c_1\\\\c_2\\\\\\vdots\\\\c_{n-2}\\\\c_{n-1}\\\\\n",
    "\\end{bmatrix}\n",
    "= \n",
    "\\begin{bmatrix}\n",
    "\\psi_1\\\\\\psi_2\\\\\\vdots\\\\\\psi_{n-2}\\\\\\psi_{n-1}\\\\\n",
    "\\end{bmatrix},\n",
    "$$\n",
    "\n",
    "where $\\psi_i = 3\\left(f[x_i,x_{i+1}] - f[x_{i-1},x_{i}]\\right)$, for $i = 1,\\ldots,n-1$. "
   ]
  },
  {
   "cell_type": "markdown",
   "metadata": {},
   "source": [
    "- The above matrix is **symmetric tridiagonal**.\n",
    "\n",
    "- Since the matrix is **strictly diagonally dominant**, the [Gershgorin circle theorem](https://en.wikipedia.org/wiki/Gershgorin_circle_theorem) implies that all its eigenvalues are positive, so it is a **positive definite** matrix. \n",
    "\n",
    "- Thus, the matrix is **nonsingular** and the system can be solved in $\\mathcal{O}(n)$ flops."
   ]
  },
  {
   "cell_type": "markdown",
   "metadata": {},
   "source": [
    "---"
   ]
  },
  {
   "cell_type": "markdown",
   "metadata": {},
   "source": [
    "## Example\n",
    "\n",
    "Let's compute the **natural spline** using the **free boundary** conditions for the function $f(x) = \\cos(x)$ over the interval $[0, 2\\pi]$ using four subintervals (i.e., five knots)."
   ]
  },
  {
   "cell_type": "code",
   "execution_count": null,
   "metadata": {},
   "outputs": [],
   "source": [
    "using LinearAlgebra\n",
    "\n",
    "function naturalspline(f, α, β, n, fp0, fpn)\n",
    "    # Compute the data point (xi, yi)\n",
    "    x = range(α, β, length=n+1) |> collect\n",
    "    y = f.(x)\n",
    "\n",
    "    # Compute the vector h\n",
    "    h = x[2:end] - x[1:end-1]\n",
    "\n",
    "    # Compute the diagonal and superdiagonal of A\n",
    "    dg = 2(h[1:end-1] + h[2:end])\n",
    "    du = h[2:end-1]\n",
    "\n",
    "    # Form the symmetric tridiagonl matrix A\n",
    "    A = SymTridiagonal(dg, du)\n",
    "\n",
    "    # Compute the vector of divided differences\n",
    "    divdif = (y[2:end] - y[1:end-1])./h\n",
    "\n",
    "    # Compute the RHS vector ψ\n",
    "    ψ = 3(divdif[2:end] - divdif[1:end-1])\n",
    "\n",
    "    # Solve for the coefficients c\n",
    "    # Include the conditions that c0 = cn = 0\n",
    "    c = [0; A\\ψ; 0]\n",
    "\n",
    "    # Compute the coefficients a\n",
    "    a = y[1:end-1]\n",
    "\n",
    "    # Compute the coefficients b\n",
    "    b = divdif - h.*(c[2:end] + 2c[1:end-1])/3\n",
    "\n",
    "    # Compute the coefficients d\n",
    "    d = (c[2:end] - c[1:end-1])./(3h)\n",
    "\n",
    "    return a, b, c, d, x, y\n",
    "end"
   ]
  },
  {
   "cell_type": "code",
   "execution_count": null,
   "metadata": {},
   "outputs": [],
   "source": [
    "using Plots\n",
    "\n",
    "function plotspline(method, f, α, β, n, fp0=0., fpn=0.)\n",
    "    \n",
    "    # Compute the spline\n",
    "    a, b, c, d, x, y = method(f, α, β, n, fp0, fpn)\n",
    "\n",
    "    # N is the number of evaluation points in each subinterval\n",
    "    N = 1000\n",
    "\n",
    "    # Compute the evaluation points\n",
    "    xx = range(α, β, length=n*N)\n",
    "\n",
    "    # Evaluate the cubic spline\n",
    "    p = zeros(length(xx))\n",
    "    ind = 1\n",
    "    for i=1:n\n",
    "        xdiff = xx[ind:ind+N-1] .- x[i]\n",
    "        p[ind:ind+N-1] = ((d[i]*xdiff .+ c[i]).*xdiff .+ b[i]).*xdiff .+ a[i]\n",
    "        ind += N\n",
    "    end\n",
    "\n",
    "    # Plot everything\n",
    "    plt = plot(legend=:none, layout=(2,1), size=(600,400))\n",
    "    title!(\"Cubic spline interpolation\", subplot=1)\n",
    "    title!(\"Interpolation error\", subplot=2)\n",
    "\n",
    "    # Plot y = f(x)\n",
    "    plot!(xx, f.(xx), subplot=1, aspect_ratio=:equal)\n",
    "    plot!(xx, p)\n",
    "    scatter!(x, y, c=2)\n",
    "    \n",
    "    # Plot the error\n",
    "    plot!(xx, abs.(p .- f.(xx)), subplot=2, label=:none)\n",
    "\n",
    "    println(\"maximum error = \", maximum(abs.(p .- f.(xx))))\n",
    "\n",
    "    return plt\n",
    "end"
   ]
  },
  {
   "cell_type": "code",
   "execution_count": null,
   "metadata": {},
   "outputs": [],
   "source": [
    "plotspline(naturalspline, cos, 0., 2π, 5)"
   ]
  },
  {
   "cell_type": "markdown",
   "metadata": {},
   "source": [
    "---"
   ]
  },
  {
   "cell_type": "markdown",
   "metadata": {},
   "source": [
    "## Clamped boundary: $p'(x_0) = f'(x_0), \\ p'(x_n) = f'(x_n)$\n",
    "\n",
    "\n",
    " The condition $p_0'(x_0) = f'(x_0)$ gives us \n",
    "\n",
    "$$b_0 + 2c_0(x_0-x_0) + 3d_0(x_0-x_0)^2 = f'(x_0) \\quad \\implies \\quad b_0 = f'(x_0)$$\n",
    "\n",
    "\n",
    " The condition $p_{n-1}'(x_n) = f'(x_n)$ gives us\n",
    "\n",
    "$$b_{n-1} + 2c_{n-1}(x_n-x_{n-1}) + 3d_{n-1}(x_n-x_{n-1})^2 = f'(x_n),$$\n",
    "\n",
    " which implies that\n",
    "\n",
    "$$b_{n-1} + 2c_{n-1}h_{n-1} + 3d_{n-1}h_{n-1}^2 = f'(x_n).$$\n"
   ]
  },
  {
   "cell_type": "markdown",
   "metadata": {},
   "source": [
    "### Recall:\n",
    "\n",
    "$$b_i = f[x_i,x_{i+1}] - \\displaystyle{\\frac{h_i}{3}}(c_{i+1} + 2c_i), \\quad i=0,\\ldots,n-1$$\n",
    "\n",
    "$$d_i = \\displaystyle{\\frac{c_{i+1} - c_i}{3 h_i}}, \\quad i=0,\\ldots,n-1$$"
   ]
  },
  {
   "cell_type": "markdown",
   "metadata": {},
   "source": [
    " Therefore, $b_0 = f'(x_0)$ becomes\n",
    "\n",
    "$$f[x_0,x_1] - \\frac{h_0}{3}(c_1 + 2c_0) = f'(x_0)$$\n",
    "\n",
    " which gives us\n",
    "\n",
    "$$\\fbox{$2h_0 c_0 + h_0 c_1 = 3\\left(f[x_0,x_1] - f'(x_0)\\right)$.}$$\n",
    "\n",
    " In addition, $b_{n-1} + 2c_{n-1}h_{n-1} + 3d_{n-1}h_{n-1}^2 = f'(x_n)$ becomes\n",
    "\n",
    " $$f[x_{n-1},x_n] - \\frac{h_{n-1}}{3}(c_n + 2c_{n-1}) + 2c_{n-1}h_{n-1} + 3\\frac{c_n - c_{n-1}}{3h_{n-1}}h_{n-1}^2 = f'(x_n).$$\n",
    "\n",
    " Simplifying, we get\n",
    "\n",
    " $$ - h_{n-1}(c_n + 2c_{n-1}) + 6c_{n-1}h_{n-1} + 3(c_n - c_{n-1})h_{n-1} = 3\\left(f'(x_n) - f[x_{n-1},x_n]\\right),$$\n",
    "\n",
    " which becomes\n",
    "\n",
    " $$\\fbox{$h_{n-1} c_{n-1} + 2 h_{n-1} c_n = 3\\left(f'(x_n) - f[x_{n-1},x_n]\\right).$}$$"
   ]
  },
  {
   "cell_type": "markdown",
   "metadata": {},
   "source": [
    "The linear system \n",
    "\n",
    "$$\\fbox{$2h_0 c_0 + h_0 c_1 = 3\\left(f[x_0,x_1] - f'(x_0)\\right)$}$$\n",
    "\n",
    "$$\\fbox{$h_{i-1}c_{i-1} + 2(h_{i-1} + h_i )c_i + h_i c_{i+1} = 3\\left(f[x_i,x_{i+1}] - f[x_{i-1},x_{i}]\\right), \\quad i=1,\\ldots,n-1$}$$\n",
    "\n",
    " $$\\fbox{$h_{n-1} c_{n-1} + 2 h_{n-1} c_n = 3\\left(f'(x_n) - f[x_{n-1},x_n]\\right)$}$$\n",
    "\n",
    "can thus be written as\n",
    "\n",
    "$$\n",
    "\\begin{bmatrix}\n",
    "2h_0 & h_0\\\\\n",
    "h_0& 2(h_0 + h_1) & h_1 \\\\\n",
    "& &\\ddots & \\ddots & \\ddots \\\\\n",
    "&&&& h_{n-2} & 2(h_{n-2} + h_{n-1}) & h_{n-1} \\\\\n",
    "&&&&& h_{n-1} & 2h_{n-1} \\\\\n",
    "\\end{bmatrix}\n",
    "\\begin{bmatrix}\n",
    "c_0\\\\c_1\\\\\\vdots\\\\c_{n-1}\\\\c_n\\\\\n",
    "\\end{bmatrix}\n",
    "=\n",
    "\\begin{bmatrix}\n",
    "\\psi_0\\\\\\psi_1\\\\\\vdots\\\\\\psi_{n-1}\\\\\\psi_n\\\\\n",
    "\\end{bmatrix},\n",
    "$$\n",
    "\n",
    "where\n",
    "\n",
    "$$\n",
    "\\begin{align}\n",
    "\\psi_0 &= 3\\left(f[x_0,x_1] - f'(x_0)\\right),\\\\\n",
    "\\psi_i &= 3\\left(f[x_i,x_{i+1}] - f[x_{i-1},x_{i}]\\right), \\quad i = 1,\\ldots,n-1, \\\\\n",
    "\\psi_n &= 3\\left(f'(x_n) - f[x_{n-1},x_n]\\right).\\\\\n",
    "\\end{align}\n",
    "$$"
   ]
  },
  {
   "cell_type": "markdown",
   "metadata": {},
   "source": [
    "- Again, the above matrix is **symmetric tridiagonal** and **strictly diagonally dominant**.\n",
    "\n",
    "- Thus, the matrix is **positive definite**, hence **nonsingular**, and the linear system can be solved in $\\mathcal{O}(n)$ flops."
   ]
  },
  {
   "cell_type": "markdown",
   "metadata": {},
   "source": [
    "---"
   ]
  },
  {
   "cell_type": "markdown",
   "metadata": {},
   "source": [
    "## Example\n",
    "\n",
    "Let's compute the **complete spline** using the **clamped boundary** conditions for the function $f(x) = \\cos(x)$ over the interval $[0, 2\\pi]$ using four subintervals (i.e., five knots)."
   ]
  },
  {
   "cell_type": "code",
   "execution_count": null,
   "metadata": {},
   "outputs": [],
   "source": [
    "function completespline(f, α, β, n, fp0, fpn)\n",
    "    # Compute the interpolation points and \n",
    "    # corresponding function values\n",
    "    x = range(α, β, length=n+1) |> collect\n",
    "    y = f.(x)\n",
    "\n",
    "    # Compute the vector h\n",
    "    h = x[2:end] - x[1:end-1]\n",
    "\n",
    "    # Compute the diagonal and superdiagonal of A\n",
    "    dg = [2h[1]; 2(h[1:end-1] + h[2:end]); 2h[end]]\n",
    "    du = h\n",
    "\n",
    "    # Form the symmetric tridiagonl matrix A\n",
    "    A = SymTridiagonal(dg, du)\n",
    "\n",
    "    # Compute the vector of divided differences\n",
    "    divdif = (y[2:end] - y[1:end-1])./h\n",
    "\n",
    "    # Compute the RHS vector ψ\n",
    "    ψ = [3(divdif[1] - fp0); 3(divdif[2:end] - divdif[1:end-1]); 3(fpn - divdif[end])]\n",
    "\n",
    "    # Solve for the coefficients c\n",
    "    c = A\\ψ\n",
    "\n",
    "    # Compute the coefficients a\n",
    "    a = y[1:end-1]\n",
    "\n",
    "    # Compute the coefficients b\n",
    "    b = divdif - h.*(c[2:end] + 2c[1:end-1])/3\n",
    "\n",
    "    # Compute the coefficients d\n",
    "    d = (c[2:end] - c[1:end-1])./(3h)\n",
    "\n",
    "    return a, b, c, d, x, y\n",
    "end"
   ]
  },
  {
   "cell_type": "code",
   "execution_count": null,
   "metadata": {},
   "outputs": [],
   "source": [
    "# Providing additional information about f' at x0 and xn\n",
    "fp0, fpn = 0., 0.  \n",
    "\n",
    "plotspline(completespline, cos, 0., 2π, 5, fp0, fpn)"
   ]
  },
  {
   "cell_type": "markdown",
   "metadata": {},
   "source": [
    "---"
   ]
  },
  {
   "cell_type": "markdown",
   "metadata": {},
   "source": [
    "## Error bounds\n",
    "\n",
    "1. **Clamped ends**:\n",
    "\n",
    "    $$\\max_{x \\in [a,b]} \\left|f(x) - p(x) \\right| \\leq \\frac{5}{384} \\left\\|f''''\\right\\| h^4$$\n",
    "\n",
    "2. **Not-a-Knot**:\n",
    "\n",
    "    $$\\max_{x \\in [a,b]} \\left|f(x) - p(x) \\right| \\approx \\frac{5}{384} \\left\\|f''''\\right\\| h^4$$\n",
    "\n",
    "    Reference: [CS412 Introduction to Numerical Analysis, Lecture 11: Interpolation by Cubic Splines](http://pages.cs.wisc.edu/~amos/412/lecture-notes/lecture11.pdf) by Professor Amos Ron at University of Wisconsin-Madison.\n",
    "\n",
    " Impressively, we obtain $\\mathcal{O}(h^4)$ methods, the same order as the piecewise cubic Hermite interpolation, but only using half the information about the function $f$.\n"
   ]
  },
  {
   "cell_type": "code",
   "execution_count": null,
   "metadata": {},
   "outputs": [],
   "source": [
    "10^4"
   ]
  },
  {
   "cell_type": "markdown",
   "metadata": {},
   "source": [
    "---"
   ]
  }
 ],
 "metadata": {
  "@webio": {
   "lastCommId": null,
   "lastKernelId": null
  },
  "kernelspec": {
   "display_name": "Julia 1.5.3",
   "language": "julia",
   "name": "julia-1.5"
  },
  "language_info": {
   "file_extension": ".jl",
   "mimetype": "application/julia",
   "name": "julia",
   "version": "1.5.3"
  }
 },
 "nbformat": 4,
 "nbformat_minor": 1
}
