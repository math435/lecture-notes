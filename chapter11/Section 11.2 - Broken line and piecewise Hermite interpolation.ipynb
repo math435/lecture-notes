{
 "cells": [
  {
   "cell_type": "markdown",
   "metadata": {},
   "source": [
    "---\n",
    "# 11.2 Broken line and piecewise Hermite interpolation\n",
    "---"
   ]
  },
  {
   "cell_type": "markdown",
   "metadata": {},
   "source": [
    "## Piecewise linear (a.k.a. broken line) interpolation\n",
    "\n",
    "- Let $p(x)$ be the piecewise linear function that interpolates the points\n",
    "\n",
    "    $$(x_i, f(x_i)), \\quad i=0,\\ldots,n.$$\n",
    "\n",
    "- Then $p$ must satisfy\n",
    "\n",
    "    $$p(x_i) = f(x_i), \\quad i=0,\\ldots,n.$$\n",
    "\n",
    "- We use the interpolation points $x_i$ as the breakpoints $t_i$ giving us $n$ subintervals\n",
    "\n",
    "    $$[x_{i-1},x_{i}], \\quad i=1,\\ldots,n.$$\n",
    "\n",
    "- The linear piece $p_i(x)$ is defined over $[x_{i-1},x_{i}]$ and satisfies\n",
    "\n",
    "    $$p_i(x_{i-1}) = f(x_{i-1}), \\quad p_i(x_{i}) = f(x_{i}).$$\n",
    "\n",
    "- Using the Newton form we have:\n",
    "\n",
    "    $$p_i(x) = f(x_{i-1}) + f[x_{i-1},x_{i}](x-x_{i-1}), \\quad x \\in [x_{i-1}, x_{i}].$$"
   ]
  },
  {
   "cell_type": "markdown",
   "metadata": {},
   "source": [
    "> ## Theorem: (Piecewise linear error bound)\n",
    ">\n",
    ">Let \n",
    ">- $f \\in C^2[a,b]$,\n",
    ">- $\\left\\|f''\\right\\| = \\max_{\\xi \\in [a,b]} \\left|f''(\\xi)\\right|$,\n",
    ">- $a = x_0 < x_1 < \\cdots < x_n = b$,\n",
    ">- $p$ be the piecewise linear function that interpolates the points $\\left\\{(x_i,f(x_i))\\right\\}_{i=0}^n$. \n",
    ">\n",
    ">If\n",
    ">\n",
    ">$$h = \\max_{1 \\leq i \\leq n} (x_i - x_{i-1})$$\n",
    ">\n",
    ">is the maximum subinterval length, then\n",
    ">\n",
    ">$$\\left|f(x) - p(x)\\right| \\leq \\frac{h^2}{8} \\left\\|f''\\right\\|, \\quad \\forall x \\in [a,b].$$\n",
    ">\n",
    ">If, in addition, the points $x_0,\\ldots,x_n$ are evenly spaced, then $h = (b-a)/n$, so\n",
    ">\n",
    ">$$\\left|f(x) - p(x)\\right| = \\mathcal{O}\\left(\\frac{1}{n^2}\\right).$$"
   ]
  },
  {
   "cell_type": "markdown",
   "metadata": {},
   "source": [
    "### Proof:\n",
    "\n",
    "Recall from Section 10.5 that if $f \\in C^{(n+1)}[a,b]$ and $p$ is the unique polynomial of degree at most $n$ that interpolates the points $\\left\\{(x_i, f(x_i))\\right\\}_{i=0}^n$, then there is a $\\xi \\in (a,b)$ such that the interpolation error is given by\n",
    "\n",
    "$$f(x) - p(x) = \\frac{f^{(n+1)}(\\xi)}{(n+1)!} \\prod_{i=0}^n (x-x_i).$$"
   ]
  },
  {
   "cell_type": "markdown",
   "metadata": {},
   "source": [
    "Let $x \\in [a,b]$. Then $x \\in [x_{i-1},x_i]$, for some $i=1,\\ldots,n$, so $p(x) = p_i(x)$.\n",
    "\n",
    "By the above interpolation error formula, there exists $\\xi \\in (x_{i-1},x_i)$ such that\n",
    "\n",
    "$$f(x) - p_i(x) = \\frac{f''(\\xi)}{2!} (x-x_{i-1})(x-x_i),$$\n",
    "\n",
    "so we have\n",
    "\n",
    "$$\\left|f(x) - p_i(x)\\right| = \\frac{\\left|f''(\\xi)\\right|}{2} \\left|(x-x_{i-1})(x-x_i)\\right|.$$"
   ]
  },
  {
   "cell_type": "markdown",
   "metadata": {},
   "source": [
    "Define \n",
    "\n",
    "$$g(x) = \\left|(x-x_{i-1})(x-x_i)\\right|, \\quad x \\in [x_{i-1},x_i].$$\n",
    "\n",
    "Then $g(x) = -(x-x_{i-1})(x-x_i)$, so \n",
    "\n",
    "$$g'(x) = -(x-x_{i-1}) - (x-x_i) = -2x + x_{i-1} + x_i,$$ \n",
    "\n",
    "and $g''(x) = -2$. Therefore, $g(x)$ is _maximized_ when \n",
    "\n",
    "$$x = \\frac{x_{i-1}+x_i}{2},$$\n",
    "\n",
    "and the maximum value of $g(x)$ is \n",
    "\n",
    "$$-\\left(\\frac{x_{i-1}+x_i}{2}-x_{i-1}\\right)\\left(\\frac{x_{i-1}+x_i}{2} -x_i\\right) = \\left(\\frac{x_{i}-x_{i-1}}{2}\\right)^2 \\leq \\frac{h^2}{4}.$$"
   ]
  },
  {
   "cell_type": "markdown",
   "metadata": {},
   "source": [
    "Therefore,\n",
    "\n",
    "$$\n",
    "\\begin{align}\n",
    "\\left|f(x) - p(x)\\right| \n",
    "&= \\left|f(x) - p_i(x)\\right| \\\\\n",
    "&= \\frac{\\left|f''(\\xi)\\right|}{2} \\left|(x-x_{i-1})(x-x_i)\\right|\\\\\n",
    "&\\leq \\frac{\\left|f''(\\xi)\\right|}{2} \\frac{h^2}{4}\\\\\n",
    "&\\leq \\frac{h^2}{8} \\left\\|f''\\right\\|. \\\\\n",
    "\\end{align}\n",
    "$$\n",
    "\n",
    "Since $x \\in [a,b]$ was arbitrarily chosen, this error bound holds for all $x \\in [a,b]$. $\\quad \\blacksquare$"
   ]
  },
  {
   "cell_type": "markdown",
   "metadata": {},
   "source": [
    "---"
   ]
  },
  {
   "cell_type": "markdown",
   "metadata": {},
   "source": [
    "## Piecewise cubic Hermite interpolation\n",
    "\n",
    "- Over each subinterval $[x_{i-1}, x_{i}]$, we want\n",
    "\n",
    "   $$p_i(x) = a_i + b_i(x-x_{i-1}) + c_i(x-x_{i-1})^2 + d_i(x-x_{i-1})^3$$\n",
    "   where\n",
    "   $$\n",
    "\\begin{align}\n",
    "p_i(x_{i-1}) &= f(x_{i-1}) \\\\\n",
    "p_i(x_{i}) &= f(x_{i}) \\\\\n",
    "p_i'(x_{i-1}) &= f'(x_{i-1}) \\\\\n",
    "p_i'(x_{i}) &= f'(x_{i}). \\\\\n",
    "\\end{align}\n",
    "$$\n",
    "\n",
    "- Using these four equations, we can solve for the coefficients $a_i$, $b_i$, $c_i$, and $d_i$.\n",
    "\n",
    "- Note that\n",
    "\n",
    "   $$p_i'(x) = b_i + 2c_i(x-x_{i-1}) + 3d_i(x-x_{i-1})^2.$$\n",
    "\n",
    "- Let $h_i = x_i - x_{i-1}$. Then\n",
    "\n",
    "   $$\n",
    "\\begin{bmatrix}\n",
    "1&0&0&0\\\\\n",
    "1&h_i&h_i^2&h_i^3\\\\\n",
    "0&1&0&0\\\\\n",
    "0&1&2h_i&3h_i^2\\\\\n",
    "\\end{bmatrix}\n",
    "\\begin{bmatrix}\n",
    "a_i\\\\b_i\\\\c_i\\\\d_i\\\\\n",
    "\\end{bmatrix}\n",
    "=\n",
    "\\begin{bmatrix}\n",
    "f(x_{i-1})\\\\f(x_{i})\\\\f'(x_{i-1})\\\\f'(x_{i})\\\\\n",
    "\\end{bmatrix}.\n",
    "$$\n"
   ]
  },
  {
   "cell_type": "markdown",
   "metadata": {},
   "source": [
    "---"
   ]
  },
  {
   "cell_type": "markdown",
   "metadata": {},
   "source": [
    "## Example\n",
    "\n",
    "Let's approximate $f(x) = \\sin(x)$ using a piecewise cubic Hermite."
   ]
  },
  {
   "cell_type": "code",
   "execution_count": null,
   "metadata": {},
   "outputs": [],
   "source": [
    "using Plots\n",
    "\n",
    "function piecewiseHermite_sinplot(n)\n",
    "    # Define f, a, b\n",
    "    f(x) = sin(x)\n",
    "    fp(x) = cos(x)\n",
    "    a, b = 0., 2π\n",
    "\n",
    "    # Let N be the number of evaluation point per subinterval\n",
    "    N = 100\n",
    "\n",
    "    # Create n+1 evenly spaced points in [a,b]\n",
    "    x = range(a, b, length=n+1)\n",
    "    fx = f.(x)\n",
    "    fpx = fp.(x)\n",
    "\n",
    "    # Create the matrix A\n",
    "    h = x[2] - x[1]\n",
    "    A = [\n",
    "        1  0   0    0; \n",
    "        1  h h^2  h^3;\n",
    "        0  1   0    0;\n",
    "        0  1  2h 3h^2;]\n",
    "\n",
    "    # Create the piecewise cubic Hermite\n",
    "    xx = range(a, b, length=n*N)\n",
    "    p = zeros(n*N)\n",
    "    ind = 1\n",
    "    for i = 1:n\n",
    "        # Compute the coefficients\n",
    "        y = [fx[i], fx[i+1], fpx[i], fpx[i+1]]\n",
    "        c = A\\y\n",
    "\n",
    "        # Evaluate p using Horner's Rule\n",
    "        xdiff = xx[ind:ind+N-1] .- x[i]\n",
    "        p[ind:ind+N-1] = ((c[4]*xdiff .+ c[3]).*xdiff .+ c[2]).*xdiff .+ c[1]\n",
    "        ind += N\n",
    "    end\n",
    "\n",
    "    # Create 2x1 array of subplots\n",
    "    plt = plot(legend=:none, layout=(2,1), size=(800,600))\n",
    "    title!(\"Piecewise Hermite interpolation\", subplot=1)\n",
    "    title!(\"Interpolation error\", subplot=2)\n",
    "\n",
    "    # Plot y = f(x)\n",
    "    plot!(f, a, b, subplot=1)\n",
    "    \n",
    "    # Plot the piecewise cubic Hermite\n",
    "    plot!(xx, p)\n",
    "\n",
    "    # Plot the breakpoints\n",
    "    scatter!(x, fx, c=2, label=\"breakpoints\")\n",
    "\n",
    "    # Plot the error\n",
    "    plot!(xx, abs.(p .- f.(xx)), subplot=2, label=:none)\n",
    "    \n",
    "    println(\"maximum error = \", maximum(abs.(p .- f.(xx))))\n",
    "\n",
    "    return plt\n",
    "end"
   ]
  },
  {
   "cell_type": "code",
   "execution_count": null,
   "metadata": {},
   "outputs": [],
   "source": [
    "piecewiseHermite_sinplot(4)"
   ]
  },
  {
   "cell_type": "markdown",
   "metadata": {},
   "source": [
    "---"
   ]
  },
  {
   "cell_type": "markdown",
   "metadata": {},
   "source": [
    "## Cubic Hermite error bound\n",
    "\n",
    "Using the Newton interpolating form, we can write:\n",
    "\n",
    "   $$p_i(x) = f[x_{i-1}] + f[x_{i-1},x_{i-1}](x-x_{i-1}) + f[x_{i-1},x_{i-1},x_i](x-x_{i-1})^2 + f[x_{i-1},x_{i-1},x_i,x_i](x-x_{i-1})^2(x-x_i)$$\n",
    "\n",
    "In Section 10.7 of Ascher-Greif, it is mentioned that the error in polynomial interpolation of 10.5 extends \"seamlessly\" to the case of interpolating derivatives. Thus, we have\n",
    "\n",
    "   $$\\left|f(\\bar x) - p_i(\\bar x)\\right| \\leq \\frac{\\left\\|f''''\\right\\|}{4!} \\max_{x \\in [x_{i-1},x_i]} (x-x_{i-1})^2(x-x_i)^2, \\quad \\bar x \\in [x_{i-1},x_i].$$"
   ]
  },
  {
   "cell_type": "markdown",
   "metadata": {},
   "source": [
    "Letting $g(x) = (x-x_{i-1})^2(x-x_i)^2$, we want to solve\n",
    "\n",
    "   $$\\max_{x \\in [x_{i-1},x_i]} g(x).$$\n",
    "\n",
    "   Let's do this using `SymPy`. For clarity, we will use $a = x_{i-1}$ and $b = x_i$. Note that $a < b$."
   ]
  },
  {
   "cell_type": "code",
   "execution_count": null,
   "metadata": {},
   "outputs": [],
   "source": [
    "import SymPy\n",
    "\n",
    "x, a, b = SymPy.symbols(\"x a b\")\n",
    "\n",
    "g = (x - a)^2*(x - b)^2"
   ]
  },
  {
   "cell_type": "markdown",
   "metadata": {},
   "source": [
    "Now we compute $g'(x)$ and solve $g'(x) = 0$."
   ]
  },
  {
   "cell_type": "code",
   "execution_count": null,
   "metadata": {},
   "outputs": [],
   "source": [
    "gp = SymPy.diff(g, x)"
   ]
  },
  {
   "cell_type": "code",
   "execution_count": null,
   "metadata": {},
   "outputs": [],
   "source": [
    "sols = SymPy.solve(gp, x)"
   ]
  },
  {
   "cell_type": "markdown",
   "metadata": {},
   "source": [
    "Since $g'$ is a cubic polynomial, there are three solutions. It appears that the third solution is the one that maximizes $g$, since $g(a) = g(b) = 0$.\n",
    "\n",
    "Let's substitute the third solution into $g$."
   ]
  },
  {
   "cell_type": "code",
   "execution_count": null,
   "metadata": {},
   "outputs": [],
   "source": [
    "x̄ = sols[3]"
   ]
  },
  {
   "cell_type": "code",
   "execution_count": null,
   "metadata": {},
   "outputs": [],
   "source": [
    "SymPy.simplify(SymPy.subs(g, x, x̄))"
   ]
  },
  {
   "cell_type": "markdown",
   "metadata": {},
   "source": [
    "Let's check that $g''(x^*) < 0$."
   ]
  },
  {
   "cell_type": "code",
   "execution_count": null,
   "metadata": {},
   "outputs": [],
   "source": [
    "gpp = SymPy.diff(gp, x)"
   ]
  },
  {
   "cell_type": "code",
   "execution_count": null,
   "metadata": {},
   "outputs": [],
   "source": [
    "SymPy.simplify(SymPy.subs(gpp, x, x̄))"
   ]
  },
  {
   "cell_type": "markdown",
   "metadata": {},
   "source": [
    "Thus, $g''(x^*) = -(a-b)^2 < 0$, so the maximum value of $g$ is $(b-a)^4/16$.\n",
    "\n",
    "Therefore, for $\\bar x \\in [x_{i-1},x_i]$, we have\n",
    "\n",
    "$$\n",
    "\\begin{align}\n",
    "\\left|f(\\bar x) - p_i(\\bar x)\\right| \n",
    "&\\leq \\frac{\\left\\|f''''\\right\\|}{4!} \\max_{x \\in [x_{i-1},x_i]} (x-x_{i-1})^2(x-x_i)^2\\\\\n",
    "& = \\frac{\\left\\|f''''\\right\\|}{4!} \\frac{1}{16}(x_i - x_{i-1})^4.\\\\\n",
    "\\end{align}\n",
    "$$"
   ]
  },
  {
   "cell_type": "code",
   "execution_count": null,
   "metadata": {},
   "outputs": [],
   "source": [
    "factorial(4)*16"
   ]
  },
  {
   "cell_type": "markdown",
   "metadata": {},
   "source": [
    "If we again let \n",
    "\n",
    "$$h = \\max_{1 \\leq i \\leq n} (x_i - x_{i-1}),$$\n",
    "\n",
    "then we have \n",
    "\n",
    "$$\n",
    "\\left|f(\\bar x) - p_i(\\bar x)\\right| \\leq \\frac{h^4}{384} \\left\\|f''''\\right\\|, \n",
    "\\quad \\bar x \\in [x_{i-1}, x_i].\n",
    "$$\n",
    "\n",
    "This bound is valid for all subitervals $[x_{i-1}, x_i]$, so we have\n",
    "\n",
    "$$\n",
    "\\left|f(x) - p(x)\\right| \\leq \\frac{h^4}{384} \\left\\|f''''\\right\\|, \n",
    "\\quad x \\in [a, b].\n",
    "$$\n",
    "\n",
    "Summarizing, we have the following result."
   ]
  },
  {
   "cell_type": "markdown",
   "metadata": {},
   "source": [
    "> ## Theorem: (Piecewise cubic Hermite error bound)\n",
    ">\n",
    ">Let \n",
    ">- $f \\in C^4[a,b]$,\n",
    ">- $\\left\\|f''''\\right\\| = \\max_{\\xi \\in [a,b]} \\left|f''''(\\xi)\\right|$,\n",
    ">- $a = x_0 < x_1 < \\cdots < x_n = b$,\n",
    ">- $p$ be the piecewise cubic Hermite function described above.\n",
    ">\n",
    ">If\n",
    ">\n",
    ">$$h = \\max_{1 \\leq i \\leq n} (x_i - x_{i-1})$$\n",
    ">\n",
    ">is the maximum subinterval length, then\n",
    ">\n",
    ">$$\\left|f(x) - p(x)\\right| \\leq \\frac{h^4}{384} \\left\\|f''''\\right\\|, \\quad \\forall x \\in [a,b].$$\n",
    ">\n",
    ">If, in addition, the points $x_0,\\ldots,x_n$ are evenly spaced, then $h = (b-a)/n$, so\n",
    ">\n",
    ">$$\\left|f(x) - p(x)\\right| = \\mathcal{O}\\left(\\frac{1}{n^4}\\right).$$"
   ]
  },
  {
   "cell_type": "markdown",
   "metadata": {},
   "source": [
    "## Example\n",
    "\n",
    "For $f(x) = \\sin(x)$ we have $f''''(x) = \\sin(x)$, so $\\left\\|f''''\\right\\| = 1$. Dividing the interval $[0, 2\\pi]$ into $4$ subintervals, we have \n",
    "\n",
    "$$h = \\frac{2\\pi}{4} = \\frac{\\pi}{2}.$$\n",
    "\n",
    "Above, we observed a maximum interpolation error of\n",
    "\n",
    "$$0.010790399394810635\\ldots$$\n",
    "\n",
    "The above error bound evaluates to \n",
    "\n",
    "$$\\frac{h^4}{384} \\left\\|f''''\\right\\| = \\frac{\\pi^4}{2^4 \\cdot 384} = 0.0158543442438155 \\ldots$$\n",
    "\n",
    "\n"
   ]
  },
  {
   "cell_type": "code",
   "execution_count": null,
   "metadata": {},
   "outputs": [],
   "source": [
    "piecewiseHermite_sinplot(4)"
   ]
  },
  {
   "cell_type": "code",
   "execution_count": null,
   "metadata": {},
   "outputs": [],
   "source": [
    "π^4/(384*2^4)"
   ]
  },
  {
   "cell_type": "markdown",
   "metadata": {},
   "source": [
    "---"
   ]
  }
 ],
 "metadata": {
  "kernelspec": {
   "display_name": "Julia 1.8.5",
   "language": "julia",
   "name": "julia-1.8"
  },
  "language_info": {
   "file_extension": ".jl",
   "mimetype": "application/julia",
   "name": "julia",
   "version": "1.8.5"
  }
 },
 "nbformat": 4,
 "nbformat_minor": 4
}
