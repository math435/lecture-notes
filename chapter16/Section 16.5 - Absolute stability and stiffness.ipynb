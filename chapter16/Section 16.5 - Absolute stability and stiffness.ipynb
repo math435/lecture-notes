{
 "cells": [
  {
   "cell_type": "markdown",
   "metadata": {},
   "source": [
    "---\n",
    "Some useful $\\LaTeX$ commands are defined in this cell:\n",
    "$$\n",
    "\\newcommand{\\abs}[1]{\\left\\lvert#1\\right\\rvert}\n",
    "\\newcommand{\\norm}[1]{\\left\\lVert#1\\right\\rVert}\n",
    "\\newcommand{\\set}[1]{\\left\\{#1\\right\\}}\n",
    "\\newcommand{\\paren}[1]{\\left(#1\\right)}\n",
    "\\newcommand{\\brack}[1]{\\left[#1\\right]}\n",
    "\\newcommand{\\ip}[2]{\\left\\langle#1,#2\\right\\rangle}\n",
    "\\DeclareMathOperator{\\span}{span}\n",
    "\\DeclareMathOperator{\\fl}{fl}\n",
    "\\abs{x}, \\norm{x}, \\set{x}, \\paren{x}, \\brack{x}, \\ip{x}{y}, \\span, \\fl\n",
    "$$\n",
    "\n",
    "---"
   ]
  },
  {
   "cell_type": "markdown",
   "metadata": {},
   "source": [
    "---\n",
    "# 16.5 Absolute stability and stiffness\n",
    "---"
   ]
  },
  {
   "cell_type": "markdown",
   "metadata": {},
   "source": [
    "In Section 16.2 we were introduced to **stiff** ODEs that required a very small step size $h$ in order for Euler's method to be stable and not blow up.\n",
    "\n",
    "This is clearly undesirable since having a very small $h$ means that the number of steps $N$ will be very large and the numerical method will take a long time to run.\n",
    "\n",
    "This instability is due to having a component that rapidly decays, while having a its $n^\\text{th}$ derivative grow rapidly, such as\n",
    "\n",
    "$$y(t) = e^{-\\lambda t}, \\quad \\abs{y^{(n)}(t)} = \\lambda^n e^{-\\lambda t},$$\n",
    "\n",
    "where $\\lambda \\gg 1$.\n",
    "\n",
    "Such behavior is observed in spring-mass systems having a very stiff spring (which is why we call such ODEs stiff)."
   ]
  },
  {
   "cell_type": "markdown",
   "metadata": {},
   "source": [
    "---"
   ]
  },
  {
   "cell_type": "markdown",
   "metadata": {},
   "source": [
    "## Example\n",
    "\n",
    "Consider the stiff ODE\n",
    "\n",
    "$$y' = -20y + 20\\cos(t) - \\sin(t), \\quad 0 \\leq t \\leq 2, \\quad y(0) = 0,$$\n",
    "\n",
    "whose solution is\n",
    "\n",
    "$$y(t) = -e^{-20t} + \\cos(t).$$"
   ]
  },
  {
   "cell_type": "code",
   "execution_count": null,
   "metadata": {},
   "outputs": [],
   "source": [
    "########################################\n",
    "function euler(f, a, b, y0, N)\n",
    "    \n",
    "    h = (b - a)/N\n",
    "\n",
    "    tt = range(a, b, length=N+1)\n",
    "    yy = zeros(N+1)\n",
    "    yy[1] = y0\n",
    "\n",
    "    for i = 1:N\n",
    "        K1 = f(tt[i], yy[i])\n",
    "        yy[i+1] = yy[i] + h*K1\n",
    "    end\n",
    "    \n",
    "    tt, yy\n",
    "end\n",
    "\n",
    "########################################\n",
    "function rktrap(f, a, b, y0, N)\n",
    "    \n",
    "    h = (b - a)/N\n",
    "\n",
    "    tt = range(a, b, length=N+1)\n",
    "    yy = zeros(N+1)\n",
    "    yy[1] = y0\n",
    "\n",
    "    for i = 1:N\n",
    "        K1 = f(tt[i], yy[i])\n",
    "        K2 = f(tt[i+1], yy[i] + h*K1)\n",
    "        yy[i+1] = yy[i] + h*(K1 + K2)/2\n",
    "    end\n",
    "    \n",
    "    tt, yy\n",
    "end\n",
    "\n",
    "########################################\n",
    "function rkmidpoint(f, a, b, y0, N)\n",
    "    \n",
    "    h = (b - a)/N\n",
    "\n",
    "    tt = range(a, b, length=N+1)\n",
    "    yy = zeros(N+1)\n",
    "    yy[1] = y0\n",
    "\n",
    "    for i = 1:N\n",
    "        K1 = f(tt[i], yy[i])\n",
    "        K2 = f(tt[i] + h/2, yy[i] + h/2*K1)\n",
    "        yy[i+1] = yy[i] + h*K2\n",
    "    end\n",
    "    \n",
    "    tt, yy\n",
    "end\n",
    "\n",
    "########################################\n",
    "function rk4(f, a, b, y0, N)\n",
    "    \n",
    "    h = (b - a)/N\n",
    "\n",
    "    tt = range(a, b, length=N+1)\n",
    "    yy = zeros(N+1)\n",
    "    yy[1] = y0\n",
    "\n",
    "    for i = 1:N\n",
    "        K1 = f(tt[i], yy[i])\n",
    "        K2 = f(tt[i] + h/2, yy[i] + h/2*K1)\n",
    "        K3 = f(tt[i] + h/2, yy[i] + h/2*K2)\n",
    "        K4 = f(tt[i] + h, yy[i] + h*K3)\n",
    "        yy[i+1] = yy[i] + h*(K1 + 2K2 + 2K3 + K4)/6\n",
    "    end\n",
    "    \n",
    "    tt, yy\n",
    "end\n",
    "\n",
    "########################################"
   ]
  },
  {
   "cell_type": "code",
   "execution_count": null,
   "metadata": {},
   "outputs": [],
   "source": [
    "f(t, y) = -20y + 20cos(t) - sin(t)\n",
    "a, b, y0 = 0, 2, 0\n",
    "\n",
    "ytrue(t) = -exp(-20t) + cos(t)"
   ]
  },
  {
   "cell_type": "code",
   "execution_count": null,
   "metadata": {},
   "outputs": [],
   "source": [
    "using Printf\n",
    "\n",
    "@printf(\"%6s %12s %12s %12s %12s %12s\\n\", \"N\", \"h\", \n",
    "    \"euler\", \"rktrap\", \"rkmidpoint\", \"rk4\")\n",
    "for N = 10:10:200\n",
    "    h = (b - a)/N\n",
    " \n",
    "    tt1, yy1 = euler(f, a, b, y0, N)\n",
    "    abserr1 = abs.(yy1 - ytrue.(tt1))\n",
    "    \n",
    "    tt2, yy2 = rktrap(f, a, b, y0, N)\n",
    "    abserr2 = abs.(yy2 - ytrue.(tt2))\n",
    "\n",
    "    tt3, yy3 = rkmidpoint(f, a, b, y0, N)\n",
    "    abserr3 = abs.(yy3 - ytrue.(tt3))\n",
    "\n",
    "    tt4, yy4 = rk4(f, a, b, y0, N)\n",
    "    abserr4 = abs.(yy4 - ytrue.(tt4))\n",
    "\n",
    "    @printf(\"%6d %12.2e %12.2e %12.2e %12.2e %12.2e\\n\", N, h, \n",
    "        maximum(abserr1), maximum(abserr2), \n",
    "        maximum(abserr3), maximum(abserr4) )\n",
    "end"
   ]
  },
  {
   "cell_type": "code",
   "execution_count": null,
   "metadata": {},
   "outputs": [],
   "source": [
    "using PyPlot\n",
    "\n",
    "tt = range(a, b, length=100)\n",
    "yy = ytrue.(tt)\n",
    "\n",
    "tt1, yy1 = euler(f, a, b, y0, 19)\n",
    "\n",
    "plot(tt, ytrue.(tt), label=\"True solution\")\n",
    "plot(tt1, yy1, \".-\", label=\"euler approx.\")\n",
    "legend(loc=\"best\");"
   ]
  },
  {
   "cell_type": "markdown",
   "metadata": {},
   "source": [
    "---"
   ]
  },
  {
   "cell_type": "markdown",
   "metadata": {},
   "source": [
    "## The test equation\n",
    "\n",
    "The **test equation** is the ODE\n",
    "\n",
    "$$y' = \\lambda y, \\quad y(0) = y_0,$$\n",
    "\n",
    "where $\\lambda, y_0 \\in \\mathbb{C}$ and $y_0 \\neq 0$.\n",
    "\n",
    "The solution of this ODE is\n",
    "\n",
    "$$y(t) = y_0 e^{\\lambda t}.$$\n",
    "\n",
    "Since \n",
    "\n",
    "$$\\abs{y(t)} = \\abs{y_0} e^{\\Re(\\lambda)t},$$\n",
    "\n",
    "we are interested in the case when $\\Re(\\lambda) < 0$, which is when\n",
    "\n",
    "$$\\lim_{t \\to +\\infty} \\abs{y(t)} = 0.$$"
   ]
  },
  {
   "cell_type": "markdown",
   "metadata": {},
   "source": [
    "---"
   ]
  },
  {
   "cell_type": "markdown",
   "metadata": {},
   "source": [
    "## Euler's method\n",
    "\n",
    "Applying Euler's method to the test equation, we obtain\n",
    "\n",
    "$$y_{i+1} = y_i + h \\lambda y_i = (1 + h\\lambda)y_i,$$\n",
    "\n",
    "which implies that\n",
    "\n",
    "$$y_k = (1 + h\\lambda)^k y_0, \\quad k = 0, 1, \\ldots, N.$$\n",
    "\n",
    "Therefore,\n",
    "\n",
    "$$\\lim_{k \\to +\\infty} \\abs{y_k} = 0$$\n",
    "\n",
    "if and only if\n",
    "\n",
    "$$\\abs{1 + h\\lambda} < 1.$$\n",
    "\n",
    "This implies that we need $h \\lambda$ to be strictly within the disk in the complex plane of radius one centered at the point $-1$:\n",
    "\n",
    "$$D = \\set{h\\lambda \\in \\mathbb{C} : \\abs{1 + h\\lambda} < 1}.$$\n",
    "\n",
    "We call $D$ the **domain of absolute stability**."
   ]
  },
  {
   "cell_type": "markdown",
   "metadata": {},
   "source": [
    "---\n",
    "From p. 508 of the textbook:\n",
    "\n",
    "![Regions of stability](regions-of-stability.JPG)\n",
    "\n",
    "**Figure caption:** Stability regions for $q$-stage explicit RK methods of order $q$, $q = 1,2,3,4$. The inner circle corresponds to forward Euler, $q=1$. The larger $q$ is, the larger the stability region."
   ]
  },
  {
   "cell_type": "markdown",
   "metadata": {},
   "source": [
    "---"
   ]
  },
  {
   "cell_type": "markdown",
   "metadata": {},
   "source": [
    "## Example\n",
    "\n",
    "Recall the stiff ODE\n",
    "\n",
    "$$y' = -20y + 20\\cos(t) - \\sin(t), \\quad 0 \\leq t \\leq 2, \\quad y(0) = 0,$$\n",
    "\n",
    "whose solution is\n",
    "\n",
    "$$y(t) = -e^{-20t} + \\cos(t).$$\n",
    "\n",
    "Here we have $\\lambda = -20$; to have $h\\lambda \\in D$, we need\n",
    "\n",
    "$$ -1 < 1 - 20h < 1, $$\n",
    "\n",
    "which implies that\n",
    "\n",
    "$$ 0 < 20h < 2. $$\n",
    "\n",
    "Thus, we need $h < 0.1$ (i.e., $N > 20$) for stability.\n"
   ]
  },
  {
   "cell_type": "markdown",
   "metadata": {},
   "source": [
    "---"
   ]
  },
  {
   "cell_type": "markdown",
   "metadata": {},
   "source": [
    "## Fourth-order Runge-Kutta\n",
    "\n",
    "Recall that `RK4` is given by\n",
    "\n",
    "$$ K_1 = f(t_i,y_i) $$\n",
    "\n",
    "$$ K_2 = f\\paren{t_i + \\frac{h}{2}, y_i + \\frac{h}{2}K_1} $$\n",
    "\n",
    "$$ K_3 = f\\paren{t_i + \\frac{h}{2}, y_i + \\frac{h}{2}K_2} $$\n",
    "\n",
    "$$ K_4 = f\\paren{t_i + h, y_i + hK_3} $$\n",
    "\n",
    "$$ y_{i+1} = y_i + \\frac{h}{6}\\brack{K_1 + 2K_2 + 2K_3 + K_4}$$"
   ]
  },
  {
   "cell_type": "markdown",
   "metadata": {},
   "source": [
    "If we apply this to the test equation, we will obtain\n",
    "\n",
    "$$ K_1 = \\lambda y_i $$\n",
    "\n",
    "$$ K_2 = \\lambda\\paren{y_i + \\frac{h}{2}\\lambda y_i} \n",
    "= \\paren{\\lambda + \\frac{h}{2}\\lambda^2} y_i $$\n",
    "\n",
    "$$ K_3 = \\lambda\\paren{y_i + \\frac{h}{2}\\paren{\\lambda + \\frac{h}{2}\\lambda^2} y_i} \n",
    "= \\paren{\\lambda + \\frac{h}{2}\\lambda^2 + \\frac{h^2}{4}\\lambda^3 }y_i $$\n",
    "\n",
    "$$ K_4 = \\lambda\\paren{y_i + h\\paren{\\lambda + \\frac{h}{2}\\lambda^2 + \\frac{h^2}{4}\\lambda^3 }y_i} = \\paren{\\lambda + \\lambda^2h + \\frac{h^2}{2}\\lambda^3 + \\frac{h^3}{4}\\lambda^4 }y_i$$\n",
    "\n",
    "$$ y_{i+1} = y_i + \\frac{h}{6}\\brack{\\lambda y_i + 2\\paren{\\lambda + \\frac{h}{2}\\lambda^2} y_i + 2\\paren{\\lambda + \\frac{h}{2}\\lambda^2 + \\frac{h^2}{4}\\lambda^3 }y_i + \\paren{\\lambda + \\lambda^2h + \\frac{h^2}{2}\\lambda^3 + \\frac{h^3}{4}\\lambda^4 }y_i}$$\n",
    "\n",
    "which simplifies to\n",
    "\n",
    "$$ y_{i+1} = \\paren{1 + h\\lambda + \\frac{1}{2}(h\\lambda)^2  + \\frac{1}{6}(h\\lambda)^3 + \\frac{1}{24}(h\\lambda)^4 }y_i.$$"
   ]
  },
  {
   "cell_type": "markdown",
   "metadata": {},
   "source": [
    "Therefore, the **domain of absolute stability** for `RK4` is \n",
    "\n",
    "$$D = \\set{h\\lambda \\in \\mathbb{C} : \\abs{R(h\\lambda)} < 1},$$\n",
    "\n",
    "where \n",
    "\n",
    "$$R(z) = 1 + z + \\frac{1}{2}z^2  + \\frac{1}{6}z^3 + \\frac{1}{24}z^4.$$\n",
    "\n"
   ]
  },
  {
   "cell_type": "markdown",
   "metadata": {},
   "source": [
    "---"
   ]
  },
  {
   "cell_type": "markdown",
   "metadata": {},
   "source": [
    "## Example\n",
    "\n",
    "Recall the stiff ODE\n",
    "\n",
    "$$y' = -20y + 20\\cos(t) - \\sin(t), \\quad 0 \\leq t \\leq 2, \\quad y(0) = 0,$$\n",
    "\n",
    "whose solution is\n",
    "\n",
    "$$y(t) = -e^{-20t} + \\cos(t).$$\n",
    "\n",
    "Here we have $\\lambda = -20$; to have $h\\lambda \\in D$, we need\n",
    "\n",
    "$$ -1 < 1 - 20h + 200h^2 - \\frac{4000}{3}h^3 + \\frac{20000}{3}h^4 < 1. $$\n"
   ]
  },
  {
   "cell_type": "code",
   "execution_count": null,
   "metadata": {},
   "outputs": [],
   "source": [
    "using PyPlot\n",
    "\n",
    "R(h) = 1 - 20h + 200h^2 - 4000/3*h^3 + 20000/3*h^4\n",
    "\n",
    "hh = range(0, .2, length=100)\n",
    "Rh = R.(hh)\n",
    "\n",
    "plot(hh, Rh)\n",
    "plot(hh, ones(length(hh)))\n",
    "\n",
    "maximum(hh[Rh .< 1])"
   ]
  },
  {
   "cell_type": "markdown",
   "metadata": {},
   "source": [
    "Thus, we need $h < 0.139$ (i.e., $N > 14$) for stability.\n"
   ]
  },
  {
   "cell_type": "code",
   "execution_count": null,
   "metadata": {},
   "outputs": [],
   "source": [
    "(b - a)/0.137"
   ]
  },
  {
   "cell_type": "markdown",
   "metadata": {},
   "source": [
    "---"
   ]
  },
  {
   "cell_type": "code",
   "execution_count": null,
   "metadata": {},
   "outputs": [],
   "source": [
    "using PyPlot\n",
    "\n",
    "tt = range(a, b, length=100)\n",
    "yy = ytrue.(tt)\n",
    "\n",
    "tt1, yy1 = rk4(f, a, b, y0, 15)\n",
    "\n",
    "plot(tt, ytrue.(tt), label=\"True solution\")\n",
    "plot(tt1, yy1, \".-\", label=\"euler approx.\")\n",
    "legend(loc=\"best\");"
   ]
  },
  {
   "cell_type": "markdown",
   "metadata": {},
   "source": [
    "---"
   ]
  },
  {
   "cell_type": "markdown",
   "metadata": {},
   "source": [
    "## Implicit trapezoidal method\n",
    "\n",
    "Recall that the **implicit trapezoidal method** is given by\n",
    "\n",
    "$$ y_{i+1} = y_i + \\frac{h}{2}\\brack{f(t_i,y_i) + f(t_{i+1},y_{i+1})}.$$\n",
    "\n",
    "Applying this to the test equation, we have\n",
    "\n",
    "$$ y_{i+1} = y_i + \\frac{h}{2}\\brack{\\lambda y_i + \\lambda y_{i+1}},$$\n",
    "\n",
    "which simplifies to\n",
    "\n",
    "$$  y_{i+1} = \\paren{\\frac{2 + h\\lambda}{2 - h\\lambda}} y_i.$$\n"
   ]
  },
  {
   "cell_type": "markdown",
   "metadata": {},
   "source": [
    "Therefore, the **domain of absolute stability** for the implicit trapezoidal method is\n",
    "\n",
    "$$D = \\set{h\\lambda \\in \\mathbb{C} : \\abs{R(h\\lambda)} < 1},$$\n",
    "\n",
    "where \n",
    "\n",
    "$$R(z) = \\frac{2 + z}{2 - z}.$$\n"
   ]
  },
  {
   "cell_type": "markdown",
   "metadata": {},
   "source": [
    "It can be shown that if $\\Re(z) < 0$, then $\\abs{R(z)} < 1$.\n",
    "\n",
    "Thus, $D$ contains the entire left-half of the complex plane, so it is unconditionally stable."
   ]
  },
  {
   "cell_type": "markdown",
   "metadata": {},
   "source": [
    "---"
   ]
  },
  {
   "cell_type": "code",
   "execution_count": null,
   "metadata": {},
   "outputs": [],
   "source": [
    "using SymPy\n",
    "\n",
    "a, b = symbols(\"a b\", real=true)\n",
    "\n",
    "z = a + IM*b\n",
    "\n",
    "Rz = (2 + z)/(2 - z)\n",
    "\n",
    "abs(Rz)^2"
   ]
  },
  {
   "cell_type": "markdown",
   "metadata": {},
   "source": [
    "Suppose that $\\Re(z) = a < 0$. Then $4a < -4a$, which implies that $a^2 + 4a + b^2 + 4 < a^2 - 4a + b^2 + 4$. Thus,\n",
    "\n",
    "$$\\abs{R(z)}^2 = \\frac{a^2 + 4a + b^2 + 4}{a^2 - 4a + b^2 + 4} < 1,$$\n",
    "\n",
    "which implies that $\\abs{R(z)} < 1$."
   ]
  },
  {
   "cell_type": "markdown",
   "metadata": {},
   "source": [
    "---"
   ]
  },
  {
   "cell_type": "markdown",
   "metadata": {},
   "source": [
    "## Example\n",
    "\n",
    "Recall the stiff ODE\n",
    "\n",
    "$$y' = -20y + 20\\cos(t) - \\sin(t), \\quad 0 \\leq t \\leq 2, \\quad y(0) = 0,$$\n",
    "\n",
    "whose solution is\n",
    "\n",
    "$$y(t) = -e^{-20t} + \\cos(t).$$\n",
    "\n",
    "The implicit trapezoidal method for this ODE is\n",
    "\n",
    "$$ y_{i+1} = y_i + \\frac{h}{2}\\brack{f(t_i,y_i) -20y_{i+1} + 20\\cos(t_{i+1}) - \\sin(t_{i+1})},$$\n",
    "\n",
    "which we can rewrite as\n",
    "\n",
    "$$ y_{i+1} = \\frac{1}{1 + 10h}\\paren{y_i + \\frac{h}{2}\\brack{f(t_i,y_i) + 20\\cos(t_{i+1}) - \\sin(t_{i+1})}}.$$\n",
    "\n"
   ]
  },
  {
   "cell_type": "code",
   "execution_count": null,
   "metadata": {},
   "outputs": [],
   "source": [
    "f(t, y) = -20y + 20cos(t) - sin(t)\n",
    "a, b, y0 = 0, 2, 0\n",
    "\n",
    "ytrue(t) = -exp(-20t) + cos(t)"
   ]
  },
  {
   "cell_type": "code",
   "execution_count": null,
   "metadata": {},
   "outputs": [],
   "source": [
    "tt = []\n",
    "yy = []\n",
    "\n",
    "@printf(\"%6s %12s %14s\\n\", \"N\", \"h\", \n",
    "    \"implicit trap\")\n",
    "for N = 5:5:25\n",
    "    h = (b - a)/N\n",
    " \n",
    "    tt = range(a, b, length=N+1)\n",
    "    yy = zeros(N+1)\n",
    "    ff = zeros(N+1)\n",
    "    yy[1] = y0\n",
    "    \n",
    "    for i = 1:N\n",
    "        ff[i] = f(tt[i], yy[i])\n",
    "        yy[i+1] = (yy[i] + h/2*(ff[i] + 20cos(tt[i+1]) - sin(tt[i+1])))/(1 + 10h)\n",
    "    end\n",
    "    abserr = abs.(yy - ytrue.(tt))\n",
    "\n",
    "    @printf(\"%6d %12.2e %14.2e\\n\", N, h, \n",
    "        maximum(abserr) )\n",
    "end"
   ]
  },
  {
   "cell_type": "code",
   "execution_count": null,
   "metadata": {},
   "outputs": [],
   "source": [
    "using PyPlot\n",
    "\n",
    "tt0 = range(a, b, length=100)\n",
    "\n",
    "plot(tt0, ytrue.(tt0), label=\"True solution\")\n",
    "plot(tt, yy, \".-\", label=\"implicit trap approx.\")\n",
    "legend(loc=\"best\");"
   ]
  },
  {
   "cell_type": "markdown",
   "metadata": {},
   "source": [
    "---"
   ]
  },
  {
   "cell_type": "markdown",
   "metadata": {},
   "source": [
    "## A-stable\n",
    "\n",
    "A numerical method for solving ODEs is call **A-stable** if its **domain of absolute stability** contains the entire left-half of the complex plane.\n",
    "\n",
    "Some **A-stable methods** are:\n",
    "\n",
    "- backward Euler\n",
    "- implicit trapezoidal\n",
    "- implicit midpoint\n",
    "\n",
    "Note that these are all **implicit methods**."
   ]
  },
  {
   "cell_type": "markdown",
   "metadata": {},
   "source": [
    "---"
   ]
  },
  {
   "cell_type": "markdown",
   "metadata": {},
   "source": [
    "## Newton's method for stiff ODEs\n",
    "\n",
    "Generally, to solve a stiff ODE, one must use an implict method.\n",
    "\n",
    "However, it is not always possible to obtain a closed-form solution for $y_{i+1}$.\n",
    "\n",
    "In these cases, we can employ Newton's method to solve the equation for $y_{i+1}$."
   ]
  },
  {
   "cell_type": "markdown",
   "metadata": {},
   "source": [
    "Consider the **backward Euler** method:\n",
    "\n",
    "$$y_{i+1} = y_i + hf(t_{i+1}, y_{i+1}).$$\n",
    "\n",
    "Let $g(x) = x - y_i - hf(t_{i+1}, x).$ Then $y_{i+1}$ satisfies $g(y_{i+1}) = 0$."
   ]
  },
  {
   "cell_type": "markdown",
   "metadata": {},
   "source": [
    "Newton's method is\n",
    "\n",
    "$$x_{k+1} = x_k - \\frac{g(x_k)}{g'(x_k)} = x_k - \\frac{x_k - y_i - hf(t_{i+1}, x_k)}{1 - hf_y(t_{i+1}, x_k)}.$$"
   ]
  },
  {
   "cell_type": "markdown",
   "metadata": {},
   "source": [
    "---"
   ]
  },
  {
   "cell_type": "code",
   "execution_count": null,
   "metadata": {},
   "outputs": [],
   "source": [
    "function backEulerNewton(f, fy, a, b, y0, N)\n",
    "    \n",
    "    h = (b - a)/N\n",
    "    tt = range(a, b, length=N+1)\n",
    "    \n",
    "    yy = zeros(N+1)\n",
    "    yy[1] = y0\n",
    "    \n",
    "    for i=1:N\n",
    "        x = yy[i]\n",
    "        while true\n",
    "            xnew = x - (x - yy[i] - h*f(tt[i+1],x))/(1 - h*fy(tt[i+1], x))\n",
    "            if abs(xnew - x) < 1e-6\n",
    "                break\n",
    "            end\n",
    "            x = xnew\n",
    "        end\n",
    "        yy[i+1] = x\n",
    "    end\n",
    "    \n",
    "    return tt, yy\n",
    "end"
   ]
  },
  {
   "cell_type": "code",
   "execution_count": null,
   "metadata": {},
   "outputs": [],
   "source": [
    "f(t, y) = -20y + 20cos(t) - sin(t)\n",
    "fy(t, y) = -20\n",
    "a, b, y0 = 0, 2, 0\n",
    "\n",
    "ytrue(t) = -exp(-20t) + cos(t)"
   ]
  },
  {
   "cell_type": "code",
   "execution_count": null,
   "metadata": {},
   "outputs": [],
   "source": [
    "@printf(\"%6s %12s %18s\\n\", \"N\", \"h\", \n",
    "    \"backEulerNewton\")\n",
    "for N = 5:25\n",
    "    h = (b - a)/N\n",
    " \n",
    "    tt1, yy1 = backEulerNewton(f, fy, a, b, y0, N)\n",
    "    abserr1 = abs.(yy1 - ytrue.(tt1))\n",
    "\n",
    "    @printf(\"%6d %12.2e %18.2e\\n\", N, h, \n",
    "        maximum(abserr1))\n",
    "end"
   ]
  },
  {
   "cell_type": "code",
   "execution_count": null,
   "metadata": {},
   "outputs": [],
   "source": [
    "using PyPlot\n",
    "\n",
    "tt0 = range(a, b, length=100)\n",
    "\n",
    "plot(tt0, ytrue.(tt0), label=\"True solution\")\n",
    "plot(tt, yy1, \".-\", label=\"backEulerNewton\")\n",
    "legend(loc=\"best\");"
   ]
  },
  {
   "cell_type": "markdown",
   "metadata": {},
   "source": [
    "---"
   ]
  },
  {
   "cell_type": "markdown",
   "metadata": {},
   "source": [
    "## Exercise\n",
    "\n",
    "Solve the stiff ODE\n",
    "\n",
    "$$y' = 5e^{5t}(y - t)^2 + 1, \\quad 0 \\leq t \\leq 1, \\quad y(0) = -1,$$\n",
    "\n",
    "whose solution is\n",
    "\n",
    "$$y(t) = t - e^{-5t},$$\n",
    "\n",
    "using the **backward Euler with Newton iteration** with $N = 4$.\n",
    "\n",
    "Plot the numerical and true solution.\n",
    "\n"
   ]
  },
  {
   "cell_type": "code",
   "execution_count": null,
   "metadata": {},
   "outputs": [],
   "source": [
    "f(t, y) = 5exp(5t)*(y - t)^2 + 1\n",
    "fy(t, y) = 10exp(5t)*(y - t)\n",
    "a, b, y0 = 0, 1, -1\n",
    "\n",
    "ytrue(t) = t - exp(-5t)"
   ]
  },
  {
   "cell_type": "code",
   "execution_count": null,
   "metadata": {},
   "outputs": [],
   "source": [
    "@printf(\"%6s %12s %12s %12s %12s %12s %18s\\n\", \"N\", \"h\", \n",
    "    \"euler\", \"rktrap\", \"rkmidpoint\", \"rk4\", \"backEulerNewton\")\n",
    "for N = 1:4\n",
    "    h = (b - a)/N\n",
    " \n",
    "    tt1, yy1 = euler(f, a, b, y0, N)\n",
    "    abserr1 = abs.(yy1 - ytrue.(tt1))\n",
    "    \n",
    "    tt2, yy2 = rktrap(f, a, b, y0, N)\n",
    "    abserr2 = abs.(yy2 - ytrue.(tt2))\n",
    "\n",
    "    tt3, yy3 = rkmidpoint(f, a, b, y0, N)\n",
    "    abserr3 = abs.(yy3 - ytrue.(tt3))\n",
    "\n",
    "    tt4, yy4 = rk4(f, a, b, y0, N)\n",
    "    abserr4 = abs.(yy4 - ytrue.(tt4))\n",
    "    \n",
    "    tt5, yy5 = backEulerNewton(f, fy, a, b, y0, N)\n",
    "    abserr5 = abs.(yy5 - ytrue.(tt5))\n",
    "\n",
    "    @printf(\"%6d %12.2e %12.2e %12.2e %12.2e %12.2e %18.2e\\n\", N, h, \n",
    "        maximum(abserr1), maximum(abserr2), \n",
    "        maximum(abserr3), maximum(abserr4), maximum(abserr5) )\n",
    "end"
   ]
  },
  {
   "cell_type": "code",
   "execution_count": null,
   "metadata": {},
   "outputs": [],
   "source": [
    "using PyPlot\n",
    "\n",
    "N = 4\n",
    "\n",
    "tt0 = range(a, b, length=100)\n",
    "\n",
    "tt5, yy5 = backEulerNewton(f, fy, a, b, y0, N)\n",
    "\n",
    "plot(tt0, ytrue.(tt0), label=\"True solution\")\n",
    "plot(tt5, yy5, \".-\", label=\"backEulerNewton\")\n",
    "legend(loc=\"best\");"
   ]
  },
  {
   "cell_type": "markdown",
   "metadata": {},
   "source": [
    "---"
   ]
  }
 ],
 "metadata": {
  "@webio": {
   "lastCommId": null,
   "lastKernelId": null
  },
  "kernelspec": {
   "display_name": "Julia 1.6.0",
   "language": "julia",
   "name": "julia-1.6"
  },
  "language_info": {
   "file_extension": ".jl",
   "mimetype": "application/julia",
   "name": "julia",
   "version": "1.6.0"
  }
 },
 "nbformat": 4,
 "nbformat_minor": 1
}
