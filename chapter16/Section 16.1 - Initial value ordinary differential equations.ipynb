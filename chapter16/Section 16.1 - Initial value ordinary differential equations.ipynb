{
 "cells": [
  {
   "cell_type": "markdown",
   "metadata": {},
   "source": [
    "---\n",
    "Some useful $\\LaTeX$ commands are defined in this cell:\n",
    "$$\n",
    "\\newcommand{\\abs}[1]{\\left\\lvert#1\\right\\rvert}\n",
    "\\newcommand{\\norm}[1]{\\left\\lVert#1\\right\\rVert}\n",
    "\\newcommand{\\set}[1]{\\left\\{#1\\right\\}}\n",
    "\\newcommand{\\paren}[1]{\\left(#1\\right)}\n",
    "\\newcommand{\\brack}[1]{\\left[#1\\right]}\n",
    "\\newcommand{\\ip}[2]{\\left\\langle#1,#2\\right\\rangle}\n",
    "\\DeclareMathOperator{\\span}{span}\n",
    "\\DeclareMathOperator{\\fl}{fl}\n",
    "\\abs{x}, \\norm{x}, \\set{x}, \\paren{x}, \\brack{x}, \\ip{x}{y}, \\span, \\fl\n",
    "$$\n",
    "\n",
    "---"
   ]
  },
  {
   "cell_type": "markdown",
   "metadata": {},
   "source": [
    "---\n",
    "# 16.1 Initial value ordinary differential equations\n",
    "---"
   ]
  },
  {
   "cell_type": "markdown",
   "metadata": {},
   "source": [
    "## Ordinary differential equations and initial value problems\n",
    "\n",
    "Many important applied problems can be posed as finding a function $y(t)$ that satisfies an **ordinary differential equation (ODE)**:\n",
    "\n",
    "$$ \\frac{dy}{dt} = f(t, y), \\quad a \\leq t \\leq b. $$\n",
    "\n",
    "That is, the slope of the graph of the function $y = y(t)$ at time $t$ must be given by $f(t, y)$.\n",
    "\n",
    "An ODE with an initial condition $y(a) = c$ is called an **initial value ODE problem**:\n",
    "\n",
    "$$ \\frac{dy}{dt} = f(t, y), \\quad a \\leq t \\leq b, \\quad y(a) = c. $$"
   ]
  },
  {
   "cell_type": "markdown",
   "metadata": {},
   "source": [
    "---"
   ]
  },
  {
   "cell_type": "markdown",
   "metadata": {},
   "source": [
    "## Example\n",
    "\n",
    "Consider the ODE with $f(t,y) = -5y + 5t^2 + 2t$ over the interval $[0,1]$:\n",
    "\n",
    "$$\\frac{dy}{dt} = -5y + 5t^2 + 2t, \\quad 0 \\leq t \\leq 1.$$\n",
    "\n",
    "Verify that for any scalar $\\alpha$ the function\n",
    "\n",
    "$$y(t) = t^2 + \\alpha e^{-5t}$$\n",
    "\n",
    "satisfies this ODE.\n",
    "\n",
    "Given an additional condition that $y(0) = c$, we can determine that $\\alpha = c$.\n"
   ]
  },
  {
   "cell_type": "markdown",
   "metadata": {},
   "source": [
    "Check that $y(t)$ satisfies the differential equation:\n",
    "\n",
    "$$\n",
    "y'(t) = 2t - 5 \\alpha e^{-5t}\n",
    "$$\n",
    "\n",
    "$$\n",
    "\\frac{dy}{dt} = -5 (t^2 + \\alpha e^{-5t}) + 5t^2 + 2t\n",
    "$$\n",
    "\n",
    "$$\n",
    "\\frac{dy}{dt} = -5t^2 - 5 \\alpha e^{-5t} + 5t^2 + 2t\n",
    "$$\n",
    "\n",
    "$$\n",
    "\\frac{dy}{dt} = -5 \\alpha e^{-5t} + 2t\n",
    "$$"
   ]
  },
  {
   "cell_type": "code",
   "execution_count": null,
   "metadata": {},
   "outputs": [],
   "source": [
    "# ODE is dy/dt = f(t, y)\n",
    "f(t, y) = -5y + 5t^2 + 2t"
   ]
  },
  {
   "cell_type": "code",
   "execution_count": null,
   "metadata": {},
   "outputs": [],
   "source": [
    "using PyPlot\n",
    "\n",
    "a, b, N = 0, 1, 20\n",
    "\n",
    "# Create the t and y meshes of points\n",
    "tt = range(a, b, length=N)\n",
    "yy = range(a, b, length=N)\n",
    "\n",
    "# dy/dt = f(t, y)\n",
    "dt = [1.0 for y in yy, t in tt]\n",
    "dy = [f(t, y) for y in yy, t in tt]\n",
    "\n",
    "# Normalize arrow lengths\n",
    "r = (dt.^2 + dy.^2).^0.5\n",
    "u, v = dt./r, dy./r\n",
    "\n",
    "# Create the slope field plot\n",
    "quiver(tt, yy, u, v, headwidth=0)\n",
    "ylabel(L\"y\")\n",
    "xlabel(L\"t\");\n",
    "\n",
    "# Plot some solution trajectories\n",
    "tspan = range(a, b, length=100)\n",
    "for c = 0:.2:1\n",
    "    plot(tspan, tspan.^2 + c*exp.(-5tspan))\n",
    "end\n",
    "xlim(0, 1)\n",
    "ylim(0, 1);"
   ]
  },
  {
   "cell_type": "markdown",
   "metadata": {},
   "source": [
    "---"
   ]
  },
  {
   "cell_type": "markdown",
   "metadata": {},
   "source": [
    "## Numerical solution of initial value problems\n",
    "\n",
    "In this chapter we study numerical methods to approximate the function $y(t)$ that solves the initial value problem\n",
    "\n",
    "$$ \\frac{dy}{dt} = f(t, y), \\quad a \\leq t \\leq b, \\quad y(a) = c $$\n",
    "\n",
    "at evenly spaced points $a = t_0 < t_1 < \\cdots < t_N = b$, where \n",
    "\n",
    "$$h = \\frac{b - a}{N}, \\quad t_i = a + ih, \\quad i = 0, 1, \\ldots, N.$$\n",
    "\n",
    "We will compute $y_i$ such that $y_i \\approx y(t_i)$, for all $i$."
   ]
  },
  {
   "cell_type": "markdown",
   "metadata": {},
   "source": [
    "---"
   ]
  },
  {
   "cell_type": "markdown",
   "metadata": {},
   "source": [
    "## Example\n",
    "\n",
    "Consider the initial value problem\n",
    "\n",
    "$$\\frac{dy}{dt} = -5y + 5t^2 + 2t, \\quad 0 \\leq t \\leq 1, \\quad y(0) = 1.$$\n",
    "\n",
    "The solution of this problem is $y(t) = t^2 + e^{-5t}$. We will approximate this solution using the Runge-Kutta (fourth order) method."
   ]
  },
  {
   "cell_type": "code",
   "execution_count": null,
   "metadata": {},
   "outputs": [],
   "source": [
    "using ODE"
   ]
  },
  {
   "cell_type": "code",
   "execution_count": null,
   "metadata": {},
   "outputs": [],
   "source": [
    "# ODE is dy/dt = f(t, y)\n",
    "f(t, y) = -5y + 5t^2 + 2t\n",
    "\n",
    "a, b, N = 0, 1, 10\n",
    "\n",
    "y0 = 1.0\n",
    "\n",
    "tspan = range(a, b, length=N+1)"
   ]
  },
  {
   "cell_type": "code",
   "execution_count": null,
   "metadata": {},
   "outputs": [],
   "source": [
    "y(t) = t^2 + exp(-5t)"
   ]
  },
  {
   "cell_type": "code",
   "execution_count": null,
   "metadata": {},
   "outputs": [],
   "source": [
    "# Numerically solve the ODE using the \n",
    "# Runge-Kutta (fourth order) method\n",
    "tout, yout = ode4(f, y0, tspan)\n",
    "\n",
    "# Compute the exact solution\n",
    "ytrue = y.(tout)\n",
    "\n",
    "[tout yout ytrue]"
   ]
  },
  {
   "cell_type": "code",
   "execution_count": null,
   "metadata": {},
   "outputs": [],
   "source": [
    "# Compute the absolute error\n",
    "abserr = abs.(yout - ytrue)"
   ]
  },
  {
   "cell_type": "markdown",
   "metadata": {},
   "source": [
    "```\n",
    "N = 10   =>  h = 0.1   =>  abserr = 1e-4\n",
    "N = 100  =>  h = 0.01  =>  abserr = 1e-8\n",
    "```\n",
    "\n",
    "Therefore, `ode4` is $\\mathcal{O}(h^4)$."
   ]
  },
  {
   "cell_type": "code",
   "execution_count": null,
   "metadata": {},
   "outputs": [],
   "source": [
    "tt = range(a, b, length=100)\n",
    "\n",
    "subplot(2, 1, 1)\n",
    "plot(tt, y.(tt), label=\"true soln\")\n",
    "plot(tout, yout, \".\", label=\"approx soln\")\n",
    "xticks([])\n",
    "title(\"Runge-Kutta (fourth order) method\")\n",
    "legend()\n",
    "\n",
    "subplot(2, 1, 2)\n",
    "plot(tout, abserr)\n",
    "title(\"Numerical solution error\");"
   ]
  },
  {
   "cell_type": "markdown",
   "metadata": {},
   "source": [
    "---"
   ]
  },
  {
   "cell_type": "markdown",
   "metadata": {},
   "source": [
    "## ODE systems\n",
    "\n",
    "Both the function $y(t)$ and $f(t, y)$ can be **vector-valued** functions, which gives us an ODE system, such as\n",
    "\n",
    "$$\n",
    "y' = \\begin{bmatrix} y_1' \\\\ y_2' \\end{bmatrix} = \\begin{bmatrix} f_1(t, y) \\\\ f_2(t, y) \\end{bmatrix} = f(t, y).\n",
    "$$\n",
    "\n",
    "This is especially useful for expressing higher order differential equations as a first order ODE system."
   ]
  },
  {
   "cell_type": "markdown",
   "metadata": {},
   "source": [
    "---"
   ]
  },
  {
   "cell_type": "markdown",
   "metadata": {},
   "source": [
    "## Example\n",
    "\n",
    "The friction-free motion of a swinging pendulum of length $r$ is given by the second-order initial value problem\n",
    "\n",
    "$$\n",
    "\\frac{d^2 \\theta}{dt^2} + \\frac{g}{r} \\sin \\theta = 0, \\quad \\theta(0) = c_0, \\quad \\theta'(0) = c_1,\n",
    "$$\n",
    "\n",
    "where $\\theta(t)$ is the vertical angle of the pendulum and $g \\approx 9.8~\\mathrm{m/s^2}$ is the accelation due to gravity.\n",
    "\n",
    "If we let $y_1(t) = \\theta(t)$ and $y_2(t) = \\theta'(t)$, then\n",
    "\n",
    "$$\n",
    "y' = \\begin{bmatrix} y_1' \\\\ y_2' \\end{bmatrix} = \\begin{bmatrix} y_2 \\\\ -\\frac{g}{r}\\sin y_1 \\end{bmatrix} = f(t, y), \\quad y(0) = \\begin{bmatrix} c_0 \\\\ c_1 \\end{bmatrix}.\n",
    "$$"
   ]
  },
  {
   "cell_type": "code",
   "execution_count": null,
   "metadata": {},
   "outputs": [],
   "source": [
    "g = 9.8\n",
    "r = 1.0\n",
    "\n",
    "# Without friction\n",
    "f(t, y) = [y[2]; -g/r*sin(y[1])]\n",
    "\n",
    "# With friction\n",
    "f(t, y) = [y[2]; -g/r*sin(y[1]) - 2y[2]]"
   ]
  },
  {
   "cell_type": "code",
   "execution_count": null,
   "metadata": {},
   "outputs": [],
   "source": [
    "a, b, N = 0, 10, 100\n",
    "\n",
    "tspan = range(a, b, length=N+1)"
   ]
  },
  {
   "cell_type": "code",
   "execution_count": null,
   "metadata": {},
   "outputs": [],
   "source": [
    "y0 = [pi/4, 2]\n",
    "\n",
    "# Numerically solve the ODE system\n",
    "tout, yout = ode4(f, y0, tspan)\n",
    "\n",
    "yout"
   ]
  },
  {
   "cell_type": "code",
   "execution_count": null,
   "metadata": {},
   "outputs": [],
   "source": [
    "θ = [y[1] for y in yout]"
   ]
  },
  {
   "cell_type": "code",
   "execution_count": null,
   "metadata": {},
   "outputs": [],
   "source": [
    "plot(tout, θ)\n",
    "xlabel(L\"t\")\n",
    "ylabel(L\"\\theta\");"
   ]
  },
  {
   "cell_type": "markdown",
   "metadata": {},
   "source": [
    "---"
   ]
  }
 ],
 "metadata": {
  "@webio": {
   "lastCommId": null,
   "lastKernelId": null
  },
  "kernelspec": {
   "display_name": "Julia 1.6.0",
   "language": "julia",
   "name": "julia-1.6"
  },
  "language_info": {
   "file_extension": ".jl",
   "mimetype": "application/julia",
   "name": "julia",
   "version": "1.6.0"
  }
 },
 "nbformat": 4,
 "nbformat_minor": 2
}
