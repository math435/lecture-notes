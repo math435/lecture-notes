{
 "cells": [
  {
   "cell_type": "markdown",
   "metadata": {},
   "source": [
    "---\n",
    "Some useful $\\LaTeX$ commands are defined in this cell:\n",
    "$$\n",
    "\\newcommand{\\abs}[1]{\\left\\lvert#1\\right\\rvert}\n",
    "\\newcommand{\\norm}[1]{\\left\\lVert#1\\right\\rVert}\n",
    "\\newcommand{\\set}[1]{\\left\\{#1\\right\\}}\n",
    "\\newcommand{\\paren}[1]{\\left(#1\\right)}\n",
    "\\newcommand{\\brack}[1]{\\left[#1\\right]}\n",
    "\\newcommand{\\ip}[2]{\\left\\langle#1,#2\\right\\rangle}\n",
    "\\DeclareMathOperator{\\span}{span}\n",
    "\\DeclareMathOperator{\\fl}{fl}\n",
    "\\abs{x}, \\norm{x}, \\set{x}, \\paren{x}, \\brack{x}, \\ip{x}{y}, \\span, \\fl\n",
    "$$\n",
    "\n",
    "---"
   ]
  },
  {
   "cell_type": "markdown",
   "metadata": {},
   "source": [
    "---\n",
    "# 16.2 Euler's method\n",
    "---"
   ]
  },
  {
   "cell_type": "markdown",
   "metadata": {},
   "source": [
    "We will now derive methods to approximate the function $y(t)$ that solves the initial value problem\n",
    "\n",
    "$$ \\frac{dy}{dt} = f(t, y), \\quad a \\leq t \\leq b, \\quad y(a) = c $$\n",
    "\n",
    "at evenly spaced points $a = t_0 < t_1 < \\cdots < t_N = b$, where \n",
    "\n",
    "$$h = \\frac{b - a}{N}, \\quad t_i = a + ih, \\quad i = 0, 1, \\ldots, N.$$\n",
    "\n",
    "We will compute $y_i$ such that $y_i \\approx y(t_i)$, for all $i$."
   ]
  },
  {
   "cell_type": "markdown",
   "metadata": {},
   "source": [
    "---"
   ]
  },
  {
   "cell_type": "markdown",
   "metadata": {},
   "source": [
    "## Forward Euler method\n",
    "\n",
    "Consider the Taylor series\n",
    "\n",
    "$$\n",
    "y(t_i + h) = y(t_i) + h y'(t_i) + \\frac{h^2}{2} y''(\\xi_i), \\quad \\xi_i \\in (t_i, t_i + h).\n",
    "$$\n",
    "\n",
    "Since $y'(t) = f(t, y(t))$ and $t_{i+1} = t_i + h$, we have\n",
    "\n",
    "$$\n",
    "y(t_{i+1}) \\approx y(t_i) + h f(t_i, y(t_i)).\n",
    "$$\n",
    "\n",
    "\n",
    "Therefore, we define\n",
    "\n",
    "$$\n",
    "\\begin{align}\n",
    "y_0 &= c \\\\\n",
    "y_{i+1} &= y_i + h f(t_i, y_i), \\quad i = 0, 1, \\ldots, N-1.\\\\\n",
    "\\end{align}\n",
    "$$\n",
    "\n",
    "This is the **forward Euler method**."
   ]
  },
  {
   "cell_type": "markdown",
   "metadata": {},
   "source": [
    "---"
   ]
  },
  {
   "cell_type": "markdown",
   "metadata": {},
   "source": [
    "## Example\n",
    "\n",
    "Consider the initial value problem\n",
    "\n",
    "$$\\frac{dy}{dt} = -5y + 5t^2 + 2t, \\quad 0 \\leq t \\leq 1, \\quad y(0) = 1.$$\n",
    "\n",
    "The solution of this problem is $y(t) = t^2 + e^{-5t}$. Approximate this solution using the forward Euler method."
   ]
  },
  {
   "cell_type": "code",
   "execution_count": null,
   "metadata": {},
   "outputs": [],
   "source": [
    "f(t, y) = -5y + 5t^2 + 2t\n",
    "a, b = 0.0, 1.0\n",
    "y0 = 1.0"
   ]
  },
  {
   "cell_type": "code",
   "execution_count": null,
   "metadata": {},
   "outputs": [],
   "source": [
    "function euler(f, a, b, y0, N)\n",
    "    \n",
    "    h = (b - a)/N\n",
    "\n",
    "    tt = range(a, b, length=N+1)\n",
    "    yy = zeros(N+1)\n",
    "    yy[1] = y0\n",
    "\n",
    "    for i = 1:N\n",
    "        yy[i+1] = yy[i] + h*f(tt[i], yy[i])\n",
    "    end\n",
    "    \n",
    "    return tt, yy\n",
    "end"
   ]
  },
  {
   "cell_type": "code",
   "execution_count": null,
   "metadata": {},
   "outputs": [],
   "source": [
    "using PyPlot\n",
    "\n",
    "# Numerically solve the ODE using the \n",
    "# forward Euler method\n",
    "tout, yy = euler(f, a, b, y0, 10)\n",
    "\n",
    "# Compute the exact solution\n",
    "y(t) = t^2 + exp(-5t)\n",
    "ytrue = y.(tout)\n",
    "\n",
    "# Compute the absolute error\n",
    "abserr = abs.(yy - ytrue)\n",
    "\n",
    "tt = range(a, b, length=100)\n",
    "\n",
    "subplot(2, 1, 1)\n",
    "plot(tt, y.(tt), label=\"true soln\")\n",
    "plot(tout, yy, \".-\", label=\"approx soln\")\n",
    "xticks([])\n",
    "title(\"Forward Euler method\")\n",
    "legend()\n",
    "\n",
    "subplot(2, 1, 2)\n",
    "plot(tout, abserr)\n",
    "title(\"Numerical solution error\");"
   ]
  },
  {
   "cell_type": "markdown",
   "metadata": {},
   "source": [
    "---"
   ]
  },
  {
   "cell_type": "markdown",
   "metadata": {},
   "source": [
    "## Backward Euler method\n",
    "\n",
    "Consider the Taylor series\n",
    "\n",
    "$$\n",
    "y(t_i) = y(t_{i+1} - h) = y(t_{i+1}) - h y'(t_{i+1}) + \\frac{h^2}{2} y''(\\xi_i), \\quad \\xi_i \\in (t_{i+1} - h, t_{i+1}).\n",
    "$$\n",
    "\n",
    "Thus, we have\n",
    "\n",
    "$$\n",
    "y(t_i) \\approx y(t_{i+1}) - h f(t_{i+1}, y(t_{i+1})),\n",
    "$$\n",
    "\n",
    "which implies\n",
    "\n",
    "$$\n",
    "y(t_{i+1}) \\approx y(t_i) + h f(t_{i+1}, y(t_{i+1})).\n",
    "$$\n",
    "\n",
    "Therefore, we define\n",
    "\n",
    "$$\n",
    "\\begin{align}\n",
    "y_0 &= c\\\\\n",
    "y_{i+1} &= y_i + h f(t_{i+1}, y_{i+1}), \\quad i = 0, 1, \\ldots, N-1,\\\\\n",
    "\\end{align}\n",
    "$$\n",
    "\n",
    "which is the **backward Euler method**.\n"
   ]
  },
  {
   "cell_type": "markdown",
   "metadata": {},
   "source": [
    "We say that the forward Euler method is an **explicit method** since $y_{i+1}$ is defined explicitly in terms of $y_i$:\n",
    "\n",
    "$$\n",
    "y_{i+1} = y_i + hf(t_i, y_i).\n",
    "$$\n",
    "\n",
    "However, in the backward Euler method, $y_{i+1}$ is defined implicitly it terms of $y_i$ and itself,\n",
    "\n",
    "$$\n",
    "y_{i+1} = y_i + hf(t_{i+1},y_{i+1}),\n",
    "$$\n",
    "\n",
    "so we say that it is an **implicit method**. \n",
    "\n",
    "To implement an implicit method, we need to solve a (possibly nonlinear) equation for $y_{i+1}$ using Chapter 3 methods, for example."
   ]
  },
  {
   "cell_type": "markdown",
   "metadata": {},
   "source": [
    "---\n",
    "\n",
    "## Example\n",
    "\n",
    "Consider the initial value problem\n",
    "\n",
    "$$\\frac{dy}{dt} = -5y + 5t^2 + 2t, \\quad 0 \\leq t \\leq 1, \\quad y(0) = 1.$$\n",
    "\n",
    "The solution of this problem is $y(t) = t^2 + e^{-5t}$. Approximate this solution using the forward Euler method."
   ]
  },
  {
   "cell_type": "markdown",
   "metadata": {},
   "source": [
    "$$\n",
    "y_{i+1} = y_i + h f(t_{i+1}, y_{i+1})\n",
    "$$\n",
    "\n",
    "$$\n",
    "y_{i+1} = y_i + h \\big( -5y_{i+1} + 5t_{i+1}^2 + 2t_{i+1}\\big)\n",
    "$$"
   ]
  },
  {
   "cell_type": "markdown",
   "metadata": {},
   "source": [
    "$$\n",
    "(1+5h)y_{i+1} = y_i + h \\big(5t_{i+1}^2 + 2t_{i+1}\\big)\n",
    "$$\n",
    "\n",
    "$$\n",
    "y_{i+1} = \\frac{y_i + h \\big(5t_{i+1}^2 + 2t_{i+1}\\big)}{1+5h}\n",
    "$$"
   ]
  },
  {
   "cell_type": "code",
   "execution_count": null,
   "metadata": {},
   "outputs": [],
   "source": [
    "N = 10\n",
    "\n",
    "h = (b - a)/N\n",
    "\n",
    "tout = range(a, b, length=N+1)\n",
    "ybe = zeros(N+1)\n",
    "ybe[1] = y0\n",
    "\n",
    "for i = 1:N\n",
    "    ybe[i+1] = (ybe[i] + h*(5tout[i+1]^2 + 2tout[i+1]))/(1 + 5h)\n",
    "end\n",
    "\n",
    "tout, yfe = euler(f, a, b, y0, N)\n",
    "\n",
    "maximum(abs.(ybe - y.(tout))), maximum(abs.(yfe - y.(tout)))"
   ]
  },
  {
   "cell_type": "code",
   "execution_count": null,
   "metadata": {},
   "outputs": [],
   "source": [
    "tt = range(a, b, length=100)\n",
    "\n",
    "subplot(2, 1, 1)\n",
    "plot(tt, y.(tt), label=\"true soln\", \"b\")\n",
    "plot(tout, yfe, \"r.-\", label=\"forward Euler\")\n",
    "plot(tout, ybe, \"g.-\", label=\"backward Euler\")\n",
    "xticks([])\n",
    "title(\"Euler methods\")\n",
    "legend()\n",
    "\n",
    "subplot(2, 1, 2)\n",
    "plot(tout, abs.(yfe - y.(tout)), \"r.-\")\n",
    "plot(tout, abs.(ybe - y.(tout)), \"g.-\")\n",
    "title(\"Numerical solution error\");"
   ]
  },
  {
   "cell_type": "markdown",
   "metadata": {},
   "source": [
    "---"
   ]
  },
  {
   "cell_type": "markdown",
   "metadata": {},
   "source": [
    "## Difference equation\n",
    "\n",
    "The forward Euler method is\n",
    "\n",
    "$$\n",
    "y_{i+1} = y_i + h f(t_i, y_i)\n",
    "$$\n",
    "\n",
    "so we have the following **difference equation**, written in divided difference form:\n",
    "\n",
    "$$\n",
    "0 = \\frac{y_{i+1} - y_i}{h} - f(t_i, y_i).\n",
    "$$"
   ]
  },
  {
   "cell_type": "markdown",
   "metadata": {},
   "source": [
    "---"
   ]
  },
  {
   "cell_type": "markdown",
   "metadata": {},
   "source": [
    "# Local truncation error\n",
    "\n",
    "The **local truncation error** $d_i$ is the amount that the exact solution $y(t)$ fails to satisfy this difference equation, so\n",
    "\n",
    "$$\n",
    "d_i = \\frac{y(t_{i+1}) - y(t_i)}{h} - f(t_i, y(t_i)).\n",
    "$$\n",
    "\n",
    "Since\n",
    "\n",
    "$$\n",
    "y(t_{i+1}) = y(t_i) + h f(t_i, y(t_i)) + \\frac{h^2}{2} y''(\\xi_i),\n",
    "$$\n",
    "\n",
    "we have that \n",
    "\n",
    "$$\n",
    "d_i = \\frac{h}{2} y''(\\xi_i) = O(h),\n",
    "$$ \n",
    "\n",
    "so we say that the forward Euler method is **first order accurate**."
   ]
  },
  {
   "cell_type": "code",
   "execution_count": null,
   "metadata": {},
   "outputs": [],
   "source": [
    "N = 100000\n",
    "\n",
    "for i = 1:4\n",
    "    h = (b - a)/N\n",
    "    tout, yfe = euler(f, a, b, y0, N)\n",
    "    err = maximum(abs.(yfe - y.(tout)))\n",
    "    @show (h, err)\n",
    "    N *= 10\n",
    "end\n"
   ]
  },
  {
   "cell_type": "markdown",
   "metadata": {},
   "source": [
    "---"
   ]
  },
  {
   "cell_type": "markdown",
   "metadata": {},
   "source": [
    "## Global error\n",
    "\n",
    "The **global error** is\n",
    "\n",
    "$$\n",
    "e_i = y(t_i) - y_i, \\quad i = 0, 1, \\ldots, N-1.\n",
    "$$\n",
    "\n",
    "Then we have\n",
    "\n",
    "$$\n",
    "\\begin{align}\n",
    "d_i - 0 \n",
    "&= \\paren{\\frac{y(t_{i+1}) - y(t_i)}{h} - f(t_i, y(t_i))} - \\paren{\\frac{y_{i+1} - y_i}{h} - f(t_i, y_i)}\\\\\n",
    "&= \\frac{[y(t_{i+1}) - y_{i+1}] - [y(t_i) - y_i]}{h} - [f(t_i, y(t_i)) - f(t_i, y_i)]\\\\\n",
    "&= \\frac{e_{i+1} - e_i}{h} - [f(t_i, y(t_i)) - f(t_i, y_i)].\\\\\n",
    "\\end{align}\n",
    "$$\n",
    "\n",
    "Thus,\n",
    "\n",
    "$$\n",
    "\\begin{align}\n",
    "\\abs{e_{i+1}}\n",
    "&= \\abs{e_i + h[f(t_i, y(t_i)) - f(t_i, y_i)] + hd_i} \\\\\n",
    "&\\leq \\abs{e_i} + h\\abs{f(t_i, y(t_i)) - f(t_i, y_i)} + h\\abs{d_i} \\\\\n",
    "&\\leq \\abs{e_i} + h\\abs{f(t_i, y(t_i)) - f(t_i, y_i)} + hd,\n",
    "\\end{align}\n",
    "$$\n",
    "\n",
    "where we define \n",
    "\n",
    "$$\n",
    "\\abs{d_i} = \\frac{h}{2} \\abs{y''(\\xi_i)} \\leq \n",
    "\\frac{h}{2}\\norm{y''} =: d.\n",
    "$$"
   ]
  },
  {
   "cell_type": "markdown",
   "metadata": {},
   "source": [
    "---"
   ]
  },
  {
   "cell_type": "markdown",
   "metadata": {},
   "source": [
    "## Lipschitz continuity\n",
    "\n",
    "We say that $f(t,y)$ is **Lipschitz continuous** in $y$ with **Lipschitz constant** $L$ if\n",
    "\n",
    "$$\n",
    "\\abs{f(t,y) - f(t,\\hat{y})} \\leq L \\abs{y - \\hat{y}}, \\quad a \\leq t \\leq b, \\quad -\\infty < y, \\hat{y} < \\infty.\n",
    "$$\n",
    "\n",
    "Under this condition on $f(t,y)$, we have\n",
    "\n",
    "$$\n",
    "\\begin{align}\n",
    "\\abs{e_{i+1}}\n",
    "&\\leq \\abs{e_i} + h\\abs{f(t_i, y(t_i)) - f(t_i, y_i)} + hd \\\\\n",
    "&\\leq \\abs{e_i} + hL\\abs{y(t_i) - y_i} + hd\\\\\n",
    "&\\leq (1 + hL)\\abs{e_i} + hd.\\\\\n",
    "\\end{align}\n",
    "$$"
   ]
  },
  {
   "cell_type": "markdown",
   "metadata": {},
   "source": [
    "---"
   ]
  },
  {
   "cell_type": "markdown",
   "metadata": {},
   "source": [
    "# Convergence\n",
    "\n",
    "A method is said to **converge** if \n",
    "\n",
    "$$\n",
    "\\lim_{h \\to 0} \\max_i \\abs{e_i} = 0.\n",
    "$$"
   ]
  },
  {
   "cell_type": "markdown",
   "metadata": {},
   "source": [
    "> ## Theorem: (Forward Euler Convergence)\n",
    ">\n",
    "> Suppose $f(t,y)$ has bounded partial derivatives in the region\n",
    ">\n",
    "> $$\\mathcal{D} = \\set{(t,y) \\mid  a \\leq t \\leq b, \\abs{y} < \\infty}.$$ \n",
    ">\n",
    "> Then $f(t,y)$ is Lipschitz continuous in $y$ on the region $\\mathcal{D}$ with some Lipschitz constant $L$ and\n",
    ">\n",
    "> $$\n",
    "\\abs{e_i} \\leq \\frac{h\\norm{y''}}{2L} \\brack{e^{L(t_i - a)} - 1}, \\quad i=0,1,\\ldots,N,\n",
    "$$\n",
    ">\n",
    "> implying that the forward Euler method converges."
   ]
  },
  {
   "cell_type": "markdown",
   "metadata": {},
   "source": [
    "### Proof.\n",
    "\n",
    "First we observe that\n",
    "\n",
    "$$\n",
    "\\begin{align}\n",
    "\\abs{e_{i+1}} \n",
    "&\\leq (1 + hL)\\abs{e_i} + hd\\\\\n",
    "&\\leq hd\\sum_{j=0}^i (1+hL)^j\\\\\n",
    "&= hd \\frac{(1+hL)^{i+1} - 1}{(1+hL) - 1}.\\\\\n",
    "\\end{align}\n",
    "$$"
   ]
  },
  {
   "cell_type": "markdown",
   "metadata": {},
   "source": [
    "---\n",
    "\n",
    "\\begin{align}\n",
    "\\abs{e_{i+1}} &\\leq (1 + hL)\\abs{e_i} + hd\\\\\n",
    "              &\\leq (1 + hL)\\big( (1 + hL)\\abs{e_{i-1}} + hd \\big) + hd\\\\\n",
    "              &\\leq (1 + hL)^2\\abs{e_{i-1}} + (1 + hL)hd + hd\\\\\n",
    "              &\\leq (1 + hL)^3\\abs{e_{i-2}} + (1 + hL)^2hd + (1 + hL)hd + hd\\\\\n",
    "              &\\vdots \\\\\n",
    "              &\\leq (1 + hL)^{i+1}\\abs{e_{0}} + (1 + hL)^ihd + \\cdots + (1 + hL)^2hd + (1 + hL)hd + hd\\\\\n",
    "              &= (1 + hL)^ihd + \\cdots + (1 + hL)^2hd + (1 + hL)hd + (1 + hL)^0hd\\\\\n",
    "              &\\leq \\sum_{j=0}^i (1 + hL)^jhd\\\\\n",
    "              &= hd \\sum_{j=0}^i (1 + hL)^ju\\\\\n",
    "\\end{align}\n",
    "\n",
    "---"
   ]
  },
  {
   "cell_type": "markdown",
   "metadata": {},
   "source": [
    "Note that this last inequality is due to the geometric series formula\n",
    "\n",
    "$$\n",
    "\\sum_{k=0}^{n-1} r^k = \\frac{r^n - 1}{r - 1}.\n",
    "$$"
   ]
  },
  {
   "cell_type": "markdown",
   "metadata": {},
   "source": [
    "$$\n",
    "|e_{i+1}| \\leq hd \\frac{(1+hL)^{i+1} - 1}{(1+hL) - 1}\n",
    "$$"
   ]
  },
  {
   "cell_type": "markdown",
   "metadata": {},
   "source": [
    "Thus,\n",
    "\n",
    "$$\n",
    "\\begin{align}\n",
    "\\abs{e_{i+1}} \n",
    "&\\leq \\frac{d}{L} \\brack{(1+hL)^{i+1} - 1}\\\\\n",
    "&= \\frac{d}{L} \\brack{ \\paren{1+\\frac{hL(i+1)}{i+1} }^{i+1} - 1}\\\\\n",
    "&\\leq \\frac{d}{L} \\brack{ e^{hL(i+1)} - 1},\\\\\n",
    "\\end{align}\n",
    "$$\n",
    "\n",
    "which is due to the exponential formula\n",
    "\n",
    "$$\n",
    "e^x = \\lim_{n \\to \\infty} \\paren{1 + \\frac{x}{n}}^n.\n",
    "$$"
   ]
  },
  {
   "cell_type": "markdown",
   "metadata": {},
   "source": [
    "Therefore,\n",
    "\n",
    "$$\n",
    "\\abs{e_{i+1}} \\leq \\frac{h\\norm{y''}}{2L} \\brack{ e^{L(t_{i+1} - a)} - 1},\n",
    "$$\n",
    "\n",
    "since $h(i+1) = t_{i+1} - a$. $\\blacksquare$"
   ]
  },
  {
   "cell_type": "markdown",
   "metadata": {},
   "source": [
    "---"
   ]
  }
 ],
 "metadata": {
  "@webio": {
   "lastCommId": null,
   "lastKernelId": null
  },
  "kernelspec": {
   "display_name": "Julia 1.8.5",
   "language": "julia",
   "name": "julia-1.8"
  },
  "language_info": {
   "file_extension": ".jl",
   "mimetype": "application/julia",
   "name": "julia",
   "version": "1.8.5"
  }
 },
 "nbformat": 4,
 "nbformat_minor": 4
}
