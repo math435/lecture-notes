{
 "cells": [
  {
   "cell_type": "markdown",
   "metadata": {},
   "source": [
    "---\n",
    "Some useful $\\LaTeX$ commands are defined in this cell:\n",
    "$$\n",
    "\\newcommand{\\abs}[1]{\\left\\lvert#1\\right\\rvert}\n",
    "\\newcommand{\\norm}[1]{\\left\\lVert#1\\right\\rVert}\n",
    "\\newcommand{\\set}[1]{\\left\\{#1\\right\\}}\n",
    "\\newcommand{\\paren}[1]{\\left(#1\\right)}\n",
    "\\newcommand{\\brack}[1]{\\left[#1\\right]}\n",
    "\\newcommand{\\ip}[2]{\\left\\langle#1,#2\\right\\rangle}\n",
    "\\DeclareMathOperator{\\span}{span}\n",
    "\\DeclareMathOperator{\\fl}{fl}\n",
    "\\abs{x}, \\norm{x}, \\set{x}, \\paren{x}, \\brack{x}, \\ip{x}{y}, \\span, \\fl\n",
    "$$\n",
    "\n",
    "---"
   ]
  },
  {
   "cell_type": "markdown",
   "metadata": {},
   "source": [
    "---\n",
    "# 16.6 Error control and estimation\n",
    "---"
   ]
  },
  {
   "cell_type": "markdown",
   "metadata": {},
   "source": [
    "In this last section, we consider adaptively changing the step size in order to obtain a method that:\n",
    "\n",
    "- is accurate to within a user specified tolerance `tol`;\n",
    "- uses a small number of step points $N$.\n",
    "\n",
    "Like the **adaptive quadrature** method, the idea is to use smaller steps $h_i$ where the solution is varying rapidly, and larger steps where the solution is changing slowly.\n",
    "\n",
    "However, unlike the **adaptive quadrature** method, bounding the total error is difficult and we will instead bound a measure of the local error."
   ]
  },
  {
   "cell_type": "markdown",
   "metadata": {},
   "source": [
    "## Global error\n",
    "\n",
    "Given an approximation \n",
    "\n",
    "$$y_i \\approx y(t_i), \\quad i = 0, 1, \\ldots, N,$$\n",
    "\n",
    "where $y(t)$ is the exact solution of the ODE\n",
    "\n",
    "$$y' = f(t, y), \\quad a \\leq t \\leq b, \\quad y(a) = c,$$\n",
    "\n",
    "the **global error** at step $t_i$ is defined as\n",
    "\n",
    "$$e_i = y(t_i) - y_i.$$\n",
    "\n",
    "Unfortunately, we will not be able to bound the global error due to the way the global error accumulates from one step to the next."
   ]
  },
  {
   "cell_type": "markdown",
   "metadata": {},
   "source": [
    "## Local error\n",
    "\n",
    "Instead, we will bound the **local error** at step $t_{i+1}$ which is defined as\n",
    "\n",
    "$$l_{i+1} = \\bar{y}(t_{i+1}) - y_{i+1},$$\n",
    "\n",
    "where $\\bar{y}(t)$ satisfies\n",
    "\n",
    "$$\\bar{y}' = f(t, \\bar{y}), \\quad \\bar{y}(t_i) = y_i.$$\n",
    "\n",
    "That is, the local error is a measurement of the error that happened when moving from $t_i$ to $t_{i+1}$; for this purpose, we suppose that our approximation at time $t_i$ was exact."
   ]
  },
  {
   "cell_type": "markdown",
   "metadata": {},
   "source": [
    "## Truncation error\n",
    "\n",
    "The local error $l_{i+1}$ is related to the **truncation error** $d_i$ as follows.\n",
    "\n",
    "Suppose we are using a one-step method:\n",
    "\n",
    "$$y_{i+1} = y_i + h \\phi(t_i, y_i, h).$$\n",
    "\n",
    "Then, the truncation error is given by\n",
    "\n",
    "$$d_i = \\frac{\\bar{y}(t_{i+1}) - \\bar{y}(t_i)}{h} - \\phi(t_i, \\bar{y}(t_i), h).$$"
   ]
  },
  {
   "cell_type": "markdown",
   "metadata": {},
   "source": [
    "Thus, we have\n",
    "\n",
    "$$d_i = \\frac{\\bar{y}(t_{i+1}) - \\bar{y}(t_i)}{h} - \\frac{y_{i+1} - y_i}{h} = \\frac{\\bar{y}(t_{i+1}) - \\bar{y}(t_i) - y_{i+1} + y_i}{h} = \\frac{\\bar{y}(t_{i+1}) - y_{i+1}}{h} = \\frac{l_{i+1}}{h}.$$"
   ]
  },
  {
   "cell_type": "markdown",
   "metadata": {},
   "source": [
    "---"
   ]
  },
  {
   "cell_type": "markdown",
   "metadata": {},
   "source": [
    "## Local error estimation\n",
    "\n",
    "We can estimate the local error $l_{i+1}$ using two approximations:\n",
    "\n",
    "1. an $\\mathcal{O}(h^q)$ approximation: $y_{i+1}$\n",
    "2. an $\\mathcal{O}(h^{q+1})$ approximation: $\\hat{y}_{i+1}$\n",
    "\n",
    "These approximations have truncation errors:\n",
    "\n",
    "$$d_i = \\mathcal{O}(h^q), \\quad \\hat{d}_i = \\mathcal{O}(h^{q+1}).$$\n",
    "\n",
    "By above, we have\n",
    "\n",
    "$$\n",
    "\\begin{split}\n",
    "d_i \n",
    "&= \\frac{\\bar{y}(t_{i+1}) - y_{i+1}}{h} \\\\\n",
    "&= \\frac{\\bar{y}(t_{i+1}) - \\hat{y}_{i+1} + \\hat{y}_{i+1} - y_{i+1}}{h} \\\\\n",
    "&= \\hat{d}_i + \\frac{\\hat{y}_{i+1} - y_{i+1}}{h} \\\\\n",
    "&= \\frac{\\hat{y}_{i+1} - y_{i+1}}{h} + \\mathcal{O}(h^{q+1}).\n",
    "\\end{split}\n",
    "$$\n",
    "\n",
    "Since $d_i = \\mathcal{O}(h^q)$, we conclude that\n",
    "\n",
    "$$d_i \\approx \\frac{\\hat{y}_{i+1} - y_{i+1}}{h},$$\n",
    "\n",
    "which implies that\n",
    "\n",
    "$$l_{i+1} \\approx \\hat{y}_{i+1} - y_{i+1}.$$\n",
    "\n"
   ]
  },
  {
   "cell_type": "markdown",
   "metadata": {},
   "source": [
    "---"
   ]
  },
  {
   "cell_type": "markdown",
   "metadata": {},
   "source": [
    "## Adaptive step size selection\n",
    "\n",
    "We will accept the current step $h$ if\n",
    "\n",
    "$$\\abs{\\hat{y}_{i+1} - y_{i+1}} \\leq h \\cdot \\mathtt{tol},$$\n",
    "\n",
    "and we set $y_{i+1} \\gets \\hat{y}_{i+1}$.\n",
    "\n",
    "Otherwise we must decrease $h$ to some smaller step size $\\tilde{h}$, giving us a local error of $\\tilde{l}_{i+1}$."
   ]
  },
  {
   "cell_type": "markdown",
   "metadata": {},
   "source": [
    "By above, we have\n",
    "\n",
    "$$\\abs{l_{i+1}} = \\mathcal{O}(h^{q+1}),$$\n",
    "\n",
    "so we assume that \n",
    "\n",
    "$$\\abs{l_{i+1}} = Kh^{q+1} + \\mathcal{O}(h^{q+1}),$$\n",
    "\n",
    "for some $K$ that does not depend on $h$."
   ]
  },
  {
   "cell_type": "markdown",
   "metadata": {},
   "source": [
    "Therefore, we have\n",
    "\n",
    "$$\\abs{l_{i+1}} \\approx Kh^{q+1} \\quad \\text{and} \\quad \\abs{\\tilde{l}_{i+1}} \\approx K\\tilde{h}^{q+1}.$$\n",
    "\n",
    "We want to choose $\\tilde{h}$ such that $\\abs{\\tilde{l}_{i+1}} \\approx \\mu \\tilde{h} \\cdot \\mathtt{tol}$, where $\\mu < 1$ is a safety factor (say $\\mu = 0.9$). \n",
    "\n",
    "We can solve for $\\tilde{h}$ using \n",
    "\n",
    "$$\n",
    "\\frac{K\\tilde{h}^{q+1}}{Kh^{q+1}} \\approx \n",
    "\\frac{\\abs{\\tilde{l}_{i+1}}}{\\abs{l_{i+1}}} \\approx \n",
    "\\frac{\\mu \\tilde{h} \\cdot \\mathtt{tol}}{\\abs{\\hat{y}_{i+1} - y_{i+1}}},\n",
    "$$\n",
    "\n",
    "which gives us\n",
    "\n",
    "$$\\tilde{h} = h \\paren{ \\frac{\\mu h \\cdot \\mathtt{tol}}{\\abs{\\hat{y}_{i+1} - y_{i+1}}}}^{\\frac{1}{q}}.$$"
   ]
  },
  {
   "cell_type": "markdown",
   "metadata": {},
   "source": [
    "If we have not needed to decrease the step size in the last couple of steps, we can double the step size next time. This will help reduce the number of steps required."
   ]
  },
  {
   "cell_type": "markdown",
   "metadata": {},
   "source": [
    "---"
   ]
  },
  {
   "cell_type": "markdown",
   "metadata": {},
   "source": [
    "## `ode45`\n",
    "\n",
    "When choosing the pair of $\\mathcal{O}(h^{q})$ and $\\mathcal{O}(h^{q+1})$ methods, we would like to have Runge-Kutta methods that use many of the same $K_i$ values for efficiency.\n",
    "\n",
    "Such $\\mathcal{O}(h^{4})$ and $\\mathcal{O}(h^{5})$ formulas are provided in the [Dormand-Prince method](http://en.wikipedia.org/wiki/Dormand%E2%80%93Prince_method) and are given by the following Butcher tableau:\n",
    "\n",
    "$$\n",
    "\\begin{array}{c|cccccc}\n",
    "0 & \\\\\n",
    "1/5 & 1/5 \\\\\n",
    "3/10 & 3/40 & 9/40 \\\\\n",
    "4/5 & 44/45 & -56/15 & 32/9 \\\\\n",
    "8/9 & 19372/6561 & −25360/2187 & 64448/6561 & −212/729 \\\\\n",
    "1 & 9017/3168\t& −355/33\t& 46732/5247\t& 49/176\t& −5103/18656 \\\\\n",
    "1 & 35/384\t& 0\t& 500/1113\t& 125/192\t& −2187/6784\t& 11/84 \\\\\n",
    "\\hline\n",
    "& 35/384\t& 0\t& 500/1113\t& 125/192\t& −2187/6784\t& 11/84\t& 0 \\\\\n",
    "& 5179/57600\t& 0\t& 7571/16695\t& 393/640\t& −92097/339200\t& 187/2100\t& 1/40 \\\\\n",
    "\\end{array}\n",
    "$$\n",
    "\n",
    "\n",
    "The last row provides the $\\mathcal{O}(h^{4})$ formula and the second-last row gives the $\\mathcal{O}(h^{5})$ formula. \n",
    "\n",
    "These are the default formulas used in MATLAB's adaptive [`ode45`](http://www.mathworks.com/help/matlab/ref/ode45.html) solver, and also in the `ode45` function in Julia's [`ODE.jl`](https://github.com/JuliaLang/ODE.jl) package."
   ]
  },
  {
   "cell_type": "markdown",
   "metadata": {},
   "source": [
    "---"
   ]
  },
  {
   "cell_type": "markdown",
   "metadata": {},
   "source": [
    "## Astronomical example\n",
    "\n",
    "Two bodies of masses \n",
    "\n",
    "$$\\mu = 0.012277471, \\quad \\hat\\mu = 1 - \\mu,$$\n",
    "\n",
    "move in a planar motion, with a third body of negligible mass moving in the same plane (e.g., the Earth, Sun, and Moon).\n",
    "\n",
    "The motion is governed by the equations\n",
    "\n",
    "$$\n",
    "\\begin{align}\n",
    "u_1'' &= u_1 + 2u_2' - \\hat\\mu\\frac{u_1 + \\mu}{D_1} - \\mu\\frac{u_1 - \\hat\\mu}{D_2}, \\\\\n",
    "u_2'' &= u_2 - 2u_1' - \\hat\\mu\\frac{u_2}{D_1} - \\mu\\frac{u_2}{D_2}, \\\\\n",
    "D_1 &= \\paren{(u_1 + \\mu)^2 + u_2^2}^{3/2}, \\\\\n",
    "D_2 &= \\paren{(u_1 - \\hat\\mu)^2 + u_2^2}^{3/2}. \\\\\n",
    "\\end{align}\n",
    "$$\n",
    "\n",
    "Starting with the initial conditions\n",
    "\n",
    "$$\n",
    "\\begin{align}\n",
    "u_1(0) &= 0.994, \\\\\n",
    "u_1'(0) &= 0, \\\\\n",
    "u_2(0) &= 0, \\\\\n",
    "u_2'(0) &= -2.00158510637908252240537862224,\\\\\n",
    "\\end{align}\n",
    "$$\n",
    "\n",
    "the solution is periodic with period $< 17.1$."
   ]
  },
  {
   "cell_type": "code",
   "execution_count": null,
   "metadata": {},
   "outputs": [],
   "source": [
    "using ODE, PyPlot"
   ]
  },
  {
   "cell_type": "code",
   "execution_count": null,
   "metadata": {},
   "outputs": [],
   "source": [
    "############################################################\n",
    "function f(t, y)\n",
    "    \n",
    "    μ = 0.012277471\n",
    "    μ̂ = 1 - μ\n",
    "    \n",
    "    D1 = ((y[1] + μ)^2  + y[3]^2)^1.5\n",
    "    D2 = ((y[1] - μ̂)^2 + y[3]^2)^1.5\n",
    "    \n",
    "    yp = zeros(length(y))\n",
    "    \n",
    "    yp[1] = y[2]\n",
    "    yp[2] = y[1] + 2y[4] - μ̂*(y[1] + μ)/D1 - μ*(y[1] - μ̂)/D2\n",
    "    yp[3] = y[4]\n",
    "    yp[4] = y[3] - 2y[2] - μ̂*y[3]/D1 - μ*y[3]/D2\n",
    "    \n",
    "    return yp\n",
    "end"
   ]
  },
  {
   "cell_type": "code",
   "execution_count": null,
   "metadata": {},
   "outputs": [],
   "source": [
    "############################################################\n",
    "y0 = [0.994, 0, 0, -2.00158510637908252240537862224]\n",
    "\n",
    "a, b = 0, 17.1\n",
    "\n",
    "############################################################\n",
    "tt, yy = ode45(f, y0, [a, b], reltol=1e-4, abstol=1e-4)\n",
    "\n",
    "N = length(tt) - 1\n",
    "\n",
    "yy = hcat(yy...)\n",
    "\n",
    "u1 = yy[1,:]\n",
    "u2 = yy[3,:]\n",
    "\n",
    "############################################################\n",
    "plot(tt, u1, \".-\", label=L\"u_1\")\n",
    "plot(tt, u2, \".-\", label=L\"u_2\")\n",
    "axis(\"tight\")\n",
    "legend(loc=\"best\")\n",
    "title(\"ode45: $N steps\");"
   ]
  },
  {
   "cell_type": "code",
   "execution_count": null,
   "metadata": {},
   "outputs": [],
   "source": [
    "plot(u1, u2, \".-\")\n",
    "xlabel(L\"u_1\")\n",
    "ylabel(L\"u_2\")\n",
    "axis(\"equal\")\n",
    "title(\"ode45: $N steps\");"
   ]
  },
  {
   "cell_type": "markdown",
   "metadata": {},
   "source": [
    "---"
   ]
  },
  {
   "cell_type": "markdown",
   "metadata": {},
   "source": [
    "## Exercise\n",
    "\n",
    "Determine the number of steps required to obtain a qualitatively correct figure using `rk4`."
   ]
  },
  {
   "cell_type": "code",
   "execution_count": null,
   "metadata": {},
   "outputs": [],
   "source": [
    "function rk4(f, a, b, y0, N)\n",
    "    \n",
    "    h = (b - a)/N\n",
    "\n",
    "    tt = range(a, b, length=N+1)\n",
    "    yy = [y0]\n",
    "\n",
    "    for i = 1:N\n",
    "        K1 = f(tt[i], yy[i])\n",
    "        K2 = f(tt[i] + h/2, yy[i] + h/2*K1)\n",
    "        K3 = f(tt[i] + h/2, yy[i] + h/2*K2)\n",
    "        K4 = f(tt[i] + h, yy[i] + h*K3)\n",
    "        ynew = yy[i] + h*(K1 + 2K2 + 2K3 + K4)/6\n",
    "        push!(yy, ynew)\n",
    "    end\n",
    "    \n",
    "    return tt, yy\n",
    "end"
   ]
  },
  {
   "cell_type": "code",
   "execution_count": null,
   "metadata": {},
   "outputs": [],
   "source": [
    "N = 20000\n",
    "\n",
    "tt, yy = rk4(f, a, b, y0, N)\n",
    "\n",
    "yy = hcat(yy...)\n",
    "\n",
    "u1 = yy[1,:]\n",
    "u2 = yy[3,:]\n",
    "\n",
    "plot(u1, u2, \"-\")\n",
    "xlabel(L\"u_1\")\n",
    "ylabel(L\"u_2\")\n",
    "axis(\"equal\")\n",
    "title(\"rk4: $N uniform steps\");"
   ]
  },
  {
   "cell_type": "markdown",
   "metadata": {},
   "source": [
    "---"
   ]
  }
 ],
 "metadata": {
  "@webio": {
   "lastCommId": null,
   "lastKernelId": null
  },
  "kernelspec": {
   "display_name": "Julia 1.6.0",
   "language": "julia",
   "name": "julia-1.6"
  },
  "language_info": {
   "file_extension": ".jl",
   "mimetype": "application/julia",
   "name": "julia",
   "version": "1.6.0"
  }
 },
 "nbformat": 4,
 "nbformat_minor": 1
}
