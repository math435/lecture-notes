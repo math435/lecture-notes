{
 "cells": [
  {
   "cell_type": "markdown",
   "metadata": {},
   "source": [
    "---\n",
    "# 1.1 Scientific computing\n",
    "---"
   ]
  },
  {
   "cell_type": "markdown",
   "metadata": {},
   "source": [
    "## Motivation\n",
    "\n",
    "- Computers have become a central tool that is used in virtually every discipline:  \n",
    "\n",
    "    - mathematics\n",
    "    - engineering\n",
    "    - physical sciences\n",
    "    - social sciences\n",
    "    - economics\n",
    "    - data science\n",
    "    - ...\n",
    "\n",
    "- In these disciplines, **mathematical models** are used to explore and gain a deeper understanding of complex systems.\n",
    "\n",
    "- There is now a growing need for those with the ability to develop software that can _efficiently_, _accurately_, and _reliably_ solve mathematical models."
   ]
  },
  {
   "cell_type": "markdown",
   "metadata": {},
   "source": [
    "## Overview\n",
    "\n",
    "In this class, we will learn computational methods (algorithms) for working with _continuous_ mathematical models:\n",
    "    \n",
    "| Chapter | Topic |\n",
    "|--------:|-------|\n",
    "|  3 | Nonlinear Equations in One Variable |\n",
    "| 10 | Polynomial Interpolation |\n",
    "| 11 | Piecewise Polynomial Interpolation |\n",
    "| 12 | Best Approximation |\n",
    "| 14 | Numerical Differentiation |\n",
    "| 15 | Numerical Integration |\n",
    "| 16 | Differential Equations |"
   ]
  },
  {
   "cell_type": "markdown",
   "metadata": {},
   "source": [
    "## Goals\n",
    "\n",
    "Learning these algorithms will give you the knowledge and skills to solve more complex problems you may encounter in your careers. We will study:\n",
    "\n",
    "1. The theory behind the algorithms (numerical analysis):\n",
    "    - complexity and convergence rate\n",
    "    - problem conditioning and algorithm stability\n",
    "    - accuracy and error bounds\n",
    "    - proofs\n",
    "2. How to choose which method should be used for a particular problem.\n",
    "3. How to implement the method efficiently.\n",
    "    - We will use [Julia](http://julialang.org): \"a high-level, high-performance dynamic programming language for technical computing.\"\n",
    "    - See [Julia benchmarks](http://julialang.org/benchmarks/) for a comparison with various other languages.\n",
    "4. How to evaluate and test your implementation for *efficiency*, *accuracy*, and *robustness*."
   ]
  },
  {
   "cell_type": "markdown",
   "metadata": {},
   "source": [
    "---\n",
    "# Section 1.2: Numerical algorithms and errors\n",
    "---"
   ]
  },
  {
   "cell_type": "markdown",
   "metadata": {},
   "source": [
    "Suppose some quantity $u$ is approximated by $v$. The **absolute error** is measured by\n",
    "\n",
    "$$\n",
    "|u - v|.\n",
    "$$\n",
    "\n",
    "Often, it is better to look at how large $|u-v|$ is compared to $|u|$. If $|u-v|$ is $p$ percent of $|u|$, then \n",
    "\n",
    "$$\n",
    "|u-v| = p|u|.\n",
    "$$ \n",
    "\n",
    "If $u \\neq 0$, then\n",
    "$$\n",
    "p = \\frac{|u-v|}{|u|},\n",
    "$$\n",
    "which is called the **relative error**."
   ]
  },
  {
   "cell_type": "code",
   "execution_count": 1,
   "metadata": {},
   "outputs": [
    {
     "data": {
      "text/plain": [
       "(π, 3.14159)"
      ]
     },
     "execution_count": 1,
     "metadata": {},
     "output_type": "execute_result"
    }
   ],
   "source": [
    "u, v = π, 3.14159"
   ]
  },
  {
   "cell_type": "code",
   "execution_count": 2,
   "metadata": {},
   "outputs": [
    {
     "data": {
      "text/plain": [
       "π = 3.1415926535897..."
      ]
     },
     "execution_count": 2,
     "metadata": {},
     "output_type": "execute_result"
    }
   ],
   "source": [
    "u"
   ]
  },
  {
   "cell_type": "code",
   "execution_count": 3,
   "metadata": {},
   "outputs": [
    {
     "data": {
      "text/plain": [
       "2.6535897932333796e-6"
      ]
     },
     "execution_count": 3,
     "metadata": {},
     "output_type": "execute_result"
    }
   ],
   "source": [
    "abs(u - v)"
   ]
  },
  {
   "cell_type": "markdown",
   "metadata": {},
   "source": [
    "i.e., $\\approx 2.6 \\times 10^{-6}$"
   ]
  },
  {
   "cell_type": "code",
   "execution_count": 4,
   "metadata": {},
   "outputs": [
    {
     "data": {
      "text/plain": [
       "8.446638650625857e-7"
      ]
     },
     "execution_count": 4,
     "metadata": {},
     "output_type": "execute_result"
    }
   ],
   "source": [
    "p = abs(u - v)/abs(u)"
   ]
  },
  {
   "cell_type": "markdown",
   "metadata": {},
   "source": [
    "i.e., $\\approx 8.4 \\times 10^{-7}$"
   ]
  },
  {
   "cell_type": "code",
   "execution_count": 5,
   "metadata": {},
   "outputs": [
    {
     "data": {
      "text/plain": [
       "6.0733160846496"
      ]
     },
     "execution_count": 5,
     "metadata": {},
     "output_type": "execute_result"
    }
   ],
   "source": [
    "# Number of digits of accuracy\n",
    "-log10(p)"
   ]
  },
  {
   "cell_type": "code",
   "execution_count": 6,
   "metadata": {},
   "outputs": [
    {
     "data": {
      "text/plain": [
       "Float64"
      ]
     },
     "execution_count": 6,
     "metadata": {},
     "output_type": "execute_result"
    }
   ],
   "source": [
    "typeof(8.4e-7)"
   ]
  },
  {
   "cell_type": "code",
   "execution_count": 7,
   "metadata": {},
   "outputs": [
    {
     "data": {
      "text/plain": [
       "Float32"
      ]
     },
     "execution_count": 7,
     "metadata": {},
     "output_type": "execute_result"
    }
   ],
   "source": [
    "typeof(8.4f-7)"
   ]
  },
  {
   "cell_type": "markdown",
   "metadata": {},
   "source": [
    "---"
   ]
  },
  {
   "cell_type": "markdown",
   "metadata": {},
   "source": [
    "## Exercise\n",
    "Complete the following table.\n",
    "\n",
    "| $u$ | $v$ | absolute error | relative error |\n",
    "|:---:|:---:|:--------------:|:--------------:|\n",
    "|   1 |  0.99 | 0.01 | 0.01 |\n",
    "|   1 |  1.5  |  0.5 | 0.5|\n",
    "| 100 | 99.99 | 0.01 | 0.0001 |\n",
    "| 100 | 100.5 | 0.5  | 0.005 |"
   ]
  },
  {
   "cell_type": "code",
   "execution_count": 8,
   "metadata": {},
   "outputs": [
    {
     "data": {
      "text/plain": [
       "0.00010000000000005117"
      ]
     },
     "execution_count": 8,
     "metadata": {},
     "output_type": "execute_result"
    }
   ],
   "source": [
    "abs(100 - 99.99)/abs(100)"
   ]
  },
  {
   "cell_type": "code",
   "execution_count": 9,
   "metadata": {},
   "outputs": [
    {
     "data": {
      "text/plain": [
       "0.005"
      ]
     },
     "execution_count": 9,
     "metadata": {},
     "output_type": "execute_result"
    }
   ],
   "source": [
    "abs(100 - 100.5)/abs(100)"
   ]
  },
  {
   "cell_type": "code",
   "execution_count": 10,
   "metadata": {},
   "outputs": [
    {
     "data": {
      "text/plain": [
       "4.0"
      ]
     },
     "execution_count": 10,
     "metadata": {},
     "output_type": "execute_result"
    }
   ],
   "source": [
    "-log10(0.0001)"
   ]
  },
  {
   "cell_type": "code",
   "execution_count": 11,
   "metadata": {},
   "outputs": [
    {
     "data": {
      "text/plain": [
       "2.3010299956639813"
      ]
     },
     "execution_count": 11,
     "metadata": {},
     "output_type": "execute_result"
    }
   ],
   "source": [
    "-log10(0.005)"
   ]
  },
  {
   "cell_type": "markdown",
   "metadata": {},
   "source": [
    "---"
   ]
  },
  {
   "cell_type": "markdown",
   "metadata": {},
   "source": [
    "## Error types\n",
    "\n",
    "1. Errors in mathematical model or in the data\n",
    "2. Approximation errors\n",
    "3. Roundoff errors\n",
    "    - due to the finite precision of real numbers stored on a computer"
   ]
  },
  {
   "cell_type": "markdown",
   "metadata": {},
   "source": [
    "## Approximation Error (approximating the derivative)\n",
    "\n",
    "Consider the formula for the derivative of a differentiable function $f \\colon \\mathbb{R} \\to \\mathbb{R}$ at $x_0$:\n",
    "\n",
    "$$ f'(x_0) = \\lim_{h \\to 0} \\frac{f(x_0 + h) - f(x_0)}{h}.$$\n",
    "\n",
    "It is therefore reasonable to approximate $f'(x_0)$ using\n",
    "\n",
    "$$\\frac{f(x_0 + h) - f(x_0)}{h}$$\n",
    "\n",
    "for some small positive $h$. The error in this approximation is \n",
    "\n",
    "$$\\left|f'(x_0) - \\frac{f(x_0 + h) - f(x_0)}{h}\\right|$$\n",
    "\n",
    "and is called a **discretization error**."
   ]
  },
  {
   "cell_type": "markdown",
   "metadata": {},
   "source": [
    "---"
   ]
  },
  {
   "cell_type": "markdown",
   "metadata": {},
   "source": [
    "## Example\n",
    "\n",
    "Let's computationally examine this approximation error using\n",
    "\n",
    "$$\n",
    "f(x) = \\sin(x) \\quad \\text{and} \\quad x_0 = 1.\n",
    "$$\n",
    "\n",
    "Note that $f'(x) = \\cos(x)$."
   ]
  },
  {
   "cell_type": "code",
   "execution_count": 12,
   "metadata": {},
   "outputs": [
    {
     "data": {
      "text/plain": [
       "f (generic function with 1 method)"
      ]
     },
     "execution_count": 12,
     "metadata": {},
     "output_type": "execute_result"
    }
   ],
   "source": [
    "f(x) = sin(x)"
   ]
  },
  {
   "cell_type": "markdown",
   "metadata": {},
   "source": [
    "Another way to define the function $f$ in Julia:\n",
    "```julia\n",
    "function f(x)\n",
    "    return sin(x)\n",
    "end\n",
    "```"
   ]
  },
  {
   "cell_type": "code",
   "execution_count": 13,
   "metadata": {
    "scrolled": true
   },
   "outputs": [
    {
     "data": {
      "text/plain": [
       "0.5403023058681398"
      ]
     },
     "execution_count": 13,
     "metadata": {},
     "output_type": "execute_result"
    }
   ],
   "source": [
    "x0 = 1.0\n",
    "fp = cos(x0)"
   ]
  },
  {
   "cell_type": "markdown",
   "metadata": {},
   "source": [
    "Thus \n",
    "\n",
    "$$f'(x_0) = \\cos(1) = 0.5403023058681398\\ldots.$$ \n",
    "\n",
    "Let's write some **Julia** code to approximate this value using \n",
    "\n",
    "$$ \n",
    "f'(x_0) \\approx \\frac{f(x_0 + h) - f(x_0)}{h}\n",
    "$$\n",
    "\n",
    "for smaller and smaller values of $h$."
   ]
  },
  {
   "cell_type": "code",
   "execution_count": 14,
   "metadata": {},
   "outputs": [
    {
     "name": "stdout",
     "output_type": "stream",
     "text": [
      "     h             fpapprox       abserr     relerr   digits\n",
      " 1e-01   0.4973637525353891   4.2939e-02   7.95e-02      1.1\n",
      " 1e-02   0.5360859810118689   4.2163e-03   7.80e-03      2.1\n",
      " 1e-03   0.5398814803603269   4.2083e-04   7.79e-04      3.1\n",
      " 1e-04   0.5402602314186211   4.2074e-05   7.79e-05      4.1\n",
      " 1e-05   0.5402980985058647   4.2074e-06   7.79e-06      5.1\n",
      " 1e-06   0.5403018851213304   4.2075e-07   7.79e-07      6.1\n",
      " 1e-07   0.5403022640404487   4.1828e-08   7.74e-08      7.1\n",
      " 1e-08   0.5403023028982545   2.9699e-09   5.50e-09      8.3\n",
      " 1e-09   0.5403023584094058   5.2541e-08   9.72e-08      7.0\n",
      " 1e-10   0.5403022473871033   5.8481e-08   1.08e-07      7.0\n",
      " 1e-11   0.5403011371640787   1.1687e-06   2.16e-06      5.7\n",
      " 1e-12   0.5403455460850636   4.3240e-05   8.00e-05      4.1\n",
      " 1e-13   0.5395683899678261   7.3392e-04   1.36e-03      2.9\n",
      " 1e-14   0.5440092820663267   3.7070e-03   6.86e-03      2.2\n",
      " 1e-15   0.5551115123125783   1.4809e-02   2.74e-02      1.6\n",
      " 1e-16   0.0000000000000000   5.4030e-01   1.00e+00     -0.0\n"
     ]
    }
   ],
   "source": [
    "using Printf\n",
    "\n",
    "function approxderiv(f, x0, fp)\n",
    "    @printf(\"%6s %20s %12s %10s %8s\\n\", \"h\", \"fpapprox\", \"abserr\", \"relerr\", \"digits\")\n",
    "    for i = 1:16\n",
    "        h = 10.0^(-i)\n",
    "        fpapprox = (f(x0 + h) - f(x0))/h\n",
    "        abserr = abs(fp - fpapprox)\n",
    "        relerr = abs(fp - fpapprox)/abs(fp)\n",
    "        digits = -log10(relerr)\n",
    "        @printf(\"%6.0e %20.16f %12.4e %10.2e %8.1f\\n\", h, fpapprox, abserr, relerr, digits)\n",
    "    end\n",
    "end\n",
    "\n",
    "approxderiv(f, x0, fp)"
   ]
  },
  {
   "cell_type": "code",
   "execution_count": 15,
   "metadata": {},
   "outputs": [
    {
     "data": {
      "text/plain": [
       "0.0"
      ]
     },
     "execution_count": 15,
     "metadata": {},
     "output_type": "execute_result"
    }
   ],
   "source": [
    "(1.0 + 1e-16) - 1.0"
   ]
  },
  {
   "cell_type": "markdown",
   "metadata": {},
   "source": [
    "---"
   ]
  },
  {
   "cell_type": "markdown",
   "metadata": {},
   "source": [
    " ## Theorem: (Taylor Series)\n",
    "\n",
    "Assume that $f$ is a function that is $(k+1)$-differentiable on an interval containing $x_0$ and $x_0 + h$. Then\n",
    "\n",
    "$$\n",
    "f(x_0 + h) = f(x_0) + h f'(x_0) + \\frac{h^2}{2} f''(x_0) + \\cdots + \\frac{h^k}{k!} f^{(k)}(x_0) + \\frac{h^{k+1}}{(k+1)!} f^{(k+1)}(\\xi),\n",
    "$$\n",
    "\n",
    "for some $\\xi \\in (x_0, x_0 + h)$."
   ]
  },
  {
   "cell_type": "markdown",
   "metadata": {},
   "source": [
    "### Proof that the discretization error decreases at the same rate as $h$:\n",
    "\n",
    "Solving for $f'(x_0)$ in the Taylor series expansion, we get\n",
    "\n",
    "$$\n",
    "f'(x_0) = \\frac{f(x_0+h)-f(x_0)}{h} - \\left(\\frac{h}{2} f''(x_0) + \\frac{h^2}{6} f'''(x_0)  + \\cdots + \\frac{h^{k-1}}{k!} f^{(k)}(\\xi)\\right).\n",
    "$$\n",
    "\n",
    "Therefore,\n",
    "\n",
    "$$\n",
    "\\left|f'(x_0) - \\frac{f(x_0+h)-f(x_0)}{h}\\right| = \\left|\\frac{h}{2} f''(x_0) + \\frac{h^2}{6} f'''(x_0) + \\cdots + \\frac{h^{k-1}}{k!} f^{(k)}(\\xi)\\right|.\n",
    "$$\n",
    "\n",
    "If $f''(x_0) \\neq 0$ and $h$ is small, then the right-hand-side is dominated by $\\frac{h}{2} f''(x_0)$. Thus,\n",
    "\n",
    "$$\n",
    "\\left|f'(x_0) - \\frac{f(x_0+h)-f(x_0)}{h}\\right| \\approx \\frac{h}{2}\\left| f''(x_0)\\right| = \\mathcal{O}(h). \\quad \\blacksquare\n",
    "$$\n",
    "\n",
    "(See p. 7 of Ascher-Greif for the rigorous definitions of Big-$\\mathcal{O}$ and $\\Theta$ notation)."
   ]
  },
  {
   "cell_type": "markdown",
   "metadata": {},
   "source": [
    "## Example continued...\n",
    "\n",
    "Recall that $f(x) = \\sin(x)$. Thus $f''(x) = -\\sin(x)$."
   ]
  },
  {
   "cell_type": "code",
   "execution_count": 16,
   "metadata": {},
   "outputs": [
    {
     "data": {
      "text/plain": [
       "0.42073549240394825"
      ]
     },
     "execution_count": 16,
     "metadata": {},
     "output_type": "execute_result"
    }
   ],
   "source": [
    "fpp = -sin(x0)\n",
    "\n",
    "abs(fpp)/2"
   ]
  },
  {
   "cell_type": "markdown",
   "metadata": {},
   "source": [
    "Therefore, \n",
    "$$\n",
    "\\frac{\\left|f''(x_0)\\right|}{2} = 0.42073549240394825\\ldots,\n",
    "$$\n",
    "which agrees very well with our numerical test."
   ]
  },
  {
   "cell_type": "markdown",
   "metadata": {},
   "source": [
    "---"
   ]
  },
  {
   "cell_type": "markdown",
   "metadata": {},
   "source": [
    "## Exercise\n",
    "\n",
    "What do you think will happen if $f''(x_0) = 0$? Write code to test your hypothesis."
   ]
  },
  {
   "cell_type": "code",
   "execution_count": 17,
   "metadata": {},
   "outputs": [
    {
     "data": {
      "text/plain": [
       "π = 3.1415926535897..."
      ]
     },
     "execution_count": 17,
     "metadata": {},
     "output_type": "execute_result"
    }
   ],
   "source": [
    "x0 = π"
   ]
  },
  {
   "cell_type": "code",
   "execution_count": 18,
   "metadata": {},
   "outputs": [
    {
     "data": {
      "text/plain": [
       "-1.0"
      ]
     },
     "execution_count": 18,
     "metadata": {},
     "output_type": "execute_result"
    }
   ],
   "source": [
    "fp = cos(x0)"
   ]
  },
  {
   "cell_type": "code",
   "execution_count": 19,
   "metadata": {},
   "outputs": [
    {
     "data": {
      "text/plain": [
       "-0.0"
      ]
     },
     "execution_count": 19,
     "metadata": {},
     "output_type": "execute_result"
    }
   ],
   "source": [
    "fpp = -sin(x0)"
   ]
  },
  {
   "cell_type": "markdown",
   "metadata": {},
   "source": [
    "$$\n",
    "\\left|f'(x_0) - \\frac{f(x_0+h)-f(x_0)}{h}\\right| \\approx \\frac{h^2}{6}\\left| f'''(x_0)\\right| = \\mathcal{O}(h^2)\n",
    "$$"
   ]
  },
  {
   "cell_type": "code",
   "execution_count": 20,
   "metadata": {},
   "outputs": [
    {
     "name": "stdout",
     "output_type": "stream",
     "text": [
      "     h             fpapprox       abserr     relerr   digits\n",
      " 1e-01  -0.9983341664682811   1.6658e-03   1.67e-03      2.8\n",
      " 1e-02  -0.9999833334166328   1.6667e-05   1.67e-05      4.8\n",
      " 1e-03  -0.9999998333331090   1.6667e-07   1.67e-07      6.8\n",
      " 1e-04  -0.9999999983342189   1.6658e-09   1.67e-09      8.8\n",
      " 1e-05  -0.9999999999776380   2.2362e-11   2.24e-11     10.7\n",
      " 1e-06  -1.0000000000171467   1.7147e-11   1.71e-11     10.8\n",
      " 1e-07  -0.9999999971387726   2.8612e-09   2.86e-09      8.5\n",
      " 1e-08  -0.9999999816760610   1.8324e-08   1.83e-08      7.7\n",
      " 1e-09  -0.9999999602756910   3.9724e-08   3.97e-08      7.4\n",
      " 1e-10  -0.9999988580935718   1.1419e-06   1.14e-06      5.9\n",
      " 1e-11  -0.9999878362723796   1.2164e-05   1.22e-05      4.9\n",
      " 1e-12  -0.9999664359024261   3.3564e-05   3.36e-05      4.5\n",
      " 1e-13  -0.9979760753634935   2.0239e-03   2.02e-03      2.7\n",
      " 1e-14  -1.0091587146636705   9.1587e-03   9.16e-03      2.0\n",
      " 1e-15  -0.7657137397853898   2.3429e-01   2.34e-01      0.6\n",
      " 1e-16   1.2246467991473533   2.2246e+00   2.22e+00     -0.3\n"
     ]
    }
   ],
   "source": [
    "approxderiv(f, x0, fp)"
   ]
  },
  {
   "cell_type": "code",
   "execution_count": 21,
   "metadata": {},
   "outputs": [
    {
     "data": {
      "text/plain": [
       "0.16666666666666666"
      ]
     },
     "execution_count": 21,
     "metadata": {},
     "output_type": "execute_result"
    }
   ],
   "source": [
    "fppp = -cos(x0)\n",
    "\n",
    "abs(fppp)/6"
   ]
  },
  {
   "cell_type": "markdown",
   "metadata": {},
   "source": [
    "---"
   ]
  },
  {
   "cell_type": "markdown",
   "metadata": {},
   "source": [
    "## Roundoff Error\n",
    "\n",
    "Numbers are stored in the computer using a finite precision representation. Roughly 16 digits of precision are possible using the 64-bit floating point format.\n",
    "\n",
    "Whenever an arithmetic operation takes place, the result must be rounded to roughly 16 digits of precision. Such an error is called **roundoff error**.\n",
    "\n",
    "We can see the effect of roundoff error in our example when $h$ is very small."
   ]
  },
  {
   "cell_type": "markdown",
   "metadata": {},
   "source": [
    "---"
   ]
  },
  {
   "cell_type": "markdown",
   "metadata": {},
   "source": [
    "## Exercise\n",
    "\n",
    "Use the [Plots.jl](https://github.com/JuliaPlots/Plots.jl) package to make a plot of $h$ versus the absolute error in this approximation. What do you observe? Why is this happening?"
   ]
  },
  {
   "cell_type": "code",
   "execution_count": 22,
   "metadata": {},
   "outputs": [],
   "source": [
    "using Plots"
   ]
  },
  {
   "cell_type": "code",
   "execution_count": 23,
   "metadata": {},
   "outputs": [
    {
     "data": {
      "text/plain": [
       "-0.8414709848078965"
      ]
     },
     "execution_count": 23,
     "metadata": {},
     "output_type": "execute_result"
    }
   ],
   "source": [
    "x0 = 1.0\n",
    "f(x) = sin(x)\n",
    "\n",
    "fp = cos(x0)\n",
    "fpp = -sin(x0)"
   ]
  },
  {
   "cell_type": "code",
   "execution_count": 24,
   "metadata": {},
   "outputs": [
    {
     "data": {
      "text/plain": [
       "41×2 Matrix{Float64}:\n",
       " 1.0          0.472476\n",
       " 0.316228     0.140903\n",
       " 0.1          0.0429386\n",
       " 0.0316228    0.0133938\n",
       " 0.01         0.00421632\n",
       " 0.00316228   0.00133138\n",
       " 0.001        0.000420826\n",
       " 0.000316228  0.000133057\n",
       " 0.0001       4.20744e-5\n",
       " 3.16228e-5   1.33049e-5\n",
       " 1.0e-5       4.20736e-6\n",
       " 3.16228e-6   1.33048e-6\n",
       " 1.0e-6       4.20747e-7\n",
       " ⋮            \n",
       " 3.16228e-15  0.0136773\n",
       " 1.0e-15      0.0148092\n",
       " 3.16228e-16  0.189219\n",
       " 1.0e-16      0.540302\n",
       " 3.16228e-17  0.540302\n",
       " 1.0e-17      0.540302\n",
       " 3.16228e-18  0.540302\n",
       " 1.0e-18      0.540302\n",
       " 3.16228e-19  0.540302\n",
       " 1.0e-19      0.540302\n",
       " 3.16228e-20  0.540302\n",
       " 1.0e-20      0.540302"
      ]
     },
     "execution_count": 24,
     "metadata": {},
     "output_type": "execute_result"
    }
   ],
   "source": [
    "h = [10.0^(-x) for x in 0:0.5:20]\n",
    "\n",
    "#approx = (f.(x0 .+ h) .- f(x0))./h\n",
    "\n",
    "approx = @. (f(x0 + h) - f(x0))/h\n",
    "\n",
    "abserr = abs.(fp .- approx)\n",
    "\n",
    "[h abserr]"
   ]
  },
  {
   "cell_type": "code",
   "execution_count": 25,
   "metadata": {},
   "outputs": [],
   "source": [
    "using LaTeXStrings"
   ]
  },
  {
   "cell_type": "code",
   "execution_count": 26,
   "metadata": {},
   "outputs": [
    {
     "data": {
      "image/svg+xml": [
       "<?xml version=\"1.0\" encoding=\"utf-8\"?>\n",
       "<svg xmlns=\"http://www.w3.org/2000/svg\" xmlns:xlink=\"http://www.w3.org/1999/xlink\" width=\"600\" height=\"400\" viewBox=\"0 0 2400 1600\">\n",
       "<defs>\n",
       "  <clipPath id=\"clip960\">\n",
       "    <rect x=\"0\" y=\"0\" width=\"2400\" height=\"1600\"/>\n",
       "  </clipPath>\n",
       "</defs>\n",
       "<path clip-path=\"url(#clip960)\" d=\"M0 1600 L2400 1600 L2400 0 L0 0  Z\" fill=\"#ffffff\" fill-rule=\"evenodd\" fill-opacity=\"1\"/>\n",
       "<defs>\n",
       "  <clipPath id=\"clip961\">\n",
       "    <rect x=\"480\" y=\"0\" width=\"1681\" height=\"1600\"/>\n",
       "  </clipPath>\n",
       "</defs>\n",
       "<path clip-path=\"url(#clip960)\" d=\"M252.501 1410.9 L2352.76 1410.9 L2352.76 123.472 L252.501 123.472  Z\" fill=\"#ffffff\" fill-rule=\"evenodd\" fill-opacity=\"1\"/>\n",
       "<defs>\n",
       "  <clipPath id=\"clip962\">\n",
       "    <rect x=\"252\" y=\"123\" width=\"2101\" height=\"1288\"/>\n",
       "  </clipPath>\n",
       "</defs>\n",
       "<polyline clip-path=\"url(#clip962)\" style=\"stroke:#000000; stroke-linecap:round; stroke-linejoin:round; stroke-width:2; stroke-opacity:0.1; fill:none\" points=\"311.942,1410.9 311.942,123.472 \"/>\n",
       "<polyline clip-path=\"url(#clip962)\" style=\"stroke:#000000; stroke-linecap:round; stroke-linejoin:round; stroke-width:2; stroke-opacity:0.1; fill:none\" points=\"807.285,1410.9 807.285,123.472 \"/>\n",
       "<polyline clip-path=\"url(#clip962)\" style=\"stroke:#000000; stroke-linecap:round; stroke-linejoin:round; stroke-width:2; stroke-opacity:0.1; fill:none\" points=\"1302.63,1410.9 1302.63,123.472 \"/>\n",
       "<polyline clip-path=\"url(#clip962)\" style=\"stroke:#000000; stroke-linecap:round; stroke-linejoin:round; stroke-width:2; stroke-opacity:0.1; fill:none\" points=\"1797.97,1410.9 1797.97,123.472 \"/>\n",
       "<polyline clip-path=\"url(#clip962)\" style=\"stroke:#000000; stroke-linecap:round; stroke-linejoin:round; stroke-width:2; stroke-opacity:0.1; fill:none\" points=\"2293.31,1410.9 2293.31,123.472 \"/>\n",
       "<polyline clip-path=\"url(#clip960)\" style=\"stroke:#000000; stroke-linecap:round; stroke-linejoin:round; stroke-width:4; stroke-opacity:1; fill:none\" points=\"252.501,1410.9 2352.76,1410.9 \"/>\n",
       "<polyline clip-path=\"url(#clip960)\" style=\"stroke:#000000; stroke-linecap:round; stroke-linejoin:round; stroke-width:4; stroke-opacity:1; fill:none\" points=\"311.942,1410.9 311.942,1392 \"/>\n",
       "<polyline clip-path=\"url(#clip960)\" style=\"stroke:#000000; stroke-linecap:round; stroke-linejoin:round; stroke-width:4; stroke-opacity:1; fill:none\" points=\"807.285,1410.9 807.285,1392 \"/>\n",
       "<polyline clip-path=\"url(#clip960)\" style=\"stroke:#000000; stroke-linecap:round; stroke-linejoin:round; stroke-width:4; stroke-opacity:1; fill:none\" points=\"1302.63,1410.9 1302.63,1392 \"/>\n",
       "<polyline clip-path=\"url(#clip960)\" style=\"stroke:#000000; stroke-linecap:round; stroke-linejoin:round; stroke-width:4; stroke-opacity:1; fill:none\" points=\"1797.97,1410.9 1797.97,1392 \"/>\n",
       "<polyline clip-path=\"url(#clip960)\" style=\"stroke:#000000; stroke-linecap:round; stroke-linejoin:round; stroke-width:4; stroke-opacity:1; fill:none\" points=\"2293.31,1410.9 2293.31,1392 \"/>\n",
       "<path clip-path=\"url(#clip960)\" d=\"M249.305 1485.02 L256.944 1485.02 L256.944 1458.66 L248.634 1460.32 L248.634 1456.06 L256.898 1454.4 L261.574 1454.4 L261.574 1485.02 L269.213 1485.02 L269.213 1488.96 L249.305 1488.96 L249.305 1485.02 Z\" fill=\"#000000\" fill-rule=\"evenodd\" fill-opacity=\"1\" /><path clip-path=\"url(#clip960)\" d=\"M288.657 1457.48 Q285.046 1457.48 283.217 1461.04 Q281.412 1464.58 281.412 1471.71 Q281.412 1478.82 283.217 1482.38 Q285.046 1485.92 288.657 1485.92 Q292.291 1485.92 294.097 1482.38 Q295.926 1478.82 295.926 1471.71 Q295.926 1464.58 294.097 1461.04 Q292.291 1457.48 288.657 1457.48 M288.657 1453.77 Q294.467 1453.77 297.523 1458.38 Q300.601 1462.96 300.601 1471.71 Q300.601 1480.44 297.523 1485.04 Q294.467 1489.63 288.657 1489.63 Q282.847 1489.63 279.768 1485.04 Q276.713 1480.44 276.713 1471.71 Q276.713 1462.96 279.768 1458.38 Q282.847 1453.77 288.657 1453.77 Z\" fill=\"#000000\" fill-rule=\"evenodd\" fill-opacity=\"1\" /><path clip-path=\"url(#clip960)\" d=\"M300.601 1447.87 L324.713 1447.87 L324.713 1451.07 L300.601 1451.07 L300.601 1447.87 Z\" fill=\"#000000\" fill-rule=\"evenodd\" fill-opacity=\"1\" /><path clip-path=\"url(#clip960)\" d=\"M336.186 1458.35 L349.445 1458.35 L349.445 1461.55 L331.615 1461.55 L331.615 1458.35 Q333.778 1456.11 337.502 1452.35 Q341.245 1448.57 342.204 1447.48 Q344.029 1445.43 344.743 1444.02 Q345.477 1442.59 345.477 1441.22 Q345.477 1438.98 343.897 1437.57 Q342.336 1436.16 339.816 1436.16 Q338.029 1436.16 336.035 1436.78 Q334.06 1437.4 331.804 1438.66 L331.804 1434.82 Q334.098 1433.9 336.092 1433.43 Q338.085 1432.96 339.74 1432.96 Q344.104 1432.96 346.699 1435.14 Q349.295 1437.32 349.295 1440.97 Q349.295 1442.7 348.637 1444.26 Q347.997 1445.8 346.286 1447.91 Q345.815 1448.46 343.295 1451.07 Q340.775 1453.67 336.186 1458.35 Z\" fill=\"#000000\" fill-rule=\"evenodd\" fill-opacity=\"1\" /><path clip-path=\"url(#clip960)\" d=\"M365.545 1435.97 Q362.611 1435.97 361.125 1438.86 Q359.658 1441.74 359.658 1447.53 Q359.658 1453.31 361.125 1456.2 Q362.611 1459.08 365.545 1459.08 Q368.498 1459.08 369.965 1456.2 Q371.45 1453.31 371.45 1447.53 Q371.45 1441.74 369.965 1438.86 Q368.498 1435.97 365.545 1435.97 M365.545 1432.96 Q370.265 1432.96 372.748 1436.7 Q375.25 1440.43 375.25 1447.53 Q375.25 1454.62 372.748 1458.37 Q370.265 1462.09 365.545 1462.09 Q360.824 1462.09 358.323 1458.37 Q355.84 1454.62 355.84 1447.53 Q355.84 1440.43 358.323 1436.7 Q360.824 1432.96 365.545 1432.96 Z\" fill=\"#000000\" fill-rule=\"evenodd\" fill-opacity=\"1\" /><path clip-path=\"url(#clip960)\" d=\"M745.053 1485.02 L752.692 1485.02 L752.692 1458.66 L744.382 1460.32 L744.382 1456.06 L752.646 1454.4 L757.321 1454.4 L757.321 1485.02 L764.96 1485.02 L764.96 1488.96 L745.053 1488.96 L745.053 1485.02 Z\" fill=\"#000000\" fill-rule=\"evenodd\" fill-opacity=\"1\" /><path clip-path=\"url(#clip960)\" d=\"M784.405 1457.48 Q780.794 1457.48 778.965 1461.04 Q777.159 1464.58 777.159 1471.71 Q777.159 1478.82 778.965 1482.38 Q780.794 1485.92 784.405 1485.92 Q788.039 1485.92 789.844 1482.38 Q791.673 1478.82 791.673 1471.71 Q791.673 1464.58 789.844 1461.04 Q788.039 1457.48 784.405 1457.48 M784.405 1453.77 Q790.215 1453.77 793.27 1458.38 Q796.349 1462.96 796.349 1471.71 Q796.349 1480.44 793.27 1485.04 Q790.215 1489.63 784.405 1489.63 Q778.595 1489.63 775.516 1485.04 Q772.46 1480.44 772.46 1471.71 Q772.46 1462.96 775.516 1458.38 Q778.595 1453.77 784.405 1453.77 Z\" fill=\"#000000\" fill-rule=\"evenodd\" fill-opacity=\"1\" /><path clip-path=\"url(#clip960)\" d=\"M796.349 1447.87 L820.461 1447.87 L820.461 1451.07 L796.349 1451.07 L796.349 1447.87 Z\" fill=\"#000000\" fill-rule=\"evenodd\" fill-opacity=\"1\" /><path clip-path=\"url(#clip960)\" d=\"M829.319 1458.35 L835.526 1458.35 L835.526 1436.93 L828.774 1438.28 L828.774 1434.82 L835.488 1433.47 L839.287 1433.47 L839.287 1458.35 L845.494 1458.35 L845.494 1461.55 L829.319 1461.55 L829.319 1458.35 Z\" fill=\"#000000\" fill-rule=\"evenodd\" fill-opacity=\"1\" /><path clip-path=\"url(#clip960)\" d=\"M853.205 1433.47 L868.12 1433.47 L868.12 1436.66 L856.684 1436.66 L856.684 1443.55 Q857.512 1443.27 858.339 1443.13 Q859.167 1442.98 859.995 1442.98 Q864.696 1442.98 867.442 1445.56 Q870.188 1448.14 870.188 1452.54 Q870.188 1457.07 867.367 1459.59 Q864.546 1462.09 859.412 1462.09 Q857.644 1462.09 855.8 1461.79 Q853.976 1461.49 852.02 1460.89 L852.02 1457.07 Q853.713 1457.99 855.518 1458.44 Q857.324 1458.89 859.336 1458.89 Q862.59 1458.89 864.49 1457.18 Q866.389 1455.47 866.389 1452.54 Q866.389 1449.6 864.49 1447.89 Q862.59 1446.18 859.336 1446.18 Q857.813 1446.18 856.289 1446.52 Q854.785 1446.86 853.205 1447.57 L853.205 1433.47 Z\" fill=\"#000000\" fill-rule=\"evenodd\" fill-opacity=\"1\" /><path clip-path=\"url(#clip960)\" d=\"M1239.99 1485.02 L1247.63 1485.02 L1247.63 1458.66 L1239.32 1460.32 L1239.32 1456.06 L1247.58 1454.4 L1252.26 1454.4 L1252.26 1485.02 L1259.9 1485.02 L1259.9 1488.96 L1239.99 1488.96 L1239.99 1485.02 Z\" fill=\"#000000\" fill-rule=\"evenodd\" fill-opacity=\"1\" /><path clip-path=\"url(#clip960)\" d=\"M1279.34 1457.48 Q1275.73 1457.48 1273.9 1461.04 Q1272.1 1464.58 1272.1 1471.71 Q1272.1 1478.82 1273.9 1482.38 Q1275.73 1485.92 1279.34 1485.92 Q1282.98 1485.92 1284.78 1482.38 Q1286.61 1478.82 1286.61 1471.71 Q1286.61 1464.58 1284.78 1461.04 Q1282.98 1457.48 1279.34 1457.48 M1279.34 1453.77 Q1285.15 1453.77 1288.21 1458.38 Q1291.29 1462.96 1291.29 1471.71 Q1291.29 1480.44 1288.21 1485.04 Q1285.15 1489.63 1279.34 1489.63 Q1273.53 1489.63 1270.45 1485.04 Q1267.4 1480.44 1267.4 1471.71 Q1267.4 1462.96 1270.45 1458.38 Q1273.53 1453.77 1279.34 1453.77 Z\" fill=\"#000000\" fill-rule=\"evenodd\" fill-opacity=\"1\" /><path clip-path=\"url(#clip960)\" d=\"M1291.29 1447.87 L1315.4 1447.87 L1315.4 1451.07 L1291.29 1451.07 L1291.29 1447.87 Z\" fill=\"#000000\" fill-rule=\"evenodd\" fill-opacity=\"1\" /><path clip-path=\"url(#clip960)\" d=\"M1324.26 1458.35 L1330.46 1458.35 L1330.46 1436.93 L1323.71 1438.28 L1323.71 1434.82 L1330.43 1433.47 L1334.23 1433.47 L1334.23 1458.35 L1340.43 1458.35 L1340.43 1461.55 L1324.26 1461.55 L1324.26 1458.35 Z\" fill=\"#000000\" fill-rule=\"evenodd\" fill-opacity=\"1\" /><path clip-path=\"url(#clip960)\" d=\"M1356.23 1435.97 Q1353.3 1435.97 1351.81 1438.86 Q1350.34 1441.74 1350.34 1447.53 Q1350.34 1453.31 1351.81 1456.2 Q1353.3 1459.08 1356.23 1459.08 Q1359.18 1459.08 1360.65 1456.2 Q1362.14 1453.31 1362.14 1447.53 Q1362.14 1441.74 1360.65 1438.86 Q1359.18 1435.97 1356.23 1435.97 M1356.23 1432.96 Q1360.95 1432.96 1363.43 1436.7 Q1365.94 1440.43 1365.94 1447.53 Q1365.94 1454.62 1363.43 1458.37 Q1360.95 1462.09 1356.23 1462.09 Q1351.51 1462.09 1349.01 1458.37 Q1346.53 1454.62 1346.53 1447.53 Q1346.53 1440.43 1349.01 1436.7 Q1351.51 1432.96 1356.23 1432.96 Z\" fill=\"#000000\" fill-rule=\"evenodd\" fill-opacity=\"1\" /><path clip-path=\"url(#clip960)\" d=\"M1747.99 1485.02 L1755.63 1485.02 L1755.63 1458.66 L1747.32 1460.32 L1747.32 1456.06 L1755.59 1454.4 L1760.26 1454.4 L1760.26 1485.02 L1767.9 1485.02 L1767.9 1488.96 L1747.99 1488.96 L1747.99 1485.02 Z\" fill=\"#000000\" fill-rule=\"evenodd\" fill-opacity=\"1\" /><path clip-path=\"url(#clip960)\" d=\"M1787.34 1457.48 Q1783.73 1457.48 1781.9 1461.04 Q1780.1 1464.58 1780.1 1471.71 Q1780.1 1478.82 1781.9 1482.38 Q1783.73 1485.92 1787.34 1485.92 Q1790.98 1485.92 1792.78 1482.38 Q1794.61 1478.82 1794.61 1471.71 Q1794.61 1464.58 1792.78 1461.04 Q1790.98 1457.48 1787.34 1457.48 M1787.34 1453.77 Q1793.15 1453.77 1796.21 1458.38 Q1799.29 1462.96 1799.29 1471.71 Q1799.29 1480.44 1796.21 1485.04 Q1793.15 1489.63 1787.34 1489.63 Q1781.53 1489.63 1778.46 1485.04 Q1775.4 1480.44 1775.4 1471.71 Q1775.4 1462.96 1778.46 1458.38 Q1781.53 1453.77 1787.34 1453.77 Z\" fill=\"#000000\" fill-rule=\"evenodd\" fill-opacity=\"1\" /><path clip-path=\"url(#clip960)\" d=\"M1799.29 1447.87 L1823.4 1447.87 L1823.4 1451.07 L1799.29 1451.07 L1799.29 1447.87 Z\" fill=\"#000000\" fill-rule=\"evenodd\" fill-opacity=\"1\" /><path clip-path=\"url(#clip960)\" d=\"M1831.64 1433.47 L1846.55 1433.47 L1846.55 1436.66 L1835.12 1436.66 L1835.12 1443.55 Q1835.95 1443.27 1836.77 1443.13 Q1837.6 1442.98 1838.43 1442.98 Q1843.13 1442.98 1845.88 1445.56 Q1848.62 1448.14 1848.62 1452.54 Q1848.62 1457.07 1845.8 1459.59 Q1842.98 1462.09 1837.84 1462.09 Q1836.08 1462.09 1834.23 1461.79 Q1832.41 1461.49 1830.45 1460.89 L1830.45 1457.07 Q1832.15 1457.99 1833.95 1458.44 Q1835.76 1458.89 1837.77 1458.89 Q1841.02 1458.89 1842.92 1457.18 Q1844.82 1455.47 1844.82 1452.54 Q1844.82 1449.6 1842.92 1447.89 Q1841.02 1446.18 1837.77 1446.18 Q1836.25 1446.18 1834.72 1446.52 Q1833.22 1446.86 1831.64 1447.57 L1831.64 1433.47 Z\" fill=\"#000000\" fill-rule=\"evenodd\" fill-opacity=\"1\" /><path clip-path=\"url(#clip960)\" d=\"M2258.3 1485.02 L2265.94 1485.02 L2265.94 1458.66 L2257.63 1460.32 L2257.63 1456.06 L2265.89 1454.4 L2270.57 1454.4 L2270.57 1485.02 L2278.2 1485.02 L2278.2 1488.96 L2258.3 1488.96 L2258.3 1485.02 Z\" fill=\"#000000\" fill-rule=\"evenodd\" fill-opacity=\"1\" /><path clip-path=\"url(#clip960)\" d=\"M2297.65 1457.48 Q2294.04 1457.48 2292.21 1461.04 Q2290.4 1464.58 2290.4 1471.71 Q2290.4 1478.82 2292.21 1482.38 Q2294.04 1485.92 2297.65 1485.92 Q2301.28 1485.92 2303.09 1482.38 Q2304.92 1478.82 2304.92 1471.71 Q2304.92 1464.58 2303.09 1461.04 Q2301.28 1457.48 2297.65 1457.48 M2297.65 1453.77 Q2303.46 1453.77 2306.51 1458.38 Q2309.59 1462.96 2309.59 1471.71 Q2309.59 1480.44 2306.51 1485.04 Q2303.46 1489.63 2297.65 1489.63 Q2291.84 1489.63 2288.76 1485.04 Q2285.7 1480.44 2285.7 1471.71 Q2285.7 1462.96 2288.76 1458.38 Q2291.84 1453.77 2297.65 1453.77 Z\" fill=\"#000000\" fill-rule=\"evenodd\" fill-opacity=\"1\" /><path clip-path=\"url(#clip960)\" d=\"M2319.3 1435.97 Q2316.36 1435.97 2314.88 1438.86 Q2313.41 1441.74 2313.41 1447.53 Q2313.41 1453.31 2314.88 1456.2 Q2316.36 1459.08 2319.3 1459.08 Q2322.25 1459.08 2323.72 1456.2 Q2325.2 1453.31 2325.2 1447.53 Q2325.2 1441.74 2323.72 1438.86 Q2322.25 1435.97 2319.3 1435.97 M2319.3 1432.96 Q2324.02 1432.96 2326.5 1436.7 Q2329 1440.43 2329 1447.53 Q2329 1454.62 2326.5 1458.37 Q2324.02 1462.09 2319.3 1462.09 Q2314.58 1462.09 2312.08 1458.37 Q2309.59 1454.62 2309.59 1447.53 Q2309.59 1440.43 2312.08 1436.7 Q2314.58 1432.96 2319.3 1432.96 Z\" fill=\"#000000\" fill-rule=\"evenodd\" fill-opacity=\"1\" /><path clip-path=\"url(#clip960)\" d=\"M1316.19 1558.53 Q1316.19 1558.79 1315.9 1559.79 Q1315.61 1560.79 1314.9 1562.33 Q1314.23 1563.88 1313.29 1565.3 Q1312.36 1566.68 1310.81 1567.71 Q1309.3 1568.71 1307.56 1568.71 Q1305.24 1568.71 1303.7 1567.17 Q1302.15 1565.62 1302.15 1563.3 Q1302.15 1562.98 1302.18 1562.66 Q1302.21 1562.33 1302.25 1562.14 Q1302.28 1561.92 1302.37 1561.56 Q1302.5 1561.17 1302.54 1561.01 Q1302.6 1560.85 1302.76 1560.37 Q1302.95 1559.85 1303.02 1559.66 Q1307.11 1549.23 1307.11 1544.88 Q1307.11 1540.27 1303.53 1540.27 Q1300.35 1540.27 1297.19 1542.59 Q1295.74 1543.75 1294.36 1545.81 Q1292.97 1547.87 1292.71 1548.65 Q1292.42 1550.32 1292 1551.61 Q1291.81 1552.51 1290.88 1556.02 L1289.43 1561.98 L1288.17 1566.97 Q1287.91 1567.68 1287.21 1568.2 Q1286.5 1568.71 1285.72 1568.71 Q1285.08 1568.71 1284.44 1568.26 Q1283.82 1567.84 1283.82 1566.84 Q1283.82 1566.33 1284.08 1565.39 L1293.65 1527.39 L1293.84 1526.1 Q1293.84 1525.72 1293.68 1525.52 Q1293.55 1525.3 1292.78 1525.14 Q1292.04 1524.98 1290.56 1524.98 Q1289.94 1524.98 1289.65 1524.94 Q1289.4 1524.91 1289.17 1524.75 Q1288.94 1524.56 1288.94 1524.17 Q1288.94 1523.62 1289.17 1523.33 Q1289.43 1523.01 1289.62 1522.95 Q1289.81 1522.88 1290.2 1522.85 Q1290.75 1522.82 1292.58 1522.66 Q1294.42 1522.46 1296 1522.33 Q1297.58 1522.21 1298.25 1522.21 Q1298.64 1522.21 1298.83 1522.4 Q1299.06 1522.56 1299.09 1522.75 L1299.12 1522.91 L1293.97 1543.88 Q1298.06 1538.82 1303.73 1538.82 Q1307.4 1538.82 1309.36 1540.72 Q1311.33 1542.59 1311.33 1545.88 Q1311.33 1549.65 1307.3 1560.37 Q1306.11 1563.36 1306.11 1565.07 Q1306.11 1566.2 1306.46 1566.71 Q1306.85 1567.23 1307.69 1567.23 Q1308.98 1567.23 1310.1 1566.49 Q1311.26 1565.72 1312.07 1564.46 Q1312.87 1563.17 1313.42 1561.88 Q1314 1560.56 1314.42 1559.08 Q1314.68 1558.28 1314.81 1558.08 Q1314.97 1557.89 1315.42 1557.89 Q1316.19 1557.89 1316.19 1558.53 Z\" fill=\"#000000\" fill-rule=\"evenodd\" fill-opacity=\"1\" /><polyline clip-path=\"url(#clip962)\" style=\"stroke:#000000; stroke-linecap:round; stroke-linejoin:round; stroke-width:2; stroke-opacity:0.1; fill:none\" points=\"252.501,1002.85 2352.76,1002.85 \"/>\n",
       "<polyline clip-path=\"url(#clip962)\" style=\"stroke:#000000; stroke-linecap:round; stroke-linejoin:round; stroke-width:2; stroke-opacity:0.1; fill:none\" points=\"252.501,561.721 2352.76,561.721 \"/>\n",
       "<polyline clip-path=\"url(#clip960)\" style=\"stroke:#000000; stroke-linecap:round; stroke-linejoin:round; stroke-width:4; stroke-opacity:1; fill:none\" points=\"252.501,1410.9 252.501,123.472 \"/>\n",
       "<polyline clip-path=\"url(#clip960)\" style=\"stroke:#000000; stroke-linecap:round; stroke-linejoin:round; stroke-width:4; stroke-opacity:1; fill:none\" points=\"252.501,1002.85 271.398,1002.85 \"/>\n",
       "<polyline clip-path=\"url(#clip960)\" style=\"stroke:#000000; stroke-linecap:round; stroke-linejoin:round; stroke-width:4; stroke-opacity:1; fill:none\" points=\"252.501,561.721 271.398,561.721 \"/>\n",
       "<path clip-path=\"url(#clip960)\" d=\"M114.931 1022.64 L122.57 1022.64 L122.57 996.274 L114.26 997.94 L114.26 993.681 L122.524 992.014 L127.2 992.014 L127.2 1022.64 L134.839 1022.64 L134.839 1026.57 L114.931 1026.57 L114.931 1022.64 Z\" fill=\"#000000\" fill-rule=\"evenodd\" fill-opacity=\"1\" /><path clip-path=\"url(#clip960)\" d=\"M154.283 995.093 Q150.672 995.093 148.843 998.658 Q147.038 1002.2 147.038 1009.33 Q147.038 1016.44 148.843 1020 Q150.672 1023.54 154.283 1023.54 Q157.917 1023.54 159.723 1020 Q161.552 1016.44 161.552 1009.33 Q161.552 1002.2 159.723 998.658 Q157.917 995.093 154.283 995.093 M154.283 991.389 Q160.093 991.389 163.149 995.996 Q166.227 1000.58 166.227 1009.33 Q166.227 1018.06 163.149 1022.66 Q160.093 1027.25 154.283 1027.25 Q148.473 1027.25 145.394 1022.66 Q142.339 1018.06 142.339 1009.33 Q142.339 1000.58 145.394 995.996 Q148.473 991.389 154.283 991.389 Z\" fill=\"#000000\" fill-rule=\"evenodd\" fill-opacity=\"1\" /><path clip-path=\"url(#clip960)\" d=\"M166.227 985.491 L190.339 985.491 L190.339 988.688 L166.227 988.688 L166.227 985.491 Z\" fill=\"#000000\" fill-rule=\"evenodd\" fill-opacity=\"1\" /><path clip-path=\"url(#clip960)\" d=\"M207.134 983.61 Q204.577 983.61 203.072 985.359 Q201.586 987.108 201.586 990.155 Q201.586 993.183 203.072 994.951 Q204.577 996.7 207.134 996.7 Q209.692 996.7 211.178 994.951 Q212.683 993.183 212.683 990.155 Q212.683 987.108 211.178 985.359 Q209.692 983.61 207.134 983.61 M214.676 971.705 L214.676 975.165 Q213.247 974.488 211.78 974.131 Q210.332 973.774 208.902 973.774 Q205.141 973.774 203.147 976.313 Q201.172 978.852 200.89 983.986 Q202 982.35 203.674 981.485 Q205.348 980.601 207.36 980.601 Q211.592 980.601 214.037 983.177 Q216.501 985.735 216.501 990.155 Q216.501 994.481 213.943 997.095 Q211.385 999.709 207.134 999.709 Q202.263 999.709 199.686 995.985 Q197.11 992.243 197.11 985.152 Q197.11 978.494 200.27 974.545 Q203.429 970.576 208.752 970.576 Q210.181 970.576 211.629 970.858 Q213.096 971.14 214.676 971.705 Z\" fill=\"#000000\" fill-rule=\"evenodd\" fill-opacity=\"1\" /><path clip-path=\"url(#clip960)\" d=\"M115.59 581.513 L123.229 581.513 L123.229 555.148 L114.918 556.814 L114.918 552.555 L123.182 550.889 L127.858 550.889 L127.858 581.513 L135.497 581.513 L135.497 585.449 L115.59 585.449 L115.59 581.513 Z\" fill=\"#000000\" fill-rule=\"evenodd\" fill-opacity=\"1\" /><path clip-path=\"url(#clip960)\" d=\"M154.941 553.967 Q151.33 553.967 149.502 557.532 Q147.696 561.074 147.696 568.203 Q147.696 575.31 149.502 578.874 Q151.33 582.416 154.941 582.416 Q158.576 582.416 160.381 578.874 Q162.21 575.31 162.21 568.203 Q162.21 561.074 160.381 557.532 Q158.576 553.967 154.941 553.967 M154.941 550.264 Q160.752 550.264 163.807 554.87 Q166.886 559.453 166.886 568.203 Q166.886 576.93 163.807 581.537 Q160.752 586.12 154.941 586.12 Q149.131 586.12 146.053 581.537 Q142.997 576.93 142.997 568.203 Q142.997 559.453 146.053 554.87 Q149.131 550.264 154.941 550.264 Z\" fill=\"#000000\" fill-rule=\"evenodd\" fill-opacity=\"1\" /><path clip-path=\"url(#clip960)\" d=\"M166.886 544.365 L190.997 544.365 L190.997 547.562 L166.886 547.562 L166.886 544.365 Z\" fill=\"#000000\" fill-rule=\"evenodd\" fill-opacity=\"1\" /><path clip-path=\"url(#clip960)\" d=\"M210.708 542.898 Q213.435 543.481 214.958 545.324 Q216.501 547.167 216.501 549.876 Q216.501 554.032 213.642 556.308 Q210.783 558.584 205.517 558.584 Q203.749 558.584 201.868 558.226 Q200.006 557.888 198.013 557.192 L198.013 553.524 Q199.592 554.446 201.473 554.916 Q203.354 555.386 205.404 555.386 Q208.978 555.386 210.84 553.976 Q212.72 552.565 212.72 549.876 Q212.72 547.393 210.971 546.001 Q209.241 544.591 206.138 544.591 L202.865 544.591 L202.865 541.468 L206.288 541.468 Q209.09 541.468 210.576 540.359 Q212.062 539.23 212.062 537.124 Q212.062 534.961 210.52 533.814 Q208.996 532.648 206.138 532.648 Q204.577 532.648 202.79 532.986 Q201.003 533.325 198.859 534.039 L198.859 530.654 Q201.022 530.052 202.903 529.751 Q204.802 529.45 206.476 529.45 Q210.802 529.45 213.322 531.425 Q215.842 533.381 215.842 536.729 Q215.842 539.061 214.507 540.679 Q213.172 542.277 210.708 542.898 Z\" fill=\"#000000\" fill-rule=\"evenodd\" fill-opacity=\"1\" /><path clip-path=\"url(#clip960)\" d=\"M46.0847 850.718 Q46.0847 857.816 47.7079 860.553 Q49.3312 863.291 53.2461 863.291 Q56.3653 863.291 58.2114 861.254 Q60.0256 859.185 60.0256 855.652 Q60.0256 850.782 56.5881 847.854 Q53.1188 844.894 47.3897 844.894 L46.0847 844.894 L46.0847 850.718 M43.6657 839.037 L64.0042 839.037 L64.0042 844.894 L58.5933 844.894 Q61.8398 846.899 63.3994 849.891 Q64.9272 852.883 64.9272 857.211 Q64.9272 862.686 61.8716 865.932 Q58.7843 869.147 53.6281 869.147 Q47.6125 869.147 44.5569 865.137 Q41.5014 861.094 41.5014 853.106 L41.5014 844.894 L40.9285 844.894 Q36.8862 844.894 34.6901 847.567 Q32.4621 850.209 32.4621 855.015 Q32.4621 858.071 33.1941 860.967 Q33.9262 863.864 35.3903 866.537 L29.9795 866.537 Q28.7381 863.322 28.1334 860.299 Q27.4968 857.275 27.4968 854.41 Q27.4968 846.676 31.5072 842.857 Q35.5176 839.037 43.6657 839.037 Z\" fill=\"#000000\" fill-rule=\"evenodd\" fill-opacity=\"1\" /><path clip-path=\"url(#clip960)\" d=\"M46.212 801.384 Q39.7508 801.384 36.0905 804.058 Q32.3984 806.7 32.3984 811.346 Q32.3984 815.993 36.0905 818.667 Q39.7508 821.309 46.212 821.309 Q52.6732 821.309 56.3653 818.667 Q60.0256 815.993 60.0256 811.346 Q60.0256 806.7 56.3653 804.058 Q52.6732 801.384 46.212 801.384 M33.7671 821.309 Q30.5842 819.463 29.0564 816.662 Q27.4968 813.829 27.4968 809.914 Q27.4968 803.421 32.6531 799.379 Q37.8093 795.305 46.212 795.305 Q54.6147 795.305 59.771 799.379 Q64.9272 803.421 64.9272 809.914 Q64.9272 813.829 63.3994 816.662 Q61.8398 819.463 58.657 821.309 L64.0042 821.309 L64.0042 827.197 L14.479 827.197 L14.479 821.309 L33.7671 821.309 Z\" fill=\"#000000\" fill-rule=\"evenodd\" fill-opacity=\"1\" /><path clip-path=\"url(#clip960)\" d=\"M29.4065 762.872 L34.9447 762.872 Q33.6716 765.354 33.035 768.028 Q32.3984 770.701 32.3984 773.566 Q32.3984 777.927 33.7352 780.123 Q35.072 782.287 37.7456 782.287 Q39.7826 782.287 40.9603 780.727 Q42.1061 779.168 43.1565 774.457 L43.6021 772.452 Q44.9389 766.214 47.3897 763.604 Q49.8086 760.962 54.1691 760.962 Q59.1344 760.962 62.0308 764.909 Q64.9272 768.824 64.9272 775.699 Q64.9272 778.563 64.3543 781.682 Q63.8132 784.77 62.6992 788.207 L56.6518 788.207 Q58.3387 784.961 59.198 781.81 Q60.0256 778.659 60.0256 775.571 Q60.0256 771.433 58.6251 769.205 Q57.1929 766.977 54.6147 766.977 Q52.2276 766.977 50.9545 768.601 Q49.6813 770.192 48.5037 775.635 L48.0262 777.672 Q46.8804 783.115 44.5251 785.534 Q42.138 787.953 38.0002 787.953 Q32.9713 787.953 30.2341 784.388 Q27.4968 780.823 27.4968 774.266 Q27.4968 771.02 27.9743 768.155 Q28.4517 765.291 29.4065 762.872 Z\" fill=\"#000000\" fill-rule=\"evenodd\" fill-opacity=\"1\" /><path clip-path=\"url(#clip960)\" d=\"M44.7161 721.144 L47.5806 721.144 L47.5806 748.071 Q53.6281 747.689 56.8109 744.443 Q59.9619 741.165 59.9619 735.34 Q59.9619 731.966 59.1344 728.815 Q58.3069 725.632 56.6518 722.513 L62.1899 722.513 Q63.5267 725.664 64.227 728.974 Q64.9272 732.284 64.9272 735.69 Q64.9272 744.22 59.9619 749.217 Q54.9967 754.182 46.5303 754.182 Q37.7774 754.182 32.6531 749.472 Q27.4968 744.729 27.4968 736.709 Q27.4968 729.515 32.1438 725.346 Q36.7589 721.144 44.7161 721.144 M42.9973 727.001 Q38.1912 727.065 35.3266 729.706 Q32.4621 732.316 32.4621 736.645 Q32.4621 741.547 35.2312 744.507 Q38.0002 747.435 43.0292 747.88 L42.9973 727.001 Z\" fill=\"#000000\" fill-rule=\"evenodd\" fill-opacity=\"1\" /><path clip-path=\"url(#clip960)\" d=\"M33.8307 690.875 Q33.2578 691.862 33.0032 693.04 Q32.7167 694.186 32.7167 695.586 Q32.7167 700.551 35.9632 703.225 Q39.1779 705.867 45.2253 705.867 L64.0042 705.867 L64.0042 711.755 L28.3562 711.755 L28.3562 705.867 L33.8944 705.867 Q30.6479 704.021 29.0883 701.061 Q27.4968 698.101 27.4968 693.867 Q27.4968 693.263 27.5923 692.531 Q27.656 691.799 27.8151 690.907 L33.8307 690.875 Z\" fill=\"#000000\" fill-rule=\"evenodd\" fill-opacity=\"1\" /><path clip-path=\"url(#clip960)\" d=\"M33.8307 665.222 Q33.2578 666.208 33.0032 667.386 Q32.7167 668.532 32.7167 669.932 Q32.7167 674.898 35.9632 677.571 Q39.1779 680.213 45.2253 680.213 L64.0042 680.213 L64.0042 686.101 L28.3562 686.101 L28.3562 680.213 L33.8944 680.213 Q30.6479 678.367 29.0883 675.407 Q27.4968 672.447 27.4968 668.214 Q27.4968 667.609 27.5923 666.877 Q27.656 666.145 27.8151 665.254 L33.8307 665.222 Z\" fill=\"#000000\" fill-rule=\"evenodd\" fill-opacity=\"1\" /><path clip-path=\"url(#clip960)\" d=\"M1215.82 12.096 L1266.98 12.096 L1266.98 18.9825 L1245.51 18.9825 L1245.51 72.576 L1237.29 72.576 L1237.29 18.9825 L1215.82 18.9825 L1215.82 12.096 Z\" fill=\"#000000\" fill-rule=\"evenodd\" fill-opacity=\"1\" /><path clip-path=\"url(#clip960)\" d=\"M1272 27.2059 L1279.46 27.2059 L1279.46 72.576 L1272 72.576 L1272 27.2059 M1272 9.54393 L1279.46 9.54393 L1279.46 18.9825 L1272 18.9825 L1272 9.54393 Z\" fill=\"#000000\" fill-rule=\"evenodd\" fill-opacity=\"1\" /><path clip-path=\"url(#clip960)\" d=\"M1302.43 14.324 L1302.43 27.2059 L1317.78 27.2059 L1317.78 32.9987 L1302.43 32.9987 L1302.43 57.6282 Q1302.43 63.1779 1303.92 64.7578 Q1305.46 66.3376 1310.12 66.3376 L1317.78 66.3376 L1317.78 72.576 L1310.12 72.576 Q1301.49 72.576 1298.21 69.3758 Q1294.93 66.1351 1294.93 57.6282 L1294.93 32.9987 L1289.46 32.9987 L1289.46 27.2059 L1294.93 27.2059 L1294.93 14.324 L1302.43 14.324 Z\" fill=\"#000000\" fill-rule=\"evenodd\" fill-opacity=\"1\" /><path clip-path=\"url(#clip960)\" d=\"M1327.58 9.54393 L1335.04 9.54393 L1335.04 72.576 L1327.58 72.576 L1327.58 9.54393 Z\" fill=\"#000000\" fill-rule=\"evenodd\" fill-opacity=\"1\" /><path clip-path=\"url(#clip960)\" d=\"M1389.44 48.0275 L1389.44 51.6733 L1355.17 51.6733 Q1355.65 59.3701 1359.79 63.421 Q1363.96 67.4314 1371.37 67.4314 Q1375.67 67.4314 1379.68 66.3781 Q1383.73 65.3249 1387.7 63.2184 L1387.7 70.267 Q1383.69 71.9684 1379.47 72.8596 Q1375.26 73.7508 1370.93 73.7508 Q1360.07 73.7508 1353.71 67.4314 Q1347.39 61.1119 1347.39 50.3365 Q1347.39 39.1965 1353.39 32.6746 Q1359.42 26.1121 1369.63 26.1121 Q1378.79 26.1121 1384.09 32.0264 Q1389.44 37.9003 1389.44 48.0275 M1381.99 45.84 Q1381.9 39.7232 1378.54 36.0774 Q1375.22 32.4315 1369.71 32.4315 Q1363.47 32.4315 1359.71 35.9558 Q1355.98 39.4801 1355.41 45.8805 L1381.99 45.84 Z\" fill=\"#000000\" fill-rule=\"evenodd\" fill-opacity=\"1\" /><polyline clip-path=\"url(#clip962)\" style=\"stroke:#009af9; stroke-linecap:round; stroke-linejoin:round; stroke-width:4; stroke-opacity:1; fill:none\" points=\"2293.31,168.475 2243.78,245.739 2194.25,321.624 2144.71,396.019 2095.18,469.829 2045.64,543.443 1996.11,616.994 1946.57,690.524 1897.04,764.048 1847.51,837.57 1797.97,911.091 1748.44,984.612 1698.9,1058.13 1649.37,1131.66 1599.83,1205.55 1550.3,1283.87 1500.77,1374.46 1451.23,1235.15 1401.7,1190.99 1352.16,1132.33 1302.63,1184.15 1253.09,1008.06 1203.56,992.891 1154.03,830.061 1104.49,762.303 1054.96,830.061 1005.42,581.477 955.888,625.899 906.354,478.051 856.819,394.681 807.285,389.604 757.751,226.912 708.216,159.909 658.682,159.909 609.148,159.909 559.613,159.909 510.079,159.909 460.545,159.909 411.01,159.909 361.476,159.909 311.942,159.909 \"/>\n",
       "</svg>\n"
      ]
     },
     "execution_count": 26,
     "metadata": {},
     "output_type": "execute_result"
    }
   ],
   "source": [
    "plot(h, abserr, \n",
    "    yscale=:log10, \n",
    "    xscale=:log10,\n",
    "    xlabel=L\"h\",\n",
    "    ylabel=\"abserr\",\n",
    "    label=false,\n",
    "    title=\"Title\"\n",
    ")"
   ]
  },
  {
   "cell_type": "code",
   "execution_count": 27,
   "metadata": {},
   "outputs": [
    {
     "data": {
      "text/plain": [
       "41×2 Matrix{Float64}:\n",
       " 0.472476     0.420735\n",
       " 0.140903     0.133048\n",
       " 0.0429386    0.0420735\n",
       " 0.0133938    0.0133048\n",
       " 0.00421632   0.00420735\n",
       " 0.00133138   0.00133048\n",
       " 0.000420826  0.000420735\n",
       " 0.000133057  0.000133048\n",
       " 4.20744e-5   4.20735e-5\n",
       " 1.33049e-5   1.33048e-5\n",
       " 4.20736e-6   4.20735e-6\n",
       " 1.33048e-6   1.33048e-6\n",
       " 4.20747e-7   4.20735e-7\n",
       " ⋮            \n",
       " 0.0136773    1.33048e-15\n",
       " 0.0148092    4.20735e-16\n",
       " 0.189219     1.33048e-16\n",
       " 0.540302     4.20735e-17\n",
       " 0.540302     1.33048e-17\n",
       " 0.540302     4.20735e-18\n",
       " 0.540302     1.33048e-18\n",
       " 0.540302     4.20735e-19\n",
       " 0.540302     1.33048e-19\n",
       " 0.540302     4.20735e-20\n",
       " 0.540302     1.33048e-20\n",
       " 0.540302     4.20735e-21"
      ]
     },
     "execution_count": 27,
     "metadata": {},
     "output_type": "execute_result"
    }
   ],
   "source": [
    "d_err = h*abs(fpp)/2\n",
    "\n",
    "[abserr d_err]"
   ]
  },
  {
   "cell_type": "code",
   "execution_count": 28,
   "metadata": {},
   "outputs": [
    {
     "data": {
      "image/svg+xml": [
       "<?xml version=\"1.0\" encoding=\"utf-8\"?>\n",
       "<svg xmlns=\"http://www.w3.org/2000/svg\" xmlns:xlink=\"http://www.w3.org/1999/xlink\" width=\"600\" height=\"400\" viewBox=\"0 0 2400 1600\">\n",
       "<defs>\n",
       "  <clipPath id=\"clip000\">\n",
       "    <rect x=\"0\" y=\"0\" width=\"2400\" height=\"1600\"/>\n",
       "  </clipPath>\n",
       "</defs>\n",
       "<path clip-path=\"url(#clip000)\" d=\"M0 1600 L2400 1600 L2400 0 L0 0  Z\" fill=\"#ffffff\" fill-rule=\"evenodd\" fill-opacity=\"1\"/>\n",
       "<defs>\n",
       "  <clipPath id=\"clip001\">\n",
       "    <rect x=\"480\" y=\"0\" width=\"1681\" height=\"1600\"/>\n",
       "  </clipPath>\n",
       "</defs>\n",
       "<defs>\n",
       "  <clipPath id=\"clip002\">\n",
       "    <rect x=\"252\" y=\"123\" width=\"2101\" height=\"1288\"/>\n",
       "  </clipPath>\n",
       "</defs>\n",
       "<path clip-path=\"url(#clip000)\" d=\"M276.876 1410.9 L2352.76 1410.9 L2352.76 47.2441 L276.876 47.2441  Z\" fill=\"#ffffff\" fill-rule=\"evenodd\" fill-opacity=\"1\"/>\n",
       "<defs>\n",
       "  <clipPath id=\"clip003\">\n",
       "    <rect x=\"276\" y=\"47\" width=\"2077\" height=\"1365\"/>\n",
       "  </clipPath>\n",
       "</defs>\n",
       "<polyline clip-path=\"url(#clip003)\" style=\"stroke:#000000; stroke-linecap:round; stroke-linejoin:round; stroke-width:2; stroke-opacity:0.1; fill:none\" points=\"335.627,1410.9 335.627,47.2441 \"/>\n",
       "<polyline clip-path=\"url(#clip003)\" style=\"stroke:#000000; stroke-linecap:round; stroke-linejoin:round; stroke-width:2; stroke-opacity:0.1; fill:none\" points=\"825.221,1410.9 825.221,47.2441 \"/>\n",
       "<polyline clip-path=\"url(#clip003)\" style=\"stroke:#000000; stroke-linecap:round; stroke-linejoin:round; stroke-width:2; stroke-opacity:0.1; fill:none\" points=\"1314.82,1410.9 1314.82,47.2441 \"/>\n",
       "<polyline clip-path=\"url(#clip003)\" style=\"stroke:#000000; stroke-linecap:round; stroke-linejoin:round; stroke-width:2; stroke-opacity:0.1; fill:none\" points=\"1804.41,1410.9 1804.41,47.2441 \"/>\n",
       "<polyline clip-path=\"url(#clip003)\" style=\"stroke:#000000; stroke-linecap:round; stroke-linejoin:round; stroke-width:2; stroke-opacity:0.1; fill:none\" points=\"2294,1410.9 2294,47.2441 \"/>\n",
       "<polyline clip-path=\"url(#clip000)\" style=\"stroke:#000000; stroke-linecap:round; stroke-linejoin:round; stroke-width:4; stroke-opacity:1; fill:none\" points=\"276.876,1410.9 2352.76,1410.9 \"/>\n",
       "<polyline clip-path=\"url(#clip000)\" style=\"stroke:#000000; stroke-linecap:round; stroke-linejoin:round; stroke-width:4; stroke-opacity:1; fill:none\" points=\"335.627,1410.9 335.627,1392 \"/>\n",
       "<polyline clip-path=\"url(#clip000)\" style=\"stroke:#000000; stroke-linecap:round; stroke-linejoin:round; stroke-width:4; stroke-opacity:1; fill:none\" points=\"825.221,1410.9 825.221,1392 \"/>\n",
       "<polyline clip-path=\"url(#clip000)\" style=\"stroke:#000000; stroke-linecap:round; stroke-linejoin:round; stroke-width:4; stroke-opacity:1; fill:none\" points=\"1314.82,1410.9 1314.82,1392 \"/>\n",
       "<polyline clip-path=\"url(#clip000)\" style=\"stroke:#000000; stroke-linecap:round; stroke-linejoin:round; stroke-width:4; stroke-opacity:1; fill:none\" points=\"1804.41,1410.9 1804.41,1392 \"/>\n",
       "<polyline clip-path=\"url(#clip000)\" style=\"stroke:#000000; stroke-linecap:round; stroke-linejoin:round; stroke-width:4; stroke-opacity:1; fill:none\" points=\"2294,1410.9 2294,1392 \"/>\n",
       "<path clip-path=\"url(#clip000)\" d=\"M272.99 1485.02 L280.629 1485.02 L280.629 1458.66 L272.319 1460.32 L272.319 1456.06 L280.583 1454.4 L285.259 1454.4 L285.259 1485.02 L292.898 1485.02 L292.898 1488.96 L272.99 1488.96 L272.99 1485.02 Z\" fill=\"#000000\" fill-rule=\"evenodd\" fill-opacity=\"1\" /><path clip-path=\"url(#clip000)\" d=\"M312.342 1457.48 Q308.731 1457.48 306.902 1461.04 Q305.097 1464.58 305.097 1471.71 Q305.097 1478.82 306.902 1482.38 Q308.731 1485.92 312.342 1485.92 Q315.976 1485.92 317.782 1482.38 Q319.611 1478.82 319.611 1471.71 Q319.611 1464.58 317.782 1461.04 Q315.976 1457.48 312.342 1457.48 M312.342 1453.77 Q318.152 1453.77 321.208 1458.38 Q324.286 1462.96 324.286 1471.71 Q324.286 1480.44 321.208 1485.04 Q318.152 1489.63 312.342 1489.63 Q306.532 1489.63 303.453 1485.04 Q300.398 1480.44 300.398 1471.71 Q300.398 1462.96 303.453 1458.38 Q306.532 1453.77 312.342 1453.77 Z\" fill=\"#000000\" fill-rule=\"evenodd\" fill-opacity=\"1\" /><path clip-path=\"url(#clip000)\" d=\"M324.286 1447.87 L348.398 1447.87 L348.398 1451.07 L324.286 1451.07 L324.286 1447.87 Z\" fill=\"#000000\" fill-rule=\"evenodd\" fill-opacity=\"1\" /><path clip-path=\"url(#clip000)\" d=\"M359.871 1458.35 L373.13 1458.35 L373.13 1461.55 L355.3 1461.55 L355.3 1458.35 Q357.463 1456.11 361.187 1452.35 Q364.93 1448.57 365.889 1447.48 Q367.714 1445.43 368.428 1444.02 Q369.162 1442.59 369.162 1441.22 Q369.162 1438.98 367.582 1437.57 Q366.021 1436.16 363.501 1436.16 Q361.714 1436.16 359.72 1436.78 Q357.746 1437.4 355.489 1438.66 L355.489 1434.82 Q357.783 1433.9 359.777 1433.43 Q361.77 1432.96 363.425 1432.96 Q367.789 1432.96 370.384 1435.14 Q372.98 1437.32 372.98 1440.97 Q372.98 1442.7 372.322 1444.26 Q371.682 1445.8 369.971 1447.91 Q369.5 1448.46 366.98 1451.07 Q364.46 1453.67 359.871 1458.35 Z\" fill=\"#000000\" fill-rule=\"evenodd\" fill-opacity=\"1\" /><path clip-path=\"url(#clip000)\" d=\"M389.23 1435.97 Q386.296 1435.97 384.81 1438.86 Q383.343 1441.74 383.343 1447.53 Q383.343 1453.31 384.81 1456.2 Q386.296 1459.08 389.23 1459.08 Q392.183 1459.08 393.65 1456.2 Q395.135 1453.31 395.135 1447.53 Q395.135 1441.74 393.65 1438.86 Q392.183 1435.97 389.23 1435.97 M389.23 1432.96 Q393.95 1432.96 396.433 1436.7 Q398.935 1440.43 398.935 1447.53 Q398.935 1454.62 396.433 1458.37 Q393.95 1462.09 389.23 1462.09 Q384.509 1462.09 382.008 1458.37 Q379.525 1454.62 379.525 1447.53 Q379.525 1440.43 382.008 1436.7 Q384.509 1432.96 389.23 1432.96 Z\" fill=\"#000000\" fill-rule=\"evenodd\" fill-opacity=\"1\" /><path clip-path=\"url(#clip000)\" d=\"M762.989 1485.02 L770.628 1485.02 L770.628 1458.66 L762.318 1460.32 L762.318 1456.06 L770.582 1454.4 L775.258 1454.4 L775.258 1485.02 L782.897 1485.02 L782.897 1488.96 L762.989 1488.96 L762.989 1485.02 Z\" fill=\"#000000\" fill-rule=\"evenodd\" fill-opacity=\"1\" /><path clip-path=\"url(#clip000)\" d=\"M802.341 1457.48 Q798.73 1457.48 796.901 1461.04 Q795.096 1464.58 795.096 1471.71 Q795.096 1478.82 796.901 1482.38 Q798.73 1485.92 802.341 1485.92 Q805.975 1485.92 807.781 1482.38 Q809.609 1478.82 809.609 1471.71 Q809.609 1464.58 807.781 1461.04 Q805.975 1457.48 802.341 1457.48 M802.341 1453.77 Q808.151 1453.77 811.207 1458.38 Q814.285 1462.96 814.285 1471.71 Q814.285 1480.44 811.207 1485.04 Q808.151 1489.63 802.341 1489.63 Q796.531 1489.63 793.452 1485.04 Q790.397 1480.44 790.397 1471.71 Q790.397 1462.96 793.452 1458.38 Q796.531 1453.77 802.341 1453.77 Z\" fill=\"#000000\" fill-rule=\"evenodd\" fill-opacity=\"1\" /><path clip-path=\"url(#clip000)\" d=\"M814.285 1447.87 L838.397 1447.87 L838.397 1451.07 L814.285 1451.07 L814.285 1447.87 Z\" fill=\"#000000\" fill-rule=\"evenodd\" fill-opacity=\"1\" /><path clip-path=\"url(#clip000)\" d=\"M847.255 1458.35 L853.462 1458.35 L853.462 1436.93 L846.71 1438.28 L846.71 1434.82 L853.424 1433.47 L857.223 1433.47 L857.223 1458.35 L863.43 1458.35 L863.43 1461.55 L847.255 1461.55 L847.255 1458.35 Z\" fill=\"#000000\" fill-rule=\"evenodd\" fill-opacity=\"1\" /><path clip-path=\"url(#clip000)\" d=\"M871.141 1433.47 L886.056 1433.47 L886.056 1436.66 L874.621 1436.66 L874.621 1443.55 Q875.448 1443.27 876.276 1443.13 Q877.103 1442.98 877.931 1442.98 Q882.633 1442.98 885.379 1445.56 Q888.125 1448.14 888.125 1452.54 Q888.125 1457.07 885.303 1459.59 Q882.482 1462.09 877.348 1462.09 Q875.58 1462.09 873.737 1461.79 Q871.912 1461.49 869.956 1460.89 L869.956 1457.07 Q871.649 1457.99 873.455 1458.44 Q875.26 1458.89 877.272 1458.89 Q880.526 1458.89 882.426 1457.18 Q884.325 1455.47 884.325 1452.54 Q884.325 1449.6 882.426 1447.89 Q880.526 1446.18 877.272 1446.18 Q875.749 1446.18 874.226 1446.52 Q872.721 1446.86 871.141 1447.57 L871.141 1433.47 Z\" fill=\"#000000\" fill-rule=\"evenodd\" fill-opacity=\"1\" /><path clip-path=\"url(#clip000)\" d=\"M1252.18 1485.02 L1259.82 1485.02 L1259.82 1458.66 L1251.51 1460.32 L1251.51 1456.06 L1259.77 1454.4 L1264.45 1454.4 L1264.45 1485.02 L1272.09 1485.02 L1272.09 1488.96 L1252.18 1488.96 L1252.18 1485.02 Z\" fill=\"#000000\" fill-rule=\"evenodd\" fill-opacity=\"1\" /><path clip-path=\"url(#clip000)\" d=\"M1291.53 1457.48 Q1287.92 1457.48 1286.09 1461.04 Q1284.29 1464.58 1284.29 1471.71 Q1284.29 1478.82 1286.09 1482.38 Q1287.92 1485.92 1291.53 1485.92 Q1295.17 1485.92 1296.97 1482.38 Q1298.8 1478.82 1298.8 1471.71 Q1298.8 1464.58 1296.97 1461.04 Q1295.17 1457.48 1291.53 1457.48 M1291.53 1453.77 Q1297.34 1453.77 1300.4 1458.38 Q1303.48 1462.96 1303.48 1471.71 Q1303.48 1480.44 1300.4 1485.04 Q1297.34 1489.63 1291.53 1489.63 Q1285.72 1489.63 1282.64 1485.04 Q1279.59 1480.44 1279.59 1471.71 Q1279.59 1462.96 1282.64 1458.38 Q1285.72 1453.77 1291.53 1453.77 Z\" fill=\"#000000\" fill-rule=\"evenodd\" fill-opacity=\"1\" /><path clip-path=\"url(#clip000)\" d=\"M1303.48 1447.87 L1327.59 1447.87 L1327.59 1451.07 L1303.48 1451.07 L1303.48 1447.87 Z\" fill=\"#000000\" fill-rule=\"evenodd\" fill-opacity=\"1\" /><path clip-path=\"url(#clip000)\" d=\"M1336.45 1458.35 L1342.65 1458.35 L1342.65 1436.93 L1335.9 1438.28 L1335.9 1434.82 L1342.61 1433.47 L1346.41 1433.47 L1346.41 1458.35 L1352.62 1458.35 L1352.62 1461.55 L1336.45 1461.55 L1336.45 1458.35 Z\" fill=\"#000000\" fill-rule=\"evenodd\" fill-opacity=\"1\" /><path clip-path=\"url(#clip000)\" d=\"M1368.42 1435.97 Q1365.48 1435.97 1364 1438.86 Q1362.53 1441.74 1362.53 1447.53 Q1362.53 1453.31 1364 1456.2 Q1365.48 1459.08 1368.42 1459.08 Q1371.37 1459.08 1372.84 1456.2 Q1374.32 1453.31 1374.32 1447.53 Q1374.32 1441.74 1372.84 1438.86 Q1371.37 1435.97 1368.42 1435.97 M1368.42 1432.96 Q1373.14 1432.96 1375.62 1436.7 Q1378.12 1440.43 1378.12 1447.53 Q1378.12 1454.62 1375.62 1458.37 Q1373.14 1462.09 1368.42 1462.09 Q1363.7 1462.09 1361.2 1458.37 Q1358.71 1454.62 1358.71 1447.53 Q1358.71 1440.43 1361.2 1436.7 Q1363.7 1432.96 1368.42 1432.96 Z\" fill=\"#000000\" fill-rule=\"evenodd\" fill-opacity=\"1\" /><path clip-path=\"url(#clip000)\" d=\"M1754.43 1485.02 L1762.07 1485.02 L1762.07 1458.66 L1753.76 1460.32 L1753.76 1456.06 L1762.02 1454.4 L1766.7 1454.4 L1766.7 1485.02 L1774.34 1485.02 L1774.34 1488.96 L1754.43 1488.96 L1754.43 1485.02 Z\" fill=\"#000000\" fill-rule=\"evenodd\" fill-opacity=\"1\" /><path clip-path=\"url(#clip000)\" d=\"M1793.78 1457.48 Q1790.17 1457.48 1788.34 1461.04 Q1786.54 1464.58 1786.54 1471.71 Q1786.54 1478.82 1788.34 1482.38 Q1790.17 1485.92 1793.78 1485.92 Q1797.42 1485.92 1799.22 1482.38 Q1801.05 1478.82 1801.05 1471.71 Q1801.05 1464.58 1799.22 1461.04 Q1797.42 1457.48 1793.78 1457.48 M1793.78 1453.77 Q1799.59 1453.77 1802.65 1458.38 Q1805.73 1462.96 1805.73 1471.71 Q1805.73 1480.44 1802.65 1485.04 Q1799.59 1489.63 1793.78 1489.63 Q1787.97 1489.63 1784.89 1485.04 Q1781.84 1480.44 1781.84 1471.71 Q1781.84 1462.96 1784.89 1458.38 Q1787.97 1453.77 1793.78 1453.77 Z\" fill=\"#000000\" fill-rule=\"evenodd\" fill-opacity=\"1\" /><path clip-path=\"url(#clip000)\" d=\"M1805.73 1447.87 L1829.84 1447.87 L1829.84 1451.07 L1805.73 1451.07 L1805.73 1447.87 Z\" fill=\"#000000\" fill-rule=\"evenodd\" fill-opacity=\"1\" /><path clip-path=\"url(#clip000)\" d=\"M1838.08 1433.47 L1852.99 1433.47 L1852.99 1436.66 L1841.56 1436.66 L1841.56 1443.55 Q1842.38 1443.27 1843.21 1443.13 Q1844.04 1442.98 1844.87 1442.98 Q1849.57 1442.98 1852.31 1445.56 Q1855.06 1448.14 1855.06 1452.54 Q1855.06 1457.07 1852.24 1459.59 Q1849.42 1462.09 1844.28 1462.09 Q1842.52 1462.09 1840.67 1461.79 Q1838.85 1461.49 1836.89 1460.89 L1836.89 1457.07 Q1838.58 1457.99 1840.39 1458.44 Q1842.2 1458.89 1844.21 1458.89 Q1847.46 1458.89 1849.36 1457.18 Q1851.26 1455.47 1851.26 1452.54 Q1851.26 1449.6 1849.36 1447.89 Q1847.46 1446.18 1844.21 1446.18 Q1842.68 1446.18 1841.16 1446.52 Q1839.66 1446.86 1838.08 1447.57 L1838.08 1433.47 Z\" fill=\"#000000\" fill-rule=\"evenodd\" fill-opacity=\"1\" /><path clip-path=\"url(#clip000)\" d=\"M2258.99 1485.02 L2266.63 1485.02 L2266.63 1458.66 L2258.32 1460.32 L2258.32 1456.06 L2266.58 1454.4 L2271.26 1454.4 L2271.26 1485.02 L2278.89 1485.02 L2278.89 1488.96 L2258.99 1488.96 L2258.99 1485.02 Z\" fill=\"#000000\" fill-rule=\"evenodd\" fill-opacity=\"1\" /><path clip-path=\"url(#clip000)\" d=\"M2298.34 1457.48 Q2294.73 1457.48 2292.9 1461.04 Q2291.09 1464.58 2291.09 1471.71 Q2291.09 1478.82 2292.9 1482.38 Q2294.73 1485.92 2298.34 1485.92 Q2301.97 1485.92 2303.78 1482.38 Q2305.61 1478.82 2305.61 1471.71 Q2305.61 1464.58 2303.78 1461.04 Q2301.97 1457.48 2298.34 1457.48 M2298.34 1453.77 Q2304.15 1453.77 2307.2 1458.38 Q2310.28 1462.96 2310.28 1471.71 Q2310.28 1480.44 2307.2 1485.04 Q2304.15 1489.63 2298.34 1489.63 Q2292.53 1489.63 2289.45 1485.04 Q2286.39 1480.44 2286.39 1471.71 Q2286.39 1462.96 2289.45 1458.38 Q2292.53 1453.77 2298.34 1453.77 Z\" fill=\"#000000\" fill-rule=\"evenodd\" fill-opacity=\"1\" /><path clip-path=\"url(#clip000)\" d=\"M2319.99 1435.97 Q2317.05 1435.97 2315.57 1438.86 Q2314.1 1441.74 2314.1 1447.53 Q2314.1 1453.31 2315.57 1456.2 Q2317.05 1459.08 2319.99 1459.08 Q2322.94 1459.08 2324.41 1456.2 Q2325.89 1453.31 2325.89 1447.53 Q2325.89 1441.74 2324.41 1438.86 Q2322.94 1435.97 2319.99 1435.97 M2319.99 1432.96 Q2324.71 1432.96 2327.19 1436.7 Q2329.69 1440.43 2329.69 1447.53 Q2329.69 1454.62 2327.19 1458.37 Q2324.71 1462.09 2319.99 1462.09 Q2315.27 1462.09 2312.77 1458.37 Q2310.28 1454.62 2310.28 1447.53 Q2310.28 1440.43 2312.77 1436.7 Q2315.27 1432.96 2319.99 1432.96 Z\" fill=\"#000000\" fill-rule=\"evenodd\" fill-opacity=\"1\" /><path clip-path=\"url(#clip000)\" d=\"M1328.38 1558.53 Q1328.38 1558.79 1328.09 1559.79 Q1327.8 1560.79 1327.09 1562.33 Q1326.41 1563.88 1325.48 1565.3 Q1324.55 1566.68 1323 1567.71 Q1321.49 1568.71 1319.75 1568.71 Q1317.43 1568.71 1315.88 1567.17 Q1314.34 1565.62 1314.34 1563.3 Q1314.34 1562.98 1314.37 1562.66 Q1314.4 1562.33 1314.43 1562.14 Q1314.47 1561.92 1314.56 1561.56 Q1314.69 1561.17 1314.72 1561.01 Q1314.79 1560.85 1314.95 1560.37 Q1315.14 1559.85 1315.21 1559.66 Q1319.3 1549.23 1319.3 1544.88 Q1319.3 1540.27 1315.72 1540.27 Q1312.53 1540.27 1309.38 1542.59 Q1307.93 1543.75 1306.54 1545.81 Q1305.16 1547.87 1304.9 1548.65 Q1304.61 1550.32 1304.19 1551.61 Q1304 1552.51 1303.06 1556.02 L1301.62 1561.98 L1300.36 1566.97 Q1300.1 1567.68 1299.39 1568.2 Q1298.68 1568.71 1297.91 1568.71 Q1297.27 1568.71 1296.62 1568.26 Q1296.01 1567.84 1296.01 1566.84 Q1296.01 1566.33 1296.27 1565.39 L1305.83 1527.39 L1306.03 1526.1 Q1306.03 1525.72 1305.87 1525.52 Q1305.74 1525.3 1304.96 1525.14 Q1304.22 1524.98 1302.74 1524.98 Q1302.13 1524.98 1301.84 1524.94 Q1301.58 1524.91 1301.36 1524.75 Q1301.13 1524.56 1301.13 1524.17 Q1301.13 1523.62 1301.36 1523.33 Q1301.62 1523.01 1301.81 1522.95 Q1302 1522.88 1302.39 1522.85 Q1302.94 1522.82 1304.77 1522.66 Q1306.61 1522.46 1308.19 1522.33 Q1309.76 1522.21 1310.44 1522.21 Q1310.83 1522.21 1311.02 1522.4 Q1311.24 1522.56 1311.28 1522.75 L1311.31 1522.91 L1306.16 1543.88 Q1310.25 1538.82 1315.91 1538.82 Q1319.59 1538.82 1321.55 1540.72 Q1323.52 1542.59 1323.52 1545.88 Q1323.52 1549.65 1319.49 1560.37 Q1318.3 1563.36 1318.3 1565.07 Q1318.3 1566.2 1318.65 1566.71 Q1319.04 1567.23 1319.88 1567.23 Q1321.16 1567.23 1322.29 1566.49 Q1323.45 1565.72 1324.26 1564.46 Q1325.06 1563.17 1325.61 1561.88 Q1326.19 1560.56 1326.61 1559.08 Q1326.86 1558.28 1326.99 1558.08 Q1327.15 1557.89 1327.61 1557.89 Q1328.38 1557.89 1328.38 1558.53 Z\" fill=\"#000000\" fill-rule=\"evenodd\" fill-opacity=\"1\" /><polyline clip-path=\"url(#clip003)\" style=\"stroke:#000000; stroke-linecap:round; stroke-linejoin:round; stroke-width:2; stroke-opacity:0.1; fill:none\" points=\"276.876,1410.9 2352.76,1410.9 \"/>\n",
       "<polyline clip-path=\"url(#clip003)\" style=\"stroke:#000000; stroke-linecap:round; stroke-linejoin:round; stroke-width:2; stroke-opacity:0.1; fill:none\" points=\"276.876,729.07 2352.76,729.07 \"/>\n",
       "<polyline clip-path=\"url(#clip003)\" style=\"stroke:#000000; stroke-linecap:round; stroke-linejoin:round; stroke-width:2; stroke-opacity:0.1; fill:none\" points=\"276.876,47.2441 2352.76,47.2441 \"/>\n",
       "<polyline clip-path=\"url(#clip000)\" style=\"stroke:#000000; stroke-linecap:round; stroke-linejoin:round; stroke-width:4; stroke-opacity:1; fill:none\" points=\"276.876,1410.9 276.876,47.2441 \"/>\n",
       "<polyline clip-path=\"url(#clip000)\" style=\"stroke:#000000; stroke-linecap:round; stroke-linejoin:round; stroke-width:4; stroke-opacity:1; fill:none\" points=\"276.876,1410.9 295.773,1410.9 \"/>\n",
       "<polyline clip-path=\"url(#clip000)\" style=\"stroke:#000000; stroke-linecap:round; stroke-linejoin:round; stroke-width:4; stroke-opacity:1; fill:none\" points=\"276.876,729.07 295.773,729.07 \"/>\n",
       "<polyline clip-path=\"url(#clip000)\" style=\"stroke:#000000; stroke-linecap:round; stroke-linejoin:round; stroke-width:4; stroke-opacity:1; fill:none\" points=\"276.876,47.2441 295.773,47.2441 \"/>\n",
       "<path clip-path=\"url(#clip000)\" d=\"M114.931 1430.69 L122.57 1430.69 L122.57 1404.32 L114.26 1405.99 L114.26 1401.73 L122.524 1400.06 L127.2 1400.06 L127.2 1430.69 L134.839 1430.69 L134.839 1434.62 L114.931 1434.62 L114.931 1430.69 Z\" fill=\"#000000\" fill-rule=\"evenodd\" fill-opacity=\"1\" /><path clip-path=\"url(#clip000)\" d=\"M154.283 1403.14 Q150.672 1403.14 148.843 1406.71 Q147.038 1410.25 147.038 1417.38 Q147.038 1424.49 148.843 1428.05 Q150.672 1431.59 154.283 1431.59 Q157.917 1431.59 159.723 1428.05 Q161.552 1424.49 161.552 1417.38 Q161.552 1410.25 159.723 1406.71 Q157.917 1403.14 154.283 1403.14 M154.283 1399.44 Q160.093 1399.44 163.149 1404.05 Q166.227 1408.63 166.227 1417.38 Q166.227 1426.11 163.149 1430.71 Q160.093 1435.3 154.283 1435.3 Q148.473 1435.3 145.394 1430.71 Q142.339 1426.11 142.339 1417.38 Q142.339 1408.63 145.394 1404.05 Q148.473 1399.44 154.283 1399.44 Z\" fill=\"#000000\" fill-rule=\"evenodd\" fill-opacity=\"1\" /><path clip-path=\"url(#clip000)\" d=\"M166.227 1393.54 L190.339 1393.54 L190.339 1396.74 L166.227 1396.74 L166.227 1393.54 Z\" fill=\"#000000\" fill-rule=\"evenodd\" fill-opacity=\"1\" /><path clip-path=\"url(#clip000)\" d=\"M199.197 1404.02 L205.404 1404.02 L205.404 1382.59 L198.652 1383.95 L198.652 1380.49 L205.366 1379.13 L209.166 1379.13 L209.166 1404.02 L215.372 1404.02 L215.372 1407.21 L199.197 1407.21 L199.197 1404.02 Z\" fill=\"#000000\" fill-rule=\"evenodd\" fill-opacity=\"1\" /><path clip-path=\"url(#clip000)\" d=\"M231.171 1381.64 Q228.237 1381.64 226.751 1384.53 Q225.284 1387.41 225.284 1393.2 Q225.284 1398.98 226.751 1401.87 Q228.237 1404.75 231.171 1404.75 Q234.124 1404.75 235.591 1401.87 Q237.076 1398.98 237.076 1393.2 Q237.076 1387.41 235.591 1384.53 Q234.124 1381.64 231.171 1381.64 M231.171 1378.63 Q235.891 1378.63 238.374 1382.37 Q240.876 1386.09 240.876 1393.2 Q240.876 1400.29 238.374 1404.04 Q235.891 1407.76 231.171 1407.76 Q226.45 1407.76 223.949 1404.04 Q221.466 1400.29 221.466 1393.2 Q221.466 1386.09 223.949 1382.37 Q226.45 1378.63 231.171 1378.63 Z\" fill=\"#000000\" fill-rule=\"evenodd\" fill-opacity=\"1\" /><path clip-path=\"url(#clip000)\" d=\"M140.247 748.863 L147.886 748.863 L147.886 722.497 L139.575 724.164 L139.575 719.905 L147.839 718.238 L152.515 718.238 L152.515 748.863 L160.154 748.863 L160.154 752.798 L140.247 752.798 L140.247 748.863 Z\" fill=\"#000000\" fill-rule=\"evenodd\" fill-opacity=\"1\" /><path clip-path=\"url(#clip000)\" d=\"M179.598 721.317 Q175.987 721.317 174.159 724.881 Q172.353 728.423 172.353 735.553 Q172.353 742.659 174.159 746.224 Q175.987 749.766 179.598 749.766 Q183.233 749.766 185.038 746.224 Q186.867 742.659 186.867 735.553 Q186.867 728.423 185.038 724.881 Q183.233 721.317 179.598 721.317 M179.598 717.613 Q185.409 717.613 188.464 722.219 Q191.543 726.803 191.543 735.553 Q191.543 744.279 188.464 748.886 Q185.409 753.469 179.598 753.469 Q173.788 753.469 170.71 748.886 Q167.654 744.279 167.654 735.553 Q167.654 726.803 170.71 722.219 Q173.788 717.613 179.598 717.613 Z\" fill=\"#000000\" fill-rule=\"evenodd\" fill-opacity=\"1\" /><path clip-path=\"url(#clip000)\" d=\"M191.543 711.714 L215.654 711.714 L215.654 714.912 L191.543 714.912 L191.543 711.714 Z\" fill=\"#000000\" fill-rule=\"evenodd\" fill-opacity=\"1\" /><path clip-path=\"url(#clip000)\" d=\"M223.892 697.308 L238.807 697.308 L238.807 700.505 L227.372 700.505 L227.372 707.389 Q228.199 707.106 229.027 706.975 Q229.854 706.824 230.682 706.824 Q235.384 706.824 238.13 709.401 Q240.876 711.978 240.876 716.379 Q240.876 720.911 238.054 723.432 Q235.233 725.933 230.099 725.933 Q228.331 725.933 226.488 725.632 Q224.663 725.331 222.707 724.729 L222.707 720.911 Q224.4 721.833 226.205 722.284 Q228.011 722.736 230.023 722.736 Q233.277 722.736 235.177 721.024 Q237.076 719.313 237.076 716.379 Q237.076 713.445 235.177 711.733 Q233.277 710.022 230.023 710.022 Q228.5 710.022 226.977 710.36 Q225.472 710.699 223.892 711.413 L223.892 697.308 Z\" fill=\"#000000\" fill-rule=\"evenodd\" fill-opacity=\"1\" /><path clip-path=\"url(#clip000)\" d=\"M170.17 67.0365 L177.809 67.0365 L177.809 40.6709 L169.499 42.3376 L169.499 38.0784 L177.762 36.4117 L182.438 36.4117 L182.438 67.0365 L190.077 67.0365 L190.077 70.9717 L170.17 70.9717 L170.17 67.0365 Z\" fill=\"#000000\" fill-rule=\"evenodd\" fill-opacity=\"1\" /><path clip-path=\"url(#clip000)\" d=\"M209.522 39.4904 Q205.91 39.4904 204.082 43.0552 Q202.276 46.5968 202.276 53.7264 Q202.276 60.8329 204.082 64.3977 Q205.91 67.9393 209.522 67.9393 Q213.156 67.9393 214.961 64.3977 Q216.79 60.8329 216.79 53.7264 Q216.79 46.5968 214.961 43.0552 Q213.156 39.4904 209.522 39.4904 M209.522 35.7867 Q215.332 35.7867 218.387 40.3932 Q221.466 44.9765 221.466 53.7264 Q221.466 62.4532 218.387 67.0597 Q215.332 71.643 209.522 71.643 Q203.711 71.643 200.633 67.0597 Q197.577 62.4532 197.577 53.7264 Q197.577 44.9765 200.633 40.3932 Q203.711 35.7867 209.522 35.7867 Z\" fill=\"#000000\" fill-rule=\"evenodd\" fill-opacity=\"1\" /><path clip-path=\"url(#clip000)\" d=\"M231.171 17.9827 Q228.237 17.9827 226.751 20.8791 Q225.284 23.7567 225.284 29.5495 Q225.284 35.3235 226.751 38.2199 Q228.237 41.0975 231.171 41.0975 Q234.124 41.0975 235.591 38.2199 Q237.076 35.3235 237.076 29.5495 Q237.076 23.7567 235.591 20.8791 Q234.124 17.9827 231.171 17.9827 M231.171 14.9735 Q235.891 14.9735 238.374 18.7162 Q240.876 22.4402 240.876 29.5495 Q240.876 36.64 238.374 40.3828 Q235.891 44.1067 231.171 44.1067 Q226.45 44.1067 223.949 40.3828 Q221.466 36.64 221.466 29.5495 Q221.466 22.4402 223.949 18.7162 Q226.45 14.9735 231.171 14.9735 Z\" fill=\"#000000\" fill-rule=\"evenodd\" fill-opacity=\"1\" /><path clip-path=\"url(#clip000)\" d=\"M16.4842 805.316 L16.4842 775.269 L21.895 775.269 L21.895 798.886 L35.9632 798.886 L35.9632 776.256 L41.3741 776.256 L41.3741 798.886 L58.5933 798.886 L58.5933 774.697 L64.0042 774.697 L64.0042 805.316 L16.4842 805.316 Z\" fill=\"#000000\" fill-rule=\"evenodd\" fill-opacity=\"1\" /><path clip-path=\"url(#clip000)\" d=\"M33.8307 743.727 Q33.2578 744.714 33.0032 745.892 Q32.7167 747.038 32.7167 748.438 Q32.7167 753.403 35.9632 756.077 Q39.1779 758.719 45.2253 758.719 L64.0042 758.719 L64.0042 764.607 L28.3562 764.607 L28.3562 758.719 L33.8944 758.719 Q30.6479 756.873 29.0883 753.913 Q27.4968 750.952 27.4968 746.719 Q27.4968 746.115 27.5923 745.382 Q27.656 744.65 27.8151 743.759 L33.8307 743.727 Z\" fill=\"#000000\" fill-rule=\"evenodd\" fill-opacity=\"1\" /><path clip-path=\"url(#clip000)\" d=\"M33.8307 718.074 Q33.2578 719.06 33.0032 720.238 Q32.7167 721.384 32.7167 722.784 Q32.7167 727.749 35.9632 730.423 Q39.1779 733.065 45.2253 733.065 L64.0042 733.065 L64.0042 738.953 L28.3562 738.953 L28.3562 733.065 L33.8944 733.065 Q30.6479 731.219 29.0883 728.259 Q27.4968 725.299 27.4968 721.065 Q27.4968 720.461 27.5923 719.729 Q27.656 718.997 27.8151 718.105 L33.8307 718.074 Z\" fill=\"#000000\" fill-rule=\"evenodd\" fill-opacity=\"1\" /><path clip-path=\"url(#clip000)\" d=\"M32.4621 699.549 Q32.4621 704.26 36.1542 706.997 Q39.8145 709.735 46.212 709.735 Q52.6095 709.735 56.3017 707.029 Q59.9619 704.292 59.9619 699.549 Q59.9619 694.871 56.2698 692.133 Q52.5777 689.396 46.212 689.396 Q39.8781 689.396 36.186 692.133 Q32.4621 694.871 32.4621 699.549 M27.4968 699.549 Q27.4968 691.911 32.4621 687.55 Q37.4273 683.19 46.212 683.19 Q54.9649 683.19 59.9619 687.55 Q64.9272 691.911 64.9272 699.549 Q64.9272 707.22 59.9619 711.581 Q54.9649 715.909 46.212 715.909 Q37.4273 715.909 32.4621 711.581 Q27.4968 707.22 27.4968 699.549 Z\" fill=\"#000000\" fill-rule=\"evenodd\" fill-opacity=\"1\" /><path clip-path=\"url(#clip000)\" d=\"M33.8307 652.825 Q33.2578 653.812 33.0032 654.989 Q32.7167 656.135 32.7167 657.536 Q32.7167 662.501 35.9632 665.175 Q39.1779 667.816 45.2253 667.816 L64.0042 667.816 L64.0042 673.705 L28.3562 673.705 L28.3562 667.816 L33.8944 667.816 Q30.6479 665.97 29.0883 663.01 Q27.4968 660.05 27.4968 655.817 Q27.4968 655.212 27.5923 654.48 Q27.656 653.748 27.8151 652.857 L33.8307 652.825 Z\" fill=\"#000000\" fill-rule=\"evenodd\" fill-opacity=\"1\" /><polyline clip-path=\"url(#clip003)\" style=\"stroke:#009af9; stroke-linecap:round; stroke-linejoin:round; stroke-width:4; stroke-opacity:1; fill:none\" points=\"2294,91.6474 2245.05,163.302 2196.09,233.676 2147.13,302.67 2098.17,371.121 2049.21,439.389 2000.25,507.599 1951.29,575.791 1902.33,643.976 1853.37,712.159 1804.41,780.342 1755.45,848.525 1706.49,916.706 1657.53,984.893 1608.57,1053.42 1559.61,1126.05 1510.65,1210.07 1461.69,1080.87 1412.73,1039.91 1363.78,985.521 1314.82,1033.57 1265.86,870.27 1216.9,856.203 1167.94,705.196 1118.98,642.357 1070.02,705.196 1021.06,474.661 972.1,515.858 923.14,378.745 874.181,301.429 825.221,296.72 776.262,145.841 727.302,83.7031 678.343,83.7031 629.384,83.7031 580.424,83.7031 531.465,83.7031 482.505,83.7031 433.546,83.7031 384.586,83.7031 335.627,83.7031 \"/>\n",
       "<polyline clip-path=\"url(#clip003)\" style=\"stroke:#e26f46; stroke-linecap:round; stroke-linejoin:round; stroke-width:4; stroke-opacity:1; fill:none\" points=\"2294,98.5162 2245.05,166.699 2196.09,234.881 2147.13,303.064 2098.17,371.247 2049.21,439.429 2000.25,507.612 1951.29,575.795 1902.33,643.977 1853.37,712.16 1804.41,780.342 1755.45,848.525 1706.49,916.708 1657.53,984.89 1608.57,1053.07 1559.61,1121.26 1510.65,1189.44 1461.69,1257.62 1412.73,1325.8 1363.78,1393.99 1314.82,1462.17 1265.86,1530.35 1216.9,1598.53 1167.94,1666.72 1118.98,1734.9 1070.02,1803.08 1021.06,1871.26 972.1,1939.45 923.14,2007.63 874.181,2075.81 825.221,2144 776.262,2212.18 727.302,2280.36 678.343,2348.54 629.384,2416.73 580.424,2484.91 531.465,2553.09 482.505,2621.27 433.546,2689.46 384.586,2757.64 335.627,2825.82 \"/>\n",
       "<path clip-path=\"url(#clip000)\" d=\"M1681.16 1365.44 L2283.56 1365.44 L2283.56 1209.92 L1681.16 1209.92  Z\" fill=\"#ffffff\" fill-rule=\"evenodd\" fill-opacity=\"1\"/>\n",
       "<polyline clip-path=\"url(#clip000)\" style=\"stroke:#000000; stroke-linecap:round; stroke-linejoin:round; stroke-width:4; stroke-opacity:1; fill:none\" points=\"1681.16,1365.44 2283.56,1365.44 2283.56,1209.92 1681.16,1209.92 1681.16,1365.44 \"/>\n",
       "<polyline clip-path=\"url(#clip000)\" style=\"stroke:#009af9; stroke-linecap:round; stroke-linejoin:round; stroke-width:4; stroke-opacity:1; fill:none\" points=\"1704.22,1261.76 1842.62,1261.76 \"/>\n",
       "<path clip-path=\"url(#clip000)\" d=\"M1879.08 1266.01 Q1873.92 1266.01 1871.93 1267.19 Q1869.94 1268.37 1869.94 1271.22 Q1869.94 1273.49 1871.42 1274.83 Q1872.93 1276.15 1875.5 1276.15 Q1879.04 1276.15 1881.17 1273.65 Q1883.32 1271.12 1883.32 1266.96 L1883.32 1266.01 L1879.08 1266.01 M1887.58 1264.25 L1887.58 1279.04 L1883.32 1279.04 L1883.32 1275.11 Q1881.86 1277.47 1879.69 1278.6 Q1877.51 1279.71 1874.36 1279.71 Q1870.38 1279.71 1868.02 1277.49 Q1865.68 1275.25 1865.68 1271.5 Q1865.68 1267.12 1868.6 1264.9 Q1871.54 1262.68 1877.35 1262.68 L1883.32 1262.68 L1883.32 1262.26 Q1883.32 1259.32 1881.38 1257.72 Q1879.45 1256.1 1875.96 1256.1 Q1873.74 1256.1 1871.63 1256.63 Q1869.52 1257.17 1867.58 1258.23 L1867.58 1254.3 Q1869.92 1253.39 1872.12 1252.95 Q1874.32 1252.49 1876.4 1252.49 Q1882.02 1252.49 1884.8 1255.41 Q1887.58 1258.32 1887.58 1264.25 Z\" fill=\"#000000\" fill-rule=\"evenodd\" fill-opacity=\"1\" /><path clip-path=\"url(#clip000)\" d=\"M1914.96 1266.1 Q1914.96 1261.4 1913.02 1258.74 Q1911.1 1256.06 1907.72 1256.06 Q1904.34 1256.06 1902.39 1258.74 Q1900.47 1261.4 1900.47 1266.1 Q1900.47 1270.8 1902.39 1273.49 Q1904.34 1276.15 1907.72 1276.15 Q1911.1 1276.15 1913.02 1273.49 Q1914.96 1270.8 1914.96 1266.1 M1900.47 1257.05 Q1901.82 1254.74 1903.85 1253.63 Q1905.91 1252.49 1908.76 1252.49 Q1913.48 1252.49 1916.42 1256.24 Q1919.39 1259.99 1919.39 1266.1 Q1919.39 1272.21 1916.42 1275.96 Q1913.48 1279.71 1908.76 1279.71 Q1905.91 1279.71 1903.85 1278.6 Q1901.82 1277.47 1900.47 1275.15 L1900.47 1279.04 L1896.19 1279.04 L1896.19 1243.02 L1900.47 1243.02 L1900.47 1257.05 Z\" fill=\"#000000\" fill-rule=\"evenodd\" fill-opacity=\"1\" /><path clip-path=\"url(#clip000)\" d=\"M1942.97 1253.88 L1942.97 1257.91 Q1941.17 1256.98 1939.22 1256.52 Q1937.28 1256.06 1935.2 1256.06 Q1932.02 1256.06 1930.43 1257.03 Q1928.85 1258 1928.85 1259.94 Q1928.85 1261.43 1929.99 1262.28 Q1931.12 1263.12 1934.55 1263.88 L1936.01 1264.2 Q1940.54 1265.18 1942.44 1266.96 Q1944.36 1268.72 1944.36 1271.89 Q1944.36 1275.5 1941.49 1277.61 Q1938.64 1279.71 1933.64 1279.71 Q1931.56 1279.71 1929.29 1279.3 Q1927.05 1278.9 1924.55 1278.09 L1924.55 1273.69 Q1926.91 1274.92 1929.2 1275.55 Q1931.49 1276.15 1933.74 1276.15 Q1936.75 1276.15 1938.37 1275.13 Q1939.99 1274.09 1939.99 1272.21 Q1939.99 1270.48 1938.81 1269.55 Q1937.65 1268.62 1933.69 1267.77 L1932.21 1267.42 Q1928.25 1266.59 1926.49 1264.87 Q1924.73 1263.14 1924.73 1260.13 Q1924.73 1256.47 1927.33 1254.48 Q1929.92 1252.49 1934.69 1252.49 Q1937.05 1252.49 1939.13 1252.84 Q1941.21 1253.19 1942.97 1253.88 Z\" fill=\"#000000\" fill-rule=\"evenodd\" fill-opacity=\"1\" /><path clip-path=\"url(#clip000)\" d=\"M1973.32 1265.01 L1973.32 1267.1 L1953.74 1267.1 Q1954.01 1271.5 1956.38 1273.81 Q1958.76 1276.1 1963 1276.1 Q1965.45 1276.1 1967.74 1275.5 Q1970.06 1274.9 1972.32 1273.69 L1972.32 1277.72 Q1970.03 1278.69 1967.63 1279.2 Q1965.22 1279.71 1962.74 1279.71 Q1956.54 1279.71 1952.9 1276.1 Q1949.29 1272.49 1949.29 1266.33 Q1949.29 1259.97 1952.72 1256.24 Q1956.17 1252.49 1962 1252.49 Q1967.23 1252.49 1970.26 1255.87 Q1973.32 1259.23 1973.32 1265.01 M1969.06 1263.76 Q1969.01 1260.27 1967.09 1258.19 Q1965.2 1256.1 1962.05 1256.1 Q1958.48 1256.1 1956.33 1258.12 Q1954.2 1260.13 1953.88 1263.79 L1969.06 1263.76 Z\" fill=\"#000000\" fill-rule=\"evenodd\" fill-opacity=\"1\" /><path clip-path=\"url(#clip000)\" d=\"M1995.33 1257.1 Q1994.62 1256.68 1993.76 1256.5 Q1992.93 1256.29 1991.91 1256.29 Q1988.3 1256.29 1986.35 1258.65 Q1984.43 1260.99 1984.43 1265.38 L1984.43 1279.04 L1980.15 1279.04 L1980.15 1253.12 L1984.43 1253.12 L1984.43 1257.14 Q1985.77 1254.78 1987.93 1253.65 Q1990.08 1252.49 1993.16 1252.49 Q1993.6 1252.49 1994.13 1252.56 Q1994.66 1252.61 1995.31 1252.72 L1995.33 1257.1 Z\" fill=\"#000000\" fill-rule=\"evenodd\" fill-opacity=\"1\" /><path clip-path=\"url(#clip000)\" d=\"M2013.99 1257.1 Q2013.27 1256.68 2012.42 1256.5 Q2011.58 1256.29 2010.57 1256.29 Q2006.95 1256.29 2005.01 1258.65 Q2003.09 1260.99 2003.09 1265.38 L2003.09 1279.04 L1998.81 1279.04 L1998.81 1253.12 L2003.09 1253.12 L2003.09 1257.14 Q2004.43 1254.78 2006.58 1253.65 Q2008.74 1252.49 2011.82 1252.49 Q2012.26 1252.49 2012.79 1252.56 Q2013.32 1252.61 2013.97 1252.72 L2013.99 1257.1 Z\" fill=\"#000000\" fill-rule=\"evenodd\" fill-opacity=\"1\" /><polyline clip-path=\"url(#clip000)\" style=\"stroke:#e26f46; stroke-linecap:round; stroke-linejoin:round; stroke-width:4; stroke-opacity:1; fill:none\" points=\"1704.22,1313.6 1842.62,1313.6 \"/>\n",
       "<path clip-path=\"url(#clip000)\" d=\"M1865.68 1296.32 L1894.92 1296.32 L1894.92 1300.26 L1882.65 1300.26 L1882.65 1330.88 L1877.95 1330.88 L1877.95 1300.26 L1865.68 1300.26 L1865.68 1296.32 Z\" fill=\"#000000\" fill-rule=\"evenodd\" fill-opacity=\"1\" /><path clip-path=\"url(#clip000)\" d=\"M1920.8 1315.23 L1920.8 1330.88 L1916.54 1330.88 L1916.54 1315.37 Q1916.54 1311.69 1915.1 1309.86 Q1913.67 1308.03 1910.8 1308.03 Q1907.35 1308.03 1905.36 1310.23 Q1903.37 1312.43 1903.37 1316.23 L1903.37 1330.88 L1899.08 1330.88 L1899.08 1294.86 L1903.37 1294.86 L1903.37 1308.98 Q1904.89 1306.65 1906.95 1305.49 Q1909.04 1304.33 1911.75 1304.33 Q1916.21 1304.33 1918.51 1307.11 Q1920.8 1309.86 1920.8 1315.23 Z\" fill=\"#000000\" fill-rule=\"evenodd\" fill-opacity=\"1\" /><path clip-path=\"url(#clip000)\" d=\"M1951.47 1316.85 L1951.47 1318.94 L1931.89 1318.94 Q1932.16 1323.34 1934.52 1325.65 Q1936.91 1327.94 1941.14 1327.94 Q1943.6 1327.94 1945.89 1327.34 Q1948.2 1326.74 1950.47 1325.53 L1950.47 1329.56 Q1948.18 1330.53 1945.77 1331.04 Q1943.37 1331.55 1940.89 1331.55 Q1934.69 1331.55 1931.05 1327.94 Q1927.44 1324.33 1927.44 1318.17 Q1927.44 1311.81 1930.87 1308.08 Q1934.32 1304.33 1940.15 1304.33 Q1945.38 1304.33 1948.41 1307.71 Q1951.47 1311.07 1951.47 1316.85 M1947.21 1315.6 Q1947.16 1312.11 1945.24 1310.03 Q1943.34 1307.94 1940.2 1307.94 Q1936.63 1307.94 1934.48 1309.96 Q1932.35 1311.97 1932.02 1315.63 L1947.21 1315.6 Z\" fill=\"#000000\" fill-rule=\"evenodd\" fill-opacity=\"1\" /><path clip-path=\"url(#clip000)\" d=\"M1968.51 1307.94 Q1965.08 1307.94 1963.09 1310.63 Q1961.1 1313.29 1961.1 1317.94 Q1961.1 1322.59 1963.07 1325.28 Q1965.06 1327.94 1968.51 1327.94 Q1971.91 1327.94 1973.9 1325.26 Q1975.89 1322.57 1975.89 1317.94 Q1975.89 1313.34 1973.9 1310.65 Q1971.91 1307.94 1968.51 1307.94 M1968.51 1304.33 Q1974.06 1304.33 1977.23 1307.94 Q1980.4 1311.55 1980.4 1317.94 Q1980.4 1324.31 1977.23 1327.94 Q1974.06 1331.55 1968.51 1331.55 Q1962.93 1331.55 1959.76 1327.94 Q1956.61 1324.31 1956.61 1317.94 Q1956.61 1311.55 1959.76 1307.94 Q1962.93 1304.33 1968.51 1304.33 Z\" fill=\"#000000\" fill-rule=\"evenodd\" fill-opacity=\"1\" /><path clip-path=\"url(#clip000)\" d=\"M2002.49 1308.94 Q2001.77 1308.52 2000.91 1308.34 Q2000.08 1308.13 1999.06 1308.13 Q1995.45 1308.13 1993.51 1310.49 Q1991.58 1312.83 1991.58 1317.22 L1991.58 1330.88 L1987.3 1330.88 L1987.3 1304.96 L1991.58 1304.96 L1991.58 1308.98 Q1992.93 1306.62 1995.08 1305.49 Q1997.23 1304.33 2000.31 1304.33 Q2000.75 1304.33 2001.28 1304.4 Q2001.82 1304.45 2002.46 1304.56 L2002.49 1308.94 Z\" fill=\"#000000\" fill-rule=\"evenodd\" fill-opacity=\"1\" /><path clip-path=\"url(#clip000)\" d=\"M2028.09 1316.85 L2028.09 1318.94 L2008.51 1318.94 Q2008.78 1323.34 2011.14 1325.65 Q2013.53 1327.94 2017.76 1327.94 Q2020.22 1327.94 2022.51 1327.34 Q2024.82 1326.74 2027.09 1325.53 L2027.09 1329.56 Q2024.8 1330.53 2022.39 1331.04 Q2019.99 1331.55 2017.51 1331.55 Q2011.31 1331.55 2007.67 1327.94 Q2004.06 1324.33 2004.06 1318.17 Q2004.06 1311.81 2007.49 1308.08 Q2010.94 1304.33 2016.77 1304.33 Q2022 1304.33 2025.03 1307.71 Q2028.09 1311.07 2028.09 1316.85 M2023.83 1315.6 Q2023.78 1312.11 2021.86 1310.03 Q2019.96 1307.94 2016.82 1307.94 Q2013.25 1307.94 2011.1 1309.96 Q2008.97 1311.97 2008.64 1315.63 L2023.83 1315.6 Z\" fill=\"#000000\" fill-rule=\"evenodd\" fill-opacity=\"1\" /><path clip-path=\"url(#clip000)\" d=\"M2039.29 1297.59 L2039.29 1304.96 L2048.07 1304.96 L2048.07 1308.27 L2039.29 1308.27 L2039.29 1322.34 Q2039.29 1325.51 2040.15 1326.41 Q2041.03 1327.32 2043.69 1327.32 L2048.07 1327.32 L2048.07 1330.88 L2043.69 1330.88 Q2038.76 1330.88 2036.88 1329.05 Q2035.01 1327.2 2035.01 1322.34 L2035.01 1308.27 L2031.88 1308.27 L2031.88 1304.96 L2035.01 1304.96 L2035.01 1297.59 L2039.29 1297.59 Z\" fill=\"#000000\" fill-rule=\"evenodd\" fill-opacity=\"1\" /><path clip-path=\"url(#clip000)\" d=\"M2053.67 1304.96 L2057.93 1304.96 L2057.93 1330.88 L2053.67 1330.88 L2053.67 1304.96 M2053.67 1294.86 L2057.93 1294.86 L2057.93 1300.26 L2053.67 1300.26 L2053.67 1294.86 Z\" fill=\"#000000\" fill-rule=\"evenodd\" fill-opacity=\"1\" /><path clip-path=\"url(#clip000)\" d=\"M2085.5 1305.95 L2085.5 1309.93 Q2083.69 1308.94 2081.86 1308.45 Q2080.06 1307.94 2078.2 1307.94 Q2074.06 1307.94 2071.77 1310.58 Q2069.48 1313.2 2069.48 1317.94 Q2069.48 1322.69 2071.77 1325.33 Q2074.06 1327.94 2078.2 1327.94 Q2080.06 1327.94 2081.86 1327.46 Q2083.69 1326.95 2085.5 1325.95 L2085.5 1329.89 Q2083.71 1330.72 2081.79 1331.14 Q2079.89 1331.55 2077.74 1331.55 Q2071.88 1331.55 2068.44 1327.87 Q2064.99 1324.19 2064.99 1317.94 Q2064.99 1311.6 2068.46 1307.97 Q2071.95 1304.33 2078.02 1304.33 Q2079.99 1304.33 2081.86 1304.75 Q2083.74 1305.14 2085.5 1305.95 Z\" fill=\"#000000\" fill-rule=\"evenodd\" fill-opacity=\"1\" /><path clip-path=\"url(#clip000)\" d=\"M2104.69 1317.85 Q2099.52 1317.85 2097.53 1319.03 Q2095.54 1320.21 2095.54 1323.06 Q2095.54 1325.33 2097.02 1326.67 Q2098.53 1327.99 2101.1 1327.99 Q2104.64 1327.99 2106.77 1325.49 Q2108.92 1322.96 2108.92 1318.8 L2108.92 1317.85 L2104.69 1317.85 M2113.18 1316.09 L2113.18 1330.88 L2108.92 1330.88 L2108.92 1326.95 Q2107.46 1329.31 2105.29 1330.44 Q2103.11 1331.55 2099.96 1331.55 Q2095.98 1331.55 2093.62 1329.33 Q2091.28 1327.09 2091.28 1323.34 Q2091.28 1318.96 2094.2 1316.74 Q2097.14 1314.52 2102.95 1314.52 L2108.92 1314.52 L2108.92 1314.1 Q2108.92 1311.16 2106.98 1309.56 Q2105.06 1307.94 2101.56 1307.94 Q2099.34 1307.94 2097.23 1308.47 Q2095.13 1309.01 2093.18 1310.07 L2093.18 1306.14 Q2095.52 1305.23 2097.72 1304.79 Q2099.92 1304.33 2102 1304.33 Q2107.63 1304.33 2110.4 1307.25 Q2113.18 1310.16 2113.18 1316.09 Z\" fill=\"#000000\" fill-rule=\"evenodd\" fill-opacity=\"1\" /><path clip-path=\"url(#clip000)\" d=\"M2121.95 1294.86 L2126.21 1294.86 L2126.21 1330.88 L2121.95 1330.88 L2121.95 1294.86 Z\" fill=\"#000000\" fill-rule=\"evenodd\" fill-opacity=\"1\" /><path clip-path=\"url(#clip000)\" d=\"M2172.37 1316.85 L2172.37 1318.94 L2152.79 1318.94 Q2153.06 1323.34 2155.43 1325.65 Q2157.81 1327.94 2162.05 1327.94 Q2164.5 1327.94 2166.79 1327.34 Q2169.11 1326.74 2171.37 1325.53 L2171.37 1329.56 Q2169.08 1330.53 2166.68 1331.04 Q2164.27 1331.55 2161.79 1331.55 Q2155.59 1331.55 2151.95 1327.94 Q2148.34 1324.33 2148.34 1318.17 Q2148.34 1311.81 2151.77 1308.08 Q2155.22 1304.33 2161.05 1304.33 Q2166.28 1304.33 2169.31 1307.71 Q2172.37 1311.07 2172.37 1316.85 M2168.11 1315.6 Q2168.06 1312.11 2166.14 1310.03 Q2164.25 1307.94 2161.1 1307.94 Q2157.53 1307.94 2155.38 1309.96 Q2153.25 1311.97 2152.93 1315.63 L2168.11 1315.6 Z\" fill=\"#000000\" fill-rule=\"evenodd\" fill-opacity=\"1\" /><path clip-path=\"url(#clip000)\" d=\"M2194.38 1308.94 Q2193.67 1308.52 2192.81 1308.34 Q2191.98 1308.13 2190.96 1308.13 Q2187.35 1308.13 2185.4 1310.49 Q2183.48 1312.83 2183.48 1317.22 L2183.48 1330.88 L2179.2 1330.88 L2179.2 1304.96 L2183.48 1304.96 L2183.48 1308.98 Q2184.82 1306.62 2186.98 1305.49 Q2189.13 1304.33 2192.21 1304.33 Q2192.65 1304.33 2193.18 1304.4 Q2193.71 1304.45 2194.36 1304.56 L2194.38 1308.94 Z\" fill=\"#000000\" fill-rule=\"evenodd\" fill-opacity=\"1\" /><path clip-path=\"url(#clip000)\" d=\"M2213.04 1308.94 Q2212.32 1308.52 2211.47 1308.34 Q2210.63 1308.13 2209.62 1308.13 Q2206 1308.13 2204.06 1310.49 Q2202.14 1312.83 2202.14 1317.22 L2202.14 1330.88 L2197.86 1330.88 L2197.86 1304.96 L2202.14 1304.96 L2202.14 1308.98 Q2203.48 1306.62 2205.63 1305.49 Q2207.79 1304.33 2210.87 1304.33 Q2211.31 1304.33 2211.84 1304.4 Q2212.37 1304.45 2213.02 1304.56 L2213.04 1308.94 Z\" fill=\"#000000\" fill-rule=\"evenodd\" fill-opacity=\"1\" /><path clip-path=\"url(#clip000)\" d=\"M2226.51 1307.94 Q2223.09 1307.94 2221.1 1310.63 Q2219.11 1313.29 2219.11 1317.94 Q2219.11 1322.59 2221.07 1325.28 Q2223.06 1327.94 2226.51 1327.94 Q2229.92 1327.94 2231.91 1325.26 Q2233.9 1322.57 2233.9 1317.94 Q2233.9 1313.34 2231.91 1310.65 Q2229.92 1307.94 2226.51 1307.94 M2226.51 1304.33 Q2232.07 1304.33 2235.24 1307.94 Q2238.41 1311.55 2238.41 1317.94 Q2238.41 1324.31 2235.24 1327.94 Q2232.07 1331.55 2226.51 1331.55 Q2220.93 1331.55 2217.76 1327.94 Q2214.62 1324.31 2214.62 1317.94 Q2214.62 1311.55 2217.76 1307.94 Q2220.93 1304.33 2226.51 1304.33 Z\" fill=\"#000000\" fill-rule=\"evenodd\" fill-opacity=\"1\" /><path clip-path=\"url(#clip000)\" d=\"M2260.49 1308.94 Q2259.78 1308.52 2258.92 1308.34 Q2258.09 1308.13 2257.07 1308.13 Q2253.46 1308.13 2251.51 1310.49 Q2249.59 1312.83 2249.59 1317.22 L2249.59 1330.88 L2245.31 1330.88 L2245.31 1304.96 L2249.59 1304.96 L2249.59 1308.98 Q2250.93 1306.62 2253.09 1305.49 Q2255.24 1304.33 2258.32 1304.33 Q2258.76 1304.33 2259.29 1304.4 Q2259.82 1304.45 2260.47 1304.56 L2260.49 1308.94 Z\" fill=\"#000000\" fill-rule=\"evenodd\" fill-opacity=\"1\" /></svg>\n"
      ]
     },
     "execution_count": 28,
     "metadata": {},
     "output_type": "execute_result"
    }
   ],
   "source": [
    "plot(h, abserr, \n",
    "    yscale=:log10, \n",
    "    xscale=:log10,\n",
    "    xlabel=L\"h\",\n",
    "    ylabel=\"Error\",\n",
    "    label=\"abserr\",\n",
    "    #title=\"Title\",\n",
    "    legend=:bottomright,\n",
    ")\n",
    "\n",
    "plot!(h, d_err, label=\"Theoretical error\")\n",
    "ylims!(1e-10, 1e0)"
   ]
  },
  {
   "cell_type": "markdown",
   "metadata": {},
   "source": [
    "---\n",
    "# 1.3 Algorithm properties\n",
    "---"
   ]
  },
  {
   "cell_type": "markdown",
   "metadata": {},
   "source": [
    "## Accuracy\n",
    "\n",
    "As we have seen above, it is easy to write *mathematically correct* code that produces very inaccurate results.\n",
    "\n",
    "Accuracy is affected by the following two conditions:\n",
    "\n",
    "1. **Problem conditioning**  \n",
    "    Some problems are highly sensitive to small changes in the input: we call such problems **ill-conditioned**. A problem that is not sensitive to small changes in the input is called **well-conditioned**. For example, computing $\\tan(x)$ for $x$ near $\\pi/2$ is an ill-conditioned problem (**Example 1.5** in Ascher-Greif).\n",
    "2. **Algorithm stability**  \n",
    "    An algorithm is called **stable** if it is guaranteed to produce an exact answer to a *slightly perturbed problem*. (**Example 1.6** in Ascher-Greif gives an example of an **unstable algorithm**)."
   ]
  },
  {
   "cell_type": "code",
   "execution_count": 29,
   "metadata": {},
   "outputs": [
    {
     "data": {
      "text/plain": [
       "1.5707963267948966"
      ]
     },
     "execution_count": 29,
     "metadata": {},
     "output_type": "execute_result"
    }
   ],
   "source": [
    "pi/2"
   ]
  },
  {
   "cell_type": "code",
   "execution_count": 30,
   "metadata": {},
   "outputs": [
    {
     "data": {
      "image/svg+xml": [
       "<?xml version=\"1.0\" encoding=\"utf-8\"?>\n",
       "<svg xmlns=\"http://www.w3.org/2000/svg\" xmlns:xlink=\"http://www.w3.org/1999/xlink\" width=\"600\" height=\"400\" viewBox=\"0 0 2400 1600\">\n",
       "<defs>\n",
       "  <clipPath id=\"clip040\">\n",
       "    <rect x=\"0\" y=\"0\" width=\"2400\" height=\"1600\"/>\n",
       "  </clipPath>\n",
       "</defs>\n",
       "<path clip-path=\"url(#clip040)\" d=\"M0 1600 L2400 1600 L2400 0 L0 0  Z\" fill=\"#ffffff\" fill-rule=\"evenodd\" fill-opacity=\"1\"/>\n",
       "<defs>\n",
       "  <clipPath id=\"clip041\">\n",
       "    <rect x=\"480\" y=\"0\" width=\"1681\" height=\"1600\"/>\n",
       "  </clipPath>\n",
       "</defs>\n",
       "<path clip-path=\"url(#clip040)\" d=\"M178.867 1486.45 L2352.76 1486.45 L2352.76 47.2441 L178.867 47.2441  Z\" fill=\"#ffffff\" fill-rule=\"evenodd\" fill-opacity=\"1\"/>\n",
       "<defs>\n",
       "  <clipPath id=\"clip042\">\n",
       "    <rect x=\"178\" y=\"47\" width=\"2175\" height=\"1440\"/>\n",
       "  </clipPath>\n",
       "</defs>\n",
       "<polyline clip-path=\"url(#clip042)\" style=\"stroke:#000000; stroke-linecap:round; stroke-linejoin:round; stroke-width:2; stroke-opacity:0.1; fill:none\" points=\"240.392,1486.45 240.392,47.2441 \"/>\n",
       "<polyline clip-path=\"url(#clip042)\" style=\"stroke:#000000; stroke-linecap:round; stroke-linejoin:round; stroke-width:2; stroke-opacity:0.1; fill:none\" points=\"582.198,1486.45 582.198,47.2441 \"/>\n",
       "<polyline clip-path=\"url(#clip042)\" style=\"stroke:#000000; stroke-linecap:round; stroke-linejoin:round; stroke-width:2; stroke-opacity:0.1; fill:none\" points=\"924.005,1486.45 924.005,47.2441 \"/>\n",
       "<polyline clip-path=\"url(#clip042)\" style=\"stroke:#000000; stroke-linecap:round; stroke-linejoin:round; stroke-width:2; stroke-opacity:0.1; fill:none\" points=\"1265.81,1486.45 1265.81,47.2441 \"/>\n",
       "<polyline clip-path=\"url(#clip042)\" style=\"stroke:#000000; stroke-linecap:round; stroke-linejoin:round; stroke-width:2; stroke-opacity:0.1; fill:none\" points=\"1607.62,1486.45 1607.62,47.2441 \"/>\n",
       "<polyline clip-path=\"url(#clip042)\" style=\"stroke:#000000; stroke-linecap:round; stroke-linejoin:round; stroke-width:2; stroke-opacity:0.1; fill:none\" points=\"1949.42,1486.45 1949.42,47.2441 \"/>\n",
       "<polyline clip-path=\"url(#clip042)\" style=\"stroke:#000000; stroke-linecap:round; stroke-linejoin:round; stroke-width:2; stroke-opacity:0.1; fill:none\" points=\"2291.23,1486.45 2291.23,47.2441 \"/>\n",
       "<polyline clip-path=\"url(#clip040)\" style=\"stroke:#000000; stroke-linecap:round; stroke-linejoin:round; stroke-width:4; stroke-opacity:1; fill:none\" points=\"178.867,1486.45 2352.76,1486.45 \"/>\n",
       "<polyline clip-path=\"url(#clip040)\" style=\"stroke:#000000; stroke-linecap:round; stroke-linejoin:round; stroke-width:4; stroke-opacity:1; fill:none\" points=\"240.392,1486.45 240.392,1467.55 \"/>\n",
       "<polyline clip-path=\"url(#clip040)\" style=\"stroke:#000000; stroke-linecap:round; stroke-linejoin:round; stroke-width:4; stroke-opacity:1; fill:none\" points=\"582.198,1486.45 582.198,1467.55 \"/>\n",
       "<polyline clip-path=\"url(#clip040)\" style=\"stroke:#000000; stroke-linecap:round; stroke-linejoin:round; stroke-width:4; stroke-opacity:1; fill:none\" points=\"924.005,1486.45 924.005,1467.55 \"/>\n",
       "<polyline clip-path=\"url(#clip040)\" style=\"stroke:#000000; stroke-linecap:round; stroke-linejoin:round; stroke-width:4; stroke-opacity:1; fill:none\" points=\"1265.81,1486.45 1265.81,1467.55 \"/>\n",
       "<polyline clip-path=\"url(#clip040)\" style=\"stroke:#000000; stroke-linecap:round; stroke-linejoin:round; stroke-width:4; stroke-opacity:1; fill:none\" points=\"1607.62,1486.45 1607.62,1467.55 \"/>\n",
       "<polyline clip-path=\"url(#clip040)\" style=\"stroke:#000000; stroke-linecap:round; stroke-linejoin:round; stroke-width:4; stroke-opacity:1; fill:none\" points=\"1949.42,1486.45 1949.42,1467.55 \"/>\n",
       "<polyline clip-path=\"url(#clip040)\" style=\"stroke:#000000; stroke-linecap:round; stroke-linejoin:round; stroke-width:4; stroke-opacity:1; fill:none\" points=\"2291.23,1486.45 2291.23,1467.55 \"/>\n",
       "<path clip-path=\"url(#clip040)\" d=\"M187.418 1532.02 L217.093 1532.02 L217.093 1535.95 L187.418 1535.95 L187.418 1532.02 Z\" fill=\"#000000\" fill-rule=\"evenodd\" fill-opacity=\"1\" /><path clip-path=\"url(#clip040)\" d=\"M227.996 1544.91 L235.635 1544.91 L235.635 1518.55 L227.325 1520.21 L227.325 1515.95 L235.589 1514.29 L240.264 1514.29 L240.264 1544.91 L247.903 1544.91 L247.903 1548.85 L227.996 1548.85 L227.996 1544.91 Z\" fill=\"#000000\" fill-rule=\"evenodd\" fill-opacity=\"1\" /><path clip-path=\"url(#clip040)\" d=\"M257.348 1542.97 L262.232 1542.97 L262.232 1548.85 L257.348 1548.85 L257.348 1542.97 Z\" fill=\"#000000\" fill-rule=\"evenodd\" fill-opacity=\"1\" /><path clip-path=\"url(#clip040)\" d=\"M272.463 1514.29 L290.82 1514.29 L290.82 1518.22 L276.746 1518.22 L276.746 1526.7 Q277.764 1526.35 278.783 1526.19 Q279.801 1526 280.82 1526 Q286.607 1526 289.986 1529.17 Q293.366 1532.34 293.366 1537.76 Q293.366 1543.34 289.894 1546.44 Q286.422 1549.52 280.102 1549.52 Q277.926 1549.52 275.658 1549.15 Q273.412 1548.78 271.005 1548.04 L271.005 1543.34 Q273.088 1544.47 275.311 1545.03 Q277.533 1545.58 280.01 1545.58 Q284.014 1545.58 286.352 1543.48 Q288.69 1541.37 288.69 1537.76 Q288.69 1534.15 286.352 1532.04 Q284.014 1529.94 280.01 1529.94 Q278.135 1529.94 276.26 1530.35 Q274.408 1530.77 272.463 1531.65 L272.463 1514.29 Z\" fill=\"#000000\" fill-rule=\"evenodd\" fill-opacity=\"1\" /><path clip-path=\"url(#clip040)\" d=\"M528.726 1532.02 L558.402 1532.02 L558.402 1535.95 L528.726 1535.95 L528.726 1532.02 Z\" fill=\"#000000\" fill-rule=\"evenodd\" fill-opacity=\"1\" /><path clip-path=\"url(#clip040)\" d=\"M569.305 1544.91 L576.944 1544.91 L576.944 1518.55 L568.634 1520.21 L568.634 1515.95 L576.897 1514.29 L581.573 1514.29 L581.573 1544.91 L589.212 1544.91 L589.212 1548.85 L569.305 1548.85 L569.305 1544.91 Z\" fill=\"#000000\" fill-rule=\"evenodd\" fill-opacity=\"1\" /><path clip-path=\"url(#clip040)\" d=\"M598.657 1542.97 L603.541 1542.97 L603.541 1548.85 L598.657 1548.85 L598.657 1542.97 Z\" fill=\"#000000\" fill-rule=\"evenodd\" fill-opacity=\"1\" /><path clip-path=\"url(#clip040)\" d=\"M623.726 1517.37 Q620.115 1517.37 618.286 1520.93 Q616.481 1524.47 616.481 1531.6 Q616.481 1538.71 618.286 1542.27 Q620.115 1545.82 623.726 1545.82 Q627.36 1545.82 629.166 1542.27 Q630.994 1538.71 630.994 1531.6 Q630.994 1524.47 629.166 1520.93 Q627.36 1517.37 623.726 1517.37 M623.726 1513.66 Q629.536 1513.66 632.592 1518.27 Q635.67 1522.85 635.67 1531.6 Q635.67 1540.33 632.592 1544.94 Q629.536 1549.52 623.726 1549.52 Q617.916 1549.52 614.837 1544.94 Q611.781 1540.33 611.781 1531.6 Q611.781 1522.85 614.837 1518.27 Q617.916 1513.66 623.726 1513.66 Z\" fill=\"#000000\" fill-rule=\"evenodd\" fill-opacity=\"1\" /><path clip-path=\"url(#clip040)\" d=\"M871.031 1532.02 L900.706 1532.02 L900.706 1535.95 L871.031 1535.95 L871.031 1532.02 Z\" fill=\"#000000\" fill-rule=\"evenodd\" fill-opacity=\"1\" /><path clip-path=\"url(#clip040)\" d=\"M920.799 1517.37 Q917.188 1517.37 915.359 1520.93 Q913.553 1524.47 913.553 1531.6 Q913.553 1538.71 915.359 1542.27 Q917.188 1545.82 920.799 1545.82 Q924.433 1545.82 926.239 1542.27 Q928.067 1538.71 928.067 1531.6 Q928.067 1524.47 926.239 1520.93 Q924.433 1517.37 920.799 1517.37 M920.799 1513.66 Q926.609 1513.66 929.664 1518.27 Q932.743 1522.85 932.743 1531.6 Q932.743 1540.33 929.664 1544.94 Q926.609 1549.52 920.799 1549.52 Q914.989 1549.52 911.91 1544.94 Q908.854 1540.33 908.854 1531.6 Q908.854 1522.85 911.91 1518.27 Q914.989 1513.66 920.799 1513.66 Z\" fill=\"#000000\" fill-rule=\"evenodd\" fill-opacity=\"1\" /><path clip-path=\"url(#clip040)\" d=\"M940.961 1542.97 L945.845 1542.97 L945.845 1548.85 L940.961 1548.85 L940.961 1542.97 Z\" fill=\"#000000\" fill-rule=\"evenodd\" fill-opacity=\"1\" /><path clip-path=\"url(#clip040)\" d=\"M956.076 1514.29 L974.433 1514.29 L974.433 1518.22 L960.359 1518.22 L960.359 1526.7 Q961.377 1526.35 962.396 1526.19 Q963.414 1526 964.433 1526 Q970.22 1526 973.599 1529.17 Q976.979 1532.34 976.979 1537.76 Q976.979 1543.34 973.507 1546.44 Q970.035 1549.52 963.715 1549.52 Q961.539 1549.52 959.271 1549.15 Q957.025 1548.78 954.618 1548.04 L954.618 1543.34 Q956.701 1544.47 958.924 1545.03 Q961.146 1545.58 963.623 1545.58 Q967.627 1545.58 969.965 1543.48 Q972.303 1541.37 972.303 1537.76 Q972.303 1534.15 969.965 1532.04 Q967.627 1529.94 963.623 1529.94 Q961.748 1529.94 959.873 1530.35 Q958.021 1530.77 956.076 1531.65 L956.076 1514.29 Z\" fill=\"#000000\" fill-rule=\"evenodd\" fill-opacity=\"1\" /><path clip-path=\"url(#clip040)\" d=\"M1243.2 1517.37 Q1239.58 1517.37 1237.76 1520.93 Q1235.95 1524.47 1235.95 1531.6 Q1235.95 1538.71 1237.76 1542.27 Q1239.58 1545.82 1243.2 1545.82 Q1246.83 1545.82 1248.64 1542.27 Q1250.46 1538.71 1250.46 1531.6 Q1250.46 1524.47 1248.64 1520.93 Q1246.83 1517.37 1243.2 1517.37 M1243.2 1513.66 Q1249.01 1513.66 1252.06 1518.27 Q1255.14 1522.85 1255.14 1531.6 Q1255.14 1540.33 1252.06 1544.94 Q1249.01 1549.52 1243.2 1549.52 Q1237.39 1549.52 1234.31 1544.94 Q1231.25 1540.33 1231.25 1531.6 Q1231.25 1522.85 1234.31 1518.27 Q1237.39 1513.66 1243.2 1513.66 Z\" fill=\"#000000\" fill-rule=\"evenodd\" fill-opacity=\"1\" /><path clip-path=\"url(#clip040)\" d=\"M1263.36 1542.97 L1268.24 1542.97 L1268.24 1548.85 L1263.36 1548.85 L1263.36 1542.97 Z\" fill=\"#000000\" fill-rule=\"evenodd\" fill-opacity=\"1\" /><path clip-path=\"url(#clip040)\" d=\"M1288.43 1517.37 Q1284.82 1517.37 1282.99 1520.93 Q1281.18 1524.47 1281.18 1531.6 Q1281.18 1538.71 1282.99 1542.27 Q1284.82 1545.82 1288.43 1545.82 Q1292.06 1545.82 1293.87 1542.27 Q1295.7 1538.71 1295.7 1531.6 Q1295.7 1524.47 1293.87 1520.93 Q1292.06 1517.37 1288.43 1517.37 M1288.43 1513.66 Q1294.24 1513.66 1297.29 1518.27 Q1300.37 1522.85 1300.37 1531.6 Q1300.37 1540.33 1297.29 1544.94 Q1294.24 1549.52 1288.43 1549.52 Q1282.62 1549.52 1279.54 1544.94 Q1276.48 1540.33 1276.48 1531.6 Q1276.48 1522.85 1279.54 1518.27 Q1282.62 1513.66 1288.43 1513.66 Z\" fill=\"#000000\" fill-rule=\"evenodd\" fill-opacity=\"1\" /><path clip-path=\"url(#clip040)\" d=\"M1585.5 1517.37 Q1581.89 1517.37 1580.06 1520.93 Q1578.25 1524.47 1578.25 1531.6 Q1578.25 1538.71 1580.06 1542.27 Q1581.89 1545.82 1585.5 1545.82 Q1589.13 1545.82 1590.94 1542.27 Q1592.77 1538.71 1592.77 1531.6 Q1592.77 1524.47 1590.94 1520.93 Q1589.13 1517.37 1585.5 1517.37 M1585.5 1513.66 Q1591.31 1513.66 1594.37 1518.27 Q1597.44 1522.85 1597.44 1531.6 Q1597.44 1540.33 1594.37 1544.94 Q1591.31 1549.52 1585.5 1549.52 Q1579.69 1549.52 1576.61 1544.94 Q1573.56 1540.33 1573.56 1531.6 Q1573.56 1522.85 1576.61 1518.27 Q1579.69 1513.66 1585.5 1513.66 Z\" fill=\"#000000\" fill-rule=\"evenodd\" fill-opacity=\"1\" /><path clip-path=\"url(#clip040)\" d=\"M1605.66 1542.97 L1610.55 1542.97 L1610.55 1548.85 L1605.66 1548.85 L1605.66 1542.97 Z\" fill=\"#000000\" fill-rule=\"evenodd\" fill-opacity=\"1\" /><path clip-path=\"url(#clip040)\" d=\"M1620.78 1514.29 L1639.13 1514.29 L1639.13 1518.22 L1625.06 1518.22 L1625.06 1526.7 Q1626.08 1526.35 1627.1 1526.19 Q1628.12 1526 1629.13 1526 Q1634.92 1526 1638.3 1529.17 Q1641.68 1532.34 1641.68 1537.76 Q1641.68 1543.34 1638.21 1546.44 Q1634.74 1549.52 1628.42 1549.52 Q1626.24 1549.52 1623.97 1549.15 Q1621.73 1548.78 1619.32 1548.04 L1619.32 1543.34 Q1621.4 1544.47 1623.62 1545.03 Q1625.85 1545.58 1628.32 1545.58 Q1632.33 1545.58 1634.67 1543.48 Q1637 1541.37 1637 1537.76 Q1637 1534.15 1634.67 1532.04 Q1632.33 1529.94 1628.32 1529.94 Q1626.45 1529.94 1624.57 1530.35 Q1622.72 1530.77 1620.78 1531.65 L1620.78 1514.29 Z\" fill=\"#000000\" fill-rule=\"evenodd\" fill-opacity=\"1\" /><path clip-path=\"url(#clip040)\" d=\"M1916.58 1544.91 L1924.22 1544.91 L1924.22 1518.55 L1915.91 1520.21 L1915.91 1515.95 L1924.17 1514.29 L1928.85 1514.29 L1928.85 1544.91 L1936.48 1544.91 L1936.48 1548.85 L1916.58 1548.85 L1916.58 1544.91 Z\" fill=\"#000000\" fill-rule=\"evenodd\" fill-opacity=\"1\" /><path clip-path=\"url(#clip040)\" d=\"M1945.93 1542.97 L1950.81 1542.97 L1950.81 1548.85 L1945.93 1548.85 L1945.93 1542.97 Z\" fill=\"#000000\" fill-rule=\"evenodd\" fill-opacity=\"1\" /><path clip-path=\"url(#clip040)\" d=\"M1971 1517.37 Q1967.39 1517.37 1965.56 1520.93 Q1963.75 1524.47 1963.75 1531.6 Q1963.75 1538.71 1965.56 1542.27 Q1967.39 1545.82 1971 1545.82 Q1974.63 1545.82 1976.44 1542.27 Q1978.27 1538.71 1978.27 1531.6 Q1978.27 1524.47 1976.44 1520.93 Q1974.63 1517.37 1971 1517.37 M1971 1513.66 Q1976.81 1513.66 1979.86 1518.27 Q1982.94 1522.85 1982.94 1531.6 Q1982.94 1540.33 1979.86 1544.94 Q1976.81 1549.52 1971 1549.52 Q1965.19 1549.52 1962.11 1544.94 Q1959.05 1540.33 1959.05 1531.6 Q1959.05 1522.85 1962.11 1518.27 Q1965.19 1513.66 1971 1513.66 Z\" fill=\"#000000\" fill-rule=\"evenodd\" fill-opacity=\"1\" /><path clip-path=\"url(#clip040)\" d=\"M2258.88 1544.91 L2266.52 1544.91 L2266.52 1518.55 L2258.21 1520.21 L2258.21 1515.95 L2266.47 1514.29 L2271.15 1514.29 L2271.15 1544.91 L2278.79 1544.91 L2278.79 1548.85 L2258.88 1548.85 L2258.88 1544.91 Z\" fill=\"#000000\" fill-rule=\"evenodd\" fill-opacity=\"1\" /><path clip-path=\"url(#clip040)\" d=\"M2288.23 1542.97 L2293.12 1542.97 L2293.12 1548.85 L2288.23 1548.85 L2288.23 1542.97 Z\" fill=\"#000000\" fill-rule=\"evenodd\" fill-opacity=\"1\" /><path clip-path=\"url(#clip040)\" d=\"M2303.35 1514.29 L2321.71 1514.29 L2321.71 1518.22 L2307.63 1518.22 L2307.63 1526.7 Q2308.65 1526.35 2309.67 1526.19 Q2310.69 1526 2311.71 1526 Q2317.49 1526 2320.87 1529.17 Q2324.25 1532.34 2324.25 1537.76 Q2324.25 1543.34 2320.78 1546.44 Q2317.31 1549.52 2310.99 1549.52 Q2308.81 1549.52 2306.54 1549.15 Q2304.3 1548.78 2301.89 1548.04 L2301.89 1543.34 Q2303.97 1544.47 2306.2 1545.03 Q2308.42 1545.58 2310.89 1545.58 Q2314.9 1545.58 2317.24 1543.48 Q2319.58 1541.37 2319.58 1537.76 Q2319.58 1534.15 2317.24 1532.04 Q2314.9 1529.94 2310.89 1529.94 Q2309.02 1529.94 2307.15 1530.35 Q2305.29 1530.77 2303.35 1531.65 L2303.35 1514.29 Z\" fill=\"#000000\" fill-rule=\"evenodd\" fill-opacity=\"1\" /><polyline clip-path=\"url(#clip042)\" style=\"stroke:#000000; stroke-linecap:round; stroke-linejoin:round; stroke-width:2; stroke-opacity:0.1; fill:none\" points=\"178.867,1248.27 2352.76,1248.27 \"/>\n",
       "<polyline clip-path=\"url(#clip042)\" style=\"stroke:#000000; stroke-linecap:round; stroke-linejoin:round; stroke-width:2; stroke-opacity:0.1; fill:none\" points=\"178.867,1007.56 2352.76,1007.56 \"/>\n",
       "<polyline clip-path=\"url(#clip042)\" style=\"stroke:#000000; stroke-linecap:round; stroke-linejoin:round; stroke-width:2; stroke-opacity:0.1; fill:none\" points=\"178.867,766.846 2352.76,766.846 \"/>\n",
       "<polyline clip-path=\"url(#clip042)\" style=\"stroke:#000000; stroke-linecap:round; stroke-linejoin:round; stroke-width:2; stroke-opacity:0.1; fill:none\" points=\"178.867,526.136 2352.76,526.136 \"/>\n",
       "<polyline clip-path=\"url(#clip042)\" style=\"stroke:#000000; stroke-linecap:round; stroke-linejoin:round; stroke-width:2; stroke-opacity:0.1; fill:none\" points=\"178.867,285.427 2352.76,285.427 \"/>\n",
       "<polyline clip-path=\"url(#clip040)\" style=\"stroke:#000000; stroke-linecap:round; stroke-linejoin:round; stroke-width:4; stroke-opacity:1; fill:none\" points=\"178.867,1486.45 178.867,47.2441 \"/>\n",
       "<polyline clip-path=\"url(#clip040)\" style=\"stroke:#000000; stroke-linecap:round; stroke-linejoin:round; stroke-width:4; stroke-opacity:1; fill:none\" points=\"178.867,1248.27 197.764,1248.27 \"/>\n",
       "<polyline clip-path=\"url(#clip040)\" style=\"stroke:#000000; stroke-linecap:round; stroke-linejoin:round; stroke-width:4; stroke-opacity:1; fill:none\" points=\"178.867,1007.56 197.764,1007.56 \"/>\n",
       "<polyline clip-path=\"url(#clip040)\" style=\"stroke:#000000; stroke-linecap:round; stroke-linejoin:round; stroke-width:4; stroke-opacity:1; fill:none\" points=\"178.867,766.846 197.764,766.846 \"/>\n",
       "<polyline clip-path=\"url(#clip040)\" style=\"stroke:#000000; stroke-linecap:round; stroke-linejoin:round; stroke-width:4; stroke-opacity:1; fill:none\" points=\"178.867,526.136 197.764,526.136 \"/>\n",
       "<polyline clip-path=\"url(#clip040)\" style=\"stroke:#000000; stroke-linecap:round; stroke-linejoin:round; stroke-width:4; stroke-opacity:1; fill:none\" points=\"178.867,285.427 197.764,285.427 \"/>\n",
       "<path clip-path=\"url(#clip040)\" d=\"M50.9921 1248.72 L80.6679 1248.72 L80.6679 1252.65 L50.9921 1252.65 L50.9921 1248.72 Z\" fill=\"#000000\" fill-rule=\"evenodd\" fill-opacity=\"1\" /><path clip-path=\"url(#clip040)\" d=\"M91.5706 1261.61 L99.2095 1261.61 L99.2095 1235.24 L90.8993 1236.91 L90.8993 1232.65 L99.1632 1230.99 L103.839 1230.99 L103.839 1261.61 L111.478 1261.61 L111.478 1265.55 L91.5706 1265.55 L91.5706 1261.61 Z\" fill=\"#000000\" fill-rule=\"evenodd\" fill-opacity=\"1\" /><path clip-path=\"url(#clip040)\" d=\"M130.922 1234.06 Q127.311 1234.06 125.482 1237.63 Q123.677 1241.17 123.677 1248.3 Q123.677 1255.41 125.482 1258.97 Q127.311 1262.51 130.922 1262.51 Q134.556 1262.51 136.362 1258.97 Q138.191 1255.41 138.191 1248.3 Q138.191 1241.17 136.362 1237.63 Q134.556 1234.06 130.922 1234.06 M130.922 1230.36 Q136.732 1230.36 139.788 1234.97 Q142.867 1239.55 142.867 1248.3 Q142.867 1257.03 139.788 1261.63 Q136.732 1266.22 130.922 1266.22 Q125.112 1266.22 122.033 1261.63 Q118.978 1257.03 118.978 1248.3 Q118.978 1239.55 122.033 1234.97 Q125.112 1230.36 130.922 1230.36 Z\" fill=\"#000000\" fill-rule=\"evenodd\" fill-opacity=\"1\" /><path clip-path=\"url(#clip040)\" d=\"M82.1494 1008.01 L111.825 1008.01 L111.825 1011.94 L82.1494 1011.94 L82.1494 1008.01 Z\" fill=\"#000000\" fill-rule=\"evenodd\" fill-opacity=\"1\" /><path clip-path=\"url(#clip040)\" d=\"M121.964 990.276 L140.32 990.276 L140.32 994.211 L126.246 994.211 L126.246 1002.68 Q127.265 1002.34 128.283 1002.17 Q129.302 1001.99 130.32 1001.99 Q136.107 1001.99 139.487 1005.16 Q142.867 1008.33 142.867 1013.75 Q142.867 1019.33 139.394 1022.43 Q135.922 1025.51 129.603 1025.51 Q127.427 1025.51 125.158 1025.14 Q122.913 1024.77 120.506 1024.03 L120.506 1019.33 Q122.589 1020.46 124.811 1021.02 Q127.033 1021.57 129.51 1021.57 Q133.515 1021.57 135.853 1019.47 Q138.191 1017.36 138.191 1013.75 Q138.191 1010.14 135.853 1008.03 Q133.515 1005.92 129.51 1005.92 Q127.635 1005.92 125.76 1006.34 Q123.908 1006.76 121.964 1007.64 L121.964 990.276 Z\" fill=\"#000000\" fill-rule=\"evenodd\" fill-opacity=\"1\" /><path clip-path=\"url(#clip040)\" d=\"M130.922 752.645 Q127.311 752.645 125.482 756.209 Q123.677 759.751 123.677 766.881 Q123.677 773.987 125.482 777.552 Q127.311 781.094 130.922 781.094 Q134.556 781.094 136.362 777.552 Q138.191 773.987 138.191 766.881 Q138.191 759.751 136.362 756.209 Q134.556 752.645 130.922 752.645 M130.922 748.941 Q136.732 748.941 139.788 753.547 Q142.867 758.131 142.867 766.881 Q142.867 775.608 139.788 780.214 Q136.732 784.797 130.922 784.797 Q125.112 784.797 122.033 780.214 Q118.978 775.608 118.978 766.881 Q118.978 758.131 122.033 753.547 Q125.112 748.941 130.922 748.941 Z\" fill=\"#000000\" fill-rule=\"evenodd\" fill-opacity=\"1\" /><path clip-path=\"url(#clip040)\" d=\"M121.964 508.856 L140.32 508.856 L140.32 512.791 L126.246 512.791 L126.246 521.264 Q127.265 520.916 128.283 520.754 Q129.302 520.569 130.32 520.569 Q136.107 520.569 139.487 523.74 Q142.867 526.912 142.867 532.328 Q142.867 537.907 139.394 541.009 Q135.922 544.088 129.603 544.088 Q127.427 544.088 125.158 543.717 Q122.913 543.347 120.506 542.606 L120.506 537.907 Q122.589 539.041 124.811 539.597 Q127.033 540.152 129.51 540.152 Q133.515 540.152 135.853 538.046 Q138.191 535.939 138.191 532.328 Q138.191 528.717 135.853 526.611 Q133.515 524.504 129.51 524.504 Q127.635 524.504 125.76 524.921 Q123.908 525.338 121.964 526.217 L121.964 508.856 Z\" fill=\"#000000\" fill-rule=\"evenodd\" fill-opacity=\"1\" /><path clip-path=\"url(#clip040)\" d=\"M91.5706 298.771 L99.2095 298.771 L99.2095 272.406 L90.8993 274.072 L90.8993 269.813 L99.1632 268.147 L103.839 268.147 L103.839 298.771 L111.478 298.771 L111.478 302.707 L91.5706 302.707 L91.5706 298.771 Z\" fill=\"#000000\" fill-rule=\"evenodd\" fill-opacity=\"1\" /><path clip-path=\"url(#clip040)\" d=\"M130.922 271.225 Q127.311 271.225 125.482 274.79 Q123.677 278.332 123.677 285.461 Q123.677 292.568 125.482 296.133 Q127.311 299.674 130.922 299.674 Q134.556 299.674 136.362 296.133 Q138.191 292.568 138.191 285.461 Q138.191 278.332 136.362 274.79 Q134.556 271.225 130.922 271.225 M130.922 267.522 Q136.732 267.522 139.788 272.128 Q142.867 276.711 142.867 285.461 Q142.867 294.188 139.788 298.795 Q136.732 303.378 130.922 303.378 Q125.112 303.378 122.033 298.795 Q118.978 294.188 118.978 285.461 Q118.978 276.711 122.033 272.128 Q125.112 267.522 130.922 267.522 Z\" fill=\"#000000\" fill-rule=\"evenodd\" fill-opacity=\"1\" /><polyline clip-path=\"url(#clip042)\" style=\"stroke:#009af9; stroke-linecap:round; stroke-linejoin:round; stroke-width:4; stroke-opacity:1; fill:none\" points=\"240.392,1445.72 242.061,1423.01 243.73,1401.76 245.399,1381.84 247.068,1363.13 248.737,1345.51 250.406,1328.9 251.24,1320.94 252.075,1313.21 252.909,1305.68 253.744,1298.36 257.602,1266.93 261.46,1238.98 265.318,1213.96 269.176,1191.43 273.034,1171.04 276.892,1152.5 280.751,1135.56 284.609,1120.02 288.467,1105.72 292.325,1092.51 296.183,1080.27 300.041,1068.9 307.757,1048.42 315.474,1030.47 323.19,1014.61 330.906,1000.49 338.622,987.843 346.338,976.439 361.771,956.69 377.203,940.171 386.477,931.476 395.752,923.552 405.026,916.299 414.3,909.632 432.849,897.785 451.397,887.568 482.762,873.121 514.127,861.334 548.198,850.721 582.269,841.805 613.68,834.732 645.091,828.519 712.442,817.364 790.474,807.013 859.821,799.352 920.631,793.455 986.931,787.653 1053.62,782.288 1127.36,776.731 1197.52,771.671 1270.47,766.518 1331.88,762.179 1406.86,756.77 1475.54,751.595 1538.97,746.516 1603.22,740.947 1675.23,733.988 1740.48,726.759 1815.2,716.914 1884.37,705.573 1918.47,698.849 1952.57,691.105 1985.68,682.327 2018.78,671.916 2035.75,665.772 2052.72,658.952 2069.69,651.329 2086.66,642.74 2105.26,631.971 2123.85,619.426 2133.14,612.337 2142.44,604.601 2151.74,596.122 2161.03,586.783 2174.54,571.389 2188.04,553.309 2194.79,543.027 2201.55,531.756 2208.3,519.343 2215.05,505.601 2221.8,490.302 2228.55,473.164 2235.31,453.827 2242.06,431.836 2245.43,419.667 2248.81,406.599 2252.19,392.528 2255.56,377.333 2258.94,360.874 2262.32,342.983 2265.69,323.467 2269.07,302.09 2270.45,292.718 2271.84,282.964 2273.22,272.804 2274.61,262.213 2277.38,239.621 2280.15,214.931 2282.92,187.834 2285.69,157.961 2288.46,124.86 2291.23,87.9763 \"/>\n",
       "<path clip-path=\"url(#clip040)\" d=\"M251.33 198.898 L521.149 198.898 L521.149 95.2176 L251.33 95.2176  Z\" fill=\"#ffffff\" fill-rule=\"evenodd\" fill-opacity=\"1\"/>\n",
       "<polyline clip-path=\"url(#clip040)\" style=\"stroke:#000000; stroke-linecap:round; stroke-linejoin:round; stroke-width:4; stroke-opacity:1; fill:none\" points=\"251.33,198.898 521.149,198.898 521.149,95.2176 251.33,95.2176 251.33,198.898 \"/>\n",
       "<polyline clip-path=\"url(#clip040)\" style=\"stroke:#009af9; stroke-linecap:round; stroke-linejoin:round; stroke-width:4; stroke-opacity:1; fill:none\" points=\"275.484,147.058 420.41,147.058 \"/>\n",
       "<path clip-path=\"url(#clip040)\" d=\"M458.407 166.745 Q456.601 171.375 454.888 172.787 Q453.175 174.199 450.305 174.199 L446.902 174.199 L446.902 170.634 L449.402 170.634 Q451.161 170.634 452.134 169.8 Q453.106 168.967 454.286 165.865 L455.05 163.921 L444.564 138.412 L449.078 138.412 L457.18 158.689 L465.282 138.412 L469.796 138.412 L458.407 166.745 Z\" fill=\"#000000\" fill-rule=\"evenodd\" fill-opacity=\"1\" /><path clip-path=\"url(#clip040)\" d=\"M477.087 160.402 L484.726 160.402 L484.726 134.037 L476.416 135.703 L476.416 131.444 L484.68 129.778 L489.356 129.778 L489.356 160.402 L496.994 160.402 L496.994 164.338 L477.087 164.338 L477.087 160.402 Z\" fill=\"#000000\" fill-rule=\"evenodd\" fill-opacity=\"1\" /></svg>\n"
      ]
     },
     "execution_count": 30,
     "metadata": {},
     "output_type": "execute_result"
    }
   ],
   "source": [
    "plot(tan, -1.5, 1.5)"
   ]
  },
  {
   "cell_type": "markdown",
   "metadata": {},
   "source": [
    "---"
   ]
  },
  {
   "cell_type": "markdown",
   "metadata": {},
   "source": [
    "## Exercise\n",
    "\n",
    "Let \n",
    "\n",
    "$$ y_n = \\int_0^1 \\frac{x^n}{x + 10} dx. $$\n",
    "\n",
    "Show that \n",
    "\n",
    "$$\n",
    "y_n + 10y_{n-1} = \\frac1n\n",
    "$$\n",
    "\n",
    "and that\n",
    "\n",
    "$$\n",
    "y_0 = \\ln(11) - \\ln(10).\n",
    "$$\n",
    "\n",
    "Then use these formulas to numerically compute $y_{30}$."
   ]
  },
  {
   "cell_type": "code",
   "execution_count": 31,
   "metadata": {},
   "outputs": [
    {
     "data": {
      "image/svg+xml": [
       "<?xml version=\"1.0\" encoding=\"utf-8\"?>\n",
       "<svg xmlns=\"http://www.w3.org/2000/svg\" xmlns:xlink=\"http://www.w3.org/1999/xlink\" width=\"600\" height=\"400\" viewBox=\"0 0 2400 1600\">\n",
       "<defs>\n",
       "  <clipPath id=\"clip080\">\n",
       "    <rect x=\"0\" y=\"0\" width=\"2400\" height=\"1600\"/>\n",
       "  </clipPath>\n",
       "</defs>\n",
       "<path clip-path=\"url(#clip080)\" d=\"M0 1600 L2400 1600 L2400 0 L0 0  Z\" fill=\"#ffffff\" fill-rule=\"evenodd\" fill-opacity=\"1\"/>\n",
       "<defs>\n",
       "  <clipPath id=\"clip081\">\n",
       "    <rect x=\"480\" y=\"0\" width=\"1681\" height=\"1600\"/>\n",
       "  </clipPath>\n",
       "</defs>\n",
       "<path clip-path=\"url(#clip080)\" d=\"M186.76 1486.45 L2352.76 1486.45 L2352.76 47.2441 L186.76 47.2441  Z\" fill=\"#ffffff\" fill-rule=\"evenodd\" fill-opacity=\"1\"/>\n",
       "<defs>\n",
       "  <clipPath id=\"clip082\">\n",
       "    <rect x=\"186\" y=\"47\" width=\"2167\" height=\"1440\"/>\n",
       "  </clipPath>\n",
       "</defs>\n",
       "<polyline clip-path=\"url(#clip082)\" style=\"stroke:#000000; stroke-linecap:round; stroke-linejoin:round; stroke-width:2; stroke-opacity:0.1; fill:none\" points=\"248.062,1486.45 248.062,47.2441 \"/>\n",
       "<polyline clip-path=\"url(#clip082)\" style=\"stroke:#000000; stroke-linecap:round; stroke-linejoin:round; stroke-width:2; stroke-opacity:0.1; fill:none\" points=\"758.91,1486.45 758.91,47.2441 \"/>\n",
       "<polyline clip-path=\"url(#clip082)\" style=\"stroke:#000000; stroke-linecap:round; stroke-linejoin:round; stroke-width:2; stroke-opacity:0.1; fill:none\" points=\"1269.76,1486.45 1269.76,47.2441 \"/>\n",
       "<polyline clip-path=\"url(#clip082)\" style=\"stroke:#000000; stroke-linecap:round; stroke-linejoin:round; stroke-width:2; stroke-opacity:0.1; fill:none\" points=\"1780.61,1486.45 1780.61,47.2441 \"/>\n",
       "<polyline clip-path=\"url(#clip082)\" style=\"stroke:#000000; stroke-linecap:round; stroke-linejoin:round; stroke-width:2; stroke-opacity:0.1; fill:none\" points=\"2291.45,1486.45 2291.45,47.2441 \"/>\n",
       "<polyline clip-path=\"url(#clip080)\" style=\"stroke:#000000; stroke-linecap:round; stroke-linejoin:round; stroke-width:4; stroke-opacity:1; fill:none\" points=\"186.76,1486.45 2352.76,1486.45 \"/>\n",
       "<polyline clip-path=\"url(#clip080)\" style=\"stroke:#000000; stroke-linecap:round; stroke-linejoin:round; stroke-width:4; stroke-opacity:1; fill:none\" points=\"248.062,1486.45 248.062,1467.55 \"/>\n",
       "<polyline clip-path=\"url(#clip080)\" style=\"stroke:#000000; stroke-linecap:round; stroke-linejoin:round; stroke-width:4; stroke-opacity:1; fill:none\" points=\"758.91,1486.45 758.91,1467.55 \"/>\n",
       "<polyline clip-path=\"url(#clip080)\" style=\"stroke:#000000; stroke-linecap:round; stroke-linejoin:round; stroke-width:4; stroke-opacity:1; fill:none\" points=\"1269.76,1486.45 1269.76,1467.55 \"/>\n",
       "<polyline clip-path=\"url(#clip080)\" style=\"stroke:#000000; stroke-linecap:round; stroke-linejoin:round; stroke-width:4; stroke-opacity:1; fill:none\" points=\"1780.61,1486.45 1780.61,1467.55 \"/>\n",
       "<polyline clip-path=\"url(#clip080)\" style=\"stroke:#000000; stroke-linecap:round; stroke-linejoin:round; stroke-width:4; stroke-opacity:1; fill:none\" points=\"2291.45,1486.45 2291.45,1467.55 \"/>\n",
       "<path clip-path=\"url(#clip080)\" d=\"M210.365 1517.37 Q206.754 1517.37 204.926 1520.93 Q203.12 1524.47 203.12 1531.6 Q203.12 1538.71 204.926 1542.27 Q206.754 1545.82 210.365 1545.82 Q214 1545.82 215.805 1542.27 Q217.634 1538.71 217.634 1531.6 Q217.634 1524.47 215.805 1520.93 Q214 1517.37 210.365 1517.37 M210.365 1513.66 Q216.175 1513.66 219.231 1518.27 Q222.31 1522.85 222.31 1531.6 Q222.31 1540.33 219.231 1544.94 Q216.175 1549.52 210.365 1549.52 Q204.555 1549.52 201.476 1544.94 Q198.421 1540.33 198.421 1531.6 Q198.421 1522.85 201.476 1518.27 Q204.555 1513.66 210.365 1513.66 Z\" fill=\"#000000\" fill-rule=\"evenodd\" fill-opacity=\"1\" /><path clip-path=\"url(#clip080)\" d=\"M230.527 1542.97 L235.411 1542.97 L235.411 1548.85 L230.527 1548.85 L230.527 1542.97 Z\" fill=\"#000000\" fill-rule=\"evenodd\" fill-opacity=\"1\" /><path clip-path=\"url(#clip080)\" d=\"M255.597 1517.37 Q251.985 1517.37 250.157 1520.93 Q248.351 1524.47 248.351 1531.6 Q248.351 1538.71 250.157 1542.27 Q251.985 1545.82 255.597 1545.82 Q259.231 1545.82 261.036 1542.27 Q262.865 1538.71 262.865 1531.6 Q262.865 1524.47 261.036 1520.93 Q259.231 1517.37 255.597 1517.37 M255.597 1513.66 Q261.407 1513.66 264.462 1518.27 Q267.541 1522.85 267.541 1531.6 Q267.541 1540.33 264.462 1544.94 Q261.407 1549.52 255.597 1549.52 Q249.786 1549.52 246.708 1544.94 Q243.652 1540.33 243.652 1531.6 Q243.652 1522.85 246.708 1518.27 Q249.786 1513.66 255.597 1513.66 Z\" fill=\"#000000\" fill-rule=\"evenodd\" fill-opacity=\"1\" /><path clip-path=\"url(#clip080)\" d=\"M285.758 1517.37 Q282.147 1517.37 280.319 1520.93 Q278.513 1524.47 278.513 1531.6 Q278.513 1538.71 280.319 1542.27 Q282.147 1545.82 285.758 1545.82 Q289.393 1545.82 291.198 1542.27 Q293.027 1538.71 293.027 1531.6 Q293.027 1524.47 291.198 1520.93 Q289.393 1517.37 285.758 1517.37 M285.758 1513.66 Q291.569 1513.66 294.624 1518.27 Q297.703 1522.85 297.703 1531.6 Q297.703 1540.33 294.624 1544.94 Q291.569 1549.52 285.758 1549.52 Q279.948 1549.52 276.87 1544.94 Q273.814 1540.33 273.814 1531.6 Q273.814 1522.85 276.87 1518.27 Q279.948 1513.66 285.758 1513.66 Z\" fill=\"#000000\" fill-rule=\"evenodd\" fill-opacity=\"1\" /><path clip-path=\"url(#clip080)\" d=\"M721.711 1517.37 Q718.1 1517.37 716.271 1520.93 Q714.466 1524.47 714.466 1531.6 Q714.466 1538.71 716.271 1542.27 Q718.1 1545.82 721.711 1545.82 Q725.345 1545.82 727.151 1542.27 Q728.98 1538.71 728.98 1531.6 Q728.98 1524.47 727.151 1520.93 Q725.345 1517.37 721.711 1517.37 M721.711 1513.66 Q727.521 1513.66 730.577 1518.27 Q733.655 1522.85 733.655 1531.6 Q733.655 1540.33 730.577 1544.94 Q727.521 1549.52 721.711 1549.52 Q715.901 1549.52 712.822 1544.94 Q709.767 1540.33 709.767 1531.6 Q709.767 1522.85 712.822 1518.27 Q715.901 1513.66 721.711 1513.66 Z\" fill=\"#000000\" fill-rule=\"evenodd\" fill-opacity=\"1\" /><path clip-path=\"url(#clip080)\" d=\"M741.873 1542.97 L746.757 1542.97 L746.757 1548.85 L741.873 1548.85 L741.873 1542.97 Z\" fill=\"#000000\" fill-rule=\"evenodd\" fill-opacity=\"1\" /><path clip-path=\"url(#clip080)\" d=\"M760.97 1544.91 L777.289 1544.91 L777.289 1548.85 L755.345 1548.85 L755.345 1544.91 Q758.007 1542.16 762.59 1537.53 Q767.197 1532.88 768.377 1531.53 Q770.623 1529.01 771.502 1527.27 Q772.405 1525.51 772.405 1523.82 Q772.405 1521.07 770.461 1519.33 Q768.54 1517.6 765.438 1517.6 Q763.239 1517.6 760.785 1518.36 Q758.354 1519.13 755.577 1520.68 L755.577 1515.95 Q758.401 1514.82 760.854 1514.24 Q763.308 1513.66 765.345 1513.66 Q770.715 1513.66 773.91 1516.35 Q777.104 1519.03 777.104 1523.52 Q777.104 1525.65 776.294 1527.57 Q775.507 1529.47 773.401 1532.07 Q772.822 1532.74 769.72 1535.95 Q766.618 1539.15 760.97 1544.91 Z\" fill=\"#000000\" fill-rule=\"evenodd\" fill-opacity=\"1\" /><path clip-path=\"url(#clip080)\" d=\"M787.151 1514.29 L805.507 1514.29 L805.507 1518.22 L791.433 1518.22 L791.433 1526.7 Q792.451 1526.35 793.47 1526.19 Q794.488 1526 795.507 1526 Q801.294 1526 804.674 1529.17 Q808.053 1532.34 808.053 1537.76 Q808.053 1543.34 804.581 1546.44 Q801.109 1549.52 794.789 1549.52 Q792.613 1549.52 790.345 1549.15 Q788.1 1548.78 785.692 1548.04 L785.692 1543.34 Q787.776 1544.47 789.998 1545.03 Q792.22 1545.58 794.697 1545.58 Q798.701 1545.58 801.039 1543.48 Q803.377 1541.37 803.377 1537.76 Q803.377 1534.15 801.039 1532.04 Q798.701 1529.94 794.697 1529.94 Q792.822 1529.94 790.947 1530.35 Q789.095 1530.77 787.151 1531.65 L787.151 1514.29 Z\" fill=\"#000000\" fill-rule=\"evenodd\" fill-opacity=\"1\" /><path clip-path=\"url(#clip080)\" d=\"M1232.06 1517.37 Q1228.45 1517.37 1226.62 1520.93 Q1224.82 1524.47 1224.82 1531.6 Q1224.82 1538.71 1226.62 1542.27 Q1228.45 1545.82 1232.06 1545.82 Q1235.7 1545.82 1237.5 1542.27 Q1239.33 1538.71 1239.33 1531.6 Q1239.33 1524.47 1237.5 1520.93 Q1235.7 1517.37 1232.06 1517.37 M1232.06 1513.66 Q1237.87 1513.66 1240.93 1518.27 Q1244.01 1522.85 1244.01 1531.6 Q1244.01 1540.33 1240.93 1544.94 Q1237.87 1549.52 1232.06 1549.52 Q1226.25 1549.52 1223.17 1544.94 Q1220.12 1540.33 1220.12 1531.6 Q1220.12 1522.85 1223.17 1518.27 Q1226.25 1513.66 1232.06 1513.66 Z\" fill=\"#000000\" fill-rule=\"evenodd\" fill-opacity=\"1\" /><path clip-path=\"url(#clip080)\" d=\"M1252.22 1542.97 L1257.11 1542.97 L1257.11 1548.85 L1252.22 1548.85 L1252.22 1542.97 Z\" fill=\"#000000\" fill-rule=\"evenodd\" fill-opacity=\"1\" /><path clip-path=\"url(#clip080)\" d=\"M1267.34 1514.29 L1285.7 1514.29 L1285.7 1518.22 L1271.62 1518.22 L1271.62 1526.7 Q1272.64 1526.35 1273.66 1526.19 Q1274.68 1526 1275.7 1526 Q1281.48 1526 1284.86 1529.17 Q1288.24 1532.34 1288.24 1537.76 Q1288.24 1543.34 1284.77 1546.44 Q1281.3 1549.52 1274.98 1549.52 Q1272.8 1549.52 1270.53 1549.15 Q1268.29 1548.78 1265.88 1548.04 L1265.88 1543.34 Q1267.96 1544.47 1270.19 1545.03 Q1272.41 1545.58 1274.89 1545.58 Q1278.89 1545.58 1281.23 1543.48 Q1283.57 1541.37 1283.57 1537.76 Q1283.57 1534.15 1281.23 1532.04 Q1278.89 1529.94 1274.89 1529.94 Q1273.01 1529.94 1271.14 1530.35 Q1269.28 1530.77 1267.34 1531.65 L1267.34 1514.29 Z\" fill=\"#000000\" fill-rule=\"evenodd\" fill-opacity=\"1\" /><path clip-path=\"url(#clip080)\" d=\"M1307.45 1517.37 Q1303.84 1517.37 1302.01 1520.93 Q1300.21 1524.47 1300.21 1531.6 Q1300.21 1538.71 1302.01 1542.27 Q1303.84 1545.82 1307.45 1545.82 Q1311.09 1545.82 1312.89 1542.27 Q1314.72 1538.71 1314.72 1531.6 Q1314.72 1524.47 1312.89 1520.93 Q1311.09 1517.37 1307.45 1517.37 M1307.45 1513.66 Q1313.26 1513.66 1316.32 1518.27 Q1319.4 1522.85 1319.4 1531.6 Q1319.4 1540.33 1316.32 1544.94 Q1313.26 1549.52 1307.45 1549.52 Q1301.64 1549.52 1298.57 1544.94 Q1295.51 1540.33 1295.51 1531.6 Q1295.51 1522.85 1298.57 1518.27 Q1301.64 1513.66 1307.45 1513.66 Z\" fill=\"#000000\" fill-rule=\"evenodd\" fill-opacity=\"1\" /><path clip-path=\"url(#clip080)\" d=\"M1743.41 1517.37 Q1739.8 1517.37 1737.97 1520.93 Q1736.16 1524.47 1736.16 1531.6 Q1736.16 1538.71 1737.97 1542.27 Q1739.8 1545.82 1743.41 1545.82 Q1747.04 1545.82 1748.85 1542.27 Q1750.68 1538.71 1750.68 1531.6 Q1750.68 1524.47 1748.85 1520.93 Q1747.04 1517.37 1743.41 1517.37 M1743.41 1513.66 Q1749.22 1513.66 1752.27 1518.27 Q1755.35 1522.85 1755.35 1531.6 Q1755.35 1540.33 1752.27 1544.94 Q1749.22 1549.52 1743.41 1549.52 Q1737.6 1549.52 1734.52 1544.94 Q1731.46 1540.33 1731.46 1531.6 Q1731.46 1522.85 1734.52 1518.27 Q1737.6 1513.66 1743.41 1513.66 Z\" fill=\"#000000\" fill-rule=\"evenodd\" fill-opacity=\"1\" /><path clip-path=\"url(#clip080)\" d=\"M1763.57 1542.97 L1768.45 1542.97 L1768.45 1548.85 L1763.57 1548.85 L1763.57 1542.97 Z\" fill=\"#000000\" fill-rule=\"evenodd\" fill-opacity=\"1\" /><path clip-path=\"url(#clip080)\" d=\"M1777.46 1514.29 L1799.68 1514.29 L1799.68 1516.28 L1787.13 1548.85 L1782.25 1548.85 L1794.06 1518.22 L1777.46 1518.22 L1777.46 1514.29 Z\" fill=\"#000000\" fill-rule=\"evenodd\" fill-opacity=\"1\" /><path clip-path=\"url(#clip080)\" d=\"M1808.85 1514.29 L1827.2 1514.29 L1827.2 1518.22 L1813.13 1518.22 L1813.13 1526.7 Q1814.15 1526.35 1815.17 1526.19 Q1816.18 1526 1817.2 1526 Q1822.99 1526 1826.37 1529.17 Q1829.75 1532.34 1829.75 1537.76 Q1829.75 1543.34 1826.28 1546.44 Q1822.8 1549.52 1816.49 1549.52 Q1814.31 1549.52 1812.04 1549.15 Q1809.8 1548.78 1807.39 1548.04 L1807.39 1543.34 Q1809.47 1544.47 1811.69 1545.03 Q1813.92 1545.58 1816.39 1545.58 Q1820.4 1545.58 1822.74 1543.48 Q1825.07 1541.37 1825.07 1537.76 Q1825.07 1534.15 1822.74 1532.04 Q1820.4 1529.94 1816.39 1529.94 Q1814.52 1529.94 1812.64 1530.35 Q1810.79 1530.77 1808.85 1531.65 L1808.85 1514.29 Z\" fill=\"#000000\" fill-rule=\"evenodd\" fill-opacity=\"1\" /><path clip-path=\"url(#clip080)\" d=\"M2243.53 1544.91 L2251.17 1544.91 L2251.17 1518.55 L2242.85 1520.21 L2242.85 1515.95 L2251.12 1514.29 L2255.79 1514.29 L2255.79 1544.91 L2263.43 1544.91 L2263.43 1548.85 L2243.53 1548.85 L2243.53 1544.91 Z\" fill=\"#000000\" fill-rule=\"evenodd\" fill-opacity=\"1\" /><path clip-path=\"url(#clip080)\" d=\"M2272.88 1542.97 L2277.76 1542.97 L2277.76 1548.85 L2272.88 1548.85 L2272.88 1542.97 Z\" fill=\"#000000\" fill-rule=\"evenodd\" fill-opacity=\"1\" /><path clip-path=\"url(#clip080)\" d=\"M2297.95 1517.37 Q2294.34 1517.37 2292.51 1520.93 Q2290.7 1524.47 2290.7 1531.6 Q2290.7 1538.71 2292.51 1542.27 Q2294.34 1545.82 2297.95 1545.82 Q2301.58 1545.82 2303.39 1542.27 Q2305.22 1538.71 2305.22 1531.6 Q2305.22 1524.47 2303.39 1520.93 Q2301.58 1517.37 2297.95 1517.37 M2297.95 1513.66 Q2303.76 1513.66 2306.81 1518.27 Q2309.89 1522.85 2309.89 1531.6 Q2309.89 1540.33 2306.81 1544.94 Q2303.76 1549.52 2297.95 1549.52 Q2292.14 1549.52 2289.06 1544.94 Q2286 1540.33 2286 1531.6 Q2286 1522.85 2289.06 1518.27 Q2292.14 1513.66 2297.95 1513.66 Z\" fill=\"#000000\" fill-rule=\"evenodd\" fill-opacity=\"1\" /><path clip-path=\"url(#clip080)\" d=\"M2328.11 1517.37 Q2324.5 1517.37 2322.67 1520.93 Q2320.86 1524.47 2320.86 1531.6 Q2320.86 1538.71 2322.67 1542.27 Q2324.5 1545.82 2328.11 1545.82 Q2331.74 1545.82 2333.55 1542.27 Q2335.38 1538.71 2335.38 1531.6 Q2335.38 1524.47 2333.55 1520.93 Q2331.74 1517.37 2328.11 1517.37 M2328.11 1513.66 Q2333.92 1513.66 2336.97 1518.27 Q2340.05 1522.85 2340.05 1531.6 Q2340.05 1540.33 2336.97 1544.94 Q2333.92 1549.52 2328.11 1549.52 Q2322.3 1549.52 2319.22 1544.94 Q2316.16 1540.33 2316.16 1531.6 Q2316.16 1522.85 2319.22 1518.27 Q2322.3 1513.66 2328.11 1513.66 Z\" fill=\"#000000\" fill-rule=\"evenodd\" fill-opacity=\"1\" /><polyline clip-path=\"url(#clip082)\" style=\"stroke:#000000; stroke-linecap:round; stroke-linejoin:round; stroke-width:2; stroke-opacity:0.1; fill:none\" points=\"186.76,1445.72 2352.76,1445.72 \"/>\n",
       "<polyline clip-path=\"url(#clip082)\" style=\"stroke:#000000; stroke-linecap:round; stroke-linejoin:round; stroke-width:2; stroke-opacity:0.1; fill:none\" points=\"186.76,1147.01 2352.76,1147.01 \"/>\n",
       "<polyline clip-path=\"url(#clip082)\" style=\"stroke:#000000; stroke-linecap:round; stroke-linejoin:round; stroke-width:2; stroke-opacity:0.1; fill:none\" points=\"186.76,848.31 2352.76,848.31 \"/>\n",
       "<polyline clip-path=\"url(#clip082)\" style=\"stroke:#000000; stroke-linecap:round; stroke-linejoin:round; stroke-width:2; stroke-opacity:0.1; fill:none\" points=\"186.76,549.608 2352.76,549.608 \"/>\n",
       "<polyline clip-path=\"url(#clip082)\" style=\"stroke:#000000; stroke-linecap:round; stroke-linejoin:round; stroke-width:2; stroke-opacity:0.1; fill:none\" points=\"186.76,250.905 2352.76,250.905 \"/>\n",
       "<polyline clip-path=\"url(#clip080)\" style=\"stroke:#000000; stroke-linecap:round; stroke-linejoin:round; stroke-width:4; stroke-opacity:1; fill:none\" points=\"186.76,1486.45 186.76,47.2441 \"/>\n",
       "<polyline clip-path=\"url(#clip080)\" style=\"stroke:#000000; stroke-linecap:round; stroke-linejoin:round; stroke-width:4; stroke-opacity:1; fill:none\" points=\"186.76,1445.72 205.658,1445.72 \"/>\n",
       "<polyline clip-path=\"url(#clip080)\" style=\"stroke:#000000; stroke-linecap:round; stroke-linejoin:round; stroke-width:4; stroke-opacity:1; fill:none\" points=\"186.76,1147.01 205.658,1147.01 \"/>\n",
       "<polyline clip-path=\"url(#clip080)\" style=\"stroke:#000000; stroke-linecap:round; stroke-linejoin:round; stroke-width:4; stroke-opacity:1; fill:none\" points=\"186.76,848.31 205.658,848.31 \"/>\n",
       "<polyline clip-path=\"url(#clip080)\" style=\"stroke:#000000; stroke-linecap:round; stroke-linejoin:round; stroke-width:4; stroke-opacity:1; fill:none\" points=\"186.76,549.608 205.658,549.608 \"/>\n",
       "<polyline clip-path=\"url(#clip080)\" style=\"stroke:#000000; stroke-linecap:round; stroke-linejoin:round; stroke-width:4; stroke-opacity:1; fill:none\" points=\"186.76,250.905 205.658,250.905 \"/>\n",
       "<path clip-path=\"url(#clip080)\" d=\"M63.4226 1431.51 Q59.8115 1431.51 57.9828 1435.08 Q56.1773 1438.62 56.1773 1445.75 Q56.1773 1452.86 57.9828 1456.42 Q59.8115 1459.96 63.4226 1459.96 Q67.0569 1459.96 68.8624 1456.42 Q70.6911 1452.86 70.6911 1445.75 Q70.6911 1438.62 68.8624 1435.08 Q67.0569 1431.51 63.4226 1431.51 M63.4226 1427.81 Q69.2328 1427.81 72.2883 1432.42 Q75.367 1437 75.367 1445.75 Q75.367 1454.48 72.2883 1459.08 Q69.2328 1463.67 63.4226 1463.67 Q57.6125 1463.67 54.5338 1459.08 Q51.4782 1454.48 51.4782 1445.75 Q51.4782 1437 54.5338 1432.42 Q57.6125 1427.81 63.4226 1427.81 Z\" fill=\"#000000\" fill-rule=\"evenodd\" fill-opacity=\"1\" /><path clip-path=\"url(#clip080)\" d=\"M83.5845 1457.12 L88.4688 1457.12 L88.4688 1463 L83.5845 1463 L83.5845 1457.12 Z\" fill=\"#000000\" fill-rule=\"evenodd\" fill-opacity=\"1\" /><path clip-path=\"url(#clip080)\" d=\"M108.654 1431.51 Q105.043 1431.51 103.214 1435.08 Q101.409 1438.62 101.409 1445.75 Q101.409 1452.86 103.214 1456.42 Q105.043 1459.96 108.654 1459.96 Q112.288 1459.96 114.094 1456.42 Q115.922 1452.86 115.922 1445.75 Q115.922 1438.62 114.094 1435.08 Q112.288 1431.51 108.654 1431.51 M108.654 1427.81 Q114.464 1427.81 117.52 1432.42 Q120.598 1437 120.598 1445.75 Q120.598 1454.48 117.52 1459.08 Q114.464 1463.67 108.654 1463.67 Q102.844 1463.67 99.765 1459.08 Q96.7095 1454.48 96.7095 1445.75 Q96.7095 1437 99.765 1432.42 Q102.844 1427.81 108.654 1427.81 Z\" fill=\"#000000\" fill-rule=\"evenodd\" fill-opacity=\"1\" /><path clip-path=\"url(#clip080)\" d=\"M138.816 1431.51 Q135.205 1431.51 133.376 1435.08 Q131.57 1438.62 131.57 1445.75 Q131.57 1452.86 133.376 1456.42 Q135.205 1459.96 138.816 1459.96 Q142.45 1459.96 144.256 1456.42 Q146.084 1452.86 146.084 1445.75 Q146.084 1438.62 144.256 1435.08 Q142.45 1431.51 138.816 1431.51 M138.816 1427.81 Q144.626 1427.81 147.681 1432.42 Q150.76 1437 150.76 1445.75 Q150.76 1454.48 147.681 1459.08 Q144.626 1463.67 138.816 1463.67 Q133.006 1463.67 129.927 1459.08 Q126.871 1454.48 126.871 1445.75 Q126.871 1437 129.927 1432.42 Q133.006 1427.81 138.816 1427.81 Z\" fill=\"#000000\" fill-rule=\"evenodd\" fill-opacity=\"1\" /><path clip-path=\"url(#clip080)\" d=\"M65.0198 1132.81 Q61.4087 1132.81 59.58 1136.38 Q57.7745 1139.92 57.7745 1147.05 Q57.7745 1154.15 59.58 1157.72 Q61.4087 1161.26 65.0198 1161.26 Q68.6541 1161.26 70.4596 1157.72 Q72.2883 1154.15 72.2883 1147.05 Q72.2883 1139.92 70.4596 1136.38 Q68.6541 1132.81 65.0198 1132.81 M65.0198 1129.11 Q70.83 1129.11 73.8855 1133.71 Q76.9642 1138.3 76.9642 1147.05 Q76.9642 1155.77 73.8855 1160.38 Q70.83 1164.96 65.0198 1164.96 Q59.2097 1164.96 56.131 1160.38 Q53.0754 1155.77 53.0754 1147.05 Q53.0754 1138.3 56.131 1133.71 Q59.2097 1129.11 65.0198 1129.11 Z\" fill=\"#000000\" fill-rule=\"evenodd\" fill-opacity=\"1\" /><path clip-path=\"url(#clip080)\" d=\"M85.1818 1158.41 L90.066 1158.41 L90.066 1164.29 L85.1818 1164.29 L85.1818 1158.41 Z\" fill=\"#000000\" fill-rule=\"evenodd\" fill-opacity=\"1\" /><path clip-path=\"url(#clip080)\" d=\"M110.251 1132.81 Q106.64 1132.81 104.811 1136.38 Q103.006 1139.92 103.006 1147.05 Q103.006 1154.15 104.811 1157.72 Q106.64 1161.26 110.251 1161.26 Q113.885 1161.26 115.691 1157.72 Q117.52 1154.15 117.52 1147.05 Q117.52 1139.92 115.691 1136.38 Q113.885 1132.81 110.251 1132.81 M110.251 1129.11 Q116.061 1129.11 119.117 1133.71 Q122.195 1138.3 122.195 1147.05 Q122.195 1155.77 119.117 1160.38 Q116.061 1164.96 110.251 1164.96 Q104.441 1164.96 101.362 1160.38 Q98.3067 1155.77 98.3067 1147.05 Q98.3067 1138.3 101.362 1133.71 Q104.441 1129.11 110.251 1129.11 Z\" fill=\"#000000\" fill-rule=\"evenodd\" fill-opacity=\"1\" /><path clip-path=\"url(#clip080)\" d=\"M134.441 1160.36 L150.76 1160.36 L150.76 1164.29 L128.816 1164.29 L128.816 1160.36 Q131.478 1157.6 136.061 1152.97 Q140.668 1148.32 141.848 1146.98 Q144.093 1144.46 144.973 1142.72 Q145.876 1140.96 145.876 1139.27 Q145.876 1136.52 143.931 1134.78 Q142.01 1133.04 138.908 1133.04 Q136.709 1133.04 134.256 1133.81 Q131.825 1134.57 129.047 1136.12 L129.047 1131.4 Q131.871 1130.27 134.325 1129.69 Q136.779 1129.11 138.816 1129.11 Q144.186 1129.11 147.38 1131.79 Q150.575 1134.48 150.575 1138.97 Q150.575 1141.1 149.765 1143.02 Q148.978 1144.92 146.871 1147.51 Q146.293 1148.18 143.191 1151.4 Q140.089 1154.59 134.441 1160.36 Z\" fill=\"#000000\" fill-rule=\"evenodd\" fill-opacity=\"1\" /><path clip-path=\"url(#clip080)\" d=\"M62.9365 834.109 Q59.3254 834.109 57.4967 837.674 Q55.6912 841.215 55.6912 848.345 Q55.6912 855.452 57.4967 859.016 Q59.3254 862.558 62.9365 862.558 Q66.5707 862.558 68.3763 859.016 Q70.205 855.452 70.205 848.345 Q70.205 841.215 68.3763 837.674 Q66.5707 834.109 62.9365 834.109 M62.9365 830.405 Q68.7467 830.405 71.8022 835.012 Q74.8809 839.595 74.8809 848.345 Q74.8809 857.072 71.8022 861.678 Q68.7467 866.262 62.9365 866.262 Q57.1264 866.262 54.0477 861.678 Q50.9921 857.072 50.9921 848.345 Q50.9921 839.595 54.0477 835.012 Q57.1264 830.405 62.9365 830.405 Z\" fill=\"#000000\" fill-rule=\"evenodd\" fill-opacity=\"1\" /><path clip-path=\"url(#clip080)\" d=\"M83.0984 859.711 L87.9827 859.711 L87.9827 865.59 L83.0984 865.59 L83.0984 859.711 Z\" fill=\"#000000\" fill-rule=\"evenodd\" fill-opacity=\"1\" /><path clip-path=\"url(#clip080)\" d=\"M108.168 834.109 Q104.557 834.109 102.728 837.674 Q100.922 841.215 100.922 848.345 Q100.922 855.452 102.728 859.016 Q104.557 862.558 108.168 862.558 Q111.802 862.558 113.608 859.016 Q115.436 855.452 115.436 848.345 Q115.436 841.215 113.608 837.674 Q111.802 834.109 108.168 834.109 M108.168 830.405 Q113.978 830.405 117.033 835.012 Q120.112 839.595 120.112 848.345 Q120.112 857.072 117.033 861.678 Q113.978 866.262 108.168 866.262 Q102.358 866.262 99.2789 861.678 Q96.2234 857.072 96.2234 848.345 Q96.2234 839.595 99.2789 835.012 Q102.358 830.405 108.168 830.405 Z\" fill=\"#000000\" fill-rule=\"evenodd\" fill-opacity=\"1\" /><path clip-path=\"url(#clip080)\" d=\"M141.177 835.104 L129.371 853.553 L141.177 853.553 L141.177 835.104 M139.95 831.03 L145.83 831.03 L145.83 853.553 L150.76 853.553 L150.76 857.442 L145.83 857.442 L145.83 865.59 L141.177 865.59 L141.177 857.442 L125.575 857.442 L125.575 852.928 L139.95 831.03 Z\" fill=\"#000000\" fill-rule=\"evenodd\" fill-opacity=\"1\" /><path clip-path=\"url(#clip080)\" d=\"M63.2606 535.406 Q59.6495 535.406 57.8208 538.971 Q56.0152 542.513 56.0152 549.642 Q56.0152 556.749 57.8208 560.314 Q59.6495 563.855 63.2606 563.855 Q66.8948 563.855 68.7004 560.314 Q70.5291 556.749 70.5291 549.642 Q70.5291 542.513 68.7004 538.971 Q66.8948 535.406 63.2606 535.406 M63.2606 531.703 Q69.0707 531.703 72.1263 536.309 Q75.205 540.892 75.205 549.642 Q75.205 558.369 72.1263 562.976 Q69.0707 567.559 63.2606 567.559 Q57.4504 567.559 54.3717 562.976 Q51.3162 558.369 51.3162 549.642 Q51.3162 540.892 54.3717 536.309 Q57.4504 531.703 63.2606 531.703 Z\" fill=\"#000000\" fill-rule=\"evenodd\" fill-opacity=\"1\" /><path clip-path=\"url(#clip080)\" d=\"M83.4225 561.008 L88.3067 561.008 L88.3067 566.888 L83.4225 566.888 L83.4225 561.008 Z\" fill=\"#000000\" fill-rule=\"evenodd\" fill-opacity=\"1\" /><path clip-path=\"url(#clip080)\" d=\"M108.492 535.406 Q104.881 535.406 103.052 538.971 Q101.246 542.513 101.246 549.642 Q101.246 556.749 103.052 560.314 Q104.881 563.855 108.492 563.855 Q112.126 563.855 113.932 560.314 Q115.76 556.749 115.76 549.642 Q115.76 542.513 113.932 538.971 Q112.126 535.406 108.492 535.406 M108.492 531.703 Q114.302 531.703 117.358 536.309 Q120.436 540.892 120.436 549.642 Q120.436 558.369 117.358 562.976 Q114.302 567.559 108.492 567.559 Q102.682 567.559 99.603 562.976 Q96.5474 558.369 96.5474 549.642 Q96.5474 540.892 99.603 536.309 Q102.682 531.703 108.492 531.703 Z\" fill=\"#000000\" fill-rule=\"evenodd\" fill-opacity=\"1\" /><path clip-path=\"url(#clip080)\" d=\"M139.232 547.744 Q136.084 547.744 134.232 549.897 Q132.404 552.05 132.404 555.8 Q132.404 559.527 134.232 561.703 Q136.084 563.855 139.232 563.855 Q142.381 563.855 144.209 561.703 Q146.061 559.527 146.061 555.8 Q146.061 552.05 144.209 549.897 Q142.381 547.744 139.232 547.744 M148.515 533.092 L148.515 537.351 Q146.756 536.517 144.95 536.078 Q143.168 535.638 141.408 535.638 Q136.779 535.638 134.325 538.763 Q131.894 541.888 131.547 548.207 Q132.913 546.193 134.973 545.129 Q137.033 544.041 139.51 544.041 Q144.718 544.041 147.728 547.212 Q150.76 550.36 150.76 555.8 Q150.76 561.124 147.612 564.341 Q144.464 567.559 139.232 567.559 Q133.237 567.559 130.066 562.976 Q126.894 558.369 126.894 549.642 Q126.894 541.448 130.783 536.587 Q134.672 531.703 141.223 531.703 Q142.982 531.703 144.765 532.05 Q146.57 532.397 148.515 533.092 Z\" fill=\"#000000\" fill-rule=\"evenodd\" fill-opacity=\"1\" /><path clip-path=\"url(#clip080)\" d=\"M63.5152 236.704 Q59.9041 236.704 58.0754 240.268 Q56.2699 243.81 56.2699 250.94 Q56.2699 258.046 58.0754 261.611 Q59.9041 265.153 63.5152 265.153 Q67.1494 265.153 68.955 261.611 Q70.7837 258.046 70.7837 250.94 Q70.7837 243.81 68.955 240.268 Q67.1494 236.704 63.5152 236.704 M63.5152 233 Q69.3254 233 72.3809 237.606 Q75.4596 242.19 75.4596 250.94 Q75.4596 259.667 72.3809 264.273 Q69.3254 268.856 63.5152 268.856 Q57.7051 268.856 54.6264 264.273 Q51.5708 259.667 51.5708 250.94 Q51.5708 242.19 54.6264 237.606 Q57.7051 233 63.5152 233 Z\" fill=\"#000000\" fill-rule=\"evenodd\" fill-opacity=\"1\" /><path clip-path=\"url(#clip080)\" d=\"M83.6771 262.305 L88.5614 262.305 L88.5614 268.185 L83.6771 268.185 L83.6771 262.305 Z\" fill=\"#000000\" fill-rule=\"evenodd\" fill-opacity=\"1\" /><path clip-path=\"url(#clip080)\" d=\"M108.746 236.704 Q105.135 236.704 103.307 240.268 Q101.501 243.81 101.501 250.94 Q101.501 258.046 103.307 261.611 Q105.135 265.153 108.746 265.153 Q112.381 265.153 114.186 261.611 Q116.015 258.046 116.015 250.94 Q116.015 243.81 114.186 240.268 Q112.381 236.704 108.746 236.704 M108.746 233 Q114.557 233 117.612 237.606 Q120.691 242.19 120.691 250.94 Q120.691 259.667 117.612 264.273 Q114.557 268.856 108.746 268.856 Q102.936 268.856 99.8576 264.273 Q96.8021 259.667 96.8021 250.94 Q96.8021 242.19 99.8576 237.606 Q102.936 233 108.746 233 Z\" fill=\"#000000\" fill-rule=\"evenodd\" fill-opacity=\"1\" /><path clip-path=\"url(#clip080)\" d=\"M138.908 251.773 Q135.575 251.773 133.654 253.555 Q131.756 255.338 131.756 258.463 Q131.756 261.588 133.654 263.37 Q135.575 265.153 138.908 265.153 Q142.242 265.153 144.163 263.37 Q146.084 261.565 146.084 258.463 Q146.084 255.338 144.163 253.555 Q142.265 251.773 138.908 251.773 M134.232 249.782 Q131.223 249.042 129.533 246.981 Q127.867 244.921 127.867 241.958 Q127.867 237.815 130.807 235.407 Q133.769 233 138.908 233 Q144.07 233 147.01 235.407 Q149.95 237.815 149.95 241.958 Q149.95 244.921 148.26 246.981 Q146.593 249.042 143.607 249.782 Q146.987 250.569 148.862 252.861 Q150.76 255.153 150.76 258.463 Q150.76 263.486 147.681 266.171 Q144.626 268.856 138.908 268.856 Q133.191 268.856 130.112 266.171 Q127.057 263.486 127.057 258.463 Q127.057 255.153 128.955 252.861 Q130.853 250.569 134.232 249.782 M132.519 242.398 Q132.519 245.083 134.186 246.588 Q135.876 248.093 138.908 248.093 Q141.918 248.093 143.607 246.588 Q145.32 245.083 145.32 242.398 Q145.32 239.713 143.607 238.208 Q141.918 236.704 138.908 236.704 Q135.876 236.704 134.186 238.208 Q132.519 239.713 132.519 242.398 Z\" fill=\"#000000\" fill-rule=\"evenodd\" fill-opacity=\"1\" /><polyline clip-path=\"url(#clip082)\" style=\"stroke:#009af9; stroke-linecap:round; stroke-linejoin:round; stroke-width:4; stroke-opacity:1; fill:none\" points=\"248.062,1445.72 261.365,1445.72 384.376,1445.72 458.301,1445.72 520.803,1445.72 588.698,1445.72 651.291,1445.72 718.398,1445.72 796.147,1445.72 865.241,1445.72 925.831,1445.72 991.89,1445.72 1058.34,1445.72 1131.81,1445.72 1201.72,1445.72 1274.4,1445.72 1335.59,1445.72 1410.29,1445.72 1478.72,1445.72 1541.92,1445.71 1605.94,1445.71 1677.69,1445.68 1742.71,1445.6 1817.15,1445.21 1886.07,1443.9 1920.05,1442.35 1954.02,1439.58 1970.52,1437.53 1987.01,1434.83 2003.5,1431.28 2020,1426.62 2036.91,1420.34 2053.81,1412.09 2062.27,1407.05 2070.72,1401.28 2079.18,1394.68 2087.63,1387.14 2096.89,1377.65 2106.15,1366.67 2115.42,1353.99 2124.68,1339.36 2133.94,1322.48 2143.2,1303.03 2147.84,1292.22 2152.47,1280.62 2157.1,1268.18 2161.73,1254.83 2168.46,1233.7 2175.18,1210.32 2181.91,1184.46 2188.64,1155.86 2195.37,1124.24 2202.1,1089.3 2205.46,1070.49 2208.82,1050.71 2212.19,1029.93 2215.55,1008.09 2218.91,985.152 2222.28,961.049 2225.64,935.73 2229.01,909.134 2232.37,881.2 2235.73,851.863 2239.1,821.055 2242.46,788.705 2245.82,754.739 2249.19,719.079 2252.55,681.642 2255.92,642.346 2259.28,601.099 2262.64,557.809 2266.01,512.378 2269.37,464.704 2270.75,444.47 2272.13,423.833 2273.51,402.784 2274.89,381.318 2277.65,337.095 2280.41,291.1 2283.17,243.263 2285.93,193.513 2288.69,141.776 2291.45,87.9763 \"/>\n",
       "<path clip-path=\"url(#clip080)\" d=\"M258.96 198.898 L527.99 198.898 L527.99 95.2176 L258.96 95.2176  Z\" fill=\"#ffffff\" fill-rule=\"evenodd\" fill-opacity=\"1\"/>\n",
       "<polyline clip-path=\"url(#clip080)\" style=\"stroke:#000000; stroke-linecap:round; stroke-linejoin:round; stroke-width:4; stroke-opacity:1; fill:none\" points=\"258.96,198.898 527.99,198.898 527.99,95.2176 258.96,95.2176 258.96,198.898 \"/>\n",
       "<polyline clip-path=\"url(#clip080)\" style=\"stroke:#009af9; stroke-linecap:round; stroke-linejoin:round; stroke-width:4; stroke-opacity:1; fill:none\" points=\"283.027,147.058 427.426,147.058 \"/>\n",
       "<path clip-path=\"url(#clip080)\" d=\"M465.335 166.745 Q463.53 171.375 461.817 172.787 Q460.104 174.199 457.234 174.199 L453.831 174.199 L453.831 170.634 L456.331 170.634 Q458.09 170.634 459.062 169.8 Q460.035 168.967 461.215 165.865 L461.979 163.921 L451.493 138.412 L456.007 138.412 L464.109 158.689 L472.21 138.412 L476.724 138.412 L465.335 166.745 Z\" fill=\"#000000\" fill-rule=\"evenodd\" fill-opacity=\"1\" /><path clip-path=\"url(#clip080)\" d=\"M484.016 160.402 L491.655 160.402 L491.655 134.037 L483.345 135.703 L483.345 131.444 L491.608 129.778 L496.284 129.778 L496.284 160.402 L503.923 160.402 L503.923 164.338 L484.016 164.338 L484.016 160.402 Z\" fill=\"#000000\" fill-rule=\"evenodd\" fill-opacity=\"1\" /></svg>\n"
      ]
     },
     "execution_count": 31,
     "metadata": {},
     "output_type": "execute_result"
    }
   ],
   "source": [
    "n = 30\n",
    "plot(x -> x^n/(x+10), 0, 1)"
   ]
  },
  {
   "cell_type": "code",
   "execution_count": 32,
   "metadata": {},
   "outputs": [
    {
     "name": "stdout",
     "output_type": "stream",
     "text": [
      "   n          y_n\n",
      "   1   4.6898e-02\n",
      "   2   3.1018e-02\n",
      "   3   2.3154e-02\n",
      "   4   1.8465e-02\n",
      "   5   1.5353e-02\n",
      "   6   1.3138e-02\n",
      "   7   1.1481e-02\n",
      "   8   1.0194e-02\n",
      "   9   9.1673e-03\n",
      "  10   8.3270e-03\n",
      "  11   7.6386e-03\n",
      "  12   6.9473e-03\n",
      "  13   7.4503e-03\n",
      "  14  -3.0745e-03\n",
      "  15   9.7411e-02\n",
      "  16  -9.1161e-01\n",
      "  17   9.1750e+00\n",
      "  18  -9.1694e+01\n",
      "  19   9.1699e+02\n",
      "  20  -9.1699e+03\n",
      "  21   9.1699e+04\n",
      "  22  -9.1699e+05\n",
      "  23   9.1699e+06\n",
      "  24  -9.1699e+07\n",
      "  25   9.1699e+08\n",
      "  26  -9.1699e+09\n",
      "  27   9.1699e+10\n",
      "  28  -9.1699e+11\n",
      "  29   9.1699e+12\n",
      "  30  -9.1699e+13\n"
     ]
    }
   ],
   "source": [
    "yn = log(11) - log(10)\n",
    "\n",
    "@printf(\"%4s %12s\\n\", \"n\", \"y_n\")\n",
    "for n = 1:30\n",
    "    yold = yn\n",
    "    yn = 1/n - 10yold\n",
    "    @printf(\"%4d %12.4e\\n\", n, yn)\n",
    "end"
   ]
  },
  {
   "cell_type": "code",
   "execution_count": 33,
   "metadata": {},
   "outputs": [],
   "source": [
    "using QuadGK"
   ]
  },
  {
   "cell_type": "code",
   "execution_count": 34,
   "metadata": {},
   "outputs": [
    {
     "data": {
      "text/plain": [
       "(0.002940928704861327, 8.451193491963778e-12)"
      ]
     },
     "execution_count": 34,
     "metadata": {},
     "output_type": "execute_result"
    }
   ],
   "source": [
    "n = 30\n",
    "integral, error = quadgk(x -> x^n/(x + 10), 0, 1)"
   ]
  },
  {
   "cell_type": "code",
   "execution_count": 35,
   "metadata": {},
   "outputs": [
    {
     "data": {
      "text/plain": [
       "0.09531017980432477"
      ]
     },
     "execution_count": 35,
     "metadata": {},
     "output_type": "execute_result"
    }
   ],
   "source": [
    "y0 = log(11) - log(10)"
   ]
  },
  {
   "cell_type": "markdown",
   "metadata": {},
   "source": [
    "This algorithm is *very* **unstable**."
   ]
  },
  {
   "cell_type": "markdown",
   "metadata": {},
   "source": [
    "---"
   ]
  },
  {
   "cell_type": "markdown",
   "metadata": {},
   "source": [
    "## Efficiency\n",
    "\n",
    "Efficiency of a code is affected by many factors:\n",
    "\n",
    "1. the rate of convergence of the method\n",
    "2. the number of arithmetic operations performed\n",
    "3. how the data in memory is accessed\n",
    "\n",
    "(See **Example 1.4** in Ascher-Greif for an efficient algorithm for evaluating polynomials: **Horner's rule**.)"
   ]
  },
  {
   "cell_type": "markdown",
   "metadata": {},
   "source": [
    "---"
   ]
  },
  {
   "cell_type": "markdown",
   "metadata": {},
   "source": [
    "## Robustness (Reliability)\n",
    "\n",
    "We want to ensure that our code works under *all possible inputs*, and generates the clear warnings when it is not possible to produce an accurate result for some input."
   ]
  },
  {
   "cell_type": "markdown",
   "metadata": {},
   "source": [
    "---"
   ]
  }
 ],
 "metadata": {
  "anaconda-cloud": {},
  "kernelspec": {
   "display_name": "Julia 1.8.5",
   "language": "julia",
   "name": "julia-1.8"
  },
  "language_info": {
   "file_extension": ".jl",
   "mimetype": "application/julia",
   "name": "julia",
   "version": "1.8.5"
  }
 },
 "nbformat": 4,
 "nbformat_minor": 4
}
