{
 "cells": [
  {
   "cell_type": "markdown",
   "metadata": {},
   "source": [
    "---\n",
    "# 1.1 Scientific computing\n",
    "---"
   ]
  },
  {
   "cell_type": "markdown",
   "metadata": {},
   "source": [
    "## Motivation\n",
    "\n",
    "- Computers have become a central tool that is used in virtually every discipline:  \n",
    "\n",
    "    - mathematics\n",
    "    - engineering\n",
    "    - physical sciences\n",
    "    - social sciences\n",
    "    - economics\n",
    "    - data science\n",
    "    - ...\n",
    "\n",
    "- In these disciplines, **mathematical models** are used to explore and gain a deeper understanding of complex systems.\n",
    "\n",
    "- There is now a growing need for those with the ability to develop software that can _efficiently_, _accurately_, and _reliably_ solve mathematical models."
   ]
  },
  {
   "cell_type": "markdown",
   "metadata": {},
   "source": [
    "## Overview\n",
    "\n",
    "In this class, we will learn computational methods (algorithms) for working with _continuous_ mathematical models:\n",
    "    \n",
    "| Chapter | Topic |\n",
    "|--------:|-------|\n",
    "|  3 | Nonlinear Equations in One Variable |\n",
    "| 10 | Polynomial Interpolation |\n",
    "| 11 | Piecewise Polynomial Interpolation |\n",
    "| 12 | Best Approximation |\n",
    "| 14 | Numerical Differentiation |\n",
    "| 15 | Numerical Integration |\n",
    "| 16 | Differential Equations |"
   ]
  },
  {
   "cell_type": "markdown",
   "metadata": {},
   "source": [
    "## Goals\n",
    "\n",
    "Learning these algorithms will give you the knowledge and skills to solve more complex problems you may encounter in your careers. We will study:\n",
    "\n",
    "1. The theory behind the algorithms (numerical analysis):\n",
    "    - complexity and convergence rate\n",
    "    - problem conditioning and algorithm stability\n",
    "    - accuracy and error bounds\n",
    "    - proofs\n",
    "2. How to choose which method should be used for a particular problem.\n",
    "3. How to implement the method efficiently.\n",
    "    - We will use [Julia](http://julialang.org): \"a high-level, high-performance dynamic programming language for technical computing.\"\n",
    "    - See [Julia benchmarks](http://julialang.org/benchmarks/) for a comparison with various other languages.\n",
    "4. How to evaluate and test your implementation for *efficiency*, *accuracy*, and *robustness*."
   ]
  },
  {
   "cell_type": "markdown",
   "metadata": {},
   "source": [
    "---\n",
    "# Section 1.2: Numerical algorithms and errors\n",
    "---"
   ]
  },
  {
   "cell_type": "markdown",
   "metadata": {},
   "source": [
    "Suppose some quantity $u$ is approximated by $v$. The **absolute error** is measured by\n",
    "\n",
    "$$\n",
    "|u - v|.\n",
    "$$\n",
    "\n",
    "Often, it is better to look at how large $|u-v|$ is compared to $|u|$. If $|u-v|$ is $p$ percent of $|u|$, then \n",
    "\n",
    "$$\n",
    "|u-v| = p|u|.\n",
    "$$ \n",
    "\n",
    "If $u \\neq 0$, then\n",
    "$$\n",
    "p = \\frac{|u-v|}{|u|},\n",
    "$$\n",
    "which is called the **relative error**."
   ]
  },
  {
   "cell_type": "code",
   "execution_count": null,
   "metadata": {},
   "outputs": [],
   "source": [
    "u, v = π, 3.14159"
   ]
  },
  {
   "cell_type": "code",
   "execution_count": null,
   "metadata": {},
   "outputs": [],
   "source": [
    "abs(u - v)"
   ]
  },
  {
   "cell_type": "markdown",
   "metadata": {},
   "source": [
    "i.e., $\\approx 2.65 \\times 10^{-6}$"
   ]
  },
  {
   "cell_type": "code",
   "execution_count": null,
   "metadata": {},
   "outputs": [],
   "source": [
    "p = abs(u - v)/abs(u)"
   ]
  },
  {
   "cell_type": "markdown",
   "metadata": {},
   "source": [
    "i.e., $\\approx 8.45 \\times 10^{-7}$"
   ]
  },
  {
   "cell_type": "markdown",
   "metadata": {},
   "source": [
    "---"
   ]
  },
  {
   "cell_type": "markdown",
   "metadata": {},
   "source": [
    "## Exercise\n",
    "Complete the following table.\n",
    "\n",
    "| $u$ | $v$ | absolute error | relative error |\n",
    "|:---:|:---:|:--------------:|:--------------:|\n",
    "|   1 |  0.99 |  |  |\n",
    "|   1 |  1.5  |  |  |\n",
    "| 100 | 99.99 |  |  |\n",
    "| 100 | 100.5 |  |  |"
   ]
  },
  {
   "cell_type": "markdown",
   "metadata": {},
   "source": [
    "---"
   ]
  },
  {
   "cell_type": "markdown",
   "metadata": {},
   "source": [
    "## Error types\n",
    "\n",
    "1. Errors in mathematical model or in the data\n",
    "2. Approximation errors\n",
    "3. Roundoff errors\n",
    "    - due to the finite precision of real numbers stored on a computer"
   ]
  },
  {
   "cell_type": "markdown",
   "metadata": {},
   "source": [
    "## Approximation Error (approximating the derivative)\n",
    "\n",
    "Consider the formula for the derivative of a differentiable function $f \\colon \\mathbb{R} \\to \\mathbb{R}$ at $x_0$:\n",
    "\n",
    "$$ f'(x_0) = \\lim_{h \\to 0} \\frac{f(x_0 + h) - f(x_0)}{h}.$$\n",
    "\n",
    "It is therefore reasonable to approximate $f'(x_0)$ using\n",
    "\n",
    "$$\\frac{f(x_0 + h) - f(x_0)}{h}$$\n",
    "\n",
    "for some small positive $h$. The error in this approximation is \n",
    "\n",
    "$$\\left|f'(x_0) - \\frac{f(x_0 + h) - f(x_0)}{h}\\right|$$\n",
    "\n",
    "and is called a **discretization error**."
   ]
  },
  {
   "cell_type": "markdown",
   "metadata": {},
   "source": [
    "---"
   ]
  },
  {
   "cell_type": "markdown",
   "metadata": {},
   "source": [
    "## Example\n",
    "\n",
    "Let's computationally examine this approximation error using\n",
    "\n",
    "$$\n",
    "f(x) = \\sin(x) \\quad \\text{and} \\quad x_0 = 1.\n",
    "$$\n",
    "\n",
    "Note that $f'(x) = \\cos(x)$."
   ]
  },
  {
   "cell_type": "code",
   "execution_count": 1,
   "metadata": {},
   "outputs": [
    {
     "data": {
      "text/plain": [
       "f (generic function with 1 method)"
      ]
     },
     "execution_count": 1,
     "metadata": {},
     "output_type": "execute_result"
    }
   ],
   "source": [
    "f(x) = sin(x)"
   ]
  },
  {
   "cell_type": "markdown",
   "metadata": {},
   "source": [
    "Another way to define the function $f$ in Julia:\n",
    "```\n",
    "function f(x)\n",
    "    return sin(x)\n",
    "end\n",
    "```"
   ]
  },
  {
   "cell_type": "code",
   "execution_count": 2,
   "metadata": {
    "scrolled": true
   },
   "outputs": [
    {
     "data": {
      "text/plain": [
       "0.5403023058681398"
      ]
     },
     "execution_count": 2,
     "metadata": {},
     "output_type": "execute_result"
    }
   ],
   "source": [
    "x0 = 1.0\n",
    "fp = cos(x0)"
   ]
  },
  {
   "cell_type": "markdown",
   "metadata": {},
   "source": [
    "Thus \n",
    "\n",
    "$$f'(x_0) = \\cos(1) = 0.5403023058681398\\ldots.$$ \n",
    "\n",
    "Let's write some **Julia** code to approximate this value using \n",
    "\n",
    "$$ \n",
    "f'(x_0) \\approx \\frac{f(x_0 + h) - f(x_0)}{h}\n",
    "$$\n",
    "\n",
    "for smaller and smaller values of $h$."
   ]
  },
  {
   "cell_type": "code",
   "execution_count": 3,
   "metadata": {},
   "outputs": [
    {
     "name": "stdout",
     "output_type": "stream",
     "text": [
      "       h             fpapprox         abserr\n",
      " 1.0e+00   0.0678264420177852   4.724759e-01\n",
      " 1.0e-01   0.4973637525353891   4.293855e-02\n",
      " 1.0e-02   0.5360859810118690   4.216325e-03\n",
      " 1.0e-03   0.5398814803603269   4.208255e-04\n",
      " 1.0e-04   0.5402602314186211   4.207445e-05\n",
      " 1.0e-05   0.5402980985058647   4.207362e-06\n",
      " 1.0e-06   0.5403018851213303   4.207468e-07\n",
      " 1.0e-07   0.5403022640404486   4.182769e-08\n",
      " 1.0e-08   0.5403023028982544   2.969885e-09\n",
      " 1.0e-09   0.5403023584094057   5.254127e-08\n",
      " 1.0e-10   0.5403022473871032   5.848104e-08\n",
      " 1.0e-11   0.5403011371640786   1.168704e-06\n",
      " 1.0e-12   0.5403455460850636   4.324022e-05\n",
      " 1.0e-13   0.5395683899678260   7.339159e-04\n",
      " 1.0e-14   0.5440092820663266   3.706976e-03\n",
      " 1.0e-15   0.5551115123125783   1.480921e-02\n",
      " 1.0e-16   0.0000000000000000   5.403023e-01\n",
      " 1.0e-17   0.0000000000000000   5.403023e-01\n",
      " 1.0e-18   0.0000000000000000   5.403023e-01\n",
      " 1.0e-19   0.0000000000000000   5.403023e-01\n"
     ]
    }
   ],
   "source": [
    "using Printf\n",
    "\n",
    "function foo(f, x0, fp)\n",
    "    h = 1.0\n",
    "    @printf(\"%8s %20s %14s\\n\", \"h\", \"fpapprox\", \"abserr\")\n",
    "    for i in 1:20\n",
    "        fpapprox = (f(x0 + h) - f(x0))/h\n",
    "        abserr = abs(fp - fpapprox)\n",
    "        #println(fpapprox, \"  \", abserr)\n",
    "        @printf(\"%8.1e %20.16f %14.6e\\n\", h, fpapprox, abserr)\n",
    "        h = h/10\n",
    "    end\n",
    "end\n",
    "\n",
    "foo(f, x0, fp)"
   ]
  },
  {
   "cell_type": "markdown",
   "metadata": {},
   "source": [
    "```\n",
    "fpapprox = 0.5403023028982544\n",
    "fp       = 0.5403023058681398\n",
    "```"
   ]
  },
  {
   "cell_type": "markdown",
   "metadata": {},
   "source": [
    "---"
   ]
  },
  {
   "cell_type": "markdown",
   "metadata": {},
   "source": [
    " ## Theorem: (Taylor Series)\n",
    "\n",
    "Assume that $f$ is a function that is $(k+1)$-differentiable on an interval containing $x_0$ and $x_0 + h$. Then\n",
    "\n",
    "$$\n",
    "f(x_0 + h) = f(x_0) + h f'(x_0) + \\frac{h^2}{2} f''(x_0) + \\cdots + \\frac{h^k}{k!} f^{(k)}(x_0) + \\frac{h^{k+1}}{(k+1)!} f^{(k+1)}(\\xi),\n",
    "$$\n",
    "\n",
    "for some $\\xi \\in (x_0, x_0 + h)$."
   ]
  },
  {
   "cell_type": "markdown",
   "metadata": {},
   "source": [
    "### Proof that the discretization error decreases at the same rate as $h$:\n",
    "\n",
    "Solving for $f'(x_0)$ in the Taylor series expansion, we get\n",
    "\n",
    "$$\n",
    "f'(x_0) = \\frac{f(x_0+h)-f(x_0)}{h} - \\left(\\frac{h}{2} f''(x_0) + \\frac{h^2}{6} f'''(x_0)  + \\cdots + \\frac{h^{k-1}}{k!} f^{(k)}(\\xi)\\right).\n",
    "$$\n",
    "\n",
    "Therefore,\n",
    "\n",
    "$$\n",
    "\\left|f'(x_0) - \\frac{f(x_0+h)-f(x_0)}{h}\\right| = \\left|\\frac{h}{2} f''(x_0) + \\frac{h^2}{6} f'''(x_0) + \\cdots + \\frac{h^{k-1}}{k!} f^{(k)}(\\xi)\\right|.\n",
    "$$\n",
    "\n",
    "If $f''(x_0) \\neq 0$ and $h$ is small, then the right-hand-side is dominated by $\\frac{h}{2} f''(x_0)$. Thus,\n",
    "\n",
    "$$\n",
    "\\left|f'(x_0) - \\frac{f(x_0+h)-f(x_0)}{h}\\right| \\approx \\frac{h}{2}\\left| f''(x_0)\\right| = \\mathcal{O}(h). \\quad \\blacksquare\n",
    "$$\n",
    "\n",
    "(See p. 7 of Ascher-Greif for the rigorous definitions of Big-$\\mathcal{O}$ and $\\Theta$ notation)."
   ]
  },
  {
   "cell_type": "markdown",
   "metadata": {},
   "source": [
    "## Example continued...\n",
    "\n",
    "Recall that $f(x) = \\sin(x)$. Thus $f''(x) = -\\sin(x)$."
   ]
  },
  {
   "cell_type": "code",
   "execution_count": 4,
   "metadata": {},
   "outputs": [
    {
     "data": {
      "text/plain": [
       "0.42073549240394825"
      ]
     },
     "execution_count": 4,
     "metadata": {},
     "output_type": "execute_result"
    }
   ],
   "source": [
    "fpp = -sin(x0)\n",
    "\n",
    "abs(fpp)/2"
   ]
  },
  {
   "cell_type": "code",
   "execution_count": 5,
   "metadata": {},
   "outputs": [
    {
     "data": {
      "text/plain": [
       "4.207354924039483e-6"
      ]
     },
     "execution_count": 5,
     "metadata": {},
     "output_type": "execute_result"
    }
   ],
   "source": [
    "h = 1e-5\n",
    "\n",
    "err = h/2*abs(fpp)"
   ]
  },
  {
   "cell_type": "markdown",
   "metadata": {},
   "source": [
    "Therefore, \n",
    "$$\n",
    "\\frac{\\left|f''(x_0)\\right|}{2} = 0.42073549240394825\\ldots,\n",
    "$$\n",
    "which agrees very well with our numerical test."
   ]
  },
  {
   "cell_type": "markdown",
   "metadata": {},
   "source": [
    "---"
   ]
  },
  {
   "cell_type": "markdown",
   "metadata": {},
   "source": [
    "## Exercise\n",
    "\n",
    "What do you think will happen if $f''(x_0) = 0$? Write code to test your hypothesis."
   ]
  },
  {
   "cell_type": "code",
   "execution_count": 6,
   "metadata": {},
   "outputs": [
    {
     "data": {
      "text/plain": [
       "π = 3.1415926535897..."
      ]
     },
     "execution_count": 6,
     "metadata": {},
     "output_type": "execute_result"
    }
   ],
   "source": [
    "x0 = π"
   ]
  },
  {
   "cell_type": "code",
   "execution_count": 7,
   "metadata": {},
   "outputs": [
    {
     "data": {
      "text/plain": [
       "-1.0"
      ]
     },
     "execution_count": 7,
     "metadata": {},
     "output_type": "execute_result"
    }
   ],
   "source": [
    "fp = cos(x0)"
   ]
  },
  {
   "cell_type": "code",
   "execution_count": 8,
   "metadata": {},
   "outputs": [
    {
     "name": "stdout",
     "output_type": "stream",
     "text": [
      "       h             fpapprox         abserr\n",
      " 1.0e+00  -0.8414709848078965   1.585290e-01\n",
      " 1.0e-01  -0.9983341664682823   1.665834e-03\n",
      " 1.0e-02  -0.9999833334166452   1.666658e-05\n",
      " 1.0e-03  -0.9999998333332315   1.666668e-07\n",
      " 1.0e-04  -0.9999999983354435   1.664556e-09\n",
      " 1.0e-05  -0.9999999999898844   1.011558e-11\n",
      " 1.0e-06  -1.0000000001396112   1.396112e-10\n",
      " 1.0e-07  -0.9999999983634194   1.636581e-09\n",
      " 1.0e-08  -0.9999999939225288   6.077471e-09\n",
      " 1.0e-09  -1.0000000827403708   8.274037e-08\n",
      " 1.0e-10  -1.0000000827403708   8.274037e-08\n",
      " 1.0e-11  -1.0000000827403708   8.274037e-08\n",
      " 1.0e-12  -1.0000889005823408   8.890058e-05\n",
      " 1.0e-13  -0.9992007221626408   7.992778e-04\n",
      " 1.0e-14  -1.0214051826551438   2.140518e-02\n",
      " 1.0e-15  -0.8881784197001251   1.118216e-01\n",
      " 1.0e-16   0.0000000000000000   1.000000e+00\n",
      " 1.0e-17   0.0000000000000000   1.000000e+00\n",
      " 1.0e-18   0.0000000000000000   1.000000e+00\n",
      " 1.0e-19   0.0000000000000000   1.000000e+00\n"
     ]
    }
   ],
   "source": [
    "foo(f, x0, fp)"
   ]
  },
  {
   "cell_type": "code",
   "execution_count": 9,
   "metadata": {},
   "outputs": [
    {
     "data": {
      "text/plain": [
       "1.6666666666666665e-7"
      ]
     },
     "execution_count": 9,
     "metadata": {},
     "output_type": "execute_result"
    }
   ],
   "source": [
    "h = 1e-3\n",
    "\n",
    "fppp = -cos(x0)\n",
    "\n",
    "err = h^2/6*fppp"
   ]
  },
  {
   "cell_type": "markdown",
   "metadata": {},
   "source": [
    "---"
   ]
  },
  {
   "cell_type": "markdown",
   "metadata": {},
   "source": [
    "## Roundoff Error\n",
    "\n",
    "Numbers are stored in the computer using a finite precision representation. Roughly 16 digits of precision are possible using the 64-bit floating point format.\n",
    "\n",
    "Whenever an arithmetic operation takes place, the result must be rounded to roughly 16 digits of precision. Such an error is called **roundoff error**.\n",
    "\n",
    "We can see the effect of roundoff error in our example when $h$ is very small."
   ]
  },
  {
   "cell_type": "markdown",
   "metadata": {},
   "source": [
    "---"
   ]
  },
  {
   "cell_type": "markdown",
   "metadata": {},
   "source": [
    "## Exercise\n",
    "\n",
    "Use the [Plots.jl](https://github.com/JuliaPlots/Plots.jl) package to make a plot of $h$ versus the absolute error in this approximation. What do you observe? Why is this happening?"
   ]
  },
  {
   "cell_type": "code",
   "execution_count": 10,
   "metadata": {},
   "outputs": [
    {
     "data": {
      "text/plain": [
       "-0.8414709848078965"
      ]
     },
     "execution_count": 10,
     "metadata": {},
     "output_type": "execute_result"
    }
   ],
   "source": [
    "x0 = 1.0\n",
    "f(x) = sin(x)\n",
    "\n",
    "fp = cos(x0)\n",
    "fpp = -sin(x0)"
   ]
  },
  {
   "cell_type": "code",
   "execution_count": 37,
   "metadata": {},
   "outputs": [
    {
     "data": {
      "text/plain": [
       "41×2 Array{Float64,2}:\n",
       " 0.472476     0.420735\n",
       " 0.140903     0.133048\n",
       " 0.0429386    0.0420735\n",
       " 0.0133938    0.0133048\n",
       " 0.00421632   0.00420735\n",
       " 0.00133138   0.00133048\n",
       " 0.000420826  0.000420735\n",
       " 0.000133057  0.000133048\n",
       " 4.20744e-5   4.20735e-5\n",
       " 1.33049e-5   1.33048e-5\n",
       " 4.20736e-6   4.20735e-6\n",
       " 1.33048e-6   1.33048e-6\n",
       " 4.20747e-7   4.20735e-7\n",
       " ⋮            \n",
       " 0.0136773    1.33048e-15\n",
       " 0.0148092    4.20735e-16\n",
       " 0.189219     1.33048e-16\n",
       " 0.540302     4.20735e-17\n",
       " 0.540302     1.33048e-17\n",
       " 0.540302     4.20735e-18\n",
       " 0.540302     1.33048e-18\n",
       " 0.540302     4.20735e-19\n",
       " 0.540302     1.33048e-19\n",
       " 0.540302     4.20735e-20\n",
       " 0.540302     1.33048e-20\n",
       " 0.540302     4.20735e-21"
      ]
     },
     "execution_count": 37,
     "metadata": {},
     "output_type": "execute_result"
    }
   ],
   "source": [
    "using Plots, LaTeXStrings\n",
    "\n",
    "x0 = 1.0\n",
    "\n",
    "h = [10.0^(-x) for x in 0:0.5:20]\n",
    "\n",
    "approx = (f.(x0 .+ h) .- f(x0))./h\n",
    "\n",
    "[h approx]\n",
    "\n",
    "abserr = abs.(fp .- approx)\n",
    "\n",
    "d_err = h*abs(fpp)/2\n",
    "\n",
    "[abserr d_err]"
   ]
  },
  {
   "cell_type": "code",
   "execution_count": 38,
   "metadata": {},
   "outputs": [
    {
     "data": {
      "image/svg+xml": [
       "<?xml version=\"1.0\" encoding=\"utf-8\"?>\n",
       "<svg xmlns=\"http://www.w3.org/2000/svg\" xmlns:xlink=\"http://www.w3.org/1999/xlink\" width=\"600\" height=\"400\" viewBox=\"0 0 2400 1600\">\n",
       "<defs>\n",
       "  <clipPath id=\"clip970\">\n",
       "    <rect x=\"0\" y=\"0\" width=\"2400\" height=\"1600\"/>\n",
       "  </clipPath>\n",
       "</defs>\n",
       "<path clip-path=\"url(#clip970)\" d=\"\n",
       "M0 1600 L2400 1600 L2400 0 L0 0  Z\n",
       "  \" fill=\"#ffffff\" fill-rule=\"evenodd\" fill-opacity=\"1\"/>\n",
       "<defs>\n",
       "  <clipPath id=\"clip971\">\n",
       "    <rect x=\"480\" y=\"0\" width=\"1681\" height=\"1600\"/>\n",
       "  </clipPath>\n",
       "</defs>\n",
       "<defs>\n",
       "  <clipPath id=\"clip972\">\n",
       "    <rect x=\"264\" y=\"47\" width=\"2089\" height=\"1382\"/>\n",
       "  </clipPath>\n",
       "</defs>\n",
       "<path clip-path=\"url(#clip970)\" d=\"\n",
       "M264.865 1427.86 L2352.76 1427.86 L2352.76 47.2441 L264.865 47.2441  Z\n",
       "  \" fill=\"#ffffff\" fill-rule=\"evenodd\" fill-opacity=\"1\"/>\n",
       "<polyline clip-path=\"url(#clip972)\" style=\"stroke:#000000; stroke-width:2; stroke-opacity:0.1; fill:none\" points=\"\n",
       "  323.956,1427.86 323.956,47.2441 \n",
       "  \"/>\n",
       "<polyline clip-path=\"url(#clip972)\" style=\"stroke:#000000; stroke-width:2; stroke-opacity:0.1; fill:none\" points=\"\n",
       "  816.383,1427.86 816.383,47.2441 \n",
       "  \"/>\n",
       "<polyline clip-path=\"url(#clip972)\" style=\"stroke:#000000; stroke-width:2; stroke-opacity:0.1; fill:none\" points=\"\n",
       "  1308.81,1427.86 1308.81,47.2441 \n",
       "  \"/>\n",
       "<polyline clip-path=\"url(#clip972)\" style=\"stroke:#000000; stroke-width:2; stroke-opacity:0.1; fill:none\" points=\"\n",
       "  1801.24,1427.86 1801.24,47.2441 \n",
       "  \"/>\n",
       "<polyline clip-path=\"url(#clip972)\" style=\"stroke:#000000; stroke-width:2; stroke-opacity:0.1; fill:none\" points=\"\n",
       "  2293.66,1427.86 2293.66,47.2441 \n",
       "  \"/>\n",
       "<polyline clip-path=\"url(#clip970)\" style=\"stroke:#000000; stroke-width:4; stroke-opacity:1; fill:none\" points=\"\n",
       "  264.865,1427.86 2352.76,1427.86 \n",
       "  \"/>\n",
       "<polyline clip-path=\"url(#clip970)\" style=\"stroke:#000000; stroke-width:4; stroke-opacity:1; fill:none\" points=\"\n",
       "  323.956,1427.86 323.956,1411.3 \n",
       "  \"/>\n",
       "<polyline clip-path=\"url(#clip970)\" style=\"stroke:#000000; stroke-width:4; stroke-opacity:1; fill:none\" points=\"\n",
       "  816.383,1427.86 816.383,1411.3 \n",
       "  \"/>\n",
       "<polyline clip-path=\"url(#clip970)\" style=\"stroke:#000000; stroke-width:4; stroke-opacity:1; fill:none\" points=\"\n",
       "  1308.81,1427.86 1308.81,1411.3 \n",
       "  \"/>\n",
       "<polyline clip-path=\"url(#clip970)\" style=\"stroke:#000000; stroke-width:4; stroke-opacity:1; fill:none\" points=\"\n",
       "  1801.24,1427.86 1801.24,1411.3 \n",
       "  \"/>\n",
       "<polyline clip-path=\"url(#clip970)\" style=\"stroke:#000000; stroke-width:4; stroke-opacity:1; fill:none\" points=\"\n",
       "  2293.66,1427.86 2293.66,1411.3 \n",
       "  \"/>\n",
       "<path clip-path=\"url(#clip970)\" d=\"M 0 0 M267.475 1506.14 L275.114 1506.14 L275.114 1479.77 L266.804 1481.44 L266.804 1477.18 L275.068 1475.51 L279.744 1475.51 L279.744 1506.14 L287.383 1506.14 L287.383 1510.07 L267.475 1510.07 L267.475 1506.14 Z\" fill=\"#000000\" fill-rule=\"evenodd\" fill-opacity=\"1\" /><path clip-path=\"url(#clip970)\" d=\"M 0 0 M302.452 1478.59 Q298.841 1478.59 297.012 1482.16 Q295.207 1485.7 295.207 1492.83 Q295.207 1499.93 297.012 1503.5 Q298.841 1507.04 302.452 1507.04 Q306.086 1507.04 307.892 1503.5 Q309.721 1499.93 309.721 1492.83 Q309.721 1485.7 307.892 1482.16 Q306.086 1478.59 302.452 1478.59 M302.452 1474.89 Q308.262 1474.89 311.318 1479.49 Q314.396 1484.08 314.396 1492.83 Q314.396 1501.55 311.318 1506.16 Q308.262 1510.74 302.452 1510.74 Q296.642 1510.74 293.563 1506.16 Q290.508 1501.55 290.508 1492.83 Q290.508 1484.08 293.563 1479.49 Q296.642 1474.89 302.452 1474.89 Z\" fill=\"#000000\" fill-rule=\"evenodd\" fill-opacity=\"1\" /><path clip-path=\"url(#clip970)\" d=\"M 0 0 M314.396 1468.99 L338.508 1468.99 L338.508 1472.19 L314.396 1472.19 L314.396 1468.99 Z\" fill=\"#000000\" fill-rule=\"evenodd\" fill-opacity=\"1\" /><path clip-path=\"url(#clip970)\" d=\"M 0 0 M345.899 1479.46 L359.159 1479.46 L359.159 1482.66 L341.329 1482.66 L341.329 1479.46 Q343.492 1477.23 347.216 1473.46 Q350.959 1469.68 351.918 1468.59 Q353.742 1466.54 354.457 1465.13 Q355.19 1463.7 355.19 1462.33 Q355.19 1460.09 353.611 1458.68 Q352.05 1457.27 349.529 1457.27 Q347.743 1457.27 345.749 1457.89 Q343.774 1458.51 341.517 1459.77 L341.517 1455.94 Q343.812 1455.01 345.805 1454.54 Q347.799 1454.07 349.454 1454.07 Q353.818 1454.07 356.413 1456.26 Q359.008 1458.44 359.008 1462.09 Q359.008 1463.82 358.35 1465.38 Q357.711 1466.92 355.999 1469.03 Q355.529 1469.57 353.009 1472.19 Q350.489 1474.78 345.899 1479.46 Z\" fill=\"#000000\" fill-rule=\"evenodd\" fill-opacity=\"1\" /><path clip-path=\"url(#clip970)\" d=\"M 0 0 M371.403 1457.08 Q368.469 1457.08 366.983 1459.98 Q365.516 1462.86 365.516 1468.65 Q365.516 1474.42 366.983 1477.32 Q368.469 1480.2 371.403 1480.2 Q374.356 1480.2 375.823 1477.32 Q377.308 1474.42 377.308 1468.65 Q377.308 1462.86 375.823 1459.98 Q374.356 1457.08 371.403 1457.08 M371.403 1454.07 Q376.124 1454.07 378.606 1457.82 Q381.108 1461.54 381.108 1468.65 Q381.108 1475.74 378.606 1479.48 Q376.124 1483.21 371.403 1483.21 Q366.682 1483.21 364.181 1479.48 Q361.698 1475.74 361.698 1468.65 Q361.698 1461.54 364.181 1457.82 Q366.682 1454.07 371.403 1454.07 Z\" fill=\"#000000\" fill-rule=\"evenodd\" fill-opacity=\"1\" /><path clip-path=\"url(#clip970)\" d=\"M 0 0 M760.156 1506.14 L767.795 1506.14 L767.795 1479.77 L759.485 1481.44 L759.485 1477.18 L767.749 1475.51 L772.425 1475.51 L772.425 1506.14 L780.064 1506.14 L780.064 1510.07 L760.156 1510.07 L760.156 1506.14 Z\" fill=\"#000000\" fill-rule=\"evenodd\" fill-opacity=\"1\" /><path clip-path=\"url(#clip970)\" d=\"M 0 0 M795.133 1478.59 Q791.522 1478.59 789.693 1482.16 Q787.888 1485.7 787.888 1492.83 Q787.888 1499.93 789.693 1503.5 Q791.522 1507.04 795.133 1507.04 Q798.767 1507.04 800.573 1503.5 Q802.402 1499.93 802.402 1492.83 Q802.402 1485.7 800.573 1482.16 Q798.767 1478.59 795.133 1478.59 M795.133 1474.89 Q800.943 1474.89 803.999 1479.49 Q807.078 1484.08 807.078 1492.83 Q807.078 1501.55 803.999 1506.16 Q800.943 1510.74 795.133 1510.74 Q789.323 1510.74 786.244 1506.16 Q783.189 1501.55 783.189 1492.83 Q783.189 1484.08 786.244 1479.49 Q789.323 1474.89 795.133 1474.89 Z\" fill=\"#000000\" fill-rule=\"evenodd\" fill-opacity=\"1\" /><path clip-path=\"url(#clip970)\" d=\"M 0 0 M807.078 1468.99 L831.189 1468.99 L831.189 1472.19 L807.078 1472.19 L807.078 1468.99 Z\" fill=\"#000000\" fill-rule=\"evenodd\" fill-opacity=\"1\" /><path clip-path=\"url(#clip970)\" d=\"M 0 0 M835.966 1479.46 L842.173 1479.46 L842.173 1458.04 L835.421 1459.4 L835.421 1455.94 L842.135 1454.58 L845.934 1454.58 L845.934 1479.46 L852.141 1479.46 L852.141 1482.66 L835.966 1482.66 L835.966 1479.46 Z\" fill=\"#000000\" fill-rule=\"evenodd\" fill-opacity=\"1\" /><path clip-path=\"url(#clip970)\" d=\"M 0 0 M856.297 1454.58 L871.212 1454.58 L871.212 1457.78 L859.777 1457.78 L859.777 1464.66 Q860.604 1464.38 861.432 1464.25 Q862.26 1464.1 863.087 1464.1 Q867.789 1464.1 870.535 1466.67 Q873.281 1469.25 873.281 1473.65 Q873.281 1478.19 870.46 1480.71 Q867.639 1483.21 862.504 1483.21 Q860.736 1483.21 858.893 1482.91 Q857.069 1482.6 855.113 1482 L855.113 1478.19 Q856.805 1479.11 858.611 1479.56 Q860.416 1480.01 862.429 1480.01 Q865.683 1480.01 867.582 1478.3 Q869.482 1476.59 869.482 1473.65 Q869.482 1470.72 867.582 1469.01 Q865.683 1467.3 862.429 1467.3 Q860.905 1467.3 859.382 1467.63 Q857.877 1467.97 856.297 1468.69 L856.297 1454.58 Z\" fill=\"#000000\" fill-rule=\"evenodd\" fill-opacity=\"1\" /><path clip-path=\"url(#clip970)\" d=\"M 0 0 M1252.18 1506.14 L1259.82 1506.14 L1259.82 1479.77 L1251.51 1481.44 L1251.51 1477.18 L1259.77 1475.51 L1264.45 1475.51 L1264.45 1506.14 L1272.09 1506.14 L1272.09 1510.07 L1252.18 1510.07 L1252.18 1506.14 Z\" fill=\"#000000\" fill-rule=\"evenodd\" fill-opacity=\"1\" /><path clip-path=\"url(#clip970)\" d=\"M 0 0 M1287.16 1478.59 Q1283.54 1478.59 1281.72 1482.16 Q1279.91 1485.7 1279.91 1492.83 Q1279.91 1499.93 1281.72 1503.5 Q1283.54 1507.04 1287.16 1507.04 Q1290.79 1507.04 1292.6 1503.5 Q1294.42 1499.93 1294.42 1492.83 Q1294.42 1485.7 1292.6 1482.16 Q1290.79 1478.59 1287.16 1478.59 M1287.16 1474.89 Q1292.97 1474.89 1296.02 1479.49 Q1299.1 1484.08 1299.1 1492.83 Q1299.1 1501.55 1296.02 1506.16 Q1292.97 1510.74 1287.16 1510.74 Q1281.35 1510.74 1278.27 1506.16 Q1275.21 1501.55 1275.21 1492.83 Q1275.21 1484.08 1278.27 1479.49 Q1281.35 1474.89 1287.16 1474.89 Z\" fill=\"#000000\" fill-rule=\"evenodd\" fill-opacity=\"1\" /><path clip-path=\"url(#clip970)\" d=\"M 0 0 M1299.1 1468.99 L1323.21 1468.99 L1323.21 1472.19 L1299.1 1472.19 L1299.1 1468.99 Z\" fill=\"#000000\" fill-rule=\"evenodd\" fill-opacity=\"1\" /><path clip-path=\"url(#clip970)\" d=\"M 0 0 M1327.99 1479.46 L1334.2 1479.46 L1334.2 1458.04 L1327.44 1459.4 L1327.44 1455.94 L1334.16 1454.58 L1337.96 1454.58 L1337.96 1479.46 L1344.16 1479.46 L1344.16 1482.66 L1327.99 1482.66 L1327.99 1479.46 Z\" fill=\"#000000\" fill-rule=\"evenodd\" fill-opacity=\"1\" /><path clip-path=\"url(#clip970)\" d=\"M 0 0 M1356.41 1457.08 Q1353.47 1457.08 1351.99 1459.98 Q1350.52 1462.86 1350.52 1468.65 Q1350.52 1474.42 1351.99 1477.32 Q1353.47 1480.2 1356.41 1480.2 Q1359.36 1480.2 1360.83 1477.32 Q1362.31 1474.42 1362.31 1468.65 Q1362.31 1462.86 1360.83 1459.98 Q1359.36 1457.08 1356.41 1457.08 M1356.41 1454.07 Q1361.13 1454.07 1363.61 1457.82 Q1366.11 1461.54 1366.11 1468.65 Q1366.11 1475.74 1363.61 1479.48 Q1361.13 1483.21 1356.41 1483.21 Q1351.69 1483.21 1349.19 1479.48 Q1346.7 1475.74 1346.7 1468.65 Q1346.7 1461.54 1349.19 1457.82 Q1351.69 1454.07 1356.41 1454.07 Z\" fill=\"#000000\" fill-rule=\"evenodd\" fill-opacity=\"1\" /><path clip-path=\"url(#clip970)\" d=\"M 0 0 M1755.49 1506.14 L1763.13 1506.14 L1763.13 1479.77 L1754.82 1481.44 L1754.82 1477.18 L1763.08 1475.51 L1767.76 1475.51 L1767.76 1506.14 L1775.39 1506.14 L1775.39 1510.07 L1755.49 1510.07 L1755.49 1506.14 Z\" fill=\"#000000\" fill-rule=\"evenodd\" fill-opacity=\"1\" /><path clip-path=\"url(#clip970)\" d=\"M 0 0 M1790.46 1478.59 Q1786.85 1478.59 1785.02 1482.16 Q1783.22 1485.7 1783.22 1492.83 Q1783.22 1499.93 1785.02 1503.5 Q1786.85 1507.04 1790.46 1507.04 Q1794.1 1507.04 1795.9 1503.5 Q1797.73 1499.93 1797.73 1492.83 Q1797.73 1485.7 1795.9 1482.16 Q1794.1 1478.59 1790.46 1478.59 M1790.46 1474.89 Q1796.27 1474.89 1799.33 1479.49 Q1802.41 1484.08 1802.41 1492.83 Q1802.41 1501.55 1799.33 1506.16 Q1796.27 1510.74 1790.46 1510.74 Q1784.65 1510.74 1781.57 1506.16 Q1778.52 1501.55 1778.52 1492.83 Q1778.52 1484.08 1781.57 1479.49 Q1784.65 1474.89 1790.46 1474.89 Z\" fill=\"#000000\" fill-rule=\"evenodd\" fill-opacity=\"1\" /><path clip-path=\"url(#clip970)\" d=\"M 0 0 M1802.41 1468.99 L1826.52 1468.99 L1826.52 1472.19 L1802.41 1472.19 L1802.41 1468.99 Z\" fill=\"#000000\" fill-rule=\"evenodd\" fill-opacity=\"1\" /><path clip-path=\"url(#clip970)\" d=\"M 0 0 M1830.68 1454.58 L1845.59 1454.58 L1845.59 1457.78 L1834.16 1457.78 L1834.16 1464.66 Q1834.98 1464.38 1835.81 1464.25 Q1836.64 1464.1 1837.47 1464.1 Q1842.17 1464.1 1844.91 1466.67 Q1847.66 1469.25 1847.66 1473.65 Q1847.66 1478.19 1844.84 1480.71 Q1842.02 1483.21 1836.88 1483.21 Q1835.11 1483.21 1833.27 1482.91 Q1831.45 1482.6 1829.49 1482 L1829.49 1478.19 Q1831.18 1479.11 1832.99 1479.56 Q1834.79 1480.01 1836.81 1480.01 Q1840.06 1480.01 1841.96 1478.3 Q1843.86 1476.59 1843.86 1473.65 Q1843.86 1470.72 1841.96 1469.01 Q1840.06 1467.3 1836.81 1467.3 Q1835.28 1467.3 1833.76 1467.63 Q1832.26 1467.97 1830.68 1468.69 L1830.68 1454.58 Z\" fill=\"#000000\" fill-rule=\"evenodd\" fill-opacity=\"1\" /><path clip-path=\"url(#clip970)\" d=\"M 0 0 M2260.83 1506.14 L2268.47 1506.14 L2268.47 1479.77 L2260.16 1481.44 L2260.16 1477.18 L2268.43 1475.51 L2273.1 1475.51 L2273.1 1506.14 L2280.74 1506.14 L2280.74 1510.07 L2260.83 1510.07 L2260.83 1506.14 Z\" fill=\"#000000\" fill-rule=\"evenodd\" fill-opacity=\"1\" /><path clip-path=\"url(#clip970)\" d=\"M 0 0 M2295.81 1478.59 Q2292.2 1478.59 2290.37 1482.16 Q2288.57 1485.7 2288.57 1492.83 Q2288.57 1499.93 2290.37 1503.5 Q2292.2 1507.04 2295.81 1507.04 Q2299.45 1507.04 2301.25 1503.5 Q2303.08 1499.93 2303.08 1492.83 Q2303.08 1485.7 2301.25 1482.16 Q2299.45 1478.59 2295.81 1478.59 M2295.81 1474.89 Q2301.62 1474.89 2304.68 1479.49 Q2307.76 1484.08 2307.76 1492.83 Q2307.76 1501.55 2304.68 1506.16 Q2301.62 1510.74 2295.81 1510.74 Q2290 1510.74 2286.92 1506.16 Q2283.87 1501.55 2283.87 1492.83 Q2283.87 1484.08 2286.92 1479.49 Q2290 1474.89 2295.81 1474.89 Z\" fill=\"#000000\" fill-rule=\"evenodd\" fill-opacity=\"1\" /><path clip-path=\"url(#clip970)\" d=\"M 0 0 M2317.46 1457.08 Q2314.53 1457.08 2313.04 1459.98 Q2311.57 1462.86 2311.57 1468.65 Q2311.57 1474.42 2313.04 1477.32 Q2314.53 1480.2 2317.46 1480.2 Q2320.41 1480.2 2321.88 1477.32 Q2323.37 1474.42 2323.37 1468.65 Q2323.37 1462.86 2321.88 1459.98 Q2320.41 1457.08 2317.46 1457.08 M2317.46 1454.07 Q2322.18 1454.07 2324.66 1457.82 Q2327.17 1461.54 2327.17 1468.65 Q2327.17 1475.74 2324.66 1479.48 Q2322.18 1483.21 2317.46 1483.21 Q2312.74 1483.21 2310.24 1479.48 Q2307.76 1475.74 2307.76 1468.65 Q2307.76 1461.54 2310.24 1457.82 Q2312.74 1454.07 2317.46 1454.07 Z\" fill=\"#000000\" fill-rule=\"evenodd\" fill-opacity=\"1\" /><path clip-path=\"url(#clip970)\" d=\"M 0 0 M1322.36 1553.2 Q1322.36 1553.46 1322.07 1554.46 Q1321.78 1555.46 1321.07 1557 Q1320.39 1558.55 1319.46 1559.97 Q1318.53 1561.35 1316.98 1562.38 Q1315.47 1563.38 1313.73 1563.38 Q1311.41 1563.38 1309.86 1561.84 Q1308.32 1560.29 1308.32 1557.97 Q1308.32 1557.65 1308.35 1557.33 Q1308.38 1557 1308.41 1556.81 Q1308.45 1556.59 1308.54 1556.23 Q1308.67 1555.84 1308.7 1555.68 Q1308.77 1555.52 1308.93 1555.04 Q1309.12 1554.52 1309.19 1554.33 Q1313.28 1543.9 1313.28 1539.55 Q1313.28 1534.94 1309.7 1534.94 Q1306.51 1534.94 1303.36 1537.26 Q1301.91 1538.42 1300.52 1540.48 Q1299.14 1542.54 1298.88 1543.32 Q1298.59 1544.99 1298.17 1546.28 Q1297.98 1547.18 1297.05 1550.69 L1295.6 1556.65 L1294.34 1561.64 Q1294.08 1562.35 1293.37 1562.87 Q1292.67 1563.38 1291.89 1563.38 Q1291.25 1563.38 1290.6 1562.93 Q1289.99 1562.51 1289.99 1561.51 Q1289.99 1561 1290.25 1560.06 L1299.82 1522.06 L1300.01 1520.77 Q1300.01 1520.39 1299.85 1520.19 Q1299.72 1519.97 1298.95 1519.81 Q1298.21 1519.65 1296.72 1519.65 Q1296.11 1519.65 1295.82 1519.61 Q1295.56 1519.58 1295.34 1519.42 Q1295.11 1519.23 1295.11 1518.84 Q1295.11 1518.29 1295.34 1518 Q1295.6 1517.68 1295.79 1517.62 Q1295.98 1517.55 1296.37 1517.52 Q1296.92 1517.49 1298.75 1517.33 Q1300.59 1517.13 1302.17 1517 Q1303.74 1516.88 1304.42 1516.88 Q1304.81 1516.88 1305 1517.07 Q1305.23 1517.23 1305.26 1517.42 L1305.29 1517.58 L1300.14 1538.55 Q1304.23 1533.49 1309.9 1533.49 Q1313.57 1533.49 1315.53 1535.39 Q1317.5 1537.26 1317.5 1540.55 Q1317.5 1544.32 1313.47 1555.04 Q1312.28 1558.03 1312.28 1559.74 Q1312.28 1560.87 1312.63 1561.38 Q1313.02 1561.9 1313.86 1561.9 Q1315.15 1561.9 1316.27 1561.16 Q1317.43 1560.39 1318.24 1559.13 Q1319.04 1557.84 1319.59 1556.55 Q1320.17 1555.23 1320.59 1553.75 Q1320.85 1552.95 1320.97 1552.75 Q1321.14 1552.56 1321.59 1552.56 Q1322.36 1552.56 1322.36 1553.2 Z\" fill=\"#000000\" fill-rule=\"evenodd\" fill-opacity=\"1\" /><polyline clip-path=\"url(#clip972)\" style=\"stroke:#000000; stroke-width:2; stroke-opacity:0.1; fill:none\" points=\"\n",
       "  264.865,1427.86 2352.76,1427.86 \n",
       "  \"/>\n",
       "<polyline clip-path=\"url(#clip972)\" style=\"stroke:#000000; stroke-width:2; stroke-opacity:0.1; fill:none\" points=\"\n",
       "  264.865,1151.74 2352.76,1151.74 \n",
       "  \"/>\n",
       "<polyline clip-path=\"url(#clip972)\" style=\"stroke:#000000; stroke-width:2; stroke-opacity:0.1; fill:none\" points=\"\n",
       "  264.865,875.616 2352.76,875.616 \n",
       "  \"/>\n",
       "<polyline clip-path=\"url(#clip972)\" style=\"stroke:#000000; stroke-width:2; stroke-opacity:0.1; fill:none\" points=\"\n",
       "  264.865,599.492 2352.76,599.492 \n",
       "  \"/>\n",
       "<polyline clip-path=\"url(#clip972)\" style=\"stroke:#000000; stroke-width:2; stroke-opacity:0.1; fill:none\" points=\"\n",
       "  264.865,323.368 2352.76,323.368 \n",
       "  \"/>\n",
       "<polyline clip-path=\"url(#clip972)\" style=\"stroke:#000000; stroke-width:2; stroke-opacity:0.1; fill:none\" points=\"\n",
       "  264.865,47.2441 2352.76,47.2441 \n",
       "  \"/>\n",
       "<polyline clip-path=\"url(#clip970)\" style=\"stroke:#000000; stroke-width:4; stroke-opacity:1; fill:none\" points=\"\n",
       "  264.865,1427.86 264.865,47.2441 \n",
       "  \"/>\n",
       "<polyline clip-path=\"url(#clip970)\" style=\"stroke:#000000; stroke-width:4; stroke-opacity:1; fill:none\" points=\"\n",
       "  264.865,1427.86 289.919,1427.86 \n",
       "  \"/>\n",
       "<polyline clip-path=\"url(#clip970)\" style=\"stroke:#000000; stroke-width:4; stroke-opacity:1; fill:none\" points=\"\n",
       "  264.865,1151.74 289.919,1151.74 \n",
       "  \"/>\n",
       "<polyline clip-path=\"url(#clip970)\" style=\"stroke:#000000; stroke-width:4; stroke-opacity:1; fill:none\" points=\"\n",
       "  264.865,875.616 289.919,875.616 \n",
       "  \"/>\n",
       "<polyline clip-path=\"url(#clip970)\" style=\"stroke:#000000; stroke-width:4; stroke-opacity:1; fill:none\" points=\"\n",
       "  264.865,599.492 289.919,599.492 \n",
       "  \"/>\n",
       "<polyline clip-path=\"url(#clip970)\" style=\"stroke:#000000; stroke-width:4; stroke-opacity:1; fill:none\" points=\"\n",
       "  264.865,323.368 289.919,323.368 \n",
       "  \"/>\n",
       "<polyline clip-path=\"url(#clip970)\" style=\"stroke:#000000; stroke-width:4; stroke-opacity:1; fill:none\" points=\"\n",
       "  264.865,47.2441 289.919,47.2441 \n",
       "  \"/>\n",
       "<path clip-path=\"url(#clip970)\" d=\"M 0 0 M114.931 1447.66 L122.57 1447.66 L122.57 1421.29 L114.26 1422.96 L114.26 1418.7 L122.524 1417.03 L127.2 1417.03 L127.2 1447.66 L134.839 1447.66 L134.839 1451.59 L114.931 1451.59 L114.931 1447.66 Z\" fill=\"#000000\" fill-rule=\"evenodd\" fill-opacity=\"1\" /><path clip-path=\"url(#clip970)\" d=\"M 0 0 M149.908 1420.11 Q146.297 1420.11 144.468 1423.68 Q142.663 1427.22 142.663 1434.35 Q142.663 1441.45 144.468 1445.02 Q146.297 1448.56 149.908 1448.56 Q153.542 1448.56 155.348 1445.02 Q157.177 1441.45 157.177 1434.35 Q157.177 1427.22 155.348 1423.68 Q153.542 1420.11 149.908 1420.11 M149.908 1416.41 Q155.718 1416.41 158.774 1421.01 Q161.852 1425.6 161.852 1434.35 Q161.852 1443.07 158.774 1447.68 Q155.718 1452.26 149.908 1452.26 Q144.098 1452.26 141.019 1447.68 Q137.964 1443.07 137.964 1434.35 Q137.964 1425.6 141.019 1421.01 Q144.098 1416.41 149.908 1416.41 Z\" fill=\"#000000\" fill-rule=\"evenodd\" fill-opacity=\"1\" /><path clip-path=\"url(#clip970)\" d=\"M 0 0 M161.852 1410.51 L185.964 1410.51 L185.964 1413.71 L161.852 1413.71 L161.852 1410.51 Z\" fill=\"#000000\" fill-rule=\"evenodd\" fill-opacity=\"1\" /><path clip-path=\"url(#clip970)\" d=\"M 0 0 M190.741 1420.98 L196.948 1420.98 L196.948 1399.56 L190.196 1400.92 L190.196 1397.46 L196.91 1396.1 L200.709 1396.1 L200.709 1420.98 L206.916 1420.98 L206.916 1424.18 L190.741 1424.18 L190.741 1420.98 Z\" fill=\"#000000\" fill-rule=\"evenodd\" fill-opacity=\"1\" /><path clip-path=\"url(#clip970)\" d=\"M 0 0 M219.16 1398.6 Q216.226 1398.6 214.74 1401.5 Q213.273 1404.38 213.273 1410.17 Q213.273 1415.94 214.74 1418.84 Q216.226 1421.72 219.16 1421.72 Q222.113 1421.72 223.58 1418.84 Q225.065 1415.94 225.065 1410.17 Q225.065 1404.38 223.58 1401.5 Q222.113 1398.6 219.16 1398.6 M219.16 1395.59 Q223.881 1395.59 226.363 1399.34 Q228.865 1403.06 228.865 1410.17 Q228.865 1417.26 226.363 1421 Q223.881 1424.73 219.16 1424.73 Q214.439 1424.73 211.938 1421 Q209.455 1417.26 209.455 1410.17 Q209.455 1403.06 211.938 1399.34 Q214.439 1395.59 219.16 1395.59 Z\" fill=\"#000000\" fill-rule=\"evenodd\" fill-opacity=\"1\" /><path clip-path=\"url(#clip970)\" d=\"M 0 0 M135.959 1171.53 L143.597 1171.53 L143.597 1145.17 L135.287 1146.83 L135.287 1142.57 L143.551 1140.91 L148.227 1140.91 L148.227 1171.53 L155.866 1171.53 L155.866 1175.47 L135.959 1175.47 L135.959 1171.53 Z\" fill=\"#000000\" fill-rule=\"evenodd\" fill-opacity=\"1\" /><path clip-path=\"url(#clip970)\" d=\"M 0 0 M170.935 1143.99 Q167.324 1143.99 165.495 1147.55 Q163.69 1151.09 163.69 1158.22 Q163.69 1165.33 165.495 1168.89 Q167.324 1172.44 170.935 1172.44 Q174.569 1172.44 176.375 1168.89 Q178.204 1165.33 178.204 1158.22 Q178.204 1151.09 176.375 1147.55 Q174.569 1143.99 170.935 1143.99 M170.935 1140.28 Q176.745 1140.28 179.801 1144.89 Q182.88 1149.47 182.88 1158.22 Q182.88 1166.95 179.801 1171.56 Q176.745 1176.14 170.935 1176.14 Q165.125 1176.14 162.046 1171.56 Q158.991 1166.95 158.991 1158.22 Q158.991 1149.47 162.046 1144.89 Q165.125 1140.28 170.935 1140.28 Z\" fill=\"#000000\" fill-rule=\"evenodd\" fill-opacity=\"1\" /><path clip-path=\"url(#clip970)\" d=\"M 0 0 M182.88 1134.38 L206.991 1134.38 L206.991 1137.58 L182.88 1137.58 L182.88 1134.38 Z\" fill=\"#000000\" fill-rule=\"evenodd\" fill-opacity=\"1\" /><path clip-path=\"url(#clip970)\" d=\"M 0 0 M219.235 1134.72 Q216.527 1134.72 214.966 1136.17 Q213.423 1137.62 213.423 1140.16 Q213.423 1142.7 214.966 1144.15 Q216.527 1145.59 219.235 1145.59 Q221.943 1145.59 223.504 1144.15 Q225.065 1142.68 225.065 1140.16 Q225.065 1137.62 223.504 1136.17 Q221.962 1134.72 219.235 1134.72 M215.436 1133.11 Q212.991 1132.5 211.618 1130.83 Q210.264 1129.16 210.264 1126.75 Q210.264 1123.38 212.652 1121.43 Q215.06 1119.47 219.235 1119.47 Q223.429 1119.47 225.818 1121.43 Q228.206 1123.38 228.206 1126.75 Q228.206 1129.16 226.833 1130.83 Q225.479 1132.5 223.053 1133.11 Q225.799 1133.74 227.322 1135.61 Q228.865 1137.47 228.865 1140.16 Q228.865 1144.24 226.363 1146.42 Q223.881 1148.6 219.235 1148.6 Q214.589 1148.6 212.088 1146.42 Q209.605 1144.24 209.605 1140.16 Q209.605 1137.47 211.148 1135.61 Q212.69 1133.74 215.436 1133.11 M214.044 1127.11 Q214.044 1129.29 215.398 1130.51 Q216.771 1131.73 219.235 1131.73 Q221.68 1131.73 223.053 1130.51 Q224.445 1129.29 224.445 1127.11 Q224.445 1124.92 223.053 1123.7 Q221.68 1122.48 219.235 1122.48 Q216.771 1122.48 215.398 1123.7 Q214.044 1124.92 214.044 1127.11 Z\" fill=\"#000000\" fill-rule=\"evenodd\" fill-opacity=\"1\" /><path clip-path=\"url(#clip970)\" d=\"M 0 0 M135.752 895.409 L143.39 895.409 L143.39 869.043 L135.08 870.71 L135.08 866.451 L143.344 864.784 L148.02 864.784 L148.02 895.409 L155.659 895.409 L155.659 899.344 L135.752 899.344 L135.752 895.409 Z\" fill=\"#000000\" fill-rule=\"evenodd\" fill-opacity=\"1\" /><path clip-path=\"url(#clip970)\" d=\"M 0 0 M170.728 867.863 Q167.117 867.863 165.289 871.427 Q163.483 874.969 163.483 882.099 Q163.483 889.205 165.289 892.77 Q167.117 896.312 170.728 896.312 Q174.363 896.312 176.168 892.77 Q177.997 889.205 177.997 882.099 Q177.997 874.969 176.168 871.427 Q174.363 867.863 170.728 867.863 M170.728 864.159 Q176.538 864.159 179.594 868.765 Q182.673 873.349 182.673 882.099 Q182.673 890.826 179.594 895.432 Q176.538 900.015 170.728 900.015 Q164.918 900.015 161.839 895.432 Q158.784 890.826 158.784 882.099 Q158.784 873.349 161.839 868.765 Q164.918 864.159 170.728 864.159 Z\" fill=\"#000000\" fill-rule=\"evenodd\" fill-opacity=\"1\" /><path clip-path=\"url(#clip970)\" d=\"M 0 0 M182.673 858.26 L206.784 858.26 L206.784 861.458 L182.673 861.458 L182.673 858.26 Z\" fill=\"#000000\" fill-rule=\"evenodd\" fill-opacity=\"1\" /><path clip-path=\"url(#clip970)\" d=\"M 0 0 M219.498 856.38 Q216.94 856.38 215.436 858.129 Q213.95 859.878 213.95 862.925 Q213.95 865.953 215.436 867.721 Q216.94 869.47 219.498 869.47 Q222.056 869.47 223.542 867.721 Q225.047 865.953 225.047 862.925 Q225.047 859.878 223.542 858.129 Q222.056 856.38 219.498 856.38 M227.04 844.474 L227.04 847.935 Q225.611 847.258 224.144 846.9 Q222.696 846.543 221.266 846.543 Q217.505 846.543 215.511 849.082 Q213.536 851.621 213.254 856.756 Q214.364 855.119 216.038 854.254 Q217.712 853.37 219.724 853.37 Q223.956 853.37 226.401 855.947 Q228.865 858.505 228.865 862.925 Q228.865 867.25 226.307 869.865 Q223.749 872.479 219.498 872.479 Q214.627 872.479 212.05 868.755 Q209.474 865.012 209.474 857.922 Q209.474 851.264 212.633 847.314 Q215.793 843.346 221.116 843.346 Q222.545 843.346 223.993 843.628 Q225.46 843.91 227.04 844.474 Z\" fill=\"#000000\" fill-rule=\"evenodd\" fill-opacity=\"1\" /><path clip-path=\"url(#clip970)\" d=\"M 0 0 M135.488 619.285 L143.127 619.285 L143.127 592.919 L134.817 594.586 L134.817 590.327 L143.081 588.66 L147.757 588.66 L147.757 619.285 L155.396 619.285 L155.396 623.22 L135.488 623.22 L135.488 619.285 Z\" fill=\"#000000\" fill-rule=\"evenodd\" fill-opacity=\"1\" /><path clip-path=\"url(#clip970)\" d=\"M 0 0 M170.465 591.739 Q166.854 591.739 165.025 595.303 Q163.22 598.845 163.22 605.975 Q163.22 613.081 165.025 616.646 Q166.854 620.187 170.465 620.187 Q174.099 620.187 175.905 616.646 Q177.733 613.081 177.733 605.975 Q177.733 598.845 175.905 595.303 Q174.099 591.739 170.465 591.739 M170.465 588.035 Q176.275 588.035 179.331 592.641 Q182.409 597.225 182.409 605.975 Q182.409 614.701 179.331 619.308 Q176.275 623.891 170.465 623.891 Q164.655 623.891 161.576 619.308 Q158.521 614.701 158.521 605.975 Q158.521 597.225 161.576 592.641 Q164.655 588.035 170.465 588.035 Z\" fill=\"#000000\" fill-rule=\"evenodd\" fill-opacity=\"1\" /><path clip-path=\"url(#clip970)\" d=\"M 0 0 M182.409 582.136 L206.521 582.136 L206.521 585.334 L182.409 585.334 L182.409 582.136 Z\" fill=\"#000000\" fill-rule=\"evenodd\" fill-opacity=\"1\" /><path clip-path=\"url(#clip970)\" d=\"M 0 0 M221.078 571.04 L211.486 586.029 L221.078 586.029 L221.078 571.04 M220.081 567.729 L224.859 567.729 L224.859 586.029 L228.865 586.029 L228.865 589.189 L224.859 589.189 L224.859 595.809 L221.078 595.809 L221.078 589.189 L208.402 589.189 L208.402 585.522 L220.081 567.729 Z\" fill=\"#000000\" fill-rule=\"evenodd\" fill-opacity=\"1\" /><path clip-path=\"url(#clip970)\" d=\"M 0 0 M137.181 343.161 L144.82 343.161 L144.82 316.795 L136.51 318.462 L136.51 314.202 L144.774 312.536 L149.449 312.536 L149.449 343.161 L157.088 343.161 L157.088 347.096 L137.181 347.096 L137.181 343.161 Z\" fill=\"#000000\" fill-rule=\"evenodd\" fill-opacity=\"1\" /><path clip-path=\"url(#clip970)\" d=\"M 0 0 M172.158 315.614 Q168.547 315.614 166.718 319.179 Q164.912 322.721 164.912 329.851 Q164.912 336.957 166.718 340.522 Q168.547 344.063 172.158 344.063 Q175.792 344.063 177.597 340.522 Q179.426 336.957 179.426 329.851 Q179.426 322.721 177.597 319.179 Q175.792 315.614 172.158 315.614 M172.158 311.911 Q177.968 311.911 181.023 316.517 Q184.102 321.101 184.102 329.851 Q184.102 338.577 181.023 343.184 Q177.968 347.767 172.158 347.767 Q166.348 347.767 163.269 343.184 Q160.213 338.577 160.213 329.851 Q160.213 321.101 163.269 316.517 Q166.348 311.911 172.158 311.911 Z\" fill=\"#000000\" fill-rule=\"evenodd\" fill-opacity=\"1\" /><path clip-path=\"url(#clip970)\" d=\"M 0 0 M184.102 306.012 L208.214 306.012 L208.214 309.209 L184.102 309.209 L184.102 306.012 Z\" fill=\"#000000\" fill-rule=\"evenodd\" fill-opacity=\"1\" /><path clip-path=\"url(#clip970)\" d=\"M 0 0 M215.605 316.488 L228.865 316.488 L228.865 319.685 L211.035 319.685 L211.035 316.488 Q213.198 314.25 216.922 310.488 Q220.664 306.708 221.624 305.617 Q223.448 303.567 224.163 302.157 Q224.896 300.727 224.896 299.354 Q224.896 297.116 223.316 295.705 Q221.755 294.295 219.235 294.295 Q217.448 294.295 215.455 294.916 Q213.48 295.536 211.223 296.796 L211.223 292.96 Q213.517 292.038 215.511 291.568 Q217.505 291.098 219.16 291.098 Q223.523 291.098 226.119 293.279 Q228.714 295.461 228.714 299.11 Q228.714 300.84 228.056 302.401 Q227.416 303.943 225.705 306.05 Q225.235 306.595 222.714 309.209 Q220.194 311.805 215.605 316.488 Z\" fill=\"#000000\" fill-rule=\"evenodd\" fill-opacity=\"1\" /><path clip-path=\"url(#clip970)\" d=\"M 0 0 M162.534 67.0365 L170.173 67.0365 L170.173 40.6709 L161.863 42.3376 L161.863 38.0784 L170.126 36.4117 L174.802 36.4117 L174.802 67.0365 L182.441 67.0365 L182.441 70.9717 L162.534 70.9717 L162.534 67.0365 Z\" fill=\"#000000\" fill-rule=\"evenodd\" fill-opacity=\"1\" /><path clip-path=\"url(#clip970)\" d=\"M 0 0 M197.511 39.4904 Q193.899 39.4904 192.071 43.0552 Q190.265 46.5968 190.265 53.7264 Q190.265 60.8329 192.071 64.3977 Q193.899 67.9393 197.511 67.9393 Q201.145 67.9393 202.95 64.3977 Q204.779 60.8329 204.779 53.7264 Q204.779 46.5968 202.95 43.0552 Q201.145 39.4904 197.511 39.4904 M197.511 35.7867 Q203.321 35.7867 206.376 40.3932 Q209.455 44.9765 209.455 53.7264 Q209.455 62.4532 206.376 67.0597 Q203.321 71.643 197.511 71.643 Q191.7 71.643 188.622 67.0597 Q185.566 62.4532 185.566 53.7264 Q185.566 44.9765 188.622 40.3932 Q191.7 35.7867 197.511 35.7867 Z\" fill=\"#000000\" fill-rule=\"evenodd\" fill-opacity=\"1\" /><path clip-path=\"url(#clip970)\" d=\"M 0 0 M219.16 17.9827 Q216.226 17.9827 214.74 20.8791 Q213.273 23.7567 213.273 29.5495 Q213.273 35.3235 214.74 38.2199 Q216.226 41.0975 219.16 41.0975 Q222.113 41.0975 223.58 38.2199 Q225.065 35.3235 225.065 29.5495 Q225.065 23.7567 223.58 20.8791 Q222.113 17.9827 219.16 17.9827 M219.16 14.9735 Q223.881 14.9735 226.363 18.7162 Q228.865 22.4402 228.865 29.5495 Q228.865 36.64 226.363 40.3828 Q223.881 44.1067 219.16 44.1067 Q214.439 44.1067 211.938 40.3828 Q209.455 36.64 209.455 29.5495 Q209.455 22.4402 211.938 18.7162 Q214.439 14.9735 219.16 14.9735 Z\" fill=\"#000000\" fill-rule=\"evenodd\" fill-opacity=\"1\" /><path clip-path=\"url(#clip970)\" d=\"M 0 0 M68.7161 778.104 L71.5806 778.104 L71.5806 805.031 Q77.6281 804.649 80.8109 801.402 Q83.9619 798.124 83.9619 792.299 Q83.9619 788.926 83.1344 785.775 Q82.3069 782.592 80.6518 779.473 L86.1899 779.473 Q87.5267 782.624 88.227 785.934 Q88.9272 789.244 88.9272 792.65 Q88.9272 801.18 83.9619 806.177 Q78.9967 811.142 70.5303 811.142 Q61.7774 811.142 56.6531 806.431 Q51.4968 801.689 51.4968 793.668 Q51.4968 786.475 56.1438 782.305 Q60.7589 778.104 68.7161 778.104 M66.9973 783.96 Q62.1912 784.024 59.3266 786.666 Q56.4621 789.276 56.4621 793.604 Q56.4621 798.506 59.2312 801.466 Q62.0002 804.394 67.0292 804.84 L66.9973 783.96 Z\" fill=\"#000000\" fill-rule=\"evenodd\" fill-opacity=\"1\" /><path clip-path=\"url(#clip970)\" d=\"M 0 0 M57.8307 751.304 Q57.2578 752.291 57.0032 753.469 Q56.7167 754.614 56.7167 756.015 Q56.7167 760.98 59.9632 763.654 Q63.1779 766.295 69.2253 766.295 L88.0042 766.295 L88.0042 772.184 L52.3562 772.184 L52.3562 766.295 L57.8944 766.295 Q54.6479 764.449 53.0883 761.489 Q51.4968 758.529 51.4968 754.296 Q51.4968 753.691 51.5923 752.959 Q51.656 752.227 51.8151 751.336 L57.8307 751.304 Z\" fill=\"#000000\" fill-rule=\"evenodd\" fill-opacity=\"1\" /><path clip-path=\"url(#clip970)\" d=\"M 0 0 M57.8307 725.65 Q57.2578 726.637 57.0032 727.815 Q56.7167 728.961 56.7167 730.361 Q56.7167 735.326 59.9632 738 Q63.1779 740.642 69.2253 740.642 L88.0042 740.642 L88.0042 746.53 L52.3562 746.53 L52.3562 740.642 L57.8944 740.642 Q54.6479 738.796 53.0883 735.836 Q51.4968 732.876 51.4968 728.642 Q51.4968 728.038 51.5923 727.306 Q51.656 726.573 51.8151 725.682 L57.8307 725.65 Z\" fill=\"#000000\" fill-rule=\"evenodd\" fill-opacity=\"1\" /><path clip-path=\"url(#clip970)\" d=\"M 0 0 M56.4621 707.126 Q56.4621 711.837 60.1542 714.574 Q63.8145 717.311 70.212 717.311 Q76.6095 717.311 80.3017 714.606 Q83.9619 711.869 83.9619 707.126 Q83.9619 702.447 80.2698 699.71 Q76.5777 696.973 70.212 696.973 Q63.8781 696.973 60.186 699.71 Q56.4621 702.447 56.4621 707.126 M51.4968 707.126 Q51.4968 699.487 56.4621 695.127 Q61.4273 690.766 70.212 690.766 Q78.9649 690.766 83.9619 695.127 Q88.9272 699.487 88.9272 707.126 Q88.9272 714.797 83.9619 719.157 Q78.9649 723.486 70.212 723.486 Q61.4273 723.486 56.4621 719.157 Q51.4968 714.797 51.4968 707.126 Z\" fill=\"#000000\" fill-rule=\"evenodd\" fill-opacity=\"1\" /><path clip-path=\"url(#clip970)\" d=\"M 0 0 M57.8307 663.967 Q57.2578 664.953 57.0032 666.131 Q56.7167 667.277 56.7167 668.677 Q56.7167 673.643 59.9632 676.316 Q63.1779 678.958 69.2253 678.958 L88.0042 678.958 L88.0042 684.846 L52.3562 684.846 L52.3562 678.958 L57.8944 678.958 Q54.6479 677.112 53.0883 674.152 Q51.4968 671.192 51.4968 666.959 Q51.4968 666.354 51.5923 665.622 Q51.656 664.89 51.8151 663.999 L57.8307 663.967 Z\" fill=\"#000000\" fill-rule=\"evenodd\" fill-opacity=\"1\" /><polyline clip-path=\"url(#clip972)\" style=\"stroke:#009af9; stroke-width:4; stroke-opacity:1; fill:none\" points=\"\n",
       "  2293.66,92.1999 2244.42,164.746 2195.18,235.996 2145.94,305.848 2096.69,375.151 2047.45,444.269 1998.21,513.327 1948.97,582.367 1899.72,651.401 1850.48,720.433 \n",
       "  1801.24,789.464 1751.99,858.495 1702.75,927.525 1653.51,996.56 1604.27,1065.94 1555.02,1139.48 1505.78,1224.54 1456.54,1093.73 1407.3,1052.27 1358.05,997.196 \n",
       "  1308.81,1045.84 1259.57,880.511 1210.32,866.269 1161.08,713.383 1111.84,649.762 1062.6,713.383 1013.35,479.979 964.111,521.689 914.868,382.87 865.626,304.592 \n",
       "  816.383,299.824 767.14,147.068 717.898,84.1568 668.655,84.1568 619.412,84.1568 570.169,84.1568 520.927,84.1568 471.684,84.1568 422.441,84.1568 373.199,84.1568 \n",
       "  323.956,84.1568 \n",
       "  \"/>\n",
       "<circle clip-path=\"url(#clip972)\" cx=\"2293.66\" cy=\"92.1999\" r=\"14\" fill=\"#009af9\" fill-rule=\"evenodd\" fill-opacity=\"1\" stroke=\"#000000\" stroke-opacity=\"1\" stroke-width=\"3.2\"/>\n",
       "<circle clip-path=\"url(#clip972)\" cx=\"2244.42\" cy=\"164.746\" r=\"14\" fill=\"#009af9\" fill-rule=\"evenodd\" fill-opacity=\"1\" stroke=\"#000000\" stroke-opacity=\"1\" stroke-width=\"3.2\"/>\n",
       "<circle clip-path=\"url(#clip972)\" cx=\"2195.18\" cy=\"235.996\" r=\"14\" fill=\"#009af9\" fill-rule=\"evenodd\" fill-opacity=\"1\" stroke=\"#000000\" stroke-opacity=\"1\" stroke-width=\"3.2\"/>\n",
       "<circle clip-path=\"url(#clip972)\" cx=\"2145.94\" cy=\"305.848\" r=\"14\" fill=\"#009af9\" fill-rule=\"evenodd\" fill-opacity=\"1\" stroke=\"#000000\" stroke-opacity=\"1\" stroke-width=\"3.2\"/>\n",
       "<circle clip-path=\"url(#clip972)\" cx=\"2096.69\" cy=\"375.151\" r=\"14\" fill=\"#009af9\" fill-rule=\"evenodd\" fill-opacity=\"1\" stroke=\"#000000\" stroke-opacity=\"1\" stroke-width=\"3.2\"/>\n",
       "<circle clip-path=\"url(#clip972)\" cx=\"2047.45\" cy=\"444.269\" r=\"14\" fill=\"#009af9\" fill-rule=\"evenodd\" fill-opacity=\"1\" stroke=\"#000000\" stroke-opacity=\"1\" stroke-width=\"3.2\"/>\n",
       "<circle clip-path=\"url(#clip972)\" cx=\"1998.21\" cy=\"513.327\" r=\"14\" fill=\"#009af9\" fill-rule=\"evenodd\" fill-opacity=\"1\" stroke=\"#000000\" stroke-opacity=\"1\" stroke-width=\"3.2\"/>\n",
       "<circle clip-path=\"url(#clip972)\" cx=\"1948.97\" cy=\"582.367\" r=\"14\" fill=\"#009af9\" fill-rule=\"evenodd\" fill-opacity=\"1\" stroke=\"#000000\" stroke-opacity=\"1\" stroke-width=\"3.2\"/>\n",
       "<circle clip-path=\"url(#clip972)\" cx=\"1899.72\" cy=\"651.401\" r=\"14\" fill=\"#009af9\" fill-rule=\"evenodd\" fill-opacity=\"1\" stroke=\"#000000\" stroke-opacity=\"1\" stroke-width=\"3.2\"/>\n",
       "<circle clip-path=\"url(#clip972)\" cx=\"1850.48\" cy=\"720.433\" r=\"14\" fill=\"#009af9\" fill-rule=\"evenodd\" fill-opacity=\"1\" stroke=\"#000000\" stroke-opacity=\"1\" stroke-width=\"3.2\"/>\n",
       "<circle clip-path=\"url(#clip972)\" cx=\"1801.24\" cy=\"789.464\" r=\"14\" fill=\"#009af9\" fill-rule=\"evenodd\" fill-opacity=\"1\" stroke=\"#000000\" stroke-opacity=\"1\" stroke-width=\"3.2\"/>\n",
       "<circle clip-path=\"url(#clip972)\" cx=\"1751.99\" cy=\"858.495\" r=\"14\" fill=\"#009af9\" fill-rule=\"evenodd\" fill-opacity=\"1\" stroke=\"#000000\" stroke-opacity=\"1\" stroke-width=\"3.2\"/>\n",
       "<circle clip-path=\"url(#clip972)\" cx=\"1702.75\" cy=\"927.525\" r=\"14\" fill=\"#009af9\" fill-rule=\"evenodd\" fill-opacity=\"1\" stroke=\"#000000\" stroke-opacity=\"1\" stroke-width=\"3.2\"/>\n",
       "<circle clip-path=\"url(#clip972)\" cx=\"1653.51\" cy=\"996.56\" r=\"14\" fill=\"#009af9\" fill-rule=\"evenodd\" fill-opacity=\"1\" stroke=\"#000000\" stroke-opacity=\"1\" stroke-width=\"3.2\"/>\n",
       "<circle clip-path=\"url(#clip972)\" cx=\"1604.27\" cy=\"1065.94\" r=\"14\" fill=\"#009af9\" fill-rule=\"evenodd\" fill-opacity=\"1\" stroke=\"#000000\" stroke-opacity=\"1\" stroke-width=\"3.2\"/>\n",
       "<circle clip-path=\"url(#clip972)\" cx=\"1555.02\" cy=\"1139.48\" r=\"14\" fill=\"#009af9\" fill-rule=\"evenodd\" fill-opacity=\"1\" stroke=\"#000000\" stroke-opacity=\"1\" stroke-width=\"3.2\"/>\n",
       "<circle clip-path=\"url(#clip972)\" cx=\"1505.78\" cy=\"1224.54\" r=\"14\" fill=\"#009af9\" fill-rule=\"evenodd\" fill-opacity=\"1\" stroke=\"#000000\" stroke-opacity=\"1\" stroke-width=\"3.2\"/>\n",
       "<circle clip-path=\"url(#clip972)\" cx=\"1456.54\" cy=\"1093.73\" r=\"14\" fill=\"#009af9\" fill-rule=\"evenodd\" fill-opacity=\"1\" stroke=\"#000000\" stroke-opacity=\"1\" stroke-width=\"3.2\"/>\n",
       "<circle clip-path=\"url(#clip972)\" cx=\"1407.3\" cy=\"1052.27\" r=\"14\" fill=\"#009af9\" fill-rule=\"evenodd\" fill-opacity=\"1\" stroke=\"#000000\" stroke-opacity=\"1\" stroke-width=\"3.2\"/>\n",
       "<circle clip-path=\"url(#clip972)\" cx=\"1358.05\" cy=\"997.196\" r=\"14\" fill=\"#009af9\" fill-rule=\"evenodd\" fill-opacity=\"1\" stroke=\"#000000\" stroke-opacity=\"1\" stroke-width=\"3.2\"/>\n",
       "<circle clip-path=\"url(#clip972)\" cx=\"1308.81\" cy=\"1045.84\" r=\"14\" fill=\"#009af9\" fill-rule=\"evenodd\" fill-opacity=\"1\" stroke=\"#000000\" stroke-opacity=\"1\" stroke-width=\"3.2\"/>\n",
       "<circle clip-path=\"url(#clip972)\" cx=\"1259.57\" cy=\"880.511\" r=\"14\" fill=\"#009af9\" fill-rule=\"evenodd\" fill-opacity=\"1\" stroke=\"#000000\" stroke-opacity=\"1\" stroke-width=\"3.2\"/>\n",
       "<circle clip-path=\"url(#clip972)\" cx=\"1210.32\" cy=\"866.269\" r=\"14\" fill=\"#009af9\" fill-rule=\"evenodd\" fill-opacity=\"1\" stroke=\"#000000\" stroke-opacity=\"1\" stroke-width=\"3.2\"/>\n",
       "<circle clip-path=\"url(#clip972)\" cx=\"1161.08\" cy=\"713.383\" r=\"14\" fill=\"#009af9\" fill-rule=\"evenodd\" fill-opacity=\"1\" stroke=\"#000000\" stroke-opacity=\"1\" stroke-width=\"3.2\"/>\n",
       "<circle clip-path=\"url(#clip972)\" cx=\"1111.84\" cy=\"649.762\" r=\"14\" fill=\"#009af9\" fill-rule=\"evenodd\" fill-opacity=\"1\" stroke=\"#000000\" stroke-opacity=\"1\" stroke-width=\"3.2\"/>\n",
       "<circle clip-path=\"url(#clip972)\" cx=\"1062.6\" cy=\"713.383\" r=\"14\" fill=\"#009af9\" fill-rule=\"evenodd\" fill-opacity=\"1\" stroke=\"#000000\" stroke-opacity=\"1\" stroke-width=\"3.2\"/>\n",
       "<circle clip-path=\"url(#clip972)\" cx=\"1013.35\" cy=\"479.979\" r=\"14\" fill=\"#009af9\" fill-rule=\"evenodd\" fill-opacity=\"1\" stroke=\"#000000\" stroke-opacity=\"1\" stroke-width=\"3.2\"/>\n",
       "<circle clip-path=\"url(#clip972)\" cx=\"964.111\" cy=\"521.689\" r=\"14\" fill=\"#009af9\" fill-rule=\"evenodd\" fill-opacity=\"1\" stroke=\"#000000\" stroke-opacity=\"1\" stroke-width=\"3.2\"/>\n",
       "<circle clip-path=\"url(#clip972)\" cx=\"914.868\" cy=\"382.87\" r=\"14\" fill=\"#009af9\" fill-rule=\"evenodd\" fill-opacity=\"1\" stroke=\"#000000\" stroke-opacity=\"1\" stroke-width=\"3.2\"/>\n",
       "<circle clip-path=\"url(#clip972)\" cx=\"865.626\" cy=\"304.592\" r=\"14\" fill=\"#009af9\" fill-rule=\"evenodd\" fill-opacity=\"1\" stroke=\"#000000\" stroke-opacity=\"1\" stroke-width=\"3.2\"/>\n",
       "<circle clip-path=\"url(#clip972)\" cx=\"816.383\" cy=\"299.824\" r=\"14\" fill=\"#009af9\" fill-rule=\"evenodd\" fill-opacity=\"1\" stroke=\"#000000\" stroke-opacity=\"1\" stroke-width=\"3.2\"/>\n",
       "<circle clip-path=\"url(#clip972)\" cx=\"767.14\" cy=\"147.068\" r=\"14\" fill=\"#009af9\" fill-rule=\"evenodd\" fill-opacity=\"1\" stroke=\"#000000\" stroke-opacity=\"1\" stroke-width=\"3.2\"/>\n",
       "<circle clip-path=\"url(#clip972)\" cx=\"717.898\" cy=\"84.1568\" r=\"14\" fill=\"#009af9\" fill-rule=\"evenodd\" fill-opacity=\"1\" stroke=\"#000000\" stroke-opacity=\"1\" stroke-width=\"3.2\"/>\n",
       "<circle clip-path=\"url(#clip972)\" cx=\"668.655\" cy=\"84.1568\" r=\"14\" fill=\"#009af9\" fill-rule=\"evenodd\" fill-opacity=\"1\" stroke=\"#000000\" stroke-opacity=\"1\" stroke-width=\"3.2\"/>\n",
       "<circle clip-path=\"url(#clip972)\" cx=\"619.412\" cy=\"84.1568\" r=\"14\" fill=\"#009af9\" fill-rule=\"evenodd\" fill-opacity=\"1\" stroke=\"#000000\" stroke-opacity=\"1\" stroke-width=\"3.2\"/>\n",
       "<circle clip-path=\"url(#clip972)\" cx=\"570.169\" cy=\"84.1568\" r=\"14\" fill=\"#009af9\" fill-rule=\"evenodd\" fill-opacity=\"1\" stroke=\"#000000\" stroke-opacity=\"1\" stroke-width=\"3.2\"/>\n",
       "<circle clip-path=\"url(#clip972)\" cx=\"520.927\" cy=\"84.1568\" r=\"14\" fill=\"#009af9\" fill-rule=\"evenodd\" fill-opacity=\"1\" stroke=\"#000000\" stroke-opacity=\"1\" stroke-width=\"3.2\"/>\n",
       "<circle clip-path=\"url(#clip972)\" cx=\"471.684\" cy=\"84.1568\" r=\"14\" fill=\"#009af9\" fill-rule=\"evenodd\" fill-opacity=\"1\" stroke=\"#000000\" stroke-opacity=\"1\" stroke-width=\"3.2\"/>\n",
       "<circle clip-path=\"url(#clip972)\" cx=\"422.441\" cy=\"84.1568\" r=\"14\" fill=\"#009af9\" fill-rule=\"evenodd\" fill-opacity=\"1\" stroke=\"#000000\" stroke-opacity=\"1\" stroke-width=\"3.2\"/>\n",
       "<circle clip-path=\"url(#clip972)\" cx=\"373.199\" cy=\"84.1568\" r=\"14\" fill=\"#009af9\" fill-rule=\"evenodd\" fill-opacity=\"1\" stroke=\"#000000\" stroke-opacity=\"1\" stroke-width=\"3.2\"/>\n",
       "<circle clip-path=\"url(#clip972)\" cx=\"323.956\" cy=\"84.1568\" r=\"14\" fill=\"#009af9\" fill-rule=\"evenodd\" fill-opacity=\"1\" stroke=\"#000000\" stroke-opacity=\"1\" stroke-width=\"3.2\"/>\n",
       "<polyline clip-path=\"url(#clip972)\" style=\"stroke:#e26f46; stroke-width:4; stroke-opacity:1; fill:none\" stroke-dasharray=\"16, 10\" points=\"\n",
       "  2293.66,99.1542 2244.42,168.185 2195.18,237.216 2145.94,306.247 2096.69,375.278 2047.45,444.309 1998.21,513.34 1948.97,582.371 1899.72,651.402 1850.48,720.433 \n",
       "  1801.24,789.464 1751.99,858.495 1702.75,927.526 1653.51,996.557 1604.27,1065.59 1555.02,1134.62 1505.78,1203.65 1456.54,1272.68 1407.3,1341.71 1358.05,1410.74 \n",
       "  1308.81,1479.77 1259.57,1548.81 1210.32,1617.84 1161.08,1686.87 1111.84,1755.9 1062.6,1824.93 1013.35,1893.96 964.111,1962.99 914.868,2032.02 865.626,2101.05 \n",
       "  816.383,2170.08 767.14,2239.12 717.898,2308.15 668.655,2377.18 619.412,2446.21 570.169,2515.24 520.927,2584.27 471.684,2653.3 422.441,2722.33 373.199,2791.36 \n",
       "  323.956,2860.4 \n",
       "  \"/>\n",
       "<path clip-path=\"url(#clip970)\" d=\"\n",
       "M334.461 1381.84 L703.022 1381.84 L703.022 1200.4 L334.461 1200.4  Z\n",
       "  \" fill=\"#ffffff\" fill-rule=\"evenodd\" fill-opacity=\"1\"/>\n",
       "<polyline clip-path=\"url(#clip970)\" style=\"stroke:#000000; stroke-width:4; stroke-opacity:1; fill:none\" points=\"\n",
       "  334.461,1381.84 703.022,1381.84 703.022,1200.4 334.461,1200.4 334.461,1381.84 \n",
       "  \"/>\n",
       "<polyline clip-path=\"url(#clip970)\" style=\"stroke:#009af9; stroke-width:4; stroke-opacity:1; fill:none\" points=\"\n",
       "  357.66,1260.88 496.853,1260.88 \n",
       "  \"/>\n",
       "<circle clip-path=\"url(#clip970)\" cx=\"427.256\" cy=\"1260.88\" r=\"23\" fill=\"#009af9\" fill-rule=\"evenodd\" fill-opacity=\"1\" stroke=\"#000000\" stroke-opacity=\"1\" stroke-width=\"5.12\"/>\n",
       "<path clip-path=\"url(#clip970)\" d=\"M 0 0 M533.454 1265.13 Q528.292 1265.13 526.301 1266.31 Q524.311 1267.49 524.311 1270.34 Q524.311 1272.61 525.792 1273.95 Q527.297 1275.27 529.866 1275.27 Q533.408 1275.27 535.537 1272.77 Q537.69 1270.25 537.69 1266.08 L537.69 1265.13 L533.454 1265.13 M541.949 1263.37 L541.949 1278.16 L537.69 1278.16 L537.69 1274.23 Q536.232 1276.59 534.056 1277.72 Q531.88 1278.84 528.732 1278.84 Q524.75 1278.84 522.389 1276.61 Q520.051 1274.37 520.051 1270.62 Q520.051 1266.24 522.968 1264.02 Q525.908 1261.8 531.718 1261.8 L537.69 1261.8 L537.69 1261.38 Q537.69 1258.44 535.746 1256.84 Q533.824 1255.22 530.329 1255.22 Q528.107 1255.22 526 1255.76 Q523.894 1256.29 521.949 1257.35 L521.949 1253.42 Q524.287 1252.52 526.486 1252.08 Q528.686 1251.61 530.769 1251.61 Q536.394 1251.61 539.172 1254.53 Q541.949 1257.45 541.949 1263.37 Z\" fill=\"#000000\" fill-rule=\"evenodd\" fill-opacity=\"1\" /><path clip-path=\"url(#clip970)\" d=\"M 0 0 M565.028 1265.22 Q565.028 1260.53 563.083 1257.86 Q561.162 1255.18 557.783 1255.18 Q554.403 1255.18 552.459 1257.86 Q550.537 1260.53 550.537 1265.22 Q550.537 1269.92 552.459 1272.61 Q554.403 1275.27 557.783 1275.27 Q561.162 1275.27 563.083 1272.61 Q565.028 1269.92 565.028 1265.22 M550.537 1256.17 Q551.88 1253.86 553.917 1252.75 Q555.977 1251.61 558.824 1251.61 Q563.546 1251.61 566.486 1255.36 Q569.449 1259.11 569.449 1265.22 Q569.449 1271.34 566.486 1275.09 Q563.546 1278.84 558.824 1278.84 Q555.977 1278.84 553.917 1277.72 Q551.88 1276.59 550.537 1274.28 L550.537 1278.16 L546.255 1278.16 L546.255 1242.15 L550.537 1242.15 L550.537 1256.17 Z\" fill=\"#000000\" fill-rule=\"evenodd\" fill-opacity=\"1\" /><path clip-path=\"url(#clip970)\" d=\"M 0 0 M590.444 1253 L590.444 1257.03 Q588.639 1256.1 586.694 1255.64 Q584.75 1255.18 582.667 1255.18 Q579.495 1255.18 577.898 1256.15 Q576.324 1257.12 576.324 1259.07 Q576.324 1260.55 577.458 1261.4 Q578.593 1262.24 582.019 1263 L583.477 1263.33 Q588.014 1264.3 589.912 1266.08 Q591.833 1267.84 591.833 1271.01 Q591.833 1274.62 588.963 1276.73 Q586.116 1278.84 581.116 1278.84 Q579.032 1278.84 576.764 1278.42 Q574.519 1278.02 572.019 1277.21 L572.019 1272.82 Q574.38 1274.04 576.671 1274.67 Q578.963 1275.27 581.208 1275.27 Q584.218 1275.27 585.838 1274.25 Q587.458 1273.21 587.458 1271.34 Q587.458 1269.6 586.278 1268.67 Q585.12 1267.75 581.162 1266.89 L579.681 1266.54 Q575.722 1265.71 573.963 1264 Q572.204 1262.26 572.204 1259.25 Q572.204 1255.59 574.796 1253.6 Q577.389 1251.61 582.157 1251.61 Q584.519 1251.61 586.602 1251.96 Q588.685 1252.31 590.444 1253 Z\" fill=\"#000000\" fill-rule=\"evenodd\" fill-opacity=\"1\" /><path clip-path=\"url(#clip970)\" d=\"M 0 0 M618.477 1264.14 L618.477 1266.22 L598.893 1266.22 Q599.171 1270.62 601.532 1272.93 Q603.917 1275.22 608.153 1275.22 Q610.606 1275.22 612.898 1274.62 Q615.213 1274.02 617.481 1272.82 L617.481 1276.84 Q615.19 1277.82 612.782 1278.33 Q610.375 1278.84 607.898 1278.84 Q601.694 1278.84 598.06 1275.22 Q594.449 1271.61 594.449 1265.46 Q594.449 1259.09 597.875 1255.36 Q601.324 1251.61 607.157 1251.61 Q612.389 1251.61 615.421 1254.99 Q618.477 1258.35 618.477 1264.14 M614.217 1262.89 Q614.171 1259.39 612.25 1257.31 Q610.352 1255.22 607.204 1255.22 Q603.639 1255.22 601.486 1257.24 Q599.356 1259.25 599.032 1262.91 L614.217 1262.89 Z\" fill=\"#000000\" fill-rule=\"evenodd\" fill-opacity=\"1\" /><path clip-path=\"url(#clip970)\" d=\"M 0 0 M637.967 1256.22 Q637.25 1255.8 636.393 1255.62 Q635.56 1255.41 634.541 1255.41 Q630.93 1255.41 628.986 1257.77 Q627.065 1260.11 627.065 1264.51 L627.065 1278.16 L622.782 1278.16 L622.782 1252.24 L627.065 1252.24 L627.065 1256.27 Q628.407 1253.9 630.56 1252.77 Q632.713 1251.61 635.791 1251.61 Q636.231 1251.61 636.764 1251.68 Q637.296 1251.73 637.944 1251.84 L637.967 1256.22 Z\" fill=\"#000000\" fill-rule=\"evenodd\" fill-opacity=\"1\" /><path clip-path=\"url(#clip970)\" d=\"M 0 0 M656.625 1256.22 Q655.907 1255.8 655.051 1255.62 Q654.217 1255.41 653.199 1255.41 Q649.588 1255.41 647.643 1257.77 Q645.722 1260.11 645.722 1264.51 L645.722 1278.16 L641.44 1278.16 L641.44 1252.24 L645.722 1252.24 L645.722 1256.27 Q647.065 1253.9 649.217 1252.77 Q651.37 1251.61 654.449 1251.61 Q654.889 1251.61 655.421 1251.68 Q655.953 1251.73 656.601 1251.84 L656.625 1256.22 Z\" fill=\"#000000\" fill-rule=\"evenodd\" fill-opacity=\"1\" /><polyline clip-path=\"url(#clip970)\" style=\"stroke:#e26f46; stroke-width:4; stroke-opacity:1; fill:none\" stroke-dasharray=\"16, 10\" points=\"\n",
       "  357.66,1321.36 496.853,1321.36 \n",
       "  \"/>\n",
       "<path clip-path=\"url(#clip970)\" d=\"M 0 0 M538.963 1316.65 L538.963 1302.63 L543.222 1302.63 L543.222 1338.64 L538.963 1338.64 L538.963 1334.76 Q537.621 1337.07 535.56 1338.2 Q533.523 1339.32 530.653 1339.32 Q525.954 1339.32 522.991 1335.57 Q520.051 1331.82 520.051 1325.7 Q520.051 1319.59 522.991 1315.84 Q525.954 1312.09 530.653 1312.09 Q533.523 1312.09 535.56 1313.23 Q537.621 1314.34 538.963 1316.65 M524.449 1325.7 Q524.449 1330.4 526.371 1333.09 Q528.315 1335.75 531.695 1335.75 Q535.074 1335.75 537.019 1333.09 Q538.963 1330.4 538.963 1325.7 Q538.963 1321.01 537.019 1318.34 Q535.074 1315.66 531.695 1315.66 Q528.315 1315.66 526.371 1318.34 Q524.449 1321.01 524.449 1325.7 Z\" fill=\"#000000\" fill-rule=\"evenodd\" fill-opacity=\"1\" /><path clip-path=\"url(#clip970)\" d=\"M 0 0 M567.389 1346.51 L567.389 1349.82 L542.76 1349.82 L542.76 1346.51 L567.389 1346.51 Z\" fill=\"#000000\" fill-rule=\"evenodd\" fill-opacity=\"1\" /><path clip-path=\"url(#clip970)\" d=\"M 0 0 M594.032 1324.62 L594.032 1326.7 L574.449 1326.7 Q574.727 1331.1 577.088 1333.41 Q579.472 1335.7 583.708 1335.7 Q586.162 1335.7 588.454 1335.1 Q590.769 1334.5 593.037 1333.3 L593.037 1337.32 Q590.745 1338.3 588.338 1338.81 Q585.931 1339.32 583.454 1339.32 Q577.25 1339.32 573.616 1335.7 Q570.005 1332.09 570.005 1325.94 Q570.005 1319.57 573.431 1315.84 Q576.88 1312.09 582.713 1312.09 Q587.944 1312.09 590.977 1315.47 Q594.032 1318.83 594.032 1324.62 M589.773 1323.37 Q589.727 1319.87 587.806 1317.79 Q585.907 1315.7 582.759 1315.7 Q579.194 1315.7 577.042 1317.72 Q574.912 1319.73 574.588 1323.39 L589.773 1323.37 Z\" fill=\"#000000\" fill-rule=\"evenodd\" fill-opacity=\"1\" /><path clip-path=\"url(#clip970)\" d=\"M 0 0 M613.523 1316.7 Q612.805 1316.28 611.949 1316.1 Q611.116 1315.89 610.097 1315.89 Q606.486 1315.89 604.542 1318.25 Q602.62 1320.59 602.62 1324.99 L602.62 1338.64 L598.338 1338.64 L598.338 1312.72 L602.62 1312.72 L602.62 1316.75 Q603.963 1314.38 606.116 1313.25 Q608.268 1312.09 611.347 1312.09 Q611.787 1312.09 612.319 1312.16 Q612.852 1312.21 613.5 1312.32 L613.523 1316.7 Z\" fill=\"#000000\" fill-rule=\"evenodd\" fill-opacity=\"1\" /><path clip-path=\"url(#clip970)\" d=\"M 0 0 M632.18 1316.7 Q631.463 1316.28 630.606 1316.1 Q629.773 1315.89 628.754 1315.89 Q625.143 1315.89 623.199 1318.25 Q621.278 1320.59 621.278 1324.99 L621.278 1338.64 L616.995 1338.64 L616.995 1312.72 L621.278 1312.72 L621.278 1316.75 Q622.62 1314.38 624.773 1313.25 Q626.926 1312.09 630.004 1312.09 Q630.444 1312.09 630.977 1312.16 Q631.509 1312.21 632.157 1312.32 L632.18 1316.7 Z\" fill=\"#000000\" fill-rule=\"evenodd\" fill-opacity=\"1\" /></svg>\n"
      ]
     },
     "execution_count": 38,
     "metadata": {},
     "output_type": "execute_result"
    }
   ],
   "source": [
    "plot(h, abserr, xaxis=:log, yaxis=:log, \n",
    "    label=\"abserr\", legend=:bottomleft, marker=:dot)\n",
    "plot!(h, d_err, label=\"d_err\", linestyle=:dash)\n",
    "ylims!(1e-10, 1.0)\n",
    "ylabel!(\"error\")\n",
    "xlabel!(L\"h\")"
   ]
  },
  {
   "cell_type": "markdown",
   "metadata": {},
   "source": [
    "---\n",
    "# 1.3 Algorithm properties\n",
    "---"
   ]
  },
  {
   "cell_type": "markdown",
   "metadata": {},
   "source": [
    "## Accuracy\n",
    "\n",
    "As we have seen above, it is easy to write *mathematically correct* code that produces very inaccurate results.\n",
    "\n",
    "Accuracy is affected by the following two conditions:\n",
    "\n",
    "1. **Problem conditioning**  \n",
    "    Some problems are highly sensitive to small changes in the input: we call such problems **ill-conditioned**. A problem that is not sensitive to small changes in the input is called **well-conditioned**. For example, computing $\\tan(x)$ for $x$ near $\\pi/2$ is an ill-conditioned problem (**Example 1.5** in Ascher-Greif).\n",
    "2. **Algorithm stability**  \n",
    "    An algorithm is called **stable** if it is guaranteed to produce an exact answer to a *slightly perturbed problem*. (**Example 1.6** in Ascher-Greif gives an example of an **unstable algorithm**)."
   ]
  },
  {
   "cell_type": "markdown",
   "metadata": {},
   "source": [
    "---"
   ]
  },
  {
   "cell_type": "markdown",
   "metadata": {},
   "source": [
    "## Exercise\n",
    "\n",
    "Let \n",
    "\n",
    "$$ y_n = \\int_0^1 \\frac{x^n}{x + 10} dx. $$\n",
    "\n",
    "Show that \n",
    "\n",
    "$$\n",
    "y_n + 10y_{n-1} = \\frac1n\n",
    "$$\n",
    "\n",
    "and that\n",
    "\n",
    "$$\n",
    "y_0 = \\ln(11) - \\ln(10).\n",
    "$$\n",
    "\n",
    "Then use these formulas to numerically compute $y_{30}$."
   ]
  },
  {
   "cell_type": "code",
   "execution_count": 44,
   "metadata": {},
   "outputs": [
    {
     "data": {
      "text/plain": [
       "0.09531017980432477"
      ]
     },
     "execution_count": 44,
     "metadata": {},
     "output_type": "execute_result"
    }
   ],
   "source": [
    "y = log(11) - log(10)"
   ]
  },
  {
   "cell_type": "code",
   "execution_count": 45,
   "metadata": {},
   "outputs": [
    {
     "name": "stdout",
     "output_type": "stream",
     "text": [
      "0.04689820195675232\n",
      "0.031017980432476833\n",
      "0.023153529008564988\n",
      "0.01846470991435012\n",
      "0.015352900856498819\n",
      "0.013137658101678468\n",
      "0.011480561840358172\n",
      "0.010194381596418278\n",
      "0.009167295146928323\n",
      "0.00832704853071678\n",
      "0.007638605601923115\n",
      "0.0069472773141021765\n",
      "0.007450303782055162\n",
      "-0.0030744663919801962\n",
      "0.09741133058646863\n",
      "-0.9116133058646863\n",
      "9.174956588058627\n",
      "-91.69401032503072\n",
      "916.9927348292546\n",
      "-9169.877348292546\n",
      "91698.82110197308\n",
      "-916988.1655651854\n",
      "9.169881699130116e6\n",
      "-9.169881694963449e7\n",
      "9.169881695363449e8\n",
      "-9.169881695324987e9\n",
      "9.169881695328691e10\n",
      "-9.169881695328334e11\n",
      "9.16988169532837e12\n",
      "-9.169881695328366e13\n"
     ]
    }
   ],
   "source": [
    "for n = 1:30\n",
    "    y = 1/n - 10*y\n",
    "    println(y)\n",
    "end"
   ]
  },
  {
   "cell_type": "markdown",
   "metadata": {},
   "source": [
    "This algorithm is *very* **unstable**."
   ]
  },
  {
   "cell_type": "markdown",
   "metadata": {},
   "source": [
    "---"
   ]
  },
  {
   "cell_type": "markdown",
   "metadata": {},
   "source": [
    "## Efficiency\n",
    "\n",
    "Efficiency of a code is affected by many factors:\n",
    "\n",
    "1. the rate of convergence of the method\n",
    "2. the number of arithmetic operations performed\n",
    "3. how the data in memory is accessed\n",
    "\n",
    "(See **Example 1.4** in Ascher-Greif for an efficient algorithm for evaluating polynomials: **Horner's rule**.)"
   ]
  },
  {
   "cell_type": "markdown",
   "metadata": {},
   "source": [
    "---"
   ]
  },
  {
   "cell_type": "markdown",
   "metadata": {},
   "source": [
    "## Robustness (Reliability)\n",
    "\n",
    "We want to ensure that our code works under *all possible inputs*, and generates the clear warnings when it is not possible to produce an accurate result for some input."
   ]
  },
  {
   "cell_type": "markdown",
   "metadata": {},
   "source": [
    "---"
   ]
  }
 ],
 "metadata": {
  "anaconda-cloud": {},
  "kernelspec": {
   "display_name": "Julia 1.5.3",
   "language": "julia",
   "name": "julia-1.5"
  },
  "language_info": {
   "file_extension": ".jl",
   "mimetype": "application/julia",
   "name": "julia",
   "version": "1.5.3"
  }
 },
 "nbformat": 4,
 "nbformat_minor": 1
}
