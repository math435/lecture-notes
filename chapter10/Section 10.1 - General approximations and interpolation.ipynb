{
 "cells": [
  {
   "cell_type": "markdown",
   "metadata": {},
   "source": [
    "---\n",
    "# 10.1 General approximation and interpolation\n",
    "---"
   ]
  },
  {
   "cell_type": "code",
   "execution_count": null,
   "metadata": {},
   "outputs": [],
   "source": [
    "# A note about initializing empty arrays to be filled with `push!`.\n",
    "\n",
    "list = Float64[]\n",
    "\n",
    "for i = 1:10\n",
    "    push!(list, i^2)\n",
    "    #list = [list; [i^2]]  <---- NEVER DO THIS!!!!\n",
    "end\n",
    "\n",
    "list"
   ]
  },
  {
   "cell_type": "code",
   "execution_count": null,
   "metadata": {},
   "outputs": [],
   "source": [
    "# Array comprehension method\n",
    "\n",
    "list = Float64[i^2 for i=1:10]"
   ]
  },
  {
   "cell_type": "code",
   "execution_count": null,
   "metadata": {},
   "outputs": [],
   "source": [
    "# Generator expression\n",
    "\n",
    "sum(i^2 for i=1:10)"
   ]
  },
  {
   "cell_type": "markdown",
   "metadata": {},
   "source": [
    "A function $p$ is a **polynomial of degree at most $n$** if\n",
    "\n",
    "$$p(x) = c_0 + c_1 x + \\cdots + c_n x^n.$$\n",
    "\n",
    "Polynomials hold a prominent role in numerical analysis for three reasons:\n",
    "\n",
    "1. Polynomials can approximate any continuous function $f$ as close as we want:\n",
    "\n",
    " > ### [Weierstrass Approximation Theorem](http://en.wikipedia.org/wiki/Stone%E2%80%93Weierstrass_theorem):\n",
    " >\n",
    " > Let $f \\in C[a,b]$. For every $\\varepsilon > 0$, there exists a polynomial $p(x)$ such that\n",
    " >\n",
    " > $$\\left|f(x) - p(x)\\right| < \\varepsilon, \\quad \\forall x \\in [a,b].$$\n",
    "\n",
    "2. Polynomials can be efficiently evaluated using **Horner's Rule**:\n",
    "\n",
    "  $$p(x) = \\bigg( \\Big( \\big(c_n x + c_{n-1}\\big)x + c_{n-2} \\Big)x + \\cdots + c_1\\bigg)x + c_0$$\n",
    "\n",
    "3. Polynomials are **simple**:  it is easy to sum, multiply, differentiate, and integrate polynomials."
   ]
  },
  {
   "cell_type": "markdown",
   "metadata": {},
   "source": [
    "---"
   ]
  },
  {
   "cell_type": "markdown",
   "metadata": {},
   "source": [
    "## Horner's Rule"
   ]
  },
  {
   "cell_type": "code",
   "execution_count": null,
   "metadata": {},
   "outputs": [],
   "source": [
    "# Evaluate the polynomial \n",
    "#\n",
    "#     p(x) = c_0 + c_1 x + ... + c_n x^n\n",
    "#\n",
    "# where c = [c_0, c_1, ..., c_n] using Horner's Rule.\n",
    "function horner(x, c)\n",
    "    \n",
    "    n = length(c) - 1\n",
    "    p = c[n+1]\n",
    "    for j = n:-1:1\n",
    "        p = p*x + c[j]\n",
    "    end\n",
    "    \n",
    "    return p\n",
    "end"
   ]
  },
  {
   "cell_type": "code",
   "execution_count": null,
   "metadata": {},
   "outputs": [],
   "source": [
    "using Plots, LaTeXStrings\n",
    "\n",
    "c = [-3, 5, 2, -1]   # p(x) = -3 + 5x + 2x^2 - x^3\n",
    "\n",
    "p(x) = horner(x, c)"
   ]
  },
  {
   "cell_type": "code",
   "execution_count": null,
   "metadata": {},
   "outputs": [],
   "source": [
    "p(-2.0)"
   ]
  },
  {
   "cell_type": "code",
   "execution_count": null,
   "metadata": {},
   "outputs": [],
   "source": [
    "x = -2.0\n",
    "px = -3 + 5x + 2x^2 - x^3"
   ]
  },
  {
   "cell_type": "code",
   "execution_count": null,
   "metadata": {},
   "outputs": [],
   "source": [
    "plot(p, -3, 4, label=L\"y = p(x)\")"
   ]
  },
  {
   "cell_type": "markdown",
   "metadata": {},
   "source": [
    "---"
   ]
  },
  {
   "cell_type": "markdown",
   "metadata": {},
   "source": [
    "## Two types of problems\n",
    "\n",
    "The function $f$ we would like to approximate by a polynomial may be given to us as:\n",
    "\n",
    "1. **A fixed set of data points**: $\\big\\{(x_i, y_i)\\big\\}_{i=0}^n$, where $y_i = f(x_i)$, but the actual function $f$ is unknown to us.\n",
    "   \n",
    "2. **An explicit/implicit function**: We are free to choose the $x_i$ and compute $y_i = f(x_i)$, but evaluating $f$ may be expensive.\n",
    "\n",
    "In either case, the goal is to find a polynomial $p$ that **interpolates** the data:\n",
    "   \n",
    "   $$p(x_i) = y_i, \\quad i = 0,1,\\ldots,n.$$ \n",
    "   "
   ]
  },
  {
   "cell_type": "markdown",
   "metadata": {},
   "source": [
    "---"
   ]
  },
  {
   "cell_type": "markdown",
   "metadata": {},
   "source": [
    "## Estimating the function $f$\n",
    "\n",
    "After constructing an interpolating polynomial $p$, we can use $p$ to **estimate** the value of $f$ at other values of $x$. We hope that\n",
    "\n",
    "$$ p(x) \\approx f(x), \\quad \\forall x \\in [a,b].$$\n",
    "\n",
    "We call the estimation of $f(x)$:\n",
    "\n",
    "1. **interpolation** if \n",
    "    $$x_i < x < x_j, \\quad \\text{for some } i \\neq j,$$\n",
    "\n",
    "2. **extrapolation** if \n",
    "    $$ x < x_i,\\ \\forall i \\quad \\text{or} \\quad x > x_i,\\ \\forall i.$$"
   ]
  },
  {
   "cell_type": "markdown",
   "metadata": {},
   "source": [
    "---"
   ]
  },
  {
   "cell_type": "markdown",
   "metadata": {},
   "source": [
    "## Interpolating polynomial always exists and is unique\n",
    "\n",
    "> ### Theorem:\n",
    ">\n",
    "> Let $\\big\\{(x_i,y_i)\\big\\}_{i=0}^n$. If $x_i \\neq x_j$ for $i \\neq j$, then there exists a unique polynomial $p(x)$ with degree at most $n$ that satisfies\n",
    ">\n",
    ">   $$p(x_i) = y_i, \\quad i = 0,1,\\ldots,n.$$ "
   ]
  },
  {
   "cell_type": "markdown",
   "metadata": {},
   "source": [
    "---"
   ]
  },
  {
   "cell_type": "markdown",
   "metadata": {},
   "source": [
    "## The space of polynomials $\n",
    "%%% My LaTeX definitions\n",
    "\\DeclareMathOperator{\\span}{span}\n",
    "\\newcommand{\\Pbf}{\\mathbf{P}}\n",
    "$\n",
    "\n",
    "Let $\\Pbf_n$ be the set of polynomials with degree at most $n$. \n",
    "\n",
    "$\\Pbf_n$ is a **vector space** since it is closed under addition and scalar multiplication:\n",
    "\n",
    "1. $p_1(x), p_2(x) \\in \\Pbf_n \\implies p_1(x)+p_2(x) \\in \\Pbf_n$\n",
    "2. $c \\in \\mathbb{R}, p(x) \\in \\Pbf_n \\implies cp(x) \\in \\Pbf_n$\n",
    "\n",
    "Note that $\\dim \\Pbf_n = n+1$."
   ]
  },
  {
   "cell_type": "markdown",
   "metadata": {},
   "source": [
    "## A basis for $\\Pbf_n$\n",
    "\n",
    "Let $\\big\\{\\phi_j(x)\\big\\}_{j=0}^n$ be a **basis** for $\\Pbf_n$; that is:\n",
    "\n",
    "1. $\\phi_0(x), \\ldots, \\phi_n(x)$ are **linearly independent**:\n",
    "\n",
    "    $$\n",
    "    c_0 \\phi_0(x) + \\cdots + c_n \\phi_n(x) = 0\n",
    "    \\quad \\implies \\quad\n",
    "    c_0 = \\cdots = c_n = 0\n",
    "    $$\n",
    "    \n",
    "2. $\\phi_0(x), \\ldots, \\phi_n(x)$ **spans** $\\Pbf_n$:\n",
    "    \n",
    "    $$\n",
    "    \\mathbf{P}_n = \\span\\big\\{\\phi_0(x),\\ldots,\\phi_n(x)\\big\\}\n",
    "    $$\n",
    "    \n",
    "\n",
    "Every $p(x) \\in \\Pbf_n$ is therefore a _unique_ linear combination of the polynomials in $\\big\\{\\phi_j(x)\\big\\}_{j=0}^n$:\n",
    "    \n",
    "$$p(x) = \\sum_{j=0}^n c_j \\phi_j(x) = c_0 \\phi_0(x) + \\cdots + c_n \\phi_n(x).$$"
   ]
  },
  {
   "cell_type": "markdown",
   "metadata": {},
   "source": [
    "## Computing the unique interpolating polynomial \n",
    "\n",
    "Given $\\big\\{(x_i, y_i)\\big\\}_{i=0}^n$, we want to find the unique $p(x) \\in \\Pbf_n$ that satisfies\n",
    "\n",
    "$$p(x_i) = y_i, \\quad i = 0, 1, \\ldots, n.$$\n",
    "\n",
    "Thus, we just need to find scalars $c_0,\\ldots,c_n$ such that\n",
    "\n",
    "$$\n",
    "\\begin{gather}\n",
    "p(x_0) = c_0 \\phi_0(x_0) + \\cdots + c_n \\phi_n(x_0) = y_0\\\\\n",
    "p(x_1) = c_0 \\phi_0(x_1) + \\cdots + c_n \\phi_n(x_1) = y_1\\\\\n",
    "\\vdots\\\\\n",
    "p(x_n) = c_0 \\phi_0(x_n) + \\cdots + c_n \\phi_n(x_n) = y_n\\\\\n",
    "\\end{gather}\n",
    "$$\n",
    "\n",
    "This is equivalent to the linear system $A c = y$:\n",
    "\n",
    "$$\n",
    "\\begin{bmatrix}\n",
    "\\phi_0(x_0) & \\phi_1(x_0) & \\cdots & \\phi_n(x_0)\\\\\n",
    "\\phi_0(x_1) & \\phi_1(x_1) & \\cdots & \\phi_n(x_1)\\\\\n",
    "\\vdots & \\vdots & \\ddots & \\vdots\\\\\n",
    "\\phi_0(x_n) & \\phi_1(x_n) & \\cdots & \\phi_n(x_n)\\\\\n",
    "\\end{bmatrix}\n",
    "\\begin{bmatrix}\n",
    "c_0\\\\\n",
    "c_1\\\\\n",
    "\\vdots\\\\\n",
    "c_n\\\\\n",
    "\\end{bmatrix}\n",
    "=\n",
    "\\begin{bmatrix}\n",
    "y_0\\\\\n",
    "y_1\\\\\n",
    "\\vdots\\\\\n",
    "y_n\\\\\n",
    "\\end{bmatrix}.\n",
    "$$"
   ]
  },
  {
   "cell_type": "markdown",
   "metadata": {},
   "source": [
    "## Using different bases for $\\Pbf_n$\n",
    "\n",
    "Any basis $\\big\\{\\phi_j(x)\\big\\}_{j=0}^n$ we use will give us the same interpolating polynomial $p(x)$, but different bases will have different computational properties.\n",
    "\n",
    "We will study **three** different bases:\n",
    "\n",
    "1. (Section 10.2) **Monomial basis** $\\{1, x, x^2, \\ldots, x^n\\}$, for which the matrix $A$ is often ill-conditioned;\n",
    "2. (Section 10.3) **Lagrange polynomial basis**, for which the matrix $A$ is the identity matrix $I$;\n",
    "3. (Section 10.4) **Newton polynomial basis**, for which the matrix $A$ is lower triangular.\n",
    "\n",
    "In each case we will look at how to **construct** $p(x)$ and how to **evaluate** $p(x)$."
   ]
  },
  {
   "cell_type": "markdown",
   "metadata": {},
   "source": [
    "---"
   ]
  }
 ],
 "metadata": {
  "kernelspec": {
   "display_name": "Julia 1.8.5",
   "language": "julia",
   "name": "julia-1.8"
  },
  "language_info": {
   "file_extension": ".jl",
   "mimetype": "application/julia",
   "name": "julia",
   "version": "1.8.5"
  }
 },
 "nbformat": 4,
 "nbformat_minor": 4
}
