{
 "cells": [
  {
   "cell_type": "markdown",
   "metadata": {},
   "source": [
    "---\n",
    "# 10.5 The error in polynomial interpolation\n",
    "---"
   ]
  },
  {
   "cell_type": "markdown",
   "metadata": {},
   "source": [
    "## An approximation error formula\n",
    "\n",
    "Suppose we are approximating a function $f$ over the interval $[a,b]$ by using the unique polynomial $p_n$ of degree at most $n$ that interpolates the $n+1$ points\n",
    "\n",
    "$$(x_0,f(x_0)), \\ldots, (x_n,f(x_n)).$$\n",
    "\n",
    "We will assume that some $x_i = a$ and some $x_j = b$ (i.e., we are only considering **interpolation error**, not **extrapolation error**).\n",
    "\n",
    "We want to measure the **approximation error** at some $\\bar x \\in [a,b]$:\n",
    "\n",
    "$$e_n(\\bar x) = f(\\bar x) - p_n(\\bar x).$$"
   ]
  },
  {
   "cell_type": "markdown",
   "metadata": {},
   "source": [
    ">### Big idea:\n",
    ">\n",
    ">Let $p_{n+1}$ be the polynomial that interpolates the $n+2$ points\n",
    ">\n",
    ">$$(x_0,f(x_0)), \\ldots, (x_n,f(x_n)), (\\bar x,f(\\bar x)).$$"
   ]
  },
  {
   "cell_type": "markdown",
   "metadata": {},
   "source": [
    "Then\n",
    "\n",
    "$$p_{n+1}(\\bar x) = f(\\bar x).$$\n",
    "\n",
    "Also, we know that to obtain $p_{n+1}(x)$ from $p_n(x)$, we just need to add a multiple of the Newton basis polynomial,\n",
    "\n",
    "$$\\phi_n(x) = \\prod_{i=0}^n (x - x_i).$$\n",
    "\n",
    "Specifically, we have\n",
    "\n",
    "$$p_{n+1}(x) = p_n(x) + f[x_0,\\ldots,x_n,\\bar x] \\phi_n(x).$$"
   ]
  },
  {
   "cell_type": "markdown",
   "metadata": {},
   "source": [
    "Thus, \n",
    "\n",
    "$$\n",
    "\\begin{align}\n",
    "e_n(\\bar x) \n",
    "& = f(\\bar x) - p_n(\\bar x) \\\\\n",
    "& = p_{n+1}(\\bar x) - p_n(\\bar x) \\\\\n",
    "& = f[x_0,\\ldots,x_n,\\bar x] \\phi_n(\\bar x).\\\\\n",
    "\\end{align}\n",
    "$$\n",
    "\n",
    "Therefore, the **approximation error** is\n",
    "\n",
    "$$f(\\bar x) - p_n(\\bar x) = f[x_0,\\ldots,x_n,\\bar x] \\prod_{i=0}^n (\\bar x-x_i).$$\n",
    "\n",
    "Note that we need to know $f(\\bar x)$ to compute the right-hand-side of this formula. We need to estimate the divided difference."
   ]
  },
  {
   "cell_type": "markdown",
   "metadata": {},
   "source": [
    "---"
   ]
  },
  {
   "cell_type": "markdown",
   "metadata": {},
   "source": [
    "## Bounding the approximation error"
   ]
  },
  {
   "cell_type": "markdown",
   "metadata": {},
   "source": [
    "We will use the following generalization of the Mean Value Theorem to bound the approximation error.\n",
    "\n",
    "> ### Theorem: (Divided Difference and Derivative)\n",
    ">\n",
    "> Let:\n",
    ">\n",
    "> - $f \\in C^n[a,b]$,\n",
    "> - $x_0,\\ldots,x_n \\in [a,b]$ be distinct. \n",
    ">\n",
    ">Then there is a $\\xi$ somewhere between $x_0,\\ldots,x_n$ such that\n",
    ">\n",
    ">$$ f[x_0,\\ldots,x_n] = \\frac{f^{(n)}(\\xi)}{n!}. $$"
   ]
  },
  {
   "cell_type": "markdown",
   "metadata": {},
   "source": [
    "### Proof:\n",
    "\n",
    "Let $p(x)$ be the unique polynomial of degree at most $n$ that interpolates \n",
    "\n",
    "$$(x_0,f(x_0)),\\ldots,(x_n,f(x_n)),$$\n",
    "\n",
    "and let $e(x) = f(x) - p(x)$. Note that $e(x)$ has $n+1$ roots at $x_0,\\ldots,x_n$. \n",
    "\n",
    "$$e(x_0) = \\cdots = e(x_n) = 0.$$\n",
    "\n",
    "Note that $e \\in C^n[a,b]$."
   ]
  },
  {
   "cell_type": "markdown",
   "metadata": {},
   "source": [
    "Then by **Rolle's Theorem** (or the **Mean Value Theorem**), there are $\\xi^{(1)}_0,\\ldots,\\xi^{(1)}_{n-1}$ points between the points $x_0,\\ldots,x_n$ such that\n",
    "\n",
    "$$e'(\\xi^{(1)}_0) = \\cdots = e'(\\xi^{(1)}_{n-1}) = 0.$$\n",
    "\n",
    "Now there are $\\xi^{(2)}_0,\\ldots,\\xi^{(2)}_{n-2}$ points between the points $\\xi^{(1)}_0,\\ldots,\\xi^{(1)}_{n-1}$ such that\n",
    "\n",
    "$$e''(\\xi^{(2)}_0) = \\cdots = e''(\\xi^{(2)}_{n-2}) = 0.$$\n",
    "\n",
    "We can keep repeating this process and finally conclude that there is a point $\\xi = \\xi^{(n)}_0$ somewhere between the points $x_0,\\ldots,x_n$ such that\n",
    "\n",
    "$$e^{(n)}(\\xi) = 0.$$"
   ]
  },
  {
   "cell_type": "markdown",
   "metadata": {},
   "source": [
    "Now, since\n",
    "\n",
    "$$p(x) = f[x_0,\\ldots,x_n]x^n + \\ldots,$$\n",
    "\n",
    "and $e(x) = f(x) - p(x)$, we have\n",
    "\n",
    "$$e^{(n)}(x) = f^{(n)}(x) - f[x_0,\\ldots,x_n] n!.$$\n",
    "\n",
    "Plugging in $\\xi$, we have\n",
    "\n",
    "$$0 = f^{(n)}(\\xi) - f[x_0,\\ldots,x_n] n!,$$\n",
    "\n",
    "which implies that\n",
    "\n",
    "$$f[x_0,\\ldots,x_n] = \\frac{f^{(n)}(\\xi)}{n!}. \\quad \\blacksquare$$\n"
   ]
  },
  {
   "cell_type": "markdown",
   "metadata": {},
   "source": [
    "## Note\n",
    "\n",
    "Using the convention that\n",
    "\n",
    "$$\n",
    "f[\\underbrace{x,\\ldots,x}_{\\text{$k$ times}}] = \\frac{f^{(k)}(x)}{k!}, \\qquad \\text{for $k=0,1,\\ldots$,}\n",
    "$$\n",
    "\n",
    "we can prove a more general result where the points do not need to be distinct.\n",
    "\n",
    "> ### Theorem: (Divided Difference and Derivative)\n",
    ">\n",
    "> Let:\n",
    ">\n",
    "> - $f \\in C^n[a,b]$,\n",
    "> - $x_0,\\ldots,x_n \\in [a,b]$. \n",
    ">\n",
    "> Then there is a $\\xi$ somewhere between $x_0,\\ldots,x_n$ such that\n",
    ">\n",
    "> $$ f[x_0,\\ldots,x_n] = \\frac{f^{(n)}(\\xi)}{n!}. $$\n",
    "\n",
    "The proof is similar to the above argument, but is more complicated."
   ]
  },
  {
   "cell_type": "markdown",
   "metadata": {},
   "source": [
    "---"
   ]
  },
  {
   "cell_type": "markdown",
   "metadata": {},
   "source": [
    "Recall from above that the **approximation error** is \n",
    "\n",
    "$$f(\\bar x) - p_n(\\bar x) = f[x_0,\\ldots,x_n,\\bar x] \\prod_{i=0}^n (\\bar x-x_i).$$\n",
    "\n",
    "Assuming that $f \\in C^{(n+1)}[a,b]$, there is a $\\xi \\in (a,b)$ such that\n",
    "\n",
    "$$f(\\bar x) - p_n(\\bar x) = \\frac{f^{(n+1)}(\\xi)}{(n+1)!} \\prod_{i=0}^n (\\bar x-x_i).$$"
   ]
  },
  {
   "cell_type": "markdown",
   "metadata": {},
   "source": [
    "Define the **max-norm** of the function $f^{(n+1)}$ as\n",
    "\n",
    "$$\\left\\|f^{(n+1)}\\right\\| = \\max_{x \\in [a,b]} \\left|f^{(n+1)}(x)\\right|.$$ \n",
    "\n",
    "Then we have an upper bound on the absolute approximation error at $\\bar x$:\n",
    "\n",
    "$$\\left|f(\\bar x) - p_n(\\bar x)\\right| \\leq \\frac{\\left\\|f^{(n+1)}\\right\\|}{(n+1)!} \\left|\\prod_{i=0}^n (\\bar x-x_i)\\right|.$$"
   ]
  },
  {
   "cell_type": "markdown",
   "metadata": {},
   "source": [
    ">The **maximum approximation error** over the interval $[a,b]$ has the following bound:\n",
    ">\n",
    ">$$\\max_{x \\in [a,b]} \\left|f(x) - p_n(x)\\right| \\leq \\frac{\\left\\|f^{(n+1)}\\right\\|}{(n+1)!} \\max_{x \\in [a,b]} \\left|\\prod_{i=0}^n (x-x_i)\\right|.$$"
   ]
  },
  {
   "cell_type": "markdown",
   "metadata": {},
   "source": [
    "---"
   ]
  }
 ],
 "metadata": {
  "kernelspec": {
   "display_name": "Julia 1.5.3",
   "language": "julia",
   "name": "julia-1.5"
  },
  "language_info": {
   "file_extension": ".jl",
   "mimetype": "application/julia",
   "name": "julia",
   "version": "1.5.3"
  }
 },
 "nbformat": 4,
 "nbformat_minor": 1
}
