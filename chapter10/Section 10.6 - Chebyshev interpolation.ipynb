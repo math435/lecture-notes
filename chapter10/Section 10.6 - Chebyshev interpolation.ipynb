{
 "cells": [
  {
   "cell_type": "markdown",
   "metadata": {},
   "source": [
    "---\n",
    "# 10.6 Chebyshev interpolation\n",
    "---"
   ]
  },
  {
   "cell_type": "markdown",
   "metadata": {},
   "source": [
    "We start with a motivating example.\n",
    "\n",
    "## Exercise\n",
    "\n",
    "Use the following code to visually determine, for each function,\n",
    "\n",
    "- $f(x) = \\sin(2 \\pi x)$\n",
    "\n",
    "- $f(x) = \\frac{1}{1+25x^2}$\n",
    "\n",
    "- $f(x) = \\cos(x)$\n",
    "\n",
    "the minimum number of evenly spaced interpolation points $x_0,\\ldots,x_n$ necessary to obtain an accurate approximation. Keep increasing $n$ until the graphs of the function $f$ and the polynomial appear to coincide."
   ]
  },
  {
   "cell_type": "code",
   "execution_count": null,
   "metadata": {},
   "outputs": [],
   "source": [
    "# Given the vector x = [x_0, ..., x_n], return the barycentric \n",
    "# weights of the Lagrange interpolating polynomial.\n",
    "function lagrangeweights(x::Vector{T}) where T\n",
    "\n",
    "    n = length(x) - 1\n",
    "    \n",
    "    w = ones(T, length(x))  # An array of ones, the same size and type as x\n",
    "    for j=1:n+1\n",
    "        for i=1:n+1\n",
    "            if i ≠ j\n",
    "                w[j] *= (x[j] - x[i]) \n",
    "            end\n",
    "        end\n",
    "        try \n",
    "            # If w is an Integer array, this will throw an InexactError\n",
    "            w[j] = 1/w[j] \n",
    "        catch\n",
    "            # We give a useful warning here\n",
    "            error(\"Must use either AbstractFloat or Rational array.\")\n",
    "        end\n",
    "    end\n",
    "    \n",
    "    return w\n",
    "end"
   ]
  },
  {
   "cell_type": "code",
   "execution_count": null,
   "metadata": {},
   "outputs": [],
   "source": [
    "# Evaluates the Lagrange polynomial at the x-values in xspan.\n",
    "# The Lagrange polynomial is given by the vectors w, x, and y.\n",
    "function lagrangeeval(xspan::AbstractVector, w::Vector, x::AbstractVector, y::Vector)\n",
    "    \n",
    "    n = length(x)\n",
    "    \n",
    "    top = zero(xspan)\n",
    "    bottom = zero(xspan)\n",
    "    exact = zeros(Int, length(xspan))\n",
    "\n",
    "    for j=1:n\n",
    "        xdiff = xspan .- x[j]\n",
    "        temp = w[j]./xdiff\n",
    "        top += temp*y[j]\n",
    "        bottom += temp\n",
    "        \n",
    "        exact[xdiff .== 0.0] .= j  # exact[i] = j if xspan[i] = x[j]\n",
    "    end\n",
    "    \n",
    "    p = top./bottom\n",
    "\n",
    "    iinds = findall(exact .!= 0)  # gives the indices i of xspan that equal some x[j]\n",
    "    jinds = exact[iinds]          # gives the corresponding j indices\n",
    "    p[iinds] = y[jinds]           # sets any NaNs in p to the correct values from y\n",
    "    \n",
    "    return p  \n",
    "end\n",
    "\n",
    "lagrangeeval(xx::Real, w::Vector, x::AbstractVector, y::Vector) = lagrangeeval([xx], w, x, y)[1]"
   ]
  },
  {
   "cell_type": "code",
   "execution_count": null,
   "metadata": {},
   "outputs": [],
   "source": [
    "using Plots\n",
    "\n",
    "function myplot(f, n; cheb=false)\n",
    "        \n",
    "    # Compute the interpolation points\n",
    "    if cheb\n",
    "        xd = Float64[ cos(π*(2i+1)/(2n+2)) for i=0:n]\n",
    "    else\n",
    "        xd = collect(range(-1, 1, length=n+1))\n",
    "    end\n",
    "        \n",
    "    yd = map(f, xd)\n",
    "    \n",
    "    # Compute the interpolating polynomial\n",
    "    w = lagrangeweights(xd)\n",
    "    p(x) = lagrangeeval(x, w, xd, yd)\n",
    "    \n",
    "    plot(legend=:none)\n",
    "    plot!(f, -1, 1)\n",
    "    plot!(p, -1, 1)\n",
    "    scatter!(xd, yd)\n",
    "end"
   ]
  },
  {
   "cell_type": "code",
   "execution_count": null,
   "metadata": {},
   "outputs": [],
   "source": [
    "myplot(cos, 2)"
   ]
  },
  {
   "cell_type": "code",
   "execution_count": null,
   "metadata": {},
   "outputs": [],
   "source": [
    "myplot(x -> sin(2π*x), 2)"
   ]
  },
  {
   "cell_type": "code",
   "execution_count": null,
   "metadata": {},
   "outputs": [],
   "source": [
    "myplot(x -> 1/(1 + 25x^2), 2)"
   ]
  },
  {
   "cell_type": "markdown",
   "metadata": {},
   "source": [
    "---"
   ]
  },
  {
   "cell_type": "markdown",
   "metadata": {},
   "source": [
    "## Improving the approximation\n",
    "\n",
    "- We know by **Weierstrass' Theorem** that we can approximate any function as close as we like using polynomials.\n",
    "\n",
    "- However, using evenly spaced points does not work for the function $f(x) = \\frac{1}{1+25x^2}$ over the interval $[-1,1]$.\n",
    "\n",
    "- The error bound \n",
    "  \n",
    "    $$\\max_{x \\in [a,b]} \\left|f(x) - p_n(x)\\right| \\leq \\frac{\\left\\|f^{(n+1)}\\right\\|}{(n+1)!} \\max_{x \\in [a,b]} \\left|\\prod_{i=0}^n (x-x_i)\\right|$$\n",
    "  \n",
    "    suggests that we should choose the set of points $x_0,\\ldots,x_n$ that **minimizes**\n",
    "  \n",
    "    $$\\max_{x \\in [a,b]} \\left|\\prod_{i=0}^n (x-x_i)\\right|.$$\n",
    "  \n",
    "- Thus, we seek the roots of the **monic polynomial** \n",
    "\n",
    "    $$\\phi_{n+1}(x) = \\prod_{i=0}^n (x-x_i) = (x-x_0)\\cdots(x-x_n)$$\n",
    "  \n",
    "    whose maximum absolute value over $[a,b]$ is minimized. \n",
    "  "
   ]
  },
  {
   "cell_type": "markdown",
   "metadata": {},
   "source": [
    "- For now, we will restrict ourselves to the interval $[a,b] = [-1,1]$.\n",
    "  \n",
    "- We will see in **Chapter 12** that the monic polynomials that achieve the minimum max-absolute-value over $[-1,1]$ are the **monic Chebyshev polynomials**:\n",
    "\n",
    "    $$\n",
    "    \\begin{align}\n",
    "    \\tilde T_0(x) &= 1 \\\\\n",
    "    \\tilde T_1(x) &= x \\\\\n",
    "    \\tilde T_2(x) &= x^2 - \\frac12 \\\\\n",
    "    \\tilde T_3(x) &= x^3 - \\frac34x \\\\\n",
    "    \\tilde T_4(x) &= x^4 - x^2 + \\frac18 \\\\\n",
    "    &\\vdots\\\\\n",
    "    \\tilde T_{n+1}(x) &= x \\tilde T_{n}(x) - \\frac{1}{2^{n}} \\tilde T_{n-1}(x)\\\\\n",
    "    \\end{align}\n",
    "    $$"
   ]
  },
  {
   "cell_type": "markdown",
   "metadata": {},
   "source": [
    "- The **monic Chebyshev polynomials** can also be written as\n",
    "\n",
    "    $$\\tilde T_{n+1}(x) = \\frac{1}{2^{n}}\\cos((n+1) \\arccos(x))$$\n",
    "  "
   ]
  },
  {
   "cell_type": "code",
   "execution_count": null,
   "metadata": {},
   "outputs": [],
   "source": [
    "plot(legend=:none)\n",
    "plot!(x -> 1, -1, 1)\n",
    "for n=0:4\n",
    "    plot!(x -> cos((n+1)*acos(x))/2^n, -1, 1)\n",
    "end\n",
    "hline!([0], c=:black)\n",
    "vline!([0], c=:black)"
   ]
  },
  {
   "cell_type": "markdown",
   "metadata": {},
   "source": [
    "- Note that\n",
    "\n",
    "    $$\\max_{x \\in [-1,1]} \\left| \\tilde T_{n+1}(x) \\right| = \\frac{1}{2^n}.$$\n",
    "\n",
    "- The roots of $\\tilde T_{n+1}$ are called the **Chebyshev points** and are given by\n",
    "\n",
    "    $$x_i = \\cos\\left(\\frac{2i+1}{2(n+1)}\\pi\\right), \\quad i = 0,\\ldots,n.$$\n",
    "    \n",
    "- We can shift these points to another interval $[a,b]$ using \n",
    "\n",
    "    $$x_i \\gets a + \\frac{b-a}{2}(x_i + 1), \\quad i = 0,\\ldots,n.$$\n",
    "    \n",
    "- Using the **Chebyshev points**, we obtain the error bound:\n",
    "\n",
    "    $$\\max_{x \\in [-1,1]} \\left|f(x) - p_n(x)\\right| \\leq \\frac{\\left\\|f^{(n+1)}\\right\\|}{2^n(n+1)!}$$\n"
   ]
  },
  {
   "cell_type": "markdown",
   "metadata": {},
   "source": [
    "---"
   ]
  },
  {
   "cell_type": "markdown",
   "metadata": {},
   "source": [
    "## Exercise\n",
    "\n",
    "Use the following code to visually determine, for each function,\n",
    "\n",
    "- $f(x) = \\sin(2\\pi x)$\n",
    "- $f(x) = \\frac{1}{1+25x^2}$\n",
    "- $f(x) = \\cos(x)$\n",
    "\n",
    "the minimum number of Chebyshev interpolation points $x_0,\\ldots,x_n$ necessary to obtain an accurate approximation. Keep increasing $n$ until the graphs of the function $f$ and the polynomial appear to coincide."
   ]
  },
  {
   "cell_type": "code",
   "execution_count": null,
   "metadata": {},
   "outputs": [],
   "source": [
    "myplot(cos, 2, cheb=true)"
   ]
  },
  {
   "cell_type": "code",
   "execution_count": null,
   "metadata": {},
   "outputs": [],
   "source": [
    "myplot(x -> sin(2π*x), 2, cheb=true)"
   ]
  },
  {
   "cell_type": "code",
   "execution_count": null,
   "metadata": {},
   "outputs": [],
   "source": [
    "myplot(x -> 1/(1 + 25x^2), 2, cheb=true)"
   ]
  },
  {
   "cell_type": "markdown",
   "metadata": {},
   "source": [
    "---"
   ]
  }
 ],
 "metadata": {
  "kernelspec": {
   "display_name": "Julia 1.5.3",
   "language": "julia",
   "name": "julia-1.5"
  },
  "language_info": {
   "file_extension": ".jl",
   "mimetype": "application/julia",
   "name": "julia",
   "version": "1.5.3"
  }
 },
 "nbformat": 4,
 "nbformat_minor": 1
}
