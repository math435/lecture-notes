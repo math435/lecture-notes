{
 "cells": [
  {
   "cell_type": "markdown",
   "metadata": {},
   "source": [
    "$%%% My LaTeX definitions\n",
    "\\DeclareMathOperator{\\span}{span}\n",
    "\\newcommand{\\Pbf}{\\mathbf{P}}\n",
    "$\n",
    "\n",
    "---\n",
    "\n",
    "# 10.3 Lagrange interpolation\n",
    "\n",
    "---"
   ]
  },
  {
   "cell_type": "markdown",
   "metadata": {},
   "source": [
    "The motivation for **Lagrange interpolation** is to try to find a basis $\\{\\phi_j(x)\\}_{j=0}^n$ for which the matrix\n",
    "\n",
    "$$\n",
    "A = \n",
    "\\begin{bmatrix}\n",
    "\\phi_0(x_0) & \\phi_1(x_0) & \\cdots & \\phi_n(x_0)\\\\\n",
    "\\phi_0(x_1) & \\phi_1(x_1) & \\cdots & \\phi_n(x_1)\\\\\n",
    "\\vdots & \\vdots & \\ddots & \\vdots\\\\\n",
    "\\phi_0(x_n) & \\phi_1(x_n) & \\cdots & \\phi_n(x_n)\\\\\n",
    "\\end{bmatrix}\n",
    "$$\n",
    "\n",
    "is equal to the identity matrix $I$. Then solving $Ac = y$ would be trivial: we would just set $c = y$."
   ]
  },
  {
   "cell_type": "markdown",
   "metadata": {},
   "source": [
    "Thus, we would like to find polynomials that satisfy\n",
    "\n",
    "$$\n",
    "\\phi_i(x_i) = 1 \\quad \\text{for all } i, \\quad \\text{and} \\quad \\phi_j(x_i) = 0 \\quad \\text{for } i \\neq j.\n",
    "$$\n",
    "\n",
    "Such polynomials are called **Lagrange polynomials**, and we denote them as:\n",
    "\n",
    "$$L_0(x), L_1(x), \\ldots, L_n(x).$$"
   ]
  },
  {
   "cell_type": "markdown",
   "metadata": {},
   "source": [
    "---"
   ]
  },
  {
   "cell_type": "markdown",
   "metadata": {},
   "source": [
    "## Example\n",
    "\n",
    "Recall the data from above:\n",
    "\n",
    "$$\n",
    "\\begin{gather}\n",
    "(x_0,y_0) = (2,1)\\\\\n",
    "(x_1,y_1) = (6,2)\\\\\n",
    "(x_2, y_2) = (4,3)\\\\\n",
    "(x_3, y_3) = (8,2)\\\\\n",
    "\\end{gather}\n",
    "$$\n",
    "\n",
    "Find the Lagrange polynomial $L_0(x) \\in \\Pbf_3$ such that $L_0(x_0) = 1$ and $L_0(x_1) = L_0(x_2) = L_0(x_3) = 0$."
   ]
  },
  {
   "cell_type": "markdown",
   "metadata": {},
   "source": [
    "### Solution\n",
    "\n",
    "Since $L_0(6)= L_0(4) = L_0(8) = 0$, and since $L_0(x) \\in \\Pbf_3$, we must have\n",
    "\n",
    "$$L_0(x) = a(x-6)(x-4)(x-8)$$\n",
    "\n",
    "for some constant $a$.\n",
    "\n",
    "Plugging in $x = 2$, we have that\n",
    "\n",
    "$$1 = a(2-6)(2-4)(2-8),$$\n",
    "\n",
    "so $a = -\\frac{1}{48}$. Therefore,\n",
    "\n",
    "$$L_0(x) = -\\frac{1}{48}(x-6)(x-4)(x-8).$$"
   ]
  },
  {
   "cell_type": "code",
   "execution_count": null,
   "metadata": {},
   "outputs": [],
   "source": [
    "L0(x) = -1/48*(x - 6)*(x - 4)*(x - 8)\n",
    "L0(2)"
   ]
  },
  {
   "cell_type": "markdown",
   "metadata": {},
   "source": [
    "---"
   ]
  },
  {
   "cell_type": "markdown",
   "metadata": {},
   "source": [
    "## Exercise 1\n",
    "\n",
    "Recall the data from above:\n",
    "\n",
    "$$\n",
    "\\begin{gather}\n",
    "(x_0,y_0) = (2,1)\\\\\n",
    "(x_1,y_1) = (6,2)\\\\\n",
    "(x_2, y_2) = (4,3)\\\\\n",
    "(x_3, y_3) = (8,2)\\\\\n",
    "\\end{gather}\n",
    "$$\n",
    "\n",
    "Find the rest of the Lagrange polynomials $L_1(x)$, $L_2(x)$, and $L_3(x)$."
   ]
  },
  {
   "cell_type": "markdown",
   "metadata": {},
   "source": [
    "---"
   ]
  },
  {
   "cell_type": "markdown",
   "metadata": {},
   "source": [
    "$$\n",
    "L_1(x) = -\\frac{1}{16} (x - 2) (x - 4) (x - 8)\n",
    "$$\n",
    "\n",
    "$$\n",
    "L_1(6) = 1\n",
    "$$"
   ]
  },
  {
   "cell_type": "code",
   "execution_count": null,
   "metadata": {},
   "outputs": [],
   "source": [
    "L1(x) = -1/16*(x - 2)*(x - 4)*(x - 8)\n",
    "L1(6)"
   ]
  },
  {
   "cell_type": "markdown",
   "metadata": {},
   "source": [
    "---"
   ]
  },
  {
   "cell_type": "markdown",
   "metadata": {},
   "source": [
    "$$\n",
    "L_2(x) = a (x - 2) (x - 6) (x - 8)\n",
    "$$\n",
    "\n",
    "$$\n",
    "L_2(4) = 1\n",
    "$$"
   ]
  },
  {
   "cell_type": "code",
   "execution_count": null,
   "metadata": {},
   "outputs": [],
   "source": [
    "L2(x) = 1/16*(x - 2)*(x - 6)*(x - 8)\n",
    "L2(4)"
   ]
  },
  {
   "cell_type": "markdown",
   "metadata": {},
   "source": [
    "---"
   ]
  },
  {
   "cell_type": "markdown",
   "metadata": {},
   "source": [
    "$$\n",
    "L_3(x) = a (x - 2) (x - 6) (x - 4)\n",
    "$$\n",
    "\n",
    "$$\n",
    "L_3(8) = 1\n",
    "$$"
   ]
  },
  {
   "cell_type": "code",
   "execution_count": null,
   "metadata": {},
   "outputs": [],
   "source": [
    "L3(x) = 1/48*(x - 2)*(x - 6)*(x - 4)\n",
    "L3(8)"
   ]
  },
  {
   "cell_type": "markdown",
   "metadata": {},
   "source": [
    "## Exercise 2\n",
    "\n",
    "Plot the Lagrange polynomials you found above."
   ]
  },
  {
   "cell_type": "code",
   "execution_count": null,
   "metadata": {},
   "outputs": [],
   "source": [
    "using Plots, LaTeXStrings\n",
    "\n",
    "a, b = 1.5, 8.5\n",
    "x, y = [2, 6, 4, 8.], [1, 2, 3, 2.]\n",
    "\n",
    "plot(legend=:bottom, xlabel=L\"x\", ylabel=L\"y\", axes_style=:zerolines)\n",
    "plot!(L0, a, b, label=L\"y = L_0(x)\")\n",
    "plot!(L1, a, b, label=L\"y = L_1(x)\")\n",
    "plot!(L2, a, b, label=L\"y = L_2(x)\")\n",
    "plot!(L3, a, b, label=L\"y = L_3(x)\")\n",
    "scatter!(x, y, c=:red, label=:none)\n",
    "ylims!(-2, 4)\n",
    "xlims!(1, 9)"
   ]
  },
  {
   "cell_type": "markdown",
   "metadata": {},
   "source": [
    "---"
   ]
  },
  {
   "cell_type": "markdown",
   "metadata": {},
   "source": [
    "## Exercise 3\n",
    "\n",
    "Plot the interpolating polynomial \n",
    "\n",
    "$$p_3(x) = 1 \\cdot L_0(x) + 2 \\cdot L_1(x) + 3 \\cdot L_2(x) + 2 \\cdot L_3(x)$$\n",
    "\n",
    "and verify that we obtained the same polynomial as before."
   ]
  },
  {
   "cell_type": "code",
   "execution_count": null,
   "metadata": {},
   "outputs": [],
   "source": [
    "plot(legend=:bottom, xlabel=L\"x\", ylabel=L\"y\", axes_style=:zerolines)\n",
    "#plot!(p3, a, b, label=L\"y = p_3(x)\")\n",
    "scatter!(x, y, label=:none, c=:red)"
   ]
  },
  {
   "cell_type": "code",
   "execution_count": null,
   "metadata": {},
   "outputs": [],
   "source": [
    "import SymPy\n",
    "\n",
    "x = SymPy.symbols(\"x\")"
   ]
  },
  {
   "cell_type": "markdown",
   "metadata": {},
   "source": [
    "---"
   ]
  },
  {
   "cell_type": "markdown",
   "metadata": {},
   "source": [
    "## Constructing the Lagrange interpolating polynomial\n",
    "\n",
    "From the above exercises, we see that\n",
    "\n",
    "$$ L_j(x) = \\frac{(x-x_0)\\cdots(x-x_{j-1})(x-x_{j+1})\\cdots(x-x_n)}{(x_j-x_0)\\cdots(x_j-x_{j-1})(x_j-x_{j+1})\\cdots(x_j-x_n)} \n",
    "= \n",
    "\\prod_{\\substack{i = 0 \\\\ i \\neq j}}^n \\frac{(x-x_i)}{(x_j-x_i)}.$$\n",
    "\n",
    "Thus, to construct each $L_j$, we just need to compute the **barycentric weights**:\n",
    "\n",
    "$$\n",
    "w_j = \\frac{1}{\\rho_j}, \\quad \\text{where} \\quad \\rho_j = \\prod_{\\substack{i = 0 \\\\ i \\neq j}}^n (x_j-x_i).\n",
    "$$\n",
    "\n",
    "Then\n",
    "\n",
    "$$L_j(x) = w_j \\prod_{\\substack{i = 0 \\\\ i \\neq j}}^n (x-x_i).$$\n",
    "\n",
    "Computing these weights requires about $n^2$ flops."
   ]
  },
  {
   "cell_type": "code",
   "execution_count": null,
   "metadata": {},
   "outputs": [],
   "source": [
    "# Given the vector x = [x_0, ..., x_n], return the barycentric \n",
    "# weights of the Lagrange interpolating polynomial.\n",
    "function lagrangeweights(x::Vector{T}) where T\n",
    "\n",
    "    n = length(x) - 1\n",
    "    \n",
    "    w = ones(T, n+1)  # An array of ones, the same size and type as x\n",
    "    for j=1:n+1\n",
    "        for i=1:n+1\n",
    "            if i ≠ j\n",
    "                w[j] *= (x[j] - x[i]) \n",
    "            end\n",
    "        end\n",
    "        try \n",
    "            # If w is an Integer array, \n",
    "            # this will throw an InexactError\n",
    "            w[j] = 1/w[j] \n",
    "        catch\n",
    "            # We give a useful warning here\n",
    "            error(\"Must use either AbstractFloat or Rational array.\")\n",
    "        end\n",
    "    end\n",
    "    \n",
    "    return w\n",
    "end"
   ]
  },
  {
   "cell_type": "code",
   "execution_count": null,
   "metadata": {},
   "outputs": [],
   "source": [
    "x = [2, 6, 4, 8.]\n",
    "\n",
    "w = lagrangeweights(x)"
   ]
  },
  {
   "cell_type": "code",
   "execution_count": null,
   "metadata": {},
   "outputs": [],
   "source": [
    "x = [2, 6, 4, 8//1]\n",
    "\n",
    "w = lagrangeweights(x)"
   ]
  },
  {
   "cell_type": "markdown",
   "metadata": {},
   "source": [
    "---"
   ]
  },
  {
   "cell_type": "markdown",
   "metadata": {},
   "source": [
    "## Evaluating the Lagrange interpolating polynomial\n",
    "\n",
    "Recall that the Lagrange interpolating polynomial is given by\n",
    "\n",
    "$$p(x) = \\sum_{j=0}^n y_j L_j(x).$$\n",
    "\n",
    "Notice that\n",
    "\n",
    "$$L_j(x) = w_j \\prod_{\\substack{i = 0 \\\\ i \\neq j}}^n (x-x_i) = w_j \\frac{\\psi(x)}{(x-x_j)},\n",
    "\\quad \\text{where} \\quad \\psi(x) = \\prod_{i=0}^n (x-x_i),$$\n",
    "\n",
    "for $x \\neq x_j$. Thus,\n",
    "\n",
    "$$p(x) = \\psi(x) \\sum_{j=0}^n  \\frac{y_j w_j}{(x-x_j)}, \\quad \\text{for} \\quad x \\not\\in \\{x_0, \\ldots, x_n\\}.$$"
   ]
  },
  {
   "cell_type": "markdown",
   "metadata": {},
   "source": [
    "When $y_j = 1$, for all $j$, we have that $p(x) = 1$, for all $x$. Therefore,\n",
    "\n",
    "$$1 = \\psi(x) \\sum_{j=0}^n  \\frac{w_j}{(x-x_j)},$$\n",
    "\n",
    "which implies that\n",
    "\n",
    "$$\\psi(x) = \\frac{1}{\\sum_{j=0}^n  \\frac{w_j}{(x-x_j)}}.$$\n",
    "\n",
    "Thus, we obtain the **barycentric formula** for $p(x)$:\n",
    "\n",
    "$$p(x) = \\frac{\\sum_{j=0}^n  \\frac{y_j w_j}{(x-x_j)}}{\\sum_{j=0}^n  \\frac{w_j}{(x-x_j)}}, \n",
    "\\quad \\text{for} \\quad x \\not\\in \\{x_0, \\ldots, x_n\\}.$$\n",
    "\n",
    "Evaluating $p(x)$ requires about $5n$ flops."
   ]
  },
  {
   "cell_type": "markdown",
   "metadata": {},
   "source": [
    "## An implementation for evaluating the Lagrange interpolating polynomial\n",
    "\n",
    "The following code includes a strategy described in the 2004 paper [Barycentric Lagrange Interpolation](https://people.maths.ox.ac.uk/trefethen/barycentric.pdf) by Berrut and Trefethen for handling the case when $x \\in \\{x_0, \\ldots, x_n\\}$. Without using this strategy, the evaluation would return `NaN` when $x = x_k$.\n",
    "\n",
    "In this paper they also discuss the numerical cancellation that occurs when $x \\approx x_j$, making the calculation of $w_j/(x-x_j)$ inaccurate. They explain:\n",
    "\n",
    "> \"Loosely speaking, there is indeed inaccuracy of this kind, but the same\n",
    "inaccurate numbers appear in both the numerator and the denominator of [the barycentric formula], and these inaccuracies cancel out; the formula remains stable overall.\" (Berrut and Trefethen, 2004)"
   ]
  },
  {
   "cell_type": "code",
   "execution_count": null,
   "metadata": {},
   "outputs": [],
   "source": [
    "# Evaluates the Lagrange polynomial at the x-values in xspan.\n",
    "# The Lagrange polynomial is given by the vectors w, x, and y.\n",
    "function lagrangeeval(xspan::AbstractVector, w::Vector, x::AbstractVector, y::Vector)\n",
    "    \n",
    "    n = length(x)\n",
    "    \n",
    "    top = zero(xspan)\n",
    "    bottom = zero(xspan)\n",
    "    exact = zeros(Int, length(xspan))\n",
    "\n",
    "    for j=1:n\n",
    "        xdiff = xspan .- x[j]\n",
    "        temp = w[j]./xdiff\n",
    "        top += temp*y[j]\n",
    "        bottom += temp\n",
    "        \n",
    "        exact[xdiff .== 0.0] .= j  # exact[i] = j if xspan[i] = x[j]\n",
    "    end\n",
    "    \n",
    "    p = top./bottom\n",
    "\n",
    "    iinds = findall(exact .!= 0)  # gives the indices i of xspan that equal some x[j]\n",
    "    jinds = exact[iinds]          # gives the corresponding j indices\n",
    "    p[iinds] = y[jinds]           # sets any NaNs in p to the correct values from y\n",
    "    \n",
    "    return p  \n",
    "end\n",
    "\n",
    "lagrangeeval(xx::Real, w::Vector, x::AbstractVector, y::Vector) = lagrangeeval([xx], w, x, y)[1]"
   ]
  },
  {
   "cell_type": "code",
   "execution_count": null,
   "metadata": {},
   "outputs": [],
   "source": [
    "# Use lagrangeeval to plot the interpolating polynomial.\n",
    "using Plots\n",
    "\n",
    "a, b = 1, 9\n",
    "\n",
    "x = [2, 6, 4, 8.]\n",
    "y = [1, 2, 3, 2.]\n",
    "\n",
    "xspan = range(a, b, length=17)\n",
    "\n",
    "w = lagrangeweights(x)\n",
    "\n",
    "p = lagrangeeval(xspan, w, x, y)\n",
    "display([xspan p])"
   ]
  },
  {
   "cell_type": "code",
   "execution_count": null,
   "metadata": {},
   "outputs": [],
   "source": [
    "plot(legend=:bottomright, xlabel=L\"x\", ylabel=L\"y\")\n",
    "plot!(xspan, p, label=L\"y = p(x)\")\n",
    "scatter!(x, y, label=:none, c=1)"
   ]
  },
  {
   "cell_type": "markdown",
   "metadata": {},
   "source": [
    "---"
   ]
  },
  {
   "cell_type": "markdown",
   "metadata": {},
   "source": [
    "## Pros and cons of Lagrange interpolation\n",
    "\n",
    "Pros:\n",
    "\n",
    "1. **Constructing $p(x)$ is fast**: roughly $n^2$ flops to compute the barycentric weights\n",
    "2. **Evaluating $p(x)$ is fast**: about $5n$ flops to compute $p(x)$ compared to $2n$ flops using Horner's Rule\n",
    "3. **Adding a new interpolation point is fast**: barycentric weights can be updated in $\\mathcal{O}(n)$ flops\n",
    "4. **Can easily change the function**: the barycentric weights only depend on $x_i$, and not on the function $f$\n",
    "\n",
    "Cons:\n",
    "\n",
    "1. **Cannot also interpolate derivative values**"
   ]
  },
  {
   "cell_type": "markdown",
   "metadata": {},
   "source": [
    "---"
   ]
  }
 ],
 "metadata": {
  "kernelspec": {
   "display_name": "Julia 1.8.5",
   "language": "julia",
   "name": "julia-1.8"
  },
  "language_info": {
   "file_extension": ".jl",
   "mimetype": "application/julia",
   "name": "julia",
   "version": "1.8.5"
  }
 },
 "nbformat": 4,
 "nbformat_minor": 4
}
