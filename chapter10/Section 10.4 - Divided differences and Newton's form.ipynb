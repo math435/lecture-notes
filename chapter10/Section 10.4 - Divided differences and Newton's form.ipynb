{
 "cells": [
  {
   "cell_type": "markdown",
   "metadata": {},
   "source": [
    "---\n",
    "# 10.4 Divided differences and Newton's form\n",
    "---"
   ]
  },
  {
   "cell_type": "markdown",
   "metadata": {},
   "source": [
    "$%%% My LaTeX definitions\n",
    "\\DeclareMathOperator{\\span}{span}\n",
    "\\newcommand{\\Pbf}{\\mathbf{P}}\n",
    "$\n",
    "The Lagrange polynomial basis can be thought of as\n",
    "\n",
    "$$\n",
    "\\phi_j(x) = \\prod_{\\substack{i = 0 \\\\ i \\neq j}}^n (x - x_i), \n",
    "\\quad j = 0,1,\\ldots,n.\n",
    "$$\n",
    "\n",
    "The **Newton polynomial** basis is defined in a very similar way:\n",
    "\n",
    "$$\n",
    "\\phi_j(x) = \\prod_{i = 0}^{j-1} (x - x_i), \n",
    "\\quad j = 0,1,\\ldots,n.\n",
    "$$\n",
    "\n",
    "\n"
   ]
  },
  {
   "cell_type": "markdown",
   "metadata": {},
   "source": [
    "Using the Newton basis, the matrix\n",
    "\n",
    "$$\n",
    "A = \n",
    "\\begin{bmatrix}\n",
    "\\phi_0(x_0) & \\phi_1(x_0) & \\cdots & \\phi_n(x_0)\\\\\n",
    "\\phi_0(x_1) & \\phi_1(x_1) & \\cdots & \\phi_n(x_1)\\\\\n",
    "\\vdots & \\vdots & \\ddots & \\vdots\\\\\n",
    "\\phi_0(x_n) & \\phi_1(x_n) & \\cdots & \\phi_n(x_n)\\\\\n",
    "\\end{bmatrix}\n",
    "$$\n",
    "\n",
    "is **lower-triangular**. This means that we can solve $Ac = y$ using **forward-substitution** in $\\mathcal{O}(n^2)$ flops."
   ]
  },
  {
   "cell_type": "markdown",
   "metadata": {},
   "source": [
    "---"
   ]
  },
  {
   "cell_type": "markdown",
   "metadata": {},
   "source": [
    "## Example\n",
    "\n",
    "The Newton polynomial basis for the data\n",
    "\n",
    "$$\n",
    "\\begin{gather}\n",
    "(x_0,y_0) = (2,1)\\\\\n",
    "(x_1,y_1) = (6,2)\\\\\n",
    "(x_2, y_2) = (4,3)\\\\\n",
    "(x_3, y_3) = (8,2)\\\\\n",
    "\\end{gather}\n",
    "$$\n",
    "\n",
    "is the following set of polynomials\n",
    "\n",
    "$$\n",
    "\\begin{align}\n",
    "\\phi_0(x) & = 1 \\\\\n",
    "\\phi_1(x) & = (x-2) \\\\\n",
    "\\phi_2(x) & = (x-2)(x-6) \\\\\n",
    "\\phi_3(x) & = (x-2)(x-6)(x-4) \\\\\n",
    "\\end{align}\n",
    "$$"
   ]
  },
  {
   "cell_type": "markdown",
   "metadata": {},
   "source": [
    "Using this basis, we find the interpolating polynomial\n",
    "\n",
    "$$p(x) = c_0 \\phi_0(x) + c_1 \\phi_1(x) + c_2 \\phi_2(x) + c_3 \\phi_3(x)$$\n",
    "\n",
    "by solving the linear system $Ac = y$, where\n",
    "\n",
    "$$\n",
    "A = \n",
    "\\begin{bmatrix}\n",
    "\\phi_0(x_0) & \\phi_1(x_0) & \\phi_2(x_0) & \\phi_3(x_0)\\\\\n",
    "\\phi_0(x_1) & \\phi_1(x_1) & \\phi_2(x_1) & \\phi_3(x_1)\\\\\n",
    "\\phi_0(x_2) & \\phi_1(x_2) & \\phi_2(x_2) & \\phi_3(x_2)\\\\\n",
    "\\phi_0(x_3) & \\phi_1(x_3) & \\phi_2(x_3) & \\phi_3(x_3)\\\\\n",
    "\\end{bmatrix}\n",
    "=\n",
    "\\begin{bmatrix}\n",
    "1 & 0 & 0 & 0 \\\\\n",
    "1 & 4 & 0 & 0 \\\\\n",
    "1 & 2 & -4 & 0 \\\\\n",
    "1 & 6 & 12 & 48 \\\\\n",
    "\\end{bmatrix}.\n",
    "$$"
   ]
  },
  {
   "cell_type": "markdown",
   "metadata": {},
   "source": [
    "Thus, $Ac = y$ is as follows.\n",
    "\n",
    "$$\n",
    "\\begin{matrix}\n",
    "c_0 & &       & &       & &       &=& 1 \\\\\n",
    "c_0 &+& 4 c_1 & &       & &       &=& 2 \\\\\n",
    "c_0 &+& 2 c_1 &-& 4c_2  & &       &=& 3 \\\\\n",
    "c_0 &+& 6 c_1 &+& 12c_2 &+& 48c_3 &=& 2 \\\\\n",
    "\\end{matrix}\n",
    "$$"
   ]
  },
  {
   "cell_type": "markdown",
   "metadata": {},
   "source": [
    "We solve this system by forward-substitution:\n",
    "\n",
    "$$\n",
    "\\begin{align}\n",
    "c_0 &= 1 \n",
    "\\\\\n",
    "c_1 &= \\frac{1}{4} (2 - c_0) = \\frac{1}{4} (2 - 1) = \\frac{1}{4} \n",
    "\\\\\n",
    "c_2 &= -\\frac{1}{4}(3 - c_0 - 2 c_1) = -\\frac{1}{4}\\left(3 - 1 - \\frac{2}{4}\\right) = -\\frac38\n",
    "\\\\\n",
    "c_3 &= \\frac{1}{48}(2 - c_0 - 6 c_1 - 12 c_2) = \\frac{1}{48}\\left(2 - 1 - \\frac{6}{4}  + 12 \\frac38\\right) = \\frac{1}{12}\n",
    "\\\\\n",
    "\\end{align}\n",
    "$$"
   ]
  },
  {
   "cell_type": "code",
   "execution_count": null,
   "metadata": {},
   "outputs": [],
   "source": [
    "x = [2, 6, 4, 8]\n",
    "y = [1, 2, 3, 2]\n",
    "\n",
    "# Define A\n",
    "A = Rational[1 0 0 0; 1 4 0 0; 1 2 -4 0; 1 6 12 48]\n",
    "\n",
    "# Solve for the Newton polynomial coefficients\n",
    "cnewt = A\\y"
   ]
  },
  {
   "cell_type": "markdown",
   "metadata": {},
   "source": [
    "Thus, the interpolating polynomial is \n",
    "\n",
    "$$\n",
    "p(x) = 1 + \\frac14(x-2) - \\frac38(x-2)(x-6) + \\frac{1}{12}(x-2)(x-6)(x-4)\n",
    "$$"
   ]
  },
  {
   "cell_type": "code",
   "execution_count": null,
   "metadata": {},
   "outputs": [],
   "source": [
    "########################################\n",
    "function newtinterp(x::Vector, y::Vector)\n",
    "    n = length(x)\n",
    "\n",
    "    # Compute the matrix A corresponding to the Newton basis\n",
    "    A = [prod(Float64[x[i] - x[k] for k=1:j]) for i=1:n, j=0:n-1]\n",
    "\n",
    "    # Solve Ac = y\n",
    "    c = A\\y\n",
    "end\n",
    "########################################\n",
    "\n",
    "x = [2, 6, 4, 8]\n",
    "y = [1, 2, 3, 2]\n",
    "\n",
    "newtinterp(x, y)"
   ]
  },
  {
   "cell_type": "markdown",
   "metadata": {},
   "source": [
    "Let's check that we obtained the same polynomial as before."
   ]
  },
  {
   "cell_type": "code",
   "execution_count": null,
   "metadata": {},
   "outputs": [],
   "source": [
    "import SymPy\n",
    "\n",
    "x = SymPy.symbols(\"x\")\n",
    "\n",
    "phinewt = [\n",
    "    1,\n",
    "    (x - 2),\n",
    "    (x - 2)*(x - 6),\n",
    "    (x - 2)*(x - 6)*(x - 4)\n",
    "]"
   ]
  },
  {
   "cell_type": "code",
   "execution_count": null,
   "metadata": {},
   "outputs": [],
   "source": [
    "cnewt"
   ]
  },
  {
   "cell_type": "code",
   "execution_count": null,
   "metadata": {},
   "outputs": [],
   "source": [
    "using LinearAlgebra\n",
    "\n",
    "pnewt = dot(cnewt, phinewt)"
   ]
  },
  {
   "cell_type": "code",
   "execution_count": null,
   "metadata": {},
   "outputs": [],
   "source": [
    "pnewt = SymPy.expand(pnewt)"
   ]
  },
  {
   "cell_type": "code",
   "execution_count": null,
   "metadata": {},
   "outputs": [],
   "source": [
    "x = [2, 6, 4, 8]\n",
    "y = [1, 2, 3, 2]\n",
    "n = length(x) - 1\n",
    "A = Rational[xi^j for xi in x, j=0:n]\n",
    "cmono = A\\y\n",
    "\n",
    "x = SymPy.symbols(\"x\")\n",
    "phimono = [x^j for j=0:3]\n",
    "pmono = dot(cmono, phimono)"
   ]
  },
  {
   "cell_type": "code",
   "execution_count": null,
   "metadata": {},
   "outputs": [],
   "source": [
    "pmono == pnewt"
   ]
  },
  {
   "cell_type": "markdown",
   "metadata": {},
   "source": [
    "As expected, the interpolating polynomial obtained using the Newton basis matches the interpolating polynomial obtained from the monomial basis."
   ]
  },
  {
   "cell_type": "markdown",
   "metadata": {},
   "source": [
    "---"
   ]
  },
  {
   "cell_type": "markdown",
   "metadata": {},
   "source": [
    "## Divided differences\n",
    "\n",
    "Given the data points $\\left\\{(x_i,y_i)\\right\\}_{i=0}^n$, where $y_i = f(x_i)$, the Newton form of the interpolating polynomial can also be written in closed-form as:\n",
    "\n",
    "$$p(x) = \\sum_{j=0}^n c_j \\phi_j(x) = \\sum_{j=0}^n \\left( f[x_0,\\ldots,x_j] \\prod_{i=0}^{j-1}(x-x_i) \\right).$$\n",
    "\n",
    "That is, the coefficient $c_j$ of $\\phi_j(x)$ is the so-called **$j$th divided difference**:\n",
    "\n",
    "$$c_j = f[x_0,\\ldots,x_j].$$\n",
    "\n",
    "Divided differences are defined recursively by\n",
    "\n",
    "$$f[x_i] = f(x_i), \\qquad \\text{for } 1\\leq i \\leq n,$$\n",
    "\n",
    "and\n",
    "\n",
    "$$f[x_i,\\ldots,x_j] = \\frac{f[x_{i+1},\\ldots,x_j] - f[x_i,\\ldots,x_{j-1}]}{x_j - x_i}, \\qquad \\text{for } 1\\leq i < j \\leq n.$$"
   ]
  },
  {
   "cell_type": "markdown",
   "metadata": {},
   "source": [
    "## Computing the divided differences\n",
    "\n",
    "Divided differences can be nicely represented in a table as follows.\n",
    "\n",
    "$$\n",
    "\\begin{array}{c||c|ccccc}\n",
    "i & x_i & f[x_i] & f[x_{i-1},x_i] & f[x_{i-2},x_{i-1},x_i] & \\cdots & f[x_0,\\ldots,x_n] \\\\ \\hline\n",
    "0 & x_0 & f(x_0) \\\\\n",
    "1 & x_1 & f(x_1) & f[x_0,x_1] \\\\\n",
    "2 & x_2 & f(x_2) & f[x_1,x_2] & f[x_0,x_1,x_2] \\\\\n",
    "\\vdots & \\vdots & \\vdots & \\vdots & \\vdots & \\ddots  \\\\\n",
    "n & x_n & f(x_n) & f[x_{n-1},x_n] & f[x_{n-2},x_{n-1},x_n] & \\cdots & f[x_0,\\ldots,x_n] \\\\\n",
    "\\end{array}\n",
    "$$\n",
    "\n",
    "Note that the coefficients $c_j = f[x_0,\\ldots,x_j]$ of the Newton polynomial appear along the diagonal of the table."
   ]
  },
  {
   "cell_type": "markdown",
   "metadata": {},
   "source": [
    "---"
   ]
  },
  {
   "cell_type": "markdown",
   "metadata": {},
   "source": [
    "## Example\n",
    "\n",
    "Let's complete the divided difference table for the data\n",
    "\n",
    "$$\n",
    "\\begin{gather}\n",
    "(x_0,y_0) = (2,1)\\\\\n",
    "(x_1,y_1) = (6,2)\\\\\n",
    "(x_2, y_2) = (4,3)\\\\\n",
    "(x_3, y_3) = (8,2)\\\\\n",
    "\\end{gather}\n",
    "$$"
   ]
  },
  {
   "cell_type": "markdown",
   "metadata": {},
   "source": [
    "\\begin{array}{c|c|cccc}\n",
    "i & x_i & f[\\cdot] & f[\\cdot,\\cdot] & f[\\cdot,\\cdot,\\cdot] & f[\\cdot,\\cdot,\\cdot,\\cdot] \\\\\n",
    "\\hline\n",
    "0 & 2 & 1 &  &  \\\\\n",
    "1 & 6 & 2 & \\frac{2-1}{6-2} &  \\\\\n",
    "2 & 4 & 3 & \\frac{3-2}{4-6} &  & \\\\\n",
    "3 & 8 & 2 & \\frac{2-3}{8-4} &  &  \\\\\n",
    "\\end{array}"
   ]
  },
  {
   "cell_type": "markdown",
   "metadata": {},
   "source": [
    "\\begin{array}{c|c|cccc}\n",
    "i & x_i & f[\\cdot] & f[\\cdot,\\cdot] & f[\\cdot,\\cdot,\\cdot] & f[\\cdot,\\cdot,\\cdot,\\cdot] \\\\\n",
    "\\hline\n",
    "0 & 2 & 1 &  &  \\\\\n",
    "1 & 6 & 2 & \\frac{1}{4} &  \\\\\n",
    "2 & 4 & 3 & -\\frac{1}{2} & \\frac{-\\frac12 - \\frac14}{4-2} & \\\\\n",
    "3 & 8 & 2 & -\\frac{1}{4} & \\frac{-\\frac14 + \\frac12}{8-6} &  \\\\\n",
    "\\end{array}"
   ]
  },
  {
   "cell_type": "markdown",
   "metadata": {},
   "source": [
    "\\begin{array}{c|c|cccc}\n",
    "i & x_i & f[\\cdot] & f[\\cdot,\\cdot] & f[\\cdot,\\cdot,\\cdot] & f[\\cdot,\\cdot,\\cdot,\\cdot] \\\\\n",
    "\\hline\n",
    "0 & 2 & 1 &  &  \\\\\n",
    "1 & 6 & 2 & \\frac{1}{4} &  \\\\\n",
    "2 & 4 & 3 & -\\frac{1}{2} & -\\frac38 & \\\\\n",
    "3 & 8 & 2 & -\\frac{1}{4} & \\frac18 & \\frac{\\frac18 + \\frac38}{8-2} \\\\\n",
    "\\end{array}"
   ]
  },
  {
   "cell_type": "markdown",
   "metadata": {},
   "source": [
    "\\begin{array}{c|c|cccc}\n",
    "i & x_i & f[\\cdot] & f[\\cdot,\\cdot] & f[\\cdot,\\cdot,\\cdot] & f[\\cdot,\\cdot,\\cdot,\\cdot] \\\\\n",
    "\\hline\n",
    "0 & 2 & 1 &  &  \\\\\n",
    "1 & 6 & 2 & \\frac{1}{4} &  \\\\\n",
    "2 & 4 & 3 & -\\frac{1}{2} & -\\frac38 & \\\\\n",
    "3 & 8 & 2 & -\\frac{1}{4} & \\frac18 & \\frac{1}{12} \\\\\n",
    "\\end{array}"
   ]
  },
  {
   "cell_type": "markdown",
   "metadata": {},
   "source": [
    "Thus, the interpolating polynomial is \n",
    "\n",
    "$$\n",
    "p(x) = 1 + \\frac14(x-2) - \\frac38(x-2)(x-6) + \\frac{1}{12}(x-2)(x-6)(x-4).\n",
    "$$\n",
    "\n",
    "Note that the Newton form can be evaluated using a nested approach:\n",
    "\n",
    "$$\n",
    "p(x) = 1 + (x-2)\\Bigg( \\frac14 + (x-6)\\bigg(-\\frac38 + \\frac{1}{12}(x-4)\\bigg) \\Bigg).\n",
    "$$"
   ]
  },
  {
   "cell_type": "markdown",
   "metadata": {},
   "source": [
    "---"
   ]
  },
  {
   "cell_type": "markdown",
   "metadata": {},
   "source": [
    "## Computing the divided differences"
   ]
  },
  {
   "cell_type": "code",
   "execution_count": null,
   "metadata": {},
   "outputs": [],
   "source": [
    "###############################\n",
    "function divdif(x::Vector{T}, y::Vector{T}) where T\n",
    "\n",
    "    n = length(x)\n",
    "    Table = zeros(T, n, n)\n",
    "    \n",
    "    Table[:, 1] = y\n",
    "    for k = 2:n\n",
    "        for i=k:n\n",
    "            Table[i, k] = Table[i, k-1] - Table[i-1, k-1]\n",
    "            Table[i, k] /= x[i] - x[i-k+1]\n",
    "        end\n",
    "    end\n",
    "    \n",
    "    c = diag(Table)\n",
    "    \n",
    "    return c, Table\n",
    "end\n",
    "###############################"
   ]
  },
  {
   "cell_type": "code",
   "execution_count": null,
   "metadata": {},
   "outputs": [],
   "source": [
    "x = [2, 6, 4, 8//1]\n",
    "y = [1, 2, 3, 2//1]\n",
    "c, T = divdif(x, y)\n",
    "T"
   ]
  },
  {
   "cell_type": "code",
   "execution_count": null,
   "metadata": {},
   "outputs": [],
   "source": [
    "###############################\n",
    "function evalnewt(\n",
    "        xspan::AbstractVector, \n",
    "        x::Vector, \n",
    "        c::Vector)\n",
    "    n = length(x)\n",
    "    \n",
    "    p = c[n]*ones(length(xspan))\n",
    "    for i = 1:length(p)\n",
    "        for j = n-1:-1:1\n",
    "            p[i] *= xspan[i] - x[j]\n",
    "            p[i] += c[j]\n",
    "        end\n",
    "    end\n",
    "    \n",
    "    return p\n",
    "end\n",
    "\n",
    "evalnewt(xx::Real, x::Vector, c::Vector) = evalnewt([xx], x, c)[1]\n",
    "###############################"
   ]
  },
  {
   "cell_type": "code",
   "execution_count": null,
   "metadata": {},
   "outputs": [],
   "source": [
    "xx = [2, 6, 4, 8.]\n",
    "yy = [1, 2, 3, 2.]\n",
    "c, T = divdif(xx, yy)\n",
    "c"
   ]
  },
  {
   "cell_type": "code",
   "execution_count": null,
   "metadata": {},
   "outputs": [],
   "source": [
    "p(x) = evalnewt(x, xx, c)\n",
    "p(4.0)"
   ]
  },
  {
   "cell_type": "code",
   "execution_count": null,
   "metadata": {},
   "outputs": [],
   "source": [
    "using Plots, LaTeXStrings\n",
    "\n",
    "a, b = 1, 9\n",
    "\n",
    "plot(legend=:bottomright, xlabel=L\"x\", ylabel=L\"y\")\n",
    "plot!(p, a, b, label=L\"y = p(x)\")\n",
    "scatter!(xx, yy, label=:none, c=1)"
   ]
  },
  {
   "cell_type": "markdown",
   "metadata": {},
   "source": [
    "---"
   ]
  },
  {
   "cell_type": "markdown",
   "metadata": {},
   "source": [
    "> ## Theorem: (Divided Differences and Newton's Form)\n",
    ">\n",
    ">Given the data points $\\left\\{(x_i,y_i)\\right\\}_{i=0}^n$, where $y_i = f(x_i)$, the Newton form of the interpolating polynomial can be written as:\n",
    ">\n",
    ">$$p(x) = \\sum_{j=0}^n \\left( f[x_0,\\ldots,x_j] \\prod_{i=0}^{j-1}(x-x_i) \\right),$$\n",
    ">\n",
    ">where the divided differences are defined recursively by\n",
    ">\n",
    ">$$f[x_i] = f(x_i), \\qquad \\text{for } 1\\leq i \\leq n,$$\n",
    ">\n",
    ">and\n",
    ">\n",
    ">$$f[x_i,\\ldots,x_j] = \\frac{f[x_{i+1},\\ldots,x_j] - f[x_i,\\ldots,x_{j-1}]}{x_j - x_i}, \\qquad \\text{for } 1\\leq i < j \\leq n.$$"
   ]
  },
  {
   "cell_type": "markdown",
   "metadata": {},
   "source": [
    "## Proof:\n",
    "\n",
    "We will prove this fact by induction on $n$. When $n=1$, we are interpolating the data points $(x_0, f(x_0))$ and $(x_1, f(x_1))$ using the basis\n",
    "\n",
    "$$\n",
    "\\begin{align}\n",
    "\\phi_0(x) & = 1, \\\\\n",
    "\\phi_1(x) & = (x-x_0). \\\\\n",
    "\\end{align}\n",
    "$$\n",
    "\n",
    "Thus we want to find $c_0$ and $c_1$ such that\n",
    "\n",
    "$$p(x) = c_0 + c_1 (x-x_0)$$\n",
    "\n",
    "satisfies $p(x_0) = f(x_0)$ and $p(x_1) = f(x_1)$. This gives us the following linear system.\n",
    "\n",
    "$$\n",
    "\\begin{matrix}\n",
    "c_0 & &                 &=& f(x_0) \\\\\n",
    "c_0 &+& (x_1 - x_0) c_1 &=& f(x_1) \\\\\n",
    "\\end{matrix}\n",
    "$$\n",
    "\n",
    "Thus,\n",
    "\n",
    "$$c_0 = f(x_0) = f[x_0], \\qquad \\text{and} \\qquad c_1 = \\frac{f(x_1)-f(x_0)}{x_1-x_0} = \\frac{f[x_1]-f[x_0]}{x_1-x_0} = f[x_0,x_1],$$\n",
    "\n",
    "as required."
   ]
  },
  {
   "cell_type": "markdown",
   "metadata": {},
   "source": [
    "Now we suppose the result is true for $n = k$, and we will prove that this implies the result is true for $n = k+1$. \n",
    "\n",
    "Let $p(x)$ be the unique polynomial of degree at most $k+1$ that interpolates the $k+2$ points $(x_0, f(x_0)), \\ldots, (x_{k+1}, f(x_{k+1}))$. \n",
    "\n",
    "Let $q_0(x)$ be the unique polynomial of degree at most $k$ that interpolates the first $k+1$ points $(x_0, f(x_0)), \\ldots, (x_{k}, f(x_{k}))$.\n",
    "\n",
    "Let $q_1(x)$ be the unique polynomial of degree at most $k$ that interpolates the last $k+1$ points $(x_1, f(x_1)), \\ldots, (x_{k+1}, f(x_{k+1}))$. \n",
    "\n",
    "By the induction assumption, we have\n",
    "\n",
    "$$\n",
    "q_0(x) = \\sum_{j=0}^{k} \\left( f[x_0,\\ldots,x_j] \\prod_{i=0}^{j-1}(x-x_i) \\right)\n",
    "$$\n",
    "and\n",
    "$$\n",
    "q_1(x) = \\sum_{j=1}^{k+1} \\left( f[x_1,\\ldots,x_j] \\prod_{i=1}^{j-1}(x-x_i) \\right).\n",
    "$$"
   ]
  },
  {
   "cell_type": "markdown",
   "metadata": {},
   "source": [
    "To obtain $p(x)$ we just need to add to $q_0(x)$ a multiple of the basis polynomial $\\prod_{i=0}^k (x-x_i)$:\n",
    "\n",
    "$$p(x) = q_0(x) + c_{k+1} \\prod_{i=0}^k (x-x_i).$$\n",
    "\n",
    "If $c_{k+1}$ satisfies\n",
    "\n",
    "$$f(x_{k+1}) = q_0(x_{k+1}) + c_{k+1} \\prod_{i=0}^k (x_{k+1}-x_i),$$\n",
    "\n",
    "then $p(x)$ will interpolate $(x_0, f(x_0)), \\ldots, (x_{k+1}, f(x_{k+1}))$."
   ]
  },
  {
   "cell_type": "markdown",
   "metadata": {},
   "source": [
    "In a similar way, we can add to $q_1(x)$ a multiple of the basis polynomial $\\prod_{i=1}^{k+1} (x-x_i)$ to obtain $p(x)$. Thus,\n",
    "\n",
    "$$p(x) = q_1(x) + c_{k+1}' \\prod_{i=1}^{k+1} (x-x_i),$$\n",
    "\n",
    "where $c_{k+1}'$ satisfies\n",
    "\n",
    "$$f(x_0) = q_1(x_0) + c_{k+1}' \\prod_{i=1}^{k+1} (x_0-x_i).$$\n"
   ]
  },
  {
   "cell_type": "markdown",
   "metadata": {},
   "source": [
    "Now we have that \n",
    "\n",
    "$$q_0(x) + c_{k+1} \\prod_{i=0}^k (x-x_i) = q_1(x) + c_{k+1}' \\prod_{i=1}^{k+1} (x-x_i).$$\n",
    "\n",
    "Thus\n",
    "\n",
    "$$\n",
    "\\frac{d^{k+1}}{dx^{k+1}}\\left(q_0(x) + c_{k+1} \\prod_{i=0}^k (x-x_i)\\right) \n",
    "= \n",
    "\\frac{d^{k+1}}{dx^{k+1}}\\left(q_1(x) + c_{k+1}' \\prod_{i=1}^{k+1} (x-x_i)\\right).\n",
    "$$\n",
    "\n",
    "Since $q_0(x)$ and $q_1(x)$ have degree at most $k$, and \n",
    "\n",
    "$$\n",
    "\\prod_{i=0}^k (x-x_i) = x^{k+1} + \\cdots\n",
    "\\qquad\n",
    "\\text{and}\n",
    "\\qquad\n",
    "\\prod_{i=1}^{k+1} (x-x_i) = x^{k+1} + \\cdots,\n",
    "$$\n",
    "\n",
    "we have \n",
    "\n",
    "$$0 + c_{k+1}(k+1)! = 0 + c_{k+1}'(k+1)!,$$\n",
    "\n",
    "which implies $c_{k+1} = c_{k+1}'$.\n",
    "\n",
    "\n",
    "\n",
    "Thus we have\n",
    "\n",
    "$$\n",
    "q_0(x) + c_{k+1} \\prod_{i=0}^k (x-x_i) \n",
    "= \n",
    "q_1(x) + c_{k+1} \\prod_{i=1}^{k+1} (x-x_i).\n",
    "$$"
   ]
  },
  {
   "cell_type": "markdown",
   "metadata": {},
   "source": [
    "Now consider \n",
    "\n",
    "$$\n",
    "\\frac{d^k}{dx^k}\\left(q_0(x) + c_{k+1} \\prod_{i=0}^k (x-x_i)\\right)\n",
    "= \n",
    "\\frac{d^k}{dx^k}\\left(q_1(x) + c_{k+1} \\prod_{i=1}^{k+1} (x-x_i)\\right).\n",
    "$$\n",
    "\n",
    "Note that\n",
    "\n",
    "$$\n",
    "q_0(x) = f[x_0,\\ldots,x_k] x^k + \\cdots\n",
    "\\quad \\text{and} \\quad\n",
    "q_1(x) = f[x_1,\\ldots,x_{k+1}] x^k + \\cdots.\n",
    "$$\n",
    "\n",
    "Also,\n",
    "\n",
    "$$\n",
    "\\prod_{i=0}^k (x-x_i) = x^{k+1} - x^{k}\\sum_{i=0}^k x_i + \\cdots\n",
    "\\quad \\text{and} \\quad\n",
    "\\prod_{i=1}^{k+1} (x-x_i) = x^{k+1} - x^{k}\\sum_{i=1}^{k+1} x_i + \\cdots.\n",
    "$$"
   ]
  },
  {
   "cell_type": "markdown",
   "metadata": {},
   "source": [
    "Thus,\n",
    "\n",
    "$$\n",
    "k! f[x_0,\\ldots,x_k] + c_{k+1} \\left((k+1)!x - k! \\sum_{i=0}^k x_i\\right)\n",
    "$$\n",
    "$$\n",
    "=\n",
    "k! f[x_1,\\ldots,x_{k+1}] + c_{k+1} \\left((k+1)!x - k! \\sum_{i=1}^{k+1} x_i\\right).\n",
    "$$\n",
    "\n",
    "Dividing by $k!$, and rearranging, we have\n",
    "\n",
    "$$\n",
    "c_{k+1} \\left((k+1)x - \\sum_{i=0}^k x_i\\right) - c_{k+1} \\left((k+1)x - \\sum_{i=1}^{k+1} x_i\\right)\n",
    "=\n",
    "f[x_1,\\ldots,x_{k+1}] - f[x_0,\\ldots,x_k].\n",
    "$$\n",
    "\n",
    "Canceling common terms, we have\n",
    "\n",
    "$$\n",
    "c_{k+1} \\left(\\sum_{i=1}^{k+1} x_i - \\sum_{i=0}^k x_i\\right)\n",
    "=\n",
    "f[x_1,\\ldots,x_{k+1}] - f[x_0,\\ldots,x_k],\n",
    "$$\n",
    "\n",
    "which becomes\n",
    "\n",
    "$$\n",
    "c_{k+1} \\left(x_{k+1} - x_0\\right)\n",
    "=\n",
    "f[x_1,\\ldots,x_{k+1}] - f[x_0,\\ldots,x_k].\n",
    "$$\n",
    "\n",
    "Finally,\n",
    "\n",
    "$$\n",
    "c_{k+1}\n",
    "=\n",
    "\\frac{f[x_1,\\ldots,x_{k+1}] - f[x_0,\\ldots,x_k]}{x_{k+1} - x_0} = f[x_0,\\ldots,x_{k+1}].\n",
    "$$\n",
    "\n",
    "Therefore,\n",
    "\n",
    "$$p(x) = q_0(x) + c_{k+1} \\prod_{i=0}^k (x-x_i) = \\sum_{j=0}^{k+1} \\left( f[x_0,\\ldots,x_j] \\prod_{i=0}^{j-1}(x-x_i) \\right),$$\n",
    "\n",
    "as required. $\\blacksquare$\n"
   ]
  },
  {
   "cell_type": "markdown",
   "metadata": {},
   "source": [
    "---"
   ]
  },
  {
   "cell_type": "markdown",
   "metadata": {},
   "source": [
    "## Pros and cons of Newton interpolation\n",
    "\n",
    "Pros:\n",
    "\n",
    "1. **Constructing $p(x)$ is fast**: roughly $\\frac32n^2$ flops to compute the coefficients\n",
    "2. **Evaluating $p(x)$ is fast**: about $3n$ flops to compute $p(x)$ compared to $2n$ flops using Horner's Rule\n",
    "3. **Adding a new interpolation point is fast**: table of divided differences can be updated in $\\mathcal{O}(n)$ flops\n",
    "4. **Can be extended to also interpolate derivative values** (Section 10.7)\n",
    "\n",
    "Cons:\n",
    "\n",
    "4. **Cannot easily change the function**: the entire table of divided differences changes when using a different function $f$\n"
   ]
  },
  {
   "cell_type": "markdown",
   "metadata": {},
   "source": [
    "---"
   ]
  }
 ],
 "metadata": {
  "kernelspec": {
   "display_name": "Julia 1.5.3",
   "language": "julia",
   "name": "julia-1.5"
  },
  "language_info": {
   "file_extension": ".jl",
   "mimetype": "application/julia",
   "name": "julia",
   "version": "1.5.3"
  }
 },
 "nbformat": 4,
 "nbformat_minor": 1
}
