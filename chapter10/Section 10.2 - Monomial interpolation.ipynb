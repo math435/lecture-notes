{
 "cells": [
  {
   "cell_type": "markdown",
   "metadata": {},
   "source": [
    "$%%% My LaTeX definitions\n",
    "\\DeclareMathOperator{\\span}{span}\n",
    "\\newcommand{\\Pbf}{\\mathbf{P}}\n",
    "$\n",
    "\n",
    "---\n",
    "\n",
    "# 10.2 Monomial interpolation\n",
    "\n",
    "---"
   ]
  },
  {
   "cell_type": "markdown",
   "metadata": {},
   "source": [
    "When using the **monomial basis** $\\{1, x, x^2, \\ldots, x^n\\}$ to find the polynomial $p(x) \\in \\Pbf_n$ that interpolates the data point $\\{(x_i,y_i)\\}_{i=0}^n$, the matrix $A$ is given by\n",
    "\n",
    "$$\n",
    "A = \n",
    "\\begin{bmatrix}\n",
    "1 & x_0 & \\cdots & x_0^n\\\\\n",
    "1 & x_1 & \\cdots & x_1^n\\\\\n",
    "\\vdots & \\vdots & \\ddots & \\vdots\\\\\n",
    "1 & x_n & \\cdots & x_n^n\\\\\n",
    "\\end{bmatrix}.\n",
    "$$\n",
    "\n",
    "This is a [Vandermonde matrix](http://en.wikipedia.org/wiki/Vandermonde_matrix). "
   ]
  },
  {
   "cell_type": "markdown",
   "metadata": {},
   "source": [
    "## Determinant of the Vandermonde matrix\n",
    "\n",
    "We can compute the determinant of $A$ as follows (using $n=3$ for simplicity).\n",
    "\n",
    "First we do some row-reduction which does not change the determinant.\n",
    "\n",
    "$$\n",
    "\\begin{align}\n",
    "\\det(A)\n",
    "& = \n",
    "\\begin{vmatrix}\n",
    "1 & x_0 & x_0^2 & x_0^3\\\\\n",
    "1 & x_1 & x_1^2 & x_1^3\\\\\n",
    "1 & x_2 & x_2^2 & x_2^3\\\\\n",
    "1 & x_3 & x_3^2 & x_3^3\\\\\n",
    "\\end{vmatrix} \\\\ \\\\\n",
    "& = \n",
    "\\begin{vmatrix}\n",
    "1 & x_0 & x_0^2 & x_0^3\\\\\n",
    "0 & x_1-x_0 & x_1^2-x_0^2 & x_1^3-x_0^3\\\\\n",
    "0 & x_2-x_0 & x_2^2-x_0^2 & x_2^3-x_0^3\\\\\n",
    "0 & x_3-x_0 & x_3^2-x_0^2 & x_3^3-x_0^3\\\\\n",
    "\\end{vmatrix} \\\\ \\\\\n",
    "\\end{align}\n",
    "$$"
   ]
  },
  {
   "cell_type": "markdown",
   "metadata": {},
   "source": [
    "Then we do some column-reduction steps, which again do not change the determinant.\n",
    "\n",
    "$$\n",
    "\\begin{align}\n",
    "\\det(A)\n",
    "& = \n",
    "\\begin{vmatrix}\n",
    "1 & x_0 & x_0^2 & 0 \\\\\n",
    "0 & x_1-x_0 & x_1^2-x_0^2 & x_1^3-x_0^3 - x_0(x_1^2-x_0^2)\\\\\n",
    "0 & x_2-x_0 & x_2^2-x_0^2 & x_2^3-x_0^3 - x_0(x_2^2-x_0^2)\\\\\n",
    "0 & x_3-x_0 & x_3^2-x_0^2 & x_3^3-x_0^3 - x_0(x_3^2-x_0^2)\\\\\n",
    "\\end{vmatrix} \\\\ \\\\\n",
    "& = \n",
    "\\begin{vmatrix}\n",
    "1 & x_0 & x_0^2 & 0 \\\\\n",
    "0 & x_1-x_0 & x_1^2-x_0^2 & (x_1 - x_0)x_1^2\\\\\n",
    "0 & x_2-x_0 & x_2^2-x_0^2 & (x_2 - x_0)x_2^2\\\\\n",
    "0 & x_3-x_0 & x_3^2-x_0^2 & (x_3 - x_0)x_3^2\\\\\n",
    "\\end{vmatrix} \\\\ \\\\\n",
    "& = \n",
    "\\begin{vmatrix}\n",
    "1 & x_0 & 0 & 0 \\\\\n",
    "0 & x_1-x_0 & (x_1 - x_0)x_1 & (x_1 - x_0)x_1^2\\\\\n",
    "0 & x_2-x_0 & (x_2 - x_0)x_2 & (x_2 - x_0)x_2^2\\\\\n",
    "0 & x_3-x_0 & (x_3 - x_0)x_3 & (x_3 - x_0)x_3^2\\\\\n",
    "\\end{vmatrix} \\\\ \\\\\n",
    "& = \n",
    "\\begin{vmatrix}\n",
    "1 & 0 & 0 & 0 \\\\\n",
    "0 & x_1-x_0 & (x_1 - x_0)x_1 & (x_1 - x_0)x_1^2\\\\\n",
    "0 & x_2-x_0 & (x_2 - x_0)x_2 & (x_2 - x_0)x_2^2\\\\\n",
    "0 & x_3-x_0 & (x_3 - x_0)x_3 & (x_3 - x_0)x_3^2\\\\\n",
    "\\end{vmatrix} \\\\ \\\\\n",
    "\\end{align}\n",
    "$$"
   ]
  },
  {
   "cell_type": "markdown",
   "metadata": {},
   "source": [
    "Next, we pull out the common factors in each of the last three rows.\n",
    "\n",
    "$$\n",
    "\\begin{align}\n",
    "\\det(A)\n",
    "& = \n",
    "\\begin{vmatrix}\n",
    "1 & 0 & 0 & 0 \\\\\n",
    "0 & 1 & x_1 & x_1^2\\\\\n",
    "0 & 1 & x_2 & x_2^2\\\\\n",
    "0 & 1 & x_3 & x_3^2\\\\\n",
    "\\end{vmatrix} (x_1-x_0)(x_2-x_0)(x_3-x_0) \\\\ \\\\\n",
    "\\end{align}\n",
    "$$\n",
    "\n",
    "We repeat the above process on the bottom-right $3 \\times 3$ submatrix.\n",
    "\n",
    "$$\n",
    "\\begin{align}\n",
    "\\det(A)\n",
    "& = \n",
    "\\begin{vmatrix}\n",
    "1 & 0 & 0 & 0 \\\\\n",
    "0 & 1 & 0 & 0 \\\\\n",
    "0 & 0 & 1 & x_2\\\\\n",
    "0 & 0 & 1 & x_3\\\\\n",
    "\\end{vmatrix} (x_2-x_1)(x_3-x_1)\\cdot(x_1-x_0)(x_2-x_0)(x_3-x_0) \\\\ \\\\\n",
    "\\end{align}\n",
    "$$"
   ]
  },
  {
   "cell_type": "markdown",
   "metadata": {},
   "source": [
    "Repeating the above process, this time on the bottom-right $2 \\times 2$ submatrix, we obtain.\n",
    "\n",
    "$$\n",
    "\\begin{align}\n",
    "\\det(A)\n",
    "& = \n",
    "\\begin{vmatrix}\n",
    "1 & 0 & 0 & 0 \\\\\n",
    "0 & 1 & 0 & 0 \\\\\n",
    "0 & 0 & 1 & 0 \\\\\n",
    "0 & 0 & 0 & 1 \\\\\n",
    "\\end{vmatrix} (x_3-x_2)\\cdot(x_2-x_1)(x_3-x_1)\\cdot(x_1-x_0)(x_2-x_0)(x_3-x_0) \\\\ \\\\\n",
    "\\end{align}\n",
    "$$\n",
    "\n",
    "Therefore, \n",
    "$$\\det(A) = (x_3-x_2)\\cdot(x_2-x_1)(x_3-x_1)\\cdot(x_1-x_0)(x_2-x_0)(x_3-x_0).$$"
   ]
  },
  {
   "cell_type": "markdown",
   "metadata": {},
   "source": [
    "In general,\n",
    "$$\\det(A) = \\prod_{0\\leq i < j \\leq n} (x_j - x_i).$$\n",
    "\n",
    "(See https://proofwiki.org/wiki/Vandermonde_Determinant for the full proof.)\n",
    "\n",
    "Thus, if $x_i \\neq x_j$ for $i \\neq j$, then $\\det(A) \\neq 0$, so $A$ is invertible. Therefore, $Ac = y$ has exactly one solution which implies that there always exists a unique interpolating polynomial when the $x_i$ are distinct."
   ]
  },
  {
   "cell_type": "markdown",
   "metadata": {},
   "source": [
    "---"
   ]
  },
  {
   "cell_type": "markdown",
   "metadata": {},
   "source": [
    "## An implementation of monomial interpolation"
   ]
  },
  {
   "cell_type": "code",
   "execution_count": null,
   "metadata": {},
   "outputs": [],
   "source": [
    "function vandermonde(x)\n",
    "    n = length(x) - 1\n",
    "    \n",
    "    return [x[i+1]^j for i=0:n, j=0:n]\n",
    "end"
   ]
  },
  {
   "cell_type": "code",
   "execution_count": null,
   "metadata": {},
   "outputs": [],
   "source": [
    "x = [2, 3, 4, -1.]\n",
    "A = vandermonde(x)"
   ]
  },
  {
   "cell_type": "code",
   "execution_count": null,
   "metadata": {},
   "outputs": [],
   "source": [
    "# Returns the coefficients c = [c_0, c_1, ..., c_n] of \n",
    "# the unique polynomial of degree n\n",
    "#\n",
    "#     p(x) = c_0 + c_1 x + ... + c_n x^n\n",
    "#\n",
    "# that passes through the n+1 points \n",
    "#\n",
    "#    (x_0, y_0), ..., (x_n, y_n).\n",
    "function monointerp(x, y)\n",
    "    A = vandermonde(x)\n",
    "    \n",
    "    # c = inv(A)*y <= DON'T DO THIS\n",
    "    \n",
    "    # Solve A*c = y for c\n",
    "    c = A\\y\n",
    "    \n",
    "    return c\n",
    "end"
   ]
  },
  {
   "cell_type": "markdown",
   "metadata": {},
   "source": [
    "---"
   ]
  },
  {
   "cell_type": "markdown",
   "metadata": {},
   "source": [
    "## Example\n",
    "\n",
    "Find the polynomial\n",
    "\n",
    "$$p_1(x) = c_0 + c_1 x$$\n",
    "\n",
    "that interpolates the following data points.\n",
    "\n",
    "$$\n",
    "\\begin{gather}\n",
    "(x_0,y_0) = (2,1)\\\\\n",
    "(x_1,y_1) = (6,2)\\\\\n",
    "\\end{gather}\n",
    "$$\n",
    "\n",
    "What are the values of $p_1(3)$, $p_1(5)$, and $p_1(7)$?"
   ]
  },
  {
   "cell_type": "code",
   "execution_count": null,
   "metadata": {},
   "outputs": [],
   "source": [
    "x = [2, 6.]\n",
    "y = [1, 2.]\n",
    "\n",
    "c1 = monointerp(x, y)"
   ]
  },
  {
   "cell_type": "markdown",
   "metadata": {},
   "source": [
    "$$\n",
    "p_1(x) = \\frac12 + \\frac14 x\n",
    "$$"
   ]
  },
  {
   "cell_type": "code",
   "execution_count": null,
   "metadata": {},
   "outputs": [],
   "source": [
    "# Evaluate the polynomial \n",
    "#\n",
    "#     p(x) = c_0 + c_1 x + ... + c_n x^n\n",
    "#\n",
    "# where c = [c_0, c_1, ..., c_n] using Horner's Rule.\n",
    "function horner(x::AbstractVector, c)\n",
    "    \n",
    "    n = length(c) - 1\n",
    "    p = c[n+1]*ones(length(x))\n",
    "    for j = n:-1:1\n",
    "        p .= p.*x .+ c[j]\n",
    "    end\n",
    "    \n",
    "    return p\n",
    "end\n",
    "\n",
    "horner(x::Real, c) = horner([x], c)[1]"
   ]
  },
  {
   "cell_type": "code",
   "execution_count": null,
   "metadata": {},
   "outputs": [],
   "source": [
    "p1(x) = horner(x, c1)\n",
    "\n",
    "xvals = [3, 5, 7.]\n",
    "\n",
    "p1(xvals)"
   ]
  },
  {
   "cell_type": "code",
   "execution_count": null,
   "metadata": {},
   "outputs": [],
   "source": [
    "p1(3.0)"
   ]
  },
  {
   "cell_type": "markdown",
   "metadata": {},
   "source": [
    "---"
   ]
  },
  {
   "cell_type": "markdown",
   "metadata": {},
   "source": [
    "## Exercise 1\n",
    "\n",
    "Find the polynomial\n",
    "\n",
    "$$p_2(x) = c_0 + c_1 x + c_2 x^2$$\n",
    "\n",
    "that interpolates the following data points.\n",
    "\n",
    "$$\n",
    "\\begin{gather}\n",
    "(x_0,y_0) = (2,1)\\\\\n",
    "(x_1,y_1) = (6,2)\\\\\n",
    "(x_2, y_2) = (4,3)\\\\\n",
    "\\end{gather}\n",
    "$$\n",
    "\n",
    "What are the values of $p_2(3)$, $p_2(5)$, and $p_2(7)$?"
   ]
  },
  {
   "cell_type": "code",
   "execution_count": null,
   "metadata": {},
   "outputs": [],
   "source": [
    "x = [2, 6, 4.0]\n",
    "y = [1, 2, 3.0]\n",
    "\n",
    "c2 = monointerp(x, y)"
   ]
  },
  {
   "cell_type": "markdown",
   "metadata": {},
   "source": [
    "$$\n",
    "p_2(x) = -4 + \\frac{13}{4} x - \\frac38 x^2\n",
    "$$"
   ]
  },
  {
   "cell_type": "code",
   "execution_count": null,
   "metadata": {},
   "outputs": [],
   "source": [
    "p2(x) = horner(x, c2)\n",
    "\n",
    "p2(xvals)"
   ]
  },
  {
   "cell_type": "markdown",
   "metadata": {},
   "source": [
    "---"
   ]
  },
  {
   "cell_type": "markdown",
   "metadata": {},
   "source": [
    "## Exercise 2\n",
    "\n",
    "Find the polynomial\n",
    "\n",
    "$$p_3(x) = c_0 + c_1 x + c_2 x^2 + c_3 x^3$$\n",
    "\n",
    "that interpolates the following data points.\n",
    "\n",
    "$$\n",
    "\\begin{gather}\n",
    "(x_0,y_0) = (2,1)\\\\\n",
    "(x_1,y_1) = (6,2)\\\\\n",
    "(x_2, y_2) = (4,3)\\\\\n",
    "(x_3, y_3) = (8,2)\\\\\n",
    "\\end{gather}\n",
    "$$\n",
    "\n",
    "What are the values of $p_3(3)$, $p_3(5)$, and $p_3(7)$?    "
   ]
  },
  {
   "cell_type": "code",
   "execution_count": null,
   "metadata": {},
   "outputs": [],
   "source": [
    "x = [2, 6, 4, 8.0]\n",
    "y = [1, 2, 3, 2.0]\n",
    "\n",
    "c3 = monointerp(x, y)"
   ]
  },
  {
   "cell_type": "code",
   "execution_count": null,
   "metadata": {},
   "outputs": [],
   "source": [
    "p3(x) = horner(x, c3)\n",
    "\n",
    "p3(xvals)"
   ]
  },
  {
   "cell_type": "markdown",
   "metadata": {},
   "source": [
    "---"
   ]
  },
  {
   "cell_type": "markdown",
   "metadata": {},
   "source": [
    "## Exercise 3\n",
    "\n",
    "Plot $p_1$, $p_2$, and $p_3$ together with all four data points."
   ]
  },
  {
   "cell_type": "code",
   "execution_count": null,
   "metadata": {},
   "outputs": [],
   "source": [
    "using Plots, LaTeXStrings\n",
    "\n",
    "a, b = 1, 9\n",
    "\n",
    "plot(legend=:bottomleft, xlabel=L\"x\", ylabel=L\"y\", ylims=(-4,4), size=(600,400))\n",
    "plot!(p1, a, b, label=L\"y = p_1(x)\", lw=2)\n",
    "plot!(p2, a, b, label=L\"y = p_2(x)\", lw=2)\n",
    "plot!(p3, a, b, label=L\"y = p_3(x)\", lw=2)\n",
    "scatter!(x, y, c=:red, label=:none)"
   ]
  },
  {
   "cell_type": "markdown",
   "metadata": {},
   "source": [
    "---"
   ]
  },
  {
   "cell_type": "markdown",
   "metadata": {},
   "source": [
    "## Pros and cons of monomial interpolation\n",
    "\n",
    "Pros:\n",
    "\n",
    "1. **Simple**: just need to form $A$ and solve $Ac = y$\n",
    "\n",
    "2. **Evaluating $p(x)$ is fast**: about $2n$ flops to compute $p(x)$ using Horner's Rule\n",
    "\n",
    "Cons:\n",
    "\n",
    "1. **Constructing $p(x)$ is expensive**: about $\\frac{2}{3}n^3$ flops to solve $Ac = y$ using Gaussian elimination\n",
    "\n",
    "2. **Adding a new data point is expensive**: must form $A$ and solve $Ac = y$ again\n",
    "\n",
    "3. **Solving $Ac = y$ is often inaccurate**: the Vandermonde matrix is often ill-conditioned.\n",
    "\n"
   ]
  },
  {
   "cell_type": "markdown",
   "metadata": {},
   "source": [
    "---"
   ]
  }
 ],
 "metadata": {
  "kernelspec": {
   "display_name": "Julia 1.8.5",
   "language": "julia",
   "name": "julia-1.8"
  },
  "language_info": {
   "file_extension": ".jl",
   "mimetype": "application/julia",
   "name": "julia",
   "version": "1.8.5"
  }
 },
 "nbformat": 4,
 "nbformat_minor": 4
}
